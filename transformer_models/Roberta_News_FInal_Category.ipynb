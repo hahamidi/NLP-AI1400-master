{
 "cells": [
  {
   "cell_type": "markdown",
   "metadata": {
    "id": "83xD9vTJi70h"
   },
   "source": [
    "# Libraries"
   ]
  },
  {
   "cell_type": "code",
   "execution_count": 1,
   "metadata": {
    "colab": {
     "base_uri": "https://localhost:8080/"
    },
    "id": "KOvjwrvji2LW",
    "outputId": "a1fdc125-e9db-4419-e346-d6aed0a64fa0"
   },
   "outputs": [
    {
     "name": "stdout",
     "output_type": "stream",
     "text": [
      "Requirement already satisfied: transformers in /usr/local/lib/python3.7/dist-packages (4.16.2)\n",
      "Requirement already satisfied: numpy>=1.17 in /usr/local/lib/python3.7/dist-packages (from transformers) (1.19.5)\n",
      "Requirement already satisfied: tokenizers!=0.11.3,>=0.10.1 in /usr/local/lib/python3.7/dist-packages (from transformers) (0.11.4)\n",
      "Requirement already satisfied: huggingface-hub<1.0,>=0.1.0 in /usr/local/lib/python3.7/dist-packages (from transformers) (0.4.0)\n",
      "Requirement already satisfied: packaging>=20.0 in /usr/local/lib/python3.7/dist-packages (from transformers) (21.3)\n",
      "Requirement already satisfied: tqdm>=4.27 in /usr/local/lib/python3.7/dist-packages (from transformers) (4.62.3)\n",
      "Requirement already satisfied: importlib-metadata in /usr/local/lib/python3.7/dist-packages (from transformers) (4.10.1)\n",
      "Requirement already satisfied: pyyaml>=5.1 in /usr/local/lib/python3.7/dist-packages (from transformers) (6.0)\n",
      "Requirement already satisfied: requests in /usr/local/lib/python3.7/dist-packages (from transformers) (2.23.0)\n",
      "Requirement already satisfied: filelock in /usr/local/lib/python3.7/dist-packages (from transformers) (3.4.2)\n",
      "Requirement already satisfied: sacremoses in /usr/local/lib/python3.7/dist-packages (from transformers) (0.0.47)\n",
      "Requirement already satisfied: regex!=2019.12.17 in /usr/local/lib/python3.7/dist-packages (from transformers) (2019.12.20)\n",
      "Requirement already satisfied: typing-extensions>=3.7.4.3 in /usr/local/lib/python3.7/dist-packages (from huggingface-hub<1.0,>=0.1.0->transformers) (3.10.0.2)\n",
      "Requirement already satisfied: pyparsing!=3.0.5,>=2.0.2 in /usr/local/lib/python3.7/dist-packages (from packaging>=20.0->transformers) (3.0.7)\n",
      "Requirement already satisfied: zipp>=0.5 in /usr/local/lib/python3.7/dist-packages (from importlib-metadata->transformers) (3.7.0)\n",
      "Requirement already satisfied: urllib3!=1.25.0,!=1.25.1,<1.26,>=1.21.1 in /usr/local/lib/python3.7/dist-packages (from requests->transformers) (1.24.3)\n",
      "Requirement already satisfied: idna<3,>=2.5 in /usr/local/lib/python3.7/dist-packages (from requests->transformers) (2.10)\n",
      "Requirement already satisfied: certifi>=2017.4.17 in /usr/local/lib/python3.7/dist-packages (from requests->transformers) (2021.10.8)\n",
      "Requirement already satisfied: chardet<4,>=3.0.2 in /usr/local/lib/python3.7/dist-packages (from requests->transformers) (3.0.4)\n",
      "Requirement already satisfied: six in /usr/local/lib/python3.7/dist-packages (from sacremoses->transformers) (1.15.0)\n",
      "Requirement already satisfied: joblib in /usr/local/lib/python3.7/dist-packages (from sacremoses->transformers) (1.1.0)\n",
      "Requirement already satisfied: click in /usr/local/lib/python3.7/dist-packages (from sacremoses->transformers) (7.1.2)\n",
      "Requirement already satisfied: hazm in /usr/local/lib/python3.7/dist-packages (0.7.0)\n",
      "Requirement already satisfied: nltk==3.3 in /usr/local/lib/python3.7/dist-packages (from hazm) (3.3)\n",
      "Requirement already satisfied: libwapiti>=0.2.1 in /usr/local/lib/python3.7/dist-packages (from hazm) (0.2.1)\n",
      "Requirement already satisfied: six in /usr/local/lib/python3.7/dist-packages (from nltk==3.3->hazm) (1.15.0)\n"
     ]
    }
   ],
   "source": [
    "! pip install transformers\n",
    "! pip install hazm\n",
    "from hazm import *\n",
    "import copy\n",
    "import transformers\n",
    "from transformers import AdamW\n",
    "from transformers.optimization import get_linear_schedule_with_warmup\n",
    "from sklearn.metrics import f1_score, accuracy_score, confusion_matrix, recall_score, roc_auc_score, precision_score\n",
    "import math\n",
    "import torch\n",
    "from torch.utils.data import Dataset, DataLoader\n",
    "import torch.nn as nn\n",
    "import torch.nn.functional as F\n",
    "from torch.optim import AdamW\n",
    "import seaborn as sn\n",
    "import pandas as pd\n",
    "import matplotlib.pyplot as plt\n",
    "from tqdm import tqdm\n",
    "from sklearn.preprocessing import LabelEncoder\n",
    "from sklearn.model_selection import train_test_split\n",
    "from sklearn import preprocessing\n",
    "import json\n",
    "from copy import deepcopy\n",
    "import numpy as np\n",
    "import random\n",
    "import re\n",
    "import string\n",
    "import codecs\n",
    "from shutil import copyfile\n",
    "random.seed(12345)\n",
    "label_encoder = preprocessing.LabelEncoder()"
   ]
  },
  {
   "cell_type": "markdown",
   "metadata": {
    "id": "3VbUyg6ejG1j"
   },
   "source": [
    "# Loading & Preprocessing data"
   ]
  },
  {
   "cell_type": "code",
   "execution_count": 2,
   "metadata": {
    "colab": {
     "base_uri": "https://localhost:8080/"
    },
    "id": "W5_uzORSjJ1O",
    "outputId": "db7e9029-c281-4603-d78d-3612a175be97"
   },
   "outputs": [
    {
     "name": "stdout",
     "output_type": "stream",
     "text": [
      "Downloading...\n",
      "From: https://drive.google.com/uc?id=1KpJCXTkuy1NLR5MgXsoYfBsv_OnwJqIF\n",
      "To: /content/AI_NEWS.csv\n",
      "100% 16.8M/16.8M [00:00<00:00, 78.5MB/s]\n",
      "Downloading...\n",
      "From: https://drive.google.com/uc?id=1Qiq2I8EdTcgn2Wc03XqucUcMhBdVhEre\n",
      "To: /content/stopwords.txt\n",
      "100% 3.66k/3.66k [00:00<00:00, 6.13MB/s]\n"
     ]
    }
   ],
   "source": [
    "# downloading data\n",
    "! gdown --id 1KpJCXTkuy1NLR5MgXsoYfBsv_OnwJqIF\n",
    "# downloading persian stopwords\n",
    "! gdown --id 1Qiq2I8EdTcgn2Wc03XqucUcMhBdVhEre"
   ]
  },
  {
   "cell_type": "code",
   "execution_count": 3,
   "metadata": {
    "colab": {
     "base_uri": "https://localhost:8080/",
     "height": 676
    },
    "id": "BbbZsSqNUJAV",
    "outputId": "8b9a00ac-bec1-4e4d-8020-dc29778181e9"
   },
   "outputs": [
    {
     "data": {
      "text/html": [
       "\n",
       "  <div id=\"df-70bd0828-1841-450a-ade5-4b42d1593dc7\">\n",
       "    <div class=\"colab-df-container\">\n",
       "      <div>\n",
       "<style scoped>\n",
       "    .dataframe tbody tr th:only-of-type {\n",
       "        vertical-align: middle;\n",
       "    }\n",
       "\n",
       "    .dataframe tbody tr th {\n",
       "        vertical-align: top;\n",
       "    }\n",
       "\n",
       "    .dataframe thead th {\n",
       "        text-align: right;\n",
       "    }\n",
       "</style>\n",
       "<table border=\"1\" class=\"dataframe\">\n",
       "  <thead>\n",
       "    <tr style=\"text-align: right;\">\n",
       "      <th></th>\n",
       "      <th>Unnamed: 0</th>\n",
       "      <th>index</th>\n",
       "      <th>title</th>\n",
       "      <th>text</th>\n",
       "      <th>category</th>\n",
       "      <th>keywords</th>\n",
       "      <th>source_name</th>\n",
       "      <th>data</th>\n",
       "      <th>tag</th>\n",
       "    </tr>\n",
       "  </thead>\n",
       "  <tbody>\n",
       "    <tr>\n",
       "      <th>0</th>\n",
       "      <td>0</td>\n",
       "      <td>2000</td>\n",
       "      <td>لیگ قهرمانان آسیا| استقلال ایران 3 - الشرطه عر...</td>\n",
       "      <td>NaN</td>\n",
       "      <td>ورزشی</td>\n",
       "      <td>لیگ قهرمانان آسیا| استقلال ایران - الشرطه عراق...</td>\n",
       "      <td>جماران</td>\n",
       "      <td>1463620</td>\n",
       "      <td>غیر مهم</td>\n",
       "    </tr>\n",
       "    <tr>\n",
       "      <th>1</th>\n",
       "      <td>1</td>\n",
       "      <td>2001</td>\n",
       "      <td>سویه لامبدا؛ خیلی دور، خیلی نزدیک!/ هر آنچه که...</td>\n",
       "      <td>NaN</td>\n",
       "      <td>اقتصادی</td>\n",
       "      <td>NaN</td>\n",
       "      <td>آنا</td>\n",
       "      <td>3041187</td>\n",
       "      <td>غیر مهم</td>\n",
       "    </tr>\n",
       "    <tr>\n",
       "      <th>2</th>\n",
       "      <td>2</td>\n",
       "      <td>2002</td>\n",
       "      <td>افزایش تحرکات هیات ها در مذاکرات وین؛ تحولاتی ...</td>\n",
       "      <td>به گزارش خبرنگار ایرنا از وین، آهنگ رفت و آمد ...</td>\n",
       "      <td>بین الملل</td>\n",
       "      <td>وین,کمیسیون مشترک برجام,علی باقری,مذاکرات برای...</td>\n",
       "      <td>ایرنا</td>\n",
       "      <td>4132788</td>\n",
       "      <td>مهم</td>\n",
       "    </tr>\n",
       "    <tr>\n",
       "      <th>3</th>\n",
       "      <td>3</td>\n",
       "      <td>2003</td>\n",
       "      <td>ناکارآمدی بازرگانی محصولات کشاورزی ناشی از ناک...</td>\n",
       "      <td>به گزارش خبرگزاری فارس از تبریز، اکبر فتحی در ...</td>\n",
       "      <td>اقتصادی</td>\n",
       "      <td>کشاورزی,آذربایجان شرقی,کشاورزان,محصولات,کشت فر...</td>\n",
       "      <td>خبرگزاری فارس</td>\n",
       "      <td>3652101</td>\n",
       "      <td>غیر مهم</td>\n",
       "    </tr>\n",
       "    <tr>\n",
       "      <th>4</th>\n",
       "      <td>4</td>\n",
       "      <td>2004</td>\n",
       "      <td>طالبان: بدنبال روابط خوب با همه کشورها از جمله...</td>\n",
       "      <td>به گزارش دفتر منطقه ای خبرگزاری تسنیم، «ذبیح ا...</td>\n",
       "      <td>بین الملل</td>\n",
       "      <td>NaN</td>\n",
       "      <td>خبرگزاری تسنیم</td>\n",
       "      <td>3846298</td>\n",
       "      <td>غیر مهم</td>\n",
       "    </tr>\n",
       "    <tr>\n",
       "      <th>...</th>\n",
       "      <td>...</td>\n",
       "      <td>...</td>\n",
       "      <td>...</td>\n",
       "      <td>...</td>\n",
       "      <td>...</td>\n",
       "      <td>...</td>\n",
       "      <td>...</td>\n",
       "      <td>...</td>\n",
       "      <td>...</td>\n",
       "    </tr>\n",
       "    <tr>\n",
       "      <th>3995</th>\n",
       "      <td>3995</td>\n",
       "      <td>8972</td>\n",
       "      <td>درگیری شدید شبه نظامیان امارات و عربستان در اس...</td>\n",
       "      <td>به گزارش گروه بین الملل خبرگزاری تسنیم به نقل ...</td>\n",
       "      <td>بین الملل</td>\n",
       "      <td>NaN</td>\n",
       "      <td>خبرگزاری تسنیم</td>\n",
       "      <td>2263257</td>\n",
       "      <td>غیر مهم</td>\n",
       "    </tr>\n",
       "    <tr>\n",
       "      <th>3996</th>\n",
       "      <td>3996</td>\n",
       "      <td>8973</td>\n",
       "      <td>امام خمینی (ره) بیش از  ایران در جهان موثر بود...</td>\n",
       "      <td>به گزارش خبرنگار خبرگزاری شبستان از شیراز، اند...</td>\n",
       "      <td>فرهنگ و هنر</td>\n",
       "      <td>NaN</td>\n",
       "      <td>شبستان</td>\n",
       "      <td>1967520</td>\n",
       "      <td>غیر مهم</td>\n",
       "    </tr>\n",
       "    <tr>\n",
       "      <th>3997</th>\n",
       "      <td>3997</td>\n",
       "      <td>8974</td>\n",
       "      <td>مادری که رهبر انقلاب برایش دعا کردند کیست؟/ قر...</td>\n",
       "      <td>گروه خانواده؛ نعیمه موحد: دیدار دانشجویی امسال...</td>\n",
       "      <td>فرهنگ و هنر</td>\n",
       "      <td>حضرت آیت  الله خامنه ای,جنبش دانشجویی,خبر خوب,...</td>\n",
       "      <td>خبرگزاری فارس</td>\n",
       "      <td>1748716</td>\n",
       "      <td>غیر مهم</td>\n",
       "    </tr>\n",
       "    <tr>\n",
       "      <th>3998</th>\n",
       "      <td>3998</td>\n",
       "      <td>8975</td>\n",
       "      <td>\\t\\t \\t\\t\\tلحظه دلهره آور نجات سگی که در یخبن...</td>\n",
       "      <td>به گزارش خبرنگار حوزه اخبار داغ گروه فضای مجاز...</td>\n",
       "      <td>فناوری و ارتباطات</td>\n",
       "      <td>نجات سگ                      \\t\\t\\t\\t\\t، \\t\\t\\...</td>\n",
       "      <td>باشگاه خبرنگاران</td>\n",
       "      <td>61151</td>\n",
       "      <td>غیر مهم</td>\n",
       "    </tr>\n",
       "    <tr>\n",
       "      <th>3999</th>\n",
       "      <td>3999</td>\n",
       "      <td>8976</td>\n",
       "      <td>آزمون داوری و میانجی گری به تعویق افتاد</td>\n",
       "      <td>به گزارش روز سه شنبه ایرنا از مرکز توسعه حل اخ...</td>\n",
       "      <td>اجتماعی</td>\n",
       "      <td>آزمون,شورای حل اختلاف,قوه قضاییه,</td>\n",
       "      <td>ایرنا</td>\n",
       "      <td>4194906</td>\n",
       "      <td>غیر مهم</td>\n",
       "    </tr>\n",
       "  </tbody>\n",
       "</table>\n",
       "<p>4000 rows × 9 columns</p>\n",
       "</div>\n",
       "      <button class=\"colab-df-convert\" onclick=\"convertToInteractive('df-70bd0828-1841-450a-ade5-4b42d1593dc7')\"\n",
       "              title=\"Convert this dataframe to an interactive table.\"\n",
       "              style=\"display:none;\">\n",
       "        \n",
       "  <svg xmlns=\"http://www.w3.org/2000/svg\" height=\"24px\"viewBox=\"0 0 24 24\"\n",
       "       width=\"24px\">\n",
       "    <path d=\"M0 0h24v24H0V0z\" fill=\"none\"/>\n",
       "    <path d=\"M18.56 5.44l.94 2.06.94-2.06 2.06-.94-2.06-.94-.94-2.06-.94 2.06-2.06.94zm-11 1L8.5 8.5l.94-2.06 2.06-.94-2.06-.94L8.5 2.5l-.94 2.06-2.06.94zm10 10l.94 2.06.94-2.06 2.06-.94-2.06-.94-.94-2.06-.94 2.06-2.06.94z\"/><path d=\"M17.41 7.96l-1.37-1.37c-.4-.4-.92-.59-1.43-.59-.52 0-1.04.2-1.43.59L10.3 9.45l-7.72 7.72c-.78.78-.78 2.05 0 2.83L4 21.41c.39.39.9.59 1.41.59.51 0 1.02-.2 1.41-.59l7.78-7.78 2.81-2.81c.8-.78.8-2.07 0-2.86zM5.41 20L4 18.59l7.72-7.72 1.47 1.35L5.41 20z\"/>\n",
       "  </svg>\n",
       "      </button>\n",
       "      \n",
       "  <style>\n",
       "    .colab-df-container {\n",
       "      display:flex;\n",
       "      flex-wrap:wrap;\n",
       "      gap: 12px;\n",
       "    }\n",
       "\n",
       "    .colab-df-convert {\n",
       "      background-color: #E8F0FE;\n",
       "      border: none;\n",
       "      border-radius: 50%;\n",
       "      cursor: pointer;\n",
       "      display: none;\n",
       "      fill: #1967D2;\n",
       "      height: 32px;\n",
       "      padding: 0 0 0 0;\n",
       "      width: 32px;\n",
       "    }\n",
       "\n",
       "    .colab-df-convert:hover {\n",
       "      background-color: #E2EBFA;\n",
       "      box-shadow: 0px 1px 2px rgba(60, 64, 67, 0.3), 0px 1px 3px 1px rgba(60, 64, 67, 0.15);\n",
       "      fill: #174EA6;\n",
       "    }\n",
       "\n",
       "    [theme=dark] .colab-df-convert {\n",
       "      background-color: #3B4455;\n",
       "      fill: #D2E3FC;\n",
       "    }\n",
       "\n",
       "    [theme=dark] .colab-df-convert:hover {\n",
       "      background-color: #434B5C;\n",
       "      box-shadow: 0px 1px 3px 1px rgba(0, 0, 0, 0.15);\n",
       "      filter: drop-shadow(0px 1px 2px rgba(0, 0, 0, 0.3));\n",
       "      fill: #FFFFFF;\n",
       "    }\n",
       "  </style>\n",
       "\n",
       "      <script>\n",
       "        const buttonEl =\n",
       "          document.querySelector('#df-70bd0828-1841-450a-ade5-4b42d1593dc7 button.colab-df-convert');\n",
       "        buttonEl.style.display =\n",
       "          google.colab.kernel.accessAllowed ? 'block' : 'none';\n",
       "\n",
       "        async function convertToInteractive(key) {\n",
       "          const element = document.querySelector('#df-70bd0828-1841-450a-ade5-4b42d1593dc7');\n",
       "          const dataTable =\n",
       "            await google.colab.kernel.invokeFunction('convertToInteractive',\n",
       "                                                     [key], {});\n",
       "          if (!dataTable) return;\n",
       "\n",
       "          const docLinkHtml = 'Like what you see? Visit the ' +\n",
       "            '<a target=\"_blank\" href=https://colab.research.google.com/notebooks/data_table.ipynb>data table notebook</a>'\n",
       "            + ' to learn more about interactive tables.';\n",
       "          element.innerHTML = '';\n",
       "          dataTable['output_type'] = 'display_data';\n",
       "          await google.colab.output.renderOutput(dataTable, element);\n",
       "          const docLink = document.createElement('div');\n",
       "          docLink.innerHTML = docLinkHtml;\n",
       "          element.appendChild(docLink);\n",
       "        }\n",
       "      </script>\n",
       "    </div>\n",
       "  </div>\n",
       "  "
      ],
      "text/plain": [
       "      Unnamed: 0  index  ...     data      tag\n",
       "0              0   2000  ...  1463620  غیر مهم\n",
       "1              1   2001  ...  3041187  غیر مهم\n",
       "2              2   2002  ...  4132788      مهم\n",
       "3              3   2003  ...  3652101  غیر مهم\n",
       "4              4   2004  ...  3846298  غیر مهم\n",
       "...          ...    ...  ...      ...      ...\n",
       "3995        3995   8972  ...  2263257  غیر مهم\n",
       "3996        3996   8973  ...  1967520  غیر مهم\n",
       "3997        3997   8974  ...  1748716  غیر مهم\n",
       "3998        3998   8975  ...    61151  غیر مهم\n",
       "3999        3999   8976  ...  4194906  غیر مهم\n",
       "\n",
       "[4000 rows x 9 columns]"
      ]
     },
     "execution_count": 3,
     "metadata": {},
     "output_type": "execute_result"
    }
   ],
   "source": [
    "news = pd.read_csv('AI_NEWS.csv')\n",
    "news"
   ]
  },
  {
   "cell_type": "code",
   "execution_count": 4,
   "metadata": {
    "id": "GZOVxkTvteN_"
   },
   "outputs": [],
   "source": [
    "class Preprocessing:\n",
    "\n",
    "  @staticmethod\n",
    "  def remove_punctuations(text):\n",
    "    new_text = []\n",
    "    for l in text:\n",
    "      if l not in string.punctuation + '\\u00AB' + '\\u00BB' + '\\u060C' + '\\u061B' + '\\u061F':\n",
    "        new_text.append(l)\n",
    "      else:\n",
    "        new_text.append(' ')\n",
    "    return ''.join(new_text)\n",
    "  \n",
    "  @staticmethod\n",
    "  def remove_numbers(text):\n",
    "    new_text = []\n",
    "    for l in text:\n",
    "      if l not in '0123456789۰۱۲۳۴۵۶۷۸۹':\n",
    "        new_text.append(l)\n",
    "      else:\n",
    "        new_text.append(' ')\n",
    "    return ''.join(new_text)\n",
    "\n",
    "  @staticmethod\n",
    "  def remove_stopwords(text):\n",
    "    normalizer = Normalizer()\n",
    "    stopwords = [normalizer.normalize(x.strip()) for x in codecs.open('stopwords.txt','r','utf-8').readlines()]\n",
    "    tokens = word_tokenize(text)\n",
    "    new_text = []\n",
    "    for token in tokens:\n",
    "      if token not in stopwords:\n",
    "        new_text.append(token)\n",
    "      else:\n",
    "        new_text.append(' ')\n",
    "    return ' '.join(new_text)\n",
    "\n",
    "  @staticmethod\n",
    "  def remove_extra_space(text):\n",
    "    new_text = re.sub(r'\\s+',' ',text)\n",
    "    return new_text"
   ]
  },
  {
   "cell_type": "code",
   "execution_count": 5,
   "metadata": {
    "id": "AC_nr1R4mf5E"
   },
   "outputs": [],
   "source": [
    "# a class to hold our data structure\n",
    "class Data:\n",
    "  def __init__(self, data, preprocessing=False):\n",
    "    self.title = data['title']\n",
    "    self.text = data['text']\n",
    "    self.keywords = data['keywords']\n",
    "    self.category = data['category']\n",
    "    self.label = label_encoder.transform([data['tag']])[0]\n",
    "\n",
    "# label encoder\n",
    "all_labels = ['مهم','غیر مهم']\n",
    "label_encoder.fit(all_labels)\n",
    "classes = label_encoder.classes_\n",
    "\n",
    "# convert raw data into Data objects\n",
    "news_data = []\n",
    "for index, data in news.iterrows():\n",
    "  news_data.append(Data(data, True))"
   ]
  },
  {
   "cell_type": "code",
   "execution_count": 6,
   "metadata": {
    "id": "auvB_DkSIHfG"
   },
   "outputs": [],
   "source": [
    "def split_data(data, portions=[.6,.2,.2]):\n",
    "  random.shuffle(data)\n",
    "  data_len = len(data)\n",
    "  train_data = data[:int(portions[0] * data_len)]\n",
    "  eval_data = data[int(portions[0] * data_len):int((portions[0] + portions[1]) * data_len)]\n",
    "  test_data = data[int((portions[0] + portions[1]) * data_len):]\n",
    "  return train_data, eval_data, test_data"
   ]
  },
  {
   "cell_type": "code",
   "execution_count": 7,
   "metadata": {
    "id": "DWN5FoSdpeRT"
   },
   "outputs": [],
   "source": [
    "# a function to get a portion of data with acquired preprocessings\n",
    "def get_data(dataset, preprocess={\n",
    "    'remove_stopwords': True,\n",
    "    'remove_punctuations': True,\n",
    "    'remove_numbers': True}):\n",
    "  random.shuffle(dataset)\n",
    "  new_dataset = []\n",
    "\n",
    "  # applying preprocessings on train data\n",
    "  for i, data in enumerate(tqdm(dataset)):\n",
    "    if str(data.text) == 'nan':\n",
    "      continue\n",
    "    if preprocess['remove_stopwords'] == True:\n",
    "      dataset[i].text = Preprocessing.remove_stopwords(data.text)\n",
    "    if preprocess['remove_punctuations'] == True:\n",
    "      dataset[i].text = Preprocessing.remove_punctuations(data.text)\n",
    "    if preprocess['remove_numbers'] == True:\n",
    "      dataset[i].text = Preprocessing.remove_numbers(data.text)\n",
    "    dataset[i].text = Preprocessing.remove_extra_space(data.text)\n",
    "    new_dataset.append(dataset[i])\n",
    "\n",
    "  return split_data(new_dataset)"
   ]
  },
  {
   "cell_type": "markdown",
   "metadata": {
    "id": "zLQPrDBLKJxc"
   },
   "source": [
    "# Roberta"
   ]
  },
  {
   "cell_type": "code",
   "execution_count": 8,
   "metadata": {
    "colab": {
     "base_uri": "https://localhost:8080/"
    },
    "id": "3kZMm5jxKLav",
    "outputId": "6fbd0aa8-f8c2-4e04-e9bf-dc0926f59122"
   },
   "outputs": [
    {
     "name": "stderr",
     "output_type": "stream",
     "text": [
      "100%|██████████| 4000/4000 [01:21<00:00, 49.07it/s]\n"
     ]
    }
   ],
   "source": [
    "train_data, eval_data, test_data = get_data(news_data, preprocess={\n",
    "    'remove_stopwords': True,\n",
    "    'remove_punctuations': True,\n",
    "    'remove_numbers': True})"
   ]
  },
  {
   "cell_type": "markdown",
   "metadata": {
    "id": "_AOf_Yj1ZCFx"
   },
   "source": [
    "## Load Roberta"
   ]
  },
  {
   "cell_type": "code",
   "execution_count": 9,
   "metadata": {
    "colab": {
     "base_uri": "https://localhost:8080/"
    },
    "id": "W64kzqydsHQ4",
    "outputId": "389f9202-88c9-4d02-e9c5-6d8ca8724837"
   },
   "outputs": [
    {
     "name": "stderr",
     "output_type": "stream",
     "text": [
      "Some weights of the model checkpoint at HooshvareLab/roberta-fa-zwnj-base were not used when initializing RobertaModel: ['lm_head.layer_norm.bias', 'lm_head.decoder.bias', 'lm_head.dense.bias', 'lm_head.bias', 'lm_head.dense.weight', 'lm_head.layer_norm.weight', 'lm_head.decoder.weight']\n",
      "- This IS expected if you are initializing RobertaModel from the checkpoint of a model trained on another task or with another architecture (e.g. initializing a BertForSequenceClassification model from a BertForPreTraining model).\n",
      "- This IS NOT expected if you are initializing RobertaModel from the checkpoint of a model that you expect to be exactly identical (initializing a BertForSequenceClassification model from a BertForSequenceClassification model).\n",
      "Some weights of RobertaModel were not initialized from the model checkpoint at HooshvareLab/roberta-fa-zwnj-base and are newly initialized: ['roberta.pooler.dense.weight', 'roberta.pooler.dense.bias']\n",
      "You should probably TRAIN this model on a down-stream task to be able to use it for predictions and inference.\n"
     ]
    }
   ],
   "source": [
    "# loading pars roberta and tokenizer\n",
    "from transformers import AutoConfig, AutoTokenizer, AutoModel, TFAutoModel\n",
    "# v3.0\n",
    "model_name_or_path = \"HooshvareLab/roberta-fa-zwnj-base\"\n",
    "config = AutoConfig.from_pretrained(model_name_or_path)\n",
    "tokenizer = AutoTokenizer.from_pretrained(model_name_or_path, use_fast='True')\n",
    "# model = TFAutoModel.from_pretrained(model_name_or_path)  For TF\n",
    "parsbert = AutoModel.from_pretrained(model_name_or_path)"
   ]
  },
  {
   "cell_type": "markdown",
   "metadata": {
    "id": "vZu3qm91ZKzs"
   },
   "source": [
    "## Transformer Dataloader"
   ]
  },
  {
   "cell_type": "code",
   "execution_count": 10,
   "metadata": {
    "id": "VtITsBG4ZN2O"
   },
   "outputs": [],
   "source": [
    "# a class for loading data\n",
    "class NewsDataloader(Dataset):\n",
    "\n",
    "  def __init__(self,dataset,tokenizer):\n",
    "    self.dataset = dataset\n",
    "    self.tokenizer = tokenizer\n",
    "\n",
    "  def __len__(self):\n",
    "    return len(self.dataset)\n",
    "\n",
    "  def __getitem__(self, idx):\n",
    "    text_tokens = self.tokenizer.encode_plus(\n",
    "        str(self.dataset[idx].category),\n",
    "        str(self.dataset[idx].text),\n",
    "        add_special_tokens=True,\n",
    "        max_length=512,\n",
    "        pad_to_max_length=True,\n",
    "        return_tensors=\"pt\",\n",
    "        truncation=True\n",
    "    )\n",
    "\n",
    "    return [text_tokens, self.dataset[idx].label]"
   ]
  },
  {
   "cell_type": "code",
   "execution_count": 11,
   "metadata": {
    "id": "Fj8EYxSsZShu"
   },
   "outputs": [],
   "source": [
    "# defining our transformer model\n",
    "class TransformerModel(nn.Module):\n",
    "\n",
    "  def __init__(self, roberta):\n",
    "    super(TransformerModel, self).__init__()\n",
    "    self.roberta = roberta\n",
    "    # we only use one linear head on the parsbert\n",
    "    self.linear_head = nn.Linear(768, len(label_encoder.classes_))\n",
    "\n",
    "  def forward(self, x):\n",
    "    # main task\n",
    "    x = self.roberta(x['input_ids'],x['attention_mask'])\n",
    "    logits = self.linear_head(x.pooler_output)\n",
    "    return logits"
   ]
  },
  {
   "cell_type": "markdown",
   "metadata": {
    "id": "T0UWFmYKZTTp"
   },
   "source": [
    "## Training Transformer"
   ]
  },
  {
   "cell_type": "code",
   "execution_count": 12,
   "metadata": {
    "colab": {
     "base_uri": "https://localhost:8080/"
    },
    "id": "daDEOqGbZXHy",
    "outputId": "a28f0e1f-50e8-4726-a414-608d6b9256d4"
   },
   "outputs": [
    {
     "name": "stderr",
     "output_type": "stream",
     "text": [
      "/usr/local/lib/python3.7/dist-packages/transformers/tokenization_utils_base.py:2257: FutureWarning: The `pad_to_max_length` argument is deprecated and will be removed in a future version, use `padding=True` or `padding='longest'` to pad to the longest sequence in the batch, or use `padding='max_length'` to pad to a max length. In this case, you can give a specific length with `max_length` (e.g. `max_length=45`) or leave max_length to None to pad to the maximal input size of the model (e.g. 512 for Bert).\n",
      "  FutureWarning,\n"
     ]
    },
    {
     "name": "stdout",
     "output_type": "stream",
     "text": [
      "EPOCH 1/4 | STEP [50/207] | Loss 33.273590207099915\n",
      "EPOCH 1/4 | STEP [100/207] | Loss 28.706046745181084\n",
      "EPOCH 1/4 | STEP [150/207] | Loss 25.77538175880909\n",
      "EPOCH 1/4 | STEP [200/207] | Loss 27.97451951354742\n",
      "################## Epoch 1 Evaluation ##################\n",
      "ROC-AUC 0.6659665144596651\n",
      "F1-macro 0.6557674060547469\n",
      "F1-micro 0.8322324966974901\n",
      "Accuracy 0.8322324966974901\n",
      "Recall 0.44\n",
      "Precision 0.3826086956521739\n"
     ]
    },
    {
     "name": "stderr",
     "output_type": "stream",
     "text": [
      "/usr/local/lib/python3.7/dist-packages/transformers/tokenization_utils_base.py:2257: FutureWarning: The `pad_to_max_length` argument is deprecated and will be removed in a future version, use `padding=True` or `padding='longest'` to pad to the longest sequence in the batch, or use `padding='max_length'` to pad to a max length. In this case, you can give a specific length with `max_length` (e.g. `max_length=45`) or leave max_length to None to pad to the maximal input size of the model (e.g. 512 for Bert).\n",
      "  FutureWarning,\n"
     ]
    },
    {
     "name": "stdout",
     "output_type": "stream",
     "text": [
      "EPOCH 2/4 | STEP [50/207] | Loss 21.877989590168\n",
      "EPOCH 2/4 | STEP [100/207] | Loss 22.746937826275826\n",
      "EPOCH 2/4 | STEP [150/207] | Loss 24.696053579449654\n",
      "EPOCH 2/4 | STEP [200/207] | Loss 23.839851081371307\n",
      "################## Epoch 2 Evaluation ##################\n",
      "ROC-AUC 0.6146651445966514\n",
      "F1-macro 0.6226135992154299\n",
      "F1-micro 0.8388375165125496\n",
      "Accuracy 0.8388375165125496\n",
      "Recall 0.31\n",
      "Precision 0.36904761904761907\n"
     ]
    },
    {
     "name": "stderr",
     "output_type": "stream",
     "text": [
      "/usr/local/lib/python3.7/dist-packages/transformers/tokenization_utils_base.py:2257: FutureWarning: The `pad_to_max_length` argument is deprecated and will be removed in a future version, use `padding=True` or `padding='longest'` to pad to the longest sequence in the batch, or use `padding='max_length'` to pad to a max length. In this case, you can give a specific length with `max_length` (e.g. `max_length=45`) or leave max_length to None to pad to the maximal input size of the model (e.g. 512 for Bert).\n",
      "  FutureWarning,\n"
     ]
    },
    {
     "name": "stdout",
     "output_type": "stream",
     "text": [
      "EPOCH 3/4 | STEP [50/207] | Loss 18.996067628264427\n",
      "EPOCH 3/4 | STEP [100/207] | Loss 16.21411219239235\n",
      "EPOCH 3/4 | STEP [150/207] | Loss 16.27120763808489\n",
      "EPOCH 3/4 | STEP [200/207] | Loss 19.585135504603386\n",
      "################## Epoch 3 Evaluation ##################\n",
      "ROC-AUC 0.582496194824962\n",
      "F1-macro 0.6022963178324229\n",
      "F1-micro 0.8639365918097754\n",
      "Accuracy 0.8639365918097754\n",
      "Recall 0.2\n",
      "Precision 0.46511627906976744\n"
     ]
    },
    {
     "name": "stderr",
     "output_type": "stream",
     "text": [
      "/usr/local/lib/python3.7/dist-packages/transformers/tokenization_utils_base.py:2257: FutureWarning: The `pad_to_max_length` argument is deprecated and will be removed in a future version, use `padding=True` or `padding='longest'` to pad to the longest sequence in the batch, or use `padding='max_length'` to pad to a max length. In this case, you can give a specific length with `max_length` (e.g. `max_length=45`) or leave max_length to None to pad to the maximal input size of the model (e.g. 512 for Bert).\n",
      "  FutureWarning,\n"
     ]
    },
    {
     "name": "stdout",
     "output_type": "stream",
     "text": [
      "EPOCH 4/4 | STEP [50/207] | Loss 10.05878883227706\n",
      "EPOCH 4/4 | STEP [100/207] | Loss 8.427075077779591\n",
      "EPOCH 4/4 | STEP [150/207] | Loss 10.492230449803174\n",
      "EPOCH 4/4 | STEP [200/207] | Loss 7.304127816110849\n",
      "################## Epoch 4 Evaluation ##################\n",
      "ROC-AUC 0.5802130898021309\n",
      "F1-macro 0.5982436113113835\n",
      "F1-micro 0.8599735799207396\n",
      "Accuracy 0.8599735799207398\n",
      "Recall 0.2\n",
      "Precision 0.43478260869565216\n"
     ]
    }
   ],
   "source": [
    "import warnings\n",
    "warnings.filterwarnings(\"ignore\", category=DeprecationWarning) \n",
    "# Transformer Training\n",
    "epochs = 4\n",
    "lr = 8e-6\n",
    "device = 'cuda:0'\n",
    "k_step_loss = 0\n",
    "k = 50\n",
    "batch_size = 11\n",
    "# get train dataloader\n",
    "train_dataset = NewsDataloader(train_data, tokenizer)\n",
    "train_dataloader = DataLoader(train_dataset, batch_size=batch_size, shuffle=True)\n",
    "# get train dataloader\n",
    "eval_dataset = NewsDataloader(eval_data, tokenizer)\n",
    "eval_dataloader = DataLoader(eval_dataset, batch_size=batch_size, shuffle=True)\n",
    "# get eval dataloader\n",
    "num_steps = int(np.ceil(len(train_dataloader.dataset) / batch_size))\n",
    "loss_collection = []\n",
    "eval_f1_micro = []\n",
    "eval_f1_macro = []\n",
    "eval_accuracy = []\n",
    "best_model = None\n",
    "best_f1_macro = 0\n",
    "model = TransformerModel(parsbert).to(device)\n",
    "loss_fn = nn.CrossEntropyLoss(torch.tensor([.25, 1])).to(device)\n",
    "optimizer = AdamW(model.parameters(), lr=lr)\n",
    "scheduler = get_linear_schedule_with_warmup(\n",
    "    optimizer, num_warmup_steps=0, \n",
    "    num_training_steps=epochs * len(train_dataloader.dataset)\n",
    ")\n",
    "\n",
    "\n",
    "for epoch in range(epochs):\n",
    "  for step, data in enumerate(train_dataloader):\n",
    "    input_ids = data[0][\"input_ids\"].squeeze().to(device)\n",
    "    attention_mask = data[0][\"attention_mask\"].squeeze().to(device)\n",
    "    labels = data[1].to(device)\n",
    "    feed_dict = {\n",
    "        'input_ids': input_ids,\n",
    "        'attention_mask': attention_mask\n",
    "    }\n",
    "\n",
    "    optimizer.zero_grad()\n",
    "    output = model(feed_dict)\n",
    "    loss = loss_fn(output, labels)\n",
    "    # loss scheduler\n",
    "    loss.backward()\n",
    "    optimizer.step()\n",
    "    scheduler.step()\n",
    "    k_step_loss += loss.item()\n",
    "    if (step + 1) % k == 0:\n",
    "      loss_collection.append(k_step_loss)\n",
    "      print(f'EPOCH {epoch + 1}/{epochs} | STEP [{step + 1}/{num_steps}] | Loss {k_step_loss}')\n",
    "      k_step_loss = 0\n",
    "\n",
    "  k_step_loss = 0\n",
    "  # Evaluation\n",
    "  print(f'################## Epoch {epoch + 1} Evaluation ##################')\n",
    "  with torch.no_grad():\n",
    "    all_pred = []\n",
    "    all_label = []\n",
    "    for j, data in enumerate(eval_dataloader):\n",
    "      input_ids = data[0][\"input_ids\"].squeeze().to(device)\n",
    "      attention_mask = data[0][\"attention_mask\"].squeeze().to(device)\n",
    "      labels = data[1].to(device)\n",
    "      feed_dict = {\n",
    "          'input_ids': input_ids,\n",
    "          'attention_mask': attention_mask\n",
    "      }\n",
    "      output = model(feed_dict)\n",
    "      pred = output.argmax(dim=1, keepdim=True)\n",
    "      all_label.extend(list(labels.cpu().numpy()))\n",
    "      all_pred.extend(list(pred.view(-1).cpu().numpy()))\n",
    "\n",
    "\n",
    "    f1_macro = f1_score(all_label, all_pred, average='macro')\n",
    "    f1_micro = f1_score(all_label, all_pred, average='micro')\n",
    "    accuracy = accuracy_score(all_label, all_pred)\n",
    "    recall = recall_score(all_label, all_pred)\n",
    "    roc_auc = roc_auc_score(all_label, all_pred)\n",
    "    precision = precision_score(all_label, all_pred)\n",
    "\n",
    "    if f1_macro > best_f1_macro:\n",
    "      best_f1_macro = f1_macro\n",
    "      best_model = copy.deepcopy(model)\n",
    "\n",
    "    print(f'ROC-AUC {roc_auc}')\n",
    "    print(f'F1-macro {f1_macro}')\n",
    "    print(f'F1-micro {f1_micro}')\n",
    "    print(f'Accuracy {accuracy}')\n",
    "    print(f'Recall {recall}')\n",
    "    print(f'Precision {precision}')\n",
    "    eval_f1_macro.append(f1_macro)\n",
    "    eval_f1_micro.append(f1_micro)\n",
    "    eval_accuracy.append(accuracy)"
   ]
  },
  {
   "cell_type": "code",
   "execution_count": 13,
   "metadata": {
    "colab": {
     "base_uri": "https://localhost:8080/",
     "height": 351
    },
    "id": "JJMgXl1PQJPU",
    "outputId": "9cf2a444-0a38-4f4c-e209-4215cf3556f2"
   },
   "outputs": [
    {
     "data": {
      "text/plain": [
       "Text(0, 0.5, 'f1-macro')"
      ]
     },
     "execution_count": 13,
     "metadata": {},
     "output_type": "execute_result"
    },
    {
     "data": {
      "image/png": "[encoded data removed]",
      "text/plain": [
       "<Figure size 864x360 with 2 Axes>"
      ]
     },
     "metadata": {
      "needs_background": "light"
     },
     "output_type": "display_data"
    }
   ],
   "source": [
    "plt.figure(figsize=(12,5))\n",
    "plt.subplot(121)\n",
    "plt.plot(range(len(loss_collection)), loss_collection)\n",
    "plt.xlabel(f'each {k} step')\n",
    "plt.ylabel('loss')\n",
    "\n",
    "plt.subplot(122)\n",
    "plt.plot(range(len(eval_f1_macro)), eval_f1_macro)\n",
    "plt.xlabel(f'epoch')\n",
    "plt.ylabel('f1-macro')"
   ]
  },
  {
   "cell_type": "markdown",
   "metadata": {
    "id": "Hl2En3UKZfqh"
   },
   "source": [
    "## Tesing"
   ]
  },
  {
   "cell_type": "code",
   "execution_count": 14,
   "metadata": {
    "colab": {
     "base_uri": "https://localhost:8080/"
    },
    "id": "bRFgyTB2ZiK5",
    "outputId": "8a4f934b-38b9-4e9f-889e-b555085a4da8"
   },
   "outputs": [
    {
     "name": "stderr",
     "output_type": "stream",
     "text": [
      "/usr/local/lib/python3.7/dist-packages/transformers/tokenization_utils_base.py:2257: FutureWarning: The `pad_to_max_length` argument is deprecated and will be removed in a future version, use `padding=True` or `padding='longest'` to pad to the longest sequence in the batch, or use `padding='max_length'` to pad to a max length. In this case, you can give a specific length with `max_length` (e.g. `max_length=45`) or leave max_length to None to pad to the maximal input size of the model (e.g. 512 for Bert).\n",
      "  FutureWarning,\n"
     ]
    },
    {
     "name": "stdout",
     "output_type": "stream",
     "text": [
      "ROC-AUC 0.6907115171650056\n",
      "F1-macro 0.6682775391300054\n",
      "F1-micro 0.8124174372523117\n",
      "Accuracy 0.8124174372523117\n",
      "Recall 0.5178571428571429\n"
     ]
    }
   ],
   "source": [
    "# test dataloader\n",
    "test_dataset = NewsDataloader(test_data, tokenizer)\n",
    "batch_size = 11\n",
    "test_dataloader = DataLoader(test_dataset, batch_size=batch_size, shuffle=True)\n",
    "\n",
    "with torch.no_grad():\n",
    "  all_pred = []\n",
    "  all_label = []\n",
    "  for j, data in enumerate(test_dataloader):\n",
    "    input_ids = data[0][\"input_ids\"].squeeze().to(device)\n",
    "    attention_mask = data[0][\"attention_mask\"].squeeze().to(device)\n",
    "    labels = data[1].to(device)\n",
    "    feed_dict = {\n",
    "        'input_ids': input_ids,\n",
    "        'attention_mask': attention_mask\n",
    "    }\n",
    "    output = best_model(feed_dict)\n",
    "    pred = output.argmax(dim=1, keepdim=True)\n",
    "    all_label.extend(list(labels.cpu().numpy()))\n",
    "    all_pred.extend(list(pred.view(-1).cpu().numpy()))\n",
    "\n",
    "\n",
    "  f1_macro = f1_score(all_label, all_pred, average='macro')\n",
    "  f1_micro = f1_score(all_label, all_pred, average='micro')\n",
    "  accuracy = accuracy_score(all_label, all_pred)\n",
    "  recall = recall_score(all_label, all_pred)\n",
    "  roc_auc = roc_auc_score(all_label, all_pred)\n",
    "\n",
    "  print(f'ROC-AUC {roc_auc}')\n",
    "  print(f'F1-macro {f1_macro}')\n",
    "  print(f'F1-micro {f1_micro}')\n",
    "  print(f'Accuracy {accuracy}')\n",
    "  print(f'Recall {recall}')"
   ]
  },
  {
   "cell_type": "code",
   "execution_count": 15,
   "metadata": {
    "colab": {
     "base_uri": "https://localhost:8080/",
     "height": 553
    },
    "id": "Kd_nX8gfZ1ab",
    "outputId": "d017df34-5419-4153-9ec6-ebb412f74ddc"
   },
   "outputs": [
    {
     "data": {
      "image/png": "[encoded data removed]",
      "text/plain": [
       "<Figure size 864x648 with 2 Axes>"
      ]
     },
     "metadata": {
      "needs_background": "light"
     },
     "output_type": "display_data"
    }
   ],
   "source": [
    "# confusion matrix for test data\n",
    "classes = ['not important', 'important']\n",
    "c_mat = confusion_matrix(all_label, all_pred)\n",
    "df_cm = pd.DataFrame(c_mat, index = [i for i in classes],\n",
    "                  columns = [i for i in classes])\n",
    "plt.figure(figsize = (12,9))\n",
    "plt.title('Test Confusion Matrix')\n",
    "sn.heatmap(df_cm, annot=True)\n",
    "plt.savefig('roberta_conf.jpg', dpi=400)"
   ]
  },
  {
   "cell_type": "code",
   "execution_count": 16,
   "metadata": {
    "colab": {
     "base_uri": "https://localhost:8080/"
    },
    "id": "yPeagnPmRQB8",
    "outputId": "038fe0b4-e320-4e3a-c074-95f0e34d9462"
   },
   "outputs": [
    {
     "name": "stdout",
     "output_type": "stream",
     "text": [
      "Drive already mounted at /content/drive; to attempt to forcibly remount, call drive.mount(\"/content/drive\", force_remount=True).\n"
     ]
    }
   ],
   "source": [
    "# save model\n",
    "from google.colab import drive  \n",
    "drive.mount('/content/drive')\n",
    "torch.save(best_model, 'drive/MyDrive/project_roberta_final_category.pth')"
   ]
  },
  {
   "cell_type": "markdown",
   "metadata": {},
   "source": [
    "# Load & Use Model"
   ]
  },
  {
   "cell_type": "code",
   "execution_count": null,
   "metadata": {},
   "outputs": [],
   "source": [
    "! gdown --id 1_TnL_FYvbJWma0-RwdHM0tOdA7JMfO5Y\n",
    "best_model = torch.load('project_roberta_final_category.pth')"
   ]
  }
 ],
 "metadata": {
  "accelerator": "GPU",
  "colab": {
   "collapsed_sections": [],
   "name": "Roberta_News_FInal_Category.ipynb",
   "provenance": []
  },
  "kernelspec": {
   "display_name": "Python 3 (ipykernel)",
   "language": "python",
   "name": "python3"
  },
  "language_info": {
   "codemirror_mode": {
    "name": "ipython",
    "version": 3
   },
   "file_extension": ".py",
   "mimetype": "text/x-python",
   "name": "python",
   "nbconvert_exporter": "python",
   "pygments_lexer": "ipython3",
   "version": "3.8.10"
  }
 },
 "nbformat": 4,
 "nbformat_minor": 1
}
