{
 "cells": [
  {
   "cell_type": "markdown",
   "metadata": {
    "id": "83xD9vTJi70h"
   },
   "source": [
    "# Libraries"
   ]
  },
  {
   "cell_type": "code",
   "execution_count": 1,
   "metadata": {
    "colab": {
     "base_uri": "https://localhost:8080/"
    },
    "id": "KOvjwrvji2LW",
    "outputId": "77f79ae4-ee57-46b1-c6c4-fa6dc08079ba"
   },
   "outputs": [
    {
     "name": "stdout",
     "output_type": "stream",
     "text": [
      "Collecting transformers\n",
      "  Downloading transformers-4.16.2-py3-none-any.whl (3.5 MB)\n",
      "\u001b[K     |████████████████████████████████| 3.5 MB 8.5 MB/s \n",
      "\u001b[?25hCollecting tokenizers!=0.11.3,>=0.10.1\n",
      "  Downloading tokenizers-0.11.5-cp37-cp37m-manylinux_2_12_x86_64.manylinux2010_x86_64.whl (6.8 MB)\n",
      "\u001b[K     |████████████████████████████████| 6.8 MB 59.3 MB/s \n",
      "\u001b[?25hRequirement already satisfied: packaging>=20.0 in /usr/local/lib/python3.7/dist-packages (from transformers) (21.3)\n",
      "Collecting huggingface-hub<1.0,>=0.1.0\n",
      "  Downloading huggingface_hub-0.4.0-py3-none-any.whl (67 kB)\n",
      "\u001b[K     |████████████████████████████████| 67 kB 5.9 MB/s \n",
      "\u001b[?25hRequirement already satisfied: regex!=2019.12.17 in /usr/local/lib/python3.7/dist-packages (from transformers) (2019.12.20)\n",
      "Requirement already satisfied: numpy>=1.17 in /usr/local/lib/python3.7/dist-packages (from transformers) (1.21.5)\n",
      "Requirement already satisfied: importlib-metadata in /usr/local/lib/python3.7/dist-packages (from transformers) (4.11.0)\n",
      "Requirement already satisfied: tqdm>=4.27 in /usr/local/lib/python3.7/dist-packages (from transformers) (4.62.3)\n",
      "Requirement already satisfied: filelock in /usr/local/lib/python3.7/dist-packages (from transformers) (3.4.2)\n",
      "Collecting pyyaml>=5.1\n",
      "  Downloading PyYAML-6.0-cp37-cp37m-manylinux_2_5_x86_64.manylinux1_x86_64.manylinux_2_12_x86_64.manylinux2010_x86_64.whl (596 kB)\n",
      "\u001b[K     |████████████████████████████████| 596 kB 39.7 MB/s \n",
      "\u001b[?25hCollecting sacremoses\n",
      "  Downloading sacremoses-0.0.47-py2.py3-none-any.whl (895 kB)\n",
      "\u001b[K     |████████████████████████████████| 895 kB 54.1 MB/s \n",
      "\u001b[?25hRequirement already satisfied: requests in /usr/local/lib/python3.7/dist-packages (from transformers) (2.23.0)\n",
      "Requirement already satisfied: typing-extensions>=3.7.4.3 in /usr/local/lib/python3.7/dist-packages (from huggingface-hub<1.0,>=0.1.0->transformers) (3.10.0.2)\n",
      "Requirement already satisfied: pyparsing!=3.0.5,>=2.0.2 in /usr/local/lib/python3.7/dist-packages (from packaging>=20.0->transformers) (3.0.7)\n",
      "Requirement already satisfied: zipp>=0.5 in /usr/local/lib/python3.7/dist-packages (from importlib-metadata->transformers) (3.7.0)\n",
      "Requirement already satisfied: urllib3!=1.25.0,!=1.25.1,<1.26,>=1.21.1 in /usr/local/lib/python3.7/dist-packages (from requests->transformers) (1.24.3)\n",
      "Requirement already satisfied: chardet<4,>=3.0.2 in /usr/local/lib/python3.7/dist-packages (from requests->transformers) (3.0.4)\n",
      "Requirement already satisfied: idna<3,>=2.5 in /usr/local/lib/python3.7/dist-packages (from requests->transformers) (2.10)\n",
      "Requirement already satisfied: certifi>=2017.4.17 in /usr/local/lib/python3.7/dist-packages (from requests->transformers) (2021.10.8)\n",
      "Requirement already satisfied: six in /usr/local/lib/python3.7/dist-packages (from sacremoses->transformers) (1.15.0)\n",
      "Requirement already satisfied: joblib in /usr/local/lib/python3.7/dist-packages (from sacremoses->transformers) (1.1.0)\n",
      "Requirement already satisfied: click in /usr/local/lib/python3.7/dist-packages (from sacremoses->transformers) (7.1.2)\n",
      "Installing collected packages: pyyaml, tokenizers, sacremoses, huggingface-hub, transformers\n",
      "  Attempting uninstall: pyyaml\n",
      "    Found existing installation: PyYAML 3.13\n",
      "    Uninstalling PyYAML-3.13:\n",
      "      Successfully uninstalled PyYAML-3.13\n",
      "Successfully installed huggingface-hub-0.4.0 pyyaml-6.0 sacremoses-0.0.47 tokenizers-0.11.5 transformers-4.16.2\n",
      "Collecting hazm\n",
      "  Downloading hazm-0.7.0-py3-none-any.whl (316 kB)\n",
      "\u001b[K     |████████████████████████████████| 316 kB 7.1 MB/s \n",
      "\u001b[?25hCollecting nltk==3.3\n",
      "  Downloading nltk-3.3.0.zip (1.4 MB)\n",
      "\u001b[K     |████████████████████████████████| 1.4 MB 12.3 MB/s \n",
      "\u001b[?25hCollecting libwapiti>=0.2.1\n",
      "  Downloading libwapiti-0.2.1.tar.gz (233 kB)\n",
      "\u001b[K     |████████████████████████████████| 233 kB 38.7 MB/s \n",
      "\u001b[?25hRequirement already satisfied: six in /usr/local/lib/python3.7/dist-packages (from nltk==3.3->hazm) (1.15.0)\n",
      "Building wheels for collected packages: nltk, libwapiti\n",
      "  Building wheel for nltk (setup.py) ... \u001b[?25l\u001b[?25hdone\n",
      "  Created wheel for nltk: filename=nltk-3.3-py3-none-any.whl size=1394490 sha256=e18d644aa080a9f61c7ca1681e8426dfa02e7f59e366ee291e820b606d0be410\n",
      "  Stored in directory: /root/.cache/pip/wheels/9b/fd/0c/d92302c876e5de87ebd7fc0979d82edb93e2d8d768bf71fac4\n",
      "  Building wheel for libwapiti (setup.py) ... \u001b[?25l\u001b[?25hdone\n",
      "  Created wheel for libwapiti: filename=libwapiti-0.2.1-cp37-cp37m-linux_x86_64.whl size=154457 sha256=473575220b85b2d61edced3014be8b86197e03d40286d97e5fd5b23ad6a44acd\n",
      "  Stored in directory: /root/.cache/pip/wheels/ab/b2/5b/0fe4b8f5c0e65341e8ea7bb3f4a6ebabfe8b1ac31322392dbf\n",
      "Successfully built nltk libwapiti\n",
      "Installing collected packages: nltk, libwapiti, hazm\n",
      "  Attempting uninstall: nltk\n",
      "    Found existing installation: nltk 3.2.5\n",
      "    Uninstalling nltk-3.2.5:\n",
      "      Successfully uninstalled nltk-3.2.5\n",
      "Successfully installed hazm-0.7.0 libwapiti-0.2.1 nltk-3.3\n"
     ]
    }
   ],
   "source": [
    "! pip install transformers\n",
    "! pip install hazm\n",
    "from hazm import *\n",
    "import transformers\n",
    "from transformers import AdamW\n",
    "import pickle\n",
    "from sklearn.feature_selection import mutual_info_classif\n",
    "from transformers.optimization import get_linear_schedule_with_warmup\n",
    "from sklearn.metrics import f1_score, accuracy_score, confusion_matrix, recall_score,precision_score , roc_auc_score\n",
    "import math\n",
    "import torch\n",
    "from torch.utils.data import Dataset, DataLoader\n",
    "import torch.nn as nn\n",
    "import torch.nn.functional as F\n",
    "from torch.optim import AdamW\n",
    "import seaborn as sn\n",
    "import pandas as pd\n",
    "import matplotlib.pyplot as plt\n",
    "from tqdm import tqdm\n",
    "from sklearn.preprocessing import LabelEncoder\n",
    "from sklearn.model_selection import train_test_split\n",
    "from sklearn import preprocessing\n",
    "import json\n",
    "from copy import deepcopy\n",
    "import numpy as np\n",
    "import random\n",
    "import re\n",
    "import string\n",
    "import codecs\n",
    "from shutil import copyfile\n",
    "random.seed(12345)\n",
    "label_encoder = preprocessing.LabelEncoder()"
   ]
  },
  {
   "cell_type": "markdown",
   "metadata": {
    "id": "3VbUyg6ejG1j"
   },
   "source": [
    "# Loading & Preprocessing data"
   ]
  },
  {
   "cell_type": "code",
   "execution_count": 2,
   "metadata": {
    "colab": {
     "base_uri": "https://localhost:8080/"
    },
    "id": "W5_uzORSjJ1O",
    "outputId": "0539b489-00f2-491d-b1e5-1829fd9807ca"
   },
   "outputs": [
    {
     "name": "stdout",
     "output_type": "stream",
     "text": [
      "Downloading...\n",
      "From: https://drive.google.com/uc?id=1KpJCXTkuy1NLR5MgXsoYfBsv_OnwJqIF\n",
      "To: /content/AI_NEWS.csv\n",
      "100% 16.8M/16.8M [00:00<00:00, 77.4MB/s]\n",
      "Downloading...\n",
      "From: https://drive.google.com/uc?id=1Qiq2I8EdTcgn2Wc03XqucUcMhBdVhEre\n",
      "To: /content/stopwords.txt\n",
      "100% 3.66k/3.66k [00:00<00:00, 5.71MB/s]\n"
     ]
    }
   ],
   "source": [
    "# downloading data\n",
    "\n",
    "# downloading persian stopwords\n"
   ]
  },
  {
   "cell_type": "code",
   "execution_count": 3,
   "metadata": {
    "colab": {
     "base_uri": "https://localhost:8080/",
     "height": 1000
    },
    "id": "BbbZsSqNUJAV",
    "outputId": "fb4c7dda-6aff-4476-d52e-58729c216a2d"
   },
   "outputs": [
    {
     "data": {
      "text/html": [
       "\n",
       "  <div id=\"df-2c8f2f26-8a95-44cd-aeb6-52e510f65790\">\n",
       "    <div class=\"colab-df-container\">\n",
       "      <div>\n",
       "<style scoped>\n",
       "    .dataframe tbody tr th:only-of-type {\n",
       "        vertical-align: middle;\n",
       "    }\n",
       "\n",
       "    .dataframe tbody tr th {\n",
       "        vertical-align: top;\n",
       "    }\n",
       "\n",
       "    .dataframe thead th {\n",
       "        text-align: right;\n",
       "    }\n",
       "</style>\n",
       "<table border=\"1\" class=\"dataframe\">\n",
       "  <thead>\n",
       "    <tr style=\"text-align: right;\">\n",
       "      <th></th>\n",
       "      <th>Unnamed: 0</th>\n",
       "      <th>index</th>\n",
       "      <th>title</th>\n",
       "      <th>text</th>\n",
       "      <th>category</th>\n",
       "      <th>keywords</th>\n",
       "      <th>source_name</th>\n",
       "      <th>data</th>\n",
       "      <th>tag</th>\n",
       "    </tr>\n",
       "  </thead>\n",
       "  <tbody>\n",
       "    <tr>\n",
       "      <th>0</th>\n",
       "      <td>0</td>\n",
       "      <td>2000</td>\n",
       "      <td>لیگ قهرمانان آسیا| استقلال ایران 3 - الشرطه عر...</td>\n",
       "      <td>NaN</td>\n",
       "      <td>ورزشی</td>\n",
       "      <td>لیگ قهرمانان آسیا| استقلال ایران - الشرطه عراق...</td>\n",
       "      <td>جماران</td>\n",
       "      <td>1463620</td>\n",
       "      <td>غیر مهم</td>\n",
       "    </tr>\n",
       "    <tr>\n",
       "      <th>1</th>\n",
       "      <td>1</td>\n",
       "      <td>2001</td>\n",
       "      <td>سویه لامبدا؛ خیلی دور، خیلی نزدیک!/ هر آنچه که...</td>\n",
       "      <td>NaN</td>\n",
       "      <td>اقتصادی</td>\n",
       "      <td>NaN</td>\n",
       "      <td>آنا</td>\n",
       "      <td>3041187</td>\n",
       "      <td>غیر مهم</td>\n",
       "    </tr>\n",
       "    <tr>\n",
       "      <th>2</th>\n",
       "      <td>2</td>\n",
       "      <td>2002</td>\n",
       "      <td>افزایش تحرکات هیات ها در مذاکرات وین؛ تحولاتی ...</td>\n",
       "      <td>به گزارش خبرنگار ایرنا از وین، آهنگ رفت و آمد ...</td>\n",
       "      <td>بین الملل</td>\n",
       "      <td>وین,کمیسیون مشترک برجام,علی باقری,مذاکرات برای...</td>\n",
       "      <td>ایرنا</td>\n",
       "      <td>4132788</td>\n",
       "      <td>مهم</td>\n",
       "    </tr>\n",
       "    <tr>\n",
       "      <th>3</th>\n",
       "      <td>3</td>\n",
       "      <td>2003</td>\n",
       "      <td>ناکارآمدی بازرگانی محصولات کشاورزی ناشی از ناک...</td>\n",
       "      <td>به گزارش خبرگزاری فارس از تبریز، اکبر فتحی در ...</td>\n",
       "      <td>اقتصادی</td>\n",
       "      <td>کشاورزی,آذربایجان شرقی,کشاورزان,محصولات,کشت فر...</td>\n",
       "      <td>خبرگزاری فارس</td>\n",
       "      <td>3652101</td>\n",
       "      <td>غیر مهم</td>\n",
       "    </tr>\n",
       "    <tr>\n",
       "      <th>4</th>\n",
       "      <td>4</td>\n",
       "      <td>2004</td>\n",
       "      <td>طالبان: بدنبال روابط خوب با همه کشورها از جمله...</td>\n",
       "      <td>به گزارش دفتر منطقه ای خبرگزاری تسنیم، «ذبیح ا...</td>\n",
       "      <td>بین الملل</td>\n",
       "      <td>NaN</td>\n",
       "      <td>خبرگزاری تسنیم</td>\n",
       "      <td>3846298</td>\n",
       "      <td>غیر مهم</td>\n",
       "    </tr>\n",
       "    <tr>\n",
       "      <th>...</th>\n",
       "      <td>...</td>\n",
       "      <td>...</td>\n",
       "      <td>...</td>\n",
       "      <td>...</td>\n",
       "      <td>...</td>\n",
       "      <td>...</td>\n",
       "      <td>...</td>\n",
       "      <td>...</td>\n",
       "      <td>...</td>\n",
       "    </tr>\n",
       "    <tr>\n",
       "      <th>3995</th>\n",
       "      <td>3995</td>\n",
       "      <td>8972</td>\n",
       "      <td>درگیری شدید شبه نظامیان امارات و عربستان در اس...</td>\n",
       "      <td>به گزارش گروه بین الملل خبرگزاری تسنیم به نقل ...</td>\n",
       "      <td>بین الملل</td>\n",
       "      <td>NaN</td>\n",
       "      <td>خبرگزاری تسنیم</td>\n",
       "      <td>2263257</td>\n",
       "      <td>غیر مهم</td>\n",
       "    </tr>\n",
       "    <tr>\n",
       "      <th>3996</th>\n",
       "      <td>3996</td>\n",
       "      <td>8973</td>\n",
       "      <td>امام خمینی (ره) بیش از  ایران در جهان موثر بود...</td>\n",
       "      <td>به گزارش خبرنگار خبرگزاری شبستان از شیراز، اند...</td>\n",
       "      <td>فرهنگ و هنر</td>\n",
       "      <td>NaN</td>\n",
       "      <td>شبستان</td>\n",
       "      <td>1967520</td>\n",
       "      <td>غیر مهم</td>\n",
       "    </tr>\n",
       "    <tr>\n",
       "      <th>3997</th>\n",
       "      <td>3997</td>\n",
       "      <td>8974</td>\n",
       "      <td>مادری که رهبر انقلاب برایش دعا کردند کیست؟/ قر...</td>\n",
       "      <td>گروه خانواده؛ نعیمه موحد: دیدار دانشجویی امسال...</td>\n",
       "      <td>فرهنگ و هنر</td>\n",
       "      <td>حضرت آیت  الله خامنه ای,جنبش دانشجویی,خبر خوب,...</td>\n",
       "      <td>خبرگزاری فارس</td>\n",
       "      <td>1748716</td>\n",
       "      <td>غیر مهم</td>\n",
       "    </tr>\n",
       "    <tr>\n",
       "      <th>3998</th>\n",
       "      <td>3998</td>\n",
       "      <td>8975</td>\n",
       "      <td>\\t\\t \\t\\t\\tلحظه دلهره آور نجات سگی که در یخبن...</td>\n",
       "      <td>به گزارش خبرنگار حوزه اخبار داغ گروه فضای مجاز...</td>\n",
       "      <td>فناوری و ارتباطات</td>\n",
       "      <td>نجات سگ                      \\t\\t\\t\\t\\t، \\t\\t\\...</td>\n",
       "      <td>باشگاه خبرنگاران</td>\n",
       "      <td>61151</td>\n",
       "      <td>غیر مهم</td>\n",
       "    </tr>\n",
       "    <tr>\n",
       "      <th>3999</th>\n",
       "      <td>3999</td>\n",
       "      <td>8976</td>\n",
       "      <td>آزمون داوری و میانجی گری به تعویق افتاد</td>\n",
       "      <td>به گزارش روز سه شنبه ایرنا از مرکز توسعه حل اخ...</td>\n",
       "      <td>اجتماعی</td>\n",
       "      <td>آزمون,شورای حل اختلاف,قوه قضاییه,</td>\n",
       "      <td>ایرنا</td>\n",
       "      <td>4194906</td>\n",
       "      <td>غیر مهم</td>\n",
       "    </tr>\n",
       "  </tbody>\n",
       "</table>\n",
       "<p>4000 rows × 9 columns</p>\n",
       "</div>\n",
       "      <button class=\"colab-df-convert\" onclick=\"convertToInteractive('df-2c8f2f26-8a95-44cd-aeb6-52e510f65790')\"\n",
       "              title=\"Convert this dataframe to an interactive table.\"\n",
       "              style=\"display:none;\">\n",
       "        \n",
       "  <svg xmlns=\"http://www.w3.org/2000/svg\" height=\"24px\"viewBox=\"0 0 24 24\"\n",
       "       width=\"24px\">\n",
       "    <path d=\"M0 0h24v24H0V0z\" fill=\"none\"/>\n",
       "    <path d=\"M18.56 5.44l.94 2.06.94-2.06 2.06-.94-2.06-.94-.94-2.06-.94 2.06-2.06.94zm-11 1L8.5 8.5l.94-2.06 2.06-.94-2.06-.94L8.5 2.5l-.94 2.06-2.06.94zm10 10l.94 2.06.94-2.06 2.06-.94-2.06-.94-.94-2.06-.94 2.06-2.06.94z\"/><path d=\"M17.41 7.96l-1.37-1.37c-.4-.4-.92-.59-1.43-.59-.52 0-1.04.2-1.43.59L10.3 9.45l-7.72 7.72c-.78.78-.78 2.05 0 2.83L4 21.41c.39.39.9.59 1.41.59.51 0 1.02-.2 1.41-.59l7.78-7.78 2.81-2.81c.8-.78.8-2.07 0-2.86zM5.41 20L4 18.59l7.72-7.72 1.47 1.35L5.41 20z\"/>\n",
       "  </svg>\n",
       "      </button>\n",
       "      \n",
       "  <style>\n",
       "    .colab-df-container {\n",
       "      display:flex;\n",
       "      flex-wrap:wrap;\n",
       "      gap: 12px;\n",
       "    }\n",
       "\n",
       "    .colab-df-convert {\n",
       "      background-color: #E8F0FE;\n",
       "      border: none;\n",
       "      border-radius: 50%;\n",
       "      cursor: pointer;\n",
       "      display: none;\n",
       "      fill: #1967D2;\n",
       "      height: 32px;\n",
       "      padding: 0 0 0 0;\n",
       "      width: 32px;\n",
       "    }\n",
       "\n",
       "    .colab-df-convert:hover {\n",
       "      background-color: #E2EBFA;\n",
       "      box-shadow: 0px 1px 2px rgba(60, 64, 67, 0.3), 0px 1px 3px 1px rgba(60, 64, 67, 0.15);\n",
       "      fill: #174EA6;\n",
       "    }\n",
       "\n",
       "    [theme=dark] .colab-df-convert {\n",
       "      background-color: #3B4455;\n",
       "      fill: #D2E3FC;\n",
       "    }\n",
       "\n",
       "    [theme=dark] .colab-df-convert:hover {\n",
       "      background-color: #434B5C;\n",
       "      box-shadow: 0px 1px 3px 1px rgba(0, 0, 0, 0.15);\n",
       "      filter: drop-shadow(0px 1px 2px rgba(0, 0, 0, 0.3));\n",
       "      fill: #FFFFFF;\n",
       "    }\n",
       "  </style>\n",
       "\n",
       "      <script>\n",
       "        const buttonEl =\n",
       "          document.querySelector('#df-2c8f2f26-8a95-44cd-aeb6-52e510f65790 button.colab-df-convert');\n",
       "        buttonEl.style.display =\n",
       "          google.colab.kernel.accessAllowed ? 'block' : 'none';\n",
       "\n",
       "        async function convertToInteractive(key) {\n",
       "          const element = document.querySelector('#df-2c8f2f26-8a95-44cd-aeb6-52e510f65790');\n",
       "          const dataTable =\n",
       "            await google.colab.kernel.invokeFunction('convertToInteractive',\n",
       "                                                     [key], {});\n",
       "          if (!dataTable) return;\n",
       "\n",
       "          const docLinkHtml = 'Like what you see? Visit the ' +\n",
       "            '<a target=\"_blank\" href=https://colab.research.google.com/notebooks/data_table.ipynb>data table notebook</a>'\n",
       "            + ' to learn more about interactive tables.';\n",
       "          element.innerHTML = '';\n",
       "          dataTable['output_type'] = 'display_data';\n",
       "          await google.colab.output.renderOutput(dataTable, element);\n",
       "          const docLink = document.createElement('div');\n",
       "          docLink.innerHTML = docLinkHtml;\n",
       "          element.appendChild(docLink);\n",
       "        }\n",
       "      </script>\n",
       "    </div>\n",
       "  </div>\n",
       "  "
      ],
      "text/plain": [
       "      Unnamed: 0  index  ...     data      tag\n",
       "0              0   2000  ...  1463620  غیر مهم\n",
       "1              1   2001  ...  3041187  غیر مهم\n",
       "2              2   2002  ...  4132788      مهم\n",
       "3              3   2003  ...  3652101  غیر مهم\n",
       "4              4   2004  ...  3846298  غیر مهم\n",
       "...          ...    ...  ...      ...      ...\n",
       "3995        3995   8972  ...  2263257  غیر مهم\n",
       "3996        3996   8973  ...  1967520  غیر مهم\n",
       "3997        3997   8974  ...  1748716  غیر مهم\n",
       "3998        3998   8975  ...    61151  غیر مهم\n",
       "3999        3999   8976  ...  4194906  غیر مهم\n",
       "\n",
       "[4000 rows x 9 columns]"
      ]
     },
     "execution_count": 3,
     "metadata": {},
     "output_type": "execute_result"
    }
   ],
   "source": [
    "news = pd.read_csv('AI_NEWS.csv')\n",
    "news"
   ]
  },
  {
   "cell_type": "code",
   "execution_count": 4,
   "metadata": {
    "id": "GZOVxkTvteN_"
   },
   "outputs": [],
   "source": [
    "class Preprocessing:\n",
    "\n",
    "  @staticmethod\n",
    "  def remove_punctuations(text):\n",
    "    new_text = []\n",
    "    for l in text:\n",
    "      if l not in string.punctuation + '\\u00AB' + '\\u00BB' + '\\u060C' + '\\u061B' + '\\u061F':\n",
    "        new_text.append(l)\n",
    "      else:\n",
    "        new_text.append(' ')\n",
    "    return ''.join(new_text)\n",
    "  \n",
    "  @staticmethod\n",
    "  def remove_numbers(text):\n",
    "    new_text = []\n",
    "    for l in text:\n",
    "      if l not in '0123456789۰۱۲۳۴۵۶۷۸۹':\n",
    "        new_text.append(l)\n",
    "      else:\n",
    "        new_text.append(' ')\n",
    "    return ''.join(new_text)\n",
    "\n",
    "  @staticmethod\n",
    "  def remove_stopwords(text):\n",
    "    normalizer = Normalizer()\n",
    "    stopwords = [normalizer.normalize(x.strip()) for x in codecs.open('stopwords.txt','r','utf-8').readlines()]\n",
    "    tokens = word_tokenize(text)\n",
    "    new_text = []\n",
    "    for token in tokens:\n",
    "      if token not in stopwords:\n",
    "        new_text.append(token)\n",
    "      else:\n",
    "        new_text.append(' ')\n",
    "    return ' '.join(new_text)\n",
    "\n",
    "  @staticmethod\n",
    "  def remove_extra_space(text):\n",
    "    new_text = re.sub(r'\\s+',' ',text)\n",
    "    return new_text"
   ]
  },
  {
   "cell_type": "code",
   "execution_count": 5,
   "metadata": {
    "id": "AC_nr1R4mf5E"
   },
   "outputs": [],
   "source": [
    "# a class to hold our data structure\n",
    "class Data:\n",
    "  def __init__(self, data, preprocessing=False):\n",
    "    self.title = data['title']\n",
    "    self.text = data['text']\n",
    "    self.category = data['category']\n",
    "    self.label = label_encoder.transform([data['tag']])[0]\n",
    "\n",
    "# label encoder\n",
    "all_labels = ['مهم','غیر مهم']\n",
    "label_encoder.fit(all_labels)\n",
    "classes = label_encoder.classes_\n",
    "\n",
    "# convert raw data into Data objects\n",
    "news_data = []\n",
    "for index, data in news.iterrows():\n",
    "  news_data.append(Data(data, True))"
   ]
  },
  {
   "cell_type": "code",
   "execution_count": 6,
   "metadata": {
    "id": "auvB_DkSIHfG"
   },
   "outputs": [],
   "source": [
    "def split_data(data, portions=[.6,.2,.2]):\n",
    "  random.shuffle(data)\n",
    "  data_len = len(data)\n",
    "  train_data = data[:int(portions[0] * data_len)]\n",
    "  eval_data = data[int(portions[0] * data_len):int((portions[0] + portions[1]) * data_len)]\n",
    "  test_data = data[int((portions[0] + portions[1]) * data_len):]\n",
    "  return train_data, eval_data, test_data"
   ]
  },
  {
   "cell_type": "code",
   "execution_count": 7,
   "metadata": {
    "id": "DWN5FoSdpeRT"
   },
   "outputs": [],
   "source": [
    "# a function to get a portion of data with acquired preprocessings\n",
    "def get_data(dataset, preprocess={\n",
    "    'remove_stopwords': True,\n",
    "    'remove_punctuations': True,\n",
    "    'remove_numbers': True}):\n",
    "  random.shuffle(dataset)\n",
    "  new_dataset = []\n",
    "\n",
    "  # applying preprocessings on train data\n",
    "  for i, data in enumerate(tqdm(dataset)):\n",
    "    if str(data.text) == 'nan':\n",
    "      continue\n",
    "    if preprocess['remove_stopwords'] == True:\n",
    "      dataset[i].text = Preprocessing.remove_stopwords(data.text)\n",
    "    if preprocess['remove_punctuations'] == True:\n",
    "      dataset[i].text = Preprocessing.remove_punctuations(data.text)\n",
    "    if preprocess['remove_numbers'] == True:\n",
    "      dataset[i].text = Preprocessing.remove_numbers(data.text)\n",
    "    dataset[i].text = Preprocessing.remove_extra_space(data.text)\n",
    "    new_dataset.append(dataset[i])\n",
    "\n",
    "  return split_data(new_dataset)"
   ]
  },
  {
   "cell_type": "code",
   "execution_count": 8,
   "metadata": {
    "id": "zxrPhsMOJ7kv"
   },
   "outputs": [],
   "source": [
    "# a function to print evaluation using given predicted labels and real labels\n",
    "def print_evaluation(real, pred):\n",
    "    f1macro = f1_score(real, pred, average= 'weighted')\n",
    "    f1micro = f1_score(real, pred, average='micro')\n",
    "    acc = accuracy_score(real, pred)\n",
    "    recall = recall_score(real, pred, average= 'macro', zero_division=0) #zero_division=1\n",
    "    precision = precision_score(real, pred, average= 'macro') #,zero_division=1\n",
    "    rocauc = roc_auc_score(real, pred, average= 'weighted')\n",
    "    print(f'f1-score macro: {f1macro}')\n",
    "    print(f'f1-score micro: {f1micro}')\n",
    "    print(f'accuracy score: {acc}')\n",
    "    print(f'recall score: {recall}')\n",
    "    print(f'precision score: {precision}')\n",
    "    print(f'ROCAUC score: {rocauc}')"
   ]
  },
  {
   "cell_type": "code",
   "execution_count": 9,
   "metadata": {
    "colab": {
     "base_uri": "https://localhost:8080/"
    },
    "id": "Vda3vg3V3fpT",
    "outputId": "803d64f8-2a96-4d8e-9c71-03d5a98897ba"
   },
   "outputs": [
    {
     "name": "stderr",
     "output_type": "stream",
     "text": [
      "100%|██████████| 4000/4000 [01:50<00:00, 36.26it/s]\n"
     ]
    }
   ],
   "source": [
    "train_data, eval_data, test_data = get_data(news_data, preprocess={\n",
    "    'remove_stopwords': True,\n",
    "    'remove_punctuations': True,\n",
    "    'remove_numbers': True})"
   ]
  },
  {
   "cell_type": "markdown",
   "metadata": {
    "id": "_syN6Tw-Zibx"
   },
   "source": [
    "# Reading files"
   ]
  },
  {
   "cell_type": "code",
   "execution_count": 10,
   "metadata": {
    "id": "04zrhWmjZkPC"
   },
   "outputs": [],
   "source": [
    "with open('lr_pred', 'rb') as f:\n",
    "  lr_pred = pickle.load(f)\n",
    "\n",
    "with open('lr_prob', 'rb') as f:\n",
    "  lr_prob = pickle.load(f)\n",
    "\n",
    "with open('roberta_pred', 'rb') as f:\n",
    "  roberta_pred = pickle.load(f)\n",
    "\n",
    "with open('roberta_prob', 'rb') as f:\n",
    "  roberta_prob = pickle.load(f)\n",
    "\n",
    "with open('test_lstm.pkl', 'rb') as f:\n",
    "  lstm = pickle.load(f)"
   ]
  },
  {
   "cell_type": "code",
   "execution_count": 11,
   "metadata": {
    "id": "eZCUqTB_a8sa"
   },
   "outputs": [],
   "source": [
    "all_categories = []\n",
    "for news in news_data:\n",
    "  all_categories.append(news.category)\n",
    "  categories = np.unique(all_categories)\n",
    "categories = list(categories)"
   ]
  },
  {
   "cell_type": "code",
   "execution_count": 12,
   "metadata": {
    "id": "bk__MZgbcBnT"
   },
   "outputs": [],
   "source": [
    "category_matrix = np.zeros(shape=(len(test_data), len(categories)), dtype=np.int64)"
   ]
  },
  {
   "cell_type": "code",
   "execution_count": 13,
   "metadata": {
    "id": "DchUIfcfdKMc"
   },
   "outputs": [],
   "source": [
    "for i, data in enumerate(test_data):\n",
    "  index = categories.index(data.category)\n",
    "  category_matrix[i, index] = 1"
   ]
  },
  {
   "cell_type": "code",
   "execution_count": 14,
   "metadata": {
    "id": "2irUb-4iCV1P"
   },
   "outputs": [],
   "source": [
    "lstm_pred = np.argmax(lstm, axis=1)\n",
    "lstm_prob = np.amax(lstm, axis=1)"
   ]
  },
  {
   "cell_type": "code",
   "execution_count": 15,
   "metadata": {
    "id": "Fz0mNF_fCwNM"
   },
   "outputs": [],
   "source": [
    "lr_category_mutual = mutual_info_classif(category_matrix, lr_pred)\n",
    "roberta_category_mutual = mutual_info_classif(category_matrix, roberta_pred)\n",
    "lstm_category_mutual = mutual_info_classif(category_matrix, lstm_pred)"
   ]
  },
  {
   "cell_type": "markdown",
   "metadata": {
    "id": "ENqcfh0UZaFF"
   },
   "source": [
    "# Compute Mutual Information of Categories"
   ]
  },
  {
   "cell_type": "markdown",
   "metadata": {
    "id": "WQRGMs4RGVXa"
   },
   "source": [
    "## Logistic Regression"
   ]
  },
  {
   "cell_type": "code",
   "execution_count": 16,
   "metadata": {
    "colab": {
     "base_uri": "https://localhost:8080/"
    },
    "id": "DaqH_ocxDw9A",
    "outputId": "09556732-e320-401c-e06f-28e4916e2ac6"
   },
   "outputs": [
    {
     "name": "stdout",
     "output_type": "stream",
     "text": [
      "Logistic Regression Category Mutual Information\n",
      "اجتماعی --> 0.029697166109571738\n",
      "اقتصادی --> 0.026101939468282875\n",
      "بین الملل --> 0.023554850151957796\n",
      "حوادث --> 0.018625982350700676\n",
      "سیاسی --> 0.010467847370794425\n",
      "علمی و پزشکی --> 0.01435428777387604\n",
      "فرهنگ و هنر --> 0.03302084623623136\n",
      "فناوری و ارتباطات --> 0.01595202012622865\n",
      "مذهبی --> 0.009801944831982379\n",
      "ورزشی --> 0.02220537275202239\n"
     ]
    }
   ],
   "source": [
    "print('Logistic Regression Category Mutual Information')\n",
    "for i in range(len(categories)):\n",
    "  print(categories[i],'-->',lr_category_mutual[i])"
   ]
  },
  {
   "cell_type": "markdown",
   "metadata": {
    "id": "YkL4tsElGYb3"
   },
   "source": [
    "## Roberta"
   ]
  },
  {
   "cell_type": "code",
   "execution_count": 17,
   "metadata": {
    "colab": {
     "base_uri": "https://localhost:8080/"
    },
    "id": "p4KkRCrNELyl",
    "outputId": "0888b620-40e5-427e-8690-b991ff02372d"
   },
   "outputs": [
    {
     "name": "stdout",
     "output_type": "stream",
     "text": [
      "Roberta Category Mutual Information\n",
      "اجتماعی --> 0.017730875871557084\n",
      "اقتصادی --> 0.008120058535750374\n",
      "بین الملل --> 0.01644371882363127\n",
      "حوادث --> 0.0\n",
      "سیاسی --> 0.009688277036312698\n",
      "علمی و پزشکی --> 0.022093184420894918\n",
      "فرهنگ و هنر --> 0.014739384268254163\n",
      "فناوری و ارتباطات --> 0.0\n",
      "مذهبی --> 0.020156665352824454\n",
      "ورزشی --> 0.0\n"
     ]
    }
   ],
   "source": [
    "print('Roberta Category Mutual Information')\n",
    "for i in range(len(categories)):\n",
    "  print(categories[i],'-->',roberta_category_mutual[i])"
   ]
  },
  {
   "cell_type": "markdown",
   "metadata": {
    "id": "_JggoBrXGaNl"
   },
   "source": [
    "## LSTM"
   ]
  },
  {
   "cell_type": "code",
   "execution_count": 18,
   "metadata": {
    "colab": {
     "base_uri": "https://localhost:8080/"
    },
    "id": "f1APO1U0ERPH",
    "outputId": "7920748f-ed2f-4e9a-e659-dcc200c7fe85"
   },
   "outputs": [
    {
     "name": "stdout",
     "output_type": "stream",
     "text": [
      "Lstm Category Mutual Information\n",
      "اجتماعی --> 0.014124934362115704\n",
      "اقتصادی --> 0.02900340101533616\n",
      "بین الملل --> 0.0\n",
      "حوادث --> 0.0006375883361708912\n",
      "سیاسی --> 0.02043342543179616\n",
      "علمی و پزشکی --> 0.0\n",
      "فرهنگ و هنر --> 0.034106569307269075\n",
      "فناوری و ارتباطات --> 0.018744455470445454\n",
      "مذهبی --> 0.0253655428564874\n",
      "ورزشی --> 0.023051547785689408\n"
     ]
    }
   ],
   "source": [
    "print('Lstm Category Mutual Information')\n",
    "for i in range(len(categories)):\n",
    "  print(categories[i],'-->',lstm_category_mutual[i])"
   ]
  },
  {
   "cell_type": "markdown",
   "metadata": {
    "id": "U7U4fR9zEvuJ"
   },
   "source": [
    "# Compute Distribution Error for Wrong Predictions"
   ]
  },
  {
   "cell_type": "code",
   "execution_count": 19,
   "metadata": {
    "id": "FAnHC0QcGvUV"
   },
   "outputs": [],
   "source": [
    "# a function to plot error distribution using bar plot\n",
    "def plot_error_dist(error_values):\n",
    "  plt.figure(figsize=(12,5))\n",
    "  x = error_values\n",
    "  df = pd.DataFrame({\"x\":x})\n",
    "  bins= np.linspace(0,1,21)\n",
    "  plt.hist(df.values, bins=bins, edgecolor=\"k\")\n",
    "  plt.xticks(bins)\n",
    "  plt.show()"
   ]
  },
  {
   "cell_type": "markdown",
   "metadata": {
    "id": "5yHQAWk_FRTc"
   },
   "source": [
    "## Logistic Regression"
   ]
  },
  {
   "cell_type": "code",
   "execution_count": 20,
   "metadata": {
    "colab": {
     "base_uri": "https://localhost:8080/",
     "height": 320
    },
    "id": "dNi-GCCsE1tu",
    "outputId": "b68af8fa-56a5-408c-c9f0-40b172201b8f"
   },
   "outputs": [
    {
     "data": {
      "image/png": "[encoded data removed]",
      "text/plain": [
       "<Figure size 864x360 with 1 Axes>"
      ]
     },
     "metadata": {
      "needs_background": "light"
     },
     "output_type": "display_data"
    }
   ],
   "source": [
    "lr_error_values = []\n",
    "for i, pred in enumerate(lr_pred):\n",
    "  if pred != test_data[i].label:\n",
    "    lr_error_values.append(np.abs(lr_prob[i] - .5))\n",
    "plot_error_dist(lr_error_values)"
   ]
  },
  {
   "cell_type": "markdown",
   "metadata": {
    "id": "6X0ZdtynFVNr"
   },
   "source": [
    "## Roberta"
   ]
  },
  {
   "cell_type": "code",
   "execution_count": 21,
   "metadata": {
    "colab": {
     "base_uri": "https://localhost:8080/",
     "height": 320
    },
    "id": "RYCyeTAvFW9z",
    "outputId": "55623973-5b81-4005-affa-4f7936522544"
   },
   "outputs": [
    {
     "data": {
      "image/png": "[encoded data removed]",
      "text/plain": [
       "<Figure size 864x360 with 1 Axes>"
      ]
     },
     "metadata": {
      "needs_background": "light"
     },
     "output_type": "display_data"
    }
   ],
   "source": [
    "roberta_error_values = []\n",
    "for i, pred in enumerate(roberta_pred):\n",
    "  if pred != test_data[i].label:\n",
    "    roberta_error_values.append(np.abs(lr_prob[i] - .5))\n",
    "plot_error_dist(roberta_error_values)"
   ]
  },
  {
   "cell_type": "markdown",
   "metadata": {
    "id": "fCsa6ECPFXTB"
   },
   "source": [
    "## LSTM"
   ]
  },
  {
   "cell_type": "code",
   "execution_count": 22,
   "metadata": {
    "colab": {
     "base_uri": "https://localhost:8080/",
     "height": 320
    },
    "id": "juk7E68yFZdr",
    "outputId": "c93e6abd-49dc-48b8-9da1-ce36fcc11cce"
   },
   "outputs": [
    {
     "data": {
      "image/png": "[encoded data removed]",
      "text/plain": [
       "<Figure size 864x360 with 1 Axes>"
      ]
     },
     "metadata": {
      "needs_background": "light"
     },
     "output_type": "display_data"
    }
   ],
   "source": [
    "lstm_error_values = []\n",
    "for i, pred in enumerate(lstm_pred):\n",
    "  if pred != test_data[i].label:\n",
    "    lstm_error_values.append(np.abs(lr_prob[i] - .5))\n",
    "plot_error_dist(lstm_error_values)"
   ]
  },
  {
   "cell_type": "markdown",
   "metadata": {
    "id": "UpzkA-ECNf0o"
   },
   "source": [
    "# Test Ensemble (LR + NN + Roberta)"
   ]
  },
  {
   "cell_type": "code",
   "execution_count": 24,
   "metadata": {
    "id": "_nHBiYZH0IoN"
   },
   "outputs": [],
   "source": [
    "majority_vote = np.add(lr_pred, roberta_pred, lstm_pred)\n",
    "majority_vote[majority_vote < 2] = 0\n",
    "majority_vote[majority_vote > 1] = 1\n",
    "test_labels = [data.label for data in test_data]\n",
    "ensemble_f1 = f1_score(test_labels, majority_vote, average='macro')"
   ]
  },
  {
   "cell_type": "code",
   "execution_count": 25,
   "metadata": {
    "colab": {
     "base_uri": "https://localhost:8080/"
    },
    "id": "Z4eqfzIn0LJ2",
    "outputId": "07cfbc13-b1f1-4ef6-f0d4-61f71b9e9f56"
   },
   "outputs": [
    {
     "name": "stdout",
     "output_type": "stream",
     "text": [
      "Ensemble macro-f1: 0.6745688735745345\n"
     ]
    }
   ],
   "source": [
    "print(f'Ensemble macro-f1: {ensemble_f1}')"
   ]
  }
 ],
 "metadata": {
  "colab": {
   "collapsed_sections": [
    "83xD9vTJi70h",
    "3VbUyg6ejG1j",
    "_syN6Tw-Zibx",
    "ENqcfh0UZaFF",
    "U7U4fR9zEvuJ",
    "UpzkA-ECNf0o"
   ],
   "name": "scorings.ipynb",
   "provenance": [],
   "toc_visible": true
  },
  "kernelspec": {
   "display_name": "Python 3 (ipykernel)",
   "language": "python",
   "name": "python3"
  },
  "language_info": {
   "codemirror_mode": {
    "name": "ipython",
    "version": 3
   },
   "file_extension": ".py",
   "mimetype": "text/x-python",
   "name": "python",
   "nbconvert_exporter": "python",
   "pygments_lexer": "ipython3",
   "version": "3.8.10"
  }
 },
 "nbformat": 4,
 "nbformat_minor": 1
}
