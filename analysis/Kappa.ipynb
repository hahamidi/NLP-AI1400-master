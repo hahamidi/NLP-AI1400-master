{
 "cells": [
  {
   "cell_type": "code",
   "execution_count": 1,
   "id": "2c65dc09",
   "metadata": {},
   "outputs": [],
   "source": [
    "import pandas as pd\n",
    "import numpy as np\n",
    "import matplotlib.pyplot as plt\n",
    "from statsmodels.stats.inter_rater import fleiss_kappa"
   ]
  },
  {
   "cell_type": "code",
   "execution_count": 4,
   "id": "6f7f28b1",
   "metadata": {},
   "outputs": [
    {
     "data": {
      "text/html": [
       "<div>\n",
       "<style scoped>\n",
       "    .dataframe tbody tr th:only-of-type {\n",
       "        vertical-align: middle;\n",
       "    }\n",
       "\n",
       "    .dataframe tbody tr th {\n",
       "        vertical-align: top;\n",
       "    }\n",
       "\n",
       "    .dataframe thead th {\n",
       "        text-align: right;\n",
       "    }\n",
       "</style>\n",
       "<table border=\"1\" class=\"dataframe\">\n",
       "  <thead>\n",
       "    <tr style=\"text-align: right;\">\n",
       "      <th></th>\n",
       "      <th>title</th>\n",
       "      <th>text</th>\n",
       "      <th>category</th>\n",
       "      <th>keywords</th>\n",
       "      <th>source_name</th>\n",
       "      <th>data</th>\n",
       "      <th>tag</th>\n",
       "      <th>user_id</th>\n",
       "      <th>username</th>\n",
       "      <th>dataset_id</th>\n",
       "    </tr>\n",
       "  </thead>\n",
       "  <tbody>\n",
       "    <tr>\n",
       "      <th>0</th>\n",
       "      <td>\\t\\t\\t\\tدوره تربیتی برنا برگزار خواهد شد \\t\\t\\t</td>\n",
       "      <td>NaN</td>\n",
       "      <td>مذهبی</td>\n",
       "      <td>NaN</td>\n",
       "      <td>رسا</td>\n",
       "      <td>53691</td>\n",
       "      <td>غیر مهم</td>\n",
       "      <td>2</td>\n",
       "      <td>moein</td>\n",
       "      <td>4</td>\n",
       "    </tr>\n",
       "    <tr>\n",
       "      <th>1</th>\n",
       "      <td>رانندگی با مرکب مرگ!</td>\n",
       "      <td>NaN</td>\n",
       "      <td>اجتماعی</td>\n",
       "      <td>NaN</td>\n",
       "      <td>روزنامه جوان آنلاین</td>\n",
       "      <td>3129482</td>\n",
       "      <td>غیر مهم</td>\n",
       "      <td>2</td>\n",
       "      <td>moein</td>\n",
       "      <td>4</td>\n",
       "    </tr>\n",
       "    <tr>\n",
       "      <th>2</th>\n",
       "      <td>پیاده روی دانشگاهیان سمنان با شعار «دانشگاه دو...</td>\n",
       "      <td>NaN</td>\n",
       "      <td>ورزشی</td>\n",
       "      <td>NaN</td>\n",
       "      <td>آنا</td>\n",
       "      <td>3690945</td>\n",
       "      <td>غیر مهم</td>\n",
       "      <td>2</td>\n",
       "      <td>moein</td>\n",
       "      <td>4</td>\n",
       "    </tr>\n",
       "    <tr>\n",
       "      <th>3</th>\n",
       "      <td>\\n          بهم رسانی ۱۷ هزار میلیاردی شرکت ها...</td>\n",
       "      <td>\\n\\n\\n\\n\\n</td>\n",
       "      <td>اقتصادی</td>\n",
       "      <td>NaN</td>\n",
       "      <td>شما نیوز</td>\n",
       "      <td>80125</td>\n",
       "      <td>غیر مهم</td>\n",
       "      <td>2</td>\n",
       "      <td>moein</td>\n",
       "      <td>4</td>\n",
       "    </tr>\n",
       "    <tr>\n",
       "      <th>4</th>\n",
       "      <td>کلاهبرداری ۳۵۰ میلیارد ریالی از صنف زرگران ساری</td>\n",
       "      <td>NaN</td>\n",
       "      <td>حوادث</td>\n",
       "      <td>NaN</td>\n",
       "      <td>باشگاه خبرنگاران</td>\n",
       "      <td>14781</td>\n",
       "      <td>غیر مهم</td>\n",
       "      <td>2</td>\n",
       "      <td>moein</td>\n",
       "      <td>4</td>\n",
       "    </tr>\n",
       "    <tr>\n",
       "      <th>...</th>\n",
       "      <td>...</td>\n",
       "      <td>...</td>\n",
       "      <td>...</td>\n",
       "      <td>...</td>\n",
       "      <td>...</td>\n",
       "      <td>...</td>\n",
       "      <td>...</td>\n",
       "      <td>...</td>\n",
       "      <td>...</td>\n",
       "      <td>...</td>\n",
       "    </tr>\n",
       "    <tr>\n",
       "      <th>7995</th>\n",
       "      <td>درگیری شدید شبه نظامیان امارات و عربستان در اس...</td>\n",
       "      <td>به گزارش گروه بین الملل خبرگزاری تسنیم به نقل ...</td>\n",
       "      <td>بین الملل</td>\n",
       "      <td>NaN</td>\n",
       "      <td>خبرگزاری تسنیم</td>\n",
       "      <td>2263257</td>\n",
       "      <td>غیر مهم</td>\n",
       "      <td>11</td>\n",
       "      <td>a.lagziyan</td>\n",
       "      <td>2</td>\n",
       "    </tr>\n",
       "    <tr>\n",
       "      <th>7996</th>\n",
       "      <td>امام خمینی (ره) بیش از  ایران در جهان موثر بود...</td>\n",
       "      <td>به گزارش خبرنگار خبرگزاری شبستان از شیراز، اند...</td>\n",
       "      <td>فرهنگ و هنر</td>\n",
       "      <td>NaN</td>\n",
       "      <td>شبستان</td>\n",
       "      <td>1967520</td>\n",
       "      <td>غیر مهم</td>\n",
       "      <td>11</td>\n",
       "      <td>a.lagziyan</td>\n",
       "      <td>2</td>\n",
       "    </tr>\n",
       "    <tr>\n",
       "      <th>7997</th>\n",
       "      <td>مادری که رهبر انقلاب برایش دعا کردند کیست؟/ قر...</td>\n",
       "      <td>گروه خانواده؛ نعیمه موحد: دیدار دانشجویی امسال...</td>\n",
       "      <td>فرهنگ و هنر</td>\n",
       "      <td>حضرت آیت  الله خامنه ای,جنبش دانشجویی,خبر خوب,...</td>\n",
       "      <td>خبرگزاری فارس</td>\n",
       "      <td>1748716</td>\n",
       "      <td>غیر مهم</td>\n",
       "      <td>11</td>\n",
       "      <td>a.lagziyan</td>\n",
       "      <td>2</td>\n",
       "    </tr>\n",
       "    <tr>\n",
       "      <th>7998</th>\n",
       "      <td>\\t\\t \\t\\t\\tلحظه دلهره آور نجات سگی که در یخبن...</td>\n",
       "      <td>به گزارش خبرنگار حوزه اخبار داغ گروه فضای مجاز...</td>\n",
       "      <td>فناوری و ارتباطات</td>\n",
       "      <td>نجات سگ                      \\t\\t\\t\\t\\t، \\t\\t\\...</td>\n",
       "      <td>باشگاه خبرنگاران</td>\n",
       "      <td>61151</td>\n",
       "      <td>غیر مهم</td>\n",
       "      <td>11</td>\n",
       "      <td>a.lagziyan</td>\n",
       "      <td>2</td>\n",
       "    </tr>\n",
       "    <tr>\n",
       "      <th>7999</th>\n",
       "      <td>آزمون داوری و میانجی گری به تعویق افتاد</td>\n",
       "      <td>به گزارش روز سه شنبه ایرنا از مرکز توسعه حل اخ...</td>\n",
       "      <td>اجتماعی</td>\n",
       "      <td>آزمون,شورای حل اختلاف,قوه قضاییه,</td>\n",
       "      <td>ایرنا</td>\n",
       "      <td>4194906</td>\n",
       "      <td>غیر مهم</td>\n",
       "      <td>11</td>\n",
       "      <td>a.lagziyan</td>\n",
       "      <td>2</td>\n",
       "    </tr>\n",
       "  </tbody>\n",
       "</table>\n",
       "<p>8000 rows × 10 columns</p>\n",
       "</div>"
      ],
      "text/plain": [
       "                                                  title  \\\n",
       "0       \\t\\t\\t\\tدوره تربیتی برنا برگزار خواهد شد \\t\\t\\t   \n",
       "1                                  رانندگی با مرکب مرگ!   \n",
       "2     پیاده روی دانشگاهیان سمنان با شعار «دانشگاه دو...   \n",
       "3     \\n          بهم رسانی ۱۷ هزار میلیاردی شرکت ها...   \n",
       "4       کلاهبرداری ۳۵۰ میلیارد ریالی از صنف زرگران ساری   \n",
       "...                                                 ...   \n",
       "7995  درگیری شدید شبه نظامیان امارات و عربستان در اس...   \n",
       "7996  امام خمینی (ره) بیش از  ایران در جهان موثر بود...   \n",
       "7997  مادری که رهبر انقلاب برایش دعا کردند کیست؟/ قر...   \n",
       "7998   \\t\\t \\t\\t\\tلحظه دلهره آور نجات سگی که در یخبن...   \n",
       "7999            آزمون داوری و میانجی گری به تعویق افتاد   \n",
       "\n",
       "                                                   text           category  \\\n",
       "0                                                   NaN              مذهبی   \n",
       "1                                                   NaN            اجتماعی   \n",
       "2                                                   NaN              ورزشی   \n",
       "3                                            \\n\\n\\n\\n\\n            اقتصادی   \n",
       "4                                                   NaN              حوادث   \n",
       "...                                                 ...                ...   \n",
       "7995  به گزارش گروه بین الملل خبرگزاری تسنیم به نقل ...          بین الملل   \n",
       "7996  به گزارش خبرنگار خبرگزاری شبستان از شیراز، اند...        فرهنگ و هنر   \n",
       "7997  گروه خانواده؛ نعیمه موحد: دیدار دانشجویی امسال...        فرهنگ و هنر   \n",
       "7998  به گزارش خبرنگار حوزه اخبار داغ گروه فضای مجاز...  فناوری و ارتباطات   \n",
       "7999  به گزارش روز سه شنبه ایرنا از مرکز توسعه حل اخ...            اجتماعی   \n",
       "\n",
       "                                               keywords          source_name  \\\n",
       "0                                                   NaN                  رسا   \n",
       "1                                                   NaN  روزنامه جوان آنلاین   \n",
       "2                                                   NaN                  آنا   \n",
       "3                                                   NaN             شما نیوز   \n",
       "4                                                   NaN     باشگاه خبرنگاران   \n",
       "...                                                 ...                  ...   \n",
       "7995                                                NaN       خبرگزاری تسنیم   \n",
       "7996                                                NaN               شبستان   \n",
       "7997  حضرت آیت  الله خامنه ای,جنبش دانشجویی,خبر خوب,...        خبرگزاری فارس   \n",
       "7998  نجات سگ                      \\t\\t\\t\\t\\t، \\t\\t\\...     باشگاه خبرنگاران   \n",
       "7999                  آزمون,شورای حل اختلاف,قوه قضاییه,                ایرنا   \n",
       "\n",
       "         data      tag  user_id    username  dataset_id  \n",
       "0       53691  غیر مهم        2       moein           4  \n",
       "1     3129482  غیر مهم        2       moein           4  \n",
       "2     3690945  غیر مهم        2       moein           4  \n",
       "3       80125  غیر مهم        2       moein           4  \n",
       "4       14781  غیر مهم        2       moein           4  \n",
       "...       ...      ...      ...         ...         ...  \n",
       "7995  2263257  غیر مهم       11  a.lagziyan           2  \n",
       "7996  1967520  غیر مهم       11  a.lagziyan           2  \n",
       "7997  1748716  غیر مهم       11  a.lagziyan           2  \n",
       "7998    61151  غیر مهم       11  a.lagziyan           2  \n",
       "7999  4194906  غیر مهم       11  a.lagziyan           2  \n",
       "\n",
       "[8000 rows x 10 columns]"
      ]
     },
     "execution_count": 4,
     "metadata": {},
     "output_type": "execute_result"
    }
   ],
   "source": [
    "# reading data\n",
    "import zipfile\n",
    "with zipfile.ZipFile('news_grp1.zip', 'r') as zip_ref:\n",
    "    zip_ref.extractall('news_grp1.csv')\n",
    "    \n",
    "results = pd.read_csv('news_grp1.csv/news_grp1/news_grp1.csv')\n",
    "results"
   ]
  },
  {
   "cell_type": "code",
   "execution_count": 3,
   "id": "92edb21f",
   "metadata": {},
   "outputs": [
    {
     "data": {
      "text/plain": [
       "array(['a.lagziyan', 'h.hamidi', 'h.hemmatiyan', 'moein'], dtype=object)"
      ]
     },
     "execution_count": 3,
     "metadata": {},
     "output_type": "execute_result"
    }
   ],
   "source": [
    "# get all rataers\n",
    "np.unique(results.username)"
   ]
  },
  {
   "cell_type": "code",
   "execution_count": 4,
   "id": "05c76ad7",
   "metadata": {},
   "outputs": [],
   "source": [
    "# get all of first group of raters' news\n",
    "usernames_1 = ['a.lagziyan', 'h.hamidi']\n",
    "df_1 = results.loc[results['username'].isin(usernames_1)]\n",
    "data = df_1['data']\n",
    "sorted_df_1 = df_1[data.isin(data[data.duplicated()])].sort_values(\"data\")"
   ]
  },
  {
   "cell_type": "code",
   "execution_count": 5,
   "id": "4b58845a",
   "metadata": {},
   "outputs": [],
   "source": [
    "# get all of second group of raters' news\n",
    "usernames_2 = ['moein', 'h.hemmatiyan']\n",
    "df_2 = results.loc[results['username'].isin(usernames_2)]\n",
    "data = df_2['data']\n",
    "sorted_df_2 = df_2[data.isin(data[data.duplicated()])].sort_values(\"data\")"
   ]
  },
  {
   "cell_type": "code",
   "execution_count": 7,
   "id": "f0b2a184",
   "metadata": {},
   "outputs": [],
   "source": [
    "interested_pair = []\n",
    "last_row_data = 0\n",
    "last_row_tag = ''\n",
    "last_row = ''\n",
    "for index, row in sorted_df_1.iterrows():\n",
    "    if row.data == last_row_data and row.tag != last_row_tag:\n",
    "        interested_pair.append(row)\n",
    "    last_row_data = row.data\n",
    "    last_row_tag = row.tag\n",
    "    last_row = row"
   ]
  },
  {
   "cell_type": "markdown",
   "id": "faa9945d",
   "metadata": {},
   "source": [
    "# compute agreement"
   ]
  },
  {
   "cell_type": "code",
   "execution_count": 6,
   "id": "6910c040",
   "metadata": {},
   "outputs": [],
   "source": [
    "# a function to compute agreement between a tow raters\n",
    "def compute_agreement_matrix(sorted_df):\n",
    "    total_agreement = [[0, 0],[0, 0]]\n",
    "    agreement_matrix = []\n",
    "    last_row_data = 0\n",
    "    last_row_tag = ''\n",
    "    last_row = ''\n",
    "    for index, row in sorted_df.iterrows():\n",
    "        if row.data == last_row_data:\n",
    "            if row.tag == 'مهم' and last_row_tag == 'مهم':\n",
    "                total_agreement[0][0] += 1\n",
    "                agreement_matrix.append([2,0])\n",
    "            elif row.tag == 'غیر مهم' and last_row_tag == 'غیر مهم':\n",
    "                total_agreement[1][1] += 1\n",
    "                agreement_matrix.append([0,2])\n",
    "            # hasan not important, arash important\n",
    "            elif row.tag == 'غیر مهم' and last_row_tag == 'مهم':\n",
    "                total_agreement[0][1] += 1\n",
    "                agreement_matrix.append([1,1])\n",
    "            # hasan important, arash not important\n",
    "            elif row.tag == 'مهم' and last_row_tag == 'غیر مهم':\n",
    "                total_agreement[1][0] += 1\n",
    "                agreement_matrix.append([1,1])\n",
    "\n",
    "        last_row_data = row.data\n",
    "        last_row_tag = row.tag\n",
    "        last_row = row\n",
    "    return agreement_matrix ,total_agreement"
   ]
  },
  {
   "cell_type": "code",
   "execution_count": 7,
   "id": "0c30dbbd",
   "metadata": {},
   "outputs": [],
   "source": [
    "# a function which computes kappa agreement\n",
    "def kappa_agreement(agreement_mat):\n",
    "    agreement_mat = np.array(agreement_mat)\n",
    "    AG = (agreement_mat[0][0] + agreement_mat[1][1]) / np.sum(agreement_mat)\n",
    "    AC = (agreement_mat[0][1] / agreement_mat[1][1]) * (agreement_mat[1][0] / agreement_mat[1][1])\n",
    "    K = (AG - AC) / (1 - AC)\n",
    "    return np.around(K, decimals=4)"
   ]
  },
  {
   "cell_type": "code",
   "execution_count": 8,
   "id": "34c0d48d",
   "metadata": {},
   "outputs": [],
   "source": [
    "agreement_matrix_1, total_agreement_1 = compute_agreement_matrix(sorted_df_1.sort_values(by=[\"data\", \"username\"]))\n",
    "agreement_matrix_2, total_agreement_2 = compute_agreement_matrix(sorted_df_2.sort_values(by=[\"data\", \"username\"]))"
   ]
  },
  {
   "cell_type": "code",
   "execution_count": 9,
   "id": "0b510bcb",
   "metadata": {},
   "outputs": [],
   "source": [
    "kappa_arash_hassan = kappa_agreement(agreement_mat=total_agreement_1)\n",
    "kappa_moein_hamed = kappa_agreement(agreement_mat=total_agreement_2)"
   ]
  },
  {
   "cell_type": "code",
   "execution_count": 10,
   "id": "11ff006c",
   "metadata": {},
   "outputs": [
    {
     "data": {
      "text/plain": [
       "array([[  50,  182],\n",
       "       [ 142, 1626]])"
      ]
     },
     "execution_count": 10,
     "metadata": {},
     "output_type": "execute_result"
    }
   ],
   "source": [
    "# confusion agreement matrix of first group\n",
    "np.array(total_agreement_1)"
   ]
  },
  {
   "cell_type": "code",
   "execution_count": 11,
   "id": "3496f271",
   "metadata": {},
   "outputs": [
    {
     "data": {
      "text/plain": [
       "array([[ 230,  243],\n",
       "       [ 410, 1117]])"
      ]
     },
     "execution_count": 11,
     "metadata": {},
     "output_type": "execute_result"
    }
   ],
   "source": [
    "# confusion agreement matrix of second group\n",
    "np.array(total_agreement_2)"
   ]
  },
  {
   "cell_type": "code",
   "execution_count": 12,
   "id": "08c73444",
   "metadata": {},
   "outputs": [],
   "source": [
    "agreement_matrix_total = agreement_matrix_1 + agreement_matrix_2"
   ]
  },
  {
   "cell_type": "code",
   "execution_count": 13,
   "id": "c836f9e5",
   "metadata": {},
   "outputs": [],
   "source": [
    "arash_p = total_agreement_1[0][0] + total_agreement_1[0][1]\n",
    "arash_n = total_agreement_1[1][0] + total_agreement_1[1][1]\n",
    "\n",
    "hasan_p = total_agreement_1[0][0] + total_agreement_1[1][0]\n",
    "hasan_n = total_agreement_1[0][1] + total_agreement_1[1][1]\n",
    "\n",
    "hamed_p = total_agreement_2[0][0] + total_agreement_2[0][1]\n",
    "hamed_n = total_agreement_2[1][0] + total_agreement_2[1][1]\n",
    "\n",
    "moein_p = total_agreement_2[0][0] + total_agreement_2[1][0]\n",
    "moein_n = total_agreement_2[0][1] + total_agreement_2[1][1]"
   ]
  },
  {
   "cell_type": "code",
   "execution_count": 14,
   "id": "f562db7e",
   "metadata": {},
   "outputs": [
    {
     "data": {
      "image/png": "[encoded data removed]",
      "text/plain": [
       "<Figure size 1080x504 with 1 Axes>"
      ]
     },
     "metadata": {
      "needs_background": "light"
     },
     "output_type": "display_data"
    }
   ],
   "source": [
    "plt.figure(figsize=(15,7))\n",
    "barlist = plt.bar(['arash+','arash-','hasan+','hasan-','hamed+','hamed-','moein+','moein-'] \\\n",
    "        ,[arash_p,arash_n,hasan_p,hasan_n,hamed_p,hamed_n,moein_p,moein_n])\n",
    "barlist[1].set_color('r')\n",
    "barlist[3].set_color('r')\n",
    "barlist[5].set_color('r')\n",
    "barlist[7].set_color('r')\n",
    "plt.savefig('p_n.jpg', dpi=300)"
   ]
  },
  {
   "cell_type": "markdown",
   "id": "89dfe80d",
   "metadata": {},
   "source": [
    "# Compute Fleiss Kappa Agreement For each class & Total"
   ]
  },
  {
   "cell_type": "code",
   "execution_count": 18,
   "id": "9637259f",
   "metadata": {},
   "outputs": [],
   "source": [
    "# compute kappa score for each category of news\n",
    "def compute_category_kappa(sorted_df):\n",
    "    categories = list(np.unique(sorted_df['category'].values))\n",
    "    splited_categories = {}\n",
    "    categories_kappa = {}\n",
    "    all_agreements = {}\n",
    "    for category in categories:\n",
    "        splited_categories[category] = sorted_df.loc[results['category'] == category]\n",
    "    for category in categories:\n",
    "        df = splited_categories[category]\n",
    "        cat_agreement, total_agreement = compute_agreement_matrix(df.sort_values(by=[\"data\", \"username\"]))\n",
    "        all_agreements[category] = cat_agreement\n",
    "        kappa = kappa_agreement(agreement_mat=total_agreement)\n",
    "        categories_kappa[category] = kappa\n",
    "    return categories_kappa, all_agreements"
   ]
  },
  {
   "cell_type": "code",
   "execution_count": 19,
   "id": "b5b6d256",
   "metadata": {},
   "outputs": [],
   "source": [
    "kappa_cat_arash_hassan, all_agreements_1 = compute_category_kappa(sorted_df_1)\n",
    "kappa_cat_moein_hamed, all_agreements_2 = compute_category_kappa(sorted_df_2)"
   ]
  },
  {
   "cell_type": "code",
   "execution_count": 20,
   "id": "247a0cdb",
   "metadata": {},
   "outputs": [
    {
     "name": "stdout",
     "output_type": "stream",
     "text": [
      "Fleiss Kappa Cat\n",
      "اجتماعی 0.2577851483324123\n",
      "اقتصادی 0.119415600096595\n",
      "بین الملل 0.10695934148166644\n",
      "حوادث 0.2101690731827718\n",
      "سیاسی 0.22981750695948036\n",
      "علمی و پزشکی 0.21978404737025414\n",
      "فرهنگ و هنر 0.19251119251119214\n",
      "فناوری و ارتباطات 0.14105599148822973\n",
      "مذهبی 0.07848837209302326\n",
      "ورزشی 0.22874166548446548\n"
     ]
    }
   ],
   "source": [
    "print('Fleiss Kappa Cat')\n",
    "for cat in list(all_agreements_1.keys()):\n",
    "    all_agreements_cat = all_agreements_1[cat] + all_agreements_2[cat]\n",
    "    print(cat, fleiss_kappa(all_agreements_cat))"
   ]
  },
  {
   "cell_type": "code",
   "execution_count": 21,
   "id": "47072c6e",
   "metadata": {},
   "outputs": [
    {
     "data": {
      "text/plain": [
       "0.2131779406744623"
      ]
     },
     "execution_count": 21,
     "metadata": {},
     "output_type": "execute_result"
    }
   ],
   "source": [
    "fleiss_kappa(agreement_matrix_total)"
   ]
  },
  {
   "cell_type": "markdown",
   "id": "f087d87c",
   "metadata": {},
   "source": [
    "# Compute Kappa Agreement For each class & Total"
   ]
  },
  {
   "cell_type": "code",
   "execution_count": 22,
   "id": "ef0f8d44",
   "metadata": {},
   "outputs": [],
   "source": [
    "category = ['social','economics','international','incidents','politics','science','art','tech','religious','sports']"
   ]
  },
  {
   "cell_type": "code",
   "execution_count": 23,
   "id": "96ab62e5",
   "metadata": {},
   "outputs": [],
   "source": [
    "kappa_cat_arash_hassan, _ = compute_category_kappa(sorted_df_1)"
   ]
  },
  {
   "cell_type": "code",
   "execution_count": 24,
   "id": "d3e8486f",
   "metadata": {},
   "outputs": [
    {
     "data": {
      "text/plain": [
       "('Kappa',\n",
       " {'اجتماعی': 0.8623,\n",
       "  'اقتصادی': 0.6929,\n",
       "  'بین الملل': 0.7759,\n",
       "  'حوادث': 0.942,\n",
       "  'سیاسی': 0.7999,\n",
       "  'علمی و پزشکی': 0.759,\n",
       "  'فرهنگ و هنر': 0.9762,\n",
       "  'فناوری و ارتباطات': 0.8049,\n",
       "  'مذهبی': 0.9697,\n",
       "  'ورزشی': 0.846},\n",
       " 0.8364)"
      ]
     },
     "execution_count": 24,
     "metadata": {},
     "output_type": "execute_result"
    }
   ],
   "source": [
    "'Kappa',kappa_cat_arash_hassan, kappa_arash_hassan"
   ]
  },
  {
   "cell_type": "code",
   "execution_count": 25,
   "id": "e907af89",
   "metadata": {},
   "outputs": [],
   "source": [
    "kappa_cat_moein_hamed, _ = compute_category_kappa(sorted_df_2)"
   ]
  },
  {
   "cell_type": "code",
   "execution_count": 26,
   "id": "60cb25a2",
   "metadata": {},
   "outputs": [
    {
     "data": {
      "text/plain": [
       "('Kappa',\n",
       " {'اجتماعی': 0.8281,\n",
       "  'اقتصادی': 0.63,\n",
       "  'بین الملل': -0.1027,\n",
       "  'حوادث': 0.6229,\n",
       "  'سیاسی': 0.7114,\n",
       "  'علمی و پزشکی': 0.5102,\n",
       "  'فرهنگ و هنر': 0.8316,\n",
       "  'فناوری و ارتباطات': 0.5392,\n",
       "  'مذهبی': 0.8475,\n",
       "  'ورزشی': 0.6395},\n",
       " 0.6452)"
      ]
     },
     "execution_count": 26,
     "metadata": {},
     "output_type": "execute_result"
    }
   ],
   "source": [
    "'Kappa',kappa_cat_moein_hamed, kappa_moein_hamed"
   ]
  },
  {
   "cell_type": "markdown",
   "id": "d7c5d371",
   "metadata": {},
   "source": [
    "## Kappa agreement on bar plot"
   ]
  },
  {
   "cell_type": "code",
   "execution_count": 27,
   "id": "879ba8f7",
   "metadata": {},
   "outputs": [
    {
     "name": "stderr",
     "output_type": "stream",
     "text": [
      "findfont: Font family ['BNasanin'] not found. Falling back to DejaVu Sans.\n"
     ]
    },
    {
     "data": {
      "image/png": "[encoded data removed]",
      "text/plain": [
       "<Figure size 1080x504 with 1 Axes>"
      ]
     },
     "metadata": {
      "needs_background": "light"
     },
     "output_type": "display_data"
    },
    {
     "data": {
      "text/plain": [
       "<Figure size 432x288 with 0 Axes>"
      ]
     },
     "metadata": {},
     "output_type": "display_data"
    }
   ],
   "source": [
    "# arash and hasan categorial kappa agreement\n",
    "plt.figure(figsize=(15,7))\n",
    "plt.rcParams[\"font.family\"] = \"BNasanin\"\n",
    "plt.bar(category,list(kappa_cat_arash_hassan.values()))\n",
    "plt.show()\n",
    "plt.savefig('a_h.png', dpi=300)"
   ]
  },
  {
   "cell_type": "code",
   "execution_count": 28,
   "id": "9a1767a4",
   "metadata": {},
   "outputs": [
    {
     "data": {
      "image/png": "[encoded data removed]",
      "text/plain": [
       "<Figure size 1080x504 with 1 Axes>"
      ]
     },
     "metadata": {
      "needs_background": "light"
     },
     "output_type": "display_data"
    },
    {
     "data": {
      "text/plain": [
       "<Figure size 432x288 with 0 Axes>"
      ]
     },
     "metadata": {},
     "output_type": "display_data"
    }
   ],
   "source": [
    "# hamed and moein categorial kappa agreement\n",
    "plt.figure(figsize=(15,7))\n",
    "plt.rcParams[\"font.family\"] = \"BNasanin\"\n",
    "plt.bar(category,list(kappa_cat_moein_hamed.values()))\n",
    "plt.show()\n",
    "plt.savefig('m_h.jpg', dpi=300)"
   ]
  }
 ],
 "metadata": {
  "kernelspec": {
   "display_name": "Python 3 (ipykernel)",
   "language": "python",
   "name": "python3"
  },
  "language_info": {
   "codemirror_mode": {
    "name": "ipython",
    "version": 3
   },
   "file_extension": ".py",
   "mimetype": "text/x-python",
   "name": "python",
   "nbconvert_exporter": "python",
   "pygments_lexer": "ipython3",
   "version": "3.8.10"
  }
 },
 "nbformat": 4,
 "nbformat_minor": 5
}
