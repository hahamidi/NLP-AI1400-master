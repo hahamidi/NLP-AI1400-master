{
  "cells": [
    {
      "cell_type": "code",
      "execution_count": null,
      "metadata": {
        "id": "f91fsiouTibz"
      },
      "outputs": [],
      "source": []
    },
    {
      "cell_type": "code",
      "execution_count": null,
      "metadata": {
        "colab": {
          "base_uri": "https://localhost:8080/"
        },
        "id": "KtuOkqlAJiUK",
        "outputId": "9ec1456e-5f92-4e60-a5fc-0b72c662f399"
      },
      "outputs": [
        {
          "name": "stdout",
          "output_type": "stream",
          "text": [
            "Collecting hazm\n",
            "  Downloading hazm-0.7.0-py3-none-any.whl (316 kB)\n",
            "\u001b[?25l\r\u001b[K     |█                               | 10 kB 21.7 MB/s eta 0:00:01\r\u001b[K     |██                              | 20 kB 25.5 MB/s eta 0:00:01\r\u001b[K     |███                             | 30 kB 22.9 MB/s eta 0:00:01\r\u001b[K     |████▏                           | 40 kB 11.8 MB/s eta 0:00:01\r\u001b[K     |█████▏                          | 51 kB 9.9 MB/s eta 0:00:01\r\u001b[K     |██████▏                         | 61 kB 11.5 MB/s eta 0:00:01\r\u001b[K     |███████▎                        | 71 kB 10.4 MB/s eta 0:00:01\r\u001b[K     |████████▎                       | 81 kB 11.4 MB/s eta 0:00:01\r\u001b[K     |█████████▎                      | 92 kB 12.6 MB/s eta 0:00:01\r\u001b[K     |██████████▍                     | 102 kB 11.8 MB/s eta 0:00:01\r\u001b[K     |███████████▍                    | 112 kB 11.8 MB/s eta 0:00:01\r\u001b[K     |████████████▍                   | 122 kB 11.8 MB/s eta 0:00:01\r\u001b[K     |█████████████▌                  | 133 kB 11.8 MB/s eta 0:00:01\r\u001b[K     |██████████████▌                 | 143 kB 11.8 MB/s eta 0:00:01\r\u001b[K     |███████████████▌                | 153 kB 11.8 MB/s eta 0:00:01\r\u001b[K     |████████████████▋               | 163 kB 11.8 MB/s eta 0:00:01\r\u001b[K     |█████████████████▋              | 174 kB 11.8 MB/s eta 0:00:01\r\u001b[K     |██████████████████▋             | 184 kB 11.8 MB/s eta 0:00:01\r\u001b[K     |███████████████████▋            | 194 kB 11.8 MB/s eta 0:00:01\r\u001b[K     |████████████████████▊           | 204 kB 11.8 MB/s eta 0:00:01\r\u001b[K     |█████████████████████▊          | 215 kB 11.8 MB/s eta 0:00:01\r\u001b[K     |██████████████████████▊         | 225 kB 11.8 MB/s eta 0:00:01\r\u001b[K     |███████████████████████▉        | 235 kB 11.8 MB/s eta 0:00:01\r\u001b[K     |████████████████████████▉       | 245 kB 11.8 MB/s eta 0:00:01\r\u001b[K     |█████████████████████████▉      | 256 kB 11.8 MB/s eta 0:00:01\r\u001b[K     |███████████████████████████     | 266 kB 11.8 MB/s eta 0:00:01\r\u001b[K     |████████████████████████████    | 276 kB 11.8 MB/s eta 0:00:01\r\u001b[K     |█████████████████████████████   | 286 kB 11.8 MB/s eta 0:00:01\r\u001b[K     |██████████████████████████████  | 296 kB 11.8 MB/s eta 0:00:01\r\u001b[K     |███████████████████████████████ | 307 kB 11.8 MB/s eta 0:00:01\r\u001b[K     |████████████████████████████████| 316 kB 11.8 MB/s \n",
            "\u001b[?25hCollecting nltk==3.3\n",
            "  Downloading nltk-3.3.0.zip (1.4 MB)\n",
            "\u001b[K     |████████████████████████████████| 1.4 MB 44.3 MB/s \n",
            "\u001b[?25hCollecting libwapiti>=0.2.1\n",
            "  Downloading libwapiti-0.2.1.tar.gz (233 kB)\n",
            "\u001b[K     |████████████████████████████████| 233 kB 47.7 MB/s \n",
            "\u001b[?25hRequirement already satisfied: six in /usr/local/lib/python3.7/dist-packages (from nltk==3.3->hazm) (1.15.0)\n",
            "Building wheels for collected packages: nltk, libwapiti\n",
            "  Building wheel for nltk (setup.py) ... \u001b[?25l\u001b[?25hdone\n",
            "  Created wheel for nltk: filename=nltk-3.3-py3-none-any.whl size=1394487 sha256=abd63b603ce4f4825295986ec2a3be73da1b1730c857bf8e24cd17d43e61338f\n",
            "  Stored in directory: /root/.cache/pip/wheels/9b/fd/0c/d92302c876e5de87ebd7fc0979d82edb93e2d8d768bf71fac4\n",
            "  Building wheel for libwapiti (setup.py) ... \u001b[?25l\u001b[?25hdone\n",
            "  Created wheel for libwapiti: filename=libwapiti-0.2.1-cp37-cp37m-linux_x86_64.whl size=153879 sha256=baca13afcd98cf40e8a3122d2c77434658d0c68a9ca9a72c8f14b8245b6a7c0e\n",
            "  Stored in directory: /root/.cache/pip/wheels/ab/b2/5b/0fe4b8f5c0e65341e8ea7bb3f4a6ebabfe8b1ac31322392dbf\n",
            "Successfully built nltk libwapiti\n",
            "Installing collected packages: nltk, libwapiti, hazm\n",
            "  Attempting uninstall: nltk\n",
            "    Found existing installation: nltk 3.2.5\n",
            "    Uninstalling nltk-3.2.5:\n",
            "      Successfully uninstalled nltk-3.2.5\n",
            "Successfully installed hazm-0.7.0 libwapiti-0.2.1 nltk-3.3\n"
          ]
        }
      ],
      "source": [
        "\n",
        "! pip install hazm\n",
        "from hazm import *\n",
        "from sklearn.metrics import f1_score, accuracy_score, confusion_matrix, recall_score\n",
        "import math\n",
        "import seaborn as sn\n",
        "import pandas as pd\n",
        "import matplotlib.pyplot as plt\n",
        "from tqdm import tqdm\n",
        "from sklearn.preprocessing import LabelEncoder\n",
        "from sklearn.model_selection import train_test_split\n",
        "from sklearn import preprocessing\n",
        "import json\n",
        "from copy import deepcopy\n",
        "import numpy as np\n",
        "import random\n",
        "import re\n",
        "import string\n",
        "import codecs\n",
        "from shutil import copyfile\n",
        "random.seed(12345)\n",
        "label_encoder = preprocessing.LabelEncoder()"
      ]
    },
    {
      "cell_type": "code",
      "execution_count": null,
      "metadata": {
        "colab": {
          "base_uri": "https://localhost:8080/"
        },
        "id": "q0BekvNLJ2jj",
        "outputId": "e7103c48-2ed6-4aff-bec9-53001a71704b"
      },
      "outputs": [
        {
          "name": "stdout",
          "output_type": "stream",
          "text": [
            "Downloading...\n",
            "From: https://drive.google.com/uc?id=1KpJCXTkuy1NLR5MgXsoYfBsv_OnwJqIF\n",
            "To: /content/AI_NEWS.csv\n",
            "100% 16.8M/16.8M [00:00<00:00, 152MB/s]\n",
            "Downloading...\n",
            "From: https://drive.google.com/uc?id=1Qiq2I8EdTcgn2Wc03XqucUcMhBdVhEre\n",
            "To: /content/stopwords.txt\n",
            "100% 3.66k/3.66k [00:00<00:00, 4.95MB/s]\n"
          ]
        }
      ],
      "source": [
        "# downloading data\n",
        "# downloading persian stopwords\n"
      ]
    },
    {
      "cell_type": "code",
      "execution_count": null,
      "metadata": {
        "colab": {
          "base_uri": "https://localhost:8080/",
          "height": 667
        },
        "id": "aiOXLNhNKPNM",
        "outputId": "38030cfa-6fea-4c52-d58e-722ba685c6fe"
      },
      "outputs": [
        {
          "data": {
            "text/html": [
              "\n",
              "  <div id=\"df-08f6d2bc-2b67-439e-938e-362313f55119\">\n",
              "    <div class=\"colab-df-container\">\n",
              "      <div>\n",
              "<style scoped>\n",
              "    .dataframe tbody tr th:only-of-type {\n",
              "        vertical-align: middle;\n",
              "    }\n",
              "\n",
              "    .dataframe tbody tr th {\n",
              "        vertical-align: top;\n",
              "    }\n",
              "\n",
              "    .dataframe thead th {\n",
              "        text-align: right;\n",
              "    }\n",
              "</style>\n",
              "<table border=\"1\" class=\"dataframe\">\n",
              "  <thead>\n",
              "    <tr style=\"text-align: right;\">\n",
              "      <th></th>\n",
              "      <th>Unnamed: 0</th>\n",
              "      <th>index</th>\n",
              "      <th>title</th>\n",
              "      <th>text</th>\n",
              "      <th>category</th>\n",
              "      <th>keywords</th>\n",
              "      <th>source_name</th>\n",
              "      <th>data</th>\n",
              "      <th>tag</th>\n",
              "    </tr>\n",
              "  </thead>\n",
              "  <tbody>\n",
              "    <tr>\n",
              "      <th>0</th>\n",
              "      <td>0</td>\n",
              "      <td>2000</td>\n",
              "      <td>لیگ قهرمانان آسیا| استقلال ایران 3 - الشرطه عر...</td>\n",
              "      <td>NaN</td>\n",
              "      <td>ورزشی</td>\n",
              "      <td>لیگ قهرمانان آسیا| استقلال ایران - الشرطه عراق...</td>\n",
              "      <td>جماران</td>\n",
              "      <td>1463620</td>\n",
              "      <td>غیر مهم</td>\n",
              "    </tr>\n",
              "    <tr>\n",
              "      <th>1</th>\n",
              "      <td>1</td>\n",
              "      <td>2001</td>\n",
              "      <td>سویه لامبدا؛ خیلی دور، خیلی نزدیک!/ هر آنچه که...</td>\n",
              "      <td>NaN</td>\n",
              "      <td>اقتصادی</td>\n",
              "      <td>NaN</td>\n",
              "      <td>آنا</td>\n",
              "      <td>3041187</td>\n",
              "      <td>غیر مهم</td>\n",
              "    </tr>\n",
              "    <tr>\n",
              "      <th>2</th>\n",
              "      <td>2</td>\n",
              "      <td>2002</td>\n",
              "      <td>افزایش تحرکات هیات ها در مذاکرات وین؛ تحولاتی ...</td>\n",
              "      <td>به گزارش خبرنگار ایرنا از وین، آهنگ رفت و آمد ...</td>\n",
              "      <td>بین الملل</td>\n",
              "      <td>وین,کمیسیون مشترک برجام,علی باقری,مذاکرات برای...</td>\n",
              "      <td>ایرنا</td>\n",
              "      <td>4132788</td>\n",
              "      <td>مهم</td>\n",
              "    </tr>\n",
              "    <tr>\n",
              "      <th>3</th>\n",
              "      <td>3</td>\n",
              "      <td>2003</td>\n",
              "      <td>ناکارآمدی بازرگانی محصولات کشاورزی ناشی از ناک...</td>\n",
              "      <td>به گزارش خبرگزاری فارس از تبریز، اکبر فتحی در ...</td>\n",
              "      <td>اقتصادی</td>\n",
              "      <td>کشاورزی,آذربایجان شرقی,کشاورزان,محصولات,کشت فر...</td>\n",
              "      <td>خبرگزاری فارس</td>\n",
              "      <td>3652101</td>\n",
              "      <td>غیر مهم</td>\n",
              "    </tr>\n",
              "    <tr>\n",
              "      <th>4</th>\n",
              "      <td>4</td>\n",
              "      <td>2004</td>\n",
              "      <td>طالبان: بدنبال روابط خوب با همه کشورها از جمله...</td>\n",
              "      <td>به گزارش دفتر منطقه ای خبرگزاری تسنیم، «ذبیح ا...</td>\n",
              "      <td>بین الملل</td>\n",
              "      <td>NaN</td>\n",
              "      <td>خبرگزاری تسنیم</td>\n",
              "      <td>3846298</td>\n",
              "      <td>غیر مهم</td>\n",
              "    </tr>\n",
              "    <tr>\n",
              "      <th>5</th>\n",
              "      <td>5</td>\n",
              "      <td>2005</td>\n",
              "      <td>ابهامات عرضه خودرو در بورس</td>\n",
              "      <td>به گزارش ایسنا، کمیسیون صنایع مجلس عرضه خودرو ...</td>\n",
              "      <td>اقتصادی</td>\n",
              "      <td>عرضه خودرو در بورس کالا,</td>\n",
              "      <td>ایسنا</td>\n",
              "      <td>1516522</td>\n",
              "      <td>غیر مهم</td>\n",
              "    </tr>\n",
              "    <tr>\n",
              "      <th>6</th>\n",
              "      <td>6</td>\n",
              "      <td>2006</td>\n",
              "      <td>حذف ارز ۴۲۰۰ تومانی فشاری به اقشار ضعیف وارد ن...</td>\n",
              "      <td>مصطفی طاهری عضو کمیسیون صنایع و معادن مجلس شور...</td>\n",
              "      <td>اقتصادی</td>\n",
              "      <td>NaN</td>\n",
              "      <td>خبرگزاری تسنیم</td>\n",
              "      <td>4319697</td>\n",
              "      <td>مهم</td>\n",
              "    </tr>\n",
              "    <tr>\n",
              "      <th>7</th>\n",
              "      <td>7</td>\n",
              "      <td>2007</td>\n",
              "      <td>گوگل از یک آسیب پذیری خطرناک در ویندوز پرده بر...</td>\n",
              "      <td>تیم امنیتی پروژه Zero گوگل از یک آسیب پذیری خط...</td>\n",
              "      <td>فناوری و ارتباطات</td>\n",
              "      <td>NaN</td>\n",
              "      <td>دیجیاتو</td>\n",
              "      <td>143666</td>\n",
              "      <td>غیر مهم</td>\n",
              "    </tr>\n",
              "    <tr>\n",
              "      <th>8</th>\n",
              "      <td>8</td>\n",
              "      <td>2008</td>\n",
              "      <td>تولید اولین واکسن ایرانی آبزیان به همت یک شرکت...</td>\n",
              "      <td>سرویس جامعه جوان آنلاین: دکتر مریم ابراهیمی تا...</td>\n",
              "      <td>علمی و پزشکی</td>\n",
              "      <td>NaN</td>\n",
              "      <td>روزنامه جوان آنلاین</td>\n",
              "      <td>1437136</td>\n",
              "      <td>غیر مهم</td>\n",
              "    </tr>\n",
              "    <tr>\n",
              "      <th>9</th>\n",
              "      <td>9</td>\n",
              "      <td>2009</td>\n",
              "      <td>قیمت جهانی نفت امروز ۱۴۰۰/۰۱/۲۷|برنت به مرز ۶۷...</td>\n",
              "      <td>به گزارش خبرگزاری تسنیم به نقل از رویترز، در ح...</td>\n",
              "      <td>اقتصادی</td>\n",
              "      <td>NaN</td>\n",
              "      <td>خبرگزاری تسنیم</td>\n",
              "      <td>1425854</td>\n",
              "      <td>غیر مهم</td>\n",
              "    </tr>\n",
              "  </tbody>\n",
              "</table>\n",
              "</div>\n",
              "      <button class=\"colab-df-convert\" onclick=\"convertToInteractive('df-08f6d2bc-2b67-439e-938e-362313f55119')\"\n",
              "              title=\"Convert this dataframe to an interactive table.\"\n",
              "              style=\"display:none;\">\n",
              "        \n",
              "  <svg xmlns=\"http://www.w3.org/2000/svg\" height=\"24px\"viewBox=\"0 0 24 24\"\n",
              "       width=\"24px\">\n",
              "    <path d=\"M0 0h24v24H0V0z\" fill=\"none\"/>\n",
              "    <path d=\"M18.56 5.44l.94 2.06.94-2.06 2.06-.94-2.06-.94-.94-2.06-.94 2.06-2.06.94zm-11 1L8.5 8.5l.94-2.06 2.06-.94-2.06-.94L8.5 2.5l-.94 2.06-2.06.94zm10 10l.94 2.06.94-2.06 2.06-.94-2.06-.94-.94-2.06-.94 2.06-2.06.94z\"/><path d=\"M17.41 7.96l-1.37-1.37c-.4-.4-.92-.59-1.43-.59-.52 0-1.04.2-1.43.59L10.3 9.45l-7.72 7.72c-.78.78-.78 2.05 0 2.83L4 21.41c.39.39.9.59 1.41.59.51 0 1.02-.2 1.41-.59l7.78-7.78 2.81-2.81c.8-.78.8-2.07 0-2.86zM5.41 20L4 18.59l7.72-7.72 1.47 1.35L5.41 20z\"/>\n",
              "  </svg>\n",
              "      </button>\n",
              "      \n",
              "  <style>\n",
              "    .colab-df-container {\n",
              "      display:flex;\n",
              "      flex-wrap:wrap;\n",
              "      gap: 12px;\n",
              "    }\n",
              "\n",
              "    .colab-df-convert {\n",
              "      background-color: #E8F0FE;\n",
              "      border: none;\n",
              "      border-radius: 50%;\n",
              "      cursor: pointer;\n",
              "      display: none;\n",
              "      fill: #1967D2;\n",
              "      height: 32px;\n",
              "      padding: 0 0 0 0;\n",
              "      width: 32px;\n",
              "    }\n",
              "\n",
              "    .colab-df-convert:hover {\n",
              "      background-color: #E2EBFA;\n",
              "      box-shadow: 0px 1px 2px rgba(60, 64, 67, 0.3), 0px 1px 3px 1px rgba(60, 64, 67, 0.15);\n",
              "      fill: #174EA6;\n",
              "    }\n",
              "\n",
              "    [theme=dark] .colab-df-convert {\n",
              "      background-color: #3B4455;\n",
              "      fill: #D2E3FC;\n",
              "    }\n",
              "\n",
              "    [theme=dark] .colab-df-convert:hover {\n",
              "      background-color: #434B5C;\n",
              "      box-shadow: 0px 1px 3px 1px rgba(0, 0, 0, 0.15);\n",
              "      filter: drop-shadow(0px 1px 2px rgba(0, 0, 0, 0.3));\n",
              "      fill: #FFFFFF;\n",
              "    }\n",
              "  </style>\n",
              "\n",
              "      <script>\n",
              "        const buttonEl =\n",
              "          document.querySelector('#df-08f6d2bc-2b67-439e-938e-362313f55119 button.colab-df-convert');\n",
              "        buttonEl.style.display =\n",
              "          google.colab.kernel.accessAllowed ? 'block' : 'none';\n",
              "\n",
              "        async function convertToInteractive(key) {\n",
              "          const element = document.querySelector('#df-08f6d2bc-2b67-439e-938e-362313f55119');\n",
              "          const dataTable =\n",
              "            await google.colab.kernel.invokeFunction('convertToInteractive',\n",
              "                                                     [key], {});\n",
              "          if (!dataTable) return;\n",
              "\n",
              "          const docLinkHtml = 'Like what you see? Visit the ' +\n",
              "            '<a target=\"_blank\" href=https://colab.research.google.com/notebooks/data_table.ipynb>data table notebook</a>'\n",
              "            + ' to learn more about interactive tables.';\n",
              "          element.innerHTML = '';\n",
              "          dataTable['output_type'] = 'display_data';\n",
              "          await google.colab.output.renderOutput(dataTable, element);\n",
              "          const docLink = document.createElement('div');\n",
              "          docLink.innerHTML = docLinkHtml;\n",
              "          element.appendChild(docLink);\n",
              "        }\n",
              "      </script>\n",
              "    </div>\n",
              "  </div>\n",
              "  "
            ],
            "text/plain": [
              "   Unnamed: 0  index  ...     data      tag\n",
              "0           0   2000  ...  1463620  غیر مهم\n",
              "1           1   2001  ...  3041187  غیر مهم\n",
              "2           2   2002  ...  4132788      مهم\n",
              "3           3   2003  ...  3652101  غیر مهم\n",
              "4           4   2004  ...  3846298  غیر مهم\n",
              "5           5   2005  ...  1516522  غیر مهم\n",
              "6           6   2006  ...  4319697      مهم\n",
              "7           7   2007  ...   143666  غیر مهم\n",
              "8           8   2008  ...  1437136  غیر مهم\n",
              "9           9   2009  ...  1425854  غیر مهم\n",
              "\n",
              "[10 rows x 9 columns]"
            ]
          },
          "execution_count": 3,
          "metadata": {},
          "output_type": "execute_result"
        }
      ],
      "source": [
        "news = pd.read_csv('AI_NEWS.csv')\n",
        "news.head(10)"
      ]
    },
    {
      "cell_type": "code",
      "execution_count": null,
      "metadata": {
        "colab": {
          "base_uri": "https://localhost:8080/"
        },
        "id": "So_G5YOLKixx",
        "outputId": "3de73504-1292-4f6e-eb25-242c6d148d7b"
      },
      "outputs": [
        {
          "data": {
            "text/plain": [
              "ایرنا               492\n",
              "خبرگزاری فارس       478\n",
              "ایسنا               413\n",
              "خبرگزاری تسنیم      291\n",
              "خبرگزاری مهر        232\n",
              "خبرگزاری برنا       180\n",
              "باشگاه خبرنگاران    149\n",
              "ایلنا               148\n",
              "ورزش 3              140\n",
              "شبستان              132\n",
              "حوزه                 87\n",
              "دنیای اقتصاد         83\n",
              "Name: source_name, dtype: int64"
            ]
          },
          "execution_count": 4,
          "metadata": {},
          "output_type": "execute_result"
        }
      ],
      "source": [
        "news[\"source_name\"].value_counts()[0:12]"
      ]
    },
    {
      "cell_type": "code",
      "execution_count": null,
      "metadata": {
        "id": "xoNHaYfiLgAl"
      },
      "outputs": [],
      "source": [
        "khabar_gozari_word={\n",
        "    \"hozeh\": [\" خبرگزاری حوزه\",\n",
        "\" خبرگزاری «حوزه»\"],\n",
        "    \"fars\":[\" گروه بین الملل خبرگزاری فارس\",\n",
        "            \"خبرگزاری فارس\"],\n",
        "      \"isna\":[\"ایسنا\"],\n",
        "      \"tasnim\":[\"تسنیم\"],\n",
        "      \"mehr\" : [\"خبرگزاری مهر\",\"خبرنگار مهر\"],\n",
        "      \"borna\":[\"برنا \",\"برنا،\"],\n",
        "      \"bashgah khabarnegaran\":[\"باشگاه خبرنگاران\"],\n",
        "      \"ilna\":[\"ایلنا\"],\n",
        "      \"varzesh3\":[\"ورزش سه\",\n",
        "                  'گزارش \"ورزش سه\"'],\n",
        "      \"shabestan\":[\"خبرگزاری شبستان\",\"شبستان\"]     \n",
        "}\n",
        "all_pattern = []\n",
        "for index in khabar_gozari_word:\n",
        "  for item in khabar_gozari_word[index]:\n",
        "      all_pattern.append(item)"
      ]
    },
    {
      "cell_type": "code",
      "execution_count": null,
      "metadata": {
        "id": "su_ENfBdKtcj"
      },
      "outputs": [],
      "source": [
        "class Preprocessing:\n",
        "\n",
        "  @staticmethod\n",
        "  def remove_punctuations(text):\n",
        "    new_text = []\n",
        "    for l in text:\n",
        "      if l not in string.punctuation + '\\u00AB' + '\\u00BB' + '\\u060C' + '\\u061B' + '\\u061F':\n",
        "        new_text.append(l)\n",
        "      else:\n",
        "        new_text.append(' ')\n",
        "    return ''.join(new_text)\n",
        "  \n",
        "  @staticmethod\n",
        "  def remove_numbers(text):\n",
        "    new_text = []\n",
        "    for l in text:\n",
        "      if l not in '0123456789۰۱۲۳۴۵۶۷۸۹':\n",
        "        new_text.append(l)\n",
        "      else:\n",
        "        new_text.append(' ')\n",
        "    return ''.join(new_text)\n",
        "\n",
        "  @staticmethod\n",
        "  def remove_stopwords(text):\n",
        "    normalizer = Normalizer()\n",
        "    stopwords = [normalizer.normalize(x.strip()) for x in codecs.open('stopwords.txt','r','utf-8').readlines()]\n",
        "    tokens = word_tokenize(text)\n",
        "    new_text = []\n",
        "    for token in tokens:\n",
        "      if token not in stopwords:\n",
        "        new_text.append(token)\n",
        "      else:\n",
        "        new_text.append(' ')\n",
        "    return ' '.join(new_text)\n",
        "\n",
        "  @staticmethod\n",
        "  def remove_extra_space(text):\n",
        "    new_text = re.sub(r'\\s+',' ',text)\n",
        "    return new_text"
      ]
    },
    {
      "cell_type": "code",
      "execution_count": null,
      "metadata": {
        "id": "VxtT5cVmKvum"
      },
      "outputs": [],
      "source": [
        "# a class to hold our data structure\n",
        "class Data:\n",
        "  def __init__(self, data, preprocessing=False):\n",
        "    self.title = data['title']\n",
        "    self.text = data['text']\n",
        "    self.category = data['category']\n",
        "    self.label = label_encoder.transform([data['tag']])[0]\n",
        "\n",
        "# label encoder\n",
        "all_labels = ['مهم','غیر مهم']\n",
        "label_encoder.fit(all_labels)\n",
        "classes = label_encoder.classes_\n",
        "\n",
        "# convert raw data into Data objects\n",
        "news_data = []\n",
        "for index, data in news.iterrows():\n",
        "  news_data.append(Data(data, True))"
      ]
    },
    {
      "cell_type": "code",
      "execution_count": null,
      "metadata": {
        "id": "ZRxwukiJK1eb"
      },
      "outputs": [],
      "source": [
        "def split_data(data, portions=[.6,.2,.2]):\n",
        "\n",
        "  random.shuffle(data)\n",
        "  data_len = len(data)\n",
        "  train_data = data[:int(portions[0] * data_len)]\n",
        "  eval_data = data[int(portions[0] * data_len):int((portions[0] + portions[1]) * data_len)]\n",
        "  test_data = data[int((portions[0] + portions[1]) * data_len):]\n",
        "  return train_data, eval_data, test_data"
      ]
    },
    {
      "cell_type": "code",
      "execution_count": null,
      "metadata": {
        "id": "pwawIS2HK3tF"
      },
      "outputs": [],
      "source": [
        "# a function to get a portion of data with acquired preprocessings\n",
        "def get_data(dataset, preprocess={\n",
        "    'remove_stopwords': True,\n",
        "    'remove_punctuations': True,\n",
        "    'remove_numbers': True}):\n",
        "\n",
        "  random.shuffle(dataset)\n",
        "  new_dataset = []\n",
        "\n",
        "  # applying preprocessings on train data\n",
        "  for i, data in enumerate(tqdm(dataset)):\n",
        "    if str(data.text) == 'nan':\n",
        "      continue\n",
        "    if preprocess['remove_stopwords'] == True:\n",
        "      dataset[i].text = Preprocessing.remove_stopwords(data.text)\n",
        "    if preprocess['remove_punctuations'] == True:\n",
        "      dataset[i].text = Preprocessing.remove_punctuations(data.text)\n",
        "    if preprocess['remove_numbers'] == True:\n",
        "      dataset[i].text = Preprocessing.remove_numbers(data.text)\n",
        "    dataset[i].text = Preprocessing.remove_extra_space(data.text)\n",
        "    new_dataset.append(dataset[i])\n",
        "\n",
        "  return split_data(new_dataset)"
      ]
    },
    {
      "cell_type": "code",
      "execution_count": null,
      "metadata": {
        "colab": {
          "base_uri": "https://localhost:8080/"
        },
        "id": "DvaM-8SRK64K",
        "outputId": "1c2bdbc8-27bc-4083-f389-eff460222d34"
      },
      "outputs": [
        {
          "name": "stderr",
          "output_type": "stream",
          "text": [
            "100%|██████████| 4000/4000 [01:21<00:00, 48.95it/s]\n"
          ]
        }
      ],
      "source": [
        "train_data, eval_data, test_data = get_data(news_data, preprocess={\n",
        "    'remove_stopwords': True,\n",
        "    'remove_punctuations': True,\n",
        "    'remove_numbers': True})"
      ]
    },
    {
      "cell_type": "code",
      "execution_count": null,
      "metadata": {
        "id": "1rgFyjHTLB6G"
      },
      "outputs": [],
      "source": [
        "from keras.models import Sequential\n",
        "from keras.layers.embeddings import Embedding\n",
        "from keras.preprocessing import sequence\n",
        "from keras.callbacks import ModelCheckpoint\n",
        "import tensorflow as tf\n",
        "from tensorflow import keras\n",
        "from tensorflow.keras import layers\n",
        "from tensorflow.keras.preprocessing.sequence import pad_sequences\n",
        "from tensorflow.keras.layers import Concatenate, Dense, Input, LSTM, Embedding, Dropout, Activation, Flatten\n",
        "from tensorflow.keras.layers import Bidirectional\n",
        "from tensorflow.keras.models import Model, Sequential\n",
        "from tensorflow.keras import initializers, regularizers, constraints, optimizers, layers\n",
        "from tensorflow.keras.activations import sigmoid\n",
        "from tensorflow.keras.utils import to_categorical\n",
        "from tensorflow.keras.preprocessing.text import Tokenizer\n",
        "import pickle"
      ]
    },
    {
      "cell_type": "code",
      "execution_count": null,
      "metadata": {
        "id": "-K5UQggcLmUg"
      },
      "outputs": [],
      "source": [
        "train_y = []\n",
        "val_y = []\n",
        "test_y = []\n",
        "\n",
        "train_X = []\n",
        "val_X = []\n",
        "val_X = []\n",
        "\n",
        "train_X_clean = []\n",
        "eval_X_clean = []\n",
        "test_X_clean = []\n",
        "\n",
        "\n",
        "def return_data_set(data_arr,all_pattern):\n",
        "  ptt =\"(\"+\"|\".join(all_pattern)+\")\"\n",
        "  X,y,X_clean  = [],[],[]\n",
        "  for j,news in enumerate(data_arr):\n",
        "      y.append(news.label)\n",
        "      X.append(news.title + news.text)\n",
        "      all_sr = re.sub(ptt, '', news.title + news.text)\n",
        "      X_clean.append(all_sr)\n",
        "  return X,y,X_clean\n",
        "\n",
        "\n",
        "def to_seq(X,tokenizer):\n",
        "  X_Seq = []\n",
        "  for abs_ in X:\n",
        "    X_Seq.append(tokenizer.texts_to_sequences([abs_])[0])\n",
        "  return X_Seq\n",
        "\n",
        "############################################\n",
        "\n",
        "train_X  , train_y , train_X_clean = return_data_set(train_data,all_pattern)\n",
        "val_X    , val_y   , eval_X_clean = return_data_set(eval_data,all_pattern)\n",
        "test_X    , test_y  , test_X_clean = return_data_set(test_data,all_pattern)\n",
        "#############################################\n",
        "\n",
        "train_y  = to_categorical(train_y, num_classes=None) \n",
        "val_y  = to_categorical(val_y, num_classes=None)   \n",
        "test_y  = to_categorical(test_y, num_classes=None)   \n",
        "#############################################\n",
        "\n",
        "vocab_selection = 10000\n",
        "tokenizer = Tokenizer(num_words=vocab_selection,oov_token='N')\n",
        "tokenizer.fit_on_texts(train_X)\n",
        "pickle.dump(tokenizer, open('token_nn.pkl', 'wb'))\n",
        "\n",
        "\n",
        "\n",
        "\n",
        "sequence_data_train = to_seq(train_X,tokenizer)\n",
        "sequence_data_val = to_seq(val_X,tokenizer)\n",
        "sequence_data_test = to_seq(test_X,tokenizer)\n",
        "sequence_data_train_clean = to_seq(train_X_clean,tokenizer)\n",
        "sequence_data_eval_clean = to_seq(eval_X_clean,tokenizer)\n",
        "sequence_data_test_clean = to_seq(test_X_clean,tokenizer)\n",
        "\n"
      ]
    },
    {
      "cell_type": "code",
      "execution_count": null,
      "metadata": {
        "id": "JtK742nUOL3i"
      },
      "outputs": [],
      "source": [
        "sequence_data_train = tf.keras.preprocessing.sequence.pad_sequences(sequence_data_train, maxlen=500, dtype='int32', padding='pre',truncating='pre', value=0.0)\n",
        "sequence_data_val = tf.keras.preprocessing.sequence.pad_sequences(sequence_data_val, maxlen=500, dtype='int32', padding='pre',truncating='pre', value=0.0)\n",
        "sequence_data_test = tf.keras.preprocessing.sequence.pad_sequences(sequence_data_test, maxlen=500, dtype='int32', padding='pre',truncating='pre', value=0.0)\n",
        "sequence_data_test_clean = tf.keras.preprocessing.sequence.pad_sequences(sequence_data_test_clean, maxlen=500, dtype='int32', padding='pre',truncating='pre', value=0.0)\n",
        "sequence_data_eval_clean = tf.keras.preprocessing.sequence.pad_sequences(sequence_data_eval_clean, maxlen=500, dtype='int32', padding='pre',truncating='pre', value=0.0)\n",
        "sequence_data_train_clean = tf.keras.preprocessing.sequence.pad_sequences(sequence_data_train_clean, maxlen=500, dtype='int32', padding='pre',truncating='pre', value=0.0)"
      ]
    },
    {
      "cell_type": "code",
      "execution_count": null,
      "metadata": {
        "id": "8tiznFchOYxt"
      },
      "outputs": [],
      "source": [
        "MAX_LEN =500\n",
        "MAX_FEATURES = 10000\n",
        "EMBED_SIZE = 128\n",
        "RNN_CELL_SIZE = 128\n",
        "\n",
        "class Attention(tf.keras.Model):\n",
        "    def __init__(self, units):\n",
        "        super(Attention, self).__init__()\n",
        "        self.W1 = tf.keras.layers.Dense(units)\n",
        "        self.W2 = tf.keras.layers.Dense(units)\n",
        "        self.V = tf.keras.layers.Dense(1)\n",
        "\n",
        "    def call(self, features, hidden):\n",
        "        # hidden shape == (batch_size, hidden size)\n",
        "        # hidden_with_time_axis shape == (batch_size, 1, hidden size)\n",
        "        # we are doing this to perform addition to calculate the score\n",
        "        hidden_with_time_axis = tf.expand_dims(hidden, 1)\n",
        "          \n",
        "        # score shape == (batch_size, max_length, 1)\n",
        "        # we get 1 at the last axis because we are applying score to self.V\n",
        "        # the shape of the tensor before applying self.V is (batch_size, max_length, units)\n",
        "        score = tf.nn.tanh(\n",
        "            self.W1(features) + self.W2(hidden_with_time_axis))\n",
        "        # attention_weights shape == (batch_size, max_length, 1)\n",
        "        attention_weights = tf.nn.softmax(self.V(score), axis=1)\n",
        "          \n",
        "        # context_vector shape after sum == (batch_size, hidden_size)\n",
        "        context_vector = attention_weights * features\n",
        "        context_vector = tf.reduce_sum(context_vector, axis=1)\n",
        "        return context_vector, attention_weights\n",
        "\n",
        "############################ model ##########################################    \n",
        "sequence_input = Input(shape=(MAX_LEN,), dtype=\"int32\")\n",
        "embedded_sequences = Embedding(MAX_FEATURES, EMBED_SIZE)(sequence_input)\n",
        "(lstm, forward_h, forward_c, backward_h, backward_c) = Bidirectional(LSTM(RNN_CELL_SIZE, return_sequences=True, return_state=True), name=\"bi_lstm_1\")(embedded_sequences)\n",
        "\n",
        "state_h  = Concatenate()([forward_h, backward_h])\n",
        "state_c  = Concatenate()([forward_c, backward_c])\n",
        "\n",
        "context_vector1, attention_weights = Attention(25)(lstm, state_h)\n",
        "context_vector2, attention_weights = Attention(25)(lstm, backward_h)\n",
        "conc  = Concatenate()([context_vector1, context_vector2])\n",
        "\n",
        "dense1      = Dense(512, activation=\"relu\")(conc)\n",
        "dropout1    = Dropout(0.8)(dense1)\n",
        "dense2      = Dense(50, activation=\"relu\")(dropout1)\n",
        "dropout2    = Dropout(0.2)(dense2)\n",
        "output      = Dense(2, activation=\"softmax\")(dropout2)\n",
        "\n",
        "\n",
        "model = keras.Model(inputs=sequence_input, outputs=output)\n",
        "  "
      ]
    },
    {
      "cell_type": "code",
      "execution_count": null,
      "metadata": {
        "colab": {
          "base_uri": "https://localhost:8080/"
        },
        "id": "AWm7ETwyO38k",
        "outputId": "8245e3b7-cd4e-4760-d6ec-f5eeed52c613"
      },
      "outputs": [
        {
          "name": "stdout",
          "output_type": "stream",
          "text": [
            "Model: \"model\"\n",
            "__________________________________________________________________________________________________\n",
            " Layer (type)                   Output Shape         Param #     Connected to                     \n",
            "==================================================================================================\n",
            " input_1 (InputLayer)           [(None, 500)]        0           []                               \n",
            "                                                                                                  \n",
            " embedding (Embedding)          (None, 500, 128)     1280000     ['input_1[0][0]']                \n",
            "                                                                                                  \n",
            " bi_lstm_1 (Bidirectional)      [(None, 500, 256),   263168      ['embedding[0][0]']              \n",
            "                                 (None, 128),                                                     \n",
            "                                 (None, 128),                                                     \n",
            "                                 (None, 128),                                                     \n",
            "                                 (None, 128)]                                                     \n",
            "                                                                                                  \n",
            " concatenate (Concatenate)      (None, 256)          0           ['bi_lstm_1[0][1]',              \n",
            "                                                                  'bi_lstm_1[0][3]']              \n",
            "                                                                                                  \n",
            " attention (Attention)          ((None, 256),        12876       ['bi_lstm_1[0][0]',              \n",
            "                                 (None, 500, 1))                  'concatenate[0][0]']            \n",
            "                                                                                                  \n",
            " attention_1 (Attention)        ((None, 256),        9676        ['bi_lstm_1[0][0]',              \n",
            "                                 (None, 500, 1))                  'bi_lstm_1[0][3]']              \n",
            "                                                                                                  \n",
            " concatenate_2 (Concatenate)    (None, 512)          0           ['attention[0][0]',              \n",
            "                                                                  'attention_1[0][0]']            \n",
            "                                                                                                  \n",
            " dense_6 (Dense)                (None, 512)          262656      ['concatenate_2[0][0]']          \n",
            "                                                                                                  \n",
            " dropout (Dropout)              (None, 512)          0           ['dense_6[0][0]']                \n",
            "                                                                                                  \n",
            " dense_7 (Dense)                (None, 50)           25650       ['dropout[0][0]']                \n",
            "                                                                                                  \n",
            " dropout_1 (Dropout)            (None, 50)           0           ['dense_7[0][0]']                \n",
            "                                                                                                  \n",
            " dense_8 (Dense)                (None, 2)            102         ['dropout_1[0][0]']              \n",
            "                                                                                                  \n",
            "==================================================================================================\n",
            "Total params: 1,854,128\n",
            "Trainable params: 1,854,128\n",
            "Non-trainable params: 0\n",
            "__________________________________________________________________________________________________\n"
          ]
        }
      ],
      "source": [
        "model.summary()"
      ]
    },
    {
      "cell_type": "code",
      "execution_count": null,
      "metadata": {
        "id": "I8o-yW44O75_"
      },
      "outputs": [],
      "source": [
        "from keras import backend as K\n",
        "\n",
        "def f1(y_true, y_pred):\n",
        "    def recall(y_true, y_pred):\n",
        "\n",
        "        true_positives = K.sum(K.round(K.clip(y_true * y_pred, 0, 1)))\n",
        "        possible_positives = K.sum(K.round(K.clip(y_true, 0, 1)))\n",
        "        recall = true_positives / (possible_positives + K.epsilon())\n",
        "        return recall\n",
        "\n",
        "    def precision(y_true, y_pred):\n",
        "\n",
        "        true_positives = K.sum(K.round(K.clip(y_true * y_pred, 0, 1)))\n",
        "        predicted_positives = K.sum(K.round(K.clip(y_pred, 0, 1)))\n",
        "        precision = true_positives / (predicted_positives + K.epsilon())\n",
        "        return precision\n",
        "    precision = precision(y_true, y_pred)\n",
        "    recall = recall(y_true, y_pred)\n",
        "    return 2*((precision*recall)/(precision+recall+K.epsilon()))"
      ]
    },
    {
      "cell_type": "code",
      "execution_count": null,
      "metadata": {
        "colab": {
          "base_uri": "https://localhost:8080/"
        },
        "id": "HqRL4cNlPD5E",
        "outputId": "87e2e2df-86f2-4081-c192-bd60b35d1af6"
      },
      "outputs": [
        {
          "name": "stdout",
          "output_type": "stream",
          "text": [
            "Epoch 1/3\n",
            "36/36 [==============================] - 16s 271ms/step - loss: 0.3380 - accuracy: 0.8512 - f1: 0.8515 - auc: 0.8577 - prc: 0.8190 - val_loss: 0.4483 - val_accuracy: 0.8679 - val_f1: 0.8676 - val_auc: 0.8979 - val_prc: 0.8848\n",
            "Epoch 2/3\n",
            "36/36 [==============================] - 8s 221ms/step - loss: 0.3049 - accuracy: 0.8639 - f1: 0.8622 - auc: 0.8918 - prc: 0.8734 - val_loss: 0.3680 - val_accuracy: 0.8679 - val_f1: 0.8676 - val_auc: 0.9230 - val_prc: 0.9078\n",
            "Epoch 3/3\n",
            "36/36 [==============================] - 8s 222ms/step - loss: 0.2044 - accuracy: 0.8868 - f1: 0.8875 - auc: 0.9551 - prc: 0.9518 - val_loss: 0.4052 - val_accuracy: 0.8032 - val_f1: 0.8027 - val_auc: 0.8972 - val_prc: 0.8910\n"
          ]
        }
      ],
      "source": [
        "from sklearn.utils import compute_class_weight\n",
        "\n",
        "METRICS = [\n",
        "    keras.metrics.BinaryAccuracy(name='accuracy'),\n",
        "    f1,\n",
        "    keras.metrics.AUC(name='auc'),\n",
        "    keras.metrics.AUC(name='prc', curve='PR')\n",
        "]\n",
        "\n",
        "model.compile(loss='binary_crossentropy',optimizer='adam',metrics=METRICS)\n",
        "from sklearn.utils import class_weight\n",
        "class_weights = [0.5,1] \n",
        "class_weights = {i : class_weights[i] for i in range(2)}                               \n",
        "history = model.fit(sequence_data_train,train_y,batch_size=64,epochs=3,validation_data=(sequence_data_val, val_y), class_weight=class_weights)"
      ]
    },
    {
      "cell_type": "code",
      "execution_count": null,
      "metadata": {
        "colab": {
          "base_uri": "https://localhost:8080/"
        },
        "id": "sBUhugRTPI5j",
        "outputId": "b87311c4-13f8-44c9-a9b2-ffbc24ec2889"
      },
      "outputs": [
        {
          "name": "stdout",
          "output_type": "stream",
          "text": [
            "F1-macro 0.6353742409092018\n",
            "F1-micro 0.7912813738441216\n",
            "Accuracy 0.7912813738441216\n",
            "recall 0.4642857142857143\n",
            "ROC_AUC 0.6561738648947951\n"
          ]
        }
      ],
      "source": [
        "from sklearn.metrics import roc_auc_score\n",
        "result_predict = model.predict(sequence_data_test)\n",
        "all_pred = result_predict.argmax(axis =1)\n",
        "test_y_inx = test_y.argmax(axis =1)\n",
        "f1_macro = f1_score(test_y_inx,all_pred, average='macro')\n",
        "f1_micro = f1_score(test_y_inx, all_pred, average='micro')\n",
        "roc_auc  = roc_auc_score(test_y_inx, all_pred)\n",
        "accuracy = accuracy_score(test_y_inx,all_pred)\n",
        "recall = recall_score(test_y_inx, all_pred)\n",
        "print(f'F1-macro {f1_macro}')\n",
        "print(f'F1-micro {f1_micro}')\n",
        "print(f'Accuracy {accuracy}')\n",
        "print(f'recall {recall}')\n",
        "print(f'ROC_AUC {roc_auc}')"
      ]
    },
    {
      "cell_type": "code",
      "execution_count": null,
      "metadata": {
        "id": "9tSbeKbLZafU"
      },
      "outputs": [],
      "source": [
        "from keras.models import load_model\n",
        "\n",
        "model.save_weights('model_weight.h5')\n",
        "model_test = model\n"
      ]
    },
    {
      "cell_type": "code",
      "execution_count": null,
      "metadata": {
        "id": "zIzO3mM2tCfw"
      },
      "outputs": [],
      "source": [
        "model_test.load_weights('model_weight_nlp_proj.h5')"
      ]
    },
    {
      "cell_type": "code",
      "execution_count": null,
      "metadata": {
        "colab": {
          "base_uri": "https://localhost:8080/",
          "height": 337
        },
        "id": "WBEtKDedQlrU",
        "outputId": "77b215a0-4a73-45be-bf53-449895f0b05f"
      },
      "outputs": [
        {
          "data": {
            "text/plain": [
              "<matplotlib.axes._subplots.AxesSubplot at 0x7f78288ad350>"
            ]
          },
          "execution_count": 22,
          "metadata": {},
          "output_type": "execute_result"
        },
        {
          "data": {
            "image/png": "[encoded data removed]",
            "text/plain": [
              "<Figure size 576x360 with 2 Axes>"
            ]
          },
          "metadata": {
            "needs_background": "light"
          },
          "output_type": "display_data"
        }
      ],
      "source": [
        "c_mat = confusion_matrix(all_pred, test_y_inx)\n",
        "df_cm = pd.DataFrame(c_mat, index = [i for i in classes],\n",
        "                  columns = [i for i in classes])\n",
        "plt.figure(figsize = (8,5))\n",
        "sn.heatmap(df_cm, annot=True)"
      ]
    },
    {
      "cell_type": "markdown",
      "metadata": {
        "id": "oaq_nsPdQzGg"
      },
      "source": [
        "#clean press names from test data and evaluate model bias"
      ]
    },
    {
      "cell_type": "code",
      "execution_count": null,
      "metadata": {
        "colab": {
          "base_uri": "https://localhost:8080/"
        },
        "id": "H0ZOnsmqQyU9",
        "outputId": "1b8f0a22-d2d6-4b27-9824-558ae2d69131"
      },
      "outputs": [
        {
          "name": "stdout",
          "output_type": "stream",
          "text": [
            "F1-macro 0.631954573391676\n",
            "F1-micro 0.7899603698811096\n",
            "Accuracy 0.7899603698811096\n",
            "recall 0.45535714285714285\n",
            "ROC_AUC 0.6517095791805093\n"
          ]
        }
      ],
      "source": [
        "from sklearn.metrics import roc_auc_score\n",
        "result_predict = model.predict(sequence_data_test_clean)\n",
        "all_pred = result_predict.argmax(axis =1)\n",
        "test_y_inx = test_y.argmax(axis =1)\n",
        "f1_macro = f1_score(test_y_inx,all_pred, average='macro')\n",
        "f1_micro = f1_score(test_y_inx, all_pred, average='micro')\n",
        "roc_auc  = roc_auc_score(test_y_inx, all_pred)\n",
        "accuracy = accuracy_score(test_y_inx,all_pred)\n",
        "recall = recall_score(test_y_inx, all_pred)\n",
        "print(f'F1-macro {f1_macro}')\n",
        "print(f'F1-micro {f1_micro}')\n",
        "print(f'Accuracy {accuracy}')\n",
        "print(f'recall {recall}')\n",
        "print(f'ROC_AUC {roc_auc}')"
      ]
    },
    {
      "cell_type": "code",
      "execution_count": null,
      "metadata": {
        "colab": {
          "base_uri": "https://localhost:8080/",
          "height": 337
        },
        "id": "MXIZMMNCQsKz",
        "outputId": "32635cd7-8808-44cf-8b9d-058569699401"
      },
      "outputs": [
        {
          "data": {
            "text/plain": [
              "<matplotlib.axes._subplots.AxesSubplot at 0x7f78283a5f50>"
            ]
          },
          "execution_count": 21,
          "metadata": {},
          "output_type": "execute_result"
        },
        {
          "data": {
            "image/png": "[encoded data removed]",
            "text/plain": [
              "<Figure size 576x360 with 2 Axes>"
            ]
          },
          "metadata": {
            "needs_background": "light"
          },
          "output_type": "display_data"
        }
      ],
      "source": [
        "c_mat = confusion_matrix(all_pred, test_y_inx)\n",
        "df_cm = pd.DataFrame(c_mat, index = [i for i in classes],\n",
        "                  columns = [i for i in classes])\n",
        "plt.figure(figsize = (8,5))\n",
        "sn.heatmap(df_cm, annot=True)"
      ]
    }
  ],
  "metadata": {
    "colab": {
      "collapsed_sections": [],
      "name": "BiLSTM_attention_last.ipynb",
      "provenance": []
    },
    "kernelspec": {
      "display_name": "Python 3",
      "name": "python3"
    },
    "language_info": {
      "name": "python"
    }
  },
  "nbformat": 4,
  "nbformat_minor": 0
}
