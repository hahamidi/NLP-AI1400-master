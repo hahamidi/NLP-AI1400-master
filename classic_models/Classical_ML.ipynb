{
  "cells": [
    {
      "cell_type": "markdown",
      "metadata": {
        "id": "83xD9vTJi70h"
      },
      "source": [
        "# Libraries"
      ]
    },
    {
      "cell_type": "code",
      "execution_count": 1,
      "metadata": {
        "colab": {
          "base_uri": "https://localhost:8080/"
        },
        "id": "KOvjwrvji2LW",
        "outputId": "2f1f0fb6-3e89-4f01-a781-47d46094d478"
      },
      "outputs": [
        {
          "name": "stdout",
          "output_type": "stream",
          "text": [
            "Collecting transformers\n",
            "  Downloading transformers-4.16.2-py3-none-any.whl (3.5 MB)\n",
            "\u001b[K     |████████████████████████████████| 3.5 MB 2.6 MB/s \n",
            "\u001b[?25hCollecting tokenizers!=0.11.3,>=0.10.1\n",
            "  Downloading tokenizers-0.11.5-cp37-cp37m-manylinux_2_12_x86_64.manylinux2010_x86_64.whl (6.8 MB)\n",
            "\u001b[K     |████████████████████████████████| 6.8 MB 23.6 MB/s \n",
            "\u001b[?25hRequirement already satisfied: importlib-metadata in /usr/local/lib/python3.7/dist-packages (from transformers) (4.11.0)\n",
            "Requirement already satisfied: numpy>=1.17 in /usr/local/lib/python3.7/dist-packages (from transformers) (1.21.5)\n",
            "Requirement already satisfied: packaging>=20.0 in /usr/local/lib/python3.7/dist-packages (from transformers) (21.3)\n",
            "Collecting sacremoses\n",
            "  Downloading sacremoses-0.0.47-py2.py3-none-any.whl (895 kB)\n",
            "\u001b[K     |████████████████████████████████| 895 kB 51.8 MB/s \n",
            "\u001b[?25hCollecting huggingface-hub<1.0,>=0.1.0\n",
            "  Downloading huggingface_hub-0.4.0-py3-none-any.whl (67 kB)\n",
            "\u001b[K     |████████████████████████████████| 67 kB 4.4 MB/s \n",
            "\u001b[?25hCollecting pyyaml>=5.1\n",
            "  Downloading PyYAML-6.0-cp37-cp37m-manylinux_2_5_x86_64.manylinux1_x86_64.manylinux_2_12_x86_64.manylinux2010_x86_64.whl (596 kB)\n",
            "\u001b[K     |████████████████████████████████| 596 kB 60.3 MB/s \n",
            "\u001b[?25hRequirement already satisfied: requests in /usr/local/lib/python3.7/dist-packages (from transformers) (2.23.0)\n",
            "Requirement already satisfied: tqdm>=4.27 in /usr/local/lib/python3.7/dist-packages (from transformers) (4.62.3)\n",
            "Requirement already satisfied: regex!=2019.12.17 in /usr/local/lib/python3.7/dist-packages (from transformers) (2019.12.20)\n",
            "Requirement already satisfied: filelock in /usr/local/lib/python3.7/dist-packages (from transformers) (3.4.2)\n",
            "Requirement already satisfied: typing-extensions>=3.7.4.3 in /usr/local/lib/python3.7/dist-packages (from huggingface-hub<1.0,>=0.1.0->transformers) (3.10.0.2)\n",
            "Requirement already satisfied: pyparsing!=3.0.5,>=2.0.2 in /usr/local/lib/python3.7/dist-packages (from packaging>=20.0->transformers) (3.0.7)\n",
            "Requirement already satisfied: zipp>=0.5 in /usr/local/lib/python3.7/dist-packages (from importlib-metadata->transformers) (3.7.0)\n",
            "Requirement already satisfied: idna<3,>=2.5 in /usr/local/lib/python3.7/dist-packages (from requests->transformers) (2.10)\n",
            "Requirement already satisfied: urllib3!=1.25.0,!=1.25.1,<1.26,>=1.21.1 in /usr/local/lib/python3.7/dist-packages (from requests->transformers) (1.24.3)\n",
            "Requirement already satisfied: chardet<4,>=3.0.2 in /usr/local/lib/python3.7/dist-packages (from requests->transformers) (3.0.4)\n",
            "Requirement already satisfied: certifi>=2017.4.17 in /usr/local/lib/python3.7/dist-packages (from requests->transformers) (2021.10.8)\n",
            "Requirement already satisfied: joblib in /usr/local/lib/python3.7/dist-packages (from sacremoses->transformers) (1.1.0)\n",
            "Requirement already satisfied: six in /usr/local/lib/python3.7/dist-packages (from sacremoses->transformers) (1.15.0)\n",
            "Requirement already satisfied: click in /usr/local/lib/python3.7/dist-packages (from sacremoses->transformers) (7.1.2)\n",
            "Installing collected packages: pyyaml, tokenizers, sacremoses, huggingface-hub, transformers\n",
            "  Attempting uninstall: pyyaml\n",
            "    Found existing installation: PyYAML 3.13\n",
            "    Uninstalling PyYAML-3.13:\n",
            "      Successfully uninstalled PyYAML-3.13\n",
            "Successfully installed huggingface-hub-0.4.0 pyyaml-6.0 sacremoses-0.0.47 tokenizers-0.11.5 transformers-4.16.2\n",
            "Collecting hazm\n",
            "  Downloading hazm-0.7.0-py3-none-any.whl (316 kB)\n",
            "\u001b[K     |████████████████████████████████| 316 kB 4.0 MB/s \n",
            "\u001b[?25hCollecting libwapiti>=0.2.1\n",
            "  Downloading libwapiti-0.2.1.tar.gz (233 kB)\n",
            "\u001b[K     |████████████████████████████████| 233 kB 39.1 MB/s \n",
            "\u001b[?25hCollecting nltk==3.3\n",
            "  Downloading nltk-3.3.0.zip (1.4 MB)\n",
            "\u001b[K     |████████████████████████████████| 1.4 MB 39.3 MB/s \n",
            "\u001b[?25hRequirement already satisfied: six in /usr/local/lib/python3.7/dist-packages (from nltk==3.3->hazm) (1.15.0)\n",
            "Building wheels for collected packages: nltk, libwapiti\n",
            "  Building wheel for nltk (setup.py) ... \u001b[?25l\u001b[?25hdone\n",
            "  Created wheel for nltk: filename=nltk-3.3-py3-none-any.whl size=1394486 sha256=9c34aa5c52d1e2ac0385eb363d1fb4a594496e45995253df503cb39621675dbe\n",
            "  Stored in directory: /root/.cache/pip/wheels/9b/fd/0c/d92302c876e5de87ebd7fc0979d82edb93e2d8d768bf71fac4\n",
            "  Building wheel for libwapiti (setup.py) ... \u001b[?25l\u001b[?25hdone\n",
            "  Created wheel for libwapiti: filename=libwapiti-0.2.1-cp37-cp37m-linux_x86_64.whl size=154469 sha256=af133a40a74661ad1c4e801555fd0048abfba4b1d5b995d257031ae7550b0993\n",
            "  Stored in directory: /root/.cache/pip/wheels/ab/b2/5b/0fe4b8f5c0e65341e8ea7bb3f4a6ebabfe8b1ac31322392dbf\n",
            "Successfully built nltk libwapiti\n",
            "Installing collected packages: nltk, libwapiti, hazm\n",
            "  Attempting uninstall: nltk\n",
            "    Found existing installation: nltk 3.2.5\n",
            "    Uninstalling nltk-3.2.5:\n",
            "      Successfully uninstalled nltk-3.2.5\n",
            "Successfully installed hazm-0.7.0 libwapiti-0.2.1 nltk-3.3\n"
          ]
        }
      ],
      "source": [
        "! pip install transformers\n",
        "! pip install hazm\n",
        "from hazm import *\n",
        "import transformers\n",
        "from transformers import AdamW\n",
        "from transformers.optimization import get_linear_schedule_with_warmup\n",
        "from sklearn.metrics import f1_score, accuracy_score, confusion_matrix, recall_score,precision_score , roc_auc_score, make_scorer\n",
        "import math\n",
        "import torch\n",
        "from torch.utils.data import Dataset, DataLoader\n",
        "import torch.nn as nn\n",
        "import torch.nn.functional as F\n",
        "from torch.optim import AdamW\n",
        "import seaborn as sn\n",
        "import pandas as pd\n",
        "import matplotlib.pyplot as plt\n",
        "from tqdm import tqdm\n",
        "from sklearn.preprocessing import LabelEncoder\n",
        "from sklearn.model_selection import train_test_split\n",
        "from sklearn import preprocessing\n",
        "import json\n",
        "from copy import deepcopy\n",
        "import numpy as np\n",
        "import random\n",
        "import re\n",
        "import string\n",
        "import codecs\n",
        "from shutil import copyfile\n",
        "random.seed(12345)\n",
        "label_encoder = preprocessing.LabelEncoder()"
      ]
    },
    {
      "cell_type": "markdown",
      "metadata": {
        "id": "HOR_rifcDNNi"
      },
      "source": [
        "# step1"
      ]
    },
    {
      "cell_type": "markdown",
      "metadata": {
        "id": "3VbUyg6ejG1j"
      },
      "source": [
        "# Loading & Preprocessing data"
      ]
    },
    {
      "cell_type": "code",
      "execution_count": 2,
      "metadata": {
        "colab": {
          "base_uri": "https://localhost:8080/"
        },
        "id": "W5_uzORSjJ1O",
        "outputId": "299961bd-0fd3-41b1-c228-d26c83d301a9"
      },
      "outputs": [
        {
          "name": "stdout",
          "output_type": "stream",
          "text": [
            "Downloading...\n",
            "From: https://drive.google.com/uc?id=1KpJCXTkuy1NLR5MgXsoYfBsv_OnwJqIF\n",
            "To: /content/AI_NEWS.csv\n",
            "100% 16.8M/16.8M [00:00<00:00, 97.4MB/s]\n",
            "Downloading...\n",
            "From: https://drive.google.com/uc?id=1Qiq2I8EdTcgn2Wc03XqucUcMhBdVhEre\n",
            "To: /content/stopwords.txt\n",
            "100% 3.66k/3.66k [00:00<00:00, 4.56MB/s]\n"
          ]
        }
      ],
      "source": [
        "#removed "
      ]
    },
    {
      "cell_type": "code",
      "execution_count": 3,
      "metadata": {
        "colab": {
          "base_uri": "https://localhost:8080/",
          "height": 693
        },
        "id": "BbbZsSqNUJAV",
        "outputId": "32bcbb0e-c999-4ace-dc36-37481832c585"
      },
      "outputs": [
        {
          "data": {
            "text/html": [
              "\n",
              "  <div id=\"df-3493c4db-929c-4560-8277-0e414a55397c\">\n",
              "    <div class=\"colab-df-container\">\n",
              "      <div>\n",
              "<style scoped>\n",
              "    .dataframe tbody tr th:only-of-type {\n",
              "        vertical-align: middle;\n",
              "    }\n",
              "\n",
              "    .dataframe tbody tr th {\n",
              "        vertical-align: top;\n",
              "    }\n",
              "\n",
              "    .dataframe thead th {\n",
              "        text-align: right;\n",
              "    }\n",
              "</style>\n",
              "<table border=\"1\" class=\"dataframe\">\n",
              "  <thead>\n",
              "    <tr style=\"text-align: right;\">\n",
              "      <th></th>\n",
              "      <th>Unnamed: 0</th>\n",
              "      <th>index</th>\n",
              "      <th>title</th>\n",
              "      <th>text</th>\n",
              "      <th>category</th>\n",
              "      <th>keywords</th>\n",
              "      <th>source_name</th>\n",
              "      <th>data</th>\n",
              "      <th>tag</th>\n",
              "    </tr>\n",
              "  </thead>\n",
              "  <tbody>\n",
              "    <tr>\n",
              "      <th>0</th>\n",
              "      <td>0</td>\n",
              "      <td>2000</td>\n",
              "      <td>لیگ قهرمانان آسیا| استقلال ایران 3 - الشرطه عر...</td>\n",
              "      <td>NaN</td>\n",
              "      <td>ورزشی</td>\n",
              "      <td>لیگ قهرمانان آسیا| استقلال ایران - الشرطه عراق...</td>\n",
              "      <td>جماران</td>\n",
              "      <td>1463620</td>\n",
              "      <td>غیر مهم</td>\n",
              "    </tr>\n",
              "    <tr>\n",
              "      <th>1</th>\n",
              "      <td>1</td>\n",
              "      <td>2001</td>\n",
              "      <td>سویه لامبدا؛ خیلی دور، خیلی نزدیک!/ هر آنچه که...</td>\n",
              "      <td>NaN</td>\n",
              "      <td>اقتصادی</td>\n",
              "      <td>NaN</td>\n",
              "      <td>آنا</td>\n",
              "      <td>3041187</td>\n",
              "      <td>غیر مهم</td>\n",
              "    </tr>\n",
              "    <tr>\n",
              "      <th>2</th>\n",
              "      <td>2</td>\n",
              "      <td>2002</td>\n",
              "      <td>افزایش تحرکات هیات ها در مذاکرات وین؛ تحولاتی ...</td>\n",
              "      <td>به گزارش خبرنگار ایرنا از وین، آهنگ رفت و آمد ...</td>\n",
              "      <td>بین الملل</td>\n",
              "      <td>وین,کمیسیون مشترک برجام,علی باقری,مذاکرات برای...</td>\n",
              "      <td>ایرنا</td>\n",
              "      <td>4132788</td>\n",
              "      <td>مهم</td>\n",
              "    </tr>\n",
              "    <tr>\n",
              "      <th>3</th>\n",
              "      <td>3</td>\n",
              "      <td>2003</td>\n",
              "      <td>ناکارآمدی بازرگانی محصولات کشاورزی ناشی از ناک...</td>\n",
              "      <td>به گزارش خبرگزاری فارس از تبریز، اکبر فتحی در ...</td>\n",
              "      <td>اقتصادی</td>\n",
              "      <td>کشاورزی,آذربایجان شرقی,کشاورزان,محصولات,کشت فر...</td>\n",
              "      <td>خبرگزاری فارس</td>\n",
              "      <td>3652101</td>\n",
              "      <td>غیر مهم</td>\n",
              "    </tr>\n",
              "    <tr>\n",
              "      <th>4</th>\n",
              "      <td>4</td>\n",
              "      <td>2004</td>\n",
              "      <td>طالبان: بدنبال روابط خوب با همه کشورها از جمله...</td>\n",
              "      <td>به گزارش دفتر منطقه ای خبرگزاری تسنیم، «ذبیح ا...</td>\n",
              "      <td>بین الملل</td>\n",
              "      <td>NaN</td>\n",
              "      <td>خبرگزاری تسنیم</td>\n",
              "      <td>3846298</td>\n",
              "      <td>غیر مهم</td>\n",
              "    </tr>\n",
              "    <tr>\n",
              "      <th>...</th>\n",
              "      <td>...</td>\n",
              "      <td>...</td>\n",
              "      <td>...</td>\n",
              "      <td>...</td>\n",
              "      <td>...</td>\n",
              "      <td>...</td>\n",
              "      <td>...</td>\n",
              "      <td>...</td>\n",
              "      <td>...</td>\n",
              "    </tr>\n",
              "    <tr>\n",
              "      <th>3995</th>\n",
              "      <td>3995</td>\n",
              "      <td>8972</td>\n",
              "      <td>درگیری شدید شبه نظامیان امارات و عربستان در اس...</td>\n",
              "      <td>به گزارش گروه بین الملل خبرگزاری تسنیم به نقل ...</td>\n",
              "      <td>بین الملل</td>\n",
              "      <td>NaN</td>\n",
              "      <td>خبرگزاری تسنیم</td>\n",
              "      <td>2263257</td>\n",
              "      <td>غیر مهم</td>\n",
              "    </tr>\n",
              "    <tr>\n",
              "      <th>3996</th>\n",
              "      <td>3996</td>\n",
              "      <td>8973</td>\n",
              "      <td>امام خمینی (ره) بیش از  ایران در جهان موثر بود...</td>\n",
              "      <td>به گزارش خبرنگار خبرگزاری شبستان از شیراز، اند...</td>\n",
              "      <td>فرهنگ و هنر</td>\n",
              "      <td>NaN</td>\n",
              "      <td>شبستان</td>\n",
              "      <td>1967520</td>\n",
              "      <td>غیر مهم</td>\n",
              "    </tr>\n",
              "    <tr>\n",
              "      <th>3997</th>\n",
              "      <td>3997</td>\n",
              "      <td>8974</td>\n",
              "      <td>مادری که رهبر انقلاب برایش دعا کردند کیست؟/ قر...</td>\n",
              "      <td>گروه خانواده؛ نعیمه موحد: دیدار دانشجویی امسال...</td>\n",
              "      <td>فرهنگ و هنر</td>\n",
              "      <td>حضرت آیت  الله خامنه ای,جنبش دانشجویی,خبر خوب,...</td>\n",
              "      <td>خبرگزاری فارس</td>\n",
              "      <td>1748716</td>\n",
              "      <td>غیر مهم</td>\n",
              "    </tr>\n",
              "    <tr>\n",
              "      <th>3998</th>\n",
              "      <td>3998</td>\n",
              "      <td>8975</td>\n",
              "      <td>\\t\\t \\t\\t\\tلحظه دلهره آور نجات سگی که در یخبن...</td>\n",
              "      <td>به گزارش خبرنگار حوزه اخبار داغ گروه فضای مجاز...</td>\n",
              "      <td>فناوری و ارتباطات</td>\n",
              "      <td>نجات سگ                      \\t\\t\\t\\t\\t، \\t\\t\\...</td>\n",
              "      <td>باشگاه خبرنگاران</td>\n",
              "      <td>61151</td>\n",
              "      <td>غیر مهم</td>\n",
              "    </tr>\n",
              "    <tr>\n",
              "      <th>3999</th>\n",
              "      <td>3999</td>\n",
              "      <td>8976</td>\n",
              "      <td>آزمون داوری و میانجی گری به تعویق افتاد</td>\n",
              "      <td>به گزارش روز سه شنبه ایرنا از مرکز توسعه حل اخ...</td>\n",
              "      <td>اجتماعی</td>\n",
              "      <td>آزمون,شورای حل اختلاف,قوه قضاییه,</td>\n",
              "      <td>ایرنا</td>\n",
              "      <td>4194906</td>\n",
              "      <td>غیر مهم</td>\n",
              "    </tr>\n",
              "  </tbody>\n",
              "</table>\n",
              "<p>4000 rows × 9 columns</p>\n",
              "</div>\n",
              "      <button class=\"colab-df-convert\" onclick=\"convertToInteractive('df-3493c4db-929c-4560-8277-0e414a55397c')\"\n",
              "              title=\"Convert this dataframe to an interactive table.\"\n",
              "              style=\"display:none;\">\n",
              "        \n",
              "  <svg xmlns=\"http://www.w3.org/2000/svg\" height=\"24px\"viewBox=\"0 0 24 24\"\n",
              "       width=\"24px\">\n",
              "    <path d=\"M0 0h24v24H0V0z\" fill=\"none\"/>\n",
              "    <path d=\"M18.56 5.44l.94 2.06.94-2.06 2.06-.94-2.06-.94-.94-2.06-.94 2.06-2.06.94zm-11 1L8.5 8.5l.94-2.06 2.06-.94-2.06-.94L8.5 2.5l-.94 2.06-2.06.94zm10 10l.94 2.06.94-2.06 2.06-.94-2.06-.94-.94-2.06-.94 2.06-2.06.94z\"/><path d=\"M17.41 7.96l-1.37-1.37c-.4-.4-.92-.59-1.43-.59-.52 0-1.04.2-1.43.59L10.3 9.45l-7.72 7.72c-.78.78-.78 2.05 0 2.83L4 21.41c.39.39.9.59 1.41.59.51 0 1.02-.2 1.41-.59l7.78-7.78 2.81-2.81c.8-.78.8-2.07 0-2.86zM5.41 20L4 18.59l7.72-7.72 1.47 1.35L5.41 20z\"/>\n",
              "  </svg>\n",
              "      </button>\n",
              "      \n",
              "  <style>\n",
              "    .colab-df-container {\n",
              "      display:flex;\n",
              "      flex-wrap:wrap;\n",
              "      gap: 12px;\n",
              "    }\n",
              "\n",
              "    .colab-df-convert {\n",
              "      background-color: #E8F0FE;\n",
              "      border: none;\n",
              "      border-radius: 50%;\n",
              "      cursor: pointer;\n",
              "      display: none;\n",
              "      fill: #1967D2;\n",
              "      height: 32px;\n",
              "      padding: 0 0 0 0;\n",
              "      width: 32px;\n",
              "    }\n",
              "\n",
              "    .colab-df-convert:hover {\n",
              "      background-color: #E2EBFA;\n",
              "      box-shadow: 0px 1px 2px rgba(60, 64, 67, 0.3), 0px 1px 3px 1px rgba(60, 64, 67, 0.15);\n",
              "      fill: #174EA6;\n",
              "    }\n",
              "\n",
              "    [theme=dark] .colab-df-convert {\n",
              "      background-color: #3B4455;\n",
              "      fill: #D2E3FC;\n",
              "    }\n",
              "\n",
              "    [theme=dark] .colab-df-convert:hover {\n",
              "      background-color: #434B5C;\n",
              "      box-shadow: 0px 1px 3px 1px rgba(0, 0, 0, 0.15);\n",
              "      filter: drop-shadow(0px 1px 2px rgba(0, 0, 0, 0.3));\n",
              "      fill: #FFFFFF;\n",
              "    }\n",
              "  </style>\n",
              "\n",
              "      <script>\n",
              "        const buttonEl =\n",
              "          document.querySelector('#df-3493c4db-929c-4560-8277-0e414a55397c button.colab-df-convert');\n",
              "        buttonEl.style.display =\n",
              "          google.colab.kernel.accessAllowed ? 'block' : 'none';\n",
              "\n",
              "        async function convertToInteractive(key) {\n",
              "          const element = document.querySelector('#df-3493c4db-929c-4560-8277-0e414a55397c');\n",
              "          const dataTable =\n",
              "            await google.colab.kernel.invokeFunction('convertToInteractive',\n",
              "                                                     [key], {});\n",
              "          if (!dataTable) return;\n",
              "\n",
              "          const docLinkHtml = 'Like what you see? Visit the ' +\n",
              "            '<a target=\"_blank\" href=https://colab.research.google.com/notebooks/data_table.ipynb>data table notebook</a>'\n",
              "            + ' to learn more about interactive tables.';\n",
              "          element.innerHTML = '';\n",
              "          dataTable['output_type'] = 'display_data';\n",
              "          await google.colab.output.renderOutput(dataTable, element);\n",
              "          const docLink = document.createElement('div');\n",
              "          docLink.innerHTML = docLinkHtml;\n",
              "          element.appendChild(docLink);\n",
              "        }\n",
              "      </script>\n",
              "    </div>\n",
              "  </div>\n",
              "  "
            ],
            "text/plain": [
              "      Unnamed: 0  index  ...     data      tag\n",
              "0              0   2000  ...  1463620  غیر مهم\n",
              "1              1   2001  ...  3041187  غیر مهم\n",
              "2              2   2002  ...  4132788      مهم\n",
              "3              3   2003  ...  3652101  غیر مهم\n",
              "4              4   2004  ...  3846298  غیر مهم\n",
              "...          ...    ...  ...      ...      ...\n",
              "3995        3995   8972  ...  2263257  غیر مهم\n",
              "3996        3996   8973  ...  1967520  غیر مهم\n",
              "3997        3997   8974  ...  1748716  غیر مهم\n",
              "3998        3998   8975  ...    61151  غیر مهم\n",
              "3999        3999   8976  ...  4194906  غیر مهم\n",
              "\n",
              "[4000 rows x 9 columns]"
            ]
          },
          "execution_count": 3,
          "metadata": {},
          "output_type": "execute_result"
        }
      ],
      "source": [
        "news = pd.read_csv('AI_NEWS.csv')\n",
        "news"
      ]
    },
    {
      "cell_type": "code",
      "execution_count": 4,
      "metadata": {
        "id": "GZOVxkTvteN_"
      },
      "outputs": [],
      "source": [
        "class Preprocessing:\n",
        "\n",
        "  @staticmethod\n",
        "  def remove_punctuations(text):\n",
        "    new_text = []\n",
        "    for l in text:\n",
        "      if l not in string.punctuation + '\\u00AB' + '\\u00BB' + '\\u060C' + '\\u061B' + '\\u061F':\n",
        "        new_text.append(l)\n",
        "      else:\n",
        "        new_text.append(' ')\n",
        "    return ''.join(new_text)\n",
        "  \n",
        "  @staticmethod\n",
        "  def remove_numbers(text):\n",
        "    new_text = []\n",
        "    for l in text:\n",
        "      if l not in '0123456789۰۱۲۳۴۵۶۷۸۹':\n",
        "        new_text.append(l)\n",
        "      else:\n",
        "        new_text.append(' ')\n",
        "    return ''.join(new_text)\n",
        "\n",
        "  @staticmethod\n",
        "  def remove_stopwords(text):\n",
        "    normalizer = Normalizer()\n",
        "    stopwords = [normalizer.normalize(x.strip()) for x in codecs.open('stopwords.txt','r','utf-8').readlines()]\n",
        "    tokens = word_tokenize(text)\n",
        "    new_text = []\n",
        "    for token in tokens:\n",
        "      if token not in stopwords:\n",
        "        new_text.append(token)\n",
        "      else:\n",
        "        new_text.append(' ')\n",
        "    return ' '.join(new_text)\n",
        "\n",
        "  @staticmethod\n",
        "  def remove_extra_space(text):\n",
        "    new_text = re.sub(r'\\s+',' ',text)\n",
        "    return new_text"
      ]
    },
    {
      "cell_type": "code",
      "execution_count": null,
      "metadata": {
        "colab": {
          "base_uri": "https://localhost:8080/"
        },
        "id": "d3SMaYuR8sRU",
        "outputId": "f08c9819-aacd-48ba-8542-4c0b224c8868"
      },
      "outputs": [
        {
          "name": "stdout",
          "output_type": "stream",
          "text": [
            "Mounted at /content/drive\n"
          ]
        }
      ],
      "source": [
        "from google.colab import drive\n",
        "drive.mount('/content/drive')"
      ]
    },
    {
      "cell_type": "code",
      "execution_count": null,
      "metadata": {
        "id": "AC_nr1R4mf5E"
      },
      "outputs": [],
      "source": [
        "# a class to hold our data structure\n",
        "class Data:\n",
        "  def __init__(self, data, preprocessing=False):\n",
        "    self.title = data['title']\n",
        "    self.text = data['text']\n",
        "    self.category = data['category']\n",
        "    self.label = label_encoder.transform([data['tag']])[0]\n",
        "    self.source_name = data['source_name']\n",
        "    self.keywords = data['keywords']\n",
        "# label encoder\n",
        "all_labels = ['مهم','غیر مهم']\n",
        "label_encoder.fit(all_labels)\n",
        "classes = label_encoder.classes_\n",
        "\n",
        "# convert raw data into Data objects\n",
        "news_data = []\n",
        "for index, data in news.iterrows():\n",
        "  news_data.append(Data(data, True))"
      ]
    },
    {
      "cell_type": "markdown",
      "metadata": {
        "id": "4-I9YrZ_95bo"
      },
      "source": [
        "for run section bias against journal name use this section "
      ]
    },
    {
      "cell_type": "code",
      "execution_count": 5,
      "metadata": {
        "id": "kSfEKPwQ90Bp"
      },
      "outputs": [],
      "source": [
        "# # a class to hold our data structure\n",
        "# class Data:\n",
        "#   def __init__(self, data, preprocessing=False):\n",
        "#     self.title = data['title']\n",
        "#     self.text = re.sub(data['source_name'], '', str(data['text']))\n",
        "#     self.category = data['category']\n",
        "#     self.label = label_encoder.transform([data['tag']])[0]\n",
        "#     self.source_name = data['source_name']\n",
        "#     self.keywords = data['keywords']\n",
        "# # label encoder\n",
        "# all_labels = ['مهم','غیر مهم']\n",
        "# label_encoder.fit(all_labels)\n",
        "# classes = label_encoder.classes_\n",
        "\n",
        "# # convert raw data into Data objects\n",
        "# news_data = []\n",
        "# for index, data in news.iterrows():\n",
        "#   news_data.append(Data(data, True))"
      ]
    },
    {
      "cell_type": "code",
      "execution_count": 6,
      "metadata": {
        "id": "auvB_DkSIHfG"
      },
      "outputs": [],
      "source": [
        "def split_data(data, portions=[.8,0.0,.2]):\n",
        "  random.shuffle(data)\n",
        "  data_len = len(data)\n",
        "  print(data_len)\n",
        "  train_data = data[:int(portions[0] * data_len)]\n",
        "  eval_data = data[int(portions[0] * data_len):int((portions[0] + portions[1]) * data_len)]\n",
        "  test_data = data[int((portions[0] + portions[1]) * data_len):]\n",
        "  return train_data, eval_data, test_data"
      ]
    },
    {
      "cell_type": "code",
      "execution_count": 7,
      "metadata": {
        "id": "DWN5FoSdpeRT"
      },
      "outputs": [],
      "source": [
        "# a function to get a portion of data with acquired preprocessings\n",
        "def get_data(dataset, preprocess={\n",
        "    'remove_stopwords': True,\n",
        "    'remove_punctuations': True,\n",
        "    'remove_numbers': True}):\n",
        "  random.shuffle(dataset)\n",
        "  new_dataset = []\n",
        "\n",
        "  # applying preprocessings on train data\n",
        "  for i, data in enumerate(tqdm(dataset)):\n",
        "    if str(data.text) == 'nan':\n",
        "      continue\n",
        "    if preprocess['remove_stopwords'] == True:\n",
        "      dataset[i].text = Preprocessing.remove_stopwords(data.text)\n",
        "    if preprocess['remove_punctuations'] == True:\n",
        "      dataset[i].text = Preprocessing.remove_punctuations(data.text)\n",
        "    if preprocess['remove_numbers'] == True:\n",
        "      dataset[i].text = Preprocessing.remove_numbers(data.text)\n",
        "    dataset[i].text = Preprocessing.remove_extra_space(data.text)\n",
        "    new_dataset.append(dataset[i])\n",
        "\n",
        "  return split_data(new_dataset)"
      ]
    },
    {
      "cell_type": "code",
      "execution_count": 8,
      "metadata": {
        "colab": {
          "base_uri": "https://localhost:8080/"
        },
        "id": "maFKrebK3hZg",
        "outputId": "e3a0c87e-7f42-43d1-ecb6-07e15234fdc8"
      },
      "outputs": [
        {
          "name": "stderr",
          "output_type": "stream",
          "text": [
            "100%|██████████| 4000/4000 [01:27<00:00, 45.63it/s]"
          ]
        },
        {
          "name": "stdout",
          "output_type": "stream",
          "text": [
            "3785\n"
          ]
        },
        {
          "name": "stderr",
          "output_type": "stream",
          "text": [
            "\n"
          ]
        }
      ],
      "source": [
        "train_data, eval_data, test_data = get_data(news_data, preprocess={\n",
        "    'remove_stopwords': True,\n",
        "    'remove_punctuations': True,\n",
        "    'remove_numbers': True})"
      ]
    },
    {
      "cell_type": "code",
      "execution_count": 9,
      "metadata": {
        "colab": {
          "base_uri": "https://localhost:8080/",
          "height": 268
        },
        "id": "Fi7VeQgfLBmG",
        "outputId": "a6a3d2c4-31ce-4024-c05f-ed8523b9ab14"
      },
      "outputs": [
        {
          "name": "stdout",
          "output_type": "stream",
          "text": [
            "(3028, 6)\n"
          ]
        },
        {
          "data": {
            "text/html": [
              "\n",
              "  <div id=\"df-ad90cbd0-9e9d-403f-8f27-4172ffff3ca3\">\n",
              "    <div class=\"colab-df-container\">\n",
              "      <div>\n",
              "<style scoped>\n",
              "    .dataframe tbody tr th:only-of-type {\n",
              "        vertical-align: middle;\n",
              "    }\n",
              "\n",
              "    .dataframe tbody tr th {\n",
              "        vertical-align: top;\n",
              "    }\n",
              "\n",
              "    .dataframe thead th {\n",
              "        text-align: right;\n",
              "    }\n",
              "</style>\n",
              "<table border=\"1\" class=\"dataframe\">\n",
              "  <thead>\n",
              "    <tr style=\"text-align: right;\">\n",
              "      <th></th>\n",
              "      <th>title</th>\n",
              "      <th>text</th>\n",
              "      <th>category</th>\n",
              "      <th>keywords</th>\n",
              "      <th>source_name</th>\n",
              "      <th>label</th>\n",
              "    </tr>\n",
              "  </thead>\n",
              "  <tbody>\n",
              "    <tr>\n",
              "      <th>0</th>\n",
              "      <td>ابتلای امام جمعه استان یزد به کرونا</td>\n",
              "      <td>گزارش خبرنگار خبرگزاری یزد آیت الله محمدرضا ن...</td>\n",
              "      <td>مذهبی</td>\n",
              "      <td>NaN</td>\n",
              "      <td>شبستان</td>\n",
              "      <td>0</td>\n",
              "    </tr>\n",
              "    <tr>\n",
              "      <th>1</th>\n",
              "      <td>خواب آرام و با کیفیت را با این مکمل ها تجربه کنید</td>\n",
              "      <td>ملاتونین ملاتونین شناخته ترین مکمل های خواب نم...</td>\n",
              "      <td>علمی و پزشکی</td>\n",
              "      <td>خواب,عناب,خواب راحت,منیزیم,پارسی خبر,</td>\n",
              "      <td>پارسینه</td>\n",
              "      <td>0</td>\n",
              "    </tr>\n",
              "    <tr>\n",
              "      <th>2</th>\n",
              "      <td>سقوط آزاد سرمایه گذاری در صنعت برق اردبیل</td>\n",
              "      <td>بازار گروه استان ها سرمایه صنعت برق ضرورت ها ا...</td>\n",
              "      <td>اقتصادی</td>\n",
              "      <td>صنعت برق,سرمایه گذاری,قطعی برق,</td>\n",
              "      <td>تحلیل بازار</td>\n",
              "      <td>0</td>\n",
              "    </tr>\n",
              "    <tr>\n",
              "      <th>3</th>\n",
              "      <td>اندیشکده روسی|کرملین و ناکارآمدی نهادهای غربی</td>\n",
              "      <td>گزارش گروه الملل اختلافات مسکو غرب کارشناسان ...</td>\n",
              "      <td>بین الملل</td>\n",
              "      <td>NaN</td>\n",
              "      <td>خبرگزاری تسنیم</td>\n",
              "      <td>0</td>\n",
              "    </tr>\n",
              "    <tr>\n",
              "      <th>4</th>\n",
              "      <td>اعلام حالت فوق‌العاده یک ماهه در فلسطین برای م...</td>\n",
              "      <td>گزارشبه نقل خبرگزاری فلسطینی وفا محمود عباس ر...</td>\n",
              "      <td>بین الملل</td>\n",
              "      <td>NaN</td>\n",
              "      <td>باشگاه خبرنگاران</td>\n",
              "      <td>0</td>\n",
              "    </tr>\n",
              "  </tbody>\n",
              "</table>\n",
              "</div>\n",
              "      <button class=\"colab-df-convert\" onclick=\"convertToInteractive('df-ad90cbd0-9e9d-403f-8f27-4172ffff3ca3')\"\n",
              "              title=\"Convert this dataframe to an interactive table.\"\n",
              "              style=\"display:none;\">\n",
              "        \n",
              "  <svg xmlns=\"http://www.w3.org/2000/svg\" height=\"24px\"viewBox=\"0 0 24 24\"\n",
              "       width=\"24px\">\n",
              "    <path d=\"M0 0h24v24H0V0z\" fill=\"none\"/>\n",
              "    <path d=\"M18.56 5.44l.94 2.06.94-2.06 2.06-.94-2.06-.94-.94-2.06-.94 2.06-2.06.94zm-11 1L8.5 8.5l.94-2.06 2.06-.94-2.06-.94L8.5 2.5l-.94 2.06-2.06.94zm10 10l.94 2.06.94-2.06 2.06-.94-2.06-.94-.94-2.06-.94 2.06-2.06.94z\"/><path d=\"M17.41 7.96l-1.37-1.37c-.4-.4-.92-.59-1.43-.59-.52 0-1.04.2-1.43.59L10.3 9.45l-7.72 7.72c-.78.78-.78 2.05 0 2.83L4 21.41c.39.39.9.59 1.41.59.51 0 1.02-.2 1.41-.59l7.78-7.78 2.81-2.81c.8-.78.8-2.07 0-2.86zM5.41 20L4 18.59l7.72-7.72 1.47 1.35L5.41 20z\"/>\n",
              "  </svg>\n",
              "      </button>\n",
              "      \n",
              "  <style>\n",
              "    .colab-df-container {\n",
              "      display:flex;\n",
              "      flex-wrap:wrap;\n",
              "      gap: 12px;\n",
              "    }\n",
              "\n",
              "    .colab-df-convert {\n",
              "      background-color: #E8F0FE;\n",
              "      border: none;\n",
              "      border-radius: 50%;\n",
              "      cursor: pointer;\n",
              "      display: none;\n",
              "      fill: #1967D2;\n",
              "      height: 32px;\n",
              "      padding: 0 0 0 0;\n",
              "      width: 32px;\n",
              "    }\n",
              "\n",
              "    .colab-df-convert:hover {\n",
              "      background-color: #E2EBFA;\n",
              "      box-shadow: 0px 1px 2px rgba(60, 64, 67, 0.3), 0px 1px 3px 1px rgba(60, 64, 67, 0.15);\n",
              "      fill: #174EA6;\n",
              "    }\n",
              "\n",
              "    [theme=dark] .colab-df-convert {\n",
              "      background-color: #3B4455;\n",
              "      fill: #D2E3FC;\n",
              "    }\n",
              "\n",
              "    [theme=dark] .colab-df-convert:hover {\n",
              "      background-color: #434B5C;\n",
              "      box-shadow: 0px 1px 3px 1px rgba(0, 0, 0, 0.15);\n",
              "      filter: drop-shadow(0px 1px 2px rgba(0, 0, 0, 0.3));\n",
              "      fill: #FFFFFF;\n",
              "    }\n",
              "  </style>\n",
              "\n",
              "      <script>\n",
              "        const buttonEl =\n",
              "          document.querySelector('#df-ad90cbd0-9e9d-403f-8f27-4172ffff3ca3 button.colab-df-convert');\n",
              "        buttonEl.style.display =\n",
              "          google.colab.kernel.accessAllowed ? 'block' : 'none';\n",
              "\n",
              "        async function convertToInteractive(key) {\n",
              "          const element = document.querySelector('#df-ad90cbd0-9e9d-403f-8f27-4172ffff3ca3');\n",
              "          const dataTable =\n",
              "            await google.colab.kernel.invokeFunction('convertToInteractive',\n",
              "                                                     [key], {});\n",
              "          if (!dataTable) return;\n",
              "\n",
              "          const docLinkHtml = 'Like what you see? Visit the ' +\n",
              "            '<a target=\"_blank\" href=https://colab.research.google.com/notebooks/data_table.ipynb>data table notebook</a>'\n",
              "            + ' to learn more about interactive tables.';\n",
              "          element.innerHTML = '';\n",
              "          dataTable['output_type'] = 'display_data';\n",
              "          await google.colab.output.renderOutput(dataTable, element);\n",
              "          const docLink = document.createElement('div');\n",
              "          docLink.innerHTML = docLinkHtml;\n",
              "          element.appendChild(docLink);\n",
              "        }\n",
              "      </script>\n",
              "    </div>\n",
              "  </div>\n",
              "  "
            ],
            "text/plain": [
              "                                               title  ... label\n",
              "0                ابتلای امام جمعه استان یزد به کرونا  ...     0\n",
              "1  خواب آرام و با کیفیت را با این مکمل ها تجربه کنید  ...     0\n",
              "2          سقوط آزاد سرمایه گذاری در صنعت برق اردبیل  ...     0\n",
              "3      اندیشکده روسی|کرملین و ناکارآمدی نهادهای غربی  ...     0\n",
              "4  اعلام حالت فوق‌العاده یک ماهه در فلسطین برای م...  ...     0\n",
              "\n",
              "[5 rows x 6 columns]"
            ]
          },
          "execution_count": 9,
          "metadata": {},
          "output_type": "execute_result"
        }
      ],
      "source": [
        "# train data\n",
        "title = []\n",
        "text = []\n",
        "category = []\n",
        "label = []\n",
        "source_name = []\n",
        "keywords = []\n",
        "\n",
        "for i in range(len(train_data)):\n",
        "    title.append(train_data[i].title)\n",
        "    text.append(train_data[i].text)\n",
        "    category.append(train_data[i].category)\n",
        "    label.append(train_data[i].label)\n",
        "    source_name.append(train_data[i].source_name)\n",
        "    keywords.append(train_data[i].keywords)\n",
        "zippedList =  list(zip(title, text, category, keywords, source_name, label))\n",
        "# Create a dataframe from zipped list\n",
        "train = pd.DataFrame(zippedList, columns = ['title' , 'text', 'category', 'keywords', 'source_name','label'])\n",
        "print(train.shape)\n",
        "train.head(5)"
      ]
    },
    {
      "cell_type": "code",
      "execution_count": 10,
      "metadata": {
        "colab": {
          "base_uri": "https://localhost:8080/",
          "height": 67
        },
        "id": "A5vJES8JVC1X",
        "outputId": "2fe67220-0320-4e38-9193-28ae302807d0"
      },
      "outputs": [
        {
          "name": "stdout",
          "output_type": "stream",
          "text": [
            "(0, 6)\n"
          ]
        },
        {
          "data": {
            "text/html": [
              "\n",
              "  <div id=\"df-d5a14fa7-15fa-47e8-9da4-c2419d58bf17\">\n",
              "    <div class=\"colab-df-container\">\n",
              "      <div>\n",
              "<style scoped>\n",
              "    .dataframe tbody tr th:only-of-type {\n",
              "        vertical-align: middle;\n",
              "    }\n",
              "\n",
              "    .dataframe tbody tr th {\n",
              "        vertical-align: top;\n",
              "    }\n",
              "\n",
              "    .dataframe thead th {\n",
              "        text-align: right;\n",
              "    }\n",
              "</style>\n",
              "<table border=\"1\" class=\"dataframe\">\n",
              "  <thead>\n",
              "    <tr style=\"text-align: right;\">\n",
              "      <th></th>\n",
              "      <th>title</th>\n",
              "      <th>text</th>\n",
              "      <th>category</th>\n",
              "      <th>keywords</th>\n",
              "      <th>source_name</th>\n",
              "      <th>label</th>\n",
              "    </tr>\n",
              "  </thead>\n",
              "  <tbody>\n",
              "  </tbody>\n",
              "</table>\n",
              "</div>\n",
              "      <button class=\"colab-df-convert\" onclick=\"convertToInteractive('df-d5a14fa7-15fa-47e8-9da4-c2419d58bf17')\"\n",
              "              title=\"Convert this dataframe to an interactive table.\"\n",
              "              style=\"display:none;\">\n",
              "        \n",
              "  <svg xmlns=\"http://www.w3.org/2000/svg\" height=\"24px\"viewBox=\"0 0 24 24\"\n",
              "       width=\"24px\">\n",
              "    <path d=\"M0 0h24v24H0V0z\" fill=\"none\"/>\n",
              "    <path d=\"M18.56 5.44l.94 2.06.94-2.06 2.06-.94-2.06-.94-.94-2.06-.94 2.06-2.06.94zm-11 1L8.5 8.5l.94-2.06 2.06-.94-2.06-.94L8.5 2.5l-.94 2.06-2.06.94zm10 10l.94 2.06.94-2.06 2.06-.94-2.06-.94-.94-2.06-.94 2.06-2.06.94z\"/><path d=\"M17.41 7.96l-1.37-1.37c-.4-.4-.92-.59-1.43-.59-.52 0-1.04.2-1.43.59L10.3 9.45l-7.72 7.72c-.78.78-.78 2.05 0 2.83L4 21.41c.39.39.9.59 1.41.59.51 0 1.02-.2 1.41-.59l7.78-7.78 2.81-2.81c.8-.78.8-2.07 0-2.86zM5.41 20L4 18.59l7.72-7.72 1.47 1.35L5.41 20z\"/>\n",
              "  </svg>\n",
              "      </button>\n",
              "      \n",
              "  <style>\n",
              "    .colab-df-container {\n",
              "      display:flex;\n",
              "      flex-wrap:wrap;\n",
              "      gap: 12px;\n",
              "    }\n",
              "\n",
              "    .colab-df-convert {\n",
              "      background-color: #E8F0FE;\n",
              "      border: none;\n",
              "      border-radius: 50%;\n",
              "      cursor: pointer;\n",
              "      display: none;\n",
              "      fill: #1967D2;\n",
              "      height: 32px;\n",
              "      padding: 0 0 0 0;\n",
              "      width: 32px;\n",
              "    }\n",
              "\n",
              "    .colab-df-convert:hover {\n",
              "      background-color: #E2EBFA;\n",
              "      box-shadow: 0px 1px 2px rgba(60, 64, 67, 0.3), 0px 1px 3px 1px rgba(60, 64, 67, 0.15);\n",
              "      fill: #174EA6;\n",
              "    }\n",
              "\n",
              "    [theme=dark] .colab-df-convert {\n",
              "      background-color: #3B4455;\n",
              "      fill: #D2E3FC;\n",
              "    }\n",
              "\n",
              "    [theme=dark] .colab-df-convert:hover {\n",
              "      background-color: #434B5C;\n",
              "      box-shadow: 0px 1px 3px 1px rgba(0, 0, 0, 0.15);\n",
              "      filter: drop-shadow(0px 1px 2px rgba(0, 0, 0, 0.3));\n",
              "      fill: #FFFFFF;\n",
              "    }\n",
              "  </style>\n",
              "\n",
              "      <script>\n",
              "        const buttonEl =\n",
              "          document.querySelector('#df-d5a14fa7-15fa-47e8-9da4-c2419d58bf17 button.colab-df-convert');\n",
              "        buttonEl.style.display =\n",
              "          google.colab.kernel.accessAllowed ? 'block' : 'none';\n",
              "\n",
              "        async function convertToInteractive(key) {\n",
              "          const element = document.querySelector('#df-d5a14fa7-15fa-47e8-9da4-c2419d58bf17');\n",
              "          const dataTable =\n",
              "            await google.colab.kernel.invokeFunction('convertToInteractive',\n",
              "                                                     [key], {});\n",
              "          if (!dataTable) return;\n",
              "\n",
              "          const docLinkHtml = 'Like what you see? Visit the ' +\n",
              "            '<a target=\"_blank\" href=https://colab.research.google.com/notebooks/data_table.ipynb>data table notebook</a>'\n",
              "            + ' to learn more about interactive tables.';\n",
              "          element.innerHTML = '';\n",
              "          dataTable['output_type'] = 'display_data';\n",
              "          await google.colab.output.renderOutput(dataTable, element);\n",
              "          const docLink = document.createElement('div');\n",
              "          docLink.innerHTML = docLinkHtml;\n",
              "          element.appendChild(docLink);\n",
              "        }\n",
              "      </script>\n",
              "    </div>\n",
              "  </div>\n",
              "  "
            ],
            "text/plain": [
              "Empty DataFrame\n",
              "Columns: [title, text, category, keywords, source_name, label]\n",
              "Index: []"
            ]
          },
          "execution_count": 10,
          "metadata": {},
          "output_type": "execute_result"
        }
      ],
      "source": [
        "# validation data\n",
        "title = []\n",
        "text = []\n",
        "category = []\n",
        "label = []\n",
        "source_name = []\n",
        "keywords = []\n",
        "\n",
        "for i in range(len(eval_data)):\n",
        "    title.append(eval_data[i].title)\n",
        "    text.append(eval_data[i].text)\n",
        "    category.append(eval_data[i].category)\n",
        "    label.append(eval_data[i].label)\n",
        "    source_name.append(eval_data[i].source_name)\n",
        "    keywords.append(eval_data[i].keywords)\n",
        "zippedList =  list(zip(title, text, category, keywords, source_name, label))\n",
        "# Create a dataframe from zipped list\n",
        "val = pd.DataFrame(zippedList, columns = ['title' , 'text', 'category', 'keywords', 'source_name','label'])\n",
        "print(val.shape)\n",
        "val.head(5)"
      ]
    },
    {
      "cell_type": "code",
      "execution_count": 11,
      "metadata": {
        "colab": {
          "base_uri": "https://localhost:8080/",
          "height": 354
        },
        "id": "S6YOLYiiEnCF",
        "outputId": "08fb3b49-c9d9-4ada-d621-de94c70af827"
      },
      "outputs": [
        {
          "name": "stdout",
          "output_type": "stream",
          "text": [
            "(757, 6)\n"
          ]
        },
        {
          "data": {
            "text/html": [
              "\n",
              "  <div id=\"df-db5f0fa3-0375-4399-ad82-ceb2d99ecaa6\">\n",
              "    <div class=\"colab-df-container\">\n",
              "      <div>\n",
              "<style scoped>\n",
              "    .dataframe tbody tr th:only-of-type {\n",
              "        vertical-align: middle;\n",
              "    }\n",
              "\n",
              "    .dataframe tbody tr th {\n",
              "        vertical-align: top;\n",
              "    }\n",
              "\n",
              "    .dataframe thead th {\n",
              "        text-align: right;\n",
              "    }\n",
              "</style>\n",
              "<table border=\"1\" class=\"dataframe\">\n",
              "  <thead>\n",
              "    <tr style=\"text-align: right;\">\n",
              "      <th></th>\n",
              "      <th>title</th>\n",
              "      <th>text</th>\n",
              "      <th>category</th>\n",
              "      <th>keywords</th>\n",
              "      <th>source_name</th>\n",
              "      <th>label</th>\n",
              "    </tr>\n",
              "  </thead>\n",
              "  <tbody>\n",
              "    <tr>\n",
              "      <th>0</th>\n",
              "      <td>سازمان محیط زیست از پرداخت سود واردات تجهیزات ...</td>\n",
              "      <td>گزارش نقل پایگاه اطلاع رسانی دفتر هیئت دولت ه...</td>\n",
              "      <td>اجتماعی</td>\n",
              "      <td>پایگاه اطلاع رسانی دفتر هیئت دولت,معافیت مالیا...</td>\n",
              "      <td>خبرگزاری مهر</td>\n",
              "      <td>0</td>\n",
              "    </tr>\n",
              "    <tr>\n",
              "      <th>1</th>\n",
              "      <td>نخبه پروری در خزانه تهران ادامه دارد/ کرونا مت...</td>\n",
              "      <td>گزارش آغاز فعالیت مرکز نخبه پروری مسجد خزانه ...</td>\n",
              "      <td>اجتماعی</td>\n",
              "      <td>مسجد خزانه تهران,مسجد شهید بخارایی خزانه,حجت ا...</td>\n",
              "      <td>ایکنا</td>\n",
              "      <td>0</td>\n",
              "    </tr>\n",
              "    <tr>\n",
              "      <th>2</th>\n",
              "      <td>اجرای برنامه های فرهنگی کانون پرورش فکری قم در...</td>\n",
              "      <td>گزارش روابط عمومی اداره کانون پرورش فکری کودک...</td>\n",
              "      <td>ورزشی</td>\n",
              "      <td>NaN</td>\n",
              "      <td>کانون پرورش فکری کودکان ونوجوانان</td>\n",
              "      <td>0</td>\n",
              "    </tr>\n",
              "    <tr>\n",
              "      <th>3</th>\n",
              "      <td>السیلیه با رضاییان جام می خواهد</td>\n",
              "      <td>گزارش ورزش مسابقه فینال فصل جام اتحاد فدراسیو...</td>\n",
              "      <td>ورزشی</td>\n",
              "      <td>قطر,السیلیه,رامین رضاییان,</td>\n",
              "      <td>ورزش 3</td>\n",
              "      <td>0</td>\n",
              "    </tr>\n",
              "    <tr>\n",
              "      <th>4</th>\n",
              "      <td>مداحی جانسوز حاج مجتبی رمضانی؛ ازمون گرفتن اون...</td>\n",
              "      <td>گزارش کرمان امسال شیوع ویروس کرونا پیاده اربع...</td>\n",
              "      <td>مذهبی</td>\n",
              "      <td>NaN</td>\n",
              "      <td>خبرگزاری تسنیم</td>\n",
              "      <td>0</td>\n",
              "    </tr>\n",
              "  </tbody>\n",
              "</table>\n",
              "</div>\n",
              "      <button class=\"colab-df-convert\" onclick=\"convertToInteractive('df-db5f0fa3-0375-4399-ad82-ceb2d99ecaa6')\"\n",
              "              title=\"Convert this dataframe to an interactive table.\"\n",
              "              style=\"display:none;\">\n",
              "        \n",
              "  <svg xmlns=\"http://www.w3.org/2000/svg\" height=\"24px\"viewBox=\"0 0 24 24\"\n",
              "       width=\"24px\">\n",
              "    <path d=\"M0 0h24v24H0V0z\" fill=\"none\"/>\n",
              "    <path d=\"M18.56 5.44l.94 2.06.94-2.06 2.06-.94-2.06-.94-.94-2.06-.94 2.06-2.06.94zm-11 1L8.5 8.5l.94-2.06 2.06-.94-2.06-.94L8.5 2.5l-.94 2.06-2.06.94zm10 10l.94 2.06.94-2.06 2.06-.94-2.06-.94-.94-2.06-.94 2.06-2.06.94z\"/><path d=\"M17.41 7.96l-1.37-1.37c-.4-.4-.92-.59-1.43-.59-.52 0-1.04.2-1.43.59L10.3 9.45l-7.72 7.72c-.78.78-.78 2.05 0 2.83L4 21.41c.39.39.9.59 1.41.59.51 0 1.02-.2 1.41-.59l7.78-7.78 2.81-2.81c.8-.78.8-2.07 0-2.86zM5.41 20L4 18.59l7.72-7.72 1.47 1.35L5.41 20z\"/>\n",
              "  </svg>\n",
              "      </button>\n",
              "      \n",
              "  <style>\n",
              "    .colab-df-container {\n",
              "      display:flex;\n",
              "      flex-wrap:wrap;\n",
              "      gap: 12px;\n",
              "    }\n",
              "\n",
              "    .colab-df-convert {\n",
              "      background-color: #E8F0FE;\n",
              "      border: none;\n",
              "      border-radius: 50%;\n",
              "      cursor: pointer;\n",
              "      display: none;\n",
              "      fill: #1967D2;\n",
              "      height: 32px;\n",
              "      padding: 0 0 0 0;\n",
              "      width: 32px;\n",
              "    }\n",
              "\n",
              "    .colab-df-convert:hover {\n",
              "      background-color: #E2EBFA;\n",
              "      box-shadow: 0px 1px 2px rgba(60, 64, 67, 0.3), 0px 1px 3px 1px rgba(60, 64, 67, 0.15);\n",
              "      fill: #174EA6;\n",
              "    }\n",
              "\n",
              "    [theme=dark] .colab-df-convert {\n",
              "      background-color: #3B4455;\n",
              "      fill: #D2E3FC;\n",
              "    }\n",
              "\n",
              "    [theme=dark] .colab-df-convert:hover {\n",
              "      background-color: #434B5C;\n",
              "      box-shadow: 0px 1px 3px 1px rgba(0, 0, 0, 0.15);\n",
              "      filter: drop-shadow(0px 1px 2px rgba(0, 0, 0, 0.3));\n",
              "      fill: #FFFFFF;\n",
              "    }\n",
              "  </style>\n",
              "\n",
              "      <script>\n",
              "        const buttonEl =\n",
              "          document.querySelector('#df-db5f0fa3-0375-4399-ad82-ceb2d99ecaa6 button.colab-df-convert');\n",
              "        buttonEl.style.display =\n",
              "          google.colab.kernel.accessAllowed ? 'block' : 'none';\n",
              "\n",
              "        async function convertToInteractive(key) {\n",
              "          const element = document.querySelector('#df-db5f0fa3-0375-4399-ad82-ceb2d99ecaa6');\n",
              "          const dataTable =\n",
              "            await google.colab.kernel.invokeFunction('convertToInteractive',\n",
              "                                                     [key], {});\n",
              "          if (!dataTable) return;\n",
              "\n",
              "          const docLinkHtml = 'Like what you see? Visit the ' +\n",
              "            '<a target=\"_blank\" href=https://colab.research.google.com/notebooks/data_table.ipynb>data table notebook</a>'\n",
              "            + ' to learn more about interactive tables.';\n",
              "          element.innerHTML = '';\n",
              "          dataTable['output_type'] = 'display_data';\n",
              "          await google.colab.output.renderOutput(dataTable, element);\n",
              "          const docLink = document.createElement('div');\n",
              "          docLink.innerHTML = docLinkHtml;\n",
              "          element.appendChild(docLink);\n",
              "        }\n",
              "      </script>\n",
              "    </div>\n",
              "  </div>\n",
              "  "
            ],
            "text/plain": [
              "                                               title  ... label\n",
              "0  سازمان محیط زیست از پرداخت سود واردات تجهیزات ...  ...     0\n",
              "1  نخبه پروری در خزانه تهران ادامه دارد/ کرونا مت...  ...     0\n",
              "2  اجرای برنامه های فرهنگی کانون پرورش فکری قم در...  ...     0\n",
              "3                    السیلیه با رضاییان جام می خواهد  ...     0\n",
              "4  مداحی جانسوز حاج مجتبی رمضانی؛ ازمون گرفتن اون...  ...     0\n",
              "\n",
              "[5 rows x 6 columns]"
            ]
          },
          "execution_count": 11,
          "metadata": {},
          "output_type": "execute_result"
        }
      ],
      "source": [
        "# test data\n",
        "title = []\n",
        "text = []\n",
        "category = []\n",
        "label = []\n",
        "source_name = []\n",
        "keywords = []\n",
        "\n",
        "for i in range(len(test_data)):\n",
        "    title.append(test_data[i].title)\n",
        "    text.append(test_data[i].text)\n",
        "    category.append(test_data[i].category)\n",
        "    label.append(test_data[i].label)\n",
        "    source_name.append(test_data[i].source_name)\n",
        "    keywords.append(test_data[i].keywords)\n",
        "zippedList =  list(zip(title, text, category, keywords, source_name, label))\n",
        "# Create a dataframe from zipped list\n",
        "test = pd.DataFrame(zippedList, columns = ['title' , 'text', 'category', 'keywords', 'source_name','label'])\n",
        "print(test.shape)\n",
        "test.head(5)"
      ]
    },
    {
      "cell_type": "markdown",
      "metadata": {
        "id": "3a66bJe4ESk2"
      },
      "source": [
        "# vectorization"
      ]
    },
    {
      "cell_type": "code",
      "execution_count": 12,
      "metadata": {
        "id": "rNOoZ4WXQ8oi"
      },
      "outputs": [],
      "source": [
        "# tf-idf vectorization\n",
        "from sklearn.feature_extraction.text import TfidfVectorizer\n",
        "def tfidf(data, ngrams=(1, 2)):\n",
        "    tfidf_vectorizer = TfidfVectorizer(ngram_range=ngrams)\n",
        "    vectors = tfidf_vectorizer.fit_transform(data)\n",
        "\n",
        "    return vectors, tfidf_vectorizer\n",
        "\n",
        "# bow vectorization\n",
        "from sklearn.feature_extraction.text import CountVectorizer\n",
        "def bow(data, ngrams=(1, 2)):\n",
        "    bow_vectorizer = CountVectorizer(ngram_range=ngrams)\n",
        "    vectors = bow_vectorizer.fit_transform(data)\n",
        "\n",
        "    return vectors, bow_vectorizer"
      ]
    },
    {
      "cell_type": "code",
      "execution_count": 13,
      "metadata": {
        "id": "MyEIf5fURV1J"
      },
      "outputs": [],
      "source": [
        "train_tfidf, tfidf_vectorizer = tfidf(train[\"text\"])\n",
        "# val_tfidf = tfidf_vectorizer.transform(val[\"text\"])\n",
        "test_tfidf = tfidf_vectorizer.transform(test[\"text\"])"
      ]
    },
    {
      "cell_type": "code",
      "execution_count": 14,
      "metadata": {
        "id": "zGKIZ6jeLBjO"
      },
      "outputs": [],
      "source": [
        "train_bow, bow_vectorizer = bow(train[\"text\"])\n",
        "# val_bow = bow_vectorizer.transform(val[\"text\"])\n",
        "test_bow = bow_vectorizer.transform(test[\"text\"])"
      ]
    },
    {
      "cell_type": "code",
      "execution_count": 15,
      "metadata": {
        "id": "WPYDCAhoaOq6"
      },
      "outputs": [],
      "source": [
        "X_train_tfidf = train_tfidf\n",
        "y_train_tfidf = train[\"label\"].values\n",
        "\n",
        "# X_val_tfidf = val_tfidf\n",
        "# y_val_tfidf = val[\"label\"].values\n",
        "\n",
        "X_test_tfidf = test_tfidf\n",
        "y_test_tfidf = test[\"label\"].values"
      ]
    },
    {
      "cell_type": "code",
      "execution_count": 16,
      "metadata": {
        "id": "XImnq3KtbeQ1"
      },
      "outputs": [],
      "source": [
        "X_train_bow = train_bow\n",
        "y_train_bow = train[\"label\"].values\n",
        "\n",
        "# X_val_bow = val_bow\n",
        "# y_val_bow = val[\"label\"].values\n",
        "\n",
        "X_test_bow = test_bow\n",
        "y_test_bow = test[\"label\"].values"
      ]
    },
    {
      "cell_type": "markdown",
      "metadata": {
        "id": "458Lh07QA4SX"
      },
      "source": [
        "# define evaluation metrics"
      ]
    },
    {
      "cell_type": "code",
      "execution_count": 17,
      "metadata": {
        "id": "zxrPhsMOJ7kv"
      },
      "outputs": [],
      "source": [
        "# a function to print evaluation using given predicted labels and real labels\n",
        "import seaborn as sns\n",
        "def print_evaluation(real, pred):\n",
        "    f1macro = f1_score(real, pred, average= 'macro')\n",
        "    f1micro = f1_score(real, pred, average='micro')\n",
        "    acc = accuracy_score(real, pred)\n",
        "    recall = recall_score(real, pred, average= 'macro', zero_division=0) #zero_division=1\n",
        "    precision = precision_score(real, pred, average= 'macro') #,zero_division=1\n",
        "    rocauc = roc_auc_score(real, pred)\n",
        "    confmat = confusion_matrix(real, pred)\n",
        "    print(f'f1-score macro: {f1macro}')\n",
        "    print(f'f1-score micro: {f1micro}')\n",
        "    print(f'accuracy score: {acc}')\n",
        "    print(f'recall score: {recall}')\n",
        "    print(f'precision score: {precision}')\n",
        "    print(f'ROCAUC score: {rocauc}')\n",
        "    fig, ax = plt.subplots()\n",
        "    sns.heatmap(confmat, xticklabels=['not importnt','important'] , yticklabels=['not importnt','important'], annot=True, cmap='hot')\n",
        "    ax.set_xlabel( \"Predicted label\")\n",
        "    ax.set_ylabel( \"True label\")\n",
        "    ax.set_title( \"Confusion Matrix\") "
      ]
    },
    {
      "cell_type": "markdown",
      "metadata": {
        "id": "DUl92Oyd_rFe"
      },
      "source": [
        "# step3 & step4"
      ]
    },
    {
      "cell_type": "markdown",
      "metadata": {
        "id": "7fvC8zSk3UpL"
      },
      "source": [
        "# Logistic Regression"
      ]
    },
    {
      "cell_type": "code",
      "execution_count": null,
      "metadata": {
        "id": "W9WMDwpQRMhA"
      },
      "outputs": [],
      "source": [
        "from sklearn.linear_model import LogisticRegression\n",
        "from sklearn.model_selection import GridSearchCV"
      ]
    },
    {
      "cell_type": "markdown",
      "metadata": {
        "id": "tnPgkOP9cl35"
      },
      "source": [
        "## tf-idf"
      ]
    },
    {
      "cell_type": "code",
      "execution_count": null,
      "metadata": {
        "id": "Bt1TiUSgFMpo"
      },
      "outputs": [],
      "source": [
        "# logistic regression model tuning\n",
        "lrm_param_grid = {'C': [0.01, 0.1, 1, 10],\n",
        "                  'class_weight':[{0:0.15, 1:1},{0:0.3, 1:1},{0:0.2, 1:3},{0:0.15, 1:5}],\n",
        "                  'solver': ['newton-cg', 'lbfgs', 'sag', 'saga']} \n",
        "lrm_grid = GridSearchCV(LogisticRegression(),\n",
        "                        lrm_param_grid,\n",
        "                        refit=True,\n",
        "                        verbose=3,\n",
        "                        scoring='f1_macro')"
      ]
    },
    {
      "cell_type": "code",
      "execution_count": null,
      "metadata": {
        "colab": {
          "base_uri": "https://localhost:8080/"
        },
        "id": "kmVocgvAFSN_",
        "outputId": "27f3e038-fffa-4d08-89f3-68a3bf89b17b"
      },
      "outputs": [
        {
          "name": "stdout",
          "output_type": "stream",
          "text": [
            "Fitting 5 folds for each of 64 candidates, totalling 320 fits\n",
            "[CV 1/5] END C=0.01, class_weight={0: 0.15, 1: 1}, solver=newton-cg;, score=0.119 total time=   1.0s\n",
            "[CV 2/5] END C=0.01, class_weight={0: 0.15, 1: 1}, solver=newton-cg;, score=0.119 total time=   1.0s\n",
            "[CV 3/5] END C=0.01, class_weight={0: 0.15, 1: 1}, solver=newton-cg;, score=0.119 total time=   1.0s\n",
            "[CV 4/5] END C=0.01, class_weight={0: 0.15, 1: 1}, solver=newton-cg;, score=0.118 total time=   1.0s\n",
            "[CV 5/5] END C=0.01, class_weight={0: 0.15, 1: 1}, solver=newton-cg;, score=0.119 total time=   1.0s\n",
            "[CV 1/5] END C=0.01, class_weight={0: 0.15, 1: 1}, solver=lbfgs;, score=0.119 total time=   0.8s\n",
            "[CV 2/5] END C=0.01, class_weight={0: 0.15, 1: 1}, solver=lbfgs;, score=0.119 total time=   0.7s\n",
            "[CV 3/5] END C=0.01, class_weight={0: 0.15, 1: 1}, solver=lbfgs;, score=0.119 total time=   0.7s\n",
            "[CV 4/5] END C=0.01, class_weight={0: 0.15, 1: 1}, solver=lbfgs;, score=0.118 total time=   0.7s\n",
            "[CV 5/5] END C=0.01, class_weight={0: 0.15, 1: 1}, solver=lbfgs;, score=0.119 total time=   0.9s\n",
            "[CV 1/5] END C=0.01, class_weight={0: 0.15, 1: 1}, solver=sag;, score=0.119 total time=   1.6s\n",
            "[CV 2/5] END C=0.01, class_weight={0: 0.15, 1: 1}, solver=sag;, score=0.119 total time=   1.4s\n",
            "[CV 3/5] END C=0.01, class_weight={0: 0.15, 1: 1}, solver=sag;, score=0.119 total time=   1.7s\n",
            "[CV 4/5] END C=0.01, class_weight={0: 0.15, 1: 1}, solver=sag;, score=0.118 total time=   1.4s\n",
            "[CV 5/5] END C=0.01, class_weight={0: 0.15, 1: 1}, solver=sag;, score=0.119 total time=   1.7s\n",
            "[CV 1/5] END C=0.01, class_weight={0: 0.15, 1: 1}, solver=saga;, score=0.119 total time=   1.2s\n",
            "[CV 2/5] END C=0.01, class_weight={0: 0.15, 1: 1}, solver=saga;, score=0.119 total time=   1.3s\n",
            "[CV 3/5] END C=0.01, class_weight={0: 0.15, 1: 1}, solver=saga;, score=0.119 total time=   1.3s\n",
            "[CV 4/5] END C=0.01, class_weight={0: 0.15, 1: 1}, solver=saga;, score=0.118 total time=   1.0s\n",
            "[CV 5/5] END C=0.01, class_weight={0: 0.15, 1: 1}, solver=saga;, score=0.119 total time=   2.4s\n",
            "[CV 1/5] END C=0.01, class_weight={0: 0.3, 1: 1}, solver=newton-cg;, score=0.464 total time=   1.8s\n",
            "[CV 2/5] END C=0.01, class_weight={0: 0.3, 1: 1}, solver=newton-cg;, score=0.464 total time=   3.2s\n",
            "[CV 3/5] END C=0.01, class_weight={0: 0.3, 1: 1}, solver=newton-cg;, score=0.464 total time=   2.5s\n",
            "[CV 4/5] END C=0.01, class_weight={0: 0.3, 1: 1}, solver=newton-cg;, score=0.464 total time=   1.5s\n",
            "[CV 5/5] END C=0.01, class_weight={0: 0.3, 1: 1}, solver=newton-cg;, score=0.464 total time=   2.4s\n",
            "[CV 1/5] END C=0.01, class_weight={0: 0.3, 1: 1}, solver=lbfgs;, score=0.464 total time=   1.8s\n",
            "[CV 2/5] END C=0.01, class_weight={0: 0.3, 1: 1}, solver=lbfgs;, score=0.464 total time=   2.0s\n",
            "[CV 3/5] END C=0.01, class_weight={0: 0.3, 1: 1}, solver=lbfgs;, score=0.464 total time=   2.2s\n",
            "[CV 4/5] END C=0.01, class_weight={0: 0.3, 1: 1}, solver=lbfgs;, score=0.464 total time=   2.0s\n",
            "[CV 5/5] END C=0.01, class_weight={0: 0.3, 1: 1}, solver=lbfgs;, score=0.464 total time=   2.6s\n",
            "[CV 1/5] END C=0.01, class_weight={0: 0.3, 1: 1}, solver=sag;, score=0.464 total time=   3.5s\n",
            "[CV 2/5] END C=0.01, class_weight={0: 0.3, 1: 1}, solver=sag;, score=0.464 total time=   3.5s\n",
            "[CV 3/5] END C=0.01, class_weight={0: 0.3, 1: 1}, solver=sag;, score=0.464 total time=   2.8s\n",
            "[CV 4/5] END C=0.01, class_weight={0: 0.3, 1: 1}, solver=sag;, score=0.464 total time=   2.4s\n",
            "[CV 5/5] END C=0.01, class_weight={0: 0.3, 1: 1}, solver=sag;, score=0.464 total time=   2.2s\n",
            "[CV 1/5] END C=0.01, class_weight={0: 0.3, 1: 1}, solver=saga;, score=0.464 total time=   3.9s\n",
            "[CV 2/5] END C=0.01, class_weight={0: 0.3, 1: 1}, solver=saga;, score=0.464 total time=   3.8s\n",
            "[CV 3/5] END C=0.01, class_weight={0: 0.3, 1: 1}, solver=saga;, score=0.464 total time=   6.1s\n",
            "[CV 4/5] END C=0.01, class_weight={0: 0.3, 1: 1}, solver=saga;, score=0.464 total time=   3.5s\n",
            "[CV 5/5] END C=0.01, class_weight={0: 0.3, 1: 1}, solver=saga;, score=0.464 total time=   3.6s\n",
            "[CV 1/5] END C=0.01, class_weight={0: 0.2, 1: 3}, solver=newton-cg;, score=0.119 total time=   0.6s\n",
            "[CV 2/5] END C=0.01, class_weight={0: 0.2, 1: 3}, solver=newton-cg;, score=0.119 total time=   0.6s\n",
            "[CV 3/5] END C=0.01, class_weight={0: 0.2, 1: 3}, solver=newton-cg;, score=0.119 total time=   0.6s\n",
            "[CV 4/5] END C=0.01, class_weight={0: 0.2, 1: 3}, solver=newton-cg;, score=0.118 total time=   0.6s\n",
            "[CV 5/5] END C=0.01, class_weight={0: 0.2, 1: 3}, solver=newton-cg;, score=0.119 total time=   0.6s\n",
            "[CV 1/5] END C=0.01, class_weight={0: 0.2, 1: 3}, solver=lbfgs;, score=0.119 total time=   0.9s\n",
            "[CV 2/5] END C=0.01, class_weight={0: 0.2, 1: 3}, solver=lbfgs;, score=0.119 total time=   0.8s\n",
            "[CV 3/5] END C=0.01, class_weight={0: 0.2, 1: 3}, solver=lbfgs;, score=0.119 total time=   0.9s\n",
            "[CV 4/5] END C=0.01, class_weight={0: 0.2, 1: 3}, solver=lbfgs;, score=0.118 total time=   1.0s\n",
            "[CV 5/5] END C=0.01, class_weight={0: 0.2, 1: 3}, solver=lbfgs;, score=0.119 total time=   0.8s\n",
            "[CV 1/5] END C=0.01, class_weight={0: 0.2, 1: 3}, solver=sag;, score=0.119 total time=   1.4s\n",
            "[CV 2/5] END C=0.01, class_weight={0: 0.2, 1: 3}, solver=sag;, score=0.119 total time=   1.4s\n",
            "[CV 3/5] END C=0.01, class_weight={0: 0.2, 1: 3}, solver=sag;, score=0.119 total time=   1.3s\n",
            "[CV 4/5] END C=0.01, class_weight={0: 0.2, 1: 3}, solver=sag;, score=0.118 total time=   1.3s\n",
            "[CV 5/5] END C=0.01, class_weight={0: 0.2, 1: 3}, solver=sag;, score=0.119 total time=   1.4s\n"
          ]
        },
        {
          "name": "stderr",
          "output_type": "stream",
          "text": [
            "/usr/local/lib/python3.7/dist-packages/sklearn/linear_model/_sag.py:354: ConvergenceWarning: The max_iter was reached which means the coef_ did not converge\n",
            "  ConvergenceWarning,\n"
          ]
        },
        {
          "name": "stdout",
          "output_type": "stream",
          "text": [
            "[CV 1/5] END C=0.01, class_weight={0: 0.2, 1: 3}, solver=saga;, score=0.119 total time=   4.9s\n",
            "[CV 2/5] END C=0.01, class_weight={0: 0.2, 1: 3}, solver=saga;, score=0.119 total time=   4.3s\n",
            "[CV 3/5] END C=0.01, class_weight={0: 0.2, 1: 3}, solver=saga;, score=0.119 total time=   4.8s\n"
          ]
        },
        {
          "name": "stderr",
          "output_type": "stream",
          "text": [
            "/usr/local/lib/python3.7/dist-packages/sklearn/linear_model/_sag.py:354: ConvergenceWarning: The max_iter was reached which means the coef_ did not converge\n",
            "  ConvergenceWarning,\n"
          ]
        },
        {
          "name": "stdout",
          "output_type": "stream",
          "text": [
            "[CV 4/5] END C=0.01, class_weight={0: 0.2, 1: 3}, solver=saga;, score=0.118 total time=   4.9s\n",
            "[CV 5/5] END C=0.01, class_weight={0: 0.2, 1: 3}, solver=saga;, score=0.119 total time=   4.8s\n",
            "[CV 1/5] END C=0.01, class_weight={0: 0.15, 1: 5}, solver=newton-cg;, score=0.119 total time=   0.9s\n",
            "[CV 2/5] END C=0.01, class_weight={0: 0.15, 1: 5}, solver=newton-cg;, score=0.119 total time=   0.9s\n",
            "[CV 3/5] END C=0.01, class_weight={0: 0.15, 1: 5}, solver=newton-cg;, score=0.119 total time=   0.9s\n",
            "[CV 4/5] END C=0.01, class_weight={0: 0.15, 1: 5}, solver=newton-cg;, score=0.118 total time=   1.0s\n",
            "[CV 5/5] END C=0.01, class_weight={0: 0.15, 1: 5}, solver=newton-cg;, score=0.119 total time=   1.0s\n",
            "[CV 1/5] END C=0.01, class_weight={0: 0.15, 1: 5}, solver=lbfgs;, score=0.119 total time=   1.0s\n",
            "[CV 2/5] END C=0.01, class_weight={0: 0.15, 1: 5}, solver=lbfgs;, score=0.119 total time=   1.1s\n",
            "[CV 3/5] END C=0.01, class_weight={0: 0.15, 1: 5}, solver=lbfgs;, score=0.119 total time=   1.1s\n",
            "[CV 4/5] END C=0.01, class_weight={0: 0.15, 1: 5}, solver=lbfgs;, score=0.118 total time=   1.1s\n",
            "[CV 5/5] END C=0.01, class_weight={0: 0.15, 1: 5}, solver=lbfgs;, score=0.119 total time=   1.1s\n",
            "[CV 1/5] END C=0.01, class_weight={0: 0.15, 1: 5}, solver=sag;, score=0.119 total time=   1.2s\n",
            "[CV 2/5] END C=0.01, class_weight={0: 0.15, 1: 5}, solver=sag;, score=0.119 total time=   1.4s\n",
            "[CV 3/5] END C=0.01, class_weight={0: 0.15, 1: 5}, solver=sag;, score=0.119 total time=   1.5s\n",
            "[CV 4/5] END C=0.01, class_weight={0: 0.15, 1: 5}, solver=sag;, score=0.118 total time=   1.4s\n",
            "[CV 5/5] END C=0.01, class_weight={0: 0.15, 1: 5}, solver=sag;, score=0.119 total time=   1.5s\n"
          ]
        },
        {
          "name": "stderr",
          "output_type": "stream",
          "text": [
            "/usr/local/lib/python3.7/dist-packages/sklearn/linear_model/_sag.py:354: ConvergenceWarning: The max_iter was reached which means the coef_ did not converge\n",
            "  ConvergenceWarning,\n"
          ]
        },
        {
          "name": "stdout",
          "output_type": "stream",
          "text": [
            "[CV 1/5] END C=0.01, class_weight={0: 0.15, 1: 5}, solver=saga;, score=0.119 total time=   5.2s\n"
          ]
        },
        {
          "name": "stderr",
          "output_type": "stream",
          "text": [
            "/usr/local/lib/python3.7/dist-packages/sklearn/linear_model/_sag.py:354: ConvergenceWarning: The max_iter was reached which means the coef_ did not converge\n",
            "  ConvergenceWarning,\n"
          ]
        },
        {
          "name": "stdout",
          "output_type": "stream",
          "text": [
            "[CV 2/5] END C=0.01, class_weight={0: 0.15, 1: 5}, solver=saga;, score=0.119 total time=   4.9s\n"
          ]
        },
        {
          "name": "stderr",
          "output_type": "stream",
          "text": [
            "/usr/local/lib/python3.7/dist-packages/sklearn/linear_model/_sag.py:354: ConvergenceWarning: The max_iter was reached which means the coef_ did not converge\n",
            "  ConvergenceWarning,\n"
          ]
        },
        {
          "name": "stdout",
          "output_type": "stream",
          "text": [
            "[CV 3/5] END C=0.01, class_weight={0: 0.15, 1: 5}, solver=saga;, score=0.119 total time=   4.7s\n"
          ]
        },
        {
          "name": "stderr",
          "output_type": "stream",
          "text": [
            "/usr/local/lib/python3.7/dist-packages/sklearn/linear_model/_sag.py:354: ConvergenceWarning: The max_iter was reached which means the coef_ did not converge\n",
            "  ConvergenceWarning,\n"
          ]
        },
        {
          "name": "stdout",
          "output_type": "stream",
          "text": [
            "[CV 4/5] END C=0.01, class_weight={0: 0.15, 1: 5}, solver=saga;, score=0.118 total time=   4.9s\n"
          ]
        },
        {
          "name": "stderr",
          "output_type": "stream",
          "text": [
            "/usr/local/lib/python3.7/dist-packages/sklearn/linear_model/_sag.py:354: ConvergenceWarning: The max_iter was reached which means the coef_ did not converge\n",
            "  ConvergenceWarning,\n"
          ]
        },
        {
          "name": "stdout",
          "output_type": "stream",
          "text": [
            "[CV 5/5] END C=0.01, class_weight={0: 0.15, 1: 5}, solver=saga;, score=0.119 total time=   5.0s\n",
            "[CV 1/5] END C=0.1, class_weight={0: 0.15, 1: 1}, solver=newton-cg;, score=0.531 total time=   0.6s\n",
            "[CV 2/5] END C=0.1, class_weight={0: 0.15, 1: 1}, solver=newton-cg;, score=0.530 total time=   0.6s\n",
            "[CV 3/5] END C=0.1, class_weight={0: 0.15, 1: 1}, solver=newton-cg;, score=0.512 total time=   0.6s\n",
            "[CV 4/5] END C=0.1, class_weight={0: 0.15, 1: 1}, solver=newton-cg;, score=0.493 total time=   0.6s\n",
            "[CV 5/5] END C=0.1, class_weight={0: 0.15, 1: 1}, solver=newton-cg;, score=0.522 total time=   0.5s\n",
            "[CV 1/5] END C=0.1, class_weight={0: 0.15, 1: 1}, solver=lbfgs;, score=0.531 total time=   0.9s\n",
            "[CV 2/5] END C=0.1, class_weight={0: 0.15, 1: 1}, solver=lbfgs;, score=0.530 total time=   0.9s\n",
            "[CV 3/5] END C=0.1, class_weight={0: 0.15, 1: 1}, solver=lbfgs;, score=0.512 total time=   0.8s\n",
            "[CV 4/5] END C=0.1, class_weight={0: 0.15, 1: 1}, solver=lbfgs;, score=0.493 total time=   1.2s\n",
            "[CV 5/5] END C=0.1, class_weight={0: 0.15, 1: 1}, solver=lbfgs;, score=0.522 total time=   1.3s\n",
            "[CV 1/5] END C=0.1, class_weight={0: 0.15, 1: 1}, solver=sag;, score=0.530 total time=   0.5s\n",
            "[CV 2/5] END C=0.1, class_weight={0: 0.15, 1: 1}, solver=sag;, score=0.530 total time=   0.5s\n",
            "[CV 3/5] END C=0.1, class_weight={0: 0.15, 1: 1}, solver=sag;, score=0.512 total time=   0.4s\n",
            "[CV 4/5] END C=0.1, class_weight={0: 0.15, 1: 1}, solver=sag;, score=0.493 total time=   0.6s\n",
            "[CV 5/5] END C=0.1, class_weight={0: 0.15, 1: 1}, solver=sag;, score=0.522 total time=   0.5s\n",
            "[CV 1/5] END C=0.1, class_weight={0: 0.15, 1: 1}, solver=saga;, score=0.527 total time=   0.7s\n",
            "[CV 2/5] END C=0.1, class_weight={0: 0.15, 1: 1}, solver=saga;, score=0.522 total time=   0.8s\n",
            "[CV 3/5] END C=0.1, class_weight={0: 0.15, 1: 1}, solver=saga;, score=0.509 total time=   0.6s\n",
            "[CV 4/5] END C=0.1, class_weight={0: 0.15, 1: 1}, solver=saga;, score=0.501 total time=   0.6s\n",
            "[CV 5/5] END C=0.1, class_weight={0: 0.15, 1: 1}, solver=saga;, score=0.514 total time=   0.7s\n",
            "[CV 1/5] END C=0.1, class_weight={0: 0.3, 1: 1}, solver=newton-cg;, score=0.464 total time=   0.6s\n",
            "[CV 2/5] END C=0.1, class_weight={0: 0.3, 1: 1}, solver=newton-cg;, score=0.464 total time=   0.6s\n",
            "[CV 3/5] END C=0.1, class_weight={0: 0.3, 1: 1}, solver=newton-cg;, score=0.464 total time=   0.6s\n",
            "[CV 4/5] END C=0.1, class_weight={0: 0.3, 1: 1}, solver=newton-cg;, score=0.464 total time=   0.6s\n",
            "[CV 5/5] END C=0.1, class_weight={0: 0.3, 1: 1}, solver=newton-cg;, score=0.464 total time=   0.6s\n",
            "[CV 1/5] END C=0.1, class_weight={0: 0.3, 1: 1}, solver=lbfgs;, score=0.464 total time=   1.8s\n",
            "[CV 2/5] END C=0.1, class_weight={0: 0.3, 1: 1}, solver=lbfgs;, score=0.464 total time=   1.7s\n",
            "[CV 3/5] END C=0.1, class_weight={0: 0.3, 1: 1}, solver=lbfgs;, score=0.464 total time=   1.8s\n",
            "[CV 4/5] END C=0.1, class_weight={0: 0.3, 1: 1}, solver=lbfgs;, score=0.464 total time=   1.6s\n",
            "[CV 5/5] END C=0.1, class_weight={0: 0.3, 1: 1}, solver=lbfgs;, score=0.464 total time=   1.7s\n",
            "[CV 1/5] END C=0.1, class_weight={0: 0.3, 1: 1}, solver=sag;, score=0.464 total time=   0.5s\n",
            "[CV 2/5] END C=0.1, class_weight={0: 0.3, 1: 1}, solver=sag;, score=0.464 total time=   0.5s\n",
            "[CV 3/5] END C=0.1, class_weight={0: 0.3, 1: 1}, solver=sag;, score=0.464 total time=   0.5s\n",
            "[CV 4/5] END C=0.1, class_weight={0: 0.3, 1: 1}, solver=sag;, score=0.464 total time=   0.5s\n",
            "[CV 5/5] END C=0.1, class_weight={0: 0.3, 1: 1}, solver=sag;, score=0.464 total time=   0.5s\n",
            "[CV 1/5] END C=0.1, class_weight={0: 0.3, 1: 1}, solver=saga;, score=0.464 total time=   1.8s\n",
            "[CV 2/5] END C=0.1, class_weight={0: 0.3, 1: 1}, solver=saga;, score=0.464 total time=   2.3s\n",
            "[CV 3/5] END C=0.1, class_weight={0: 0.3, 1: 1}, solver=saga;, score=0.464 total time=   2.4s\n",
            "[CV 4/5] END C=0.1, class_weight={0: 0.3, 1: 1}, solver=saga;, score=0.464 total time=   2.1s\n",
            "[CV 5/5] END C=0.1, class_weight={0: 0.3, 1: 1}, solver=saga;, score=0.464 total time=   0.7s\n",
            "[CV 1/5] END C=0.1, class_weight={0: 0.2, 1: 3}, solver=newton-cg;, score=0.119 total time=   0.7s\n",
            "[CV 2/5] END C=0.1, class_weight={0: 0.2, 1: 3}, solver=newton-cg;, score=0.119 total time=   0.8s\n",
            "[CV 3/5] END C=0.1, class_weight={0: 0.2, 1: 3}, solver=newton-cg;, score=0.119 total time=   0.7s\n",
            "[CV 4/5] END C=0.1, class_weight={0: 0.2, 1: 3}, solver=newton-cg;, score=0.118 total time=   0.7s\n",
            "[CV 5/5] END C=0.1, class_weight={0: 0.2, 1: 3}, solver=newton-cg;, score=0.119 total time=   0.8s\n",
            "[CV 1/5] END C=0.1, class_weight={0: 0.2, 1: 3}, solver=lbfgs;, score=0.119 total time=   1.8s\n",
            "[CV 2/5] END C=0.1, class_weight={0: 0.2, 1: 3}, solver=lbfgs;, score=0.119 total time=   1.8s\n",
            "[CV 3/5] END C=0.1, class_weight={0: 0.2, 1: 3}, solver=lbfgs;, score=0.119 total time=   2.1s\n",
            "[CV 4/5] END C=0.1, class_weight={0: 0.2, 1: 3}, solver=lbfgs;, score=0.118 total time=   1.7s\n",
            "[CV 5/5] END C=0.1, class_weight={0: 0.2, 1: 3}, solver=lbfgs;, score=0.119 total time=   1.9s\n",
            "[CV 1/5] END C=0.1, class_weight={0: 0.2, 1: 3}, solver=sag;, score=0.119 total time=   0.5s\n",
            "[CV 2/5] END C=0.1, class_weight={0: 0.2, 1: 3}, solver=sag;, score=0.119 total time=   0.5s\n",
            "[CV 3/5] END C=0.1, class_weight={0: 0.2, 1: 3}, solver=sag;, score=0.119 total time=   0.5s\n",
            "[CV 4/5] END C=0.1, class_weight={0: 0.2, 1: 3}, solver=sag;, score=0.118 total time=   0.4s\n",
            "[CV 5/5] END C=0.1, class_weight={0: 0.2, 1: 3}, solver=sag;, score=0.119 total time=   0.6s\n",
            "[CV 1/5] END C=0.1, class_weight={0: 0.2, 1: 3}, solver=saga;, score=0.119 total time=   0.9s\n",
            "[CV 2/5] END C=0.1, class_weight={0: 0.2, 1: 3}, solver=saga;, score=0.119 total time=   1.5s\n",
            "[CV 3/5] END C=0.1, class_weight={0: 0.2, 1: 3}, solver=saga;, score=0.119 total time=   1.0s\n",
            "[CV 4/5] END C=0.1, class_weight={0: 0.2, 1: 3}, solver=saga;, score=0.118 total time=   1.1s\n",
            "[CV 5/5] END C=0.1, class_weight={0: 0.2, 1: 3}, solver=saga;, score=0.119 total time=   1.0s\n",
            "[CV 1/5] END C=0.1, class_weight={0: 0.15, 1: 5}, solver=newton-cg;, score=0.119 total time=   0.8s\n",
            "[CV 2/5] END C=0.1, class_weight={0: 0.15, 1: 5}, solver=newton-cg;, score=0.119 total time=   0.8s\n",
            "[CV 3/5] END C=0.1, class_weight={0: 0.15, 1: 5}, solver=newton-cg;, score=0.119 total time=   0.8s\n",
            "[CV 4/5] END C=0.1, class_weight={0: 0.15, 1: 5}, solver=newton-cg;, score=0.118 total time=   0.8s\n",
            "[CV 5/5] END C=0.1, class_weight={0: 0.15, 1: 5}, solver=newton-cg;, score=0.119 total time=   0.9s\n",
            "[CV 1/5] END C=0.1, class_weight={0: 0.15, 1: 5}, solver=lbfgs;, score=0.119 total time=   1.8s\n",
            "[CV 2/5] END C=0.1, class_weight={0: 0.15, 1: 5}, solver=lbfgs;, score=0.119 total time=   1.8s\n",
            "[CV 3/5] END C=0.1, class_weight={0: 0.15, 1: 5}, solver=lbfgs;, score=0.119 total time=   1.7s\n",
            "[CV 4/5] END C=0.1, class_weight={0: 0.15, 1: 5}, solver=lbfgs;, score=0.118 total time=   1.8s\n",
            "[CV 5/5] END C=0.1, class_weight={0: 0.15, 1: 5}, solver=lbfgs;, score=0.119 total time=   1.7s\n",
            "[CV 1/5] END C=0.1, class_weight={0: 0.15, 1: 5}, solver=sag;, score=0.119 total time=   0.5s\n",
            "[CV 2/5] END C=0.1, class_weight={0: 0.15, 1: 5}, solver=sag;, score=0.119 total time=   0.5s\n",
            "[CV 3/5] END C=0.1, class_weight={0: 0.15, 1: 5}, solver=sag;, score=0.119 total time=   0.5s\n",
            "[CV 4/5] END C=0.1, class_weight={0: 0.15, 1: 5}, solver=sag;, score=0.118 total time=   0.5s\n",
            "[CV 5/5] END C=0.1, class_weight={0: 0.15, 1: 5}, solver=sag;, score=0.119 total time=   0.5s\n",
            "[CV 1/5] END C=0.1, class_weight={0: 0.15, 1: 5}, solver=saga;, score=0.119 total time=   2.8s\n"
          ]
        },
        {
          "name": "stderr",
          "output_type": "stream",
          "text": [
            "/usr/local/lib/python3.7/dist-packages/sklearn/linear_model/_sag.py:354: ConvergenceWarning: The max_iter was reached which means the coef_ did not converge\n",
            "  ConvergenceWarning,\n"
          ]
        },
        {
          "name": "stdout",
          "output_type": "stream",
          "text": [
            "[CV 2/5] END C=0.1, class_weight={0: 0.15, 1: 5}, solver=saga;, score=0.119 total time=   3.6s\n",
            "[CV 3/5] END C=0.1, class_weight={0: 0.15, 1: 5}, solver=saga;, score=0.119 total time=   3.5s\n"
          ]
        },
        {
          "name": "stderr",
          "output_type": "stream",
          "text": [
            "/usr/local/lib/python3.7/dist-packages/sklearn/linear_model/_sag.py:354: ConvergenceWarning: The max_iter was reached which means the coef_ did not converge\n",
            "  ConvergenceWarning,\n"
          ]
        },
        {
          "name": "stdout",
          "output_type": "stream",
          "text": [
            "[CV 4/5] END C=0.1, class_weight={0: 0.15, 1: 5}, solver=saga;, score=0.118 total time=   4.1s\n"
          ]
        },
        {
          "name": "stderr",
          "output_type": "stream",
          "text": [
            "/usr/local/lib/python3.7/dist-packages/sklearn/linear_model/_sag.py:354: ConvergenceWarning: The max_iter was reached which means the coef_ did not converge\n",
            "  ConvergenceWarning,\n"
          ]
        },
        {
          "name": "stdout",
          "output_type": "stream",
          "text": [
            "[CV 5/5] END C=0.1, class_weight={0: 0.15, 1: 5}, solver=saga;, score=0.119 total time=   3.8s\n",
            "[CV 1/5] END C=1, class_weight={0: 0.15, 1: 1}, solver=newton-cg;, score=0.606 total time=   1.2s\n",
            "[CV 2/5] END C=1, class_weight={0: 0.15, 1: 1}, solver=newton-cg;, score=0.653 total time=   1.3s\n",
            "[CV 3/5] END C=1, class_weight={0: 0.15, 1: 1}, solver=newton-cg;, score=0.632 total time=   1.2s\n",
            "[CV 4/5] END C=1, class_weight={0: 0.15, 1: 1}, solver=newton-cg;, score=0.694 total time=   1.2s\n",
            "[CV 5/5] END C=1, class_weight={0: 0.15, 1: 1}, solver=newton-cg;, score=0.649 total time=   1.1s\n",
            "[CV 1/5] END C=1, class_weight={0: 0.15, 1: 1}, solver=lbfgs;, score=0.606 total time=   1.2s\n",
            "[CV 2/5] END C=1, class_weight={0: 0.15, 1: 1}, solver=lbfgs;, score=0.653 total time=   1.2s\n",
            "[CV 3/5] END C=1, class_weight={0: 0.15, 1: 1}, solver=lbfgs;, score=0.632 total time=   1.2s\n",
            "[CV 4/5] END C=1, class_weight={0: 0.15, 1: 1}, solver=lbfgs;, score=0.694 total time=   1.3s\n",
            "[CV 5/5] END C=1, class_weight={0: 0.15, 1: 1}, solver=lbfgs;, score=0.649 total time=   1.1s\n",
            "[CV 1/5] END C=1, class_weight={0: 0.15, 1: 1}, solver=sag;, score=0.606 total time=   0.5s\n",
            "[CV 2/5] END C=1, class_weight={0: 0.15, 1: 1}, solver=sag;, score=0.653 total time=   0.5s\n",
            "[CV 3/5] END C=1, class_weight={0: 0.15, 1: 1}, solver=sag;, score=0.632 total time=   0.5s\n",
            "[CV 4/5] END C=1, class_weight={0: 0.15, 1: 1}, solver=sag;, score=0.694 total time=   0.5s\n",
            "[CV 5/5] END C=1, class_weight={0: 0.15, 1: 1}, solver=sag;, score=0.649 total time=   0.6s\n",
            "[CV 1/5] END C=1, class_weight={0: 0.15, 1: 1}, solver=saga;, score=0.606 total time=   1.2s\n",
            "[CV 2/5] END C=1, class_weight={0: 0.15, 1: 1}, solver=saga;, score=0.652 total time=   1.7s\n",
            "[CV 3/5] END C=1, class_weight={0: 0.15, 1: 1}, solver=saga;, score=0.632 total time=   0.6s\n",
            "[CV 4/5] END C=1, class_weight={0: 0.15, 1: 1}, solver=saga;, score=0.694 total time=   0.7s\n",
            "[CV 5/5] END C=1, class_weight={0: 0.15, 1: 1}, solver=saga;, score=0.649 total time=   0.7s\n",
            "[CV 1/5] END C=1, class_weight={0: 0.3, 1: 1}, solver=newton-cg;, score=0.482 total time=   1.3s\n",
            "[CV 2/5] END C=1, class_weight={0: 0.3, 1: 1}, solver=newton-cg;, score=0.523 total time=   2.1s\n",
            "[CV 3/5] END C=1, class_weight={0: 0.3, 1: 1}, solver=newton-cg;, score=0.507 total time=   1.2s\n",
            "[CV 4/5] END C=1, class_weight={0: 0.3, 1: 1}, solver=newton-cg;, score=0.498 total time=   1.2s\n",
            "[CV 5/5] END C=1, class_weight={0: 0.3, 1: 1}, solver=newton-cg;, score=0.533 total time=   1.5s\n",
            "[CV 1/5] END C=1, class_weight={0: 0.3, 1: 1}, solver=lbfgs;, score=0.482 total time=   3.9s\n",
            "[CV 2/5] END C=1, class_weight={0: 0.3, 1: 1}, solver=lbfgs;, score=0.523 total time=   3.7s\n",
            "[CV 3/5] END C=1, class_weight={0: 0.3, 1: 1}, solver=lbfgs;, score=0.507 total time=   6.6s\n",
            "[CV 4/5] END C=1, class_weight={0: 0.3, 1: 1}, solver=lbfgs;, score=0.498 total time=   6.2s\n",
            "[CV 5/5] END C=1, class_weight={0: 0.3, 1: 1}, solver=lbfgs;, score=0.533 total time=   5.7s\n",
            "[CV 1/5] END C=1, class_weight={0: 0.3, 1: 1}, solver=sag;, score=0.482 total time=   1.1s\n",
            "[CV 2/5] END C=1, class_weight={0: 0.3, 1: 1}, solver=sag;, score=0.523 total time=   1.2s\n",
            "[CV 3/5] END C=1, class_weight={0: 0.3, 1: 1}, solver=sag;, score=0.507 total time=   1.1s\n",
            "[CV 4/5] END C=1, class_weight={0: 0.3, 1: 1}, solver=sag;, score=0.498 total time=   1.0s\n",
            "[CV 5/5] END C=1, class_weight={0: 0.3, 1: 1}, solver=sag;, score=0.533 total time=   1.1s\n"
          ]
        },
        {
          "name": "stderr",
          "output_type": "stream",
          "text": [
            "/usr/local/lib/python3.7/dist-packages/sklearn/linear_model/_sag.py:354: ConvergenceWarning: The max_iter was reached which means the coef_ did not converge\n",
            "  ConvergenceWarning,\n"
          ]
        },
        {
          "name": "stdout",
          "output_type": "stream",
          "text": [
            "[CV 1/5] END C=1, class_weight={0: 0.3, 1: 1}, solver=saga;, score=0.482 total time=   4.8s\n"
          ]
        },
        {
          "name": "stderr",
          "output_type": "stream",
          "text": [
            "/usr/local/lib/python3.7/dist-packages/sklearn/linear_model/_sag.py:354: ConvergenceWarning: The max_iter was reached which means the coef_ did not converge\n",
            "  ConvergenceWarning,\n"
          ]
        },
        {
          "name": "stdout",
          "output_type": "stream",
          "text": [
            "[CV 2/5] END C=1, class_weight={0: 0.3, 1: 1}, solver=saga;, score=0.523 total time=   3.7s\n"
          ]
        },
        {
          "name": "stderr",
          "output_type": "stream",
          "text": [
            "/usr/local/lib/python3.7/dist-packages/sklearn/linear_model/_sag.py:354: ConvergenceWarning: The max_iter was reached which means the coef_ did not converge\n",
            "  ConvergenceWarning,\n"
          ]
        },
        {
          "name": "stdout",
          "output_type": "stream",
          "text": [
            "[CV 3/5] END C=1, class_weight={0: 0.3, 1: 1}, solver=saga;, score=0.507 total time=   3.3s\n"
          ]
        },
        {
          "name": "stderr",
          "output_type": "stream",
          "text": [
            "/usr/local/lib/python3.7/dist-packages/sklearn/linear_model/_sag.py:354: ConvergenceWarning: The max_iter was reached which means the coef_ did not converge\n",
            "  ConvergenceWarning,\n"
          ]
        },
        {
          "name": "stdout",
          "output_type": "stream",
          "text": [
            "[CV 4/5] END C=1, class_weight={0: 0.3, 1: 1}, solver=saga;, score=0.498 total time=   3.6s\n",
            "[CV 5/5] END C=1, class_weight={0: 0.3, 1: 1}, solver=saga;, score=0.533 total time=   2.9s\n",
            "[CV 1/5] END C=1, class_weight={0: 0.2, 1: 3}, solver=newton-cg;, score=0.374 total time=   1.9s\n",
            "[CV 2/5] END C=1, class_weight={0: 0.2, 1: 3}, solver=newton-cg;, score=0.383 total time=   1.9s\n",
            "[CV 3/5] END C=1, class_weight={0: 0.2, 1: 3}, solver=newton-cg;, score=0.359 total time=   1.9s\n",
            "[CV 4/5] END C=1, class_weight={0: 0.2, 1: 3}, solver=newton-cg;, score=0.325 total time=   1.9s\n",
            "[CV 5/5] END C=1, class_weight={0: 0.2, 1: 3}, solver=newton-cg;, score=0.358 total time=   2.0s\n",
            "[CV 1/5] END C=1, class_weight={0: 0.2, 1: 3}, solver=lbfgs;, score=0.374 total time=   4.6s\n",
            "[CV 2/5] END C=1, class_weight={0: 0.2, 1: 3}, solver=lbfgs;, score=0.383 total time=   4.7s\n",
            "[CV 3/5] END C=1, class_weight={0: 0.2, 1: 3}, solver=lbfgs;, score=0.359 total time=   4.3s\n",
            "[CV 4/5] END C=1, class_weight={0: 0.2, 1: 3}, solver=lbfgs;, score=0.325 total time=   4.5s\n",
            "[CV 5/5] END C=1, class_weight={0: 0.2, 1: 3}, solver=lbfgs;, score=0.358 total time=   3.8s\n",
            "[CV 1/5] END C=1, class_weight={0: 0.2, 1: 3}, solver=sag;, score=0.374 total time=   0.8s\n",
            "[CV 2/5] END C=1, class_weight={0: 0.2, 1: 3}, solver=sag;, score=0.383 total time=   0.8s\n",
            "[CV 3/5] END C=1, class_weight={0: 0.2, 1: 3}, solver=sag;, score=0.359 total time=   0.7s\n",
            "[CV 4/5] END C=1, class_weight={0: 0.2, 1: 3}, solver=sag;, score=0.325 total time=   0.8s\n",
            "[CV 5/5] END C=1, class_weight={0: 0.2, 1: 3}, solver=sag;, score=0.358 total time=   0.8s\n",
            "[CV 1/5] END C=1, class_weight={0: 0.2, 1: 3}, solver=saga;, score=0.374 total time=   1.2s\n",
            "[CV 2/5] END C=1, class_weight={0: 0.2, 1: 3}, solver=saga;, score=0.383 total time=   1.3s\n",
            "[CV 3/5] END C=1, class_weight={0: 0.2, 1: 3}, solver=saga;, score=0.359 total time=   1.2s\n",
            "[CV 4/5] END C=1, class_weight={0: 0.2, 1: 3}, solver=saga;, score=0.326 total time=   3.2s\n",
            "[CV 5/5] END C=1, class_weight={0: 0.2, 1: 3}, solver=saga;, score=0.360 total time=   1.3s\n",
            "[CV 1/5] END C=1, class_weight={0: 0.15, 1: 5}, solver=newton-cg;, score=0.130 total time=   1.5s\n",
            "[CV 2/5] END C=1, class_weight={0: 0.15, 1: 5}, solver=newton-cg;, score=0.121 total time=   1.4s\n",
            "[CV 3/5] END C=1, class_weight={0: 0.15, 1: 5}, solver=newton-cg;, score=0.125 total time=   1.3s\n",
            "[CV 4/5] END C=1, class_weight={0: 0.15, 1: 5}, solver=newton-cg;, score=0.122 total time=   1.3s\n",
            "[CV 5/5] END C=1, class_weight={0: 0.15, 1: 5}, solver=newton-cg;, score=0.136 total time=   1.3s\n",
            "[CV 1/5] END C=1, class_weight={0: 0.15, 1: 5}, solver=lbfgs;, score=0.130 total time=   3.4s\n",
            "[CV 2/5] END C=1, class_weight={0: 0.15, 1: 5}, solver=lbfgs;, score=0.121 total time=   3.1s\n",
            "[CV 3/5] END C=1, class_weight={0: 0.15, 1: 5}, solver=lbfgs;, score=0.125 total time=   3.7s\n",
            "[CV 4/5] END C=1, class_weight={0: 0.15, 1: 5}, solver=lbfgs;, score=0.122 total time=   3.6s\n",
            "[CV 5/5] END C=1, class_weight={0: 0.15, 1: 5}, solver=lbfgs;, score=0.136 total time=   3.5s\n",
            "[CV 1/5] END C=1, class_weight={0: 0.15, 1: 5}, solver=sag;, score=0.130 total time=   0.9s\n",
            "[CV 2/5] END C=1, class_weight={0: 0.15, 1: 5}, solver=sag;, score=0.121 total time=   0.8s\n",
            "[CV 3/5] END C=1, class_weight={0: 0.15, 1: 5}, solver=sag;, score=0.125 total time=   0.7s\n",
            "[CV 4/5] END C=1, class_weight={0: 0.15, 1: 5}, solver=sag;, score=0.122 total time=   0.8s\n",
            "[CV 5/5] END C=1, class_weight={0: 0.15, 1: 5}, solver=sag;, score=0.136 total time=   0.7s\n",
            "[CV 1/5] END C=1, class_weight={0: 0.15, 1: 5}, solver=saga;, score=0.130 total time=   1.7s\n",
            "[CV 2/5] END C=1, class_weight={0: 0.15, 1: 5}, solver=saga;, score=0.121 total time=   1.6s\n"
          ]
        },
        {
          "name": "stderr",
          "output_type": "stream",
          "text": [
            "/usr/local/lib/python3.7/dist-packages/sklearn/linear_model/_sag.py:354: ConvergenceWarning: The max_iter was reached which means the coef_ did not converge\n",
            "  ConvergenceWarning,\n"
          ]
        },
        {
          "name": "stdout",
          "output_type": "stream",
          "text": [
            "[CV 3/5] END C=1, class_weight={0: 0.15, 1: 5}, solver=saga;, score=0.125 total time=   3.2s\n",
            "[CV 4/5] END C=1, class_weight={0: 0.15, 1: 5}, solver=saga;, score=0.122 total time=   3.1s\n"
          ]
        },
        {
          "name": "stderr",
          "output_type": "stream",
          "text": [
            "/usr/local/lib/python3.7/dist-packages/sklearn/linear_model/_sag.py:354: ConvergenceWarning: The max_iter was reached which means the coef_ did not converge\n",
            "  ConvergenceWarning,\n"
          ]
        },
        {
          "name": "stdout",
          "output_type": "stream",
          "text": [
            "[CV 5/5] END C=1, class_weight={0: 0.15, 1: 5}, solver=saga;, score=0.138 total time=   3.5s\n",
            "[CV 1/5] END C=10, class_weight={0: 0.15, 1: 1}, solver=newton-cg;, score=0.596 total time=   1.6s\n",
            "[CV 2/5] END C=10, class_weight={0: 0.15, 1: 1}, solver=newton-cg;, score=0.622 total time=   1.7s\n",
            "[CV 3/5] END C=10, class_weight={0: 0.15, 1: 1}, solver=newton-cg;, score=0.611 total time=   1.7s\n",
            "[CV 4/5] END C=10, class_weight={0: 0.15, 1: 1}, solver=newton-cg;, score=0.683 total time=   1.7s\n",
            "[CV 5/5] END C=10, class_weight={0: 0.15, 1: 1}, solver=newton-cg;, score=0.592 total time=   1.7s\n",
            "[CV 1/5] END C=10, class_weight={0: 0.15, 1: 1}, solver=lbfgs;, score=0.596 total time=   5.5s\n",
            "[CV 2/5] END C=10, class_weight={0: 0.15, 1: 1}, solver=lbfgs;, score=0.622 total time=   3.0s\n",
            "[CV 3/5] END C=10, class_weight={0: 0.15, 1: 1}, solver=lbfgs;, score=0.611 total time=   4.2s\n",
            "[CV 4/5] END C=10, class_weight={0: 0.15, 1: 1}, solver=lbfgs;, score=0.683 total time=   4.4s\n",
            "[CV 5/5] END C=10, class_weight={0: 0.15, 1: 1}, solver=lbfgs;, score=0.592 total time=   3.2s\n",
            "[CV 1/5] END C=10, class_weight={0: 0.15, 1: 1}, solver=sag;, score=0.596 total time=   1.4s\n",
            "[CV 2/5] END C=10, class_weight={0: 0.15, 1: 1}, solver=sag;, score=0.622 total time=   1.5s\n",
            "[CV 3/5] END C=10, class_weight={0: 0.15, 1: 1}, solver=sag;, score=0.611 total time=   1.4s\n",
            "[CV 4/5] END C=10, class_weight={0: 0.15, 1: 1}, solver=sag;, score=0.683 total time=   1.3s\n",
            "[CV 5/5] END C=10, class_weight={0: 0.15, 1: 1}, solver=sag;, score=0.592 total time=   1.5s\n"
          ]
        },
        {
          "name": "stderr",
          "output_type": "stream",
          "text": [
            "/usr/local/lib/python3.7/dist-packages/sklearn/linear_model/_sag.py:354: ConvergenceWarning: The max_iter was reached which means the coef_ did not converge\n",
            "  ConvergenceWarning,\n"
          ]
        },
        {
          "name": "stdout",
          "output_type": "stream",
          "text": [
            "[CV 1/5] END C=10, class_weight={0: 0.15, 1: 1}, solver=saga;, score=0.596 total time=   3.5s\n"
          ]
        },
        {
          "name": "stderr",
          "output_type": "stream",
          "text": [
            "/usr/local/lib/python3.7/dist-packages/sklearn/linear_model/_sag.py:354: ConvergenceWarning: The max_iter was reached which means the coef_ did not converge\n",
            "  ConvergenceWarning,\n"
          ]
        },
        {
          "name": "stdout",
          "output_type": "stream",
          "text": [
            "[CV 2/5] END C=10, class_weight={0: 0.15, 1: 1}, solver=saga;, score=0.621 total time=   3.6s\n"
          ]
        },
        {
          "name": "stderr",
          "output_type": "stream",
          "text": [
            "/usr/local/lib/python3.7/dist-packages/sklearn/linear_model/_sag.py:354: ConvergenceWarning: The max_iter was reached which means the coef_ did not converge\n",
            "  ConvergenceWarning,\n"
          ]
        },
        {
          "name": "stdout",
          "output_type": "stream",
          "text": [
            "[CV 3/5] END C=10, class_weight={0: 0.15, 1: 1}, solver=saga;, score=0.617 total time=   3.7s\n"
          ]
        },
        {
          "name": "stderr",
          "output_type": "stream",
          "text": [
            "/usr/local/lib/python3.7/dist-packages/sklearn/linear_model/_sag.py:354: ConvergenceWarning: The max_iter was reached which means the coef_ did not converge\n",
            "  ConvergenceWarning,\n"
          ]
        },
        {
          "name": "stdout",
          "output_type": "stream",
          "text": [
            "[CV 4/5] END C=10, class_weight={0: 0.15, 1: 1}, solver=saga;, score=0.683 total time=   3.5s\n"
          ]
        },
        {
          "name": "stderr",
          "output_type": "stream",
          "text": [
            "/usr/local/lib/python3.7/dist-packages/sklearn/linear_model/_sag.py:354: ConvergenceWarning: The max_iter was reached which means the coef_ did not converge\n",
            "  ConvergenceWarning,\n"
          ]
        },
        {
          "name": "stdout",
          "output_type": "stream",
          "text": [
            "[CV 5/5] END C=10, class_weight={0: 0.15, 1: 1}, solver=saga;, score=0.575 total time=   4.3s\n",
            "[CV 1/5] END C=10, class_weight={0: 0.3, 1: 1}, solver=newton-cg;, score=0.509 total time=   2.0s\n",
            "[CV 2/5] END C=10, class_weight={0: 0.3, 1: 1}, solver=newton-cg;, score=0.584 total time=   2.0s\n",
            "[CV 3/5] END C=10, class_weight={0: 0.3, 1: 1}, solver=newton-cg;, score=0.604 total time=   2.0s\n",
            "[CV 4/5] END C=10, class_weight={0: 0.3, 1: 1}, solver=newton-cg;, score=0.623 total time=   2.0s\n",
            "[CV 5/5] END C=10, class_weight={0: 0.3, 1: 1}, solver=newton-cg;, score=0.549 total time=   2.0s\n",
            "[CV 1/5] END C=10, class_weight={0: 0.3, 1: 1}, solver=lbfgs;, score=0.509 total time=   8.6s\n",
            "[CV 2/5] END C=10, class_weight={0: 0.3, 1: 1}, solver=lbfgs;, score=0.584 total time=   7.1s\n",
            "[CV 3/5] END C=10, class_weight={0: 0.3, 1: 1}, solver=lbfgs;, score=0.604 total time=   7.1s\n",
            "[CV 4/5] END C=10, class_weight={0: 0.3, 1: 1}, solver=lbfgs;, score=0.623 total time=   8.2s\n",
            "[CV 5/5] END C=10, class_weight={0: 0.3, 1: 1}, solver=lbfgs;, score=0.549 total time=   9.0s\n",
            "[CV 1/5] END C=10, class_weight={0: 0.3, 1: 1}, solver=sag;, score=0.509 total time=   1.4s\n",
            "[CV 2/5] END C=10, class_weight={0: 0.3, 1: 1}, solver=sag;, score=0.584 total time=   1.4s\n",
            "[CV 3/5] END C=10, class_weight={0: 0.3, 1: 1}, solver=sag;, score=0.604 total time=   1.3s\n",
            "[CV 4/5] END C=10, class_weight={0: 0.3, 1: 1}, solver=sag;, score=0.623 total time=   1.3s\n",
            "[CV 5/5] END C=10, class_weight={0: 0.3, 1: 1}, solver=sag;, score=0.549 total time=   1.5s\n"
          ]
        },
        {
          "name": "stderr",
          "output_type": "stream",
          "text": [
            "/usr/local/lib/python3.7/dist-packages/sklearn/linear_model/_sag.py:354: ConvergenceWarning: The max_iter was reached which means the coef_ did not converge\n",
            "  ConvergenceWarning,\n"
          ]
        },
        {
          "name": "stdout",
          "output_type": "stream",
          "text": [
            "[CV 1/5] END C=10, class_weight={0: 0.3, 1: 1}, solver=saga;, score=0.509 total time=   3.2s\n"
          ]
        },
        {
          "name": "stderr",
          "output_type": "stream",
          "text": [
            "/usr/local/lib/python3.7/dist-packages/sklearn/linear_model/_sag.py:354: ConvergenceWarning: The max_iter was reached which means the coef_ did not converge\n",
            "  ConvergenceWarning,\n"
          ]
        },
        {
          "name": "stdout",
          "output_type": "stream",
          "text": [
            "[CV 2/5] END C=10, class_weight={0: 0.3, 1: 1}, solver=saga;, score=0.573 total time=   3.4s\n"
          ]
        },
        {
          "name": "stderr",
          "output_type": "stream",
          "text": [
            "/usr/local/lib/python3.7/dist-packages/sklearn/linear_model/_sag.py:354: ConvergenceWarning: The max_iter was reached which means the coef_ did not converge\n",
            "  ConvergenceWarning,\n"
          ]
        },
        {
          "name": "stdout",
          "output_type": "stream",
          "text": [
            "[CV 3/5] END C=10, class_weight={0: 0.3, 1: 1}, solver=saga;, score=0.604 total time=   3.3s\n"
          ]
        },
        {
          "name": "stderr",
          "output_type": "stream",
          "text": [
            "/usr/local/lib/python3.7/dist-packages/sklearn/linear_model/_sag.py:354: ConvergenceWarning: The max_iter was reached which means the coef_ did not converge\n",
            "  ConvergenceWarning,\n"
          ]
        },
        {
          "name": "stdout",
          "output_type": "stream",
          "text": [
            "[CV 4/5] END C=10, class_weight={0: 0.3, 1: 1}, solver=saga;, score=0.623 total time=   3.4s\n"
          ]
        },
        {
          "name": "stderr",
          "output_type": "stream",
          "text": [
            "/usr/local/lib/python3.7/dist-packages/sklearn/linear_model/_sag.py:354: ConvergenceWarning: The max_iter was reached which means the coef_ did not converge\n",
            "  ConvergenceWarning,\n"
          ]
        },
        {
          "name": "stdout",
          "output_type": "stream",
          "text": [
            "[CV 5/5] END C=10, class_weight={0: 0.3, 1: 1}, solver=saga;, score=0.549 total time=   3.6s\n",
            "[CV 1/5] END C=10, class_weight={0: 0.2, 1: 3}, solver=newton-cg;, score=0.622 total time=   2.2s\n",
            "[CV 2/5] END C=10, class_weight={0: 0.2, 1: 3}, solver=newton-cg;, score=0.641 total time=   1.8s\n",
            "[CV 3/5] END C=10, class_weight={0: 0.2, 1: 3}, solver=newton-cg;, score=0.635 total time=   1.9s\n",
            "[CV 4/5] END C=10, class_weight={0: 0.2, 1: 3}, solver=newton-cg;, score=0.688 total time=   2.1s\n",
            "[CV 5/5] END C=10, class_weight={0: 0.2, 1: 3}, solver=newton-cg;, score=0.640 total time=   2.0s\n",
            "[CV 1/5] END C=10, class_weight={0: 0.2, 1: 3}, solver=lbfgs;, score=0.622 total time=   9.3s\n",
            "[CV 2/5] END C=10, class_weight={0: 0.2, 1: 3}, solver=lbfgs;, score=0.641 total time=  10.3s\n",
            "[CV 3/5] END C=10, class_weight={0: 0.2, 1: 3}, solver=lbfgs;, score=0.635 total time=   9.5s\n",
            "[CV 4/5] END C=10, class_weight={0: 0.2, 1: 3}, solver=lbfgs;, score=0.688 total time=  13.6s\n",
            "[CV 5/5] END C=10, class_weight={0: 0.2, 1: 3}, solver=lbfgs;, score=0.640 total time=  11.4s\n",
            "[CV 1/5] END C=10, class_weight={0: 0.2, 1: 3}, solver=sag;, score=0.622 total time=   1.2s\n",
            "[CV 2/5] END C=10, class_weight={0: 0.2, 1: 3}, solver=sag;, score=0.641 total time=   1.4s\n",
            "[CV 3/5] END C=10, class_weight={0: 0.2, 1: 3}, solver=sag;, score=0.635 total time=   1.2s\n",
            "[CV 4/5] END C=10, class_weight={0: 0.2, 1: 3}, solver=sag;, score=0.688 total time=   1.2s\n",
            "[CV 5/5] END C=10, class_weight={0: 0.2, 1: 3}, solver=sag;, score=0.640 total time=   1.4s\n"
          ]
        },
        {
          "name": "stderr",
          "output_type": "stream",
          "text": [
            "/usr/local/lib/python3.7/dist-packages/sklearn/linear_model/_sag.py:354: ConvergenceWarning: The max_iter was reached which means the coef_ did not converge\n",
            "  ConvergenceWarning,\n"
          ]
        },
        {
          "name": "stdout",
          "output_type": "stream",
          "text": [
            "[CV 1/5] END C=10, class_weight={0: 0.2, 1: 3}, solver=saga;, score=0.627 total time=   3.2s\n"
          ]
        },
        {
          "name": "stderr",
          "output_type": "stream",
          "text": [
            "/usr/local/lib/python3.7/dist-packages/sklearn/linear_model/_sag.py:354: ConvergenceWarning: The max_iter was reached which means the coef_ did not converge\n",
            "  ConvergenceWarning,\n"
          ]
        },
        {
          "name": "stdout",
          "output_type": "stream",
          "text": [
            "[CV 2/5] END C=10, class_weight={0: 0.2, 1: 3}, solver=saga;, score=0.641 total time=   3.4s\n",
            "[CV 3/5] END C=10, class_weight={0: 0.2, 1: 3}, solver=saga;, score=0.636 total time=   1.7s\n"
          ]
        },
        {
          "name": "stderr",
          "output_type": "stream",
          "text": [
            "/usr/local/lib/python3.7/dist-packages/sklearn/linear_model/_sag.py:354: ConvergenceWarning: The max_iter was reached which means the coef_ did not converge\n",
            "  ConvergenceWarning,\n"
          ]
        },
        {
          "name": "stdout",
          "output_type": "stream",
          "text": [
            "[CV 4/5] END C=10, class_weight={0: 0.2, 1: 3}, solver=saga;, score=0.686 total time=   3.2s\n"
          ]
        },
        {
          "name": "stderr",
          "output_type": "stream",
          "text": [
            "/usr/local/lib/python3.7/dist-packages/sklearn/linear_model/_sag.py:354: ConvergenceWarning: The max_iter was reached which means the coef_ did not converge\n",
            "  ConvergenceWarning,\n"
          ]
        },
        {
          "name": "stdout",
          "output_type": "stream",
          "text": [
            "[CV 5/5] END C=10, class_weight={0: 0.2, 1: 3}, solver=saga;, score=0.638 total time=   3.5s\n",
            "[CV 1/5] END C=10, class_weight={0: 0.15, 1: 5}, solver=newton-cg;, score=0.607 total time=   1.9s\n",
            "[CV 2/5] END C=10, class_weight={0: 0.15, 1: 5}, solver=newton-cg;, score=0.622 total time=   1.9s\n",
            "[CV 3/5] END C=10, class_weight={0: 0.15, 1: 5}, solver=newton-cg;, score=0.630 total time=   1.9s\n",
            "[CV 4/5] END C=10, class_weight={0: 0.15, 1: 5}, solver=newton-cg;, score=0.630 total time=   2.0s\n",
            "[CV 5/5] END C=10, class_weight={0: 0.15, 1: 5}, solver=newton-cg;, score=0.650 total time=   1.8s\n",
            "[CV 1/5] END C=10, class_weight={0: 0.15, 1: 5}, solver=lbfgs;, score=0.607 total time=   9.1s\n",
            "[CV 2/5] END C=10, class_weight={0: 0.15, 1: 5}, solver=lbfgs;, score=0.622 total time=   7.0s\n",
            "[CV 3/5] END C=10, class_weight={0: 0.15, 1: 5}, solver=lbfgs;, score=0.630 total time=   9.4s\n",
            "[CV 4/5] END C=10, class_weight={0: 0.15, 1: 5}, solver=lbfgs;, score=0.630 total time=   8.3s\n",
            "[CV 5/5] END C=10, class_weight={0: 0.15, 1: 5}, solver=lbfgs;, score=0.650 total time=   8.8s\n",
            "[CV 1/5] END C=10, class_weight={0: 0.15, 1: 5}, solver=sag;, score=0.607 total time=   1.2s\n",
            "[CV 2/5] END C=10, class_weight={0: 0.15, 1: 5}, solver=sag;, score=0.622 total time=   1.3s\n",
            "[CV 3/5] END C=10, class_weight={0: 0.15, 1: 5}, solver=sag;, score=0.630 total time=   1.3s\n",
            "[CV 4/5] END C=10, class_weight={0: 0.15, 1: 5}, solver=sag;, score=0.630 total time=   1.2s\n",
            "[CV 5/5] END C=10, class_weight={0: 0.15, 1: 5}, solver=sag;, score=0.650 total time=   1.3s\n",
            "[CV 1/5] END C=10, class_weight={0: 0.15, 1: 5}, solver=saga;, score=0.610 total time=   1.7s\n"
          ]
        },
        {
          "name": "stderr",
          "output_type": "stream",
          "text": [
            "/usr/local/lib/python3.7/dist-packages/sklearn/linear_model/_sag.py:354: ConvergenceWarning: The max_iter was reached which means the coef_ did not converge\n",
            "  ConvergenceWarning,\n"
          ]
        },
        {
          "name": "stdout",
          "output_type": "stream",
          "text": [
            "[CV 2/5] END C=10, class_weight={0: 0.15, 1: 5}, solver=saga;, score=0.622 total time=   3.9s\n"
          ]
        },
        {
          "name": "stderr",
          "output_type": "stream",
          "text": [
            "/usr/local/lib/python3.7/dist-packages/sklearn/linear_model/_sag.py:354: ConvergenceWarning: The max_iter was reached which means the coef_ did not converge\n",
            "  ConvergenceWarning,\n"
          ]
        },
        {
          "name": "stdout",
          "output_type": "stream",
          "text": [
            "[CV 3/5] END C=10, class_weight={0: 0.15, 1: 5}, solver=saga;, score=0.626 total time=   3.1s\n"
          ]
        },
        {
          "name": "stderr",
          "output_type": "stream",
          "text": [
            "/usr/local/lib/python3.7/dist-packages/sklearn/linear_model/_sag.py:354: ConvergenceWarning: The max_iter was reached which means the coef_ did not converge\n",
            "  ConvergenceWarning,\n"
          ]
        },
        {
          "name": "stdout",
          "output_type": "stream",
          "text": [
            "[CV 4/5] END C=10, class_weight={0: 0.15, 1: 5}, solver=saga;, score=0.629 total time=   3.2s\n"
          ]
        },
        {
          "name": "stderr",
          "output_type": "stream",
          "text": [
            "/usr/local/lib/python3.7/dist-packages/sklearn/linear_model/_sag.py:354: ConvergenceWarning: The max_iter was reached which means the coef_ did not converge\n",
            "  ConvergenceWarning,\n"
          ]
        },
        {
          "name": "stdout",
          "output_type": "stream",
          "text": [
            "[CV 5/5] END C=10, class_weight={0: 0.15, 1: 5}, solver=saga;, score=0.647 total time=   3.5s\n"
          ]
        },
        {
          "data": {
            "text/plain": [
              "GridSearchCV(estimator=LogisticRegression(),\n",
              "             param_grid={'C': [0.01, 0.1, 1, 10],\n",
              "                         'class_weight': [{0: 0.15, 1: 1}, {0: 0.3, 1: 1},\n",
              "                                          {0: 0.2, 1: 3}, {0: 0.15, 1: 5}],\n",
              "                         'solver': ['newton-cg', 'lbfgs', 'sag', 'saga']},\n",
              "             scoring='f1_macro', verbose=3)"
            ]
          },
          "execution_count": 20,
          "metadata": {},
          "output_type": "execute_result"
        }
      ],
      "source": [
        "lrm_grid.fit(X_train_tfidf,y_train_tfidf)"
      ]
    },
    {
      "cell_type": "code",
      "execution_count": null,
      "metadata": {
        "colab": {
          "base_uri": "https://localhost:8080/"
        },
        "id": "2l3AfERMF_6l",
        "outputId": "3af4124f-2438-4550-c281-251a5a5f8d92"
      },
      "outputs": [
        {
          "data": {
            "text/plain": [
              "{'C': 1, 'class_weight': {0: 0.15, 1: 1}, 'solver': 'newton-cg'}"
            ]
          },
          "execution_count": 21,
          "metadata": {},
          "output_type": "execute_result"
        }
      ],
      "source": [
        "# best parameter for model\n",
        "lrm_grid.best_params_"
      ]
    },
    {
      "cell_type": "code",
      "execution_count": null,
      "metadata": {
        "colab": {
          "base_uri": "https://localhost:8080/",
          "height": 399
        },
        "id": "UKBHOeX7K0kQ",
        "outputId": "8978ec76-a358-44bd-ad13-7b71087c1f7c"
      },
      "outputs": [
        {
          "name": "stdout",
          "output_type": "stream",
          "text": [
            "f1-score macro: 0.6494691046929852\n",
            "f1-score micro: 0.7727873183619551\n",
            "accuracy score: 0.7727873183619551\n",
            "recall score: 0.7043466223698782\n",
            "precision score: 0.6342537014805922\n",
            "ROCAUC score: 0.7043466223698782\n"
          ]
        },
        {
          "data": {
            "image/png": "[encoded data removed]",
            "text/plain": [
              "<Figure size 432x288 with 2 Axes>"
            ]
          },
          "metadata": {
            "needs_background": "light"
          },
          "output_type": "display_data"
        }
      ],
      "source": [
        "model_tfidf = LogisticRegression(C=1, class_weight={0: 0.15, 1: 1}, solver='newton-cg')\n",
        "model_tfidf.fit(X_train_tfidf, y_train_tfidf)\n",
        "y_pred_tfidf = model_tfidf.predict(X_test_tfidf)\n",
        "print_evaluation(y_test_tfidf, y_pred_tfidf)"
      ]
    },
    {
      "cell_type": "code",
      "execution_count": null,
      "metadata": {
        "id": "9S5cbrILxnVR"
      },
      "outputs": [],
      "source": [
        "# a = model_tfidf.predict_proba(X_test_tfidf)\n",
        "# print(a[:6])"
      ]
    },
    {
      "cell_type": "code",
      "execution_count": null,
      "metadata": {
        "id": "nd8PwdtJJZR5"
      },
      "outputs": [],
      "source": [
        "import pickle\n",
        "# save\n",
        "with open(\"LR_model.pkl\", \"wb\") as f:\n",
        "    pickle.dump(model_tfidf, f)"
      ]
    },
    {
      "cell_type": "code",
      "execution_count": null,
      "metadata": {
        "colab": {
          "base_uri": "https://localhost:8080/"
        },
        "id": "3xGjtYC1JaYR",
        "outputId": "6bbf8592-6aab-47e8-9dd1-7cbc0af5ab40"
      },
      "outputs": [
        {
          "name": "stdout",
          "output_type": "stream",
          "text": [
            "Downloading...\n",
            "From: https://drive.google.com/uc?id=1-Cmz7zYxmAc3MOVWHMpkaQgF_lWTGNrD\n",
            "To: /content/LR_model.pkl\n",
            "\r  0% 0.00/4.34M [00:00<?, ?B/s]\r100% 4.34M/4.34M [00:00<00:00, 130MB/s]\n"
          ]
        }
      ],
      "source": [
        "# link to saved nodel \n"
      ]
    },
    {
      "cell_type": "code",
      "execution_count": null,
      "metadata": {
        "id": "4KJCrzXOJdmo"
      },
      "outputs": [],
      "source": [
        "# load\n",
        "with open(\"LR_model.pkl\", \"rb\") as f:\n",
        "    model_tfidf = pickle.load(f)"
      ]
    },
    {
      "cell_type": "markdown",
      "metadata": {
        "id": "RnaLbVRech9y"
      },
      "source": [
        "## bow"
      ]
    },
    {
      "cell_type": "code",
      "execution_count": null,
      "metadata": {
        "colab": {
          "base_uri": "https://localhost:8080/"
        },
        "id": "bNDYxGtxWK7Z",
        "outputId": "b3370ebd-0506-44e2-a3e3-93a8709c46a8"
      },
      "outputs": [
        {
          "name": "stdout",
          "output_type": "stream",
          "text": [
            "Fitting 5 folds for each of 64 candidates, totalling 320 fits\n",
            "[CV 1/5] END C=0.01, class_weight={0: 0.15, 1: 1}, solver=newton-cg;, score=0.631 total time=   4.5s\n",
            "[CV 2/5] END C=0.01, class_weight={0: 0.15, 1: 1}, solver=newton-cg;, score=0.637 total time=   4.8s\n",
            "[CV 3/5] END C=0.01, class_weight={0: 0.15, 1: 1}, solver=newton-cg;, score=0.633 total time=   3.9s\n",
            "[CV 4/5] END C=0.01, class_weight={0: 0.15, 1: 1}, solver=newton-cg;, score=0.636 total time=   4.4s\n",
            "[CV 5/5] END C=0.01, class_weight={0: 0.15, 1: 1}, solver=newton-cg;, score=0.640 total time=   4.8s\n",
            "[CV 1/5] END C=0.01, class_weight={0: 0.15, 1: 1}, solver=lbfgs;, score=0.631 total time=   9.3s\n",
            "[CV 2/5] END C=0.01, class_weight={0: 0.15, 1: 1}, solver=lbfgs;, score=0.637 total time=   7.6s\n",
            "[CV 3/5] END C=0.01, class_weight={0: 0.15, 1: 1}, solver=lbfgs;, score=0.633 total time=   8.7s\n",
            "[CV 4/5] END C=0.01, class_weight={0: 0.15, 1: 1}, solver=lbfgs;, score=0.636 total time=  12.1s\n",
            "[CV 5/5] END C=0.01, class_weight={0: 0.15, 1: 1}, solver=lbfgs;, score=0.640 total time=  11.8s\n"
          ]
        },
        {
          "name": "stderr",
          "output_type": "stream",
          "text": [
            "/usr/local/lib/python3.7/dist-packages/sklearn/linear_model/_sag.py:354: ConvergenceWarning: The max_iter was reached which means the coef_ did not converge\n",
            "  ConvergenceWarning,\n"
          ]
        },
        {
          "name": "stdout",
          "output_type": "stream",
          "text": [
            "[CV 1/5] END C=0.01, class_weight={0: 0.15, 1: 1}, solver=sag;, score=0.591 total time=   6.6s\n"
          ]
        },
        {
          "name": "stderr",
          "output_type": "stream",
          "text": [
            "/usr/local/lib/python3.7/dist-packages/sklearn/linear_model/_sag.py:354: ConvergenceWarning: The max_iter was reached which means the coef_ did not converge\n",
            "  ConvergenceWarning,\n"
          ]
        },
        {
          "name": "stdout",
          "output_type": "stream",
          "text": [
            "[CV 2/5] END C=0.01, class_weight={0: 0.15, 1: 1}, solver=sag;, score=0.638 total time=   6.2s\n"
          ]
        },
        {
          "name": "stderr",
          "output_type": "stream",
          "text": [
            "/usr/local/lib/python3.7/dist-packages/sklearn/linear_model/_sag.py:354: ConvergenceWarning: The max_iter was reached which means the coef_ did not converge\n",
            "  ConvergenceWarning,\n"
          ]
        },
        {
          "name": "stdout",
          "output_type": "stream",
          "text": [
            "[CV 3/5] END C=0.01, class_weight={0: 0.15, 1: 1}, solver=sag;, score=0.642 total time=   4.0s\n"
          ]
        },
        {
          "name": "stderr",
          "output_type": "stream",
          "text": [
            "/usr/local/lib/python3.7/dist-packages/sklearn/linear_model/_sag.py:354: ConvergenceWarning: The max_iter was reached which means the coef_ did not converge\n",
            "  ConvergenceWarning,\n"
          ]
        },
        {
          "name": "stdout",
          "output_type": "stream",
          "text": [
            "[CV 4/5] END C=0.01, class_weight={0: 0.15, 1: 1}, solver=sag;, score=0.631 total time=   3.0s\n"
          ]
        },
        {
          "name": "stderr",
          "output_type": "stream",
          "text": [
            "/usr/local/lib/python3.7/dist-packages/sklearn/linear_model/_sag.py:354: ConvergenceWarning: The max_iter was reached which means the coef_ did not converge\n",
            "  ConvergenceWarning,\n"
          ]
        },
        {
          "name": "stdout",
          "output_type": "stream",
          "text": [
            "[CV 5/5] END C=0.01, class_weight={0: 0.15, 1: 1}, solver=sag;, score=0.616 total time=   3.1s\n"
          ]
        },
        {
          "name": "stderr",
          "output_type": "stream",
          "text": [
            "/usr/local/lib/python3.7/dist-packages/sklearn/linear_model/_sag.py:354: ConvergenceWarning: The max_iter was reached which means the coef_ did not converge\n",
            "  ConvergenceWarning,\n"
          ]
        },
        {
          "name": "stdout",
          "output_type": "stream",
          "text": [
            "[CV 1/5] END C=0.01, class_weight={0: 0.15, 1: 1}, solver=saga;, score=0.568 total time=   3.7s\n"
          ]
        },
        {
          "name": "stderr",
          "output_type": "stream",
          "text": [
            "/usr/local/lib/python3.7/dist-packages/sklearn/linear_model/_sag.py:354: ConvergenceWarning: The max_iter was reached which means the coef_ did not converge\n",
            "  ConvergenceWarning,\n"
          ]
        },
        {
          "name": "stdout",
          "output_type": "stream",
          "text": [
            "[CV 2/5] END C=0.01, class_weight={0: 0.15, 1: 1}, solver=saga;, score=0.611 total time=   3.7s\n"
          ]
        },
        {
          "name": "stderr",
          "output_type": "stream",
          "text": [
            "/usr/local/lib/python3.7/dist-packages/sklearn/linear_model/_sag.py:354: ConvergenceWarning: The max_iter was reached which means the coef_ did not converge\n",
            "  ConvergenceWarning,\n"
          ]
        },
        {
          "name": "stdout",
          "output_type": "stream",
          "text": [
            "[CV 3/5] END C=0.01, class_weight={0: 0.15, 1: 1}, solver=saga;, score=0.635 total time=   3.6s\n"
          ]
        },
        {
          "name": "stderr",
          "output_type": "stream",
          "text": [
            "/usr/local/lib/python3.7/dist-packages/sklearn/linear_model/_sag.py:354: ConvergenceWarning: The max_iter was reached which means the coef_ did not converge\n",
            "  ConvergenceWarning,\n"
          ]
        },
        {
          "name": "stdout",
          "output_type": "stream",
          "text": [
            "[CV 4/5] END C=0.01, class_weight={0: 0.15, 1: 1}, solver=saga;, score=0.637 total time=   3.7s\n"
          ]
        },
        {
          "name": "stderr",
          "output_type": "stream",
          "text": [
            "/usr/local/lib/python3.7/dist-packages/sklearn/linear_model/_sag.py:354: ConvergenceWarning: The max_iter was reached which means the coef_ did not converge\n",
            "  ConvergenceWarning,\n"
          ]
        },
        {
          "name": "stdout",
          "output_type": "stream",
          "text": [
            "[CV 5/5] END C=0.01, class_weight={0: 0.15, 1: 1}, solver=saga;, score=0.613 total time=   3.7s\n",
            "[CV 1/5] END C=0.01, class_weight={0: 0.3, 1: 1}, solver=newton-cg;, score=0.535 total time=   4.7s\n",
            "[CV 2/5] END C=0.01, class_weight={0: 0.3, 1: 1}, solver=newton-cg;, score=0.587 total time=   5.7s\n",
            "[CV 3/5] END C=0.01, class_weight={0: 0.3, 1: 1}, solver=newton-cg;, score=0.628 total time=   3.9s\n",
            "[CV 4/5] END C=0.01, class_weight={0: 0.3, 1: 1}, solver=newton-cg;, score=0.624 total time=   7.6s\n",
            "[CV 5/5] END C=0.01, class_weight={0: 0.3, 1: 1}, solver=newton-cg;, score=0.592 total time=   8.8s\n",
            "[CV 1/5] END C=0.01, class_weight={0: 0.3, 1: 1}, solver=lbfgs;, score=0.535 total time=   7.1s\n",
            "[CV 2/5] END C=0.01, class_weight={0: 0.3, 1: 1}, solver=lbfgs;, score=0.587 total time=   7.6s\n",
            "[CV 3/5] END C=0.01, class_weight={0: 0.3, 1: 1}, solver=lbfgs;, score=0.628 total time=   5.6s\n",
            "[CV 4/5] END C=0.01, class_weight={0: 0.3, 1: 1}, solver=lbfgs;, score=0.624 total time=   7.6s\n",
            "[CV 5/5] END C=0.01, class_weight={0: 0.3, 1: 1}, solver=lbfgs;, score=0.592 total time=   7.4s\n"
          ]
        },
        {
          "name": "stderr",
          "output_type": "stream",
          "text": [
            "/usr/local/lib/python3.7/dist-packages/sklearn/linear_model/_sag.py:354: ConvergenceWarning: The max_iter was reached which means the coef_ did not converge\n",
            "  ConvergenceWarning,\n"
          ]
        },
        {
          "name": "stdout",
          "output_type": "stream",
          "text": [
            "[CV 1/5] END C=0.01, class_weight={0: 0.3, 1: 1}, solver=sag;, score=0.579 total time=   3.0s\n"
          ]
        },
        {
          "name": "stderr",
          "output_type": "stream",
          "text": [
            "/usr/local/lib/python3.7/dist-packages/sklearn/linear_model/_sag.py:354: ConvergenceWarning: The max_iter was reached which means the coef_ did not converge\n",
            "  ConvergenceWarning,\n"
          ]
        },
        {
          "name": "stdout",
          "output_type": "stream",
          "text": [
            "[CV 2/5] END C=0.01, class_weight={0: 0.3, 1: 1}, solver=sag;, score=0.619 total time=   3.0s\n"
          ]
        },
        {
          "name": "stderr",
          "output_type": "stream",
          "text": [
            "/usr/local/lib/python3.7/dist-packages/sklearn/linear_model/_sag.py:354: ConvergenceWarning: The max_iter was reached which means the coef_ did not converge\n",
            "  ConvergenceWarning,\n"
          ]
        },
        {
          "name": "stdout",
          "output_type": "stream",
          "text": [
            "[CV 3/5] END C=0.01, class_weight={0: 0.3, 1: 1}, solver=sag;, score=0.632 total time=   2.9s\n"
          ]
        },
        {
          "name": "stderr",
          "output_type": "stream",
          "text": [
            "/usr/local/lib/python3.7/dist-packages/sklearn/linear_model/_sag.py:354: ConvergenceWarning: The max_iter was reached which means the coef_ did not converge\n",
            "  ConvergenceWarning,\n"
          ]
        },
        {
          "name": "stdout",
          "output_type": "stream",
          "text": [
            "[CV 4/5] END C=0.01, class_weight={0: 0.3, 1: 1}, solver=sag;, score=0.626 total time=   3.0s\n"
          ]
        },
        {
          "name": "stderr",
          "output_type": "stream",
          "text": [
            "/usr/local/lib/python3.7/dist-packages/sklearn/linear_model/_sag.py:354: ConvergenceWarning: The max_iter was reached which means the coef_ did not converge\n",
            "  ConvergenceWarning,\n"
          ]
        },
        {
          "name": "stdout",
          "output_type": "stream",
          "text": [
            "[CV 5/5] END C=0.01, class_weight={0: 0.3, 1: 1}, solver=sag;, score=0.595 total time=   3.7s\n"
          ]
        },
        {
          "name": "stderr",
          "output_type": "stream",
          "text": [
            "/usr/local/lib/python3.7/dist-packages/sklearn/linear_model/_sag.py:354: ConvergenceWarning: The max_iter was reached which means the coef_ did not converge\n",
            "  ConvergenceWarning,\n"
          ]
        },
        {
          "name": "stdout",
          "output_type": "stream",
          "text": [
            "[CV 1/5] END C=0.01, class_weight={0: 0.3, 1: 1}, solver=saga;, score=0.572 total time=   3.9s\n"
          ]
        },
        {
          "name": "stderr",
          "output_type": "stream",
          "text": [
            "/usr/local/lib/python3.7/dist-packages/sklearn/linear_model/_sag.py:354: ConvergenceWarning: The max_iter was reached which means the coef_ did not converge\n",
            "  ConvergenceWarning,\n"
          ]
        },
        {
          "name": "stdout",
          "output_type": "stream",
          "text": [
            "[CV 2/5] END C=0.01, class_weight={0: 0.3, 1: 1}, solver=saga;, score=0.631 total time=   3.6s\n"
          ]
        },
        {
          "name": "stderr",
          "output_type": "stream",
          "text": [
            "/usr/local/lib/python3.7/dist-packages/sklearn/linear_model/_sag.py:354: ConvergenceWarning: The max_iter was reached which means the coef_ did not converge\n",
            "  ConvergenceWarning,\n"
          ]
        },
        {
          "name": "stdout",
          "output_type": "stream",
          "text": [
            "[CV 3/5] END C=0.01, class_weight={0: 0.3, 1: 1}, solver=saga;, score=0.625 total time=   3.6s\n"
          ]
        },
        {
          "name": "stderr",
          "output_type": "stream",
          "text": [
            "/usr/local/lib/python3.7/dist-packages/sklearn/linear_model/_sag.py:354: ConvergenceWarning: The max_iter was reached which means the coef_ did not converge\n",
            "  ConvergenceWarning,\n"
          ]
        },
        {
          "name": "stdout",
          "output_type": "stream",
          "text": [
            "[CV 4/5] END C=0.01, class_weight={0: 0.3, 1: 1}, solver=saga;, score=0.632 total time=   3.6s\n"
          ]
        },
        {
          "name": "stderr",
          "output_type": "stream",
          "text": [
            "/usr/local/lib/python3.7/dist-packages/sklearn/linear_model/_sag.py:354: ConvergenceWarning: The max_iter was reached which means the coef_ did not converge\n",
            "  ConvergenceWarning,\n"
          ]
        },
        {
          "name": "stdout",
          "output_type": "stream",
          "text": [
            "[CV 5/5] END C=0.01, class_weight={0: 0.3, 1: 1}, solver=saga;, score=0.606 total time=   3.7s\n",
            "[CV 1/5] END C=0.01, class_weight={0: 0.2, 1: 3}, solver=newton-cg;, score=0.611 total time=   4.8s\n",
            "[CV 2/5] END C=0.01, class_weight={0: 0.2, 1: 3}, solver=newton-cg;, score=0.608 total time=   5.2s\n",
            "[CV 3/5] END C=0.01, class_weight={0: 0.2, 1: 3}, solver=newton-cg;, score=0.586 total time=   4.0s\n",
            "[CV 4/5] END C=0.01, class_weight={0: 0.2, 1: 3}, solver=newton-cg;, score=0.587 total time=   4.8s\n",
            "[CV 5/5] END C=0.01, class_weight={0: 0.2, 1: 3}, solver=newton-cg;, score=0.584 total time=   4.2s\n",
            "[CV 1/5] END C=0.01, class_weight={0: 0.2, 1: 3}, solver=lbfgs;, score=0.610 total time=   7.5s\n",
            "[CV 2/5] END C=0.01, class_weight={0: 0.2, 1: 3}, solver=lbfgs;, score=0.608 total time=   6.8s\n",
            "[CV 3/5] END C=0.01, class_weight={0: 0.2, 1: 3}, solver=lbfgs;, score=0.586 total time=   6.0s\n",
            "[CV 4/5] END C=0.01, class_weight={0: 0.2, 1: 3}, solver=lbfgs;, score=0.587 total time=   7.9s\n",
            "[CV 5/5] END C=0.01, class_weight={0: 0.2, 1: 3}, solver=lbfgs;, score=0.584 total time=   8.3s\n"
          ]
        },
        {
          "name": "stderr",
          "output_type": "stream",
          "text": [
            "/usr/local/lib/python3.7/dist-packages/sklearn/linear_model/_sag.py:354: ConvergenceWarning: The max_iter was reached which means the coef_ did not converge\n",
            "  ConvergenceWarning,\n"
          ]
        },
        {
          "name": "stdout",
          "output_type": "stream",
          "text": [
            "[CV 1/5] END C=0.01, class_weight={0: 0.2, 1: 3}, solver=sag;, score=0.532 total time=   3.0s\n"
          ]
        },
        {
          "name": "stderr",
          "output_type": "stream",
          "text": [
            "/usr/local/lib/python3.7/dist-packages/sklearn/linear_model/_sag.py:354: ConvergenceWarning: The max_iter was reached which means the coef_ did not converge\n",
            "  ConvergenceWarning,\n"
          ]
        },
        {
          "name": "stdout",
          "output_type": "stream",
          "text": [
            "[CV 2/5] END C=0.01, class_weight={0: 0.2, 1: 3}, solver=sag;, score=0.533 total time=   3.0s\n"
          ]
        },
        {
          "name": "stderr",
          "output_type": "stream",
          "text": [
            "/usr/local/lib/python3.7/dist-packages/sklearn/linear_model/_sag.py:354: ConvergenceWarning: The max_iter was reached which means the coef_ did not converge\n",
            "  ConvergenceWarning,\n"
          ]
        },
        {
          "name": "stdout",
          "output_type": "stream",
          "text": [
            "[CV 3/5] END C=0.01, class_weight={0: 0.2, 1: 3}, solver=sag;, score=0.576 total time=   3.0s\n"
          ]
        },
        {
          "name": "stderr",
          "output_type": "stream",
          "text": [
            "/usr/local/lib/python3.7/dist-packages/sklearn/linear_model/_sag.py:354: ConvergenceWarning: The max_iter was reached which means the coef_ did not converge\n",
            "  ConvergenceWarning,\n"
          ]
        },
        {
          "name": "stdout",
          "output_type": "stream",
          "text": [
            "[CV 4/5] END C=0.01, class_weight={0: 0.2, 1: 3}, solver=sag;, score=0.523 total time=   3.0s\n"
          ]
        },
        {
          "name": "stderr",
          "output_type": "stream",
          "text": [
            "/usr/local/lib/python3.7/dist-packages/sklearn/linear_model/_sag.py:354: ConvergenceWarning: The max_iter was reached which means the coef_ did not converge\n",
            "  ConvergenceWarning,\n"
          ]
        },
        {
          "name": "stdout",
          "output_type": "stream",
          "text": [
            "[CV 5/5] END C=0.01, class_weight={0: 0.2, 1: 3}, solver=sag;, score=0.515 total time=   3.0s\n"
          ]
        },
        {
          "name": "stderr",
          "output_type": "stream",
          "text": [
            "/usr/local/lib/python3.7/dist-packages/sklearn/linear_model/_sag.py:354: ConvergenceWarning: The max_iter was reached which means the coef_ did not converge\n",
            "  ConvergenceWarning,\n"
          ]
        },
        {
          "name": "stdout",
          "output_type": "stream",
          "text": [
            "[CV 1/5] END C=0.01, class_weight={0: 0.2, 1: 3}, solver=saga;, score=0.485 total time=   3.6s\n"
          ]
        },
        {
          "name": "stderr",
          "output_type": "stream",
          "text": [
            "/usr/local/lib/python3.7/dist-packages/sklearn/linear_model/_sag.py:354: ConvergenceWarning: The max_iter was reached which means the coef_ did not converge\n",
            "  ConvergenceWarning,\n"
          ]
        },
        {
          "name": "stdout",
          "output_type": "stream",
          "text": [
            "[CV 2/5] END C=0.01, class_weight={0: 0.2, 1: 3}, solver=saga;, score=0.496 total time=   3.7s\n"
          ]
        },
        {
          "name": "stderr",
          "output_type": "stream",
          "text": [
            "/usr/local/lib/python3.7/dist-packages/sklearn/linear_model/_sag.py:354: ConvergenceWarning: The max_iter was reached which means the coef_ did not converge\n",
            "  ConvergenceWarning,\n"
          ]
        },
        {
          "name": "stdout",
          "output_type": "stream",
          "text": [
            "[CV 3/5] END C=0.01, class_weight={0: 0.2, 1: 3}, solver=saga;, score=0.547 total time=   3.6s\n"
          ]
        },
        {
          "name": "stderr",
          "output_type": "stream",
          "text": [
            "/usr/local/lib/python3.7/dist-packages/sklearn/linear_model/_sag.py:354: ConvergenceWarning: The max_iter was reached which means the coef_ did not converge\n",
            "  ConvergenceWarning,\n"
          ]
        },
        {
          "name": "stdout",
          "output_type": "stream",
          "text": [
            "[CV 4/5] END C=0.01, class_weight={0: 0.2, 1: 3}, solver=saga;, score=0.473 total time=   3.6s\n"
          ]
        },
        {
          "name": "stderr",
          "output_type": "stream",
          "text": [
            "/usr/local/lib/python3.7/dist-packages/sklearn/linear_model/_sag.py:354: ConvergenceWarning: The max_iter was reached which means the coef_ did not converge\n",
            "  ConvergenceWarning,\n"
          ]
        },
        {
          "name": "stdout",
          "output_type": "stream",
          "text": [
            "[CV 5/5] END C=0.01, class_weight={0: 0.2, 1: 3}, solver=saga;, score=0.469 total time=   3.7s\n",
            "[CV 1/5] END C=0.01, class_weight={0: 0.15, 1: 5}, solver=newton-cg;, score=0.523 total time=   5.3s\n",
            "[CV 2/5] END C=0.01, class_weight={0: 0.15, 1: 5}, solver=newton-cg;, score=0.496 total time=   5.4s\n",
            "[CV 3/5] END C=0.01, class_weight={0: 0.15, 1: 5}, solver=newton-cg;, score=0.491 total time=   4.2s\n",
            "[CV 4/5] END C=0.01, class_weight={0: 0.15, 1: 5}, solver=newton-cg;, score=0.486 total time=   5.4s\n",
            "[CV 5/5] END C=0.01, class_weight={0: 0.15, 1: 5}, solver=newton-cg;, score=0.464 total time=   5.0s\n",
            "[CV 1/5] END C=0.01, class_weight={0: 0.15, 1: 5}, solver=lbfgs;, score=0.523 total time=   7.8s\n",
            "[CV 2/5] END C=0.01, class_weight={0: 0.15, 1: 5}, solver=lbfgs;, score=0.496 total time=   8.2s\n",
            "[CV 3/5] END C=0.01, class_weight={0: 0.15, 1: 5}, solver=lbfgs;, score=0.491 total time=   6.1s\n",
            "[CV 4/5] END C=0.01, class_weight={0: 0.15, 1: 5}, solver=lbfgs;, score=0.486 total time=   8.6s\n",
            "[CV 5/5] END C=0.01, class_weight={0: 0.15, 1: 5}, solver=lbfgs;, score=0.464 total time=   7.5s\n"
          ]
        },
        {
          "name": "stderr",
          "output_type": "stream",
          "text": [
            "/usr/local/lib/python3.7/dist-packages/sklearn/linear_model/_sag.py:354: ConvergenceWarning: The max_iter was reached which means the coef_ did not converge\n",
            "  ConvergenceWarning,\n"
          ]
        },
        {
          "name": "stdout",
          "output_type": "stream",
          "text": [
            "[CV 1/5] END C=0.01, class_weight={0: 0.15, 1: 5}, solver=sag;, score=0.430 total time=   3.7s\n"
          ]
        },
        {
          "name": "stderr",
          "output_type": "stream",
          "text": [
            "/usr/local/lib/python3.7/dist-packages/sklearn/linear_model/_sag.py:354: ConvergenceWarning: The max_iter was reached which means the coef_ did not converge\n",
            "  ConvergenceWarning,\n"
          ]
        },
        {
          "name": "stdout",
          "output_type": "stream",
          "text": [
            "[CV 2/5] END C=0.01, class_weight={0: 0.15, 1: 5}, solver=sag;, score=0.433 total time=   3.2s\n"
          ]
        },
        {
          "name": "stderr",
          "output_type": "stream",
          "text": [
            "/usr/local/lib/python3.7/dist-packages/sklearn/linear_model/_sag.py:354: ConvergenceWarning: The max_iter was reached which means the coef_ did not converge\n",
            "  ConvergenceWarning,\n"
          ]
        },
        {
          "name": "stdout",
          "output_type": "stream",
          "text": [
            "[CV 3/5] END C=0.01, class_weight={0: 0.15, 1: 5}, solver=sag;, score=0.514 total time=   3.2s\n"
          ]
        },
        {
          "name": "stderr",
          "output_type": "stream",
          "text": [
            "/usr/local/lib/python3.7/dist-packages/sklearn/linear_model/_sag.py:354: ConvergenceWarning: The max_iter was reached which means the coef_ did not converge\n",
            "  ConvergenceWarning,\n"
          ]
        },
        {
          "name": "stdout",
          "output_type": "stream",
          "text": [
            "[CV 4/5] END C=0.01, class_weight={0: 0.15, 1: 5}, solver=sag;, score=0.400 total time=   3.1s\n"
          ]
        },
        {
          "name": "stderr",
          "output_type": "stream",
          "text": [
            "/usr/local/lib/python3.7/dist-packages/sklearn/linear_model/_sag.py:354: ConvergenceWarning: The max_iter was reached which means the coef_ did not converge\n",
            "  ConvergenceWarning,\n"
          ]
        },
        {
          "name": "stdout",
          "output_type": "stream",
          "text": [
            "[CV 5/5] END C=0.01, class_weight={0: 0.15, 1: 5}, solver=sag;, score=0.419 total time=   3.3s\n"
          ]
        },
        {
          "name": "stderr",
          "output_type": "stream",
          "text": [
            "/usr/local/lib/python3.7/dist-packages/sklearn/linear_model/_sag.py:354: ConvergenceWarning: The max_iter was reached which means the coef_ did not converge\n",
            "  ConvergenceWarning,\n"
          ]
        },
        {
          "name": "stdout",
          "output_type": "stream",
          "text": [
            "[CV 1/5] END C=0.01, class_weight={0: 0.15, 1: 5}, solver=saga;, score=0.349 total time=   3.8s\n"
          ]
        },
        {
          "name": "stderr",
          "output_type": "stream",
          "text": [
            "/usr/local/lib/python3.7/dist-packages/sklearn/linear_model/_sag.py:354: ConvergenceWarning: The max_iter was reached which means the coef_ did not converge\n",
            "  ConvergenceWarning,\n"
          ]
        },
        {
          "name": "stdout",
          "output_type": "stream",
          "text": [
            "[CV 2/5] END C=0.01, class_weight={0: 0.15, 1: 5}, solver=saga;, score=0.366 total time=   3.9s\n"
          ]
        },
        {
          "name": "stderr",
          "output_type": "stream",
          "text": [
            "/usr/local/lib/python3.7/dist-packages/sklearn/linear_model/_sag.py:354: ConvergenceWarning: The max_iter was reached which means the coef_ did not converge\n",
            "  ConvergenceWarning,\n"
          ]
        },
        {
          "name": "stdout",
          "output_type": "stream",
          "text": [
            "[CV 3/5] END C=0.01, class_weight={0: 0.15, 1: 5}, solver=saga;, score=0.493 total time=   3.8s\n"
          ]
        },
        {
          "name": "stderr",
          "output_type": "stream",
          "text": [
            "/usr/local/lib/python3.7/dist-packages/sklearn/linear_model/_sag.py:354: ConvergenceWarning: The max_iter was reached which means the coef_ did not converge\n",
            "  ConvergenceWarning,\n"
          ]
        },
        {
          "name": "stdout",
          "output_type": "stream",
          "text": [
            "[CV 4/5] END C=0.01, class_weight={0: 0.15, 1: 5}, solver=saga;, score=0.318 total time=   3.9s\n"
          ]
        },
        {
          "name": "stderr",
          "output_type": "stream",
          "text": [
            "/usr/local/lib/python3.7/dist-packages/sklearn/linear_model/_sag.py:354: ConvergenceWarning: The max_iter was reached which means the coef_ did not converge\n",
            "  ConvergenceWarning,\n"
          ]
        },
        {
          "name": "stdout",
          "output_type": "stream",
          "text": [
            "[CV 5/5] END C=0.01, class_weight={0: 0.15, 1: 5}, solver=saga;, score=0.357 total time=   3.9s\n",
            "[CV 1/5] END C=0.1, class_weight={0: 0.15, 1: 1}, solver=newton-cg;, score=0.591 total time=   4.9s\n",
            "[CV 2/5] END C=0.1, class_weight={0: 0.15, 1: 1}, solver=newton-cg;, score=0.621 total time=   4.6s\n",
            "[CV 3/5] END C=0.1, class_weight={0: 0.15, 1: 1}, solver=newton-cg;, score=0.636 total time=   4.2s\n",
            "[CV 4/5] END C=0.1, class_weight={0: 0.15, 1: 1}, solver=newton-cg;, score=0.645 total time=   5.3s\n",
            "[CV 5/5] END C=0.1, class_weight={0: 0.15, 1: 1}, solver=newton-cg;, score=0.601 total time=   5.9s\n",
            "[CV 1/5] END C=0.1, class_weight={0: 0.15, 1: 1}, solver=lbfgs;, score=0.591 total time=  10.5s\n",
            "[CV 2/5] END C=0.1, class_weight={0: 0.15, 1: 1}, solver=lbfgs;, score=0.621 total time=   9.1s\n",
            "[CV 3/5] END C=0.1, class_weight={0: 0.15, 1: 1}, solver=lbfgs;, score=0.636 total time=   7.9s\n",
            "[CV 4/5] END C=0.1, class_weight={0: 0.15, 1: 1}, solver=lbfgs;, score=0.645 total time=  10.1s\n",
            "[CV 5/5] END C=0.1, class_weight={0: 0.15, 1: 1}, solver=lbfgs;, score=0.601 total time=   9.9s\n"
          ]
        },
        {
          "name": "stderr",
          "output_type": "stream",
          "text": [
            "/usr/local/lib/python3.7/dist-packages/sklearn/linear_model/_sag.py:354: ConvergenceWarning: The max_iter was reached which means the coef_ did not converge\n",
            "  ConvergenceWarning,\n"
          ]
        },
        {
          "name": "stdout",
          "output_type": "stream",
          "text": [
            "[CV 1/5] END C=0.1, class_weight={0: 0.15, 1: 1}, solver=sag;, score=0.580 total time=   3.3s\n"
          ]
        },
        {
          "name": "stderr",
          "output_type": "stream",
          "text": [
            "/usr/local/lib/python3.7/dist-packages/sklearn/linear_model/_sag.py:354: ConvergenceWarning: The max_iter was reached which means the coef_ did not converge\n",
            "  ConvergenceWarning,\n"
          ]
        },
        {
          "name": "stdout",
          "output_type": "stream",
          "text": [
            "[CV 2/5] END C=0.1, class_weight={0: 0.15, 1: 1}, solver=sag;, score=0.641 total time=   3.0s\n"
          ]
        },
        {
          "name": "stderr",
          "output_type": "stream",
          "text": [
            "/usr/local/lib/python3.7/dist-packages/sklearn/linear_model/_sag.py:354: ConvergenceWarning: The max_iter was reached which means the coef_ did not converge\n",
            "  ConvergenceWarning,\n"
          ]
        },
        {
          "name": "stdout",
          "output_type": "stream",
          "text": [
            "[CV 3/5] END C=0.1, class_weight={0: 0.15, 1: 1}, solver=sag;, score=0.650 total time=   3.2s\n"
          ]
        },
        {
          "name": "stderr",
          "output_type": "stream",
          "text": [
            "/usr/local/lib/python3.7/dist-packages/sklearn/linear_model/_sag.py:354: ConvergenceWarning: The max_iter was reached which means the coef_ did not converge\n",
            "  ConvergenceWarning,\n"
          ]
        },
        {
          "name": "stdout",
          "output_type": "stream",
          "text": [
            "[CV 4/5] END C=0.1, class_weight={0: 0.15, 1: 1}, solver=sag;, score=0.634 total time=   3.2s\n"
          ]
        },
        {
          "name": "stderr",
          "output_type": "stream",
          "text": [
            "/usr/local/lib/python3.7/dist-packages/sklearn/linear_model/_sag.py:354: ConvergenceWarning: The max_iter was reached which means the coef_ did not converge\n",
            "  ConvergenceWarning,\n"
          ]
        },
        {
          "name": "stdout",
          "output_type": "stream",
          "text": [
            "[CV 5/5] END C=0.1, class_weight={0: 0.15, 1: 1}, solver=sag;, score=0.615 total time=   3.3s\n"
          ]
        },
        {
          "name": "stderr",
          "output_type": "stream",
          "text": [
            "/usr/local/lib/python3.7/dist-packages/sklearn/linear_model/_sag.py:354: ConvergenceWarning: The max_iter was reached which means the coef_ did not converge\n",
            "  ConvergenceWarning,\n"
          ]
        },
        {
          "name": "stdout",
          "output_type": "stream",
          "text": [
            "[CV 1/5] END C=0.1, class_weight={0: 0.15, 1: 1}, solver=saga;, score=0.568 total time=   4.0s\n"
          ]
        },
        {
          "name": "stderr",
          "output_type": "stream",
          "text": [
            "/usr/local/lib/python3.7/dist-packages/sklearn/linear_model/_sag.py:354: ConvergenceWarning: The max_iter was reached which means the coef_ did not converge\n",
            "  ConvergenceWarning,\n"
          ]
        },
        {
          "name": "stdout",
          "output_type": "stream",
          "text": [
            "[CV 2/5] END C=0.1, class_weight={0: 0.15, 1: 1}, solver=saga;, score=0.614 total time=   4.0s\n"
          ]
        },
        {
          "name": "stderr",
          "output_type": "stream",
          "text": [
            "/usr/local/lib/python3.7/dist-packages/sklearn/linear_model/_sag.py:354: ConvergenceWarning: The max_iter was reached which means the coef_ did not converge\n",
            "  ConvergenceWarning,\n"
          ]
        },
        {
          "name": "stdout",
          "output_type": "stream",
          "text": [
            "[CV 3/5] END C=0.1, class_weight={0: 0.15, 1: 1}, solver=saga;, score=0.648 total time=   3.8s\n"
          ]
        },
        {
          "name": "stderr",
          "output_type": "stream",
          "text": [
            "/usr/local/lib/python3.7/dist-packages/sklearn/linear_model/_sag.py:354: ConvergenceWarning: The max_iter was reached which means the coef_ did not converge\n",
            "  ConvergenceWarning,\n"
          ]
        },
        {
          "name": "stdout",
          "output_type": "stream",
          "text": [
            "[CV 4/5] END C=0.1, class_weight={0: 0.15, 1: 1}, solver=saga;, score=0.639 total time=   3.9s\n"
          ]
        },
        {
          "name": "stderr",
          "output_type": "stream",
          "text": [
            "/usr/local/lib/python3.7/dist-packages/sklearn/linear_model/_sag.py:354: ConvergenceWarning: The max_iter was reached which means the coef_ did not converge\n",
            "  ConvergenceWarning,\n"
          ]
        },
        {
          "name": "stdout",
          "output_type": "stream",
          "text": [
            "[CV 5/5] END C=0.1, class_weight={0: 0.15, 1: 1}, solver=saga;, score=0.611 total time=   4.0s\n",
            "[CV 1/5] END C=0.1, class_weight={0: 0.3, 1: 1}, solver=newton-cg;, score=0.538 total time=   6.2s\n",
            "[CV 2/5] END C=0.1, class_weight={0: 0.3, 1: 1}, solver=newton-cg;, score=0.612 total time=   5.1s\n",
            "[CV 3/5] END C=0.1, class_weight={0: 0.3, 1: 1}, solver=newton-cg;, score=0.630 total time=   4.8s\n",
            "[CV 4/5] END C=0.1, class_weight={0: 0.3, 1: 1}, solver=newton-cg;, score=0.626 total time=   5.7s\n",
            "[CV 5/5] END C=0.1, class_weight={0: 0.3, 1: 1}, solver=newton-cg;, score=0.595 total time=   5.5s\n",
            "[CV 1/5] END C=0.1, class_weight={0: 0.3, 1: 1}, solver=lbfgs;, score=0.538 total time=  11.0s\n",
            "[CV 2/5] END C=0.1, class_weight={0: 0.3, 1: 1}, solver=lbfgs;, score=0.612 total time=   9.6s\n",
            "[CV 3/5] END C=0.1, class_weight={0: 0.3, 1: 1}, solver=lbfgs;, score=0.630 total time=   9.0s\n",
            "[CV 4/5] END C=0.1, class_weight={0: 0.3, 1: 1}, solver=lbfgs;, score=0.626 total time=  10.9s\n",
            "[CV 5/5] END C=0.1, class_weight={0: 0.3, 1: 1}, solver=lbfgs;, score=0.595 total time=  10.2s\n"
          ]
        },
        {
          "name": "stderr",
          "output_type": "stream",
          "text": [
            "/usr/local/lib/python3.7/dist-packages/sklearn/linear_model/_sag.py:354: ConvergenceWarning: The max_iter was reached which means the coef_ did not converge\n",
            "  ConvergenceWarning,\n"
          ]
        },
        {
          "name": "stdout",
          "output_type": "stream",
          "text": [
            "[CV 1/5] END C=0.1, class_weight={0: 0.3, 1: 1}, solver=sag;, score=0.584 total time=   3.3s\n"
          ]
        },
        {
          "name": "stderr",
          "output_type": "stream",
          "text": [
            "/usr/local/lib/python3.7/dist-packages/sklearn/linear_model/_sag.py:354: ConvergenceWarning: The max_iter was reached which means the coef_ did not converge\n",
            "  ConvergenceWarning,\n"
          ]
        },
        {
          "name": "stdout",
          "output_type": "stream",
          "text": [
            "[CV 2/5] END C=0.1, class_weight={0: 0.3, 1: 1}, solver=sag;, score=0.637 total time=   3.0s\n"
          ]
        },
        {
          "name": "stderr",
          "output_type": "stream",
          "text": [
            "/usr/local/lib/python3.7/dist-packages/sklearn/linear_model/_sag.py:354: ConvergenceWarning: The max_iter was reached which means the coef_ did not converge\n",
            "  ConvergenceWarning,\n"
          ]
        },
        {
          "name": "stdout",
          "output_type": "stream",
          "text": [
            "[CV 3/5] END C=0.1, class_weight={0: 0.3, 1: 1}, solver=sag;, score=0.637 total time=   2.9s\n"
          ]
        },
        {
          "name": "stderr",
          "output_type": "stream",
          "text": [
            "/usr/local/lib/python3.7/dist-packages/sklearn/linear_model/_sag.py:354: ConvergenceWarning: The max_iter was reached which means the coef_ did not converge\n",
            "  ConvergenceWarning,\n"
          ]
        },
        {
          "name": "stdout",
          "output_type": "stream",
          "text": [
            "[CV 4/5] END C=0.1, class_weight={0: 0.3, 1: 1}, solver=sag;, score=0.630 total time=   2.8s\n"
          ]
        },
        {
          "name": "stderr",
          "output_type": "stream",
          "text": [
            "/usr/local/lib/python3.7/dist-packages/sklearn/linear_model/_sag.py:354: ConvergenceWarning: The max_iter was reached which means the coef_ did not converge\n",
            "  ConvergenceWarning,\n"
          ]
        },
        {
          "name": "stdout",
          "output_type": "stream",
          "text": [
            "[CV 5/5] END C=0.1, class_weight={0: 0.3, 1: 1}, solver=sag;, score=0.595 total time=   3.0s\n"
          ]
        },
        {
          "name": "stderr",
          "output_type": "stream",
          "text": [
            "/usr/local/lib/python3.7/dist-packages/sklearn/linear_model/_sag.py:354: ConvergenceWarning: The max_iter was reached which means the coef_ did not converge\n",
            "  ConvergenceWarning,\n"
          ]
        },
        {
          "name": "stdout",
          "output_type": "stream",
          "text": [
            "[CV 1/5] END C=0.1, class_weight={0: 0.3, 1: 1}, solver=saga;, score=0.572 total time=   3.7s\n"
          ]
        },
        {
          "name": "stderr",
          "output_type": "stream",
          "text": [
            "/usr/local/lib/python3.7/dist-packages/sklearn/linear_model/_sag.py:354: ConvergenceWarning: The max_iter was reached which means the coef_ did not converge\n",
            "  ConvergenceWarning,\n"
          ]
        },
        {
          "name": "stdout",
          "output_type": "stream",
          "text": [
            "[CV 2/5] END C=0.1, class_weight={0: 0.3, 1: 1}, solver=saga;, score=0.631 total time=   3.7s\n"
          ]
        },
        {
          "name": "stderr",
          "output_type": "stream",
          "text": [
            "/usr/local/lib/python3.7/dist-packages/sklearn/linear_model/_sag.py:354: ConvergenceWarning: The max_iter was reached which means the coef_ did not converge\n",
            "  ConvergenceWarning,\n"
          ]
        },
        {
          "name": "stdout",
          "output_type": "stream",
          "text": [
            "[CV 3/5] END C=0.1, class_weight={0: 0.3, 1: 1}, solver=saga;, score=0.633 total time=   3.6s\n"
          ]
        },
        {
          "name": "stderr",
          "output_type": "stream",
          "text": [
            "/usr/local/lib/python3.7/dist-packages/sklearn/linear_model/_sag.py:354: ConvergenceWarning: The max_iter was reached which means the coef_ did not converge\n",
            "  ConvergenceWarning,\n"
          ]
        },
        {
          "name": "stdout",
          "output_type": "stream",
          "text": [
            "[CV 4/5] END C=0.1, class_weight={0: 0.3, 1: 1}, solver=saga;, score=0.627 total time=   3.6s\n"
          ]
        },
        {
          "name": "stderr",
          "output_type": "stream",
          "text": [
            "/usr/local/lib/python3.7/dist-packages/sklearn/linear_model/_sag.py:354: ConvergenceWarning: The max_iter was reached which means the coef_ did not converge\n",
            "  ConvergenceWarning,\n"
          ]
        },
        {
          "name": "stdout",
          "output_type": "stream",
          "text": [
            "[CV 5/5] END C=0.1, class_weight={0: 0.3, 1: 1}, solver=saga;, score=0.606 total time=   3.7s\n",
            "[CV 1/5] END C=0.1, class_weight={0: 0.2, 1: 3}, solver=newton-cg;, score=0.620 total time=   5.8s\n",
            "[CV 2/5] END C=0.1, class_weight={0: 0.2, 1: 3}, solver=newton-cg;, score=0.630 total time=   5.6s\n",
            "[CV 3/5] END C=0.1, class_weight={0: 0.2, 1: 3}, solver=newton-cg;, score=0.641 total time=   4.6s\n",
            "[CV 4/5] END C=0.1, class_weight={0: 0.2, 1: 3}, solver=newton-cg;, score=0.647 total time=   5.6s\n",
            "[CV 5/5] END C=0.1, class_weight={0: 0.2, 1: 3}, solver=newton-cg;, score=0.612 total time=   5.5s\n",
            "[CV 1/5] END C=0.1, class_weight={0: 0.2, 1: 3}, solver=lbfgs;, score=0.620 total time=  11.3s\n",
            "[CV 2/5] END C=0.1, class_weight={0: 0.2, 1: 3}, solver=lbfgs;, score=0.630 total time=  11.0s\n",
            "[CV 3/5] END C=0.1, class_weight={0: 0.2, 1: 3}, solver=lbfgs;, score=0.641 total time=  10.2s\n",
            "[CV 4/5] END C=0.1, class_weight={0: 0.2, 1: 3}, solver=lbfgs;, score=0.647 total time=  12.3s\n",
            "[CV 5/5] END C=0.1, class_weight={0: 0.2, 1: 3}, solver=lbfgs;, score=0.612 total time=  11.2s\n"
          ]
        },
        {
          "name": "stderr",
          "output_type": "stream",
          "text": [
            "/usr/local/lib/python3.7/dist-packages/sklearn/linear_model/_sag.py:354: ConvergenceWarning: The max_iter was reached which means the coef_ did not converge\n",
            "  ConvergenceWarning,\n"
          ]
        },
        {
          "name": "stdout",
          "output_type": "stream",
          "text": [
            "[CV 1/5] END C=0.1, class_weight={0: 0.2, 1: 3}, solver=sag;, score=0.542 total time=   3.2s\n"
          ]
        },
        {
          "name": "stderr",
          "output_type": "stream",
          "text": [
            "/usr/local/lib/python3.7/dist-packages/sklearn/linear_model/_sag.py:354: ConvergenceWarning: The max_iter was reached which means the coef_ did not converge\n",
            "  ConvergenceWarning,\n"
          ]
        },
        {
          "name": "stdout",
          "output_type": "stream",
          "text": [
            "[CV 2/5] END C=0.1, class_weight={0: 0.2, 1: 3}, solver=sag;, score=0.535 total time=   3.3s\n"
          ]
        },
        {
          "name": "stderr",
          "output_type": "stream",
          "text": [
            "/usr/local/lib/python3.7/dist-packages/sklearn/linear_model/_sag.py:354: ConvergenceWarning: The max_iter was reached which means the coef_ did not converge\n",
            "  ConvergenceWarning,\n"
          ]
        },
        {
          "name": "stdout",
          "output_type": "stream",
          "text": [
            "[CV 3/5] END C=0.1, class_weight={0: 0.2, 1: 3}, solver=sag;, score=0.614 total time=   3.4s\n"
          ]
        },
        {
          "name": "stderr",
          "output_type": "stream",
          "text": [
            "/usr/local/lib/python3.7/dist-packages/sklearn/linear_model/_sag.py:354: ConvergenceWarning: The max_iter was reached which means the coef_ did not converge\n",
            "  ConvergenceWarning,\n"
          ]
        },
        {
          "name": "stdout",
          "output_type": "stream",
          "text": [
            "[CV 4/5] END C=0.1, class_weight={0: 0.2, 1: 3}, solver=sag;, score=0.534 total time=   3.3s\n"
          ]
        },
        {
          "name": "stderr",
          "output_type": "stream",
          "text": [
            "/usr/local/lib/python3.7/dist-packages/sklearn/linear_model/_sag.py:354: ConvergenceWarning: The max_iter was reached which means the coef_ did not converge\n",
            "  ConvergenceWarning,\n"
          ]
        },
        {
          "name": "stdout",
          "output_type": "stream",
          "text": [
            "[CV 5/5] END C=0.1, class_weight={0: 0.2, 1: 3}, solver=sag;, score=0.518 total time=   3.3s\n"
          ]
        },
        {
          "name": "stderr",
          "output_type": "stream",
          "text": [
            "/usr/local/lib/python3.7/dist-packages/sklearn/linear_model/_sag.py:354: ConvergenceWarning: The max_iter was reached which means the coef_ did not converge\n",
            "  ConvergenceWarning,\n"
          ]
        },
        {
          "name": "stdout",
          "output_type": "stream",
          "text": [
            "[CV 1/5] END C=0.1, class_weight={0: 0.2, 1: 3}, solver=saga;, score=0.489 total time=   3.8s\n"
          ]
        },
        {
          "name": "stderr",
          "output_type": "stream",
          "text": [
            "/usr/local/lib/python3.7/dist-packages/sklearn/linear_model/_sag.py:354: ConvergenceWarning: The max_iter was reached which means the coef_ did not converge\n",
            "  ConvergenceWarning,\n"
          ]
        },
        {
          "name": "stdout",
          "output_type": "stream",
          "text": [
            "[CV 2/5] END C=0.1, class_weight={0: 0.2, 1: 3}, solver=saga;, score=0.501 total time=   3.7s\n"
          ]
        },
        {
          "name": "stderr",
          "output_type": "stream",
          "text": [
            "/usr/local/lib/python3.7/dist-packages/sklearn/linear_model/_sag.py:354: ConvergenceWarning: The max_iter was reached which means the coef_ did not converge\n",
            "  ConvergenceWarning,\n"
          ]
        },
        {
          "name": "stdout",
          "output_type": "stream",
          "text": [
            "[CV 3/5] END C=0.1, class_weight={0: 0.2, 1: 3}, solver=saga;, score=0.563 total time=   3.8s\n"
          ]
        },
        {
          "name": "stderr",
          "output_type": "stream",
          "text": [
            "/usr/local/lib/python3.7/dist-packages/sklearn/linear_model/_sag.py:354: ConvergenceWarning: The max_iter was reached which means the coef_ did not converge\n",
            "  ConvergenceWarning,\n"
          ]
        },
        {
          "name": "stdout",
          "output_type": "stream",
          "text": [
            "[CV 4/5] END C=0.1, class_weight={0: 0.2, 1: 3}, solver=saga;, score=0.475 total time=   3.9s\n"
          ]
        },
        {
          "name": "stderr",
          "output_type": "stream",
          "text": [
            "/usr/local/lib/python3.7/dist-packages/sklearn/linear_model/_sag.py:354: ConvergenceWarning: The max_iter was reached which means the coef_ did not converge\n",
            "  ConvergenceWarning,\n"
          ]
        },
        {
          "name": "stdout",
          "output_type": "stream",
          "text": [
            "[CV 5/5] END C=0.1, class_weight={0: 0.2, 1: 3}, solver=saga;, score=0.477 total time=   3.9s\n",
            "[CV 1/5] END C=0.1, class_weight={0: 0.15, 1: 5}, solver=newton-cg;, score=0.622 total time=   5.9s\n",
            "[CV 2/5] END C=0.1, class_weight={0: 0.15, 1: 5}, solver=newton-cg;, score=0.627 total time=   5.7s\n",
            "[CV 3/5] END C=0.1, class_weight={0: 0.15, 1: 5}, solver=newton-cg;, score=0.626 total time=   5.2s\n",
            "[CV 4/5] END C=0.1, class_weight={0: 0.15, 1: 5}, solver=newton-cg;, score=0.620 total time=   5.6s\n",
            "[CV 5/5] END C=0.1, class_weight={0: 0.15, 1: 5}, solver=newton-cg;, score=0.605 total time=   6.0s\n",
            "[CV 1/5] END C=0.1, class_weight={0: 0.15, 1: 5}, solver=lbfgs;, score=0.622 total time=  13.3s\n",
            "[CV 2/5] END C=0.1, class_weight={0: 0.15, 1: 5}, solver=lbfgs;, score=0.627 total time=  12.6s\n",
            "[CV 3/5] END C=0.1, class_weight={0: 0.15, 1: 5}, solver=lbfgs;, score=0.626 total time=   9.8s\n",
            "[CV 4/5] END C=0.1, class_weight={0: 0.15, 1: 5}, solver=lbfgs;, score=0.620 total time=  12.6s\n",
            "[CV 5/5] END C=0.1, class_weight={0: 0.15, 1: 5}, solver=lbfgs;, score=0.605 total time=  12.4s\n"
          ]
        },
        {
          "name": "stderr",
          "output_type": "stream",
          "text": [
            "/usr/local/lib/python3.7/dist-packages/sklearn/linear_model/_sag.py:354: ConvergenceWarning: The max_iter was reached which means the coef_ did not converge\n",
            "  ConvergenceWarning,\n"
          ]
        },
        {
          "name": "stdout",
          "output_type": "stream",
          "text": [
            "[CV 1/5] END C=0.1, class_weight={0: 0.15, 1: 5}, solver=sag;, score=0.449 total time=   3.2s\n"
          ]
        },
        {
          "name": "stderr",
          "output_type": "stream",
          "text": [
            "/usr/local/lib/python3.7/dist-packages/sklearn/linear_model/_sag.py:354: ConvergenceWarning: The max_iter was reached which means the coef_ did not converge\n",
            "  ConvergenceWarning,\n"
          ]
        },
        {
          "name": "stdout",
          "output_type": "stream",
          "text": [
            "[CV 2/5] END C=0.1, class_weight={0: 0.15, 1: 5}, solver=sag;, score=0.437 total time=   3.3s\n"
          ]
        },
        {
          "name": "stderr",
          "output_type": "stream",
          "text": [
            "/usr/local/lib/python3.7/dist-packages/sklearn/linear_model/_sag.py:354: ConvergenceWarning: The max_iter was reached which means the coef_ did not converge\n",
            "  ConvergenceWarning,\n"
          ]
        },
        {
          "name": "stdout",
          "output_type": "stream",
          "text": [
            "[CV 3/5] END C=0.1, class_weight={0: 0.15, 1: 5}, solver=sag;, score=0.547 total time=   3.1s\n"
          ]
        },
        {
          "name": "stderr",
          "output_type": "stream",
          "text": [
            "/usr/local/lib/python3.7/dist-packages/sklearn/linear_model/_sag.py:354: ConvergenceWarning: The max_iter was reached which means the coef_ did not converge\n",
            "  ConvergenceWarning,\n"
          ]
        },
        {
          "name": "stdout",
          "output_type": "stream",
          "text": [
            "[CV 4/5] END C=0.1, class_weight={0: 0.15, 1: 5}, solver=sag;, score=0.416 total time=   3.2s\n"
          ]
        },
        {
          "name": "stderr",
          "output_type": "stream",
          "text": [
            "/usr/local/lib/python3.7/dist-packages/sklearn/linear_model/_sag.py:354: ConvergenceWarning: The max_iter was reached which means the coef_ did not converge\n",
            "  ConvergenceWarning,\n"
          ]
        },
        {
          "name": "stdout",
          "output_type": "stream",
          "text": [
            "[CV 5/5] END C=0.1, class_weight={0: 0.15, 1: 5}, solver=sag;, score=0.429 total time=   3.2s\n"
          ]
        },
        {
          "name": "stderr",
          "output_type": "stream",
          "text": [
            "/usr/local/lib/python3.7/dist-packages/sklearn/linear_model/_sag.py:354: ConvergenceWarning: The max_iter was reached which means the coef_ did not converge\n",
            "  ConvergenceWarning,\n"
          ]
        },
        {
          "name": "stdout",
          "output_type": "stream",
          "text": [
            "[CV 1/5] END C=0.1, class_weight={0: 0.15, 1: 5}, solver=saga;, score=0.358 total time=   3.9s\n"
          ]
        },
        {
          "name": "stderr",
          "output_type": "stream",
          "text": [
            "/usr/local/lib/python3.7/dist-packages/sklearn/linear_model/_sag.py:354: ConvergenceWarning: The max_iter was reached which means the coef_ did not converge\n",
            "  ConvergenceWarning,\n"
          ]
        },
        {
          "name": "stdout",
          "output_type": "stream",
          "text": [
            "[CV 2/5] END C=0.1, class_weight={0: 0.15, 1: 5}, solver=saga;, score=0.379 total time=   3.6s\n"
          ]
        },
        {
          "name": "stderr",
          "output_type": "stream",
          "text": [
            "/usr/local/lib/python3.7/dist-packages/sklearn/linear_model/_sag.py:354: ConvergenceWarning: The max_iter was reached which means the coef_ did not converge\n",
            "  ConvergenceWarning,\n"
          ]
        },
        {
          "name": "stdout",
          "output_type": "stream",
          "text": [
            "[CV 3/5] END C=0.1, class_weight={0: 0.15, 1: 5}, solver=saga;, score=0.519 total time=   4.1s\n"
          ]
        },
        {
          "name": "stderr",
          "output_type": "stream",
          "text": [
            "/usr/local/lib/python3.7/dist-packages/sklearn/linear_model/_sag.py:354: ConvergenceWarning: The max_iter was reached which means the coef_ did not converge\n",
            "  ConvergenceWarning,\n"
          ]
        },
        {
          "name": "stdout",
          "output_type": "stream",
          "text": [
            "[CV 4/5] END C=0.1, class_weight={0: 0.15, 1: 5}, solver=saga;, score=0.330 total time=   3.8s\n"
          ]
        },
        {
          "name": "stderr",
          "output_type": "stream",
          "text": [
            "/usr/local/lib/python3.7/dist-packages/sklearn/linear_model/_sag.py:354: ConvergenceWarning: The max_iter was reached which means the coef_ did not converge\n",
            "  ConvergenceWarning,\n"
          ]
        },
        {
          "name": "stdout",
          "output_type": "stream",
          "text": [
            "[CV 5/5] END C=0.1, class_weight={0: 0.15, 1: 5}, solver=saga;, score=0.365 total time=   4.1s\n",
            "[CV 1/5] END C=1, class_weight={0: 0.15, 1: 1}, solver=newton-cg;, score=0.581 total time=   6.0s\n",
            "[CV 2/5] END C=1, class_weight={0: 0.15, 1: 1}, solver=newton-cg;, score=0.638 total time=   5.6s\n",
            "[CV 3/5] END C=1, class_weight={0: 0.15, 1: 1}, solver=newton-cg;, score=0.620 total time=   4.5s\n",
            "[CV 4/5] END C=1, class_weight={0: 0.15, 1: 1}, solver=newton-cg;, score=0.619 total time=   4.9s\n",
            "[CV 5/5] END C=1, class_weight={0: 0.15, 1: 1}, solver=newton-cg;, score=0.585 total time=   5.6s\n",
            "[CV 1/5] END C=1, class_weight={0: 0.15, 1: 1}, solver=lbfgs;, score=0.581 total time=  11.8s\n",
            "[CV 2/5] END C=1, class_weight={0: 0.15, 1: 1}, solver=lbfgs;, score=0.638 total time=  12.3s\n",
            "[CV 3/5] END C=1, class_weight={0: 0.15, 1: 1}, solver=lbfgs;, score=0.620 total time=  11.2s\n",
            "[CV 4/5] END C=1, class_weight={0: 0.15, 1: 1}, solver=lbfgs;, score=0.619 total time=  12.3s\n",
            "[CV 5/5] END C=1, class_weight={0: 0.15, 1: 1}, solver=lbfgs;, score=0.585 total time=  12.1s\n"
          ]
        },
        {
          "name": "stderr",
          "output_type": "stream",
          "text": [
            "/usr/local/lib/python3.7/dist-packages/sklearn/linear_model/_sag.py:354: ConvergenceWarning: The max_iter was reached which means the coef_ did not converge\n",
            "  ConvergenceWarning,\n"
          ]
        },
        {
          "name": "stdout",
          "output_type": "stream",
          "text": [
            "[CV 1/5] END C=1, class_weight={0: 0.15, 1: 1}, solver=sag;, score=0.585 total time=   3.5s\n"
          ]
        },
        {
          "name": "stderr",
          "output_type": "stream",
          "text": [
            "/usr/local/lib/python3.7/dist-packages/sklearn/linear_model/_sag.py:354: ConvergenceWarning: The max_iter was reached which means the coef_ did not converge\n",
            "  ConvergenceWarning,\n"
          ]
        },
        {
          "name": "stdout",
          "output_type": "stream",
          "text": [
            "[CV 2/5] END C=1, class_weight={0: 0.15, 1: 1}, solver=sag;, score=0.640 total time=   3.5s\n"
          ]
        },
        {
          "name": "stderr",
          "output_type": "stream",
          "text": [
            "/usr/local/lib/python3.7/dist-packages/sklearn/linear_model/_sag.py:354: ConvergenceWarning: The max_iter was reached which means the coef_ did not converge\n",
            "  ConvergenceWarning,\n"
          ]
        },
        {
          "name": "stdout",
          "output_type": "stream",
          "text": [
            "[CV 3/5] END C=1, class_weight={0: 0.15, 1: 1}, solver=sag;, score=0.658 total time=   3.4s\n"
          ]
        },
        {
          "name": "stderr",
          "output_type": "stream",
          "text": [
            "/usr/local/lib/python3.7/dist-packages/sklearn/linear_model/_sag.py:354: ConvergenceWarning: The max_iter was reached which means the coef_ did not converge\n",
            "  ConvergenceWarning,\n"
          ]
        },
        {
          "name": "stdout",
          "output_type": "stream",
          "text": [
            "[CV 4/5] END C=1, class_weight={0: 0.15, 1: 1}, solver=sag;, score=0.634 total time=   3.4s\n"
          ]
        },
        {
          "name": "stderr",
          "output_type": "stream",
          "text": [
            "/usr/local/lib/python3.7/dist-packages/sklearn/linear_model/_sag.py:354: ConvergenceWarning: The max_iter was reached which means the coef_ did not converge\n",
            "  ConvergenceWarning,\n"
          ]
        },
        {
          "name": "stdout",
          "output_type": "stream",
          "text": [
            "[CV 5/5] END C=1, class_weight={0: 0.15, 1: 1}, solver=sag;, score=0.616 total time=   3.5s\n"
          ]
        },
        {
          "name": "stderr",
          "output_type": "stream",
          "text": [
            "/usr/local/lib/python3.7/dist-packages/sklearn/linear_model/_sag.py:354: ConvergenceWarning: The max_iter was reached which means the coef_ did not converge\n",
            "  ConvergenceWarning,\n"
          ]
        },
        {
          "name": "stdout",
          "output_type": "stream",
          "text": [
            "[CV 1/5] END C=1, class_weight={0: 0.15, 1: 1}, solver=saga;, score=0.567 total time=   4.1s\n"
          ]
        },
        {
          "name": "stderr",
          "output_type": "stream",
          "text": [
            "/usr/local/lib/python3.7/dist-packages/sklearn/linear_model/_sag.py:354: ConvergenceWarning: The max_iter was reached which means the coef_ did not converge\n",
            "  ConvergenceWarning,\n"
          ]
        },
        {
          "name": "stdout",
          "output_type": "stream",
          "text": [
            "[CV 2/5] END C=1, class_weight={0: 0.15, 1: 1}, solver=saga;, score=0.614 total time=   4.1s\n"
          ]
        },
        {
          "name": "stderr",
          "output_type": "stream",
          "text": [
            "/usr/local/lib/python3.7/dist-packages/sklearn/linear_model/_sag.py:354: ConvergenceWarning: The max_iter was reached which means the coef_ did not converge\n",
            "  ConvergenceWarning,\n"
          ]
        },
        {
          "name": "stdout",
          "output_type": "stream",
          "text": [
            "[CV 3/5] END C=1, class_weight={0: 0.15, 1: 1}, solver=saga;, score=0.648 total time=   4.0s\n"
          ]
        },
        {
          "name": "stderr",
          "output_type": "stream",
          "text": [
            "/usr/local/lib/python3.7/dist-packages/sklearn/linear_model/_sag.py:354: ConvergenceWarning: The max_iter was reached which means the coef_ did not converge\n",
            "  ConvergenceWarning,\n"
          ]
        },
        {
          "name": "stdout",
          "output_type": "stream",
          "text": [
            "[CV 4/5] END C=1, class_weight={0: 0.15, 1: 1}, solver=saga;, score=0.641 total time=   3.7s\n"
          ]
        },
        {
          "name": "stderr",
          "output_type": "stream",
          "text": [
            "/usr/local/lib/python3.7/dist-packages/sklearn/linear_model/_sag.py:354: ConvergenceWarning: The max_iter was reached which means the coef_ did not converge\n",
            "  ConvergenceWarning,\n"
          ]
        },
        {
          "name": "stdout",
          "output_type": "stream",
          "text": [
            "[CV 5/5] END C=1, class_weight={0: 0.15, 1: 1}, solver=saga;, score=0.611 total time=   3.9s\n",
            "[CV 1/5] END C=1, class_weight={0: 0.3, 1: 1}, solver=newton-cg;, score=0.553 total time=   5.4s\n",
            "[CV 2/5] END C=1, class_weight={0: 0.3, 1: 1}, solver=newton-cg;, score=0.617 total time=   6.0s\n",
            "[CV 3/5] END C=1, class_weight={0: 0.3, 1: 1}, solver=newton-cg;, score=0.611 total time=   4.9s\n",
            "[CV 4/5] END C=1, class_weight={0: 0.3, 1: 1}, solver=newton-cg;, score=0.626 total time=   5.4s\n",
            "[CV 5/5] END C=1, class_weight={0: 0.3, 1: 1}, solver=newton-cg;, score=0.587 total time=   6.1s\n"
          ]
        },
        {
          "name": "stderr",
          "output_type": "stream",
          "text": [
            "/usr/local/lib/python3.7/dist-packages/sklearn/linear_model/_logistic.py:818: ConvergenceWarning: lbfgs failed to converge (status=1):\n",
            "STOP: TOTAL NO. of ITERATIONS REACHED LIMIT.\n",
            "\n",
            "Increase the number of iterations (max_iter) or scale the data as shown in:\n",
            "    https://scikit-learn.org/stable/modules/preprocessing.html\n",
            "Please also refer to the documentation for alternative solver options:\n",
            "    https://scikit-learn.org/stable/modules/linear_model.html#logistic-regression\n",
            "  extra_warning_msg=_LOGISTIC_SOLVER_CONVERGENCE_MSG,\n"
          ]
        },
        {
          "name": "stdout",
          "output_type": "stream",
          "text": [
            "[CV 1/5] END C=1, class_weight={0: 0.3, 1: 1}, solver=lbfgs;, score=0.553 total time=  12.6s\n"
          ]
        },
        {
          "name": "stderr",
          "output_type": "stream",
          "text": [
            "/usr/local/lib/python3.7/dist-packages/sklearn/linear_model/_logistic.py:818: ConvergenceWarning: lbfgs failed to converge (status=1):\n",
            "STOP: TOTAL NO. of ITERATIONS REACHED LIMIT.\n",
            "\n",
            "Increase the number of iterations (max_iter) or scale the data as shown in:\n",
            "    https://scikit-learn.org/stable/modules/preprocessing.html\n",
            "Please also refer to the documentation for alternative solver options:\n",
            "    https://scikit-learn.org/stable/modules/linear_model.html#logistic-regression\n",
            "  extra_warning_msg=_LOGISTIC_SOLVER_CONVERGENCE_MSG,\n"
          ]
        },
        {
          "name": "stdout",
          "output_type": "stream",
          "text": [
            "[CV 2/5] END C=1, class_weight={0: 0.3, 1: 1}, solver=lbfgs;, score=0.617 total time=  13.5s\n",
            "[CV 3/5] END C=1, class_weight={0: 0.3, 1: 1}, solver=lbfgs;, score=0.611 total time=  12.0s\n",
            "[CV 4/5] END C=1, class_weight={0: 0.3, 1: 1}, solver=lbfgs;, score=0.626 total time=  12.6s\n"
          ]
        },
        {
          "name": "stderr",
          "output_type": "stream",
          "text": [
            "/usr/local/lib/python3.7/dist-packages/sklearn/linear_model/_logistic.py:818: ConvergenceWarning: lbfgs failed to converge (status=1):\n",
            "STOP: TOTAL NO. of ITERATIONS REACHED LIMIT.\n",
            "\n",
            "Increase the number of iterations (max_iter) or scale the data as shown in:\n",
            "    https://scikit-learn.org/stable/modules/preprocessing.html\n",
            "Please also refer to the documentation for alternative solver options:\n",
            "    https://scikit-learn.org/stable/modules/linear_model.html#logistic-regression\n",
            "  extra_warning_msg=_LOGISTIC_SOLVER_CONVERGENCE_MSG,\n"
          ]
        },
        {
          "name": "stdout",
          "output_type": "stream",
          "text": [
            "[CV 5/5] END C=1, class_weight={0: 0.3, 1: 1}, solver=lbfgs;, score=0.587 total time=  13.2s\n"
          ]
        },
        {
          "name": "stderr",
          "output_type": "stream",
          "text": [
            "/usr/local/lib/python3.7/dist-packages/sklearn/linear_model/_sag.py:354: ConvergenceWarning: The max_iter was reached which means the coef_ did not converge\n",
            "  ConvergenceWarning,\n"
          ]
        },
        {
          "name": "stdout",
          "output_type": "stream",
          "text": [
            "[CV 1/5] END C=1, class_weight={0: 0.3, 1: 1}, solver=sag;, score=0.586 total time=   3.3s\n"
          ]
        },
        {
          "name": "stderr",
          "output_type": "stream",
          "text": [
            "/usr/local/lib/python3.7/dist-packages/sklearn/linear_model/_sag.py:354: ConvergenceWarning: The max_iter was reached which means the coef_ did not converge\n",
            "  ConvergenceWarning,\n"
          ]
        },
        {
          "name": "stdout",
          "output_type": "stream",
          "text": [
            "[CV 2/5] END C=1, class_weight={0: 0.3, 1: 1}, solver=sag;, score=0.631 total time=   3.3s\n"
          ]
        },
        {
          "name": "stderr",
          "output_type": "stream",
          "text": [
            "/usr/local/lib/python3.7/dist-packages/sklearn/linear_model/_sag.py:354: ConvergenceWarning: The max_iter was reached which means the coef_ did not converge\n",
            "  ConvergenceWarning,\n"
          ]
        },
        {
          "name": "stdout",
          "output_type": "stream",
          "text": [
            "[CV 3/5] END C=1, class_weight={0: 0.3, 1: 1}, solver=sag;, score=0.635 total time=   3.2s\n"
          ]
        },
        {
          "name": "stderr",
          "output_type": "stream",
          "text": [
            "/usr/local/lib/python3.7/dist-packages/sklearn/linear_model/_sag.py:354: ConvergenceWarning: The max_iter was reached which means the coef_ did not converge\n",
            "  ConvergenceWarning,\n"
          ]
        },
        {
          "name": "stdout",
          "output_type": "stream",
          "text": [
            "[CV 4/5] END C=1, class_weight={0: 0.3, 1: 1}, solver=sag;, score=0.632 total time=   3.3s\n"
          ]
        },
        {
          "name": "stderr",
          "output_type": "stream",
          "text": [
            "/usr/local/lib/python3.7/dist-packages/sklearn/linear_model/_sag.py:354: ConvergenceWarning: The max_iter was reached which means the coef_ did not converge\n",
            "  ConvergenceWarning,\n"
          ]
        },
        {
          "name": "stdout",
          "output_type": "stream",
          "text": [
            "[CV 5/5] END C=1, class_weight={0: 0.3, 1: 1}, solver=sag;, score=0.595 total time=   3.5s\n"
          ]
        },
        {
          "name": "stderr",
          "output_type": "stream",
          "text": [
            "/usr/local/lib/python3.7/dist-packages/sklearn/linear_model/_sag.py:354: ConvergenceWarning: The max_iter was reached which means the coef_ did not converge\n",
            "  ConvergenceWarning,\n"
          ]
        },
        {
          "name": "stdout",
          "output_type": "stream",
          "text": [
            "[CV 1/5] END C=1, class_weight={0: 0.3, 1: 1}, solver=saga;, score=0.572 total time=   3.9s\n"
          ]
        },
        {
          "name": "stderr",
          "output_type": "stream",
          "text": [
            "/usr/local/lib/python3.7/dist-packages/sklearn/linear_model/_sag.py:354: ConvergenceWarning: The max_iter was reached which means the coef_ did not converge\n",
            "  ConvergenceWarning,\n"
          ]
        },
        {
          "name": "stdout",
          "output_type": "stream",
          "text": [
            "[CV 2/5] END C=1, class_weight={0: 0.3, 1: 1}, solver=saga;, score=0.631 total time=   4.0s\n"
          ]
        },
        {
          "name": "stderr",
          "output_type": "stream",
          "text": [
            "/usr/local/lib/python3.7/dist-packages/sklearn/linear_model/_sag.py:354: ConvergenceWarning: The max_iter was reached which means the coef_ did not converge\n",
            "  ConvergenceWarning,\n"
          ]
        },
        {
          "name": "stdout",
          "output_type": "stream",
          "text": [
            "[CV 3/5] END C=1, class_weight={0: 0.3, 1: 1}, solver=saga;, score=0.633 total time=   4.0s\n"
          ]
        },
        {
          "name": "stderr",
          "output_type": "stream",
          "text": [
            "/usr/local/lib/python3.7/dist-packages/sklearn/linear_model/_sag.py:354: ConvergenceWarning: The max_iter was reached which means the coef_ did not converge\n",
            "  ConvergenceWarning,\n"
          ]
        },
        {
          "name": "stdout",
          "output_type": "stream",
          "text": [
            "[CV 4/5] END C=1, class_weight={0: 0.3, 1: 1}, solver=saga;, score=0.627 total time=   4.0s\n"
          ]
        },
        {
          "name": "stderr",
          "output_type": "stream",
          "text": [
            "/usr/local/lib/python3.7/dist-packages/sklearn/linear_model/_sag.py:354: ConvergenceWarning: The max_iter was reached which means the coef_ did not converge\n",
            "  ConvergenceWarning,\n"
          ]
        },
        {
          "name": "stdout",
          "output_type": "stream",
          "text": [
            "[CV 5/5] END C=1, class_weight={0: 0.3, 1: 1}, solver=saga;, score=0.606 total time=   6.6s\n",
            "[CV 1/5] END C=1, class_weight={0: 0.2, 1: 3}, solver=newton-cg;, score=0.600 total time=  14.3s\n",
            "[CV 2/5] END C=1, class_weight={0: 0.2, 1: 3}, solver=newton-cg;, score=0.621 total time=   7.7s\n",
            "[CV 3/5] END C=1, class_weight={0: 0.2, 1: 3}, solver=newton-cg;, score=0.617 total time=   5.2s\n",
            "[CV 4/5] END C=1, class_weight={0: 0.2, 1: 3}, solver=newton-cg;, score=0.631 total time=   6.2s\n",
            "[CV 5/5] END C=1, class_weight={0: 0.2, 1: 3}, solver=newton-cg;, score=0.609 total time=   5.7s\n"
          ]
        },
        {
          "name": "stderr",
          "output_type": "stream",
          "text": [
            "/usr/local/lib/python3.7/dist-packages/sklearn/linear_model/_logistic.py:818: ConvergenceWarning: lbfgs failed to converge (status=1):\n",
            "STOP: TOTAL NO. of ITERATIONS REACHED LIMIT.\n",
            "\n",
            "Increase the number of iterations (max_iter) or scale the data as shown in:\n",
            "    https://scikit-learn.org/stable/modules/preprocessing.html\n",
            "Please also refer to the documentation for alternative solver options:\n",
            "    https://scikit-learn.org/stable/modules/linear_model.html#logistic-regression\n",
            "  extra_warning_msg=_LOGISTIC_SOLVER_CONVERGENCE_MSG,\n"
          ]
        },
        {
          "name": "stdout",
          "output_type": "stream",
          "text": [
            "[CV 1/5] END C=1, class_weight={0: 0.2, 1: 3}, solver=lbfgs;, score=0.600 total time=  12.6s\n"
          ]
        },
        {
          "name": "stderr",
          "output_type": "stream",
          "text": [
            "/usr/local/lib/python3.7/dist-packages/sklearn/linear_model/_logistic.py:818: ConvergenceWarning: lbfgs failed to converge (status=1):\n",
            "STOP: TOTAL NO. of ITERATIONS REACHED LIMIT.\n",
            "\n",
            "Increase the number of iterations (max_iter) or scale the data as shown in:\n",
            "    https://scikit-learn.org/stable/modules/preprocessing.html\n",
            "Please also refer to the documentation for alternative solver options:\n",
            "    https://scikit-learn.org/stable/modules/linear_model.html#logistic-regression\n",
            "  extra_warning_msg=_LOGISTIC_SOLVER_CONVERGENCE_MSG,\n"
          ]
        },
        {
          "name": "stdout",
          "output_type": "stream",
          "text": [
            "[CV 2/5] END C=1, class_weight={0: 0.2, 1: 3}, solver=lbfgs;, score=0.621 total time=  12.9s\n"
          ]
        },
        {
          "name": "stderr",
          "output_type": "stream",
          "text": [
            "/usr/local/lib/python3.7/dist-packages/sklearn/linear_model/_logistic.py:818: ConvergenceWarning: lbfgs failed to converge (status=1):\n",
            "STOP: TOTAL NO. of ITERATIONS REACHED LIMIT.\n",
            "\n",
            "Increase the number of iterations (max_iter) or scale the data as shown in:\n",
            "    https://scikit-learn.org/stable/modules/preprocessing.html\n",
            "Please also refer to the documentation for alternative solver options:\n",
            "    https://scikit-learn.org/stable/modules/linear_model.html#logistic-regression\n",
            "  extra_warning_msg=_LOGISTIC_SOLVER_CONVERGENCE_MSG,\n"
          ]
        },
        {
          "name": "stdout",
          "output_type": "stream",
          "text": [
            "[CV 3/5] END C=1, class_weight={0: 0.2, 1: 3}, solver=lbfgs;, score=0.617 total time=  14.2s\n"
          ]
        },
        {
          "name": "stderr",
          "output_type": "stream",
          "text": [
            "/usr/local/lib/python3.7/dist-packages/sklearn/linear_model/_logistic.py:818: ConvergenceWarning: lbfgs failed to converge (status=1):\n",
            "STOP: TOTAL NO. of ITERATIONS REACHED LIMIT.\n",
            "\n",
            "Increase the number of iterations (max_iter) or scale the data as shown in:\n",
            "    https://scikit-learn.org/stable/modules/preprocessing.html\n",
            "Please also refer to the documentation for alternative solver options:\n",
            "    https://scikit-learn.org/stable/modules/linear_model.html#logistic-regression\n",
            "  extra_warning_msg=_LOGISTIC_SOLVER_CONVERGENCE_MSG,\n"
          ]
        },
        {
          "name": "stdout",
          "output_type": "stream",
          "text": [
            "[CV 4/5] END C=1, class_weight={0: 0.2, 1: 3}, solver=lbfgs;, score=0.631 total time=  12.6s\n"
          ]
        },
        {
          "name": "stderr",
          "output_type": "stream",
          "text": [
            "/usr/local/lib/python3.7/dist-packages/sklearn/linear_model/_logistic.py:818: ConvergenceWarning: lbfgs failed to converge (status=1):\n",
            "STOP: TOTAL NO. of ITERATIONS REACHED LIMIT.\n",
            "\n",
            "Increase the number of iterations (max_iter) or scale the data as shown in:\n",
            "    https://scikit-learn.org/stable/modules/preprocessing.html\n",
            "Please also refer to the documentation for alternative solver options:\n",
            "    https://scikit-learn.org/stable/modules/linear_model.html#logistic-regression\n",
            "  extra_warning_msg=_LOGISTIC_SOLVER_CONVERGENCE_MSG,\n"
          ]
        },
        {
          "name": "stdout",
          "output_type": "stream",
          "text": [
            "[CV 5/5] END C=1, class_weight={0: 0.2, 1: 3}, solver=lbfgs;, score=0.609 total time=  12.7s\n"
          ]
        },
        {
          "name": "stderr",
          "output_type": "stream",
          "text": [
            "/usr/local/lib/python3.7/dist-packages/sklearn/linear_model/_sag.py:354: ConvergenceWarning: The max_iter was reached which means the coef_ did not converge\n",
            "  ConvergenceWarning,\n"
          ]
        },
        {
          "name": "stdout",
          "output_type": "stream",
          "text": [
            "[CV 1/5] END C=1, class_weight={0: 0.2, 1: 3}, solver=sag;, score=0.542 total time=   3.2s\n"
          ]
        },
        {
          "name": "stderr",
          "output_type": "stream",
          "text": [
            "/usr/local/lib/python3.7/dist-packages/sklearn/linear_model/_sag.py:354: ConvergenceWarning: The max_iter was reached which means the coef_ did not converge\n",
            "  ConvergenceWarning,\n"
          ]
        },
        {
          "name": "stdout",
          "output_type": "stream",
          "text": [
            "[CV 2/5] END C=1, class_weight={0: 0.2, 1: 3}, solver=sag;, score=0.538 total time=   3.2s\n"
          ]
        },
        {
          "name": "stderr",
          "output_type": "stream",
          "text": [
            "/usr/local/lib/python3.7/dist-packages/sklearn/linear_model/_sag.py:354: ConvergenceWarning: The max_iter was reached which means the coef_ did not converge\n",
            "  ConvergenceWarning,\n"
          ]
        },
        {
          "name": "stdout",
          "output_type": "stream",
          "text": [
            "[CV 3/5] END C=1, class_weight={0: 0.2, 1: 3}, solver=sag;, score=0.617 total time=   3.2s\n"
          ]
        },
        {
          "name": "stderr",
          "output_type": "stream",
          "text": [
            "/usr/local/lib/python3.7/dist-packages/sklearn/linear_model/_sag.py:354: ConvergenceWarning: The max_iter was reached which means the coef_ did not converge\n",
            "  ConvergenceWarning,\n"
          ]
        },
        {
          "name": "stdout",
          "output_type": "stream",
          "text": [
            "[CV 4/5] END C=1, class_weight={0: 0.2, 1: 3}, solver=sag;, score=0.537 total time=   3.2s\n"
          ]
        },
        {
          "name": "stderr",
          "output_type": "stream",
          "text": [
            "/usr/local/lib/python3.7/dist-packages/sklearn/linear_model/_sag.py:354: ConvergenceWarning: The max_iter was reached which means the coef_ did not converge\n",
            "  ConvergenceWarning,\n"
          ]
        },
        {
          "name": "stdout",
          "output_type": "stream",
          "text": [
            "[CV 5/5] END C=1, class_weight={0: 0.2, 1: 3}, solver=sag;, score=0.519 total time=   3.2s\n"
          ]
        },
        {
          "name": "stderr",
          "output_type": "stream",
          "text": [
            "/usr/local/lib/python3.7/dist-packages/sklearn/linear_model/_sag.py:354: ConvergenceWarning: The max_iter was reached which means the coef_ did not converge\n",
            "  ConvergenceWarning,\n"
          ]
        },
        {
          "name": "stdout",
          "output_type": "stream",
          "text": [
            "[CV 1/5] END C=1, class_weight={0: 0.2, 1: 3}, solver=saga;, score=0.490 total time=   3.9s\n"
          ]
        },
        {
          "name": "stderr",
          "output_type": "stream",
          "text": [
            "/usr/local/lib/python3.7/dist-packages/sklearn/linear_model/_sag.py:354: ConvergenceWarning: The max_iter was reached which means the coef_ did not converge\n",
            "  ConvergenceWarning,\n"
          ]
        },
        {
          "name": "stdout",
          "output_type": "stream",
          "text": [
            "[CV 2/5] END C=1, class_weight={0: 0.2, 1: 3}, solver=saga;, score=0.502 total time=   3.9s\n"
          ]
        },
        {
          "name": "stderr",
          "output_type": "stream",
          "text": [
            "/usr/local/lib/python3.7/dist-packages/sklearn/linear_model/_sag.py:354: ConvergenceWarning: The max_iter was reached which means the coef_ did not converge\n",
            "  ConvergenceWarning,\n"
          ]
        },
        {
          "name": "stdout",
          "output_type": "stream",
          "text": [
            "[CV 3/5] END C=1, class_weight={0: 0.2, 1: 3}, solver=saga;, score=0.567 total time=   3.8s\n"
          ]
        },
        {
          "name": "stderr",
          "output_type": "stream",
          "text": [
            "/usr/local/lib/python3.7/dist-packages/sklearn/linear_model/_sag.py:354: ConvergenceWarning: The max_iter was reached which means the coef_ did not converge\n",
            "  ConvergenceWarning,\n"
          ]
        },
        {
          "name": "stdout",
          "output_type": "stream",
          "text": [
            "[CV 4/5] END C=1, class_weight={0: 0.2, 1: 3}, solver=saga;, score=0.475 total time=   3.8s\n"
          ]
        },
        {
          "name": "stderr",
          "output_type": "stream",
          "text": [
            "/usr/local/lib/python3.7/dist-packages/sklearn/linear_model/_sag.py:354: ConvergenceWarning: The max_iter was reached which means the coef_ did not converge\n",
            "  ConvergenceWarning,\n"
          ]
        },
        {
          "name": "stdout",
          "output_type": "stream",
          "text": [
            "[CV 5/5] END C=1, class_weight={0: 0.2, 1: 3}, solver=saga;, score=0.479 total time=   3.8s\n",
            "[CV 1/5] END C=1, class_weight={0: 0.15, 1: 5}, solver=newton-cg;, score=0.603 total time=   6.4s\n",
            "[CV 2/5] END C=1, class_weight={0: 0.15, 1: 5}, solver=newton-cg;, score=0.624 total time=   5.9s\n",
            "[CV 3/5] END C=1, class_weight={0: 0.15, 1: 5}, solver=newton-cg;, score=0.648 total time=   6.0s\n",
            "[CV 4/5] END C=1, class_weight={0: 0.15, 1: 5}, solver=newton-cg;, score=0.654 total time=   6.6s\n",
            "[CV 5/5] END C=1, class_weight={0: 0.15, 1: 5}, solver=newton-cg;, score=0.623 total time=   7.0s\n"
          ]
        },
        {
          "name": "stderr",
          "output_type": "stream",
          "text": [
            "/usr/local/lib/python3.7/dist-packages/sklearn/linear_model/_logistic.py:818: ConvergenceWarning: lbfgs failed to converge (status=1):\n",
            "STOP: TOTAL NO. of ITERATIONS REACHED LIMIT.\n",
            "\n",
            "Increase the number of iterations (max_iter) or scale the data as shown in:\n",
            "    https://scikit-learn.org/stable/modules/preprocessing.html\n",
            "Please also refer to the documentation for alternative solver options:\n",
            "    https://scikit-learn.org/stable/modules/linear_model.html#logistic-regression\n",
            "  extra_warning_msg=_LOGISTIC_SOLVER_CONVERGENCE_MSG,\n"
          ]
        },
        {
          "name": "stdout",
          "output_type": "stream",
          "text": [
            "[CV 1/5] END C=1, class_weight={0: 0.15, 1: 5}, solver=lbfgs;, score=0.603 total time=  13.2s\n"
          ]
        },
        {
          "name": "stderr",
          "output_type": "stream",
          "text": [
            "/usr/local/lib/python3.7/dist-packages/sklearn/linear_model/_logistic.py:818: ConvergenceWarning: lbfgs failed to converge (status=1):\n",
            "STOP: TOTAL NO. of ITERATIONS REACHED LIMIT.\n",
            "\n",
            "Increase the number of iterations (max_iter) or scale the data as shown in:\n",
            "    https://scikit-learn.org/stable/modules/preprocessing.html\n",
            "Please also refer to the documentation for alternative solver options:\n",
            "    https://scikit-learn.org/stable/modules/linear_model.html#logistic-regression\n",
            "  extra_warning_msg=_LOGISTIC_SOLVER_CONVERGENCE_MSG,\n"
          ]
        },
        {
          "name": "stdout",
          "output_type": "stream",
          "text": [
            "[CV 2/5] END C=1, class_weight={0: 0.15, 1: 5}, solver=lbfgs;, score=0.624 total time=  13.2s\n"
          ]
        },
        {
          "name": "stderr",
          "output_type": "stream",
          "text": [
            "/usr/local/lib/python3.7/dist-packages/sklearn/linear_model/_logistic.py:818: ConvergenceWarning: lbfgs failed to converge (status=1):\n",
            "STOP: TOTAL NO. of ITERATIONS REACHED LIMIT.\n",
            "\n",
            "Increase the number of iterations (max_iter) or scale the data as shown in:\n",
            "    https://scikit-learn.org/stable/modules/preprocessing.html\n",
            "Please also refer to the documentation for alternative solver options:\n",
            "    https://scikit-learn.org/stable/modules/linear_model.html#logistic-regression\n",
            "  extra_warning_msg=_LOGISTIC_SOLVER_CONVERGENCE_MSG,\n"
          ]
        },
        {
          "name": "stdout",
          "output_type": "stream",
          "text": [
            "[CV 3/5] END C=1, class_weight={0: 0.15, 1: 5}, solver=lbfgs;, score=0.648 total time=  12.8s\n"
          ]
        },
        {
          "name": "stderr",
          "output_type": "stream",
          "text": [
            "/usr/local/lib/python3.7/dist-packages/sklearn/linear_model/_logistic.py:818: ConvergenceWarning: lbfgs failed to converge (status=1):\n",
            "STOP: TOTAL NO. of ITERATIONS REACHED LIMIT.\n",
            "\n",
            "Increase the number of iterations (max_iter) or scale the data as shown in:\n",
            "    https://scikit-learn.org/stable/modules/preprocessing.html\n",
            "Please also refer to the documentation for alternative solver options:\n",
            "    https://scikit-learn.org/stable/modules/linear_model.html#logistic-regression\n",
            "  extra_warning_msg=_LOGISTIC_SOLVER_CONVERGENCE_MSG,\n"
          ]
        },
        {
          "name": "stdout",
          "output_type": "stream",
          "text": [
            "[CV 4/5] END C=1, class_weight={0: 0.15, 1: 5}, solver=lbfgs;, score=0.654 total time=  12.9s\n"
          ]
        },
        {
          "name": "stderr",
          "output_type": "stream",
          "text": [
            "/usr/local/lib/python3.7/dist-packages/sklearn/linear_model/_logistic.py:818: ConvergenceWarning: lbfgs failed to converge (status=1):\n",
            "STOP: TOTAL NO. of ITERATIONS REACHED LIMIT.\n",
            "\n",
            "Increase the number of iterations (max_iter) or scale the data as shown in:\n",
            "    https://scikit-learn.org/stable/modules/preprocessing.html\n",
            "Please also refer to the documentation for alternative solver options:\n",
            "    https://scikit-learn.org/stable/modules/linear_model.html#logistic-regression\n",
            "  extra_warning_msg=_LOGISTIC_SOLVER_CONVERGENCE_MSG,\n"
          ]
        },
        {
          "name": "stdout",
          "output_type": "stream",
          "text": [
            "[CV 5/5] END C=1, class_weight={0: 0.15, 1: 5}, solver=lbfgs;, score=0.623 total time=  13.0s\n"
          ]
        },
        {
          "name": "stderr",
          "output_type": "stream",
          "text": [
            "/usr/local/lib/python3.7/dist-packages/sklearn/linear_model/_sag.py:354: ConvergenceWarning: The max_iter was reached which means the coef_ did not converge\n",
            "  ConvergenceWarning,\n"
          ]
        },
        {
          "name": "stdout",
          "output_type": "stream",
          "text": [
            "[CV 1/5] END C=1, class_weight={0: 0.15, 1: 5}, solver=sag;, score=0.450 total time=   3.2s\n"
          ]
        },
        {
          "name": "stderr",
          "output_type": "stream",
          "text": [
            "/usr/local/lib/python3.7/dist-packages/sklearn/linear_model/_sag.py:354: ConvergenceWarning: The max_iter was reached which means the coef_ did not converge\n",
            "  ConvergenceWarning,\n"
          ]
        },
        {
          "name": "stdout",
          "output_type": "stream",
          "text": [
            "[CV 2/5] END C=1, class_weight={0: 0.15, 1: 5}, solver=sag;, score=0.438 total time=   3.3s\n"
          ]
        },
        {
          "name": "stderr",
          "output_type": "stream",
          "text": [
            "/usr/local/lib/python3.7/dist-packages/sklearn/linear_model/_sag.py:354: ConvergenceWarning: The max_iter was reached which means the coef_ did not converge\n",
            "  ConvergenceWarning,\n"
          ]
        },
        {
          "name": "stdout",
          "output_type": "stream",
          "text": [
            "[CV 3/5] END C=1, class_weight={0: 0.15, 1: 5}, solver=sag;, score=0.548 total time=   3.2s\n"
          ]
        },
        {
          "name": "stderr",
          "output_type": "stream",
          "text": [
            "/usr/local/lib/python3.7/dist-packages/sklearn/linear_model/_sag.py:354: ConvergenceWarning: The max_iter was reached which means the coef_ did not converge\n",
            "  ConvergenceWarning,\n"
          ]
        },
        {
          "name": "stdout",
          "output_type": "stream",
          "text": [
            "[CV 4/5] END C=1, class_weight={0: 0.15, 1: 5}, solver=sag;, score=0.414 total time=   3.3s\n"
          ]
        },
        {
          "name": "stderr",
          "output_type": "stream",
          "text": [
            "/usr/local/lib/python3.7/dist-packages/sklearn/linear_model/_sag.py:354: ConvergenceWarning: The max_iter was reached which means the coef_ did not converge\n",
            "  ConvergenceWarning,\n"
          ]
        },
        {
          "name": "stdout",
          "output_type": "stream",
          "text": [
            "[CV 5/5] END C=1, class_weight={0: 0.15, 1: 5}, solver=sag;, score=0.433 total time=   3.3s\n"
          ]
        },
        {
          "name": "stderr",
          "output_type": "stream",
          "text": [
            "/usr/local/lib/python3.7/dist-packages/sklearn/linear_model/_sag.py:354: ConvergenceWarning: The max_iter was reached which means the coef_ did not converge\n",
            "  ConvergenceWarning,\n"
          ]
        },
        {
          "name": "stdout",
          "output_type": "stream",
          "text": [
            "[CV 1/5] END C=1, class_weight={0: 0.15, 1: 5}, solver=saga;, score=0.362 total time=   3.8s\n"
          ]
        },
        {
          "name": "stderr",
          "output_type": "stream",
          "text": [
            "/usr/local/lib/python3.7/dist-packages/sklearn/linear_model/_sag.py:354: ConvergenceWarning: The max_iter was reached which means the coef_ did not converge\n",
            "  ConvergenceWarning,\n"
          ]
        },
        {
          "name": "stdout",
          "output_type": "stream",
          "text": [
            "[CV 2/5] END C=1, class_weight={0: 0.15, 1: 5}, solver=saga;, score=0.380 total time=   3.9s\n"
          ]
        },
        {
          "name": "stderr",
          "output_type": "stream",
          "text": [
            "/usr/local/lib/python3.7/dist-packages/sklearn/linear_model/_sag.py:354: ConvergenceWarning: The max_iter was reached which means the coef_ did not converge\n",
            "  ConvergenceWarning,\n"
          ]
        },
        {
          "name": "stdout",
          "output_type": "stream",
          "text": [
            "[CV 3/5] END C=1, class_weight={0: 0.15, 1: 5}, solver=saga;, score=0.517 total time=   4.0s\n"
          ]
        },
        {
          "name": "stderr",
          "output_type": "stream",
          "text": [
            "/usr/local/lib/python3.7/dist-packages/sklearn/linear_model/_sag.py:354: ConvergenceWarning: The max_iter was reached which means the coef_ did not converge\n",
            "  ConvergenceWarning,\n"
          ]
        },
        {
          "name": "stdout",
          "output_type": "stream",
          "text": [
            "[CV 4/5] END C=1, class_weight={0: 0.15, 1: 5}, solver=saga;, score=0.332 total time=   3.9s\n"
          ]
        },
        {
          "name": "stderr",
          "output_type": "stream",
          "text": [
            "/usr/local/lib/python3.7/dist-packages/sklearn/linear_model/_sag.py:354: ConvergenceWarning: The max_iter was reached which means the coef_ did not converge\n",
            "  ConvergenceWarning,\n"
          ]
        },
        {
          "name": "stdout",
          "output_type": "stream",
          "text": [
            "[CV 5/5] END C=1, class_weight={0: 0.15, 1: 5}, solver=saga;, score=0.368 total time=   3.9s\n",
            "[CV 1/5] END C=10, class_weight={0: 0.15, 1: 1}, solver=newton-cg;, score=0.584 total time=   6.9s\n",
            "[CV 2/5] END C=10, class_weight={0: 0.15, 1: 1}, solver=newton-cg;, score=0.624 total time=   7.4s\n",
            "[CV 3/5] END C=10, class_weight={0: 0.15, 1: 1}, solver=newton-cg;, score=0.609 total time=   5.6s\n",
            "[CV 4/5] END C=10, class_weight={0: 0.15, 1: 1}, solver=newton-cg;, score=0.624 total time=   6.2s\n",
            "[CV 5/5] END C=10, class_weight={0: 0.15, 1: 1}, solver=newton-cg;, score=0.581 total time=   6.3s\n"
          ]
        },
        {
          "name": "stderr",
          "output_type": "stream",
          "text": [
            "/usr/local/lib/python3.7/dist-packages/sklearn/linear_model/_logistic.py:818: ConvergenceWarning: lbfgs failed to converge (status=1):\n",
            "STOP: TOTAL NO. of ITERATIONS REACHED LIMIT.\n",
            "\n",
            "Increase the number of iterations (max_iter) or scale the data as shown in:\n",
            "    https://scikit-learn.org/stable/modules/preprocessing.html\n",
            "Please also refer to the documentation for alternative solver options:\n",
            "    https://scikit-learn.org/stable/modules/linear_model.html#logistic-regression\n",
            "  extra_warning_msg=_LOGISTIC_SOLVER_CONVERGENCE_MSG,\n"
          ]
        },
        {
          "name": "stdout",
          "output_type": "stream",
          "text": [
            "[CV 1/5] END C=10, class_weight={0: 0.15, 1: 1}, solver=lbfgs;, score=0.584 total time=  13.4s\n"
          ]
        },
        {
          "name": "stderr",
          "output_type": "stream",
          "text": [
            "/usr/local/lib/python3.7/dist-packages/sklearn/linear_model/_logistic.py:818: ConvergenceWarning: lbfgs failed to converge (status=1):\n",
            "STOP: TOTAL NO. of ITERATIONS REACHED LIMIT.\n",
            "\n",
            "Increase the number of iterations (max_iter) or scale the data as shown in:\n",
            "    https://scikit-learn.org/stable/modules/preprocessing.html\n",
            "Please also refer to the documentation for alternative solver options:\n",
            "    https://scikit-learn.org/stable/modules/linear_model.html#logistic-regression\n",
            "  extra_warning_msg=_LOGISTIC_SOLVER_CONVERGENCE_MSG,\n"
          ]
        },
        {
          "name": "stdout",
          "output_type": "stream",
          "text": [
            "[CV 2/5] END C=10, class_weight={0: 0.15, 1: 1}, solver=lbfgs;, score=0.624 total time=  13.0s\n"
          ]
        },
        {
          "name": "stderr",
          "output_type": "stream",
          "text": [
            "/usr/local/lib/python3.7/dist-packages/sklearn/linear_model/_logistic.py:818: ConvergenceWarning: lbfgs failed to converge (status=1):\n",
            "STOP: TOTAL NO. of ITERATIONS REACHED LIMIT.\n",
            "\n",
            "Increase the number of iterations (max_iter) or scale the data as shown in:\n",
            "    https://scikit-learn.org/stable/modules/preprocessing.html\n",
            "Please also refer to the documentation for alternative solver options:\n",
            "    https://scikit-learn.org/stable/modules/linear_model.html#logistic-regression\n",
            "  extra_warning_msg=_LOGISTIC_SOLVER_CONVERGENCE_MSG,\n"
          ]
        },
        {
          "name": "stdout",
          "output_type": "stream",
          "text": [
            "[CV 3/5] END C=10, class_weight={0: 0.15, 1: 1}, solver=lbfgs;, score=0.609 total time=  13.4s\n"
          ]
        },
        {
          "name": "stderr",
          "output_type": "stream",
          "text": [
            "/usr/local/lib/python3.7/dist-packages/sklearn/linear_model/_logistic.py:818: ConvergenceWarning: lbfgs failed to converge (status=1):\n",
            "STOP: TOTAL NO. of ITERATIONS REACHED LIMIT.\n",
            "\n",
            "Increase the number of iterations (max_iter) or scale the data as shown in:\n",
            "    https://scikit-learn.org/stable/modules/preprocessing.html\n",
            "Please also refer to the documentation for alternative solver options:\n",
            "    https://scikit-learn.org/stable/modules/linear_model.html#logistic-regression\n",
            "  extra_warning_msg=_LOGISTIC_SOLVER_CONVERGENCE_MSG,\n"
          ]
        },
        {
          "name": "stdout",
          "output_type": "stream",
          "text": [
            "[CV 4/5] END C=10, class_weight={0: 0.15, 1: 1}, solver=lbfgs;, score=0.624 total time=  13.0s\n"
          ]
        },
        {
          "name": "stderr",
          "output_type": "stream",
          "text": [
            "/usr/local/lib/python3.7/dist-packages/sklearn/linear_model/_logistic.py:818: ConvergenceWarning: lbfgs failed to converge (status=1):\n",
            "STOP: TOTAL NO. of ITERATIONS REACHED LIMIT.\n",
            "\n",
            "Increase the number of iterations (max_iter) or scale the data as shown in:\n",
            "    https://scikit-learn.org/stable/modules/preprocessing.html\n",
            "Please also refer to the documentation for alternative solver options:\n",
            "    https://scikit-learn.org/stable/modules/linear_model.html#logistic-regression\n",
            "  extra_warning_msg=_LOGISTIC_SOLVER_CONVERGENCE_MSG,\n"
          ]
        },
        {
          "name": "stdout",
          "output_type": "stream",
          "text": [
            "[CV 5/5] END C=10, class_weight={0: 0.15, 1: 1}, solver=lbfgs;, score=0.581 total time=  13.0s\n"
          ]
        },
        {
          "name": "stderr",
          "output_type": "stream",
          "text": [
            "/usr/local/lib/python3.7/dist-packages/sklearn/linear_model/_sag.py:354: ConvergenceWarning: The max_iter was reached which means the coef_ did not converge\n",
            "  ConvergenceWarning,\n"
          ]
        },
        {
          "name": "stdout",
          "output_type": "stream",
          "text": [
            "[CV 1/5] END C=10, class_weight={0: 0.15, 1: 1}, solver=sag;, score=0.577 total time=   3.3s\n"
          ]
        },
        {
          "name": "stderr",
          "output_type": "stream",
          "text": [
            "/usr/local/lib/python3.7/dist-packages/sklearn/linear_model/_sag.py:354: ConvergenceWarning: The max_iter was reached which means the coef_ did not converge\n",
            "  ConvergenceWarning,\n"
          ]
        },
        {
          "name": "stdout",
          "output_type": "stream",
          "text": [
            "[CV 2/5] END C=10, class_weight={0: 0.15, 1: 1}, solver=sag;, score=0.640 total time=   3.4s\n"
          ]
        },
        {
          "name": "stderr",
          "output_type": "stream",
          "text": [
            "/usr/local/lib/python3.7/dist-packages/sklearn/linear_model/_sag.py:354: ConvergenceWarning: The max_iter was reached which means the coef_ did not converge\n",
            "  ConvergenceWarning,\n"
          ]
        },
        {
          "name": "stdout",
          "output_type": "stream",
          "text": [
            "[CV 3/5] END C=10, class_weight={0: 0.15, 1: 1}, solver=sag;, score=0.658 total time=   3.4s\n"
          ]
        },
        {
          "name": "stderr",
          "output_type": "stream",
          "text": [
            "/usr/local/lib/python3.7/dist-packages/sklearn/linear_model/_sag.py:354: ConvergenceWarning: The max_iter was reached which means the coef_ did not converge\n",
            "  ConvergenceWarning,\n"
          ]
        },
        {
          "name": "stdout",
          "output_type": "stream",
          "text": [
            "[CV 4/5] END C=10, class_weight={0: 0.15, 1: 1}, solver=sag;, score=0.632 total time=   3.3s\n"
          ]
        },
        {
          "name": "stderr",
          "output_type": "stream",
          "text": [
            "/usr/local/lib/python3.7/dist-packages/sklearn/linear_model/_sag.py:354: ConvergenceWarning: The max_iter was reached which means the coef_ did not converge\n",
            "  ConvergenceWarning,\n"
          ]
        },
        {
          "name": "stdout",
          "output_type": "stream",
          "text": [
            "[CV 5/5] END C=10, class_weight={0: 0.15, 1: 1}, solver=sag;, score=0.616 total time=   3.4s\n"
          ]
        },
        {
          "name": "stderr",
          "output_type": "stream",
          "text": [
            "/usr/local/lib/python3.7/dist-packages/sklearn/linear_model/_sag.py:354: ConvergenceWarning: The max_iter was reached which means the coef_ did not converge\n",
            "  ConvergenceWarning,\n"
          ]
        },
        {
          "name": "stdout",
          "output_type": "stream",
          "text": [
            "[CV 1/5] END C=10, class_weight={0: 0.15, 1: 1}, solver=saga;, score=0.565 total time=   4.0s\n"
          ]
        },
        {
          "name": "stderr",
          "output_type": "stream",
          "text": [
            "/usr/local/lib/python3.7/dist-packages/sklearn/linear_model/_sag.py:354: ConvergenceWarning: The max_iter was reached which means the coef_ did not converge\n",
            "  ConvergenceWarning,\n"
          ]
        },
        {
          "name": "stdout",
          "output_type": "stream",
          "text": [
            "[CV 2/5] END C=10, class_weight={0: 0.15, 1: 1}, solver=saga;, score=0.616 total time=   4.2s\n"
          ]
        },
        {
          "name": "stderr",
          "output_type": "stream",
          "text": [
            "/usr/local/lib/python3.7/dist-packages/sklearn/linear_model/_sag.py:354: ConvergenceWarning: The max_iter was reached which means the coef_ did not converge\n",
            "  ConvergenceWarning,\n"
          ]
        },
        {
          "name": "stdout",
          "output_type": "stream",
          "text": [
            "[CV 3/5] END C=10, class_weight={0: 0.15, 1: 1}, solver=saga;, score=0.648 total time=   4.1s\n"
          ]
        },
        {
          "name": "stderr",
          "output_type": "stream",
          "text": [
            "/usr/local/lib/python3.7/dist-packages/sklearn/linear_model/_sag.py:354: ConvergenceWarning: The max_iter was reached which means the coef_ did not converge\n",
            "  ConvergenceWarning,\n"
          ]
        },
        {
          "name": "stdout",
          "output_type": "stream",
          "text": [
            "[CV 4/5] END C=10, class_weight={0: 0.15, 1: 1}, solver=saga;, score=0.640 total time=   4.1s\n"
          ]
        },
        {
          "name": "stderr",
          "output_type": "stream",
          "text": [
            "/usr/local/lib/python3.7/dist-packages/sklearn/linear_model/_sag.py:354: ConvergenceWarning: The max_iter was reached which means the coef_ did not converge\n",
            "  ConvergenceWarning,\n"
          ]
        },
        {
          "name": "stdout",
          "output_type": "stream",
          "text": [
            "[CV 5/5] END C=10, class_weight={0: 0.15, 1: 1}, solver=saga;, score=0.612 total time=   4.2s\n",
            "[CV 1/5] END C=10, class_weight={0: 0.3, 1: 1}, solver=newton-cg;, score=0.573 total time=   6.4s\n",
            "[CV 2/5] END C=10, class_weight={0: 0.3, 1: 1}, solver=newton-cg;, score=0.619 total time=   6.4s\n",
            "[CV 3/5] END C=10, class_weight={0: 0.3, 1: 1}, solver=newton-cg;, score=0.604 total time=   6.4s\n",
            "[CV 4/5] END C=10, class_weight={0: 0.3, 1: 1}, solver=newton-cg;, score=0.623 total time=   5.9s\n",
            "[CV 5/5] END C=10, class_weight={0: 0.3, 1: 1}, solver=newton-cg;, score=0.590 total time=   6.4s\n"
          ]
        },
        {
          "name": "stderr",
          "output_type": "stream",
          "text": [
            "/usr/local/lib/python3.7/dist-packages/sklearn/linear_model/_logistic.py:818: ConvergenceWarning: lbfgs failed to converge (status=1):\n",
            "STOP: TOTAL NO. of ITERATIONS REACHED LIMIT.\n",
            "\n",
            "Increase the number of iterations (max_iter) or scale the data as shown in:\n",
            "    https://scikit-learn.org/stable/modules/preprocessing.html\n",
            "Please also refer to the documentation for alternative solver options:\n",
            "    https://scikit-learn.org/stable/modules/linear_model.html#logistic-regression\n",
            "  extra_warning_msg=_LOGISTIC_SOLVER_CONVERGENCE_MSG,\n"
          ]
        },
        {
          "name": "stdout",
          "output_type": "stream",
          "text": [
            "[CV 1/5] END C=10, class_weight={0: 0.3, 1: 1}, solver=lbfgs;, score=0.573 total time=  12.9s\n"
          ]
        },
        {
          "name": "stderr",
          "output_type": "stream",
          "text": [
            "/usr/local/lib/python3.7/dist-packages/sklearn/linear_model/_logistic.py:818: ConvergenceWarning: lbfgs failed to converge (status=1):\n",
            "STOP: TOTAL NO. of ITERATIONS REACHED LIMIT.\n",
            "\n",
            "Increase the number of iterations (max_iter) or scale the data as shown in:\n",
            "    https://scikit-learn.org/stable/modules/preprocessing.html\n",
            "Please also refer to the documentation for alternative solver options:\n",
            "    https://scikit-learn.org/stable/modules/linear_model.html#logistic-regression\n",
            "  extra_warning_msg=_LOGISTIC_SOLVER_CONVERGENCE_MSG,\n"
          ]
        },
        {
          "name": "stdout",
          "output_type": "stream",
          "text": [
            "[CV 2/5] END C=10, class_weight={0: 0.3, 1: 1}, solver=lbfgs;, score=0.619 total time=  13.3s\n"
          ]
        },
        {
          "name": "stderr",
          "output_type": "stream",
          "text": [
            "/usr/local/lib/python3.7/dist-packages/sklearn/linear_model/_logistic.py:818: ConvergenceWarning: lbfgs failed to converge (status=1):\n",
            "STOP: TOTAL NO. of ITERATIONS REACHED LIMIT.\n",
            "\n",
            "Increase the number of iterations (max_iter) or scale the data as shown in:\n",
            "    https://scikit-learn.org/stable/modules/preprocessing.html\n",
            "Please also refer to the documentation for alternative solver options:\n",
            "    https://scikit-learn.org/stable/modules/linear_model.html#logistic-regression\n",
            "  extra_warning_msg=_LOGISTIC_SOLVER_CONVERGENCE_MSG,\n"
          ]
        },
        {
          "name": "stdout",
          "output_type": "stream",
          "text": [
            "[CV 3/5] END C=10, class_weight={0: 0.3, 1: 1}, solver=lbfgs;, score=0.604 total time=  14.0s\n"
          ]
        },
        {
          "name": "stderr",
          "output_type": "stream",
          "text": [
            "/usr/local/lib/python3.7/dist-packages/sklearn/linear_model/_logistic.py:818: ConvergenceWarning: lbfgs failed to converge (status=1):\n",
            "STOP: TOTAL NO. of ITERATIONS REACHED LIMIT.\n",
            "\n",
            "Increase the number of iterations (max_iter) or scale the data as shown in:\n",
            "    https://scikit-learn.org/stable/modules/preprocessing.html\n",
            "Please also refer to the documentation for alternative solver options:\n",
            "    https://scikit-learn.org/stable/modules/linear_model.html#logistic-regression\n",
            "  extra_warning_msg=_LOGISTIC_SOLVER_CONVERGENCE_MSG,\n"
          ]
        },
        {
          "name": "stdout",
          "output_type": "stream",
          "text": [
            "[CV 4/5] END C=10, class_weight={0: 0.3, 1: 1}, solver=lbfgs;, score=0.623 total time=  12.9s\n"
          ]
        },
        {
          "name": "stderr",
          "output_type": "stream",
          "text": [
            "/usr/local/lib/python3.7/dist-packages/sklearn/linear_model/_logistic.py:818: ConvergenceWarning: lbfgs failed to converge (status=1):\n",
            "STOP: TOTAL NO. of ITERATIONS REACHED LIMIT.\n",
            "\n",
            "Increase the number of iterations (max_iter) or scale the data as shown in:\n",
            "    https://scikit-learn.org/stable/modules/preprocessing.html\n",
            "Please also refer to the documentation for alternative solver options:\n",
            "    https://scikit-learn.org/stable/modules/linear_model.html#logistic-regression\n",
            "  extra_warning_msg=_LOGISTIC_SOLVER_CONVERGENCE_MSG,\n"
          ]
        },
        {
          "name": "stdout",
          "output_type": "stream",
          "text": [
            "[CV 5/5] END C=10, class_weight={0: 0.3, 1: 1}, solver=lbfgs;, score=0.590 total time=  13.0s\n"
          ]
        },
        {
          "name": "stderr",
          "output_type": "stream",
          "text": [
            "/usr/local/lib/python3.7/dist-packages/sklearn/linear_model/_sag.py:354: ConvergenceWarning: The max_iter was reached which means the coef_ did not converge\n",
            "  ConvergenceWarning,\n"
          ]
        },
        {
          "name": "stdout",
          "output_type": "stream",
          "text": [
            "[CV 1/5] END C=10, class_weight={0: 0.3, 1: 1}, solver=sag;, score=0.586 total time=   3.0s\n"
          ]
        },
        {
          "name": "stderr",
          "output_type": "stream",
          "text": [
            "/usr/local/lib/python3.7/dist-packages/sklearn/linear_model/_sag.py:354: ConvergenceWarning: The max_iter was reached which means the coef_ did not converge\n",
            "  ConvergenceWarning,\n"
          ]
        },
        {
          "name": "stdout",
          "output_type": "stream",
          "text": [
            "[CV 2/5] END C=10, class_weight={0: 0.3, 1: 1}, solver=sag;, score=0.631 total time=   3.1s\n"
          ]
        },
        {
          "name": "stderr",
          "output_type": "stream",
          "text": [
            "/usr/local/lib/python3.7/dist-packages/sklearn/linear_model/_sag.py:354: ConvergenceWarning: The max_iter was reached which means the coef_ did not converge\n",
            "  ConvergenceWarning,\n"
          ]
        },
        {
          "name": "stdout",
          "output_type": "stream",
          "text": [
            "[CV 3/5] END C=10, class_weight={0: 0.3, 1: 1}, solver=sag;, score=0.635 total time=   3.0s\n"
          ]
        },
        {
          "name": "stderr",
          "output_type": "stream",
          "text": [
            "/usr/local/lib/python3.7/dist-packages/sklearn/linear_model/_sag.py:354: ConvergenceWarning: The max_iter was reached which means the coef_ did not converge\n",
            "  ConvergenceWarning,\n"
          ]
        },
        {
          "name": "stdout",
          "output_type": "stream",
          "text": [
            "[CV 4/5] END C=10, class_weight={0: 0.3, 1: 1}, solver=sag;, score=0.630 total time=   2.9s\n"
          ]
        },
        {
          "name": "stderr",
          "output_type": "stream",
          "text": [
            "/usr/local/lib/python3.7/dist-packages/sklearn/linear_model/_sag.py:354: ConvergenceWarning: The max_iter was reached which means the coef_ did not converge\n",
            "  ConvergenceWarning,\n"
          ]
        },
        {
          "name": "stdout",
          "output_type": "stream",
          "text": [
            "[CV 5/5] END C=10, class_weight={0: 0.3, 1: 1}, solver=sag;, score=0.595 total time=   3.0s\n"
          ]
        },
        {
          "name": "stderr",
          "output_type": "stream",
          "text": [
            "/usr/local/lib/python3.7/dist-packages/sklearn/linear_model/_sag.py:354: ConvergenceWarning: The max_iter was reached which means the coef_ did not converge\n",
            "  ConvergenceWarning,\n"
          ]
        },
        {
          "name": "stdout",
          "output_type": "stream",
          "text": [
            "[CV 1/5] END C=10, class_weight={0: 0.3, 1: 1}, solver=saga;, score=0.571 total time=   3.6s\n"
          ]
        },
        {
          "name": "stderr",
          "output_type": "stream",
          "text": [
            "/usr/local/lib/python3.7/dist-packages/sklearn/linear_model/_sag.py:354: ConvergenceWarning: The max_iter was reached which means the coef_ did not converge\n",
            "  ConvergenceWarning,\n"
          ]
        },
        {
          "name": "stdout",
          "output_type": "stream",
          "text": [
            "[CV 2/5] END C=10, class_weight={0: 0.3, 1: 1}, solver=saga;, score=0.631 total time=   3.7s\n"
          ]
        },
        {
          "name": "stderr",
          "output_type": "stream",
          "text": [
            "/usr/local/lib/python3.7/dist-packages/sklearn/linear_model/_sag.py:354: ConvergenceWarning: The max_iter was reached which means the coef_ did not converge\n",
            "  ConvergenceWarning,\n"
          ]
        },
        {
          "name": "stdout",
          "output_type": "stream",
          "text": [
            "[CV 3/5] END C=10, class_weight={0: 0.3, 1: 1}, solver=saga;, score=0.631 total time=   3.5s\n"
          ]
        },
        {
          "name": "stderr",
          "output_type": "stream",
          "text": [
            "/usr/local/lib/python3.7/dist-packages/sklearn/linear_model/_sag.py:354: ConvergenceWarning: The max_iter was reached which means the coef_ did not converge\n",
            "  ConvergenceWarning,\n"
          ]
        },
        {
          "name": "stdout",
          "output_type": "stream",
          "text": [
            "[CV 4/5] END C=10, class_weight={0: 0.3, 1: 1}, solver=saga;, score=0.627 total time=   3.6s\n"
          ]
        },
        {
          "name": "stderr",
          "output_type": "stream",
          "text": [
            "/usr/local/lib/python3.7/dist-packages/sklearn/linear_model/_sag.py:354: ConvergenceWarning: The max_iter was reached which means the coef_ did not converge\n",
            "  ConvergenceWarning,\n"
          ]
        },
        {
          "name": "stdout",
          "output_type": "stream",
          "text": [
            "[CV 5/5] END C=10, class_weight={0: 0.3, 1: 1}, solver=saga;, score=0.606 total time=   3.7s\n",
            "[CV 1/5] END C=10, class_weight={0: 0.2, 1: 3}, solver=newton-cg;, score=0.583 total time=   7.2s\n",
            "[CV 2/5] END C=10, class_weight={0: 0.2, 1: 3}, solver=newton-cg;, score=0.636 total time=   6.7s\n",
            "[CV 3/5] END C=10, class_weight={0: 0.2, 1: 3}, solver=newton-cg;, score=0.600 total time=   6.0s\n",
            "[CV 4/5] END C=10, class_weight={0: 0.2, 1: 3}, solver=newton-cg;, score=0.617 total time=   7.3s\n",
            "[CV 5/5] END C=10, class_weight={0: 0.2, 1: 3}, solver=newton-cg;, score=0.591 total time=   5.9s\n"
          ]
        },
        {
          "name": "stderr",
          "output_type": "stream",
          "text": [
            "/usr/local/lib/python3.7/dist-packages/sklearn/linear_model/_logistic.py:818: ConvergenceWarning: lbfgs failed to converge (status=1):\n",
            "STOP: TOTAL NO. of ITERATIONS REACHED LIMIT.\n",
            "\n",
            "Increase the number of iterations (max_iter) or scale the data as shown in:\n",
            "    https://scikit-learn.org/stable/modules/preprocessing.html\n",
            "Please also refer to the documentation for alternative solver options:\n",
            "    https://scikit-learn.org/stable/modules/linear_model.html#logistic-regression\n",
            "  extra_warning_msg=_LOGISTIC_SOLVER_CONVERGENCE_MSG,\n"
          ]
        },
        {
          "name": "stdout",
          "output_type": "stream",
          "text": [
            "[CV 1/5] END C=10, class_weight={0: 0.2, 1: 3}, solver=lbfgs;, score=0.583 total time=  13.4s\n"
          ]
        },
        {
          "name": "stderr",
          "output_type": "stream",
          "text": [
            "/usr/local/lib/python3.7/dist-packages/sklearn/linear_model/_logistic.py:818: ConvergenceWarning: lbfgs failed to converge (status=1):\n",
            "STOP: TOTAL NO. of ITERATIONS REACHED LIMIT.\n",
            "\n",
            "Increase the number of iterations (max_iter) or scale the data as shown in:\n",
            "    https://scikit-learn.org/stable/modules/preprocessing.html\n",
            "Please also refer to the documentation for alternative solver options:\n",
            "    https://scikit-learn.org/stable/modules/linear_model.html#logistic-regression\n",
            "  extra_warning_msg=_LOGISTIC_SOLVER_CONVERGENCE_MSG,\n"
          ]
        },
        {
          "name": "stdout",
          "output_type": "stream",
          "text": [
            "[CV 2/5] END C=10, class_weight={0: 0.2, 1: 3}, solver=lbfgs;, score=0.636 total time=  13.7s\n"
          ]
        },
        {
          "name": "stderr",
          "output_type": "stream",
          "text": [
            "/usr/local/lib/python3.7/dist-packages/sklearn/linear_model/_logistic.py:818: ConvergenceWarning: lbfgs failed to converge (status=1):\n",
            "STOP: TOTAL NO. of ITERATIONS REACHED LIMIT.\n",
            "\n",
            "Increase the number of iterations (max_iter) or scale the data as shown in:\n",
            "    https://scikit-learn.org/stable/modules/preprocessing.html\n",
            "Please also refer to the documentation for alternative solver options:\n",
            "    https://scikit-learn.org/stable/modules/linear_model.html#logistic-regression\n",
            "  extra_warning_msg=_LOGISTIC_SOLVER_CONVERGENCE_MSG,\n"
          ]
        },
        {
          "name": "stdout",
          "output_type": "stream",
          "text": [
            "[CV 3/5] END C=10, class_weight={0: 0.2, 1: 3}, solver=lbfgs;, score=0.600 total time=  13.1s\n"
          ]
        },
        {
          "name": "stderr",
          "output_type": "stream",
          "text": [
            "/usr/local/lib/python3.7/dist-packages/sklearn/linear_model/_logistic.py:818: ConvergenceWarning: lbfgs failed to converge (status=1):\n",
            "STOP: TOTAL NO. of ITERATIONS REACHED LIMIT.\n",
            "\n",
            "Increase the number of iterations (max_iter) or scale the data as shown in:\n",
            "    https://scikit-learn.org/stable/modules/preprocessing.html\n",
            "Please also refer to the documentation for alternative solver options:\n",
            "    https://scikit-learn.org/stable/modules/linear_model.html#logistic-regression\n",
            "  extra_warning_msg=_LOGISTIC_SOLVER_CONVERGENCE_MSG,\n"
          ]
        },
        {
          "name": "stdout",
          "output_type": "stream",
          "text": [
            "[CV 4/5] END C=10, class_weight={0: 0.2, 1: 3}, solver=lbfgs;, score=0.617 total time=  13.3s\n"
          ]
        },
        {
          "name": "stderr",
          "output_type": "stream",
          "text": [
            "/usr/local/lib/python3.7/dist-packages/sklearn/linear_model/_logistic.py:818: ConvergenceWarning: lbfgs failed to converge (status=1):\n",
            "STOP: TOTAL NO. of ITERATIONS REACHED LIMIT.\n",
            "\n",
            "Increase the number of iterations (max_iter) or scale the data as shown in:\n",
            "    https://scikit-learn.org/stable/modules/preprocessing.html\n",
            "Please also refer to the documentation for alternative solver options:\n",
            "    https://scikit-learn.org/stable/modules/linear_model.html#logistic-regression\n",
            "  extra_warning_msg=_LOGISTIC_SOLVER_CONVERGENCE_MSG,\n"
          ]
        },
        {
          "name": "stdout",
          "output_type": "stream",
          "text": [
            "[CV 5/5] END C=10, class_weight={0: 0.2, 1: 3}, solver=lbfgs;, score=0.591 total time=  13.5s\n"
          ]
        },
        {
          "name": "stderr",
          "output_type": "stream",
          "text": [
            "/usr/local/lib/python3.7/dist-packages/sklearn/linear_model/_sag.py:354: ConvergenceWarning: The max_iter was reached which means the coef_ did not converge\n",
            "  ConvergenceWarning,\n"
          ]
        },
        {
          "name": "stdout",
          "output_type": "stream",
          "text": [
            "[CV 1/5] END C=10, class_weight={0: 0.2, 1: 3}, solver=sag;, score=0.542 total time=   3.1s\n"
          ]
        },
        {
          "name": "stderr",
          "output_type": "stream",
          "text": [
            "/usr/local/lib/python3.7/dist-packages/sklearn/linear_model/_sag.py:354: ConvergenceWarning: The max_iter was reached which means the coef_ did not converge\n",
            "  ConvergenceWarning,\n"
          ]
        },
        {
          "name": "stdout",
          "output_type": "stream",
          "text": [
            "[CV 2/5] END C=10, class_weight={0: 0.2, 1: 3}, solver=sag;, score=0.538 total time=   3.1s\n"
          ]
        },
        {
          "name": "stderr",
          "output_type": "stream",
          "text": [
            "/usr/local/lib/python3.7/dist-packages/sklearn/linear_model/_sag.py:354: ConvergenceWarning: The max_iter was reached which means the coef_ did not converge\n",
            "  ConvergenceWarning,\n"
          ]
        },
        {
          "name": "stdout",
          "output_type": "stream",
          "text": [
            "[CV 3/5] END C=10, class_weight={0: 0.2, 1: 3}, solver=sag;, score=0.621 total time=   3.0s\n"
          ]
        },
        {
          "name": "stderr",
          "output_type": "stream",
          "text": [
            "/usr/local/lib/python3.7/dist-packages/sklearn/linear_model/_sag.py:354: ConvergenceWarning: The max_iter was reached which means the coef_ did not converge\n",
            "  ConvergenceWarning,\n"
          ]
        },
        {
          "name": "stdout",
          "output_type": "stream",
          "text": [
            "[CV 4/5] END C=10, class_weight={0: 0.2, 1: 3}, solver=sag;, score=0.537 total time=   3.1s\n"
          ]
        },
        {
          "name": "stderr",
          "output_type": "stream",
          "text": [
            "/usr/local/lib/python3.7/dist-packages/sklearn/linear_model/_sag.py:354: ConvergenceWarning: The max_iter was reached which means the coef_ did not converge\n",
            "  ConvergenceWarning,\n"
          ]
        },
        {
          "name": "stdout",
          "output_type": "stream",
          "text": [
            "[CV 5/5] END C=10, class_weight={0: 0.2, 1: 3}, solver=sag;, score=0.519 total time=   3.1s\n"
          ]
        },
        {
          "name": "stderr",
          "output_type": "stream",
          "text": [
            "/usr/local/lib/python3.7/dist-packages/sklearn/linear_model/_sag.py:354: ConvergenceWarning: The max_iter was reached which means the coef_ did not converge\n",
            "  ConvergenceWarning,\n"
          ]
        },
        {
          "name": "stdout",
          "output_type": "stream",
          "text": [
            "[CV 1/5] END C=10, class_weight={0: 0.2, 1: 3}, solver=saga;, score=0.491 total time=   3.8s\n"
          ]
        },
        {
          "name": "stderr",
          "output_type": "stream",
          "text": [
            "/usr/local/lib/python3.7/dist-packages/sklearn/linear_model/_sag.py:354: ConvergenceWarning: The max_iter was reached which means the coef_ did not converge\n",
            "  ConvergenceWarning,\n"
          ]
        },
        {
          "name": "stdout",
          "output_type": "stream",
          "text": [
            "[CV 2/5] END C=10, class_weight={0: 0.2, 1: 3}, solver=saga;, score=0.502 total time=   3.8s\n"
          ]
        },
        {
          "name": "stderr",
          "output_type": "stream",
          "text": [
            "/usr/local/lib/python3.7/dist-packages/sklearn/linear_model/_sag.py:354: ConvergenceWarning: The max_iter was reached which means the coef_ did not converge\n",
            "  ConvergenceWarning,\n"
          ]
        },
        {
          "name": "stdout",
          "output_type": "stream",
          "text": [
            "[CV 3/5] END C=10, class_weight={0: 0.2, 1: 3}, solver=saga;, score=0.568 total time=   3.7s\n"
          ]
        },
        {
          "name": "stderr",
          "output_type": "stream",
          "text": [
            "/usr/local/lib/python3.7/dist-packages/sklearn/linear_model/_sag.py:354: ConvergenceWarning: The max_iter was reached which means the coef_ did not converge\n",
            "  ConvergenceWarning,\n"
          ]
        },
        {
          "name": "stdout",
          "output_type": "stream",
          "text": [
            "[CV 4/5] END C=10, class_weight={0: 0.2, 1: 3}, solver=saga;, score=0.475 total time=   3.8s\n"
          ]
        },
        {
          "name": "stderr",
          "output_type": "stream",
          "text": [
            "/usr/local/lib/python3.7/dist-packages/sklearn/linear_model/_sag.py:354: ConvergenceWarning: The max_iter was reached which means the coef_ did not converge\n",
            "  ConvergenceWarning,\n"
          ]
        },
        {
          "name": "stdout",
          "output_type": "stream",
          "text": [
            "[CV 5/5] END C=10, class_weight={0: 0.2, 1: 3}, solver=saga;, score=0.477 total time=   3.7s\n",
            "[CV 1/5] END C=10, class_weight={0: 0.15, 1: 5}, solver=newton-cg;, score=0.582 total time=   8.0s\n",
            "[CV 2/5] END C=10, class_weight={0: 0.15, 1: 5}, solver=newton-cg;, score=0.629 total time=   6.9s\n",
            "[CV 3/5] END C=10, class_weight={0: 0.15, 1: 5}, solver=newton-cg;, score=0.623 total time=   6.7s\n",
            "[CV 4/5] END C=10, class_weight={0: 0.15, 1: 5}, solver=newton-cg;, score=0.649 total time=   7.1s\n",
            "[CV 5/5] END C=10, class_weight={0: 0.15, 1: 5}, solver=newton-cg;, score=0.614 total time=   7.2s\n"
          ]
        },
        {
          "name": "stderr",
          "output_type": "stream",
          "text": [
            "/usr/local/lib/python3.7/dist-packages/sklearn/linear_model/_logistic.py:818: ConvergenceWarning: lbfgs failed to converge (status=1):\n",
            "STOP: TOTAL NO. of ITERATIONS REACHED LIMIT.\n",
            "\n",
            "Increase the number of iterations (max_iter) or scale the data as shown in:\n",
            "    https://scikit-learn.org/stable/modules/preprocessing.html\n",
            "Please also refer to the documentation for alternative solver options:\n",
            "    https://scikit-learn.org/stable/modules/linear_model.html#logistic-regression\n",
            "  extra_warning_msg=_LOGISTIC_SOLVER_CONVERGENCE_MSG,\n"
          ]
        },
        {
          "name": "stdout",
          "output_type": "stream",
          "text": [
            "[CV 1/5] END C=10, class_weight={0: 0.15, 1: 5}, solver=lbfgs;, score=0.576 total time=  13.1s\n"
          ]
        },
        {
          "name": "stderr",
          "output_type": "stream",
          "text": [
            "/usr/local/lib/python3.7/dist-packages/sklearn/linear_model/_logistic.py:818: ConvergenceWarning: lbfgs failed to converge (status=1):\n",
            "STOP: TOTAL NO. of ITERATIONS REACHED LIMIT.\n",
            "\n",
            "Increase the number of iterations (max_iter) or scale the data as shown in:\n",
            "    https://scikit-learn.org/stable/modules/preprocessing.html\n",
            "Please also refer to the documentation for alternative solver options:\n",
            "    https://scikit-learn.org/stable/modules/linear_model.html#logistic-regression\n",
            "  extra_warning_msg=_LOGISTIC_SOLVER_CONVERGENCE_MSG,\n"
          ]
        },
        {
          "name": "stdout",
          "output_type": "stream",
          "text": [
            "[CV 2/5] END C=10, class_weight={0: 0.15, 1: 5}, solver=lbfgs;, score=0.629 total time=  13.6s\n"
          ]
        },
        {
          "name": "stderr",
          "output_type": "stream",
          "text": [
            "/usr/local/lib/python3.7/dist-packages/sklearn/linear_model/_logistic.py:818: ConvergenceWarning: lbfgs failed to converge (status=1):\n",
            "STOP: TOTAL NO. of ITERATIONS REACHED LIMIT.\n",
            "\n",
            "Increase the number of iterations (max_iter) or scale the data as shown in:\n",
            "    https://scikit-learn.org/stable/modules/preprocessing.html\n",
            "Please also refer to the documentation for alternative solver options:\n",
            "    https://scikit-learn.org/stable/modules/linear_model.html#logistic-regression\n",
            "  extra_warning_msg=_LOGISTIC_SOLVER_CONVERGENCE_MSG,\n"
          ]
        },
        {
          "name": "stdout",
          "output_type": "stream",
          "text": [
            "[CV 3/5] END C=10, class_weight={0: 0.15, 1: 5}, solver=lbfgs;, score=0.623 total time=  13.2s\n"
          ]
        },
        {
          "name": "stderr",
          "output_type": "stream",
          "text": [
            "/usr/local/lib/python3.7/dist-packages/sklearn/linear_model/_logistic.py:818: ConvergenceWarning: lbfgs failed to converge (status=1):\n",
            "STOP: TOTAL NO. of ITERATIONS REACHED LIMIT.\n",
            "\n",
            "Increase the number of iterations (max_iter) or scale the data as shown in:\n",
            "    https://scikit-learn.org/stable/modules/preprocessing.html\n",
            "Please also refer to the documentation for alternative solver options:\n",
            "    https://scikit-learn.org/stable/modules/linear_model.html#logistic-regression\n",
            "  extra_warning_msg=_LOGISTIC_SOLVER_CONVERGENCE_MSG,\n"
          ]
        },
        {
          "name": "stdout",
          "output_type": "stream",
          "text": [
            "[CV 4/5] END C=10, class_weight={0: 0.15, 1: 5}, solver=lbfgs;, score=0.649 total time=  13.2s\n"
          ]
        },
        {
          "name": "stderr",
          "output_type": "stream",
          "text": [
            "/usr/local/lib/python3.7/dist-packages/sklearn/linear_model/_logistic.py:818: ConvergenceWarning: lbfgs failed to converge (status=1):\n",
            "STOP: TOTAL NO. of ITERATIONS REACHED LIMIT.\n",
            "\n",
            "Increase the number of iterations (max_iter) or scale the data as shown in:\n",
            "    https://scikit-learn.org/stable/modules/preprocessing.html\n",
            "Please also refer to the documentation for alternative solver options:\n",
            "    https://scikit-learn.org/stable/modules/linear_model.html#logistic-regression\n",
            "  extra_warning_msg=_LOGISTIC_SOLVER_CONVERGENCE_MSG,\n"
          ]
        },
        {
          "name": "stdout",
          "output_type": "stream",
          "text": [
            "[CV 5/5] END C=10, class_weight={0: 0.15, 1: 5}, solver=lbfgs;, score=0.614 total time=  13.0s\n"
          ]
        },
        {
          "name": "stderr",
          "output_type": "stream",
          "text": [
            "/usr/local/lib/python3.7/dist-packages/sklearn/linear_model/_sag.py:354: ConvergenceWarning: The max_iter was reached which means the coef_ did not converge\n",
            "  ConvergenceWarning,\n"
          ]
        },
        {
          "name": "stdout",
          "output_type": "stream",
          "text": [
            "[CV 1/5] END C=10, class_weight={0: 0.15, 1: 5}, solver=sag;, score=0.449 total time=   2.8s\n"
          ]
        },
        {
          "name": "stderr",
          "output_type": "stream",
          "text": [
            "/usr/local/lib/python3.7/dist-packages/sklearn/linear_model/_sag.py:354: ConvergenceWarning: The max_iter was reached which means the coef_ did not converge\n",
            "  ConvergenceWarning,\n"
          ]
        },
        {
          "name": "stdout",
          "output_type": "stream",
          "text": [
            "[CV 2/5] END C=10, class_weight={0: 0.15, 1: 5}, solver=sag;, score=0.437 total time=   3.0s\n"
          ]
        },
        {
          "name": "stderr",
          "output_type": "stream",
          "text": [
            "/usr/local/lib/python3.7/dist-packages/sklearn/linear_model/_sag.py:354: ConvergenceWarning: The max_iter was reached which means the coef_ did not converge\n",
            "  ConvergenceWarning,\n"
          ]
        },
        {
          "name": "stdout",
          "output_type": "stream",
          "text": [
            "[CV 3/5] END C=10, class_weight={0: 0.15, 1: 5}, solver=sag;, score=0.549 total time=   2.9s\n"
          ]
        },
        {
          "name": "stderr",
          "output_type": "stream",
          "text": [
            "/usr/local/lib/python3.7/dist-packages/sklearn/linear_model/_sag.py:354: ConvergenceWarning: The max_iter was reached which means the coef_ did not converge\n",
            "  ConvergenceWarning,\n"
          ]
        },
        {
          "name": "stdout",
          "output_type": "stream",
          "text": [
            "[CV 4/5] END C=10, class_weight={0: 0.15, 1: 5}, solver=sag;, score=0.421 total time=   3.0s\n"
          ]
        },
        {
          "name": "stderr",
          "output_type": "stream",
          "text": [
            "/usr/local/lib/python3.7/dist-packages/sklearn/linear_model/_sag.py:354: ConvergenceWarning: The max_iter was reached which means the coef_ did not converge\n",
            "  ConvergenceWarning,\n"
          ]
        },
        {
          "name": "stdout",
          "output_type": "stream",
          "text": [
            "[CV 5/5] END C=10, class_weight={0: 0.15, 1: 5}, solver=sag;, score=0.431 total time=   3.1s\n"
          ]
        },
        {
          "name": "stderr",
          "output_type": "stream",
          "text": [
            "/usr/local/lib/python3.7/dist-packages/sklearn/linear_model/_sag.py:354: ConvergenceWarning: The max_iter was reached which means the coef_ did not converge\n",
            "  ConvergenceWarning,\n"
          ]
        },
        {
          "name": "stdout",
          "output_type": "stream",
          "text": [
            "[CV 1/5] END C=10, class_weight={0: 0.15, 1: 5}, solver=saga;, score=0.361 total time=   3.7s\n"
          ]
        },
        {
          "name": "stderr",
          "output_type": "stream",
          "text": [
            "/usr/local/lib/python3.7/dist-packages/sklearn/linear_model/_sag.py:354: ConvergenceWarning: The max_iter was reached which means the coef_ did not converge\n",
            "  ConvergenceWarning,\n"
          ]
        },
        {
          "name": "stdout",
          "output_type": "stream",
          "text": [
            "[CV 2/5] END C=10, class_weight={0: 0.15, 1: 5}, solver=saga;, score=0.379 total time=   3.7s\n"
          ]
        },
        {
          "name": "stderr",
          "output_type": "stream",
          "text": [
            "/usr/local/lib/python3.7/dist-packages/sklearn/linear_model/_sag.py:354: ConvergenceWarning: The max_iter was reached which means the coef_ did not converge\n",
            "  ConvergenceWarning,\n"
          ]
        },
        {
          "name": "stdout",
          "output_type": "stream",
          "text": [
            "[CV 3/5] END C=10, class_weight={0: 0.15, 1: 5}, solver=saga;, score=0.517 total time=   3.6s\n"
          ]
        },
        {
          "name": "stderr",
          "output_type": "stream",
          "text": [
            "/usr/local/lib/python3.7/dist-packages/sklearn/linear_model/_sag.py:354: ConvergenceWarning: The max_iter was reached which means the coef_ did not converge\n",
            "  ConvergenceWarning,\n"
          ]
        },
        {
          "name": "stdout",
          "output_type": "stream",
          "text": [
            "[CV 4/5] END C=10, class_weight={0: 0.15, 1: 5}, solver=saga;, score=0.329 total time=   3.6s\n"
          ]
        },
        {
          "name": "stderr",
          "output_type": "stream",
          "text": [
            "/usr/local/lib/python3.7/dist-packages/sklearn/linear_model/_sag.py:354: ConvergenceWarning: The max_iter was reached which means the coef_ did not converge\n",
            "  ConvergenceWarning,\n"
          ]
        },
        {
          "name": "stdout",
          "output_type": "stream",
          "text": [
            "[CV 5/5] END C=10, class_weight={0: 0.15, 1: 5}, solver=saga;, score=0.368 total time=   3.7s\n"
          ]
        },
        {
          "data": {
            "text/plain": [
              "GridSearchCV(estimator=LogisticRegression(),\n",
              "             param_grid={'C': [0.01, 0.1, 1, 10],\n",
              "                         'class_weight': [{0: 0.15, 1: 1}, {0: 0.3, 1: 1},\n",
              "                                          {0: 0.2, 1: 3}, {0: 0.15, 1: 5}],\n",
              "                         'solver': ['newton-cg', 'lbfgs', 'sag', 'saga']},\n",
              "             scoring='f1_macro', verbose=3)"
            ]
          },
          "execution_count": 40,
          "metadata": {},
          "output_type": "execute_result"
        }
      ],
      "source": [
        "lrm_grid.fit(X_train_bow,y_train_bow)"
      ]
    },
    {
      "cell_type": "code",
      "execution_count": null,
      "metadata": {
        "colab": {
          "base_uri": "https://localhost:8080/"
        },
        "id": "jvLJYp0QWXNn",
        "outputId": "f19ea2e6-d92c-4c25-86c3-9f85af87a041"
      },
      "outputs": [
        {
          "data": {
            "text/plain": [
              "{'C': 0.01, 'class_weight': {0: 0.15, 1: 1}, 'solver': 'newton-cg'}"
            ]
          },
          "execution_count": 41,
          "metadata": {},
          "output_type": "execute_result"
        }
      ],
      "source": [
        "lrm_grid.best_params_"
      ]
    },
    {
      "cell_type": "code",
      "execution_count": null,
      "metadata": {
        "colab": {
          "base_uri": "https://localhost:8080/",
          "height": 399
        },
        "id": "RF4QVsnXbjgc",
        "outputId": "9ddf9ab1-a343-4544-bd36-f5e7abc4bae3"
      },
      "outputs": [
        {
          "name": "stdout",
          "output_type": "stream",
          "text": [
            "f1-score macro: 0.6536365083154293\n",
            "f1-score micro: 0.8177014531043593\n",
            "accuracy score: 0.8177014531043593\n",
            "recall score: 0.6606104651162791\n",
            "precision score: 0.6478176119859349\n",
            "ROCAUC score: 0.6606104651162791\n"
          ]
        },
        {
          "data": {
            "image/png": "[encoded data removed]",
            "text/plain": [
              "<Figure size 432x288 with 2 Axes>"
            ]
          },
          "metadata": {
            "needs_background": "light"
          },
          "output_type": "display_data"
        }
      ],
      "source": [
        "model_bow = LogisticRegression(C=0.01, class_weight={0:0.15, 1:1}, solver='newton-cg')\n",
        "model_bow.fit(X_train_bow, y_train_bow)\n",
        "y_pred_bow = model_bow.predict(X_test_bow)\n",
        "print_evaluation(y_test_bow, y_pred_bow)"
      ]
    },
    {
      "cell_type": "markdown",
      "metadata": {
        "id": "LrnHH5Kamya2"
      },
      "source": [
        "# Naive Bayes"
      ]
    },
    {
      "cell_type": "code",
      "execution_count": null,
      "metadata": {
        "id": "guZAxjKDi5wV"
      },
      "outputs": [],
      "source": [
        "from sklearn import naive_bayes"
      ]
    },
    {
      "cell_type": "code",
      "execution_count": null,
      "metadata": {
        "id": "BkpuZpGiWyCG"
      },
      "outputs": [],
      "source": [
        "# logistic regression model tuning\n",
        "lrm_param_grid = {'alpha': [0.01, 0.1, 1, 10]} \n",
        "lrm_grid = GridSearchCV(naive_bayes.MultinomialNB(),\n",
        "                        lrm_param_grid,\n",
        "                        refit=True,\n",
        "                        verbose=3,\n",
        "                        scoring='f1_macro')"
      ]
    },
    {
      "cell_type": "markdown",
      "metadata": {
        "id": "6EQJiuvUnvs8"
      },
      "source": [
        "## tfidf"
      ]
    },
    {
      "cell_type": "code",
      "execution_count": null,
      "metadata": {
        "colab": {
          "base_uri": "https://localhost:8080/"
        },
        "id": "dRwobv7aiy31",
        "outputId": "ed4179dd-ff5f-4341-9c82-852520012af4"
      },
      "outputs": [
        {
          "name": "stdout",
          "output_type": "stream",
          "text": [
            "Fitting 5 folds for each of 4 candidates, totalling 20 fits\n",
            "[CV 1/5] END ........................alpha=0.01;, score=0.449 total time=   0.1s\n",
            "[CV 2/5] END ........................alpha=0.01;, score=0.459 total time=   0.1s\n",
            "[CV 3/5] END ........................alpha=0.01;, score=0.450 total time=   0.1s\n",
            "[CV 4/5] END ........................alpha=0.01;, score=0.437 total time=   0.1s\n",
            "[CV 5/5] END ........................alpha=0.01;, score=0.481 total time=   0.1s\n",
            "[CV 1/5] END .........................alpha=0.1;, score=0.463 total time=   0.1s\n",
            "[CV 2/5] END .........................alpha=0.1;, score=0.463 total time=   0.1s\n",
            "[CV 3/5] END .........................alpha=0.1;, score=0.463 total time=   0.1s\n",
            "[CV 4/5] END .........................alpha=0.1;, score=0.464 total time=   0.1s\n",
            "[CV 5/5] END .........................alpha=0.1;, score=0.464 total time=   0.1s\n",
            "[CV 1/5] END ...........................alpha=1;, score=0.464 total time=   0.0s\n",
            "[CV 2/5] END ...........................alpha=1;, score=0.464 total time=   0.1s\n",
            "[CV 3/5] END ...........................alpha=1;, score=0.464 total time=   0.1s\n",
            "[CV 4/5] END ...........................alpha=1;, score=0.464 total time=   0.0s\n",
            "[CV 5/5] END ...........................alpha=1;, score=0.464 total time=   0.0s\n",
            "[CV 1/5] END ..........................alpha=10;, score=0.464 total time=   0.1s\n",
            "[CV 2/5] END ..........................alpha=10;, score=0.464 total time=   0.0s\n",
            "[CV 3/5] END ..........................alpha=10;, score=0.464 total time=   0.1s\n",
            "[CV 4/5] END ..........................alpha=10;, score=0.464 total time=   0.0s\n",
            "[CV 5/5] END ..........................alpha=10;, score=0.464 total time=   0.1s\n"
          ]
        },
        {
          "data": {
            "text/plain": [
              "GridSearchCV(estimator=MultinomialNB(),\n",
              "             param_grid={'alpha': [0.01, 0.1, 1, 10]}, scoring='f1_macro',\n",
              "             verbose=3)"
            ]
          },
          "execution_count": 22,
          "metadata": {},
          "output_type": "execute_result"
        }
      ],
      "source": [
        "lrm_grid.fit(X_train_tfidf,y_train_tfidf)"
      ]
    },
    {
      "cell_type": "code",
      "execution_count": null,
      "metadata": {
        "colab": {
          "base_uri": "https://localhost:8080/"
        },
        "id": "G8K0dO3aiqQu",
        "outputId": "b96303dd-6b34-4817-9ef9-8b3e199ed9bf"
      },
      "outputs": [
        {
          "data": {
            "text/plain": [
              "{'alpha': 1}"
            ]
          },
          "execution_count": 23,
          "metadata": {},
          "output_type": "execute_result"
        }
      ],
      "source": [
        "lrm_grid.best_params_"
      ]
    },
    {
      "cell_type": "code",
      "execution_count": null,
      "metadata": {
        "colab": {
          "base_uri": "https://localhost:8080/",
          "height": 454
        },
        "id": "veBW-h9Ym6sk",
        "outputId": "4fb70e74-a3d7-4eed-aad7-b0c71cd8cd8f"
      },
      "outputs": [
        {
          "name": "stderr",
          "output_type": "stream",
          "text": [
            "/usr/local/lib/python3.7/dist-packages/sklearn/metrics/_classification.py:1318: UndefinedMetricWarning: Precision is ill-defined and being set to 0.0 in labels with no predicted samples. Use `zero_division` parameter to control this behavior.\n",
            "  _warn_prf(average, modifier, msg_start, len(result))\n"
          ]
        },
        {
          "name": "stdout",
          "output_type": "stream",
          "text": [
            "f1-score macro: 0.4577363896848137\n",
            "f1-score micro: 0.8441215323645971\n",
            "accuracy score: 0.8441215323645971\n",
            "recall score: 0.5\n",
            "precision score: 0.42206076618229854\n",
            "ROCAUC score: 0.5\n"
          ]
        },
        {
          "data": {
            "image/png": "[encoded data removed]",
            "text/plain": [
              "<Figure size 432x288 with 2 Axes>"
            ]
          },
          "metadata": {
            "needs_background": "light"
          },
          "output_type": "display_data"
        }
      ],
      "source": [
        "Naive_tfidf = naive_bayes.MultinomialNB(alpha=1)\n",
        "Naive_tfidf.fit(X_train_tfidf, y_train_tfidf)\n",
        "predictions_NB_tfidf = Naive_tfidf.predict(X_test_tfidf)\n",
        "print_evaluation(y_test_tfidf, predictions_NB_tfidf)"
      ]
    },
    {
      "cell_type": "code",
      "execution_count": null,
      "metadata": {
        "id": "SDChJD_y9xWj"
      },
      "outputs": [],
      "source": [
        "import pickle\n",
        "# save\n",
        "with open(\"NB_model.pkl\", \"wb\") as f:\n",
        "    pickle.dump(Naive_tfidf, f)"
      ]
    },
    {
      "cell_type": "code",
      "execution_count": null,
      "metadata": {
        "colab": {
          "base_uri": "https://localhost:8080/"
        },
        "id": "3LwAOFQp93P7",
        "outputId": "a60146f9-cee8-4d17-ca70-52381fe4bb16"
      },
      "outputs": [
        {
          "name": "stdout",
          "output_type": "stream",
          "text": [
            "Downloading...\n",
            "From: https://drive.google.com/uc?id=1-DwxuYRH0eLsim-yomD0S1oXCbWMzym6\n",
            "To: /content/NB_model.pkl\n",
            "\r  0% 0.00/17.4M [00:00<?, ?B/s]\r100% 17.4M/17.4M [00:00<00:00, 234MB/s]\n"
          ]
        }
      ],
      "source": [
        "# link to saved nodel \n"
      ]
    },
    {
      "cell_type": "code",
      "execution_count": null,
      "metadata": {
        "id": "3ZJdD8tp93E7"
      },
      "outputs": [],
      "source": [
        "# load\n",
        "with open(\"NB_model.pkl\", \"rb\") as f:\n",
        "    Naive_tfidf = pickle.load(f)"
      ]
    },
    {
      "cell_type": "markdown",
      "metadata": {
        "id": "duBD7tD0nyMr"
      },
      "source": [
        "## bow"
      ]
    },
    {
      "cell_type": "code",
      "execution_count": null,
      "metadata": {
        "colab": {
          "base_uri": "https://localhost:8080/"
        },
        "id": "rDC0IxbOjHvM",
        "outputId": "922bfe2e-2dec-4aad-ca16-c965eb68accb"
      },
      "outputs": [
        {
          "name": "stdout",
          "output_type": "stream",
          "text": [
            "Fitting 5 folds for each of 4 candidates, totalling 20 fits\n",
            "[CV 1/5] END ........................alpha=0.01;, score=0.529 total time=   0.1s\n",
            "[CV 2/5] END ........................alpha=0.01;, score=0.501 total time=   0.1s\n",
            "[CV 3/5] END ........................alpha=0.01;, score=0.491 total time=   0.0s\n",
            "[CV 4/5] END ........................alpha=0.01;, score=0.474 total time=   0.1s\n",
            "[CV 5/5] END ........................alpha=0.01;, score=0.511 total time=   0.0s\n",
            "[CV 1/5] END .........................alpha=0.1;, score=0.435 total time=   0.1s\n",
            "[CV 2/5] END .........................alpha=0.1;, score=0.421 total time=   0.1s\n",
            "[CV 3/5] END .........................alpha=0.1;, score=0.393 total time=   0.1s\n",
            "[CV 4/5] END .........................alpha=0.1;, score=0.399 total time=   0.1s\n",
            "[CV 5/5] END .........................alpha=0.1;, score=0.417 total time=   0.1s\n",
            "[CV 1/5] END ...........................alpha=1;, score=0.544 total time=   0.0s\n",
            "[CV 2/5] END ...........................alpha=1;, score=0.517 total time=   0.1s\n",
            "[CV 3/5] END ...........................alpha=1;, score=0.534 total time=   0.0s\n",
            "[CV 4/5] END ...........................alpha=1;, score=0.537 total time=   0.0s\n",
            "[CV 5/5] END ...........................alpha=1;, score=0.530 total time=   0.0s\n",
            "[CV 1/5] END ..........................alpha=10;, score=0.463 total time=   0.1s\n",
            "[CV 2/5] END ..........................alpha=10;, score=0.464 total time=   0.1s\n",
            "[CV 3/5] END ..........................alpha=10;, score=0.464 total time=   0.0s\n",
            "[CV 4/5] END ..........................alpha=10;, score=0.464 total time=   0.1s\n",
            "[CV 5/5] END ..........................alpha=10;, score=0.464 total time=   0.0s\n"
          ]
        },
        {
          "data": {
            "text/plain": [
              "GridSearchCV(estimator=MultinomialNB(),\n",
              "             param_grid={'alpha': [0.01, 0.1, 1, 10]}, scoring='f1_macro',\n",
              "             verbose=3)"
            ]
          },
          "execution_count": 25,
          "metadata": {},
          "output_type": "execute_result"
        }
      ],
      "source": [
        "lrm_grid.fit(X_train_bow,y_train_bow)"
      ]
    },
    {
      "cell_type": "code",
      "execution_count": null,
      "metadata": {
        "colab": {
          "base_uri": "https://localhost:8080/"
        },
        "id": "jFmFcJiEjNZU",
        "outputId": "a238dc91-8fa5-406d-d423-b595faa6bd07"
      },
      "outputs": [
        {
          "data": {
            "text/plain": [
              "{'alpha': 1}"
            ]
          },
          "execution_count": 26,
          "metadata": {},
          "output_type": "execute_result"
        }
      ],
      "source": [
        "lrm_grid.best_params_"
      ]
    },
    {
      "cell_type": "code",
      "execution_count": null,
      "metadata": {
        "colab": {
          "base_uri": "https://localhost:8080/",
          "height": 399
        },
        "id": "MY8dY0BBm0h5",
        "outputId": "ee9b60ce-7200-4e73-a70d-bdf96d31301b"
      },
      "outputs": [
        {
          "name": "stdout",
          "output_type": "stream",
          "text": [
            "f1-score macro: 0.5036909329318634\n",
            "f1-score micro: 0.857331571994716\n",
            "accuracy score: 0.857331571994716\n",
            "recall score: 0.521546234772979\n",
            "precision score: 0.8454283177984909\n",
            "ROCAUC score: 0.521546234772979\n"
          ]
        },
        {
          "data": {
            "image/png": "[encoded data removed]",
            "text/plain": [
              "<Figure size 432x288 with 2 Axes>"
            ]
          },
          "metadata": {
            "needs_background": "light"
          },
          "output_type": "display_data"
        }
      ],
      "source": [
        "Naive_bow = naive_bayes.MultinomialNB(alpha=1)\n",
        "Naive_bow.fit(X_train_bow, y_train_bow)\n",
        "predictions_NB_bow = Naive_bow.predict(X_test_bow)\n",
        "print_evaluation(y_test_bow, predictions_NB_bow)"
      ]
    },
    {
      "cell_type": "markdown",
      "metadata": {
        "id": "lCARkqrp3Xbw"
      },
      "source": [
        "# SVM"
      ]
    },
    {
      "cell_type": "code",
      "execution_count": null,
      "metadata": {
        "id": "lV6knZyfn4by"
      },
      "outputs": [],
      "source": [
        "from sklearn import svm"
      ]
    },
    {
      "cell_type": "code",
      "execution_count": null,
      "metadata": {
        "id": "mczesAKSj_Py"
      },
      "outputs": [],
      "source": [
        "lrm_param_grid = {'C': [0.01, 0.1, 1, 10],\n",
        "                  'kernel': ['linear', 'poly', 'rbf', 'sigmoid'],\n",
        "                  'degree': [2,3],\n",
        "                  'class_weight':[{0:0.15, 1:1},{0:0.3, 1:1},{0:0.2, 1:3},{0:0.15, 1:5}]} \n",
        "lrm_grid = GridSearchCV(svm.SVC(),\n",
        "                        lrm_param_grid,\n",
        "                        refit=True,\n",
        "                        verbose=3,\n",
        "                        scoring='f1_macro')"
      ]
    },
    {
      "cell_type": "markdown",
      "metadata": {
        "id": "84GdlZH-n3wS"
      },
      "source": [
        "## tfidf"
      ]
    },
    {
      "cell_type": "code",
      "execution_count": null,
      "metadata": {
        "colab": {
          "base_uri": "https://localhost:8080/"
        },
        "id": "WLwhJCQWk-wY",
        "outputId": "a72b7bfa-0156-4bec-e8db-f72e23a89d6f"
      },
      "outputs": [
        {
          "name": "stdout",
          "output_type": "stream",
          "text": [
            "Fitting 5 folds for each of 128 candidates, totalling 640 fits\n",
            "[CV 1/5] END C=0.01, class_weight={0: 0.15, 1: 1}, degree=2, kernel=linear;, score=0.119 total time=  18.4s\n",
            "[CV 2/5] END C=0.01, class_weight={0: 0.15, 1: 1}, degree=2, kernel=linear;, score=0.119 total time=  20.4s\n",
            "[CV 3/5] END C=0.01, class_weight={0: 0.15, 1: 1}, degree=2, kernel=linear;, score=0.119 total time=  22.3s\n",
            "[CV 4/5] END C=0.01, class_weight={0: 0.15, 1: 1}, degree=2, kernel=linear;, score=0.118 total time=  19.7s\n",
            "[CV 5/5] END C=0.01, class_weight={0: 0.15, 1: 1}, degree=2, kernel=linear;, score=0.119 total time=  17.3s\n",
            "[CV 1/5] END C=0.01, class_weight={0: 0.15, 1: 1}, degree=2, kernel=poly;, score=0.119 total time=  16.9s\n",
            "[CV 2/5] END C=0.01, class_weight={0: 0.15, 1: 1}, degree=2, kernel=poly;, score=0.119 total time=  16.8s\n",
            "[CV 3/5] END C=0.01, class_weight={0: 0.15, 1: 1}, degree=2, kernel=poly;, score=0.119 total time=  16.9s\n",
            "[CV 4/5] END C=0.01, class_weight={0: 0.15, 1: 1}, degree=2, kernel=poly;, score=0.118 total time=  16.8s\n",
            "[CV 5/5] END C=0.01, class_weight={0: 0.15, 1: 1}, degree=2, kernel=poly;, score=0.119 total time=  17.6s\n",
            "[CV 1/5] END C=0.01, class_weight={0: 0.15, 1: 1}, degree=2, kernel=rbf;, score=0.119 total time=  17.5s\n",
            "[CV 2/5] END C=0.01, class_weight={0: 0.15, 1: 1}, degree=2, kernel=rbf;, score=0.119 total time=  16.3s\n",
            "[CV 3/5] END C=0.01, class_weight={0: 0.15, 1: 1}, degree=2, kernel=rbf;, score=0.119 total time=  15.9s\n",
            "[CV 4/5] END C=0.01, class_weight={0: 0.15, 1: 1}, degree=2, kernel=rbf;, score=0.118 total time=  16.6s\n",
            "[CV 5/5] END C=0.01, class_weight={0: 0.15, 1: 1}, degree=2, kernel=rbf;, score=0.119 total time=  17.5s\n",
            "[CV 1/5] END C=0.01, class_weight={0: 0.15, 1: 1}, degree=2, kernel=sigmoid;, score=0.119 total time=  16.9s\n",
            "[CV 2/5] END C=0.01, class_weight={0: 0.15, 1: 1}, degree=2, kernel=sigmoid;, score=0.119 total time=  16.7s\n",
            "[CV 3/5] END C=0.01, class_weight={0: 0.15, 1: 1}, degree=2, kernel=sigmoid;, score=0.119 total time=  16.5s\n",
            "[CV 4/5] END C=0.01, class_weight={0: 0.15, 1: 1}, degree=2, kernel=sigmoid;, score=0.118 total time=  16.6s\n",
            "[CV 5/5] END C=0.01, class_weight={0: 0.15, 1: 1}, degree=2, kernel=sigmoid;, score=0.119 total time=  16.8s\n",
            "[CV 1/5] END C=0.01, class_weight={0: 0.15, 1: 1}, degree=3, kernel=linear;, score=0.119 total time=  16.5s\n",
            "[CV 2/5] END C=0.01, class_weight={0: 0.15, 1: 1}, degree=3, kernel=linear;, score=0.119 total time=  16.6s\n",
            "[CV 3/5] END C=0.01, class_weight={0: 0.15, 1: 1}, degree=3, kernel=linear;, score=0.119 total time=  16.4s\n",
            "[CV 4/5] END C=0.01, class_weight={0: 0.15, 1: 1}, degree=3, kernel=linear;, score=0.118 total time=  16.6s\n",
            "[CV 5/5] END C=0.01, class_weight={0: 0.15, 1: 1}, degree=3, kernel=linear;, score=0.119 total time=  16.7s\n",
            "[CV 1/5] END C=0.01, class_weight={0: 0.15, 1: 1}, degree=3, kernel=poly;, score=0.119 total time=  16.6s\n",
            "[CV 2/5] END C=0.01, class_weight={0: 0.15, 1: 1}, degree=3, kernel=poly;, score=0.119 total time=  16.7s\n",
            "[CV 3/5] END C=0.01, class_weight={0: 0.15, 1: 1}, degree=3, kernel=poly;, score=0.119 total time=  16.5s\n",
            "[CV 4/5] END C=0.01, class_weight={0: 0.15, 1: 1}, degree=3, kernel=poly;, score=0.118 total time=  16.7s\n",
            "[CV 5/5] END C=0.01, class_weight={0: 0.15, 1: 1}, degree=3, kernel=poly;, score=0.119 total time=  17.3s\n",
            "[CV 1/5] END C=0.01, class_weight={0: 0.15, 1: 1}, degree=3, kernel=rbf;, score=0.119 total time=  17.6s\n",
            "[CV 2/5] END C=0.01, class_weight={0: 0.15, 1: 1}, degree=3, kernel=rbf;, score=0.119 total time=  17.2s\n",
            "[CV 3/5] END C=0.01, class_weight={0: 0.15, 1: 1}, degree=3, kernel=rbf;, score=0.119 total time=  17.1s\n",
            "[CV 4/5] END C=0.01, class_weight={0: 0.15, 1: 1}, degree=3, kernel=rbf;, score=0.118 total time=  17.2s\n",
            "[CV 5/5] END C=0.01, class_weight={0: 0.15, 1: 1}, degree=3, kernel=rbf;, score=0.119 total time=  17.4s\n",
            "[CV 1/5] END C=0.01, class_weight={0: 0.15, 1: 1}, degree=3, kernel=sigmoid;, score=0.119 total time=  16.6s\n",
            "[CV 2/5] END C=0.01, class_weight={0: 0.15, 1: 1}, degree=3, kernel=sigmoid;, score=0.119 total time=  16.5s\n",
            "[CV 3/5] END C=0.01, class_weight={0: 0.15, 1: 1}, degree=3, kernel=sigmoid;, score=0.119 total time=  16.3s\n",
            "[CV 4/5] END C=0.01, class_weight={0: 0.15, 1: 1}, degree=3, kernel=sigmoid;, score=0.118 total time=  16.4s\n",
            "[CV 5/5] END C=0.01, class_weight={0: 0.15, 1: 1}, degree=3, kernel=sigmoid;, score=0.119 total time=  16.4s\n",
            "[CV 1/5] END C=0.01, class_weight={0: 0.3, 1: 1}, degree=2, kernel=linear;, score=0.464 total time=  11.7s\n",
            "[CV 2/5] END C=0.01, class_weight={0: 0.3, 1: 1}, degree=2, kernel=linear;, score=0.464 total time=  11.8s\n",
            "[CV 3/5] END C=0.01, class_weight={0: 0.3, 1: 1}, degree=2, kernel=linear;, score=0.464 total time=  11.7s\n",
            "[CV 4/5] END C=0.01, class_weight={0: 0.3, 1: 1}, degree=2, kernel=linear;, score=0.464 total time=  12.3s\n",
            "[CV 5/5] END C=0.01, class_weight={0: 0.3, 1: 1}, degree=2, kernel=linear;, score=0.464 total time=  11.9s\n",
            "[CV 1/5] END C=0.01, class_weight={0: 0.3, 1: 1}, degree=2, kernel=poly;, score=0.464 total time=  16.5s\n",
            "[CV 2/5] END C=0.01, class_weight={0: 0.3, 1: 1}, degree=2, kernel=poly;, score=0.464 total time=  16.5s\n",
            "[CV 3/5] END C=0.01, class_weight={0: 0.3, 1: 1}, degree=2, kernel=poly;, score=0.464 total time=  16.3s\n",
            "[CV 4/5] END C=0.01, class_weight={0: 0.3, 1: 1}, degree=2, kernel=poly;, score=0.464 total time=  16.3s\n",
            "[CV 5/5] END C=0.01, class_weight={0: 0.3, 1: 1}, degree=2, kernel=poly;, score=0.464 total time=  16.5s\n",
            "[CV 1/5] END C=0.01, class_weight={0: 0.3, 1: 1}, degree=2, kernel=rbf;, score=0.464 total time=  14.5s\n",
            "[CV 2/5] END C=0.01, class_weight={0: 0.3, 1: 1}, degree=2, kernel=rbf;, score=0.464 total time=  14.4s\n",
            "[CV 3/5] END C=0.01, class_weight={0: 0.3, 1: 1}, degree=2, kernel=rbf;, score=0.464 total time=  14.3s\n",
            "[CV 4/5] END C=0.01, class_weight={0: 0.3, 1: 1}, degree=2, kernel=rbf;, score=0.464 total time=  14.5s\n",
            "[CV 5/5] END C=0.01, class_weight={0: 0.3, 1: 1}, degree=2, kernel=rbf;, score=0.464 total time=  14.5s\n",
            "[CV 1/5] END C=0.01, class_weight={0: 0.3, 1: 1}, degree=2, kernel=sigmoid;, score=0.464 total time=  11.5s\n",
            "[CV 2/5] END C=0.01, class_weight={0: 0.3, 1: 1}, degree=2, kernel=sigmoid;, score=0.464 total time=  11.5s\n",
            "[CV 3/5] END C=0.01, class_weight={0: 0.3, 1: 1}, degree=2, kernel=sigmoid;, score=0.464 total time=  11.4s\n",
            "[CV 4/5] END C=0.01, class_weight={0: 0.3, 1: 1}, degree=2, kernel=sigmoid;, score=0.464 total time=  11.5s\n",
            "[CV 5/5] END C=0.01, class_weight={0: 0.3, 1: 1}, degree=2, kernel=sigmoid;, score=0.464 total time=  11.5s\n",
            "[CV 1/5] END C=0.01, class_weight={0: 0.3, 1: 1}, degree=3, kernel=linear;, score=0.464 total time=  11.9s\n",
            "[CV 2/5] END C=0.01, class_weight={0: 0.3, 1: 1}, degree=3, kernel=linear;, score=0.464 total time=  11.8s\n",
            "[CV 3/5] END C=0.01, class_weight={0: 0.3, 1: 1}, degree=3, kernel=linear;, score=0.464 total time=  11.6s\n",
            "[CV 4/5] END C=0.01, class_weight={0: 0.3, 1: 1}, degree=3, kernel=linear;, score=0.464 total time=  11.9s\n",
            "[CV 5/5] END C=0.01, class_weight={0: 0.3, 1: 1}, degree=3, kernel=linear;, score=0.464 total time=  11.8s\n",
            "[CV 1/5] END C=0.01, class_weight={0: 0.3, 1: 1}, degree=3, kernel=poly;, score=0.464 total time=  16.5s\n",
            "[CV 2/5] END C=0.01, class_weight={0: 0.3, 1: 1}, degree=3, kernel=poly;, score=0.464 total time=  16.4s\n",
            "[CV 3/5] END C=0.01, class_weight={0: 0.3, 1: 1}, degree=3, kernel=poly;, score=0.464 total time=  16.3s\n",
            "[CV 4/5] END C=0.01, class_weight={0: 0.3, 1: 1}, degree=3, kernel=poly;, score=0.464 total time=  16.7s\n",
            "[CV 5/5] END C=0.01, class_weight={0: 0.3, 1: 1}, degree=3, kernel=poly;, score=0.464 total time=  17.0s\n",
            "[CV 1/5] END C=0.01, class_weight={0: 0.3, 1: 1}, degree=3, kernel=rbf;, score=0.464 total time=  14.7s\n",
            "[CV 2/5] END C=0.01, class_weight={0: 0.3, 1: 1}, degree=3, kernel=rbf;, score=0.464 total time=  14.7s\n",
            "[CV 3/5] END C=0.01, class_weight={0: 0.3, 1: 1}, degree=3, kernel=rbf;, score=0.464 total time=  14.6s\n",
            "[CV 4/5] END C=0.01, class_weight={0: 0.3, 1: 1}, degree=3, kernel=rbf;, score=0.464 total time=  14.8s\n",
            "[CV 5/5] END C=0.01, class_weight={0: 0.3, 1: 1}, degree=3, kernel=rbf;, score=0.464 total time=  14.6s\n",
            "[CV 1/5] END C=0.01, class_weight={0: 0.3, 1: 1}, degree=3, kernel=sigmoid;, score=0.464 total time=  11.6s\n",
            "[CV 2/5] END C=0.01, class_weight={0: 0.3, 1: 1}, degree=3, kernel=sigmoid;, score=0.464 total time=  11.6s\n",
            "[CV 3/5] END C=0.01, class_weight={0: 0.3, 1: 1}, degree=3, kernel=sigmoid;, score=0.464 total time=  11.3s\n",
            "[CV 4/5] END C=0.01, class_weight={0: 0.3, 1: 1}, degree=3, kernel=sigmoid;, score=0.464 total time=  11.4s\n",
            "[CV 5/5] END C=0.01, class_weight={0: 0.3, 1: 1}, degree=3, kernel=sigmoid;, score=0.464 total time=  11.4s\n",
            "[CV 1/5] END C=0.01, class_weight={0: 0.2, 1: 3}, degree=2, kernel=linear;, score=0.119 total time=  16.6s\n",
            "[CV 2/5] END C=0.01, class_weight={0: 0.2, 1: 3}, degree=2, kernel=linear;, score=0.119 total time=  16.6s\n",
            "[CV 3/5] END C=0.01, class_weight={0: 0.2, 1: 3}, degree=2, kernel=linear;, score=0.119 total time=  15.5s\n",
            "[CV 4/5] END C=0.01, class_weight={0: 0.2, 1: 3}, degree=2, kernel=linear;, score=0.118 total time=  15.3s\n",
            "[CV 5/5] END C=0.01, class_weight={0: 0.2, 1: 3}, degree=2, kernel=linear;, score=0.119 total time=  15.4s\n",
            "[CV 1/5] END C=0.01, class_weight={0: 0.2, 1: 3}, degree=2, kernel=poly;, score=0.119 total time=  15.4s\n",
            "[CV 2/5] END C=0.01, class_weight={0: 0.2, 1: 3}, degree=2, kernel=poly;, score=0.119 total time=  15.2s\n",
            "[CV 3/5] END C=0.01, class_weight={0: 0.2, 1: 3}, degree=2, kernel=poly;, score=0.119 total time=  15.1s\n",
            "[CV 4/5] END C=0.01, class_weight={0: 0.2, 1: 3}, degree=2, kernel=poly;, score=0.118 total time=  15.1s\n",
            "[CV 5/5] END C=0.01, class_weight={0: 0.2, 1: 3}, degree=2, kernel=poly;, score=0.119 total time=  15.4s\n",
            "[CV 1/5] END C=0.01, class_weight={0: 0.2, 1: 3}, degree=2, kernel=rbf;, score=0.119 total time=  15.8s\n",
            "[CV 2/5] END C=0.01, class_weight={0: 0.2, 1: 3}, degree=2, kernel=rbf;, score=0.119 total time=  15.6s\n",
            "[CV 3/5] END C=0.01, class_weight={0: 0.2, 1: 3}, degree=2, kernel=rbf;, score=0.119 total time=  15.3s\n",
            "[CV 4/5] END C=0.01, class_weight={0: 0.2, 1: 3}, degree=2, kernel=rbf;, score=0.118 total time=  15.5s\n",
            "[CV 5/5] END C=0.01, class_weight={0: 0.2, 1: 3}, degree=2, kernel=rbf;, score=0.119 total time=  15.6s\n",
            "[CV 1/5] END C=0.01, class_weight={0: 0.2, 1: 3}, degree=2, kernel=sigmoid;, score=0.119 total time=  15.1s\n",
            "[CV 2/5] END C=0.01, class_weight={0: 0.2, 1: 3}, degree=2, kernel=sigmoid;, score=0.119 total time=  15.2s\n",
            "[CV 3/5] END C=0.01, class_weight={0: 0.2, 1: 3}, degree=2, kernel=sigmoid;, score=0.119 total time=  15.1s\n",
            "[CV 4/5] END C=0.01, class_weight={0: 0.2, 1: 3}, degree=2, kernel=sigmoid;, score=0.118 total time=  15.1s\n",
            "[CV 5/5] END C=0.01, class_weight={0: 0.2, 1: 3}, degree=2, kernel=sigmoid;, score=0.119 total time=  15.3s\n",
            "[CV 1/5] END C=0.01, class_weight={0: 0.2, 1: 3}, degree=3, kernel=linear;, score=0.119 total time=  15.0s\n",
            "[CV 2/5] END C=0.01, class_weight={0: 0.2, 1: 3}, degree=3, kernel=linear;, score=0.119 total time=  15.0s\n",
            "[CV 3/5] END C=0.01, class_weight={0: 0.2, 1: 3}, degree=3, kernel=linear;, score=0.119 total time=  14.9s\n",
            "[CV 4/5] END C=0.01, class_weight={0: 0.2, 1: 3}, degree=3, kernel=linear;, score=0.118 total time=  15.1s\n",
            "[CV 5/5] END C=0.01, class_weight={0: 0.2, 1: 3}, degree=3, kernel=linear;, score=0.119 total time=  15.2s\n",
            "[CV 1/5] END C=0.01, class_weight={0: 0.2, 1: 3}, degree=3, kernel=poly;, score=0.119 total time=  15.2s\n",
            "[CV 2/5] END C=0.01, class_weight={0: 0.2, 1: 3}, degree=3, kernel=poly;, score=0.119 total time=  15.1s\n",
            "[CV 3/5] END C=0.01, class_weight={0: 0.2, 1: 3}, degree=3, kernel=poly;, score=0.119 total time=  14.9s\n",
            "[CV 4/5] END C=0.01, class_weight={0: 0.2, 1: 3}, degree=3, kernel=poly;, score=0.118 total time=  15.0s\n",
            "[CV 5/5] END C=0.01, class_weight={0: 0.2, 1: 3}, degree=3, kernel=poly;, score=0.119 total time=  15.1s\n",
            "[CV 1/5] END C=0.01, class_weight={0: 0.2, 1: 3}, degree=3, kernel=rbf;, score=0.119 total time=  15.5s\n",
            "[CV 2/5] END C=0.01, class_weight={0: 0.2, 1: 3}, degree=3, kernel=rbf;, score=0.119 total time=  15.5s\n",
            "[CV 3/5] END C=0.01, class_weight={0: 0.2, 1: 3}, degree=3, kernel=rbf;, score=0.119 total time=  15.4s\n",
            "[CV 4/5] END C=0.01, class_weight={0: 0.2, 1: 3}, degree=3, kernel=rbf;, score=0.118 total time=  15.5s\n",
            "[CV 5/5] END C=0.01, class_weight={0: 0.2, 1: 3}, degree=3, kernel=rbf;, score=0.119 total time=  15.7s\n",
            "[CV 1/5] END C=0.01, class_weight={0: 0.2, 1: 3}, degree=3, kernel=sigmoid;, score=0.119 total time=  15.1s\n",
            "[CV 2/5] END C=0.01, class_weight={0: 0.2, 1: 3}, degree=3, kernel=sigmoid;, score=0.119 total time=  15.2s\n",
            "[CV 3/5] END C=0.01, class_weight={0: 0.2, 1: 3}, degree=3, kernel=sigmoid;, score=0.119 total time=  15.0s\n",
            "[CV 4/5] END C=0.01, class_weight={0: 0.2, 1: 3}, degree=3, kernel=sigmoid;, score=0.118 total time=  15.1s\n",
            "[CV 5/5] END C=0.01, class_weight={0: 0.2, 1: 3}, degree=3, kernel=sigmoid;, score=0.119 total time=  15.2s\n",
            "[CV 1/5] END C=0.01, class_weight={0: 0.15, 1: 5}, degree=2, kernel=linear;, score=0.119 total time=  15.0s\n",
            "[CV 2/5] END C=0.01, class_weight={0: 0.15, 1: 5}, degree=2, kernel=linear;, score=0.119 total time=  15.1s\n",
            "[CV 3/5] END C=0.01, class_weight={0: 0.15, 1: 5}, degree=2, kernel=linear;, score=0.119 total time=  15.0s\n",
            "[CV 4/5] END C=0.01, class_weight={0: 0.15, 1: 5}, degree=2, kernel=linear;, score=0.118 total time=  15.1s\n",
            "[CV 5/5] END C=0.01, class_weight={0: 0.15, 1: 5}, degree=2, kernel=linear;, score=0.119 total time=  15.3s\n",
            "[CV 1/5] END C=0.01, class_weight={0: 0.15, 1: 5}, degree=2, kernel=poly;, score=0.119 total time=  15.2s\n",
            "[CV 2/5] END C=0.01, class_weight={0: 0.15, 1: 5}, degree=2, kernel=poly;, score=0.119 total time=  15.2s\n",
            "[CV 3/5] END C=0.01, class_weight={0: 0.15, 1: 5}, degree=2, kernel=poly;, score=0.119 total time=  14.9s\n",
            "[CV 4/5] END C=0.01, class_weight={0: 0.15, 1: 5}, degree=2, kernel=poly;, score=0.118 total time=  15.0s\n",
            "[CV 5/5] END C=0.01, class_weight={0: 0.15, 1: 5}, degree=2, kernel=poly;, score=0.119 total time=  15.1s\n",
            "[CV 1/5] END C=0.01, class_weight={0: 0.15, 1: 5}, degree=2, kernel=rbf;, score=0.119 total time=  15.6s\n",
            "[CV 2/5] END C=0.01, class_weight={0: 0.15, 1: 5}, degree=2, kernel=rbf;, score=0.119 total time=  15.6s\n",
            "[CV 3/5] END C=0.01, class_weight={0: 0.15, 1: 5}, degree=2, kernel=rbf;, score=0.119 total time=  15.4s\n",
            "[CV 4/5] END C=0.01, class_weight={0: 0.15, 1: 5}, degree=2, kernel=rbf;, score=0.118 total time=  15.5s\n",
            "[CV 5/5] END C=0.01, class_weight={0: 0.15, 1: 5}, degree=2, kernel=rbf;, score=0.119 total time=  15.6s\n",
            "[CV 1/5] END C=0.01, class_weight={0: 0.15, 1: 5}, degree=2, kernel=sigmoid;, score=0.119 total time=  15.1s\n",
            "[CV 2/5] END C=0.01, class_weight={0: 0.15, 1: 5}, degree=2, kernel=sigmoid;, score=0.119 total time=  15.2s\n",
            "[CV 3/5] END C=0.01, class_weight={0: 0.15, 1: 5}, degree=2, kernel=sigmoid;, score=0.119 total time=  15.0s\n",
            "[CV 4/5] END C=0.01, class_weight={0: 0.15, 1: 5}, degree=2, kernel=sigmoid;, score=0.118 total time=  15.0s\n",
            "[CV 5/5] END C=0.01, class_weight={0: 0.15, 1: 5}, degree=2, kernel=sigmoid;, score=0.119 total time=  15.1s\n",
            "[CV 1/5] END C=0.01, class_weight={0: 0.15, 1: 5}, degree=3, kernel=linear;, score=0.119 total time=  15.0s\n",
            "[CV 2/5] END C=0.01, class_weight={0: 0.15, 1: 5}, degree=3, kernel=linear;, score=0.119 total time=  15.4s\n",
            "[CV 3/5] END C=0.01, class_weight={0: 0.15, 1: 5}, degree=3, kernel=linear;, score=0.119 total time=  15.0s\n",
            "[CV 4/5] END C=0.01, class_weight={0: 0.15, 1: 5}, degree=3, kernel=linear;, score=0.118 total time=  15.0s\n",
            "[CV 5/5] END C=0.01, class_weight={0: 0.15, 1: 5}, degree=3, kernel=linear;, score=0.119 total time=  15.1s\n",
            "[CV 1/5] END C=0.01, class_weight={0: 0.15, 1: 5}, degree=3, kernel=poly;, score=0.119 total time=  15.1s\n",
            "[CV 2/5] END C=0.01, class_weight={0: 0.15, 1: 5}, degree=3, kernel=poly;, score=0.119 total time=  15.1s\n",
            "[CV 3/5] END C=0.01, class_weight={0: 0.15, 1: 5}, degree=3, kernel=poly;, score=0.119 total time=  14.8s\n",
            "[CV 4/5] END C=0.01, class_weight={0: 0.15, 1: 5}, degree=3, kernel=poly;, score=0.118 total time=  14.9s\n",
            "[CV 5/5] END C=0.01, class_weight={0: 0.15, 1: 5}, degree=3, kernel=poly;, score=0.119 total time=  15.1s\n",
            "[CV 1/5] END C=0.01, class_weight={0: 0.15, 1: 5}, degree=3, kernel=rbf;, score=0.119 total time=  15.5s\n",
            "[CV 2/5] END C=0.01, class_weight={0: 0.15, 1: 5}, degree=3, kernel=rbf;, score=0.119 total time=  15.7s\n",
            "[CV 3/5] END C=0.01, class_weight={0: 0.15, 1: 5}, degree=3, kernel=rbf;, score=0.119 total time=  15.4s\n",
            "[CV 4/5] END C=0.01, class_weight={0: 0.15, 1: 5}, degree=3, kernel=rbf;, score=0.118 total time=  15.6s\n",
            "[CV 5/5] END C=0.01, class_weight={0: 0.15, 1: 5}, degree=3, kernel=rbf;, score=0.119 total time=  15.7s\n",
            "[CV 1/5] END C=0.01, class_weight={0: 0.15, 1: 5}, degree=3, kernel=sigmoid;, score=0.119 total time=  15.2s\n",
            "[CV 2/5] END C=0.01, class_weight={0: 0.15, 1: 5}, degree=3, kernel=sigmoid;, score=0.119 total time=  15.2s\n",
            "[CV 3/5] END C=0.01, class_weight={0: 0.15, 1: 5}, degree=3, kernel=sigmoid;, score=0.119 total time=  14.9s\n",
            "[CV 4/5] END C=0.01, class_weight={0: 0.15, 1: 5}, degree=3, kernel=sigmoid;, score=0.118 total time=  15.0s\n",
            "[CV 5/5] END C=0.01, class_weight={0: 0.15, 1: 5}, degree=3, kernel=sigmoid;, score=0.119 total time=  15.3s\n",
            "[CV 1/5] END C=0.1, class_weight={0: 0.15, 1: 1}, degree=2, kernel=linear;, score=0.119 total time=  15.2s\n",
            "[CV 2/5] END C=0.1, class_weight={0: 0.15, 1: 1}, degree=2, kernel=linear;, score=0.119 total time=  15.2s\n",
            "[CV 3/5] END C=0.1, class_weight={0: 0.15, 1: 1}, degree=2, kernel=linear;, score=0.119 total time=  15.1s\n",
            "[CV 4/5] END C=0.1, class_weight={0: 0.15, 1: 1}, degree=2, kernel=linear;, score=0.118 total time=  15.1s\n",
            "[CV 5/5] END C=0.1, class_weight={0: 0.15, 1: 1}, degree=2, kernel=linear;, score=0.119 total time=  15.2s\n",
            "[CV 1/5] END C=0.1, class_weight={0: 0.15, 1: 1}, degree=2, kernel=poly;, score=0.119 total time=  15.1s\n",
            "[CV 2/5] END C=0.1, class_weight={0: 0.15, 1: 1}, degree=2, kernel=poly;, score=0.119 total time=  15.0s\n",
            "[CV 3/5] END C=0.1, class_weight={0: 0.15, 1: 1}, degree=2, kernel=poly;, score=0.119 total time=  14.8s\n",
            "[CV 4/5] END C=0.1, class_weight={0: 0.15, 1: 1}, degree=2, kernel=poly;, score=0.118 total time=  15.0s\n",
            "[CV 5/5] END C=0.1, class_weight={0: 0.15, 1: 1}, degree=2, kernel=poly;, score=0.119 total time=  15.1s\n",
            "[CV 1/5] END C=0.1, class_weight={0: 0.15, 1: 1}, degree=2, kernel=rbf;, score=0.119 total time=  15.5s\n",
            "[CV 2/5] END C=0.1, class_weight={0: 0.15, 1: 1}, degree=2, kernel=rbf;, score=0.119 total time=  15.6s\n",
            "[CV 3/5] END C=0.1, class_weight={0: 0.15, 1: 1}, degree=2, kernel=rbf;, score=0.119 total time=  15.4s\n",
            "[CV 4/5] END C=0.1, class_weight={0: 0.15, 1: 1}, degree=2, kernel=rbf;, score=0.118 total time=  15.4s\n",
            "[CV 5/5] END C=0.1, class_weight={0: 0.15, 1: 1}, degree=2, kernel=rbf;, score=0.119 total time=  15.5s\n",
            "[CV 1/5] END C=0.1, class_weight={0: 0.15, 1: 1}, degree=2, kernel=sigmoid;, score=0.119 total time=  15.0s\n",
            "[CV 2/5] END C=0.1, class_weight={0: 0.15, 1: 1}, degree=2, kernel=sigmoid;, score=0.119 total time=  15.0s\n",
            "[CV 3/5] END C=0.1, class_weight={0: 0.15, 1: 1}, degree=2, kernel=sigmoid;, score=0.119 total time=  15.0s\n",
            "[CV 4/5] END C=0.1, class_weight={0: 0.15, 1: 1}, degree=2, kernel=sigmoid;, score=0.118 total time=  15.1s\n",
            "[CV 5/5] END C=0.1, class_weight={0: 0.15, 1: 1}, degree=2, kernel=sigmoid;, score=0.119 total time=  15.2s\n",
            "[CV 1/5] END C=0.1, class_weight={0: 0.15, 1: 1}, degree=3, kernel=linear;, score=0.119 total time=  15.0s\n",
            "[CV 2/5] END C=0.1, class_weight={0: 0.15, 1: 1}, degree=3, kernel=linear;, score=0.119 total time=  15.0s\n",
            "[CV 3/5] END C=0.1, class_weight={0: 0.15, 1: 1}, degree=3, kernel=linear;, score=0.119 total time=  14.9s\n",
            "[CV 4/5] END C=0.1, class_weight={0: 0.15, 1: 1}, degree=3, kernel=linear;, score=0.118 total time=  15.2s\n",
            "[CV 5/5] END C=0.1, class_weight={0: 0.15, 1: 1}, degree=3, kernel=linear;, score=0.119 total time=  15.3s\n",
            "[CV 1/5] END C=0.1, class_weight={0: 0.15, 1: 1}, degree=3, kernel=poly;, score=0.119 total time=  14.9s\n",
            "[CV 2/5] END C=0.1, class_weight={0: 0.15, 1: 1}, degree=3, kernel=poly;, score=0.119 total time=  15.0s\n",
            "[CV 3/5] END C=0.1, class_weight={0: 0.15, 1: 1}, degree=3, kernel=poly;, score=0.119 total time=  14.9s\n",
            "[CV 4/5] END C=0.1, class_weight={0: 0.15, 1: 1}, degree=3, kernel=poly;, score=0.118 total time=  15.1s\n",
            "[CV 5/5] END C=0.1, class_weight={0: 0.15, 1: 1}, degree=3, kernel=poly;, score=0.119 total time=  15.1s\n",
            "[CV 1/5] END C=0.1, class_weight={0: 0.15, 1: 1}, degree=3, kernel=rbf;, score=0.119 total time=  15.5s\n",
            "[CV 2/5] END C=0.1, class_weight={0: 0.15, 1: 1}, degree=3, kernel=rbf;, score=0.119 total time=  15.5s\n",
            "[CV 3/5] END C=0.1, class_weight={0: 0.15, 1: 1}, degree=3, kernel=rbf;, score=0.119 total time=  15.3s\n",
            "[CV 4/5] END C=0.1, class_weight={0: 0.15, 1: 1}, degree=3, kernel=rbf;, score=0.118 total time=  15.4s\n",
            "[CV 5/5] END C=0.1, class_weight={0: 0.15, 1: 1}, degree=3, kernel=rbf;, score=0.119 total time=  15.5s\n",
            "[CV 1/5] END C=0.1, class_weight={0: 0.15, 1: 1}, degree=3, kernel=sigmoid;, score=0.119 total time=  15.0s\n",
            "[CV 2/5] END C=0.1, class_weight={0: 0.15, 1: 1}, degree=3, kernel=sigmoid;, score=0.119 total time=  15.1s\n",
            "[CV 3/5] END C=0.1, class_weight={0: 0.15, 1: 1}, degree=3, kernel=sigmoid;, score=0.119 total time=  15.0s\n",
            "[CV 4/5] END C=0.1, class_weight={0: 0.15, 1: 1}, degree=3, kernel=sigmoid;, score=0.118 total time=  15.0s\n",
            "[CV 5/5] END C=0.1, class_weight={0: 0.15, 1: 1}, degree=3, kernel=sigmoid;, score=0.119 total time=  15.3s\n",
            "[CV 1/5] END C=0.1, class_weight={0: 0.3, 1: 1}, degree=2, kernel=linear;, score=0.464 total time=  12.0s\n",
            "[CV 2/5] END C=0.1, class_weight={0: 0.3, 1: 1}, degree=2, kernel=linear;, score=0.464 total time=  11.9s\n",
            "[CV 3/5] END C=0.1, class_weight={0: 0.3, 1: 1}, degree=2, kernel=linear;, score=0.464 total time=  11.7s\n",
            "[CV 4/5] END C=0.1, class_weight={0: 0.3, 1: 1}, degree=2, kernel=linear;, score=0.464 total time=  12.1s\n",
            "[CV 5/5] END C=0.1, class_weight={0: 0.3, 1: 1}, degree=2, kernel=linear;, score=0.464 total time=  11.8s\n",
            "[CV 1/5] END C=0.1, class_weight={0: 0.3, 1: 1}, degree=2, kernel=poly;, score=0.464 total time=  15.1s\n",
            "[CV 2/5] END C=0.1, class_weight={0: 0.3, 1: 1}, degree=2, kernel=poly;, score=0.464 total time=  14.9s\n",
            "[CV 3/5] END C=0.1, class_weight={0: 0.3, 1: 1}, degree=2, kernel=poly;, score=0.464 total time=  14.8s\n",
            "[CV 4/5] END C=0.1, class_weight={0: 0.3, 1: 1}, degree=2, kernel=poly;, score=0.464 total time=  14.9s\n",
            "[CV 5/5] END C=0.1, class_weight={0: 0.3, 1: 1}, degree=2, kernel=poly;, score=0.464 total time=  15.0s\n",
            "[CV 1/5] END C=0.1, class_weight={0: 0.3, 1: 1}, degree=2, kernel=rbf;, score=0.464 total time=  14.7s\n",
            "[CV 2/5] END C=0.1, class_weight={0: 0.3, 1: 1}, degree=2, kernel=rbf;, score=0.464 total time=  14.7s\n",
            "[CV 3/5] END C=0.1, class_weight={0: 0.3, 1: 1}, degree=2, kernel=rbf;, score=0.464 total time=  14.7s\n",
            "[CV 4/5] END C=0.1, class_weight={0: 0.3, 1: 1}, degree=2, kernel=rbf;, score=0.464 total time=  14.8s\n",
            "[CV 5/5] END C=0.1, class_weight={0: 0.3, 1: 1}, degree=2, kernel=rbf;, score=0.464 total time=  14.7s\n",
            "[CV 1/5] END C=0.1, class_weight={0: 0.3, 1: 1}, degree=2, kernel=sigmoid;, score=0.464 total time=  11.2s\n",
            "[CV 2/5] END C=0.1, class_weight={0: 0.3, 1: 1}, degree=2, kernel=sigmoid;, score=0.464 total time=  11.1s\n",
            "[CV 3/5] END C=0.1, class_weight={0: 0.3, 1: 1}, degree=2, kernel=sigmoid;, score=0.464 total time=  11.0s\n",
            "[CV 4/5] END C=0.1, class_weight={0: 0.3, 1: 1}, degree=2, kernel=sigmoid;, score=0.464 total time=  11.2s\n",
            "[CV 5/5] END C=0.1, class_weight={0: 0.3, 1: 1}, degree=2, kernel=sigmoid;, score=0.464 total time=  11.0s\n",
            "[CV 1/5] END C=0.1, class_weight={0: 0.3, 1: 1}, degree=3, kernel=linear;, score=0.464 total time=  12.0s\n",
            "[CV 2/5] END C=0.1, class_weight={0: 0.3, 1: 1}, degree=3, kernel=linear;, score=0.464 total time=  12.1s\n",
            "[CV 3/5] END C=0.1, class_weight={0: 0.3, 1: 1}, degree=3, kernel=linear;, score=0.464 total time=  11.8s\n",
            "[CV 4/5] END C=0.1, class_weight={0: 0.3, 1: 1}, degree=3, kernel=linear;, score=0.464 total time=  12.2s\n",
            "[CV 5/5] END C=0.1, class_weight={0: 0.3, 1: 1}, degree=3, kernel=linear;, score=0.464 total time=  11.8s\n",
            "[CV 1/5] END C=0.1, class_weight={0: 0.3, 1: 1}, degree=3, kernel=poly;, score=0.464 total time=  14.9s\n",
            "[CV 2/5] END C=0.1, class_weight={0: 0.3, 1: 1}, degree=3, kernel=poly;, score=0.464 total time=  14.9s\n",
            "[CV 3/5] END C=0.1, class_weight={0: 0.3, 1: 1}, degree=3, kernel=poly;, score=0.464 total time=  14.8s\n",
            "[CV 4/5] END C=0.1, class_weight={0: 0.3, 1: 1}, degree=3, kernel=poly;, score=0.464 total time=  14.9s\n",
            "[CV 5/5] END C=0.1, class_weight={0: 0.3, 1: 1}, degree=3, kernel=poly;, score=0.464 total time=  15.1s\n",
            "[CV 1/5] END C=0.1, class_weight={0: 0.3, 1: 1}, degree=3, kernel=rbf;, score=0.464 total time=  14.7s\n",
            "[CV 2/5] END C=0.1, class_weight={0: 0.3, 1: 1}, degree=3, kernel=rbf;, score=0.464 total time=  14.7s\n",
            "[CV 3/5] END C=0.1, class_weight={0: 0.3, 1: 1}, degree=3, kernel=rbf;, score=0.464 total time=  14.7s\n",
            "[CV 4/5] END C=0.1, class_weight={0: 0.3, 1: 1}, degree=3, kernel=rbf;, score=0.464 total time=  14.8s\n",
            "[CV 5/5] END C=0.1, class_weight={0: 0.3, 1: 1}, degree=3, kernel=rbf;, score=0.464 total time=  14.8s\n",
            "[CV 1/5] END C=0.1, class_weight={0: 0.3, 1: 1}, degree=3, kernel=sigmoid;, score=0.464 total time=  11.2s\n",
            "[CV 2/5] END C=0.1, class_weight={0: 0.3, 1: 1}, degree=3, kernel=sigmoid;, score=0.464 total time=  11.1s\n",
            "[CV 3/5] END C=0.1, class_weight={0: 0.3, 1: 1}, degree=3, kernel=sigmoid;, score=0.464 total time=  10.9s\n",
            "[CV 4/5] END C=0.1, class_weight={0: 0.3, 1: 1}, degree=3, kernel=sigmoid;, score=0.464 total time=  11.2s\n",
            "[CV 5/5] END C=0.1, class_weight={0: 0.3, 1: 1}, degree=3, kernel=sigmoid;, score=0.464 total time=  11.1s\n",
            "[CV 1/5] END C=0.1, class_weight={0: 0.2, 1: 3}, degree=2, kernel=linear;, score=0.119 total time=  15.0s\n",
            "[CV 2/5] END C=0.1, class_weight={0: 0.2, 1: 3}, degree=2, kernel=linear;, score=0.119 total time=  15.1s\n",
            "[CV 3/5] END C=0.1, class_weight={0: 0.2, 1: 3}, degree=2, kernel=linear;, score=0.119 total time=  14.9s\n",
            "[CV 4/5] END C=0.1, class_weight={0: 0.2, 1: 3}, degree=2, kernel=linear;, score=0.118 total time=  14.9s\n",
            "[CV 5/5] END C=0.1, class_weight={0: 0.2, 1: 3}, degree=2, kernel=linear;, score=0.119 total time=  15.1s\n",
            "[CV 1/5] END C=0.1, class_weight={0: 0.2, 1: 3}, degree=2, kernel=poly;, score=0.119 total time=  15.1s\n",
            "[CV 2/5] END C=0.1, class_weight={0: 0.2, 1: 3}, degree=2, kernel=poly;, score=0.119 total time=  15.1s\n",
            "[CV 3/5] END C=0.1, class_weight={0: 0.2, 1: 3}, degree=2, kernel=poly;, score=0.119 total time=  17.5s\n",
            "[CV 4/5] END C=0.1, class_weight={0: 0.2, 1: 3}, degree=2, kernel=poly;, score=0.118 total time=  15.0s\n",
            "[CV 5/5] END C=0.1, class_weight={0: 0.2, 1: 3}, degree=2, kernel=poly;, score=0.119 total time=  15.2s\n",
            "[CV 1/5] END C=0.1, class_weight={0: 0.2, 1: 3}, degree=2, kernel=rbf;, score=0.119 total time=  15.5s\n",
            "[CV 2/5] END C=0.1, class_weight={0: 0.2, 1: 3}, degree=2, kernel=rbf;, score=0.119 total time=  15.5s\n",
            "[CV 3/5] END C=0.1, class_weight={0: 0.2, 1: 3}, degree=2, kernel=rbf;, score=0.119 total time=  15.4s\n",
            "[CV 4/5] END C=0.1, class_weight={0: 0.2, 1: 3}, degree=2, kernel=rbf;, score=0.118 total time=  15.4s\n",
            "[CV 5/5] END C=0.1, class_weight={0: 0.2, 1: 3}, degree=2, kernel=rbf;, score=0.119 total time=  15.5s\n",
            "[CV 1/5] END C=0.1, class_weight={0: 0.2, 1: 3}, degree=2, kernel=sigmoid;, score=0.119 total time=  15.0s\n",
            "[CV 2/5] END C=0.1, class_weight={0: 0.2, 1: 3}, degree=2, kernel=sigmoid;, score=0.119 total time=  15.0s\n",
            "[CV 3/5] END C=0.1, class_weight={0: 0.2, 1: 3}, degree=2, kernel=sigmoid;, score=0.119 total time=  14.8s\n",
            "[CV 4/5] END C=0.1, class_weight={0: 0.2, 1: 3}, degree=2, kernel=sigmoid;, score=0.118 total time=  15.0s\n",
            "[CV 5/5] END C=0.1, class_weight={0: 0.2, 1: 3}, degree=2, kernel=sigmoid;, score=0.119 total time=  15.2s\n",
            "[CV 1/5] END C=0.1, class_weight={0: 0.2, 1: 3}, degree=3, kernel=linear;, score=0.119 total time=  15.0s\n",
            "[CV 2/5] END C=0.1, class_weight={0: 0.2, 1: 3}, degree=3, kernel=linear;, score=0.119 total time=  15.0s\n",
            "[CV 3/5] END C=0.1, class_weight={0: 0.2, 1: 3}, degree=3, kernel=linear;, score=0.119 total time=  14.9s\n",
            "[CV 4/5] END C=0.1, class_weight={0: 0.2, 1: 3}, degree=3, kernel=linear;, score=0.118 total time=  15.2s\n",
            "[CV 5/5] END C=0.1, class_weight={0: 0.2, 1: 3}, degree=3, kernel=linear;, score=0.119 total time=  15.2s\n",
            "[CV 1/5] END C=0.1, class_weight={0: 0.2, 1: 3}, degree=3, kernel=poly;, score=0.119 total time=  14.9s\n",
            "[CV 2/5] END C=0.1, class_weight={0: 0.2, 1: 3}, degree=3, kernel=poly;, score=0.119 total time=  15.0s\n",
            "[CV 3/5] END C=0.1, class_weight={0: 0.2, 1: 3}, degree=3, kernel=poly;, score=0.119 total time=  14.8s\n",
            "[CV 4/5] END C=0.1, class_weight={0: 0.2, 1: 3}, degree=3, kernel=poly;, score=0.118 total time=  15.0s\n",
            "[CV 5/5] END C=0.1, class_weight={0: 0.2, 1: 3}, degree=3, kernel=poly;, score=0.119 total time=  15.1s\n",
            "[CV 1/5] END C=0.1, class_weight={0: 0.2, 1: 3}, degree=3, kernel=rbf;, score=0.119 total time=  15.5s\n",
            "[CV 2/5] END C=0.1, class_weight={0: 0.2, 1: 3}, degree=3, kernel=rbf;, score=0.119 total time=  15.5s\n",
            "[CV 3/5] END C=0.1, class_weight={0: 0.2, 1: 3}, degree=3, kernel=rbf;, score=0.119 total time=  15.4s\n",
            "[CV 4/5] END C=0.1, class_weight={0: 0.2, 1: 3}, degree=3, kernel=rbf;, score=0.118 total time=  15.4s\n",
            "[CV 5/5] END C=0.1, class_weight={0: 0.2, 1: 3}, degree=3, kernel=rbf;, score=0.119 total time=  15.6s\n",
            "[CV 1/5] END C=0.1, class_weight={0: 0.2, 1: 3}, degree=3, kernel=sigmoid;, score=0.119 total time=  17.5s\n",
            "[CV 2/5] END C=0.1, class_weight={0: 0.2, 1: 3}, degree=3, kernel=sigmoid;, score=0.119 total time=  16.3s\n",
            "[CV 3/5] END C=0.1, class_weight={0: 0.2, 1: 3}, degree=3, kernel=sigmoid;, score=0.119 total time=  17.1s\n",
            "[CV 4/5] END C=0.1, class_weight={0: 0.2, 1: 3}, degree=3, kernel=sigmoid;, score=0.118 total time=  15.0s\n",
            "[CV 5/5] END C=0.1, class_weight={0: 0.2, 1: 3}, degree=3, kernel=sigmoid;, score=0.119 total time=  15.2s\n",
            "[CV 1/5] END C=0.1, class_weight={0: 0.15, 1: 5}, degree=2, kernel=linear;, score=0.119 total time=  15.0s\n",
            "[CV 2/5] END C=0.1, class_weight={0: 0.15, 1: 5}, degree=2, kernel=linear;, score=0.119 total time=  19.0s\n",
            "[CV 3/5] END C=0.1, class_weight={0: 0.15, 1: 5}, degree=2, kernel=linear;, score=0.119 total time=  20.9s\n",
            "[CV 4/5] END C=0.1, class_weight={0: 0.15, 1: 5}, degree=2, kernel=linear;, score=0.118 total time=  18.1s\n",
            "[CV 5/5] END C=0.1, class_weight={0: 0.15, 1: 5}, degree=2, kernel=linear;, score=0.119 total time=  16.7s\n",
            "[CV 1/5] END C=0.1, class_weight={0: 0.15, 1: 5}, degree=2, kernel=poly;, score=0.119 total time=  19.5s\n",
            "[CV 2/5] END C=0.1, class_weight={0: 0.15, 1: 5}, degree=2, kernel=poly;, score=0.119 total time=  21.2s\n",
            "[CV 3/5] END C=0.1, class_weight={0: 0.15, 1: 5}, degree=2, kernel=poly;, score=0.119 total time=  15.0s\n",
            "[CV 4/5] END C=0.1, class_weight={0: 0.15, 1: 5}, degree=2, kernel=poly;, score=0.118 total time=  15.0s\n",
            "[CV 5/5] END C=0.1, class_weight={0: 0.15, 1: 5}, degree=2, kernel=poly;, score=0.119 total time=  15.1s\n",
            "[CV 1/5] END C=0.1, class_weight={0: 0.15, 1: 5}, degree=2, kernel=rbf;, score=0.119 total time=  15.4s\n",
            "[CV 2/5] END C=0.1, class_weight={0: 0.15, 1: 5}, degree=2, kernel=rbf;, score=0.119 total time=  15.3s\n",
            "[CV 3/5] END C=0.1, class_weight={0: 0.15, 1: 5}, degree=2, kernel=rbf;, score=0.119 total time=  15.3s\n",
            "[CV 4/5] END C=0.1, class_weight={0: 0.15, 1: 5}, degree=2, kernel=rbf;, score=0.118 total time=  15.8s\n",
            "[CV 5/5] END C=0.1, class_weight={0: 0.15, 1: 5}, degree=2, kernel=rbf;, score=0.119 total time=  15.6s\n",
            "[CV 1/5] END C=0.1, class_weight={0: 0.15, 1: 5}, degree=2, kernel=sigmoid;, score=0.119 total time=  15.0s\n",
            "[CV 2/5] END C=0.1, class_weight={0: 0.15, 1: 5}, degree=2, kernel=sigmoid;, score=0.119 total time=  15.1s\n",
            "[CV 3/5] END C=0.1, class_weight={0: 0.15, 1: 5}, degree=2, kernel=sigmoid;, score=0.119 total time=  14.9s\n",
            "[CV 4/5] END C=0.1, class_weight={0: 0.15, 1: 5}, degree=2, kernel=sigmoid;, score=0.118 total time=  15.9s\n",
            "[CV 5/5] END C=0.1, class_weight={0: 0.15, 1: 5}, degree=2, kernel=sigmoid;, score=0.119 total time=  15.0s\n",
            "[CV 1/5] END C=0.1, class_weight={0: 0.15, 1: 5}, degree=3, kernel=linear;, score=0.119 total time=  14.9s\n",
            "[CV 2/5] END C=0.1, class_weight={0: 0.15, 1: 5}, degree=3, kernel=linear;, score=0.119 total time=  14.8s\n",
            "[CV 3/5] END C=0.1, class_weight={0: 0.15, 1: 5}, degree=3, kernel=linear;, score=0.119 total time=  14.8s\n",
            "[CV 4/5] END C=0.1, class_weight={0: 0.15, 1: 5}, degree=3, kernel=linear;, score=0.118 total time=  15.0s\n",
            "[CV 5/5] END C=0.1, class_weight={0: 0.15, 1: 5}, degree=3, kernel=linear;, score=0.119 total time=  15.2s\n",
            "[CV 1/5] END C=0.1, class_weight={0: 0.15, 1: 5}, degree=3, kernel=poly;, score=0.119 total time=  15.0s\n",
            "[CV 2/5] END C=0.1, class_weight={0: 0.15, 1: 5}, degree=3, kernel=poly;, score=0.119 total time=  15.1s\n",
            "[CV 3/5] END C=0.1, class_weight={0: 0.15, 1: 5}, degree=3, kernel=poly;, score=0.119 total time=  14.9s\n",
            "[CV 4/5] END C=0.1, class_weight={0: 0.15, 1: 5}, degree=3, kernel=poly;, score=0.118 total time=  15.0s\n",
            "[CV 5/5] END C=0.1, class_weight={0: 0.15, 1: 5}, degree=3, kernel=poly;, score=0.119 total time=  15.0s\n",
            "[CV 1/5] END C=0.1, class_weight={0: 0.15, 1: 5}, degree=3, kernel=rbf;, score=0.119 total time=  15.3s\n",
            "[CV 2/5] END C=0.1, class_weight={0: 0.15, 1: 5}, degree=3, kernel=rbf;, score=0.119 total time=  15.3s\n",
            "[CV 3/5] END C=0.1, class_weight={0: 0.15, 1: 5}, degree=3, kernel=rbf;, score=0.119 total time=  15.3s\n",
            "[CV 4/5] END C=0.1, class_weight={0: 0.15, 1: 5}, degree=3, kernel=rbf;, score=0.118 total time=  15.4s\n",
            "[CV 5/5] END C=0.1, class_weight={0: 0.15, 1: 5}, degree=3, kernel=rbf;, score=0.119 total time=  15.5s\n",
            "[CV 1/5] END C=0.1, class_weight={0: 0.15, 1: 5}, degree=3, kernel=sigmoid;, score=0.119 total time=  15.0s\n",
            "[CV 2/5] END C=0.1, class_weight={0: 0.15, 1: 5}, degree=3, kernel=sigmoid;, score=0.119 total time=  15.1s\n",
            "[CV 3/5] END C=0.1, class_weight={0: 0.15, 1: 5}, degree=3, kernel=sigmoid;, score=0.119 total time=  14.9s\n",
            "[CV 4/5] END C=0.1, class_weight={0: 0.15, 1: 5}, degree=3, kernel=sigmoid;, score=0.118 total time=  15.0s\n",
            "[CV 5/5] END C=0.1, class_weight={0: 0.15, 1: 5}, degree=3, kernel=sigmoid;, score=0.119 total time=  15.1s\n",
            "[CV 1/5] END C=1, class_weight={0: 0.15, 1: 1}, degree=2, kernel=linear;, score=0.607 total time=  13.9s\n",
            "[CV 2/5] END C=1, class_weight={0: 0.15, 1: 1}, degree=2, kernel=linear;, score=0.636 total time=  14.1s\n",
            "[CV 3/5] END C=1, class_weight={0: 0.15, 1: 1}, degree=2, kernel=linear;, score=0.621 total time=  13.9s\n",
            "[CV 4/5] END C=1, class_weight={0: 0.15, 1: 1}, degree=2, kernel=linear;, score=0.659 total time=  14.1s\n",
            "[CV 5/5] END C=1, class_weight={0: 0.15, 1: 1}, degree=2, kernel=linear;, score=0.617 total time=  14.1s\n",
            "[CV 1/5] END C=1, class_weight={0: 0.15, 1: 1}, degree=2, kernel=poly;, score=0.607 total time=  15.0s\n",
            "[CV 2/5] END C=1, class_weight={0: 0.15, 1: 1}, degree=2, kernel=poly;, score=0.648 total time=  15.1s\n",
            "[CV 3/5] END C=1, class_weight={0: 0.15, 1: 1}, degree=2, kernel=poly;, score=0.622 total time=  14.8s\n",
            "[CV 4/5] END C=1, class_weight={0: 0.15, 1: 1}, degree=2, kernel=poly;, score=0.657 total time=  15.0s\n",
            "[CV 5/5] END C=1, class_weight={0: 0.15, 1: 1}, degree=2, kernel=poly;, score=0.616 total time=  15.1s\n",
            "[CV 1/5] END C=1, class_weight={0: 0.15, 1: 1}, degree=2, kernel=rbf;, score=0.607 total time=  15.3s\n",
            "[CV 2/5] END C=1, class_weight={0: 0.15, 1: 1}, degree=2, kernel=rbf;, score=0.660 total time=  15.5s\n",
            "[CV 3/5] END C=1, class_weight={0: 0.15, 1: 1}, degree=2, kernel=rbf;, score=0.625 total time=  15.4s\n",
            "[CV 4/5] END C=1, class_weight={0: 0.15, 1: 1}, degree=2, kernel=rbf;, score=0.666 total time=  15.4s\n",
            "[CV 5/5] END C=1, class_weight={0: 0.15, 1: 1}, degree=2, kernel=rbf;, score=0.635 total time=  15.5s\n",
            "[CV 1/5] END C=1, class_weight={0: 0.15, 1: 1}, degree=2, kernel=sigmoid;, score=0.611 total time=  14.4s\n",
            "[CV 2/5] END C=1, class_weight={0: 0.15, 1: 1}, degree=2, kernel=sigmoid;, score=0.629 total time=  14.4s\n",
            "[CV 3/5] END C=1, class_weight={0: 0.15, 1: 1}, degree=2, kernel=sigmoid;, score=0.634 total time=  14.1s\n",
            "[CV 4/5] END C=1, class_weight={0: 0.15, 1: 1}, degree=2, kernel=sigmoid;, score=0.651 total time=  14.2s\n",
            "[CV 5/5] END C=1, class_weight={0: 0.15, 1: 1}, degree=2, kernel=sigmoid;, score=0.655 total time=  14.1s\n",
            "[CV 1/5] END C=1, class_weight={0: 0.15, 1: 1}, degree=3, kernel=linear;, score=0.607 total time=  13.9s\n",
            "[CV 2/5] END C=1, class_weight={0: 0.15, 1: 1}, degree=3, kernel=linear;, score=0.636 total time=  14.1s\n",
            "[CV 3/5] END C=1, class_weight={0: 0.15, 1: 1}, degree=3, kernel=linear;, score=0.621 total time=  13.9s\n",
            "[CV 4/5] END C=1, class_weight={0: 0.15, 1: 1}, degree=3, kernel=linear;, score=0.659 total time=  14.0s\n",
            "[CV 5/5] END C=1, class_weight={0: 0.15, 1: 1}, degree=3, kernel=linear;, score=0.617 total time=  14.2s\n",
            "[CV 1/5] END C=1, class_weight={0: 0.15, 1: 1}, degree=3, kernel=poly;, score=0.144 total time=  15.0s\n",
            "[CV 2/5] END C=1, class_weight={0: 0.15, 1: 1}, degree=3, kernel=poly;, score=0.141 total time=  15.0s\n",
            "[CV 3/5] END C=1, class_weight={0: 0.15, 1: 1}, degree=3, kernel=poly;, score=0.143 total time=  14.9s\n",
            "[CV 4/5] END C=1, class_weight={0: 0.15, 1: 1}, degree=3, kernel=poly;, score=0.133 total time=  14.8s\n",
            "[CV 5/5] END C=1, class_weight={0: 0.15, 1: 1}, degree=3, kernel=poly;, score=0.149 total time=  14.9s\n",
            "[CV 1/5] END C=1, class_weight={0: 0.15, 1: 1}, degree=3, kernel=rbf;, score=0.607 total time=  15.4s\n",
            "[CV 2/5] END C=1, class_weight={0: 0.15, 1: 1}, degree=3, kernel=rbf;, score=0.660 total time=  15.5s\n",
            "[CV 3/5] END C=1, class_weight={0: 0.15, 1: 1}, degree=3, kernel=rbf;, score=0.625 total time=  15.4s\n",
            "[CV 4/5] END C=1, class_weight={0: 0.15, 1: 1}, degree=3, kernel=rbf;, score=0.666 total time=  15.4s\n",
            "[CV 5/5] END C=1, class_weight={0: 0.15, 1: 1}, degree=3, kernel=rbf;, score=0.635 total time=  15.6s\n",
            "[CV 1/5] END C=1, class_weight={0: 0.15, 1: 1}, degree=3, kernel=sigmoid;, score=0.611 total time=  14.1s\n",
            "[CV 2/5] END C=1, class_weight={0: 0.15, 1: 1}, degree=3, kernel=sigmoid;, score=0.629 total time=  14.2s\n",
            "[CV 3/5] END C=1, class_weight={0: 0.15, 1: 1}, degree=3, kernel=sigmoid;, score=0.634 total time=  13.9s\n",
            "[CV 4/5] END C=1, class_weight={0: 0.15, 1: 1}, degree=3, kernel=sigmoid;, score=0.651 total time=  14.2s\n",
            "[CV 5/5] END C=1, class_weight={0: 0.15, 1: 1}, degree=3, kernel=sigmoid;, score=0.655 total time=  14.2s\n",
            "[CV 1/5] END C=1, class_weight={0: 0.3, 1: 1}, degree=2, kernel=linear;, score=0.528 total time=  12.0s\n",
            "[CV 2/5] END C=1, class_weight={0: 0.3, 1: 1}, degree=2, kernel=linear;, score=0.586 total time=  12.0s\n",
            "[CV 3/5] END C=1, class_weight={0: 0.3, 1: 1}, degree=2, kernel=linear;, score=0.593 total time=  11.9s\n",
            "[CV 4/5] END C=1, class_weight={0: 0.3, 1: 1}, degree=2, kernel=linear;, score=0.615 total time=  12.1s\n",
            "[CV 5/5] END C=1, class_weight={0: 0.3, 1: 1}, degree=2, kernel=linear;, score=0.547 total time=  11.9s\n",
            "[CV 1/5] END C=1, class_weight={0: 0.3, 1: 1}, degree=2, kernel=poly;, score=0.464 total time=  14.8s\n",
            "[CV 2/5] END C=1, class_weight={0: 0.3, 1: 1}, degree=2, kernel=poly;, score=0.464 total time=  14.9s\n",
            "[CV 3/5] END C=1, class_weight={0: 0.3, 1: 1}, degree=2, kernel=poly;, score=0.464 total time=  14.7s\n",
            "[CV 4/5] END C=1, class_weight={0: 0.3, 1: 1}, degree=2, kernel=poly;, score=0.464 total time=  14.9s\n",
            "[CV 5/5] END C=1, class_weight={0: 0.3, 1: 1}, degree=2, kernel=poly;, score=0.464 total time=  14.9s\n",
            "[CV 1/5] END C=1, class_weight={0: 0.3, 1: 1}, degree=2, kernel=rbf;, score=0.463 total time=  14.8s\n",
            "[CV 2/5] END C=1, class_weight={0: 0.3, 1: 1}, degree=2, kernel=rbf;, score=0.464 total time=  14.9s\n",
            "[CV 3/5] END C=1, class_weight={0: 0.3, 1: 1}, degree=2, kernel=rbf;, score=0.475 total time=  14.7s\n",
            "[CV 4/5] END C=1, class_weight={0: 0.3, 1: 1}, degree=2, kernel=rbf;, score=0.464 total time=  14.9s\n",
            "[CV 5/5] END C=1, class_weight={0: 0.3, 1: 1}, degree=2, kernel=rbf;, score=0.488 total time=  14.9s\n",
            "[CV 1/5] END C=1, class_weight={0: 0.3, 1: 1}, degree=2, kernel=sigmoid;, score=0.526 total time=  11.5s\n",
            "[CV 2/5] END C=1, class_weight={0: 0.3, 1: 1}, degree=2, kernel=sigmoid;, score=0.588 total time=  11.5s\n",
            "[CV 3/5] END C=1, class_weight={0: 0.3, 1: 1}, degree=2, kernel=sigmoid;, score=0.593 total time=  11.2s\n",
            "[CV 4/5] END C=1, class_weight={0: 0.3, 1: 1}, degree=2, kernel=sigmoid;, score=0.623 total time=  11.5s\n",
            "[CV 5/5] END C=1, class_weight={0: 0.3, 1: 1}, degree=2, kernel=sigmoid;, score=0.547 total time=  11.2s\n",
            "[CV 1/5] END C=1, class_weight={0: 0.3, 1: 1}, degree=3, kernel=linear;, score=0.528 total time=  11.9s\n",
            "[CV 2/5] END C=1, class_weight={0: 0.3, 1: 1}, degree=3, kernel=linear;, score=0.586 total time=  11.9s\n",
            "[CV 3/5] END C=1, class_weight={0: 0.3, 1: 1}, degree=3, kernel=linear;, score=0.593 total time=  11.9s\n",
            "[CV 4/5] END C=1, class_weight={0: 0.3, 1: 1}, degree=3, kernel=linear;, score=0.615 total time=  12.1s\n",
            "[CV 5/5] END C=1, class_weight={0: 0.3, 1: 1}, degree=3, kernel=linear;, score=0.547 total time=  11.8s\n",
            "[CV 1/5] END C=1, class_weight={0: 0.3, 1: 1}, degree=3, kernel=poly;, score=0.464 total time=  14.9s\n",
            "[CV 2/5] END C=1, class_weight={0: 0.3, 1: 1}, degree=3, kernel=poly;, score=0.464 total time=  14.9s\n",
            "[CV 3/5] END C=1, class_weight={0: 0.3, 1: 1}, degree=3, kernel=poly;, score=0.464 total time=  14.7s\n",
            "[CV 4/5] END C=1, class_weight={0: 0.3, 1: 1}, degree=3, kernel=poly;, score=0.464 total time=  14.8s\n",
            "[CV 5/5] END C=1, class_weight={0: 0.3, 1: 1}, degree=3, kernel=poly;, score=0.464 total time=  14.9s\n",
            "[CV 1/5] END C=1, class_weight={0: 0.3, 1: 1}, degree=3, kernel=rbf;, score=0.463 total time=  14.7s\n",
            "[CV 2/5] END C=1, class_weight={0: 0.3, 1: 1}, degree=3, kernel=rbf;, score=0.464 total time=  14.8s\n",
            "[CV 3/5] END C=1, class_weight={0: 0.3, 1: 1}, degree=3, kernel=rbf;, score=0.475 total time=  14.8s\n",
            "[CV 4/5] END C=1, class_weight={0: 0.3, 1: 1}, degree=3, kernel=rbf;, score=0.464 total time=  15.0s\n",
            "[CV 5/5] END C=1, class_weight={0: 0.3, 1: 1}, degree=3, kernel=rbf;, score=0.488 total time=  14.8s\n",
            "[CV 1/5] END C=1, class_weight={0: 0.3, 1: 1}, degree=3, kernel=sigmoid;, score=0.526 total time=  11.5s\n",
            "[CV 2/5] END C=1, class_weight={0: 0.3, 1: 1}, degree=3, kernel=sigmoid;, score=0.588 total time=  11.5s\n",
            "[CV 3/5] END C=1, class_weight={0: 0.3, 1: 1}, degree=3, kernel=sigmoid;, score=0.593 total time=  11.2s\n",
            "[CV 4/5] END C=1, class_weight={0: 0.3, 1: 1}, degree=3, kernel=sigmoid;, score=0.623 total time=  11.5s\n",
            "[CV 5/5] END C=1, class_weight={0: 0.3, 1: 1}, degree=3, kernel=sigmoid;, score=0.547 total time=  11.2s\n",
            "[CV 1/5] END C=1, class_weight={0: 0.2, 1: 3}, degree=2, kernel=linear;, score=0.616 total time=  13.7s\n",
            "[CV 2/5] END C=1, class_weight={0: 0.2, 1: 3}, degree=2, kernel=linear;, score=0.650 total time=  13.7s\n",
            "[CV 3/5] END C=1, class_weight={0: 0.2, 1: 3}, degree=2, kernel=linear;, score=0.635 total time=  13.6s\n",
            "[CV 4/5] END C=1, class_weight={0: 0.2, 1: 3}, degree=2, kernel=linear;, score=0.666 total time=  13.9s\n",
            "[CV 5/5] END C=1, class_weight={0: 0.2, 1: 3}, degree=2, kernel=linear;, score=0.634 total time=  13.7s\n",
            "[CV 1/5] END C=1, class_weight={0: 0.2, 1: 3}, degree=2, kernel=poly;, score=0.504 total time=  14.9s\n",
            "[CV 2/5] END C=1, class_weight={0: 0.2, 1: 3}, degree=2, kernel=poly;, score=0.532 total time=  14.9s\n",
            "[CV 3/5] END C=1, class_weight={0: 0.2, 1: 3}, degree=2, kernel=poly;, score=0.518 total time=  14.7s\n",
            "[CV 4/5] END C=1, class_weight={0: 0.2, 1: 3}, degree=2, kernel=poly;, score=0.498 total time=  14.8s\n",
            "[CV 5/5] END C=1, class_weight={0: 0.2, 1: 3}, degree=2, kernel=poly;, score=0.541 total time=  15.0s\n",
            "[CV 1/5] END C=1, class_weight={0: 0.2, 1: 3}, degree=2, kernel=rbf;, score=0.600 total time=  15.2s\n",
            "[CV 2/5] END C=1, class_weight={0: 0.2, 1: 3}, degree=2, kernel=rbf;, score=0.631 total time=  15.3s\n",
            "[CV 3/5] END C=1, class_weight={0: 0.2, 1: 3}, degree=2, kernel=rbf;, score=0.601 total time=  15.2s\n",
            "[CV 4/5] END C=1, class_weight={0: 0.2, 1: 3}, degree=2, kernel=rbf;, score=0.688 total time=  15.4s\n",
            "[CV 5/5] END C=1, class_weight={0: 0.2, 1: 3}, degree=2, kernel=rbf;, score=0.594 total time=  16.0s\n",
            "[CV 1/5] END C=1, class_weight={0: 0.2, 1: 3}, degree=2, kernel=sigmoid;, score=0.615 total time=  15.1s\n",
            "[CV 2/5] END C=1, class_weight={0: 0.2, 1: 3}, degree=2, kernel=sigmoid;, score=0.627 total time=  14.3s\n",
            "[CV 3/5] END C=1, class_weight={0: 0.2, 1: 3}, degree=2, kernel=sigmoid;, score=0.619 total time=  14.2s\n",
            "[CV 4/5] END C=1, class_weight={0: 0.2, 1: 3}, degree=2, kernel=sigmoid;, score=0.628 total time=  14.4s\n",
            "[CV 5/5] END C=1, class_weight={0: 0.2, 1: 3}, degree=2, kernel=sigmoid;, score=0.612 total time=  14.3s\n",
            "[CV 1/5] END C=1, class_weight={0: 0.2, 1: 3}, degree=3, kernel=linear;, score=0.616 total time=  13.6s\n",
            "[CV 2/5] END C=1, class_weight={0: 0.2, 1: 3}, degree=3, kernel=linear;, score=0.650 total time=  13.7s\n",
            "[CV 3/5] END C=1, class_weight={0: 0.2, 1: 3}, degree=3, kernel=linear;, score=0.635 total time=  13.6s\n",
            "[CV 4/5] END C=1, class_weight={0: 0.2, 1: 3}, degree=3, kernel=linear;, score=0.666 total time=  13.9s\n",
            "[CV 5/5] END C=1, class_weight={0: 0.2, 1: 3}, degree=3, kernel=linear;, score=0.634 total time=  13.7s\n",
            "[CV 1/5] END C=1, class_weight={0: 0.2, 1: 3}, degree=3, kernel=poly;, score=0.475 total time=  14.9s\n",
            "[CV 2/5] END C=1, class_weight={0: 0.2, 1: 3}, degree=3, kernel=poly;, score=0.464 total time=  15.1s\n",
            "[CV 3/5] END C=1, class_weight={0: 0.2, 1: 3}, degree=3, kernel=poly;, score=0.463 total time=  14.8s\n",
            "[CV 4/5] END C=1, class_weight={0: 0.2, 1: 3}, degree=3, kernel=poly;, score=0.488 total time=  14.9s\n",
            "[CV 5/5] END C=1, class_weight={0: 0.2, 1: 3}, degree=3, kernel=poly;, score=0.475 total time=  14.9s\n",
            "[CV 1/5] END C=1, class_weight={0: 0.2, 1: 3}, degree=3, kernel=rbf;, score=0.600 total time=  15.2s\n",
            "[CV 2/5] END C=1, class_weight={0: 0.2, 1: 3}, degree=3, kernel=rbf;, score=0.631 total time=  15.4s\n",
            "[CV 3/5] END C=1, class_weight={0: 0.2, 1: 3}, degree=3, kernel=rbf;, score=0.601 total time=  15.5s\n",
            "[CV 4/5] END C=1, class_weight={0: 0.2, 1: 3}, degree=3, kernel=rbf;, score=0.688 total time=  15.7s\n",
            "[CV 5/5] END C=1, class_weight={0: 0.2, 1: 3}, degree=3, kernel=rbf;, score=0.594 total time=  15.7s\n",
            "[CV 1/5] END C=1, class_weight={0: 0.2, 1: 3}, degree=3, kernel=sigmoid;, score=0.615 total time=  14.2s\n",
            "[CV 2/5] END C=1, class_weight={0: 0.2, 1: 3}, degree=3, kernel=sigmoid;, score=0.627 total time=  14.4s\n",
            "[CV 3/5] END C=1, class_weight={0: 0.2, 1: 3}, degree=3, kernel=sigmoid;, score=0.619 total time=  14.1s\n",
            "[CV 4/5] END C=1, class_weight={0: 0.2, 1: 3}, degree=3, kernel=sigmoid;, score=0.628 total time=  14.4s\n",
            "[CV 5/5] END C=1, class_weight={0: 0.2, 1: 3}, degree=3, kernel=sigmoid;, score=0.612 total time=  14.1s\n",
            "[CV 1/5] END C=1, class_weight={0: 0.15, 1: 5}, degree=2, kernel=linear;, score=0.609 total time=  14.3s\n",
            "[CV 2/5] END C=1, class_weight={0: 0.15, 1: 5}, degree=2, kernel=linear;, score=0.619 total time=  14.4s\n",
            "[CV 3/5] END C=1, class_weight={0: 0.15, 1: 5}, degree=2, kernel=linear;, score=0.636 total time=  14.3s\n",
            "[CV 4/5] END C=1, class_weight={0: 0.15, 1: 5}, degree=2, kernel=linear;, score=0.627 total time=  14.5s\n",
            "[CV 5/5] END C=1, class_weight={0: 0.15, 1: 5}, degree=2, kernel=linear;, score=0.627 total time=  14.5s\n",
            "[CV 1/5] END C=1, class_weight={0: 0.15, 1: 5}, degree=2, kernel=poly;, score=0.622 total time=  15.0s\n",
            "[CV 2/5] END C=1, class_weight={0: 0.15, 1: 5}, degree=2, kernel=poly;, score=0.620 total time=  15.0s\n",
            "[CV 3/5] END C=1, class_weight={0: 0.15, 1: 5}, degree=2, kernel=poly;, score=0.626 total time=  14.8s\n",
            "[CV 4/5] END C=1, class_weight={0: 0.15, 1: 5}, degree=2, kernel=poly;, score=0.627 total time=  14.9s\n",
            "[CV 5/5] END C=1, class_weight={0: 0.15, 1: 5}, degree=2, kernel=poly;, score=0.608 total time=  15.0s\n",
            "[CV 1/5] END C=1, class_weight={0: 0.15, 1: 5}, degree=2, kernel=rbf;, score=0.534 total time=  15.3s\n",
            "[CV 2/5] END C=1, class_weight={0: 0.15, 1: 5}, degree=2, kernel=rbf;, score=0.525 total time=  17.7s\n",
            "[CV 3/5] END C=1, class_weight={0: 0.15, 1: 5}, degree=2, kernel=rbf;, score=0.517 total time=  15.4s\n",
            "[CV 4/5] END C=1, class_weight={0: 0.15, 1: 5}, degree=2, kernel=rbf;, score=0.503 total time=  19.1s\n",
            "[CV 5/5] END C=1, class_weight={0: 0.15, 1: 5}, degree=2, kernel=rbf;, score=0.519 total time=  18.7s\n",
            "[CV 1/5] END C=1, class_weight={0: 0.15, 1: 5}, degree=2, kernel=sigmoid;, score=0.549 total time=  18.3s\n",
            "[CV 2/5] END C=1, class_weight={0: 0.15, 1: 5}, degree=2, kernel=sigmoid;, score=0.545 total time=  16.2s\n",
            "[CV 3/5] END C=1, class_weight={0: 0.15, 1: 5}, degree=2, kernel=sigmoid;, score=0.540 total time=  15.8s\n",
            "[CV 4/5] END C=1, class_weight={0: 0.15, 1: 5}, degree=2, kernel=sigmoid;, score=0.514 total time=  17.2s\n",
            "[CV 5/5] END C=1, class_weight={0: 0.15, 1: 5}, degree=2, kernel=sigmoid;, score=0.541 total time=  17.7s\n",
            "[CV 1/5] END C=1, class_weight={0: 0.15, 1: 5}, degree=3, kernel=linear;, score=0.609 total time=  16.5s\n",
            "[CV 2/5] END C=1, class_weight={0: 0.15, 1: 5}, degree=3, kernel=linear;, score=0.619 total time=  15.9s\n",
            "[CV 3/5] END C=1, class_weight={0: 0.15, 1: 5}, degree=3, kernel=linear;, score=0.636 total time=  17.4s\n",
            "[CV 4/5] END C=1, class_weight={0: 0.15, 1: 5}, degree=3, kernel=linear;, score=0.627 total time=  14.4s\n",
            "[CV 5/5] END C=1, class_weight={0: 0.15, 1: 5}, degree=3, kernel=linear;, score=0.627 total time=  14.5s\n",
            "[CV 1/5] END C=1, class_weight={0: 0.15, 1: 5}, degree=3, kernel=poly;, score=0.142 total time=  14.9s\n",
            "[CV 2/5] END C=1, class_weight={0: 0.15, 1: 5}, degree=3, kernel=poly;, score=0.141 total time=  14.9s\n",
            "[CV 3/5] END C=1, class_weight={0: 0.15, 1: 5}, degree=3, kernel=poly;, score=0.143 total time=  14.7s\n",
            "[CV 4/5] END C=1, class_weight={0: 0.15, 1: 5}, degree=3, kernel=poly;, score=0.131 total time=  14.9s\n",
            "[CV 5/5] END C=1, class_weight={0: 0.15, 1: 5}, degree=3, kernel=poly;, score=0.147 total time=  15.0s\n",
            "[CV 1/5] END C=1, class_weight={0: 0.15, 1: 5}, degree=3, kernel=rbf;, score=0.534 total time=  15.5s\n",
            "[CV 2/5] END C=1, class_weight={0: 0.15, 1: 5}, degree=3, kernel=rbf;, score=0.525 total time=  15.6s\n",
            "[CV 3/5] END C=1, class_weight={0: 0.15, 1: 5}, degree=3, kernel=rbf;, score=0.517 total time=  21.7s\n",
            "[CV 4/5] END C=1, class_weight={0: 0.15, 1: 5}, degree=3, kernel=rbf;, score=0.503 total time=  19.7s\n",
            "[CV 5/5] END C=1, class_weight={0: 0.15, 1: 5}, degree=3, kernel=rbf;, score=0.519 total time=  17.5s\n",
            "[CV 1/5] END C=1, class_weight={0: 0.15, 1: 5}, degree=3, kernel=sigmoid;, score=0.549 total time=  21.4s\n",
            "[CV 2/5] END C=1, class_weight={0: 0.15, 1: 5}, degree=3, kernel=sigmoid;, score=0.545 total time=  16.6s\n",
            "[CV 3/5] END C=1, class_weight={0: 0.15, 1: 5}, degree=3, kernel=sigmoid;, score=0.540 total time=  15.2s\n",
            "[CV 4/5] END C=1, class_weight={0: 0.15, 1: 5}, degree=3, kernel=sigmoid;, score=0.514 total time=  15.2s\n",
            "[CV 5/5] END C=1, class_weight={0: 0.15, 1: 5}, degree=3, kernel=sigmoid;, score=0.541 total time=  14.7s\n",
            "[CV 1/5] END C=10, class_weight={0: 0.15, 1: 1}, degree=2, kernel=linear;, score=0.509 total time=  13.7s\n",
            "[CV 2/5] END C=10, class_weight={0: 0.15, 1: 1}, degree=2, kernel=linear;, score=0.570 total time=  13.7s\n",
            "[CV 3/5] END C=10, class_weight={0: 0.15, 1: 1}, degree=2, kernel=linear;, score=0.550 total time=  13.7s\n",
            "[CV 4/5] END C=10, class_weight={0: 0.15, 1: 1}, degree=2, kernel=linear;, score=0.586 total time=  13.8s\n",
            "[CV 5/5] END C=10, class_weight={0: 0.15, 1: 1}, degree=2, kernel=linear;, score=0.540 total time=  13.7s\n",
            "[CV 1/5] END C=10, class_weight={0: 0.15, 1: 1}, degree=2, kernel=poly;, score=0.475 total time=  15.3s\n",
            "[CV 2/5] END C=10, class_weight={0: 0.15, 1: 1}, degree=2, kernel=poly;, score=0.464 total time=  14.9s\n",
            "[CV 3/5] END C=10, class_weight={0: 0.15, 1: 1}, degree=2, kernel=poly;, score=0.475 total time=  14.8s\n",
            "[CV 4/5] END C=10, class_weight={0: 0.15, 1: 1}, degree=2, kernel=poly;, score=0.488 total time=  14.8s\n",
            "[CV 5/5] END C=10, class_weight={0: 0.15, 1: 1}, degree=2, kernel=poly;, score=0.488 total time=  15.1s\n",
            "[CV 1/5] END C=10, class_weight={0: 0.15, 1: 1}, degree=2, kernel=rbf;, score=0.473 total time=  15.3s\n",
            "[CV 2/5] END C=10, class_weight={0: 0.15, 1: 1}, degree=2, kernel=rbf;, score=0.476 total time=  15.3s\n",
            "[CV 3/5] END C=10, class_weight={0: 0.15, 1: 1}, degree=2, kernel=rbf;, score=0.474 total time=  15.6s\n",
            "[CV 4/5] END C=10, class_weight={0: 0.15, 1: 1}, degree=2, kernel=rbf;, score=0.488 total time=  15.2s\n",
            "[CV 5/5] END C=10, class_weight={0: 0.15, 1: 1}, degree=2, kernel=rbf;, score=0.510 total time=  15.2s\n",
            "[CV 1/5] END C=10, class_weight={0: 0.15, 1: 1}, degree=2, kernel=sigmoid;, score=0.522 total time=  12.9s\n",
            "[CV 2/5] END C=10, class_weight={0: 0.15, 1: 1}, degree=2, kernel=sigmoid;, score=0.576 total time=  13.0s\n",
            "[CV 3/5] END C=10, class_weight={0: 0.15, 1: 1}, degree=2, kernel=sigmoid;, score=0.592 total time=  12.9s\n",
            "[CV 4/5] END C=10, class_weight={0: 0.15, 1: 1}, degree=2, kernel=sigmoid;, score=0.608 total time=  13.0s\n",
            "[CV 5/5] END C=10, class_weight={0: 0.15, 1: 1}, degree=2, kernel=sigmoid;, score=0.557 total time=  12.9s\n",
            "[CV 1/5] END C=10, class_weight={0: 0.15, 1: 1}, degree=3, kernel=linear;, score=0.509 total time=  13.7s\n",
            "[CV 2/5] END C=10, class_weight={0: 0.15, 1: 1}, degree=3, kernel=linear;, score=0.570 total time=  13.7s\n",
            "[CV 3/5] END C=10, class_weight={0: 0.15, 1: 1}, degree=3, kernel=linear;, score=0.550 total time=  13.7s\n",
            "[CV 4/5] END C=10, class_weight={0: 0.15, 1: 1}, degree=3, kernel=linear;, score=0.586 total time=  13.7s\n",
            "[CV 5/5] END C=10, class_weight={0: 0.15, 1: 1}, degree=3, kernel=linear;, score=0.540 total time=  13.7s\n",
            "[CV 1/5] END C=10, class_weight={0: 0.15, 1: 1}, degree=3, kernel=poly;, score=0.475 total time=  14.8s\n",
            "[CV 2/5] END C=10, class_weight={0: 0.15, 1: 1}, degree=3, kernel=poly;, score=0.464 total time=  15.0s\n",
            "[CV 3/5] END C=10, class_weight={0: 0.15, 1: 1}, degree=3, kernel=poly;, score=0.463 total time=  14.8s\n",
            "[CV 4/5] END C=10, class_weight={0: 0.15, 1: 1}, degree=3, kernel=poly;, score=0.488 total time=  14.9s\n",
            "[CV 5/5] END C=10, class_weight={0: 0.15, 1: 1}, degree=3, kernel=poly;, score=0.463 total time=  15.1s\n",
            "[CV 1/5] END C=10, class_weight={0: 0.15, 1: 1}, degree=3, kernel=rbf;, score=0.473 total time=  15.2s\n",
            "[CV 2/5] END C=10, class_weight={0: 0.15, 1: 1}, degree=3, kernel=rbf;, score=0.476 total time=  15.3s\n",
            "[CV 3/5] END C=10, class_weight={0: 0.15, 1: 1}, degree=3, kernel=rbf;, score=0.474 total time=  15.1s\n",
            "[CV 4/5] END C=10, class_weight={0: 0.15, 1: 1}, degree=3, kernel=rbf;, score=0.488 total time=  15.2s\n",
            "[CV 5/5] END C=10, class_weight={0: 0.15, 1: 1}, degree=3, kernel=rbf;, score=0.510 total time=  15.1s\n",
            "[CV 1/5] END C=10, class_weight={0: 0.15, 1: 1}, degree=3, kernel=sigmoid;, score=0.522 total time=  12.9s\n",
            "[CV 2/5] END C=10, class_weight={0: 0.15, 1: 1}, degree=3, kernel=sigmoid;, score=0.576 total time=  12.9s\n",
            "[CV 3/5] END C=10, class_weight={0: 0.15, 1: 1}, degree=3, kernel=sigmoid;, score=0.592 total time=  12.9s\n",
            "[CV 4/5] END C=10, class_weight={0: 0.15, 1: 1}, degree=3, kernel=sigmoid;, score=0.608 total time=  12.9s\n",
            "[CV 5/5] END C=10, class_weight={0: 0.15, 1: 1}, degree=3, kernel=sigmoid;, score=0.557 total time=  12.9s\n",
            "[CV 1/5] END C=10, class_weight={0: 0.3, 1: 1}, degree=2, kernel=linear;, score=0.511 total time=  14.3s\n",
            "[CV 2/5] END C=10, class_weight={0: 0.3, 1: 1}, degree=2, kernel=linear;, score=0.549 total time=  13.8s\n",
            "[CV 3/5] END C=10, class_weight={0: 0.3, 1: 1}, degree=2, kernel=linear;, score=0.550 total time=  13.7s\n",
            "[CV 4/5] END C=10, class_weight={0: 0.3, 1: 1}, degree=2, kernel=linear;, score=0.569 total time=  13.8s\n",
            "[CV 5/5] END C=10, class_weight={0: 0.3, 1: 1}, degree=2, kernel=linear;, score=0.540 total time=  13.6s\n",
            "[CV 1/5] END C=10, class_weight={0: 0.3, 1: 1}, degree=2, kernel=poly;, score=0.475 total time=  14.8s\n",
            "[CV 2/5] END C=10, class_weight={0: 0.3, 1: 1}, degree=2, kernel=poly;, score=0.464 total time=  14.9s\n",
            "[CV 3/5] END C=10, class_weight={0: 0.3, 1: 1}, degree=2, kernel=poly;, score=0.475 total time=  14.8s\n",
            "[CV 4/5] END C=10, class_weight={0: 0.3, 1: 1}, degree=2, kernel=poly;, score=0.477 total time=  14.9s\n",
            "[CV 5/5] END C=10, class_weight={0: 0.3, 1: 1}, degree=2, kernel=poly;, score=0.488 total time=  15.1s\n",
            "[CV 1/5] END C=10, class_weight={0: 0.3, 1: 1}, degree=2, kernel=rbf;, score=0.473 total time=  15.3s\n",
            "[CV 2/5] END C=10, class_weight={0: 0.3, 1: 1}, degree=2, kernel=rbf;, score=0.476 total time=  15.3s\n",
            "[CV 3/5] END C=10, class_weight={0: 0.3, 1: 1}, degree=2, kernel=rbf;, score=0.474 total time=  15.2s\n",
            "[CV 4/5] END C=10, class_weight={0: 0.3, 1: 1}, degree=2, kernel=rbf;, score=0.477 total time=  15.1s\n",
            "[CV 5/5] END C=10, class_weight={0: 0.3, 1: 1}, degree=2, kernel=rbf;, score=0.510 total time=  15.2s\n",
            "[CV 1/5] END C=10, class_weight={0: 0.3, 1: 1}, degree=2, kernel=sigmoid;, score=0.526 total time=  13.0s\n",
            "[CV 2/5] END C=10, class_weight={0: 0.3, 1: 1}, degree=2, kernel=sigmoid;, score=0.567 total time=  13.0s\n",
            "[CV 3/5] END C=10, class_weight={0: 0.3, 1: 1}, degree=2, kernel=sigmoid;, score=0.570 total time=  12.9s\n",
            "[CV 4/5] END C=10, class_weight={0: 0.3, 1: 1}, degree=2, kernel=sigmoid;, score=0.588 total time=  13.1s\n",
            "[CV 5/5] END C=10, class_weight={0: 0.3, 1: 1}, degree=2, kernel=sigmoid;, score=0.557 total time=  13.1s\n",
            "[CV 1/5] END C=10, class_weight={0: 0.3, 1: 1}, degree=3, kernel=linear;, score=0.511 total time=  13.7s\n",
            "[CV 2/5] END C=10, class_weight={0: 0.3, 1: 1}, degree=3, kernel=linear;, score=0.549 total time=  13.7s\n",
            "[CV 3/5] END C=10, class_weight={0: 0.3, 1: 1}, degree=3, kernel=linear;, score=0.550 total time=  13.5s\n",
            "[CV 4/5] END C=10, class_weight={0: 0.3, 1: 1}, degree=3, kernel=linear;, score=0.569 total time=  13.7s\n",
            "[CV 5/5] END C=10, class_weight={0: 0.3, 1: 1}, degree=3, kernel=linear;, score=0.540 total time=  13.7s\n",
            "[CV 1/5] END C=10, class_weight={0: 0.3, 1: 1}, degree=3, kernel=poly;, score=0.475 total time=  14.8s\n",
            "[CV 2/5] END C=10, class_weight={0: 0.3, 1: 1}, degree=3, kernel=poly;, score=0.464 total time=  15.0s\n",
            "[CV 3/5] END C=10, class_weight={0: 0.3, 1: 1}, degree=3, kernel=poly;, score=0.463 total time=  14.8s\n",
            "[CV 4/5] END C=10, class_weight={0: 0.3, 1: 1}, degree=3, kernel=poly;, score=0.477 total time=  14.8s\n",
            "[CV 5/5] END C=10, class_weight={0: 0.3, 1: 1}, degree=3, kernel=poly;, score=0.463 total time=  15.0s\n",
            "[CV 1/5] END C=10, class_weight={0: 0.3, 1: 1}, degree=3, kernel=rbf;, score=0.473 total time=  15.1s\n",
            "[CV 2/5] END C=10, class_weight={0: 0.3, 1: 1}, degree=3, kernel=rbf;, score=0.476 total time=  15.2s\n",
            "[CV 3/5] END C=10, class_weight={0: 0.3, 1: 1}, degree=3, kernel=rbf;, score=0.474 total time=  15.1s\n",
            "[CV 4/5] END C=10, class_weight={0: 0.3, 1: 1}, degree=3, kernel=rbf;, score=0.477 total time=  15.2s\n",
            "[CV 5/5] END C=10, class_weight={0: 0.3, 1: 1}, degree=3, kernel=rbf;, score=0.510 total time=  15.2s\n",
            "[CV 1/5] END C=10, class_weight={0: 0.3, 1: 1}, degree=3, kernel=sigmoid;, score=0.526 total time=  13.0s\n",
            "[CV 2/5] END C=10, class_weight={0: 0.3, 1: 1}, degree=3, kernel=sigmoid;, score=0.567 total time=  13.0s\n",
            "[CV 3/5] END C=10, class_weight={0: 0.3, 1: 1}, degree=3, kernel=sigmoid;, score=0.570 total time=  12.9s\n",
            "[CV 4/5] END C=10, class_weight={0: 0.3, 1: 1}, degree=3, kernel=sigmoid;, score=0.588 total time=  13.1s\n",
            "[CV 5/5] END C=10, class_weight={0: 0.3, 1: 1}, degree=3, kernel=sigmoid;, score=0.557 total time=  13.0s\n",
            "[CV 1/5] END C=10, class_weight={0: 0.2, 1: 3}, degree=2, kernel=linear;, score=0.511 total time=  13.6s\n",
            "[CV 2/5] END C=10, class_weight={0: 0.2, 1: 3}, degree=2, kernel=linear;, score=0.549 total time=  13.7s\n",
            "[CV 3/5] END C=10, class_weight={0: 0.2, 1: 3}, degree=2, kernel=linear;, score=0.550 total time=  13.5s\n",
            "[CV 4/5] END C=10, class_weight={0: 0.2, 1: 3}, degree=2, kernel=linear;, score=0.569 total time=  13.7s\n",
            "[CV 5/5] END C=10, class_weight={0: 0.2, 1: 3}, degree=2, kernel=linear;, score=0.540 total time=  13.6s\n",
            "[CV 1/5] END C=10, class_weight={0: 0.2, 1: 3}, degree=2, kernel=poly;, score=0.475 total time=  14.8s\n",
            "[CV 2/5] END C=10, class_weight={0: 0.2, 1: 3}, degree=2, kernel=poly;, score=0.464 total time=  14.9s\n",
            "[CV 3/5] END C=10, class_weight={0: 0.2, 1: 3}, degree=2, kernel=poly;, score=0.475 total time=  14.7s\n",
            "[CV 4/5] END C=10, class_weight={0: 0.2, 1: 3}, degree=2, kernel=poly;, score=0.488 total time=  14.8s\n",
            "[CV 5/5] END C=10, class_weight={0: 0.2, 1: 3}, degree=2, kernel=poly;, score=0.488 total time=  15.0s\n",
            "[CV 1/5] END C=10, class_weight={0: 0.2, 1: 3}, degree=2, kernel=rbf;, score=0.473 total time=  15.1s\n",
            "[CV 2/5] END C=10, class_weight={0: 0.2, 1: 3}, degree=2, kernel=rbf;, score=0.476 total time=  15.2s\n",
            "[CV 3/5] END C=10, class_weight={0: 0.2, 1: 3}, degree=2, kernel=rbf;, score=0.474 total time=  15.1s\n",
            "[CV 4/5] END C=10, class_weight={0: 0.2, 1: 3}, degree=2, kernel=rbf;, score=0.488 total time=  15.1s\n",
            "[CV 5/5] END C=10, class_weight={0: 0.2, 1: 3}, degree=2, kernel=rbf;, score=0.510 total time=  15.2s\n",
            "[CV 1/5] END C=10, class_weight={0: 0.2, 1: 3}, degree=2, kernel=sigmoid;, score=0.531 total time=  12.9s\n",
            "[CV 2/5] END C=10, class_weight={0: 0.2, 1: 3}, degree=2, kernel=sigmoid;, score=0.567 total time=  13.0s\n",
            "[CV 3/5] END C=10, class_weight={0: 0.2, 1: 3}, degree=2, kernel=sigmoid;, score=0.572 total time=  13.2s\n",
            "[CV 4/5] END C=10, class_weight={0: 0.2, 1: 3}, degree=2, kernel=sigmoid;, score=0.600 total time=  13.4s\n",
            "[CV 5/5] END C=10, class_weight={0: 0.2, 1: 3}, degree=2, kernel=sigmoid;, score=0.557 total time=  13.0s\n",
            "[CV 1/5] END C=10, class_weight={0: 0.2, 1: 3}, degree=3, kernel=linear;, score=0.511 total time=  13.8s\n",
            "[CV 2/5] END C=10, class_weight={0: 0.2, 1: 3}, degree=3, kernel=linear;, score=0.549 total time=  13.7s\n",
            "[CV 3/5] END C=10, class_weight={0: 0.2, 1: 3}, degree=3, kernel=linear;, score=0.550 total time=  13.8s\n",
            "[CV 4/5] END C=10, class_weight={0: 0.2, 1: 3}, degree=3, kernel=linear;, score=0.569 total time=  13.8s\n",
            "[CV 5/5] END C=10, class_weight={0: 0.2, 1: 3}, degree=3, kernel=linear;, score=0.540 total time=  13.7s\n",
            "[CV 1/5] END C=10, class_weight={0: 0.2, 1: 3}, degree=3, kernel=poly;, score=0.475 total time=  14.8s\n",
            "[CV 2/5] END C=10, class_weight={0: 0.2, 1: 3}, degree=3, kernel=poly;, score=0.464 total time=  15.0s\n",
            "[CV 3/5] END C=10, class_weight={0: 0.2, 1: 3}, degree=3, kernel=poly;, score=0.463 total time=  14.9s\n",
            "[CV 4/5] END C=10, class_weight={0: 0.2, 1: 3}, degree=3, kernel=poly;, score=0.488 total time=  14.8s\n",
            "[CV 5/5] END C=10, class_weight={0: 0.2, 1: 3}, degree=3, kernel=poly;, score=0.463 total time=  15.0s\n",
            "[CV 1/5] END C=10, class_weight={0: 0.2, 1: 3}, degree=3, kernel=rbf;, score=0.473 total time=  15.2s\n",
            "[CV 2/5] END C=10, class_weight={0: 0.2, 1: 3}, degree=3, kernel=rbf;, score=0.476 total time=  15.3s\n",
            "[CV 3/5] END C=10, class_weight={0: 0.2, 1: 3}, degree=3, kernel=rbf;, score=0.474 total time=  15.1s\n",
            "[CV 4/5] END C=10, class_weight={0: 0.2, 1: 3}, degree=3, kernel=rbf;, score=0.488 total time=  15.1s\n",
            "[CV 5/5] END C=10, class_weight={0: 0.2, 1: 3}, degree=3, kernel=rbf;, score=0.510 total time=  15.1s\n",
            "[CV 1/5] END C=10, class_weight={0: 0.2, 1: 3}, degree=3, kernel=sigmoid;, score=0.531 total time=  13.0s\n",
            "[CV 2/5] END C=10, class_weight={0: 0.2, 1: 3}, degree=3, kernel=sigmoid;, score=0.567 total time=  13.0s\n",
            "[CV 3/5] END C=10, class_weight={0: 0.2, 1: 3}, degree=3, kernel=sigmoid;, score=0.572 total time=  12.9s\n",
            "[CV 4/5] END C=10, class_weight={0: 0.2, 1: 3}, degree=3, kernel=sigmoid;, score=0.600 total time=  13.0s\n",
            "[CV 5/5] END C=10, class_weight={0: 0.2, 1: 3}, degree=3, kernel=sigmoid;, score=0.557 total time=  12.9s\n",
            "[CV 1/5] END C=10, class_weight={0: 0.15, 1: 5}, degree=2, kernel=linear;, score=0.509 total time=  13.7s\n",
            "[CV 2/5] END C=10, class_weight={0: 0.15, 1: 5}, degree=2, kernel=linear;, score=0.570 total time=  13.7s\n",
            "[CV 3/5] END C=10, class_weight={0: 0.15, 1: 5}, degree=2, kernel=linear;, score=0.550 total time=  13.6s\n",
            "[CV 4/5] END C=10, class_weight={0: 0.15, 1: 5}, degree=2, kernel=linear;, score=0.586 total time=  13.7s\n",
            "[CV 5/5] END C=10, class_weight={0: 0.15, 1: 5}, degree=2, kernel=linear;, score=0.540 total time=  13.7s\n",
            "[CV 1/5] END C=10, class_weight={0: 0.15, 1: 5}, degree=2, kernel=poly;, score=0.475 total time=  14.7s\n",
            "[CV 2/5] END C=10, class_weight={0: 0.15, 1: 5}, degree=2, kernel=poly;, score=0.464 total time=  14.9s\n",
            "[CV 3/5] END C=10, class_weight={0: 0.15, 1: 5}, degree=2, kernel=poly;, score=0.475 total time=  14.7s\n",
            "[CV 4/5] END C=10, class_weight={0: 0.15, 1: 5}, degree=2, kernel=poly;, score=0.488 total time=  14.9s\n",
            "[CV 5/5] END C=10, class_weight={0: 0.15, 1: 5}, degree=2, kernel=poly;, score=0.488 total time=  15.1s\n",
            "[CV 1/5] END C=10, class_weight={0: 0.15, 1: 5}, degree=2, kernel=rbf;, score=0.473 total time=  15.2s\n",
            "[CV 2/5] END C=10, class_weight={0: 0.15, 1: 5}, degree=2, kernel=rbf;, score=0.476 total time=  15.2s\n",
            "[CV 3/5] END C=10, class_weight={0: 0.15, 1: 5}, degree=2, kernel=rbf;, score=0.474 total time=  15.1s\n",
            "[CV 4/5] END C=10, class_weight={0: 0.15, 1: 5}, degree=2, kernel=rbf;, score=0.488 total time=  15.1s\n",
            "[CV 5/5] END C=10, class_weight={0: 0.15, 1: 5}, degree=2, kernel=rbf;, score=0.510 total time=  15.2s\n",
            "[CV 1/5] END C=10, class_weight={0: 0.15, 1: 5}, degree=2, kernel=sigmoid;, score=0.522 total time=  12.8s\n",
            "[CV 2/5] END C=10, class_weight={0: 0.15, 1: 5}, degree=2, kernel=sigmoid;, score=0.576 total time=  12.8s\n",
            "[CV 3/5] END C=10, class_weight={0: 0.15, 1: 5}, degree=2, kernel=sigmoid;, score=0.592 total time=  12.9s\n",
            "[CV 4/5] END C=10, class_weight={0: 0.15, 1: 5}, degree=2, kernel=sigmoid;, score=0.608 total time=  12.9s\n",
            "[CV 5/5] END C=10, class_weight={0: 0.15, 1: 5}, degree=2, kernel=sigmoid;, score=0.557 total time=  12.8s\n",
            "[CV 1/5] END C=10, class_weight={0: 0.15, 1: 5}, degree=3, kernel=linear;, score=0.509 total time=  13.7s\n",
            "[CV 2/5] END C=10, class_weight={0: 0.15, 1: 5}, degree=3, kernel=linear;, score=0.570 total time=  14.2s\n",
            "[CV 3/5] END C=10, class_weight={0: 0.15, 1: 5}, degree=3, kernel=linear;, score=0.550 total time=  13.6s\n",
            "[CV 4/5] END C=10, class_weight={0: 0.15, 1: 5}, degree=3, kernel=linear;, score=0.586 total time=  13.7s\n",
            "[CV 5/5] END C=10, class_weight={0: 0.15, 1: 5}, degree=3, kernel=linear;, score=0.540 total time=  13.6s\n",
            "[CV 1/5] END C=10, class_weight={0: 0.15, 1: 5}, degree=3, kernel=poly;, score=0.475 total time=  14.8s\n",
            "[CV 2/5] END C=10, class_weight={0: 0.15, 1: 5}, degree=3, kernel=poly;, score=0.464 total time=  15.1s\n",
            "[CV 3/5] END C=10, class_weight={0: 0.15, 1: 5}, degree=3, kernel=poly;, score=0.463 total time=  14.8s\n",
            "[CV 4/5] END C=10, class_weight={0: 0.15, 1: 5}, degree=3, kernel=poly;, score=0.488 total time=  14.9s\n",
            "[CV 5/5] END C=10, class_weight={0: 0.15, 1: 5}, degree=3, kernel=poly;, score=0.463 total time=  15.0s\n",
            "[CV 1/5] END C=10, class_weight={0: 0.15, 1: 5}, degree=3, kernel=rbf;, score=0.473 total time=  15.2s\n",
            "[CV 2/5] END C=10, class_weight={0: 0.15, 1: 5}, degree=3, kernel=rbf;, score=0.476 total time=  15.2s\n",
            "[CV 3/5] END C=10, class_weight={0: 0.15, 1: 5}, degree=3, kernel=rbf;, score=0.474 total time=  15.0s\n",
            "[CV 4/5] END C=10, class_weight={0: 0.15, 1: 5}, degree=3, kernel=rbf;, score=0.488 total time=  15.2s\n",
            "[CV 5/5] END C=10, class_weight={0: 0.15, 1: 5}, degree=3, kernel=rbf;, score=0.510 total time=  15.1s\n",
            "[CV 1/5] END C=10, class_weight={0: 0.15, 1: 5}, degree=3, kernel=sigmoid;, score=0.522 total time=  12.9s\n",
            "[CV 2/5] END C=10, class_weight={0: 0.15, 1: 5}, degree=3, kernel=sigmoid;, score=0.576 total time=  12.9s\n",
            "[CV 3/5] END C=10, class_weight={0: 0.15, 1: 5}, degree=3, kernel=sigmoid;, score=0.592 total time=  12.9s\n",
            "[CV 4/5] END C=10, class_weight={0: 0.15, 1: 5}, degree=3, kernel=sigmoid;, score=0.608 total time=  13.1s\n",
            "[CV 5/5] END C=10, class_weight={0: 0.15, 1: 5}, degree=3, kernel=sigmoid;, score=0.557 total time=  12.9s\n"
          ]
        },
        {
          "data": {
            "text/plain": [
              "GridSearchCV(estimator=SVC(),\n",
              "             param_grid={'C': [0.01, 0.1, 1, 10],\n",
              "                         'class_weight': [{0: 0.15, 1: 1}, {0: 0.3, 1: 1},\n",
              "                                          {0: 0.2, 1: 3}, {0: 0.15, 1: 5}],\n",
              "                         'degree': [2, 3],\n",
              "                         'kernel': ['linear', 'poly', 'rbf', 'sigmoid']},\n",
              "             scoring='f1_macro', verbose=3)"
            ]
          },
          "execution_count": 31,
          "metadata": {},
          "output_type": "execute_result"
        }
      ],
      "source": [
        "lrm_grid.fit(X_train_tfidf,y_train_tfidf)"
      ]
    },
    {
      "cell_type": "code",
      "execution_count": null,
      "metadata": {
        "colab": {
          "base_uri": "https://localhost:8080/"
        },
        "id": "99d-VuiDlJLu",
        "outputId": "de519e74-9606-465b-dfcd-9d45d24cfa76"
      },
      "outputs": [
        {
          "data": {
            "text/plain": [
              "{'C': 1, 'class_weight': {0: 0.2, 1: 3}, 'degree': 2, 'kernel': 'linear'}"
            ]
          },
          "execution_count": 32,
          "metadata": {},
          "output_type": "execute_result"
        }
      ],
      "source": [
        "lrm_grid.best_params_"
      ]
    },
    {
      "cell_type": "code",
      "execution_count": null,
      "metadata": {
        "colab": {
          "base_uri": "https://localhost:8080/",
          "height": 399
        },
        "id": "-ZtDR_4_3gEo",
        "outputId": "e4344fd1-f047-4a13-c246-aef7244741ed"
      },
      "outputs": [
        {
          "name": "stdout",
          "output_type": "stream",
          "text": [
            "f1-score macro: 0.6532918601939346\n",
            "f1-score micro: 0.7846763540290621\n",
            "accuracy score: 0.7846763540290621\n",
            "recall score: 0.6858969258109864\n",
            "precision score: 0.6387382215535672\n",
            "ROCAUC score: 0.6858969258109864\n"
          ]
        },
        {
          "data": {
            "image/png": "[encoded data removed]",
            "text/plain": [
              "<Figure size 432x288 with 2 Axes>"
            ]
          },
          "metadata": {
            "needs_background": "light"
          },
          "output_type": "display_data"
        }
      ],
      "source": [
        "svm_tfidf = svm.SVC(C=1, class_weight={0:0.2, 1:3}, degree=2, kernel='linear')\n",
        "svm_tfidf.fit(X_train_tfidf, y_train_tfidf)\n",
        "predictions_svm_tfidf = svm_tfidf.predict(X_test_tfidf)\n",
        "print_evaluation(y_test_tfidf, predictions_svm_tfidf)"
      ]
    },
    {
      "cell_type": "code",
      "execution_count": null,
      "metadata": {
        "id": "zpP6lERy9-wH"
      },
      "outputs": [],
      "source": [
        "import pickle\n",
        "# save\n",
        "with open(\"svm_model.pkl\", \"wb\") as f:\n",
        "    pickle.dump(svm_tfidf, f)"
      ]
    },
    {
      "cell_type": "code",
      "execution_count": null,
      "metadata": {
        "colab": {
          "base_uri": "https://localhost:8080/"
        },
        "id": "x0Rj0mho9_pp",
        "outputId": "00717def-0be6-4295-8bde-23ea9f9dc4a6"
      },
      "outputs": [
        {
          "name": "stdout",
          "output_type": "stream",
          "text": [
            "Downloading...\n",
            "From: https://drive.google.com/uc?id=1-JpkW2Y4uHvtEk3a32R9hQBwmioL7NsI\n",
            "To: /content/svm_model.pkl\n",
            "100% 12.5M/12.5M [00:00<00:00, 76.6MB/s]\n"
          ]
        }
      ],
      "source": [
        "# link to saved nodel \n"
      ]
    },
    {
      "cell_type": "code",
      "execution_count": null,
      "metadata": {
        "id": "5R7exG2p9-qa"
      },
      "outputs": [],
      "source": [
        "# load\n",
        "with open(\"svm_modelodel.pkl\", \"rb\") as f:\n",
        "    svm_tfidf = pickle.load(f)"
      ]
    },
    {
      "cell_type": "markdown",
      "metadata": {
        "id": "duMfmDw2n7-i"
      },
      "source": [
        "## bow"
      ]
    },
    {
      "cell_type": "code",
      "execution_count": null,
      "metadata": {
        "colab": {
          "base_uri": "https://localhost:8080/"
        },
        "id": "4ITngsublQmn",
        "outputId": "3c345650-8cf4-41bf-9410-7081b0d7677e"
      },
      "outputs": [
        {
          "name": "stdout",
          "output_type": "stream",
          "text": [
            "Fitting 5 folds for each of 128 candidates, totalling 640 fits\n",
            "[CV 1/5] END C=0.01, class_weight={0: 0.15, 1: 1}, degree=2, kernel=linear;, score=0.553 total time=   8.9s\n",
            "[CV 2/5] END C=0.01, class_weight={0: 0.15, 1: 1}, degree=2, kernel=linear;, score=0.631 total time=   8.8s\n",
            "[CV 3/5] END C=0.01, class_weight={0: 0.15, 1: 1}, degree=2, kernel=linear;, score=0.625 total time=   8.9s\n",
            "[CV 4/5] END C=0.01, class_weight={0: 0.15, 1: 1}, degree=2, kernel=linear;, score=0.649 total time=  11.3s\n",
            "[CV 5/5] END C=0.01, class_weight={0: 0.15, 1: 1}, degree=2, kernel=linear;, score=0.587 total time=  12.1s\n",
            "[CV 1/5] END C=0.01, class_weight={0: 0.15, 1: 1}, degree=2, kernel=poly;, score=0.119 total time=  18.8s\n",
            "[CV 2/5] END C=0.01, class_weight={0: 0.15, 1: 1}, degree=2, kernel=poly;, score=0.119 total time=  16.9s\n",
            "[CV 3/5] END C=0.01, class_weight={0: 0.15, 1: 1}, degree=2, kernel=poly;, score=0.118 total time=  14.8s\n",
            "[CV 4/5] END C=0.01, class_weight={0: 0.15, 1: 1}, degree=2, kernel=poly;, score=0.118 total time=  15.0s\n",
            "[CV 5/5] END C=0.01, class_weight={0: 0.15, 1: 1}, degree=2, kernel=poly;, score=0.119 total time=  15.0s\n",
            "[CV 1/5] END C=0.01, class_weight={0: 0.15, 1: 1}, degree=2, kernel=rbf;, score=0.119 total time=  15.3s\n",
            "[CV 2/5] END C=0.01, class_weight={0: 0.15, 1: 1}, degree=2, kernel=rbf;, score=0.119 total time=  15.4s\n",
            "[CV 3/5] END C=0.01, class_weight={0: 0.15, 1: 1}, degree=2, kernel=rbf;, score=0.119 total time=  15.2s\n",
            "[CV 4/5] END C=0.01, class_weight={0: 0.15, 1: 1}, degree=2, kernel=rbf;, score=0.118 total time=  15.2s\n",
            "[CV 5/5] END C=0.01, class_weight={0: 0.15, 1: 1}, degree=2, kernel=rbf;, score=0.119 total time=  15.3s\n",
            "[CV 1/5] END C=0.01, class_weight={0: 0.15, 1: 1}, degree=2, kernel=sigmoid;, score=0.119 total time=  15.0s\n",
            "[CV 2/5] END C=0.01, class_weight={0: 0.15, 1: 1}, degree=2, kernel=sigmoid;, score=0.119 total time=  15.0s\n",
            "[CV 3/5] END C=0.01, class_weight={0: 0.15, 1: 1}, degree=2, kernel=sigmoid;, score=0.119 total time=  14.8s\n",
            "[CV 4/5] END C=0.01, class_weight={0: 0.15, 1: 1}, degree=2, kernel=sigmoid;, score=0.118 total time=  15.0s\n",
            "[CV 5/5] END C=0.01, class_weight={0: 0.15, 1: 1}, degree=2, kernel=sigmoid;, score=0.119 total time=  16.6s\n",
            "[CV 1/5] END C=0.01, class_weight={0: 0.15, 1: 1}, degree=3, kernel=linear;, score=0.553 total time=   8.8s\n",
            "[CV 2/5] END C=0.01, class_weight={0: 0.15, 1: 1}, degree=3, kernel=linear;, score=0.631 total time=   8.8s\n",
            "[CV 3/5] END C=0.01, class_weight={0: 0.15, 1: 1}, degree=3, kernel=linear;, score=0.625 total time=   8.9s\n",
            "[CV 4/5] END C=0.01, class_weight={0: 0.15, 1: 1}, degree=3, kernel=linear;, score=0.649 total time=   9.0s\n",
            "[CV 5/5] END C=0.01, class_weight={0: 0.15, 1: 1}, degree=3, kernel=linear;, score=0.587 total time=   8.6s\n",
            "[CV 1/5] END C=0.01, class_weight={0: 0.15, 1: 1}, degree=3, kernel=poly;, score=0.121 total time=  14.8s\n",
            "[CV 2/5] END C=0.01, class_weight={0: 0.15, 1: 1}, degree=3, kernel=poly;, score=0.119 total time=  14.9s\n",
            "[CV 3/5] END C=0.01, class_weight={0: 0.15, 1: 1}, degree=3, kernel=poly;, score=0.122 total time=  14.8s\n",
            "[CV 4/5] END C=0.01, class_weight={0: 0.15, 1: 1}, degree=3, kernel=poly;, score=0.122 total time=  14.8s\n",
            "[CV 5/5] END C=0.01, class_weight={0: 0.15, 1: 1}, degree=3, kernel=poly;, score=0.119 total time=  14.9s\n",
            "[CV 1/5] END C=0.01, class_weight={0: 0.15, 1: 1}, degree=3, kernel=rbf;, score=0.119 total time=  15.4s\n",
            "[CV 2/5] END C=0.01, class_weight={0: 0.15, 1: 1}, degree=3, kernel=rbf;, score=0.119 total time=  15.4s\n",
            "[CV 3/5] END C=0.01, class_weight={0: 0.15, 1: 1}, degree=3, kernel=rbf;, score=0.119 total time=  15.3s\n",
            "[CV 4/5] END C=0.01, class_weight={0: 0.15, 1: 1}, degree=3, kernel=rbf;, score=0.118 total time=  15.3s\n",
            "[CV 5/5] END C=0.01, class_weight={0: 0.15, 1: 1}, degree=3, kernel=rbf;, score=0.119 total time=  15.3s\n",
            "[CV 1/5] END C=0.01, class_weight={0: 0.15, 1: 1}, degree=3, kernel=sigmoid;, score=0.119 total time=  14.9s\n",
            "[CV 2/5] END C=0.01, class_weight={0: 0.15, 1: 1}, degree=3, kernel=sigmoid;, score=0.119 total time=  14.9s\n",
            "[CV 3/5] END C=0.01, class_weight={0: 0.15, 1: 1}, degree=3, kernel=sigmoid;, score=0.119 total time=  14.9s\n",
            "[CV 4/5] END C=0.01, class_weight={0: 0.15, 1: 1}, degree=3, kernel=sigmoid;, score=0.118 total time=  14.8s\n",
            "[CV 5/5] END C=0.01, class_weight={0: 0.15, 1: 1}, degree=3, kernel=sigmoid;, score=0.119 total time=  15.1s\n",
            "[CV 1/5] END C=0.01, class_weight={0: 0.3, 1: 1}, degree=2, kernel=linear;, score=0.534 total time=  11.2s\n",
            "[CV 2/5] END C=0.01, class_weight={0: 0.3, 1: 1}, degree=2, kernel=linear;, score=0.610 total time=  11.2s\n",
            "[CV 3/5] END C=0.01, class_weight={0: 0.3, 1: 1}, degree=2, kernel=linear;, score=0.636 total time=  11.2s\n",
            "[CV 4/5] END C=0.01, class_weight={0: 0.3, 1: 1}, degree=2, kernel=linear;, score=0.623 total time=  11.2s\n",
            "[CV 5/5] END C=0.01, class_weight={0: 0.3, 1: 1}, degree=2, kernel=linear;, score=0.595 total time=  11.0s\n",
            "[CV 1/5] END C=0.01, class_weight={0: 0.3, 1: 1}, degree=2, kernel=poly;, score=0.464 total time=  12.2s\n",
            "[CV 2/5] END C=0.01, class_weight={0: 0.3, 1: 1}, degree=2, kernel=poly;, score=0.464 total time=  12.6s\n",
            "[CV 3/5] END C=0.01, class_weight={0: 0.3, 1: 1}, degree=2, kernel=poly;, score=0.476 total time=  12.3s\n",
            "[CV 4/5] END C=0.01, class_weight={0: 0.3, 1: 1}, degree=2, kernel=poly;, score=0.464 total time=  12.6s\n",
            "[CV 5/5] END C=0.01, class_weight={0: 0.3, 1: 1}, degree=2, kernel=poly;, score=0.464 total time=  12.6s\n",
            "[CV 1/5] END C=0.01, class_weight={0: 0.3, 1: 1}, degree=2, kernel=rbf;, score=0.464 total time=  11.4s\n",
            "[CV 2/5] END C=0.01, class_weight={0: 0.3, 1: 1}, degree=2, kernel=rbf;, score=0.464 total time=  11.3s\n",
            "[CV 3/5] END C=0.01, class_weight={0: 0.3, 1: 1}, degree=2, kernel=rbf;, score=0.464 total time=  11.3s\n",
            "[CV 4/5] END C=0.01, class_weight={0: 0.3, 1: 1}, degree=2, kernel=rbf;, score=0.464 total time=  11.3s\n",
            "[CV 5/5] END C=0.01, class_weight={0: 0.3, 1: 1}, degree=2, kernel=rbf;, score=0.464 total time=  11.3s\n",
            "[CV 1/5] END C=0.01, class_weight={0: 0.3, 1: 1}, degree=2, kernel=sigmoid;, score=0.464 total time=  10.0s\n",
            "[CV 2/5] END C=0.01, class_weight={0: 0.3, 1: 1}, degree=2, kernel=sigmoid;, score=0.464 total time=   9.9s\n",
            "[CV 3/5] END C=0.01, class_weight={0: 0.3, 1: 1}, degree=2, kernel=sigmoid;, score=0.464 total time=   9.7s\n",
            "[CV 4/5] END C=0.01, class_weight={0: 0.3, 1: 1}, degree=2, kernel=sigmoid;, score=0.464 total time=   9.8s\n",
            "[CV 5/5] END C=0.01, class_weight={0: 0.3, 1: 1}, degree=2, kernel=sigmoid;, score=0.464 total time=   9.9s\n",
            "[CV 1/5] END C=0.01, class_weight={0: 0.3, 1: 1}, degree=3, kernel=linear;, score=0.534 total time=  11.1s\n",
            "[CV 2/5] END C=0.01, class_weight={0: 0.3, 1: 1}, degree=3, kernel=linear;, score=0.610 total time=  11.3s\n",
            "[CV 3/5] END C=0.01, class_weight={0: 0.3, 1: 1}, degree=3, kernel=linear;, score=0.636 total time=  11.1s\n",
            "[CV 4/5] END C=0.01, class_weight={0: 0.3, 1: 1}, degree=3, kernel=linear;, score=0.623 total time=  11.2s\n",
            "[CV 5/5] END C=0.01, class_weight={0: 0.3, 1: 1}, degree=3, kernel=linear;, score=0.595 total time=  11.2s\n",
            "[CV 1/5] END C=0.01, class_weight={0: 0.3, 1: 1}, degree=3, kernel=poly;, score=0.463 total time=  13.7s\n",
            "[CV 2/5] END C=0.01, class_weight={0: 0.3, 1: 1}, degree=3, kernel=poly;, score=0.464 total time=  13.8s\n",
            "[CV 3/5] END C=0.01, class_weight={0: 0.3, 1: 1}, degree=3, kernel=poly;, score=0.475 total time=  13.7s\n",
            "[CV 4/5] END C=0.01, class_weight={0: 0.3, 1: 1}, degree=3, kernel=poly;, score=0.464 total time=  13.8s\n",
            "[CV 5/5] END C=0.01, class_weight={0: 0.3, 1: 1}, degree=3, kernel=poly;, score=0.464 total time=  13.3s\n",
            "[CV 1/5] END C=0.01, class_weight={0: 0.3, 1: 1}, degree=3, kernel=rbf;, score=0.464 total time=  11.2s\n",
            "[CV 2/5] END C=0.01, class_weight={0: 0.3, 1: 1}, degree=3, kernel=rbf;, score=0.464 total time=  11.3s\n",
            "[CV 3/5] END C=0.01, class_weight={0: 0.3, 1: 1}, degree=3, kernel=rbf;, score=0.464 total time=  11.3s\n",
            "[CV 4/5] END C=0.01, class_weight={0: 0.3, 1: 1}, degree=3, kernel=rbf;, score=0.464 total time=  11.2s\n",
            "[CV 5/5] END C=0.01, class_weight={0: 0.3, 1: 1}, degree=3, kernel=rbf;, score=0.464 total time=  11.2s\n",
            "[CV 1/5] END C=0.01, class_weight={0: 0.3, 1: 1}, degree=3, kernel=sigmoid;, score=0.464 total time=  10.0s\n",
            "[CV 2/5] END C=0.01, class_weight={0: 0.3, 1: 1}, degree=3, kernel=sigmoid;, score=0.464 total time=   9.9s\n",
            "[CV 3/5] END C=0.01, class_weight={0: 0.3, 1: 1}, degree=3, kernel=sigmoid;, score=0.464 total time=   9.8s\n",
            "[CV 4/5] END C=0.01, class_weight={0: 0.3, 1: 1}, degree=3, kernel=sigmoid;, score=0.464 total time=   9.9s\n",
            "[CV 5/5] END C=0.01, class_weight={0: 0.3, 1: 1}, degree=3, kernel=sigmoid;, score=0.464 total time=   9.9s\n",
            "[CV 1/5] END C=0.01, class_weight={0: 0.2, 1: 3}, degree=2, kernel=linear;, score=0.576 total time=   8.5s\n",
            "[CV 2/5] END C=0.01, class_weight={0: 0.2, 1: 3}, degree=2, kernel=linear;, score=0.620 total time=   8.3s\n",
            "[CV 3/5] END C=0.01, class_weight={0: 0.2, 1: 3}, degree=2, kernel=linear;, score=0.614 total time=   8.4s\n",
            "[CV 4/5] END C=0.01, class_weight={0: 0.2, 1: 3}, degree=2, kernel=linear;, score=0.638 total time=   8.6s\n",
            "[CV 5/5] END C=0.01, class_weight={0: 0.2, 1: 3}, degree=2, kernel=linear;, score=0.593 total time=   8.2s\n",
            "[CV 1/5] END C=0.01, class_weight={0: 0.2, 1: 3}, degree=2, kernel=poly;, score=0.119 total time=  14.6s\n",
            "[CV 2/5] END C=0.01, class_weight={0: 0.2, 1: 3}, degree=2, kernel=poly;, score=0.119 total time=  14.8s\n",
            "[CV 3/5] END C=0.01, class_weight={0: 0.2, 1: 3}, degree=2, kernel=poly;, score=0.120 total time=  14.6s\n",
            "[CV 4/5] END C=0.01, class_weight={0: 0.2, 1: 3}, degree=2, kernel=poly;, score=0.118 total time=  14.8s\n",
            "[CV 5/5] END C=0.01, class_weight={0: 0.2, 1: 3}, degree=2, kernel=poly;, score=0.119 total time=  14.8s\n",
            "[CV 1/5] END C=0.01, class_weight={0: 0.2, 1: 3}, degree=2, kernel=rbf;, score=0.119 total time=  15.1s\n",
            "[CV 2/5] END C=0.01, class_weight={0: 0.2, 1: 3}, degree=2, kernel=rbf;, score=0.119 total time=  15.2s\n",
            "[CV 3/5] END C=0.01, class_weight={0: 0.2, 1: 3}, degree=2, kernel=rbf;, score=0.119 total time=  15.2s\n",
            "[CV 4/5] END C=0.01, class_weight={0: 0.2, 1: 3}, degree=2, kernel=rbf;, score=0.118 total time=  15.1s\n",
            "[CV 5/5] END C=0.01, class_weight={0: 0.2, 1: 3}, degree=2, kernel=rbf;, score=0.119 total time=  15.1s\n",
            "[CV 1/5] END C=0.01, class_weight={0: 0.2, 1: 3}, degree=2, kernel=sigmoid;, score=0.119 total time=  13.9s\n",
            "[CV 2/5] END C=0.01, class_weight={0: 0.2, 1: 3}, degree=2, kernel=sigmoid;, score=0.119 total time=  14.1s\n",
            "[CV 3/5] END C=0.01, class_weight={0: 0.2, 1: 3}, degree=2, kernel=sigmoid;, score=0.119 total time=  14.0s\n",
            "[CV 4/5] END C=0.01, class_weight={0: 0.2, 1: 3}, degree=2, kernel=sigmoid;, score=0.118 total time=  14.0s\n",
            "[CV 5/5] END C=0.01, class_weight={0: 0.2, 1: 3}, degree=2, kernel=sigmoid;, score=0.119 total time=  14.1s\n",
            "[CV 1/5] END C=0.01, class_weight={0: 0.2, 1: 3}, degree=3, kernel=linear;, score=0.576 total time=   8.5s\n",
            "[CV 2/5] END C=0.01, class_weight={0: 0.2, 1: 3}, degree=3, kernel=linear;, score=0.620 total time=   8.3s\n",
            "[CV 3/5] END C=0.01, class_weight={0: 0.2, 1: 3}, degree=3, kernel=linear;, score=0.614 total time=   8.3s\n",
            "[CV 4/5] END C=0.01, class_weight={0: 0.2, 1: 3}, degree=3, kernel=linear;, score=0.638 total time=   8.6s\n",
            "[CV 5/5] END C=0.01, class_weight={0: 0.2, 1: 3}, degree=3, kernel=linear;, score=0.593 total time=   8.2s\n",
            "[CV 1/5] END C=0.01, class_weight={0: 0.2, 1: 3}, degree=3, kernel=poly;, score=0.123 total time=  14.7s\n",
            "[CV 2/5] END C=0.01, class_weight={0: 0.2, 1: 3}, degree=3, kernel=poly;, score=0.118 total time=  14.6s\n",
            "[CV 3/5] END C=0.01, class_weight={0: 0.2, 1: 3}, degree=3, kernel=poly;, score=0.130 total time=  14.6s\n",
            "[CV 4/5] END C=0.01, class_weight={0: 0.2, 1: 3}, degree=3, kernel=poly;, score=0.122 total time=  14.7s\n",
            "[CV 5/5] END C=0.01, class_weight={0: 0.2, 1: 3}, degree=3, kernel=poly;, score=0.121 total time=  14.8s\n",
            "[CV 1/5] END C=0.01, class_weight={0: 0.2, 1: 3}, degree=3, kernel=rbf;, score=0.119 total time=  15.1s\n",
            "[CV 2/5] END C=0.01, class_weight={0: 0.2, 1: 3}, degree=3, kernel=rbf;, score=0.119 total time=  15.2s\n",
            "[CV 3/5] END C=0.01, class_weight={0: 0.2, 1: 3}, degree=3, kernel=rbf;, score=0.119 total time=  15.1s\n",
            "[CV 4/5] END C=0.01, class_weight={0: 0.2, 1: 3}, degree=3, kernel=rbf;, score=0.118 total time=  15.1s\n",
            "[CV 5/5] END C=0.01, class_weight={0: 0.2, 1: 3}, degree=3, kernel=rbf;, score=0.119 total time=  15.2s\n",
            "[CV 1/5] END C=0.01, class_weight={0: 0.2, 1: 3}, degree=3, kernel=sigmoid;, score=0.119 total time=  13.9s\n",
            "[CV 2/5] END C=0.01, class_weight={0: 0.2, 1: 3}, degree=3, kernel=sigmoid;, score=0.119 total time=  13.9s\n",
            "[CV 3/5] END C=0.01, class_weight={0: 0.2, 1: 3}, degree=3, kernel=sigmoid;, score=0.119 total time=  13.8s\n",
            "[CV 4/5] END C=0.01, class_weight={0: 0.2, 1: 3}, degree=3, kernel=sigmoid;, score=0.118 total time=  13.9s\n",
            "[CV 5/5] END C=0.01, class_weight={0: 0.2, 1: 3}, degree=3, kernel=sigmoid;, score=0.119 total time=  14.0s\n",
            "[CV 1/5] END C=0.01, class_weight={0: 0.15, 1: 5}, degree=2, kernel=linear;, score=0.590 total time=   8.6s\n",
            "[CV 2/5] END C=0.01, class_weight={0: 0.15, 1: 5}, degree=2, kernel=linear;, score=0.618 total time=   8.5s\n",
            "[CV 3/5] END C=0.01, class_weight={0: 0.15, 1: 5}, degree=2, kernel=linear;, score=0.613 total time=   8.5s\n",
            "[CV 4/5] END C=0.01, class_weight={0: 0.15, 1: 5}, degree=2, kernel=linear;, score=0.653 total time=   8.6s\n",
            "[CV 5/5] END C=0.01, class_weight={0: 0.15, 1: 5}, degree=2, kernel=linear;, score=0.588 total time=   8.5s\n",
            "[CV 1/5] END C=0.01, class_weight={0: 0.15, 1: 5}, degree=2, kernel=poly;, score=0.119 total time=  14.7s\n",
            "[CV 2/5] END C=0.01, class_weight={0: 0.15, 1: 5}, degree=2, kernel=poly;, score=0.119 total time=  14.6s\n",
            "[CV 3/5] END C=0.01, class_weight={0: 0.15, 1: 5}, degree=2, kernel=poly;, score=0.120 total time=  14.4s\n",
            "[CV 4/5] END C=0.01, class_weight={0: 0.15, 1: 5}, degree=2, kernel=poly;, score=0.118 total time=  14.6s\n",
            "[CV 5/5] END C=0.01, class_weight={0: 0.15, 1: 5}, degree=2, kernel=poly;, score=0.119 total time=  14.7s\n",
            "[CV 1/5] END C=0.01, class_weight={0: 0.15, 1: 5}, degree=2, kernel=rbf;, score=0.119 total time=  15.2s\n",
            "[CV 2/5] END C=0.01, class_weight={0: 0.15, 1: 5}, degree=2, kernel=rbf;, score=0.119 total time=  15.2s\n",
            "[CV 3/5] END C=0.01, class_weight={0: 0.15, 1: 5}, degree=2, kernel=rbf;, score=0.119 total time=  15.0s\n",
            "[CV 4/5] END C=0.01, class_weight={0: 0.15, 1: 5}, degree=2, kernel=rbf;, score=0.118 total time=  15.2s\n",
            "[CV 5/5] END C=0.01, class_weight={0: 0.15, 1: 5}, degree=2, kernel=rbf;, score=0.119 total time=  15.3s\n",
            "[CV 1/5] END C=0.01, class_weight={0: 0.15, 1: 5}, degree=2, kernel=sigmoid;, score=0.119 total time=  13.5s\n",
            "[CV 2/5] END C=0.01, class_weight={0: 0.15, 1: 5}, degree=2, kernel=sigmoid;, score=0.119 total time=  13.6s\n",
            "[CV 3/5] END C=0.01, class_weight={0: 0.15, 1: 5}, degree=2, kernel=sigmoid;, score=0.119 total time=  13.5s\n",
            "[CV 4/5] END C=0.01, class_weight={0: 0.15, 1: 5}, degree=2, kernel=sigmoid;, score=0.118 total time=  13.5s\n",
            "[CV 5/5] END C=0.01, class_weight={0: 0.15, 1: 5}, degree=2, kernel=sigmoid;, score=0.119 total time=  13.9s\n",
            "[CV 1/5] END C=0.01, class_weight={0: 0.15, 1: 5}, degree=3, kernel=linear;, score=0.590 total time=   8.7s\n",
            "[CV 2/5] END C=0.01, class_weight={0: 0.15, 1: 5}, degree=3, kernel=linear;, score=0.618 total time=   8.5s\n",
            "[CV 3/5] END C=0.01, class_weight={0: 0.15, 1: 5}, degree=3, kernel=linear;, score=0.613 total time=   8.6s\n",
            "[CV 4/5] END C=0.01, class_weight={0: 0.15, 1: 5}, degree=3, kernel=linear;, score=0.653 total time=   8.7s\n",
            "[CV 5/5] END C=0.01, class_weight={0: 0.15, 1: 5}, degree=3, kernel=linear;, score=0.588 total time=   8.6s\n",
            "[CV 1/5] END C=0.01, class_weight={0: 0.15, 1: 5}, degree=3, kernel=poly;, score=0.121 total time=  14.9s\n",
            "[CV 2/5] END C=0.01, class_weight={0: 0.15, 1: 5}, degree=3, kernel=poly;, score=0.119 total time=  14.8s\n",
            "[CV 3/5] END C=0.01, class_weight={0: 0.15, 1: 5}, degree=3, kernel=poly;, score=0.126 total time=  14.7s\n",
            "[CV 4/5] END C=0.01, class_weight={0: 0.15, 1: 5}, degree=3, kernel=poly;, score=0.122 total time=  14.8s\n",
            "[CV 5/5] END C=0.01, class_weight={0: 0.15, 1: 5}, degree=3, kernel=poly;, score=0.119 total time=  15.1s\n",
            "[CV 1/5] END C=0.01, class_weight={0: 0.15, 1: 5}, degree=3, kernel=rbf;, score=0.119 total time=  15.4s\n",
            "[CV 2/5] END C=0.01, class_weight={0: 0.15, 1: 5}, degree=3, kernel=rbf;, score=0.119 total time=  16.1s\n",
            "[CV 3/5] END C=0.01, class_weight={0: 0.15, 1: 5}, degree=3, kernel=rbf;, score=0.119 total time=  15.7s\n",
            "[CV 4/5] END C=0.01, class_weight={0: 0.15, 1: 5}, degree=3, kernel=rbf;, score=0.118 total time=  16.0s\n",
            "[CV 5/5] END C=0.01, class_weight={0: 0.15, 1: 5}, degree=3, kernel=rbf;, score=0.119 total time=  15.4s\n",
            "[CV 1/5] END C=0.01, class_weight={0: 0.15, 1: 5}, degree=3, kernel=sigmoid;, score=0.119 total time=  14.3s\n",
            "[CV 2/5] END C=0.01, class_weight={0: 0.15, 1: 5}, degree=3, kernel=sigmoid;, score=0.119 total time=  14.2s\n",
            "[CV 3/5] END C=0.01, class_weight={0: 0.15, 1: 5}, degree=3, kernel=sigmoid;, score=0.119 total time=  14.2s\n",
            "[CV 4/5] END C=0.01, class_weight={0: 0.15, 1: 5}, degree=3, kernel=sigmoid;, score=0.118 total time=  14.3s\n",
            "[CV 5/5] END C=0.01, class_weight={0: 0.15, 1: 5}, degree=3, kernel=sigmoid;, score=0.119 total time=  14.3s\n",
            "[CV 1/5] END C=0.1, class_weight={0: 0.15, 1: 1}, degree=2, kernel=linear;, score=0.576 total time=  11.4s\n",
            "[CV 2/5] END C=0.1, class_weight={0: 0.15, 1: 1}, degree=2, kernel=linear;, score=0.617 total time=  11.1s\n",
            "[CV 3/5] END C=0.1, class_weight={0: 0.15, 1: 1}, degree=2, kernel=linear;, score=0.616 total time=  13.9s\n",
            "[CV 4/5] END C=0.1, class_weight={0: 0.15, 1: 1}, degree=2, kernel=linear;, score=0.624 total time=  11.6s\n",
            "[CV 5/5] END C=0.1, class_weight={0: 0.15, 1: 1}, degree=2, kernel=linear;, score=0.567 total time=  10.8s\n",
            "[CV 1/5] END C=0.1, class_weight={0: 0.15, 1: 1}, degree=2, kernel=poly;, score=0.461 total time=  15.4s\n",
            "[CV 2/5] END C=0.1, class_weight={0: 0.15, 1: 1}, degree=2, kernel=poly;, score=0.548 total time=  15.6s\n",
            "[CV 3/5] END C=0.1, class_weight={0: 0.15, 1: 1}, degree=2, kernel=poly;, score=0.553 total time=  14.9s\n",
            "[CV 4/5] END C=0.1, class_weight={0: 0.15, 1: 1}, degree=2, kernel=poly;, score=0.495 total time=  15.0s\n",
            "[CV 5/5] END C=0.1, class_weight={0: 0.15, 1: 1}, degree=2, kernel=poly;, score=0.155 total time=  15.2s\n",
            "[CV 1/5] END C=0.1, class_weight={0: 0.15, 1: 1}, degree=2, kernel=rbf;, score=0.417 total time=  15.6s\n",
            "[CV 2/5] END C=0.1, class_weight={0: 0.15, 1: 1}, degree=2, kernel=rbf;, score=0.119 total time=  15.6s\n",
            "[CV 3/5] END C=0.1, class_weight={0: 0.15, 1: 1}, degree=2, kernel=rbf;, score=0.119 total time=  15.6s\n",
            "[CV 4/5] END C=0.1, class_weight={0: 0.15, 1: 1}, degree=2, kernel=rbf;, score=0.122 total time=  15.6s\n",
            "[CV 5/5] END C=0.1, class_weight={0: 0.15, 1: 1}, degree=2, kernel=rbf;, score=0.119 total time=  15.5s\n",
            "[CV 1/5] END C=0.1, class_weight={0: 0.15, 1: 1}, degree=2, kernel=sigmoid;, score=0.401 total time=  15.0s\n",
            "[CV 2/5] END C=0.1, class_weight={0: 0.15, 1: 1}, degree=2, kernel=sigmoid;, score=0.119 total time=  15.0s\n",
            "[CV 3/5] END C=0.1, class_weight={0: 0.15, 1: 1}, degree=2, kernel=sigmoid;, score=0.119 total time=  14.9s\n",
            "[CV 4/5] END C=0.1, class_weight={0: 0.15, 1: 1}, degree=2, kernel=sigmoid;, score=0.118 total time=  14.8s\n",
            "[CV 5/5] END C=0.1, class_weight={0: 0.15, 1: 1}, degree=2, kernel=sigmoid;, score=0.119 total time=  14.9s\n",
            "[CV 1/5] END C=0.1, class_weight={0: 0.15, 1: 1}, degree=3, kernel=linear;, score=0.576 total time=  10.7s\n",
            "[CV 2/5] END C=0.1, class_weight={0: 0.15, 1: 1}, degree=3, kernel=linear;, score=0.617 total time=  10.9s\n",
            "[CV 3/5] END C=0.1, class_weight={0: 0.15, 1: 1}, degree=3, kernel=linear;, score=0.616 total time=  13.3s\n",
            "[CV 4/5] END C=0.1, class_weight={0: 0.15, 1: 1}, degree=3, kernel=linear;, score=0.624 total time=  11.0s\n",
            "[CV 5/5] END C=0.1, class_weight={0: 0.15, 1: 1}, degree=3, kernel=linear;, score=0.567 total time=  10.6s\n",
            "[CV 1/5] END C=0.1, class_weight={0: 0.15, 1: 1}, degree=3, kernel=poly;, score=0.462 total time=  14.8s\n",
            "[CV 2/5] END C=0.1, class_weight={0: 0.15, 1: 1}, degree=3, kernel=poly;, score=0.464 total time=  14.8s\n",
            "[CV 3/5] END C=0.1, class_weight={0: 0.15, 1: 1}, degree=3, kernel=poly;, score=0.485 total time=  14.7s\n",
            "[CV 4/5] END C=0.1, class_weight={0: 0.15, 1: 1}, degree=3, kernel=poly;, score=0.488 total time=  14.7s\n",
            "[CV 5/5] END C=0.1, class_weight={0: 0.15, 1: 1}, degree=3, kernel=poly;, score=0.476 total time=  14.7s\n",
            "[CV 1/5] END C=0.1, class_weight={0: 0.15, 1: 1}, degree=3, kernel=rbf;, score=0.417 total time=  15.2s\n",
            "[CV 2/5] END C=0.1, class_weight={0: 0.15, 1: 1}, degree=3, kernel=rbf;, score=0.119 total time=  15.3s\n",
            "[CV 3/5] END C=0.1, class_weight={0: 0.15, 1: 1}, degree=3, kernel=rbf;, score=0.119 total time=  15.1s\n",
            "[CV 4/5] END C=0.1, class_weight={0: 0.15, 1: 1}, degree=3, kernel=rbf;, score=0.122 total time=  15.2s\n",
            "[CV 5/5] END C=0.1, class_weight={0: 0.15, 1: 1}, degree=3, kernel=rbf;, score=0.119 total time=  15.5s\n",
            "[CV 1/5] END C=0.1, class_weight={0: 0.15, 1: 1}, degree=3, kernel=sigmoid;, score=0.401 total time=  14.9s\n",
            "[CV 2/5] END C=0.1, class_weight={0: 0.15, 1: 1}, degree=3, kernel=sigmoid;, score=0.119 total time=  15.4s\n",
            "[CV 3/5] END C=0.1, class_weight={0: 0.15, 1: 1}, degree=3, kernel=sigmoid;, score=0.119 total time=  15.3s\n",
            "[CV 4/5] END C=0.1, class_weight={0: 0.15, 1: 1}, degree=3, kernel=sigmoid;, score=0.118 total time=  15.5s\n",
            "[CV 5/5] END C=0.1, class_weight={0: 0.15, 1: 1}, degree=3, kernel=sigmoid;, score=0.119 total time=  15.5s\n",
            "[CV 1/5] END C=0.1, class_weight={0: 0.3, 1: 1}, degree=2, kernel=linear;, score=0.573 total time=  11.1s\n",
            "[CV 2/5] END C=0.1, class_weight={0: 0.3, 1: 1}, degree=2, kernel=linear;, score=0.596 total time=  11.1s\n",
            "[CV 3/5] END C=0.1, class_weight={0: 0.3, 1: 1}, degree=2, kernel=linear;, score=0.611 total time=  10.5s\n",
            "[CV 4/5] END C=0.1, class_weight={0: 0.3, 1: 1}, degree=2, kernel=linear;, score=0.626 total time=  11.2s\n",
            "[CV 5/5] END C=0.1, class_weight={0: 0.3, 1: 1}, degree=2, kernel=linear;, score=0.571 total time=  10.7s\n",
            "[CV 1/5] END C=0.1, class_weight={0: 0.3, 1: 1}, degree=2, kernel=poly;, score=0.463 total time=  13.0s\n",
            "[CV 2/5] END C=0.1, class_weight={0: 0.3, 1: 1}, degree=2, kernel=poly;, score=0.464 total time=  13.0s\n",
            "[CV 3/5] END C=0.1, class_weight={0: 0.3, 1: 1}, degree=2, kernel=poly;, score=0.474 total time=  12.8s\n",
            "[CV 4/5] END C=0.1, class_weight={0: 0.3, 1: 1}, degree=2, kernel=poly;, score=0.476 total time=  13.1s\n",
            "[CV 5/5] END C=0.1, class_weight={0: 0.3, 1: 1}, degree=2, kernel=poly;, score=0.464 total time=  12.8s\n",
            "[CV 1/5] END C=0.1, class_weight={0: 0.3, 1: 1}, degree=2, kernel=rbf;, score=0.464 total time=  12.2s\n",
            "[CV 2/5] END C=0.1, class_weight={0: 0.3, 1: 1}, degree=2, kernel=rbf;, score=0.464 total time=  12.4s\n",
            "[CV 3/5] END C=0.1, class_weight={0: 0.3, 1: 1}, degree=2, kernel=rbf;, score=0.464 total time=  12.5s\n",
            "[CV 4/5] END C=0.1, class_weight={0: 0.3, 1: 1}, degree=2, kernel=rbf;, score=0.464 total time=  12.4s\n",
            "[CV 5/5] END C=0.1, class_weight={0: 0.3, 1: 1}, degree=2, kernel=rbf;, score=0.464 total time=  12.2s\n",
            "[CV 1/5] END C=0.1, class_weight={0: 0.3, 1: 1}, degree=2, kernel=sigmoid;, score=0.464 total time=  10.4s\n",
            "[CV 2/5] END C=0.1, class_weight={0: 0.3, 1: 1}, degree=2, kernel=sigmoid;, score=0.464 total time=  10.5s\n",
            "[CV 3/5] END C=0.1, class_weight={0: 0.3, 1: 1}, degree=2, kernel=sigmoid;, score=0.464 total time=  10.5s\n",
            "[CV 4/5] END C=0.1, class_weight={0: 0.3, 1: 1}, degree=2, kernel=sigmoid;, score=0.464 total time=  10.5s\n",
            "[CV 5/5] END C=0.1, class_weight={0: 0.3, 1: 1}, degree=2, kernel=sigmoid;, score=0.464 total time=  12.0s\n",
            "[CV 1/5] END C=0.1, class_weight={0: 0.3, 1: 1}, degree=3, kernel=linear;, score=0.573 total time=  11.1s\n",
            "[CV 2/5] END C=0.1, class_weight={0: 0.3, 1: 1}, degree=3, kernel=linear;, score=0.596 total time=  11.2s\n",
            "[CV 3/5] END C=0.1, class_weight={0: 0.3, 1: 1}, degree=3, kernel=linear;, score=0.611 total time=  11.0s\n",
            "[CV 4/5] END C=0.1, class_weight={0: 0.3, 1: 1}, degree=3, kernel=linear;, score=0.626 total time=  11.8s\n",
            "[CV 5/5] END C=0.1, class_weight={0: 0.3, 1: 1}, degree=3, kernel=linear;, score=0.571 total time=  11.4s\n",
            "[CV 1/5] END C=0.1, class_weight={0: 0.3, 1: 1}, degree=3, kernel=poly;, score=0.462 total time=  19.0s\n",
            "[CV 2/5] END C=0.1, class_weight={0: 0.3, 1: 1}, degree=3, kernel=poly;, score=0.476 total time=  16.5s\n",
            "[CV 3/5] END C=0.1, class_weight={0: 0.3, 1: 1}, degree=3, kernel=poly;, score=0.472 total time=  14.3s\n",
            "[CV 4/5] END C=0.1, class_weight={0: 0.3, 1: 1}, degree=3, kernel=poly;, score=0.487 total time=  16.9s\n",
            "[CV 5/5] END C=0.1, class_weight={0: 0.3, 1: 1}, degree=3, kernel=poly;, score=0.475 total time=  14.5s\n",
            "[CV 1/5] END C=0.1, class_weight={0: 0.3, 1: 1}, degree=3, kernel=rbf;, score=0.464 total time=  12.4s\n",
            "[CV 2/5] END C=0.1, class_weight={0: 0.3, 1: 1}, degree=3, kernel=rbf;, score=0.464 total time=  12.2s\n",
            "[CV 3/5] END C=0.1, class_weight={0: 0.3, 1: 1}, degree=3, kernel=rbf;, score=0.464 total time=  12.4s\n",
            "[CV 4/5] END C=0.1, class_weight={0: 0.3, 1: 1}, degree=3, kernel=rbf;, score=0.464 total time=  13.0s\n",
            "[CV 5/5] END C=0.1, class_weight={0: 0.3, 1: 1}, degree=3, kernel=rbf;, score=0.464 total time=  12.4s\n",
            "[CV 1/5] END C=0.1, class_weight={0: 0.3, 1: 1}, degree=3, kernel=sigmoid;, score=0.464 total time=  10.4s\n",
            "[CV 2/5] END C=0.1, class_weight={0: 0.3, 1: 1}, degree=3, kernel=sigmoid;, score=0.464 total time=  10.3s\n",
            "[CV 3/5] END C=0.1, class_weight={0: 0.3, 1: 1}, degree=3, kernel=sigmoid;, score=0.464 total time=  10.3s\n",
            "[CV 4/5] END C=0.1, class_weight={0: 0.3, 1: 1}, degree=3, kernel=sigmoid;, score=0.464 total time=  10.2s\n",
            "[CV 5/5] END C=0.1, class_weight={0: 0.3, 1: 1}, degree=3, kernel=sigmoid;, score=0.464 total time=  10.1s\n",
            "[CV 1/5] END C=0.1, class_weight={0: 0.2, 1: 3}, degree=2, kernel=linear;, score=0.578 total time=  11.0s\n",
            "[CV 2/5] END C=0.1, class_weight={0: 0.2, 1: 3}, degree=2, kernel=linear;, score=0.622 total time=  10.6s\n",
            "[CV 3/5] END C=0.1, class_weight={0: 0.2, 1: 3}, degree=2, kernel=linear;, score=0.617 total time=  10.4s\n",
            "[CV 4/5] END C=0.1, class_weight={0: 0.2, 1: 3}, degree=2, kernel=linear;, score=0.623 total time=  14.1s\n",
            "[CV 5/5] END C=0.1, class_weight={0: 0.2, 1: 3}, degree=2, kernel=linear;, score=0.561 total time=  10.4s\n",
            "[CV 1/5] END C=0.1, class_weight={0: 0.2, 1: 3}, degree=2, kernel=poly;, score=0.138 total time=  14.6s\n",
            "[CV 2/5] END C=0.1, class_weight={0: 0.2, 1: 3}, degree=2, kernel=poly;, score=0.130 total time=  14.7s\n",
            "[CV 3/5] END C=0.1, class_weight={0: 0.2, 1: 3}, degree=2, kernel=poly;, score=0.148 total time=  14.7s\n",
            "[CV 4/5] END C=0.1, class_weight={0: 0.2, 1: 3}, degree=2, kernel=poly;, score=0.142 total time=  14.8s\n",
            "[CV 5/5] END C=0.1, class_weight={0: 0.2, 1: 3}, degree=2, kernel=poly;, score=0.128 total time=  14.8s\n",
            "[CV 1/5] END C=0.1, class_weight={0: 0.2, 1: 3}, degree=2, kernel=rbf;, score=0.119 total time=  15.4s\n",
            "[CV 2/5] END C=0.1, class_weight={0: 0.2, 1: 3}, degree=2, kernel=rbf;, score=0.119 total time=  15.7s\n",
            "[CV 3/5] END C=0.1, class_weight={0: 0.2, 1: 3}, degree=2, kernel=rbf;, score=0.119 total time=  15.3s\n",
            "[CV 4/5] END C=0.1, class_weight={0: 0.2, 1: 3}, degree=2, kernel=rbf;, score=0.118 total time=  15.2s\n",
            "[CV 5/5] END C=0.1, class_weight={0: 0.2, 1: 3}, degree=2, kernel=rbf;, score=0.119 total time=  15.3s\n",
            "[CV 1/5] END C=0.1, class_weight={0: 0.2, 1: 3}, degree=2, kernel=sigmoid;, score=0.132 total time=  13.7s\n",
            "[CV 2/5] END C=0.1, class_weight={0: 0.2, 1: 3}, degree=2, kernel=sigmoid;, score=0.120 total time=  14.0s\n",
            "[CV 3/5] END C=0.1, class_weight={0: 0.2, 1: 3}, degree=2, kernel=sigmoid;, score=0.139 total time=  13.8s\n",
            "[CV 4/5] END C=0.1, class_weight={0: 0.2, 1: 3}, degree=2, kernel=sigmoid;, score=0.133 total time=  13.8s\n",
            "[CV 5/5] END C=0.1, class_weight={0: 0.2, 1: 3}, degree=2, kernel=sigmoid;, score=0.122 total time=  13.9s\n",
            "[CV 1/5] END C=0.1, class_weight={0: 0.2, 1: 3}, degree=3, kernel=linear;, score=0.578 total time=  10.9s\n",
            "[CV 2/5] END C=0.1, class_weight={0: 0.2, 1: 3}, degree=3, kernel=linear;, score=0.622 total time=  10.6s\n",
            "[CV 3/5] END C=0.1, class_weight={0: 0.2, 1: 3}, degree=3, kernel=linear;, score=0.617 total time=  10.3s\n",
            "[CV 4/5] END C=0.1, class_weight={0: 0.2, 1: 3}, degree=3, kernel=linear;, score=0.623 total time=  14.1s\n",
            "[CV 5/5] END C=0.1, class_weight={0: 0.2, 1: 3}, degree=3, kernel=linear;, score=0.561 total time=  10.4s\n",
            "[CV 1/5] END C=0.1, class_weight={0: 0.2, 1: 3}, degree=3, kernel=poly;, score=0.137 total time=  14.6s\n",
            "[CV 2/5] END C=0.1, class_weight={0: 0.2, 1: 3}, degree=3, kernel=poly;, score=0.132 total time=  15.1s\n",
            "[CV 3/5] END C=0.1, class_weight={0: 0.2, 1: 3}, degree=3, kernel=poly;, score=0.149 total time=  14.5s\n",
            "[CV 4/5] END C=0.1, class_weight={0: 0.2, 1: 3}, degree=3, kernel=poly;, score=0.148 total time=  14.6s\n",
            "[CV 5/5] END C=0.1, class_weight={0: 0.2, 1: 3}, degree=3, kernel=poly;, score=0.128 total time=  14.8s\n",
            "[CV 1/5] END C=0.1, class_weight={0: 0.2, 1: 3}, degree=3, kernel=rbf;, score=0.119 total time=  15.3s\n",
            "[CV 2/5] END C=0.1, class_weight={0: 0.2, 1: 3}, degree=3, kernel=rbf;, score=0.119 total time=  15.3s\n",
            "[CV 3/5] END C=0.1, class_weight={0: 0.2, 1: 3}, degree=3, kernel=rbf;, score=0.119 total time=  15.4s\n",
            "[CV 4/5] END C=0.1, class_weight={0: 0.2, 1: 3}, degree=3, kernel=rbf;, score=0.118 total time=  15.3s\n",
            "[CV 5/5] END C=0.1, class_weight={0: 0.2, 1: 3}, degree=3, kernel=rbf;, score=0.119 total time=  15.3s\n",
            "[CV 1/5] END C=0.1, class_weight={0: 0.2, 1: 3}, degree=3, kernel=sigmoid;, score=0.132 total time=  13.6s\n",
            "[CV 2/5] END C=0.1, class_weight={0: 0.2, 1: 3}, degree=3, kernel=sigmoid;, score=0.120 total time=  13.8s\n",
            "[CV 3/5] END C=0.1, class_weight={0: 0.2, 1: 3}, degree=3, kernel=sigmoid;, score=0.139 total time=  13.8s\n",
            "[CV 4/5] END C=0.1, class_weight={0: 0.2, 1: 3}, degree=3, kernel=sigmoid;, score=0.133 total time=  13.8s\n",
            "[CV 5/5] END C=0.1, class_weight={0: 0.2, 1: 3}, degree=3, kernel=sigmoid;, score=0.122 total time=  13.9s\n",
            "[CV 1/5] END C=0.1, class_weight={0: 0.15, 1: 5}, degree=2, kernel=linear;, score=0.582 total time=  10.7s\n",
            "[CV 2/5] END C=0.1, class_weight={0: 0.15, 1: 5}, degree=2, kernel=linear;, score=0.612 total time=  10.4s\n",
            "[CV 3/5] END C=0.1, class_weight={0: 0.15, 1: 5}, degree=2, kernel=linear;, score=0.600 total time=  10.4s\n",
            "[CV 4/5] END C=0.1, class_weight={0: 0.15, 1: 5}, degree=2, kernel=linear;, score=0.628 total time=  10.8s\n",
            "[CV 5/5] END C=0.1, class_weight={0: 0.15, 1: 5}, degree=2, kernel=linear;, score=0.549 total time=  10.7s\n",
            "[CV 1/5] END C=0.1, class_weight={0: 0.15, 1: 5}, degree=2, kernel=poly;, score=0.136 total time=  14.7s\n",
            "[CV 2/5] END C=0.1, class_weight={0: 0.15, 1: 5}, degree=2, kernel=poly;, score=0.126 total time=  14.7s\n",
            "[CV 3/5] END C=0.1, class_weight={0: 0.15, 1: 5}, degree=2, kernel=poly;, score=0.144 total time=  14.6s\n",
            "[CV 4/5] END C=0.1, class_weight={0: 0.15, 1: 5}, degree=2, kernel=poly;, score=0.132 total time=  14.7s\n",
            "[CV 5/5] END C=0.1, class_weight={0: 0.15, 1: 5}, degree=2, kernel=poly;, score=0.124 total time=  14.8s\n",
            "[CV 1/5] END C=0.1, class_weight={0: 0.15, 1: 5}, degree=2, kernel=rbf;, score=0.119 total time=  15.3s\n",
            "[CV 2/5] END C=0.1, class_weight={0: 0.15, 1: 5}, degree=2, kernel=rbf;, score=0.119 total time=  15.3s\n",
            "[CV 3/5] END C=0.1, class_weight={0: 0.15, 1: 5}, degree=2, kernel=rbf;, score=0.119 total time=  15.4s\n",
            "[CV 4/5] END C=0.1, class_weight={0: 0.15, 1: 5}, degree=2, kernel=rbf;, score=0.118 total time=  16.4s\n",
            "[CV 5/5] END C=0.1, class_weight={0: 0.15, 1: 5}, degree=2, kernel=rbf;, score=0.119 total time=  16.2s\n",
            "[CV 1/5] END C=0.1, class_weight={0: 0.15, 1: 5}, degree=2, kernel=sigmoid;, score=0.127 total time=  15.0s\n",
            "[CV 2/5] END C=0.1, class_weight={0: 0.15, 1: 5}, degree=2, kernel=sigmoid;, score=0.118 total time=  14.8s\n",
            "[CV 3/5] END C=0.1, class_weight={0: 0.15, 1: 5}, degree=2, kernel=sigmoid;, score=0.132 total time=  14.8s\n",
            "[CV 4/5] END C=0.1, class_weight={0: 0.15, 1: 5}, degree=2, kernel=sigmoid;, score=0.129 total time=  15.1s\n",
            "[CV 5/5] END C=0.1, class_weight={0: 0.15, 1: 5}, degree=2, kernel=sigmoid;, score=0.122 total time=  15.3s\n",
            "[CV 1/5] END C=0.1, class_weight={0: 0.15, 1: 5}, degree=3, kernel=linear;, score=0.582 total time=  11.7s\n",
            "[CV 2/5] END C=0.1, class_weight={0: 0.15, 1: 5}, degree=3, kernel=linear;, score=0.612 total time=  11.0s\n",
            "[CV 3/5] END C=0.1, class_weight={0: 0.15, 1: 5}, degree=3, kernel=linear;, score=0.600 total time=  10.5s\n",
            "[CV 4/5] END C=0.1, class_weight={0: 0.15, 1: 5}, degree=3, kernel=linear;, score=0.628 total time=  10.9s\n",
            "[CV 5/5] END C=0.1, class_weight={0: 0.15, 1: 5}, degree=3, kernel=linear;, score=0.549 total time=  10.8s\n",
            "[CV 1/5] END C=0.1, class_weight={0: 0.15, 1: 5}, degree=3, kernel=poly;, score=0.138 total time=  15.2s\n",
            "[CV 2/5] END C=0.1, class_weight={0: 0.15, 1: 5}, degree=3, kernel=poly;, score=0.134 total time=  15.1s\n",
            "[CV 3/5] END C=0.1, class_weight={0: 0.15, 1: 5}, degree=3, kernel=poly;, score=0.148 total time=  14.8s\n",
            "[CV 4/5] END C=0.1, class_weight={0: 0.15, 1: 5}, degree=3, kernel=poly;, score=0.140 total time=  15.2s\n",
            "[CV 5/5] END C=0.1, class_weight={0: 0.15, 1: 5}, degree=3, kernel=poly;, score=0.126 total time=  15.0s\n",
            "[CV 1/5] END C=0.1, class_weight={0: 0.15, 1: 5}, degree=3, kernel=rbf;, score=0.119 total time=  15.7s\n",
            "[CV 2/5] END C=0.1, class_weight={0: 0.15, 1: 5}, degree=3, kernel=rbf;, score=0.119 total time=  15.6s\n",
            "[CV 3/5] END C=0.1, class_weight={0: 0.15, 1: 5}, degree=3, kernel=rbf;, score=0.119 total time=  15.5s\n",
            "[CV 4/5] END C=0.1, class_weight={0: 0.15, 1: 5}, degree=3, kernel=rbf;, score=0.118 total time=  15.8s\n",
            "[CV 5/5] END C=0.1, class_weight={0: 0.15, 1: 5}, degree=3, kernel=rbf;, score=0.119 total time=  16.1s\n",
            "[CV 1/5] END C=0.1, class_weight={0: 0.15, 1: 5}, degree=3, kernel=sigmoid;, score=0.127 total time=  13.8s\n",
            "[CV 2/5] END C=0.1, class_weight={0: 0.15, 1: 5}, degree=3, kernel=sigmoid;, score=0.118 total time=  13.4s\n",
            "[CV 3/5] END C=0.1, class_weight={0: 0.15, 1: 5}, degree=3, kernel=sigmoid;, score=0.132 total time=  13.5s\n",
            "[CV 4/5] END C=0.1, class_weight={0: 0.15, 1: 5}, degree=3, kernel=sigmoid;, score=0.129 total time=  13.9s\n",
            "[CV 5/5] END C=0.1, class_weight={0: 0.15, 1: 5}, degree=3, kernel=sigmoid;, score=0.122 total time=  13.8s\n",
            "[CV 1/5] END C=1, class_weight={0: 0.15, 1: 1}, degree=2, kernel=linear;, score=0.569 total time=  11.0s\n",
            "[CV 2/5] END C=1, class_weight={0: 0.15, 1: 1}, degree=2, kernel=linear;, score=0.615 total time=  10.6s\n",
            "[CV 3/5] END C=1, class_weight={0: 0.15, 1: 1}, degree=2, kernel=linear;, score=0.617 total time=  10.4s\n",
            "[CV 4/5] END C=1, class_weight={0: 0.15, 1: 1}, degree=2, kernel=linear;, score=0.616 total time=  14.4s\n",
            "[CV 5/5] END C=1, class_weight={0: 0.15, 1: 1}, degree=2, kernel=linear;, score=0.600 total time=  10.6s\n",
            "[CV 1/5] END C=1, class_weight={0: 0.15, 1: 1}, degree=2, kernel=poly;, score=0.471 total time=  14.4s\n",
            "[CV 2/5] END C=1, class_weight={0: 0.15, 1: 1}, degree=2, kernel=poly;, score=0.496 total time=  14.5s\n",
            "[CV 3/5] END C=1, class_weight={0: 0.15, 1: 1}, degree=2, kernel=poly;, score=0.546 total time=  13.9s\n",
            "[CV 4/5] END C=1, class_weight={0: 0.15, 1: 1}, degree=2, kernel=poly;, score=0.505 total time=  14.3s\n",
            "[CV 5/5] END C=1, class_weight={0: 0.15, 1: 1}, degree=2, kernel=poly;, score=0.543 total time=  14.3s\n",
            "[CV 1/5] END C=1, class_weight={0: 0.15, 1: 1}, degree=2, kernel=rbf;, score=0.528 total time=  14.9s\n",
            "[CV 2/5] END C=1, class_weight={0: 0.15, 1: 1}, degree=2, kernel=rbf;, score=0.596 total time=  15.2s\n",
            "[CV 3/5] END C=1, class_weight={0: 0.15, 1: 1}, degree=2, kernel=rbf;, score=0.581 total time=  15.1s\n",
            "[CV 4/5] END C=1, class_weight={0: 0.15, 1: 1}, degree=2, kernel=rbf;, score=0.585 total time=  15.3s\n",
            "[CV 5/5] END C=1, class_weight={0: 0.15, 1: 1}, degree=2, kernel=rbf;, score=0.609 total time=  15.2s\n",
            "[CV 1/5] END C=1, class_weight={0: 0.15, 1: 1}, degree=2, kernel=sigmoid;, score=0.535 total time=  12.7s\n",
            "[CV 2/5] END C=1, class_weight={0: 0.15, 1: 1}, degree=2, kernel=sigmoid;, score=0.558 total time=  12.9s\n",
            "[CV 3/5] END C=1, class_weight={0: 0.15, 1: 1}, degree=2, kernel=sigmoid;, score=0.588 total time=  13.0s\n",
            "[CV 4/5] END C=1, class_weight={0: 0.15, 1: 1}, degree=2, kernel=sigmoid;, score=0.552 total time=  12.8s\n",
            "[CV 5/5] END C=1, class_weight={0: 0.15, 1: 1}, degree=2, kernel=sigmoid;, score=0.611 total time=  12.7s\n",
            "[CV 1/5] END C=1, class_weight={0: 0.15, 1: 1}, degree=3, kernel=linear;, score=0.569 total time=  10.8s\n",
            "[CV 2/5] END C=1, class_weight={0: 0.15, 1: 1}, degree=3, kernel=linear;, score=0.615 total time=  10.5s\n",
            "[CV 3/5] END C=1, class_weight={0: 0.15, 1: 1}, degree=3, kernel=linear;, score=0.617 total time=  10.5s\n",
            "[CV 4/5] END C=1, class_weight={0: 0.15, 1: 1}, degree=3, kernel=linear;, score=0.616 total time=  14.2s\n",
            "[CV 5/5] END C=1, class_weight={0: 0.15, 1: 1}, degree=3, kernel=linear;, score=0.600 total time=  10.6s\n",
            "[CV 1/5] END C=1, class_weight={0: 0.15, 1: 1}, degree=3, kernel=poly;, score=0.484 total time=  14.6s\n",
            "[CV 2/5] END C=1, class_weight={0: 0.15, 1: 1}, degree=3, kernel=poly;, score=0.498 total time=  14.7s\n",
            "[CV 3/5] END C=1, class_weight={0: 0.15, 1: 1}, degree=3, kernel=poly;, score=0.535 total time=  14.4s\n",
            "[CV 4/5] END C=1, class_weight={0: 0.15, 1: 1}, degree=3, kernel=poly;, score=0.493 total time=  14.8s\n",
            "[CV 5/5] END C=1, class_weight={0: 0.15, 1: 1}, degree=3, kernel=poly;, score=0.532 total time=  14.6s\n",
            "[CV 1/5] END C=1, class_weight={0: 0.15, 1: 1}, degree=3, kernel=rbf;, score=0.528 total time=  14.7s\n",
            "[CV 2/5] END C=1, class_weight={0: 0.15, 1: 1}, degree=3, kernel=rbf;, score=0.596 total time=  14.9s\n",
            "[CV 3/5] END C=1, class_weight={0: 0.15, 1: 1}, degree=3, kernel=rbf;, score=0.581 total time=  14.8s\n",
            "[CV 4/5] END C=1, class_weight={0: 0.15, 1: 1}, degree=3, kernel=rbf;, score=0.585 total time=  14.7s\n",
            "[CV 5/5] END C=1, class_weight={0: 0.15, 1: 1}, degree=3, kernel=rbf;, score=0.609 total time=  15.0s\n",
            "[CV 1/5] END C=1, class_weight={0: 0.15, 1: 1}, degree=3, kernel=sigmoid;, score=0.535 total time=  12.5s\n",
            "[CV 2/5] END C=1, class_weight={0: 0.15, 1: 1}, degree=3, kernel=sigmoid;, score=0.558 total time=  12.8s\n",
            "[CV 3/5] END C=1, class_weight={0: 0.15, 1: 1}, degree=3, kernel=sigmoid;, score=0.588 total time=  12.9s\n",
            "[CV 4/5] END C=1, class_weight={0: 0.15, 1: 1}, degree=3, kernel=sigmoid;, score=0.552 total time=  12.5s\n",
            "[CV 5/5] END C=1, class_weight={0: 0.15, 1: 1}, degree=3, kernel=sigmoid;, score=0.611 total time=  12.6s\n",
            "[CV 1/5] END C=1, class_weight={0: 0.3, 1: 1}, degree=2, kernel=linear;, score=0.589 total time=  11.0s\n",
            "[CV 2/5] END C=1, class_weight={0: 0.3, 1: 1}, degree=2, kernel=linear;, score=0.608 total time=  13.9s\n",
            "[CV 3/5] END C=1, class_weight={0: 0.3, 1: 1}, degree=2, kernel=linear;, score=0.614 total time=  13.4s\n",
            "[CV 4/5] END C=1, class_weight={0: 0.3, 1: 1}, degree=2, kernel=linear;, score=0.637 total time=  14.5s\n",
            "[CV 5/5] END C=1, class_weight={0: 0.3, 1: 1}, degree=2, kernel=linear;, score=0.599 total time=  10.5s\n",
            "[CV 1/5] END C=1, class_weight={0: 0.3, 1: 1}, degree=2, kernel=poly;, score=0.471 total time=  13.0s\n",
            "[CV 2/5] END C=1, class_weight={0: 0.3, 1: 1}, degree=2, kernel=poly;, score=0.498 total time=  13.4s\n",
            "[CV 3/5] END C=1, class_weight={0: 0.3, 1: 1}, degree=2, kernel=poly;, score=0.555 total time=  15.7s\n",
            "[CV 4/5] END C=1, class_weight={0: 0.3, 1: 1}, degree=2, kernel=poly;, score=0.500 total time=  13.2s\n",
            "[CV 5/5] END C=1, class_weight={0: 0.3, 1: 1}, degree=2, kernel=poly;, score=0.518 total time=  13.2s\n",
            "[CV 1/5] END C=1, class_weight={0: 0.3, 1: 1}, degree=2, kernel=rbf;, score=0.462 total time=  12.2s\n",
            "[CV 2/5] END C=1, class_weight={0: 0.3, 1: 1}, degree=2, kernel=rbf;, score=0.500 total time=  12.3s\n",
            "[CV 3/5] END C=1, class_weight={0: 0.3, 1: 1}, degree=2, kernel=rbf;, score=0.488 total time=  12.3s\n",
            "[CV 4/5] END C=1, class_weight={0: 0.3, 1: 1}, degree=2, kernel=rbf;, score=0.476 total time=  12.2s\n",
            "[CV 5/5] END C=1, class_weight={0: 0.3, 1: 1}, degree=2, kernel=rbf;, score=0.500 total time=  12.3s\n",
            "[CV 1/5] END C=1, class_weight={0: 0.3, 1: 1}, degree=2, kernel=sigmoid;, score=0.587 total time=   9.1s\n",
            "[CV 2/5] END C=1, class_weight={0: 0.3, 1: 1}, degree=2, kernel=sigmoid;, score=0.548 total time=   9.4s\n",
            "[CV 3/5] END C=1, class_weight={0: 0.3, 1: 1}, degree=2, kernel=sigmoid;, score=0.601 total time=   9.5s\n",
            "[CV 4/5] END C=1, class_weight={0: 0.3, 1: 1}, degree=2, kernel=sigmoid;, score=0.613 total time=   9.2s\n",
            "[CV 5/5] END C=1, class_weight={0: 0.3, 1: 1}, degree=2, kernel=sigmoid;, score=0.649 total time=   9.4s\n",
            "[CV 1/5] END C=1, class_weight={0: 0.3, 1: 1}, degree=3, kernel=linear;, score=0.589 total time=  10.8s\n",
            "[CV 2/5] END C=1, class_weight={0: 0.3, 1: 1}, degree=3, kernel=linear;, score=0.608 total time=  13.8s\n",
            "[CV 3/5] END C=1, class_weight={0: 0.3, 1: 1}, degree=3, kernel=linear;, score=0.614 total time=  13.3s\n",
            "[CV 4/5] END C=1, class_weight={0: 0.3, 1: 1}, degree=3, kernel=linear;, score=0.637 total time=  14.4s\n",
            "[CV 5/5] END C=1, class_weight={0: 0.3, 1: 1}, degree=3, kernel=linear;, score=0.599 total time=  10.5s\n",
            "[CV 1/5] END C=1, class_weight={0: 0.3, 1: 1}, degree=3, kernel=poly;, score=0.480 total time=  14.6s\n",
            "[CV 2/5] END C=1, class_weight={0: 0.3, 1: 1}, degree=3, kernel=poly;, score=0.496 total time=  14.5s\n",
            "[CV 3/5] END C=1, class_weight={0: 0.3, 1: 1}, degree=3, kernel=poly;, score=0.546 total time=  18.8s\n",
            "[CV 4/5] END C=1, class_weight={0: 0.3, 1: 1}, degree=3, kernel=poly;, score=0.508 total time=  15.1s\n",
            "[CV 5/5] END C=1, class_weight={0: 0.3, 1: 1}, degree=3, kernel=poly;, score=0.518 total time=  14.4s\n",
            "[CV 1/5] END C=1, class_weight={0: 0.3, 1: 1}, degree=3, kernel=rbf;, score=0.462 total time=  12.2s\n",
            "[CV 2/5] END C=1, class_weight={0: 0.3, 1: 1}, degree=3, kernel=rbf;, score=0.500 total time=  12.2s\n",
            "[CV 3/5] END C=1, class_weight={0: 0.3, 1: 1}, degree=3, kernel=rbf;, score=0.488 total time=  12.1s\n",
            "[CV 4/5] END C=1, class_weight={0: 0.3, 1: 1}, degree=3, kernel=rbf;, score=0.476 total time=  12.3s\n",
            "[CV 5/5] END C=1, class_weight={0: 0.3, 1: 1}, degree=3, kernel=rbf;, score=0.500 total time=  12.3s\n",
            "[CV 1/5] END C=1, class_weight={0: 0.3, 1: 1}, degree=3, kernel=sigmoid;, score=0.587 total time=   9.0s\n",
            "[CV 2/5] END C=1, class_weight={0: 0.3, 1: 1}, degree=3, kernel=sigmoid;, score=0.548 total time=   9.4s\n",
            "[CV 3/5] END C=1, class_weight={0: 0.3, 1: 1}, degree=3, kernel=sigmoid;, score=0.601 total time=   9.5s\n",
            "[CV 4/5] END C=1, class_weight={0: 0.3, 1: 1}, degree=3, kernel=sigmoid;, score=0.613 total time=   9.2s\n",
            "[CV 5/5] END C=1, class_weight={0: 0.3, 1: 1}, degree=3, kernel=sigmoid;, score=0.649 total time=   9.4s\n",
            "[CV 1/5] END C=1, class_weight={0: 0.2, 1: 3}, degree=2, kernel=linear;, score=0.579 total time=  13.9s\n",
            "[CV 2/5] END C=1, class_weight={0: 0.2, 1: 3}, degree=2, kernel=linear;, score=0.615 total time=  13.4s\n",
            "[CV 3/5] END C=1, class_weight={0: 0.2, 1: 3}, degree=2, kernel=linear;, score=0.614 total time=  10.2s\n",
            "[CV 4/5] END C=1, class_weight={0: 0.2, 1: 3}, degree=2, kernel=linear;, score=0.632 total time=  10.7s\n",
            "[CV 5/5] END C=1, class_weight={0: 0.2, 1: 3}, degree=2, kernel=linear;, score=0.596 total time=  10.4s\n",
            "[CV 1/5] END C=1, class_weight={0: 0.2, 1: 3}, degree=2, kernel=poly;, score=0.222 total time=  13.5s\n",
            "[CV 2/5] END C=1, class_weight={0: 0.2, 1: 3}, degree=2, kernel=poly;, score=0.195 total time=  13.5s\n",
            "[CV 3/5] END C=1, class_weight={0: 0.2, 1: 3}, degree=2, kernel=poly;, score=0.223 total time=  13.2s\n",
            "[CV 4/5] END C=1, class_weight={0: 0.2, 1: 3}, degree=2, kernel=poly;, score=0.211 total time=  13.4s\n",
            "[CV 5/5] END C=1, class_weight={0: 0.2, 1: 3}, degree=2, kernel=poly;, score=0.203 total time=  13.7s\n",
            "[CV 1/5] END C=1, class_weight={0: 0.2, 1: 3}, degree=2, kernel=rbf;, score=0.449 total time=  15.1s\n",
            "[CV 2/5] END C=1, class_weight={0: 0.2, 1: 3}, degree=2, kernel=rbf;, score=0.428 total time=  15.1s\n",
            "[CV 3/5] END C=1, class_weight={0: 0.2, 1: 3}, degree=2, kernel=rbf;, score=0.450 total time=  14.9s\n",
            "[CV 4/5] END C=1, class_weight={0: 0.2, 1: 3}, degree=2, kernel=rbf;, score=0.394 total time=  15.1s\n",
            "[CV 5/5] END C=1, class_weight={0: 0.2, 1: 3}, degree=2, kernel=rbf;, score=0.388 total time=  15.0s\n",
            "[CV 1/5] END C=1, class_weight={0: 0.2, 1: 3}, degree=2, kernel=sigmoid;, score=0.377 total time=  11.6s\n",
            "[CV 2/5] END C=1, class_weight={0: 0.2, 1: 3}, degree=2, kernel=sigmoid;, score=0.374 total time=  11.8s\n",
            "[CV 3/5] END C=1, class_weight={0: 0.2, 1: 3}, degree=2, kernel=sigmoid;, score=0.418 total time=  12.2s\n",
            "[CV 4/5] END C=1, class_weight={0: 0.2, 1: 3}, degree=2, kernel=sigmoid;, score=0.378 total time=  11.9s\n",
            "[CV 5/5] END C=1, class_weight={0: 0.2, 1: 3}, degree=2, kernel=sigmoid;, score=0.392 total time=  12.0s\n",
            "[CV 1/5] END C=1, class_weight={0: 0.2, 1: 3}, degree=3, kernel=linear;, score=0.579 total time=  13.9s\n",
            "[CV 2/5] END C=1, class_weight={0: 0.2, 1: 3}, degree=3, kernel=linear;, score=0.615 total time=  13.4s\n",
            "[CV 3/5] END C=1, class_weight={0: 0.2, 1: 3}, degree=3, kernel=linear;, score=0.614 total time=  10.2s\n",
            "[CV 4/5] END C=1, class_weight={0: 0.2, 1: 3}, degree=3, kernel=linear;, score=0.632 total time=  10.7s\n",
            "[CV 5/5] END C=1, class_weight={0: 0.2, 1: 3}, degree=3, kernel=linear;, score=0.596 total time=  10.5s\n",
            "[CV 1/5] END C=1, class_weight={0: 0.2, 1: 3}, degree=3, kernel=poly;, score=0.195 total time=  13.8s\n",
            "[CV 2/5] END C=1, class_weight={0: 0.2, 1: 3}, degree=3, kernel=poly;, score=0.161 total time=  13.7s\n",
            "[CV 3/5] END C=1, class_weight={0: 0.2, 1: 3}, degree=3, kernel=poly;, score=0.188 total time=  13.5s\n",
            "[CV 4/5] END C=1, class_weight={0: 0.2, 1: 3}, degree=3, kernel=poly;, score=0.185 total time=  13.8s\n",
            "[CV 5/5] END C=1, class_weight={0: 0.2, 1: 3}, degree=3, kernel=poly;, score=0.162 total time=  13.8s\n",
            "[CV 1/5] END C=1, class_weight={0: 0.2, 1: 3}, degree=3, kernel=rbf;, score=0.449 total time=  15.0s\n",
            "[CV 2/5] END C=1, class_weight={0: 0.2, 1: 3}, degree=3, kernel=rbf;, score=0.428 total time=  15.2s\n",
            "[CV 3/5] END C=1, class_weight={0: 0.2, 1: 3}, degree=3, kernel=rbf;, score=0.450 total time=  14.9s\n",
            "[CV 4/5] END C=1, class_weight={0: 0.2, 1: 3}, degree=3, kernel=rbf;, score=0.394 total time=  15.2s\n",
            "[CV 5/5] END C=1, class_weight={0: 0.2, 1: 3}, degree=3, kernel=rbf;, score=0.388 total time=  15.1s\n",
            "[CV 1/5] END C=1, class_weight={0: 0.2, 1: 3}, degree=3, kernel=sigmoid;, score=0.377 total time=  11.7s\n",
            "[CV 2/5] END C=1, class_weight={0: 0.2, 1: 3}, degree=3, kernel=sigmoid;, score=0.374 total time=  11.8s\n",
            "[CV 3/5] END C=1, class_weight={0: 0.2, 1: 3}, degree=3, kernel=sigmoid;, score=0.418 total time=  12.3s\n",
            "[CV 4/5] END C=1, class_weight={0: 0.2, 1: 3}, degree=3, kernel=sigmoid;, score=0.378 total time=  11.9s\n",
            "[CV 5/5] END C=1, class_weight={0: 0.2, 1: 3}, degree=3, kernel=sigmoid;, score=0.392 total time=  11.9s\n",
            "[CV 1/5] END C=1, class_weight={0: 0.15, 1: 5}, degree=2, kernel=linear;, score=0.575 total time=  13.8s\n",
            "[CV 2/5] END C=1, class_weight={0: 0.15, 1: 5}, degree=2, kernel=linear;, score=0.615 total time=  13.9s\n",
            "[CV 3/5] END C=1, class_weight={0: 0.15, 1: 5}, degree=2, kernel=linear;, score=0.617 total time=  13.5s\n",
            "[CV 4/5] END C=1, class_weight={0: 0.15, 1: 5}, degree=2, kernel=linear;, score=0.636 total time=  10.8s\n",
            "[CV 5/5] END C=1, class_weight={0: 0.15, 1: 5}, degree=2, kernel=linear;, score=0.600 total time=  13.9s\n",
            "[CV 1/5] END C=1, class_weight={0: 0.15, 1: 5}, degree=2, kernel=poly;, score=0.208 total time=  13.9s\n",
            "[CV 2/5] END C=1, class_weight={0: 0.15, 1: 5}, degree=2, kernel=poly;, score=0.184 total time=  13.8s\n",
            "[CV 3/5] END C=1, class_weight={0: 0.15, 1: 5}, degree=2, kernel=poly;, score=0.211 total time=  13.4s\n",
            "[CV 4/5] END C=1, class_weight={0: 0.15, 1: 5}, degree=2, kernel=poly;, score=0.202 total time=  13.7s\n",
            "[CV 5/5] END C=1, class_weight={0: 0.15, 1: 5}, degree=2, kernel=poly;, score=0.187 total time=  13.9s\n",
            "[CV 1/5] END C=1, class_weight={0: 0.15, 1: 5}, degree=2, kernel=rbf;, score=0.285 total time=  15.4s\n",
            "[CV 2/5] END C=1, class_weight={0: 0.15, 1: 5}, degree=2, kernel=rbf;, score=0.310 total time=  15.6s\n",
            "[CV 3/5] END C=1, class_weight={0: 0.15, 1: 5}, degree=2, kernel=rbf;, score=0.301 total time=  15.3s\n",
            "[CV 4/5] END C=1, class_weight={0: 0.15, 1: 5}, degree=2, kernel=rbf;, score=0.243 total time=  15.6s\n",
            "[CV 5/5] END C=1, class_weight={0: 0.15, 1: 5}, degree=2, kernel=rbf;, score=0.308 total time=  15.6s\n",
            "[CV 1/5] END C=1, class_weight={0: 0.15, 1: 5}, degree=2, kernel=sigmoid;, score=0.247 total time=  12.9s\n",
            "[CV 2/5] END C=1, class_weight={0: 0.15, 1: 5}, degree=2, kernel=sigmoid;, score=0.229 total time=  12.7s\n",
            "[CV 3/5] END C=1, class_weight={0: 0.15, 1: 5}, degree=2, kernel=sigmoid;, score=0.270 total time=  12.5s\n",
            "[CV 4/5] END C=1, class_weight={0: 0.15, 1: 5}, degree=2, kernel=sigmoid;, score=0.246 total time=  12.5s\n",
            "[CV 5/5] END C=1, class_weight={0: 0.15, 1: 5}, degree=2, kernel=sigmoid;, score=0.251 total time=  12.8s\n",
            "[CV 1/5] END C=1, class_weight={0: 0.15, 1: 5}, degree=3, kernel=linear;, score=0.575 total time=  13.8s\n",
            "[CV 2/5] END C=1, class_weight={0: 0.15, 1: 5}, degree=3, kernel=linear;, score=0.615 total time=  13.7s\n",
            "[CV 3/5] END C=1, class_weight={0: 0.15, 1: 5}, degree=3, kernel=linear;, score=0.617 total time=  13.6s\n",
            "[CV 4/5] END C=1, class_weight={0: 0.15, 1: 5}, degree=3, kernel=linear;, score=0.636 total time=  10.6s\n",
            "[CV 5/5] END C=1, class_weight={0: 0.15, 1: 5}, degree=3, kernel=linear;, score=0.600 total time=  13.7s\n",
            "[CV 1/5] END C=1, class_weight={0: 0.15, 1: 5}, degree=3, kernel=poly;, score=0.183 total time=  14.0s\n",
            "[CV 2/5] END C=1, class_weight={0: 0.15, 1: 5}, degree=3, kernel=poly;, score=0.153 total time=  13.9s\n",
            "[CV 3/5] END C=1, class_weight={0: 0.15, 1: 5}, degree=3, kernel=poly;, score=0.179 total time=  13.7s\n",
            "[CV 4/5] END C=1, class_weight={0: 0.15, 1: 5}, degree=3, kernel=poly;, score=0.182 total time=  13.9s\n",
            "[CV 5/5] END C=1, class_weight={0: 0.15, 1: 5}, degree=3, kernel=poly;, score=0.163 total time=  14.0s\n",
            "[CV 1/5] END C=1, class_weight={0: 0.15, 1: 5}, degree=3, kernel=rbf;, score=0.285 total time=  15.1s\n",
            "[CV 2/5] END C=1, class_weight={0: 0.15, 1: 5}, degree=3, kernel=rbf;, score=0.310 total time=  15.3s\n",
            "[CV 3/5] END C=1, class_weight={0: 0.15, 1: 5}, degree=3, kernel=rbf;, score=0.301 total time=  15.1s\n",
            "[CV 4/5] END C=1, class_weight={0: 0.15, 1: 5}, degree=3, kernel=rbf;, score=0.243 total time=  15.3s\n",
            "[CV 5/5] END C=1, class_weight={0: 0.15, 1: 5}, degree=3, kernel=rbf;, score=0.308 total time=  15.3s\n",
            "[CV 1/5] END C=1, class_weight={0: 0.15, 1: 5}, degree=3, kernel=sigmoid;, score=0.247 total time=  12.6s\n",
            "[CV 2/5] END C=1, class_weight={0: 0.15, 1: 5}, degree=3, kernel=sigmoid;, score=0.229 total time=  12.5s\n",
            "[CV 3/5] END C=1, class_weight={0: 0.15, 1: 5}, degree=3, kernel=sigmoid;, score=0.270 total time=  12.6s\n",
            "[CV 4/5] END C=1, class_weight={0: 0.15, 1: 5}, degree=3, kernel=sigmoid;, score=0.246 total time=  12.5s\n",
            "[CV 5/5] END C=1, class_weight={0: 0.15, 1: 5}, degree=3, kernel=sigmoid;, score=0.251 total time=  12.8s\n",
            "[CV 1/5] END C=10, class_weight={0: 0.15, 1: 1}, degree=2, kernel=linear;, score=0.572 total time=  13.8s\n",
            "[CV 2/5] END C=10, class_weight={0: 0.15, 1: 1}, degree=2, kernel=linear;, score=0.604 total time=  10.6s\n",
            "[CV 3/5] END C=10, class_weight={0: 0.15, 1: 1}, degree=2, kernel=linear;, score=0.612 total time=  10.4s\n",
            "[CV 4/5] END C=10, class_weight={0: 0.15, 1: 1}, degree=2, kernel=linear;, score=0.628 total time=  10.6s\n",
            "[CV 5/5] END C=10, class_weight={0: 0.15, 1: 1}, degree=2, kernel=linear;, score=0.603 total time=  13.3s\n",
            "[CV 1/5] END C=10, class_weight={0: 0.15, 1: 1}, degree=2, kernel=poly;, score=0.524 total time=  12.4s\n",
            "[CV 2/5] END C=10, class_weight={0: 0.15, 1: 1}, degree=2, kernel=poly;, score=0.541 total time=  12.4s\n",
            "[CV 3/5] END C=10, class_weight={0: 0.15, 1: 1}, degree=2, kernel=poly;, score=0.603 total time=  12.1s\n",
            "[CV 4/5] END C=10, class_weight={0: 0.15, 1: 1}, degree=2, kernel=poly;, score=0.551 total time=  12.3s\n",
            "[CV 5/5] END C=10, class_weight={0: 0.15, 1: 1}, degree=2, kernel=poly;, score=0.567 total time=  12.1s\n",
            "[CV 1/5] END C=10, class_weight={0: 0.15, 1: 1}, degree=2, kernel=rbf;, score=0.527 total time=  13.5s\n",
            "[CV 2/5] END C=10, class_weight={0: 0.15, 1: 1}, degree=2, kernel=rbf;, score=0.580 total time=  13.4s\n",
            "[CV 3/5] END C=10, class_weight={0: 0.15, 1: 1}, degree=2, kernel=rbf;, score=0.542 total time=  13.6s\n",
            "[CV 4/5] END C=10, class_weight={0: 0.15, 1: 1}, degree=2, kernel=rbf;, score=0.622 total time=  13.6s\n",
            "[CV 5/5] END C=10, class_weight={0: 0.15, 1: 1}, degree=2, kernel=rbf;, score=0.525 total time=  13.3s\n",
            "[CV 1/5] END C=10, class_weight={0: 0.15, 1: 1}, degree=2, kernel=sigmoid;, score=0.486 total time=   7.8s\n",
            "[CV 2/5] END C=10, class_weight={0: 0.15, 1: 1}, degree=2, kernel=sigmoid;, score=0.466 total time=   7.7s\n",
            "[CV 3/5] END C=10, class_weight={0: 0.15, 1: 1}, degree=2, kernel=sigmoid;, score=0.493 total time=   7.8s\n",
            "[CV 4/5] END C=10, class_weight={0: 0.15, 1: 1}, degree=2, kernel=sigmoid;, score=0.481 total time=   7.9s\n",
            "[CV 5/5] END C=10, class_weight={0: 0.15, 1: 1}, degree=2, kernel=sigmoid;, score=0.508 total time=   8.1s\n",
            "[CV 1/5] END C=10, class_weight={0: 0.15, 1: 1}, degree=3, kernel=linear;, score=0.572 total time=  13.6s\n",
            "[CV 2/5] END C=10, class_weight={0: 0.15, 1: 1}, degree=3, kernel=linear;, score=0.604 total time=  10.6s\n",
            "[CV 3/5] END C=10, class_weight={0: 0.15, 1: 1}, degree=3, kernel=linear;, score=0.612 total time=  10.2s\n",
            "[CV 4/5] END C=10, class_weight={0: 0.15, 1: 1}, degree=3, kernel=linear;, score=0.628 total time=  10.5s\n",
            "[CV 5/5] END C=10, class_weight={0: 0.15, 1: 1}, degree=3, kernel=linear;, score=0.603 total time=  13.4s\n",
            "[CV 1/5] END C=10, class_weight={0: 0.15, 1: 1}, degree=3, kernel=poly;, score=0.489 total time=  13.9s\n",
            "[CV 2/5] END C=10, class_weight={0: 0.15, 1: 1}, degree=3, kernel=poly;, score=0.503 total time=  13.8s\n",
            "[CV 3/5] END C=10, class_weight={0: 0.15, 1: 1}, degree=3, kernel=poly;, score=0.571 total time=  13.9s\n",
            "[CV 4/5] END C=10, class_weight={0: 0.15, 1: 1}, degree=3, kernel=poly;, score=0.523 total time=  13.7s\n",
            "[CV 5/5] END C=10, class_weight={0: 0.15, 1: 1}, degree=3, kernel=poly;, score=0.532 total time=  14.0s\n",
            "[CV 1/5] END C=10, class_weight={0: 0.15, 1: 1}, degree=3, kernel=rbf;, score=0.527 total time=  13.4s\n",
            "[CV 2/5] END C=10, class_weight={0: 0.15, 1: 1}, degree=3, kernel=rbf;, score=0.580 total time=  13.5s\n",
            "[CV 3/5] END C=10, class_weight={0: 0.15, 1: 1}, degree=3, kernel=rbf;, score=0.542 total time=  13.5s\n",
            "[CV 4/5] END C=10, class_weight={0: 0.15, 1: 1}, degree=3, kernel=rbf;, score=0.622 total time=  13.5s\n",
            "[CV 5/5] END C=10, class_weight={0: 0.15, 1: 1}, degree=3, kernel=rbf;, score=0.525 total time=  13.3s\n",
            "[CV 1/5] END C=10, class_weight={0: 0.15, 1: 1}, degree=3, kernel=sigmoid;, score=0.486 total time=   7.8s\n",
            "[CV 2/5] END C=10, class_weight={0: 0.15, 1: 1}, degree=3, kernel=sigmoid;, score=0.466 total time=   7.8s\n",
            "[CV 3/5] END C=10, class_weight={0: 0.15, 1: 1}, degree=3, kernel=sigmoid;, score=0.493 total time=   7.8s\n",
            "[CV 4/5] END C=10, class_weight={0: 0.15, 1: 1}, degree=3, kernel=sigmoid;, score=0.481 total time=   7.9s\n",
            "[CV 5/5] END C=10, class_weight={0: 0.15, 1: 1}, degree=3, kernel=sigmoid;, score=0.508 total time=   8.1s\n",
            "[CV 1/5] END C=10, class_weight={0: 0.3, 1: 1}, degree=2, kernel=linear;, score=0.572 total time=  13.7s\n",
            "[CV 2/5] END C=10, class_weight={0: 0.3, 1: 1}, degree=2, kernel=linear;, score=0.604 total time=  10.5s\n",
            "[CV 3/5] END C=10, class_weight={0: 0.3, 1: 1}, degree=2, kernel=linear;, score=0.612 total time=  10.2s\n",
            "[CV 4/5] END C=10, class_weight={0: 0.3, 1: 1}, degree=2, kernel=linear;, score=0.637 total time=  14.2s\n",
            "[CV 5/5] END C=10, class_weight={0: 0.3, 1: 1}, degree=2, kernel=linear;, score=0.603 total time=  13.4s\n",
            "[CV 1/5] END C=10, class_weight={0: 0.3, 1: 1}, degree=2, kernel=poly;, score=0.520 total time=  13.9s\n",
            "[CV 2/5] END C=10, class_weight={0: 0.3, 1: 1}, degree=2, kernel=poly;, score=0.534 total time=  17.1s\n",
            "[CV 3/5] END C=10, class_weight={0: 0.3, 1: 1}, degree=2, kernel=poly;, score=0.602 total time=  16.8s\n",
            "[CV 4/5] END C=10, class_weight={0: 0.3, 1: 1}, degree=2, kernel=poly;, score=0.523 total time=  14.9s\n",
            "[CV 5/5] END C=10, class_weight={0: 0.3, 1: 1}, degree=2, kernel=poly;, score=0.557 total time=  16.4s\n",
            "[CV 1/5] END C=10, class_weight={0: 0.3, 1: 1}, degree=2, kernel=rbf;, score=0.502 total time=  13.7s\n",
            "[CV 2/5] END C=10, class_weight={0: 0.3, 1: 1}, degree=2, kernel=rbf;, score=0.556 total time=  13.8s\n",
            "[CV 3/5] END C=10, class_weight={0: 0.3, 1: 1}, degree=2, kernel=rbf;, score=0.537 total time=  13.7s\n",
            "[CV 4/5] END C=10, class_weight={0: 0.3, 1: 1}, degree=2, kernel=rbf;, score=0.595 total time=  13.7s\n",
            "[CV 5/5] END C=10, class_weight={0: 0.3, 1: 1}, degree=2, kernel=rbf;, score=0.515 total time=  13.6s\n",
            "[CV 1/5] END C=10, class_weight={0: 0.3, 1: 1}, degree=2, kernel=sigmoid;, score=0.532 total time=   6.2s\n",
            "[CV 2/5] END C=10, class_weight={0: 0.3, 1: 1}, degree=2, kernel=sigmoid;, score=0.536 total time=   6.2s\n",
            "[CV 3/5] END C=10, class_weight={0: 0.3, 1: 1}, degree=2, kernel=sigmoid;, score=0.543 total time=   6.3s\n",
            "[CV 4/5] END C=10, class_weight={0: 0.3, 1: 1}, degree=2, kernel=sigmoid;, score=0.531 total time=   6.4s\n",
            "[CV 5/5] END C=10, class_weight={0: 0.3, 1: 1}, degree=2, kernel=sigmoid;, score=0.561 total time=   6.4s\n",
            "[CV 1/5] END C=10, class_weight={0: 0.3, 1: 1}, degree=3, kernel=linear;, score=0.572 total time=  13.7s\n",
            "[CV 2/5] END C=10, class_weight={0: 0.3, 1: 1}, degree=3, kernel=linear;, score=0.604 total time=  10.4s\n",
            "[CV 3/5] END C=10, class_weight={0: 0.3, 1: 1}, degree=3, kernel=linear;, score=0.612 total time=  10.2s\n",
            "[CV 4/5] END C=10, class_weight={0: 0.3, 1: 1}, degree=3, kernel=linear;, score=0.637 total time=  14.2s\n",
            "[CV 5/5] END C=10, class_weight={0: 0.3, 1: 1}, degree=3, kernel=linear;, score=0.603 total time=  13.4s\n",
            "[CV 1/5] END C=10, class_weight={0: 0.3, 1: 1}, degree=3, kernel=poly;, score=0.500 total time=  14.5s\n",
            "[CV 2/5] END C=10, class_weight={0: 0.3, 1: 1}, degree=3, kernel=poly;, score=0.518 total time=  14.8s\n",
            "[CV 3/5] END C=10, class_weight={0: 0.3, 1: 1}, degree=3, kernel=poly;, score=0.579 total time=  18.9s\n",
            "[CV 4/5] END C=10, class_weight={0: 0.3, 1: 1}, degree=3, kernel=poly;, score=0.506 total time=  14.5s\n",
            "[CV 5/5] END C=10, class_weight={0: 0.3, 1: 1}, degree=3, kernel=poly;, score=0.535 total time=  18.7s\n",
            "[CV 1/5] END C=10, class_weight={0: 0.3, 1: 1}, degree=3, kernel=rbf;, score=0.502 total time=  13.7s\n",
            "[CV 2/5] END C=10, class_weight={0: 0.3, 1: 1}, degree=3, kernel=rbf;, score=0.556 total time=  13.8s\n",
            "[CV 3/5] END C=10, class_weight={0: 0.3, 1: 1}, degree=3, kernel=rbf;, score=0.537 total time=  13.8s\n",
            "[CV 4/5] END C=10, class_weight={0: 0.3, 1: 1}, degree=3, kernel=rbf;, score=0.595 total time=  13.8s\n",
            "[CV 5/5] END C=10, class_weight={0: 0.3, 1: 1}, degree=3, kernel=rbf;, score=0.515 total time=  13.7s\n",
            "[CV 1/5] END C=10, class_weight={0: 0.3, 1: 1}, degree=3, kernel=sigmoid;, score=0.532 total time=   6.3s\n",
            "[CV 2/5] END C=10, class_weight={0: 0.3, 1: 1}, degree=3, kernel=sigmoid;, score=0.536 total time=   6.2s\n",
            "[CV 3/5] END C=10, class_weight={0: 0.3, 1: 1}, degree=3, kernel=sigmoid;, score=0.543 total time=   6.4s\n",
            "[CV 4/5] END C=10, class_weight={0: 0.3, 1: 1}, degree=3, kernel=sigmoid;, score=0.531 total time=   6.4s\n",
            "[CV 5/5] END C=10, class_weight={0: 0.3, 1: 1}, degree=3, kernel=sigmoid;, score=0.561 total time=   6.4s\n",
            "[CV 1/5] END C=10, class_weight={0: 0.2, 1: 3}, degree=2, kernel=linear;, score=0.572 total time=  14.1s\n",
            "[CV 2/5] END C=10, class_weight={0: 0.2, 1: 3}, degree=2, kernel=linear;, score=0.604 total time=  10.6s\n",
            "[CV 3/5] END C=10, class_weight={0: 0.2, 1: 3}, degree=2, kernel=linear;, score=0.612 total time=  10.2s\n",
            "[CV 4/5] END C=10, class_weight={0: 0.2, 1: 3}, degree=2, kernel=linear;, score=0.628 total time=  10.5s\n",
            "[CV 5/5] END C=10, class_weight={0: 0.2, 1: 3}, degree=2, kernel=linear;, score=0.603 total time=  13.3s\n",
            "[CV 1/5] END C=10, class_weight={0: 0.2, 1: 3}, degree=2, kernel=poly;, score=0.423 total time=  11.4s\n",
            "[CV 2/5] END C=10, class_weight={0: 0.2, 1: 3}, degree=2, kernel=poly;, score=0.403 total time=  11.2s\n",
            "[CV 3/5] END C=10, class_weight={0: 0.2, 1: 3}, degree=2, kernel=poly;, score=0.429 total time=  11.0s\n",
            "[CV 4/5] END C=10, class_weight={0: 0.2, 1: 3}, degree=2, kernel=poly;, score=0.394 total time=  11.2s\n",
            "[CV 5/5] END C=10, class_weight={0: 0.2, 1: 3}, degree=2, kernel=poly;, score=0.350 total time=  11.3s\n",
            "[CV 1/5] END C=10, class_weight={0: 0.2, 1: 3}, degree=2, kernel=rbf;, score=0.530 total time=  13.1s\n",
            "[CV 2/5] END C=10, class_weight={0: 0.2, 1: 3}, degree=2, kernel=rbf;, score=0.580 total time=  13.0s\n",
            "[CV 3/5] END C=10, class_weight={0: 0.2, 1: 3}, degree=2, kernel=rbf;, score=0.531 total time=  13.2s\n",
            "[CV 4/5] END C=10, class_weight={0: 0.2, 1: 3}, degree=2, kernel=rbf;, score=0.593 total time=  13.2s\n",
            "[CV 5/5] END C=10, class_weight={0: 0.2, 1: 3}, degree=2, kernel=rbf;, score=0.540 total time=  12.9s\n",
            "[CV 1/5] END C=10, class_weight={0: 0.2, 1: 3}, degree=2, kernel=sigmoid;, score=0.382 total time=   9.7s\n",
            "[CV 2/5] END C=10, class_weight={0: 0.2, 1: 3}, degree=2, kernel=sigmoid;, score=0.390 total time=   9.6s\n",
            "[CV 3/5] END C=10, class_weight={0: 0.2, 1: 3}, degree=2, kernel=sigmoid;, score=0.416 total time=   9.0s\n",
            "[CV 4/5] END C=10, class_weight={0: 0.2, 1: 3}, degree=2, kernel=sigmoid;, score=0.383 total time=   9.5s\n",
            "[CV 5/5] END C=10, class_weight={0: 0.2, 1: 3}, degree=2, kernel=sigmoid;, score=0.406 total time=  10.0s\n",
            "[CV 1/5] END C=10, class_weight={0: 0.2, 1: 3}, degree=3, kernel=linear;, score=0.572 total time=  13.8s\n",
            "[CV 2/5] END C=10, class_weight={0: 0.2, 1: 3}, degree=3, kernel=linear;, score=0.604 total time=  10.6s\n",
            "[CV 3/5] END C=10, class_weight={0: 0.2, 1: 3}, degree=3, kernel=linear;, score=0.612 total time=  10.4s\n",
            "[CV 4/5] END C=10, class_weight={0: 0.2, 1: 3}, degree=3, kernel=linear;, score=0.628 total time=  10.6s\n",
            "[CV 5/5] END C=10, class_weight={0: 0.2, 1: 3}, degree=3, kernel=linear;, score=0.603 total time=  13.4s\n",
            "[CV 1/5] END C=10, class_weight={0: 0.2, 1: 3}, degree=3, kernel=poly;, score=0.242 total time=  12.8s\n",
            "[CV 2/5] END C=10, class_weight={0: 0.2, 1: 3}, degree=3, kernel=poly;, score=0.239 total time=  12.5s\n",
            "[CV 3/5] END C=10, class_weight={0: 0.2, 1: 3}, degree=3, kernel=poly;, score=0.267 total time=  12.3s\n",
            "[CV 4/5] END C=10, class_weight={0: 0.2, 1: 3}, degree=3, kernel=poly;, score=0.240 total time=  12.5s\n",
            "[CV 5/5] END C=10, class_weight={0: 0.2, 1: 3}, degree=3, kernel=poly;, score=0.220 total time=  12.7s\n",
            "[CV 1/5] END C=10, class_weight={0: 0.2, 1: 3}, degree=3, kernel=rbf;, score=0.530 total time=  13.1s\n",
            "[CV 2/5] END C=10, class_weight={0: 0.2, 1: 3}, degree=3, kernel=rbf;, score=0.580 total time=  13.0s\n",
            "[CV 3/5] END C=10, class_weight={0: 0.2, 1: 3}, degree=3, kernel=rbf;, score=0.531 total time=  13.2s\n",
            "[CV 4/5] END C=10, class_weight={0: 0.2, 1: 3}, degree=3, kernel=rbf;, score=0.593 total time=  13.2s\n",
            "[CV 5/5] END C=10, class_weight={0: 0.2, 1: 3}, degree=3, kernel=rbf;, score=0.540 total time=  12.9s\n",
            "[CV 1/5] END C=10, class_weight={0: 0.2, 1: 3}, degree=3, kernel=sigmoid;, score=0.382 total time=   9.6s\n",
            "[CV 2/5] END C=10, class_weight={0: 0.2, 1: 3}, degree=3, kernel=sigmoid;, score=0.390 total time=   9.4s\n",
            "[CV 3/5] END C=10, class_weight={0: 0.2, 1: 3}, degree=3, kernel=sigmoid;, score=0.416 total time=   8.9s\n",
            "[CV 4/5] END C=10, class_weight={0: 0.2, 1: 3}, degree=3, kernel=sigmoid;, score=0.383 total time=   9.4s\n",
            "[CV 5/5] END C=10, class_weight={0: 0.2, 1: 3}, degree=3, kernel=sigmoid;, score=0.406 total time=   9.7s\n",
            "[CV 1/5] END C=10, class_weight={0: 0.15, 1: 5}, degree=2, kernel=linear;, score=0.572 total time=  13.6s\n",
            "[CV 2/5] END C=10, class_weight={0: 0.15, 1: 5}, degree=2, kernel=linear;, score=0.604 total time=  10.6s\n",
            "[CV 3/5] END C=10, class_weight={0: 0.15, 1: 5}, degree=2, kernel=linear;, score=0.612 total time=  10.4s\n",
            "[CV 4/5] END C=10, class_weight={0: 0.15, 1: 5}, degree=2, kernel=linear;, score=0.628 total time=  10.9s\n",
            "[CV 5/5] END C=10, class_weight={0: 0.15, 1: 5}, degree=2, kernel=linear;, score=0.603 total time=  13.6s\n",
            "[CV 1/5] END C=10, class_weight={0: 0.15, 1: 5}, degree=2, kernel=poly;, score=0.343 total time=  11.7s\n",
            "[CV 2/5] END C=10, class_weight={0: 0.15, 1: 5}, degree=2, kernel=poly;, score=0.344 total time=  11.5s\n",
            "[CV 3/5] END C=10, class_weight={0: 0.15, 1: 5}, degree=2, kernel=poly;, score=0.362 total time=  11.2s\n",
            "[CV 4/5] END C=10, class_weight={0: 0.15, 1: 5}, degree=2, kernel=poly;, score=0.332 total time=  11.3s\n",
            "[CV 5/5] END C=10, class_weight={0: 0.15, 1: 5}, degree=2, kernel=poly;, score=0.299 total time=  11.6s\n",
            "[CV 1/5] END C=10, class_weight={0: 0.15, 1: 5}, degree=2, kernel=rbf;, score=0.552 total time=  11.3s\n",
            "[CV 2/5] END C=10, class_weight={0: 0.15, 1: 5}, degree=2, kernel=rbf;, score=0.598 total time=  11.2s\n",
            "[CV 3/5] END C=10, class_weight={0: 0.15, 1: 5}, degree=2, kernel=rbf;, score=0.559 total time=  12.8s\n",
            "[CV 4/5] END C=10, class_weight={0: 0.15, 1: 5}, degree=2, kernel=rbf;, score=0.642 total time=  13.1s\n",
            "[CV 5/5] END C=10, class_weight={0: 0.15, 1: 5}, degree=2, kernel=rbf;, score=0.515 total time=  11.2s\n",
            "[CV 1/5] END C=10, class_weight={0: 0.15, 1: 5}, degree=2, kernel=sigmoid;, score=0.282 total time=  11.1s\n",
            "[CV 2/5] END C=10, class_weight={0: 0.15, 1: 5}, degree=2, kernel=sigmoid;, score=0.288 total time=  11.2s\n",
            "[CV 3/5] END C=10, class_weight={0: 0.15, 1: 5}, degree=2, kernel=sigmoid;, score=0.326 total time=  10.6s\n",
            "[CV 4/5] END C=10, class_weight={0: 0.15, 1: 5}, degree=2, kernel=sigmoid;, score=0.300 total time=  10.9s\n",
            "[CV 5/5] END C=10, class_weight={0: 0.15, 1: 5}, degree=2, kernel=sigmoid;, score=0.300 total time=  11.3s\n",
            "[CV 1/5] END C=10, class_weight={0: 0.15, 1: 5}, degree=3, kernel=linear;, score=0.572 total time=  13.6s\n",
            "[CV 2/5] END C=10, class_weight={0: 0.15, 1: 5}, degree=3, kernel=linear;, score=0.604 total time=  10.5s\n",
            "[CV 3/5] END C=10, class_weight={0: 0.15, 1: 5}, degree=3, kernel=linear;, score=0.612 total time=  10.2s\n",
            "[CV 4/5] END C=10, class_weight={0: 0.15, 1: 5}, degree=3, kernel=linear;, score=0.628 total time=  10.5s\n",
            "[CV 5/5] END C=10, class_weight={0: 0.15, 1: 5}, degree=3, kernel=linear;, score=0.603 total time=  13.2s\n",
            "[CV 1/5] END C=10, class_weight={0: 0.15, 1: 5}, degree=3, kernel=poly;, score=0.229 total time=  12.8s\n",
            "[CV 2/5] END C=10, class_weight={0: 0.15, 1: 5}, degree=3, kernel=poly;, score=0.214 total time=  12.6s\n",
            "[CV 3/5] END C=10, class_weight={0: 0.15, 1: 5}, degree=3, kernel=poly;, score=0.253 total time=  12.4s\n",
            "[CV 4/5] END C=10, class_weight={0: 0.15, 1: 5}, degree=3, kernel=poly;, score=0.231 total time=  12.6s\n",
            "[CV 5/5] END C=10, class_weight={0: 0.15, 1: 5}, degree=3, kernel=poly;, score=0.213 total time=  12.8s\n",
            "[CV 1/5] END C=10, class_weight={0: 0.15, 1: 5}, degree=3, kernel=rbf;, score=0.552 total time=  11.4s\n",
            "[CV 2/5] END C=10, class_weight={0: 0.15, 1: 5}, degree=3, kernel=rbf;, score=0.598 total time=  11.3s\n",
            "[CV 3/5] END C=10, class_weight={0: 0.15, 1: 5}, degree=3, kernel=rbf;, score=0.559 total time=  12.9s\n",
            "[CV 4/5] END C=10, class_weight={0: 0.15, 1: 5}, degree=3, kernel=rbf;, score=0.642 total time=  13.0s\n",
            "[CV 5/5] END C=10, class_weight={0: 0.15, 1: 5}, degree=3, kernel=rbf;, score=0.515 total time=  11.2s\n",
            "[CV 1/5] END C=10, class_weight={0: 0.15, 1: 5}, degree=3, kernel=sigmoid;, score=0.282 total time=  11.0s\n",
            "[CV 2/5] END C=10, class_weight={0: 0.15, 1: 5}, degree=3, kernel=sigmoid;, score=0.288 total time=  11.1s\n",
            "[CV 3/5] END C=10, class_weight={0: 0.15, 1: 5}, degree=3, kernel=sigmoid;, score=0.326 total time=  10.6s\n",
            "[CV 4/5] END C=10, class_weight={0: 0.15, 1: 5}, degree=3, kernel=sigmoid;, score=0.300 total time=  11.0s\n",
            "[CV 5/5] END C=10, class_weight={0: 0.15, 1: 5}, degree=3, kernel=sigmoid;, score=0.300 total time=  11.4s\n"
          ]
        },
        {
          "data": {
            "text/plain": [
              "GridSearchCV(estimator=SVC(),\n",
              "             param_grid={'C': [0.01, 0.1, 1, 10],\n",
              "                         'class_weight': [{0: 0.15, 1: 1}, {0: 0.3, 1: 1},\n",
              "                                          {0: 0.2, 1: 3}, {0: 0.15, 1: 5}],\n",
              "                         'degree': [2, 3],\n",
              "                         'kernel': ['linear', 'poly', 'rbf', 'sigmoid']},\n",
              "             scoring='f1_macro', verbose=3)"
            ]
          },
          "execution_count": 33,
          "metadata": {},
          "output_type": "execute_result"
        }
      ],
      "source": [
        "lrm_grid.fit(X_train_bow,y_train_bow)"
      ]
    },
    {
      "cell_type": "code",
      "execution_count": null,
      "metadata": {
        "colab": {
          "base_uri": "https://localhost:8080/"
        },
        "id": "wpwfv7XmlUQW",
        "outputId": "1dfdb5b2-b178-4031-b5b5-5aeff18388c5"
      },
      "outputs": [
        {
          "data": {
            "text/plain": [
              "{'C': 0.01, 'class_weight': {0: 0.15, 1: 5}, 'degree': 2, 'kernel': 'linear'}"
            ]
          },
          "execution_count": 34,
          "metadata": {},
          "output_type": "execute_result"
        }
      ],
      "source": [
        "lrm_grid.best_params_"
      ]
    },
    {
      "cell_type": "code",
      "execution_count": null,
      "metadata": {
        "colab": {
          "base_uri": "https://localhost:8080/",
          "height": 399
        },
        "id": "VodWjyUVlRqi",
        "outputId": "9cb028c5-f839-485d-99b3-504d350fff2c"
      },
      "outputs": [
        {
          "name": "stdout",
          "output_type": "stream",
          "text": [
            "f1-score macro: 0.643673677981602\n",
            "f1-score micro: 0.8150594451783355\n",
            "accuracy score: 0.8150594451783355\n",
            "recall score: 0.6479928017718715\n",
            "precision score: 0.6398613291470434\n",
            "ROCAUC score: 0.6479928017718715\n"
          ]
        },
        {
          "data": {
            "image/png": "[encoded data removed]",
            "text/plain": [
              "<Figure size 432x288 with 2 Axes>"
            ]
          },
          "metadata": {
            "needs_background": "light"
          },
          "output_type": "display_data"
        }
      ],
      "source": [
        "svm_bow = svm.SVC(C=0.01, class_weight={0:0.15, 1:5}, degree=2, kernel='linear')\n",
        "svm_bow.fit(X_train_bow, y_train_bow)\n",
        "predictions_svm_bow = svm_bow.predict(X_test_bow)\n",
        "print_evaluation(y_test_bow, predictions_svm_bow)"
      ]
    },
    {
      "cell_type": "markdown",
      "metadata": {
        "id": "k46J1_RH_2oq"
      },
      "source": [
        "# DT"
      ]
    },
    {
      "cell_type": "code",
      "execution_count": null,
      "metadata": {
        "id": "ScasV14k00B8"
      },
      "outputs": [],
      "source": [
        "from sklearn import tree\n",
        "lrm_param_grid = {'criterion': ['gini', 'entropy'],\n",
        "                  'splitter': ['best', 'random'],\n",
        "                  'max_depth': [1,2,3],\n",
        "                  'class_weight':[{0:0.15, 1:1},{0:0.3, 1:1},{0:0.2, 1:3},{0:0.15, 1:5}]} \n",
        "lrm_grid = GridSearchCV(tree.DecisionTreeClassifier(),\n",
        "                        lrm_param_grid,\n",
        "                        refit=True,\n",
        "                        verbose=3,\n",
        "                        scoring='f1_macro')"
      ]
    },
    {
      "cell_type": "markdown",
      "metadata": {
        "id": "F6G_bauDC9o6"
      },
      "source": [
        "## TF-IDF"
      ]
    },
    {
      "cell_type": "code",
      "execution_count": null,
      "metadata": {
        "colab": {
          "base_uri": "https://localhost:8080/"
        },
        "id": "8CbXGlGA1NT5",
        "outputId": "289fa034-c14f-4494-c258-3a8502a11bc5"
      },
      "outputs": [
        {
          "name": "stdout",
          "output_type": "stream",
          "text": [
            "Fitting 5 folds for each of 48 candidates, totalling 240 fits\n",
            "[CV 1/5] END class_weight={0: 0.15, 1: 1}, criterion=gini, max_depth=1, splitter=best;, score=0.324 total time=   1.2s\n",
            "[CV 2/5] END class_weight={0: 0.15, 1: 1}, criterion=gini, max_depth=1, splitter=best;, score=0.289 total time=   1.2s\n",
            "[CV 3/5] END class_weight={0: 0.15, 1: 1}, criterion=gini, max_depth=1, splitter=best;, score=0.325 total time=   1.2s\n",
            "[CV 4/5] END class_weight={0: 0.15, 1: 1}, criterion=gini, max_depth=1, splitter=best;, score=0.325 total time=   1.2s\n",
            "[CV 5/5] END class_weight={0: 0.15, 1: 1}, criterion=gini, max_depth=1, splitter=best;, score=0.241 total time=   1.2s\n",
            "[CV 1/5] END class_weight={0: 0.15, 1: 1}, criterion=gini, max_depth=1, splitter=random;, score=0.236 total time=   1.2s\n",
            "[CV 2/5] END class_weight={0: 0.15, 1: 1}, criterion=gini, max_depth=1, splitter=random;, score=0.189 total time=   1.1s\n",
            "[CV 3/5] END class_weight={0: 0.15, 1: 1}, criterion=gini, max_depth=1, splitter=random;, score=0.192 total time=   1.2s\n",
            "[CV 4/5] END class_weight={0: 0.15, 1: 1}, criterion=gini, max_depth=1, splitter=random;, score=0.309 total time=   1.2s\n",
            "[CV 5/5] END class_weight={0: 0.15, 1: 1}, criterion=gini, max_depth=1, splitter=random;, score=0.185 total time=   1.2s\n",
            "[CV 1/5] END class_weight={0: 0.15, 1: 1}, criterion=gini, max_depth=2, splitter=best;, score=0.380 total time=   1.4s\n",
            "[CV 2/5] END class_weight={0: 0.15, 1: 1}, criterion=gini, max_depth=2, splitter=best;, score=0.351 total time=   1.4s\n",
            "[CV 3/5] END class_weight={0: 0.15, 1: 1}, criterion=gini, max_depth=2, splitter=best;, score=0.374 total time=   1.4s\n",
            "[CV 4/5] END class_weight={0: 0.15, 1: 1}, criterion=gini, max_depth=2, splitter=best;, score=0.381 total time=   1.4s\n",
            "[CV 5/5] END class_weight={0: 0.15, 1: 1}, criterion=gini, max_depth=2, splitter=best;, score=0.362 total time=   1.4s\n",
            "[CV 1/5] END class_weight={0: 0.15, 1: 1}, criterion=gini, max_depth=2, splitter=random;, score=0.498 total time=   1.3s\n",
            "[CV 2/5] END class_weight={0: 0.15, 1: 1}, criterion=gini, max_depth=2, splitter=random;, score=0.233 total time=   1.3s\n",
            "[CV 3/5] END class_weight={0: 0.15, 1: 1}, criterion=gini, max_depth=2, splitter=random;, score=0.353 total time=   1.3s\n",
            "[CV 4/5] END class_weight={0: 0.15, 1: 1}, criterion=gini, max_depth=2, splitter=random;, score=0.218 total time=   1.3s\n",
            "[CV 5/5] END class_weight={0: 0.15, 1: 1}, criterion=gini, max_depth=2, splitter=random;, score=0.248 total time=   1.3s\n",
            "[CV 1/5] END class_weight={0: 0.15, 1: 1}, criterion=gini, max_depth=3, splitter=best;, score=0.377 total time=   1.6s\n",
            "[CV 2/5] END class_weight={0: 0.15, 1: 1}, criterion=gini, max_depth=3, splitter=best;, score=0.379 total time=   1.7s\n",
            "[CV 3/5] END class_weight={0: 0.15, 1: 1}, criterion=gini, max_depth=3, splitter=best;, score=0.364 total time=   1.6s\n",
            "[CV 4/5] END class_weight={0: 0.15, 1: 1}, criterion=gini, max_depth=3, splitter=best;, score=0.402 total time=   1.6s\n",
            "[CV 5/5] END class_weight={0: 0.15, 1: 1}, criterion=gini, max_depth=3, splitter=best;, score=0.370 total time=   1.6s\n",
            "[CV 1/5] END class_weight={0: 0.15, 1: 1}, criterion=gini, max_depth=3, splitter=random;, score=0.325 total time=   1.5s\n",
            "[CV 2/5] END class_weight={0: 0.15, 1: 1}, criterion=gini, max_depth=3, splitter=random;, score=0.559 total time=   1.5s\n",
            "[CV 3/5] END class_weight={0: 0.15, 1: 1}, criterion=gini, max_depth=3, splitter=random;, score=0.546 total time=   1.4s\n",
            "[CV 4/5] END class_weight={0: 0.15, 1: 1}, criterion=gini, max_depth=3, splitter=random;, score=0.208 total time=   1.4s\n",
            "[CV 5/5] END class_weight={0: 0.15, 1: 1}, criterion=gini, max_depth=3, splitter=random;, score=0.276 total time=   1.7s\n",
            "[CV 1/5] END class_weight={0: 0.15, 1: 1}, criterion=entropy, max_depth=1, splitter=best;, score=0.236 total time=   1.7s\n",
            "[CV 2/5] END class_weight={0: 0.15, 1: 1}, criterion=entropy, max_depth=1, splitter=best;, score=0.289 total time=   1.3s\n",
            "[CV 3/5] END class_weight={0: 0.15, 1: 1}, criterion=entropy, max_depth=1, splitter=best;, score=0.325 total time=   1.2s\n",
            "[CV 4/5] END class_weight={0: 0.15, 1: 1}, criterion=entropy, max_depth=1, splitter=best;, score=0.325 total time=   1.3s\n",
            "[CV 5/5] END class_weight={0: 0.15, 1: 1}, criterion=entropy, max_depth=1, splitter=best;, score=0.241 total time=   1.3s\n",
            "[CV 1/5] END class_weight={0: 0.15, 1: 1}, criterion=entropy, max_depth=1, splitter=random;, score=0.505 total time=   1.2s\n",
            "[CV 2/5] END class_weight={0: 0.15, 1: 1}, criterion=entropy, max_depth=1, splitter=random;, score=0.185 total time=   1.2s\n",
            "[CV 3/5] END class_weight={0: 0.15, 1: 1}, criterion=entropy, max_depth=1, splitter=random;, score=0.179 total time=   1.2s\n",
            "[CV 4/5] END class_weight={0: 0.15, 1: 1}, criterion=entropy, max_depth=1, splitter=random;, score=0.494 total time=   1.2s\n",
            "[CV 5/5] END class_weight={0: 0.15, 1: 1}, criterion=entropy, max_depth=1, splitter=random;, score=0.269 total time=   1.3s\n",
            "[CV 1/5] END class_weight={0: 0.15, 1: 1}, criterion=entropy, max_depth=2, splitter=best;, score=0.311 total time=   1.5s\n",
            "[CV 2/5] END class_weight={0: 0.15, 1: 1}, criterion=entropy, max_depth=2, splitter=best;, score=0.315 total time=   1.6s\n",
            "[CV 3/5] END class_weight={0: 0.15, 1: 1}, criterion=entropy, max_depth=2, splitter=best;, score=0.374 total time=   1.5s\n",
            "[CV 4/5] END class_weight={0: 0.15, 1: 1}, criterion=entropy, max_depth=2, splitter=best;, score=0.381 total time=   1.6s\n",
            "[CV 5/5] END class_weight={0: 0.15, 1: 1}, criterion=entropy, max_depth=2, splitter=best;, score=0.290 total time=   1.6s\n",
            "[CV 1/5] END class_weight={0: 0.15, 1: 1}, criterion=entropy, max_depth=2, splitter=random;, score=0.551 total time=   2.0s\n",
            "[CV 2/5] END class_weight={0: 0.15, 1: 1}, criterion=entropy, max_depth=2, splitter=random;, score=0.524 total time=   1.4s\n",
            "[CV 3/5] END class_weight={0: 0.15, 1: 1}, criterion=entropy, max_depth=2, splitter=random;, score=0.267 total time=   1.3s\n",
            "[CV 4/5] END class_weight={0: 0.15, 1: 1}, criterion=entropy, max_depth=2, splitter=random;, score=0.305 total time=   1.4s\n",
            "[CV 5/5] END class_weight={0: 0.15, 1: 1}, criterion=entropy, max_depth=2, splitter=random;, score=0.255 total time=   1.4s\n",
            "[CV 1/5] END class_weight={0: 0.15, 1: 1}, criterion=entropy, max_depth=3, splitter=best;, score=0.404 total time=   1.8s\n",
            "[CV 2/5] END class_weight={0: 0.15, 1: 1}, criterion=entropy, max_depth=3, splitter=best;, score=0.376 total time=   1.8s\n",
            "[CV 3/5] END class_weight={0: 0.15, 1: 1}, criterion=entropy, max_depth=3, splitter=best;, score=0.364 total time=   1.8s\n",
            "[CV 4/5] END class_weight={0: 0.15, 1: 1}, criterion=entropy, max_depth=3, splitter=best;, score=0.409 total time=   1.9s\n",
            "[CV 5/5] END class_weight={0: 0.15, 1: 1}, criterion=entropy, max_depth=3, splitter=best;, score=0.290 total time=   1.9s\n",
            "[CV 1/5] END class_weight={0: 0.15, 1: 1}, criterion=entropy, max_depth=3, splitter=random;, score=0.305 total time=   1.5s\n",
            "[CV 2/5] END class_weight={0: 0.15, 1: 1}, criterion=entropy, max_depth=3, splitter=random;, score=0.241 total time=   1.5s\n",
            "[CV 3/5] END class_weight={0: 0.15, 1: 1}, criterion=entropy, max_depth=3, splitter=random;, score=0.216 total time=   1.5s\n",
            "[CV 4/5] END class_weight={0: 0.15, 1: 1}, criterion=entropy, max_depth=3, splitter=random;, score=0.200 total time=   1.5s\n",
            "[CV 5/5] END class_weight={0: 0.15, 1: 1}, criterion=entropy, max_depth=3, splitter=random;, score=0.352 total time=   1.6s\n",
            "[CV 1/5] END class_weight={0: 0.3, 1: 1}, criterion=gini, max_depth=1, splitter=best;, score=0.464 total time=   1.2s\n",
            "[CV 2/5] END class_weight={0: 0.3, 1: 1}, criterion=gini, max_depth=1, splitter=best;, score=0.464 total time=   1.2s\n",
            "[CV 3/5] END class_weight={0: 0.3, 1: 1}, criterion=gini, max_depth=1, splitter=best;, score=0.464 total time=   1.1s\n",
            "[CV 4/5] END class_weight={0: 0.3, 1: 1}, criterion=gini, max_depth=1, splitter=best;, score=0.464 total time=   1.2s\n",
            "[CV 5/5] END class_weight={0: 0.3, 1: 1}, criterion=gini, max_depth=1, splitter=best;, score=0.464 total time=   1.3s\n",
            "[CV 1/5] END class_weight={0: 0.3, 1: 1}, criterion=gini, max_depth=1, splitter=random;, score=0.464 total time=   1.2s\n",
            "[CV 2/5] END class_weight={0: 0.3, 1: 1}, criterion=gini, max_depth=1, splitter=random;, score=0.464 total time=   1.2s\n",
            "[CV 3/5] END class_weight={0: 0.3, 1: 1}, criterion=gini, max_depth=1, splitter=random;, score=0.464 total time=   1.1s\n",
            "[CV 4/5] END class_weight={0: 0.3, 1: 1}, criterion=gini, max_depth=1, splitter=random;, score=0.464 total time=   1.2s\n",
            "[CV 5/5] END class_weight={0: 0.3, 1: 1}, criterion=gini, max_depth=1, splitter=random;, score=0.464 total time=   1.2s\n",
            "[CV 1/5] END class_weight={0: 0.3, 1: 1}, criterion=gini, max_depth=2, splitter=best;, score=0.509 total time=   1.4s\n",
            "[CV 2/5] END class_weight={0: 0.3, 1: 1}, criterion=gini, max_depth=2, splitter=best;, score=0.511 total time=   1.4s\n",
            "[CV 3/5] END class_weight={0: 0.3, 1: 1}, criterion=gini, max_depth=2, splitter=best;, score=0.488 total time=   1.4s\n",
            "[CV 4/5] END class_weight={0: 0.3, 1: 1}, criterion=gini, max_depth=2, splitter=best;, score=0.461 total time=   1.4s\n",
            "[CV 5/5] END class_weight={0: 0.3, 1: 1}, criterion=gini, max_depth=2, splitter=best;, score=0.464 total time=   1.4s\n",
            "[CV 1/5] END class_weight={0: 0.3, 1: 1}, criterion=gini, max_depth=2, splitter=random;, score=0.478 total time=   1.3s\n",
            "[CV 2/5] END class_weight={0: 0.3, 1: 1}, criterion=gini, max_depth=2, splitter=random;, score=0.500 total time=   1.3s\n",
            "[CV 3/5] END class_weight={0: 0.3, 1: 1}, criterion=gini, max_depth=2, splitter=random;, score=0.570 total time=   1.3s\n",
            "[CV 4/5] END class_weight={0: 0.3, 1: 1}, criterion=gini, max_depth=2, splitter=random;, score=0.512 total time=   1.3s\n",
            "[CV 5/5] END class_weight={0: 0.3, 1: 1}, criterion=gini, max_depth=2, splitter=random;, score=0.474 total time=   1.4s\n",
            "[CV 1/5] END class_weight={0: 0.3, 1: 1}, criterion=gini, max_depth=3, splitter=best;, score=0.551 total time=   2.2s\n",
            "[CV 2/5] END class_weight={0: 0.3, 1: 1}, criterion=gini, max_depth=3, splitter=best;, score=0.559 total time=   2.2s\n",
            "[CV 3/5] END class_weight={0: 0.3, 1: 1}, criterion=gini, max_depth=3, splitter=best;, score=0.538 total time=   1.6s\n",
            "[CV 4/5] END class_weight={0: 0.3, 1: 1}, criterion=gini, max_depth=3, splitter=best;, score=0.492 total time=   1.6s\n",
            "[CV 5/5] END class_weight={0: 0.3, 1: 1}, criterion=gini, max_depth=3, splitter=best;, score=0.487 total time=   1.6s\n",
            "[CV 1/5] END class_weight={0: 0.3, 1: 1}, criterion=gini, max_depth=3, splitter=random;, score=0.476 total time=   1.5s\n",
            "[CV 2/5] END class_weight={0: 0.3, 1: 1}, criterion=gini, max_depth=3, splitter=random;, score=0.500 total time=   1.5s\n",
            "[CV 3/5] END class_weight={0: 0.3, 1: 1}, criterion=gini, max_depth=3, splitter=random;, score=0.555 total time=   1.5s\n",
            "[CV 4/5] END class_weight={0: 0.3, 1: 1}, criterion=gini, max_depth=3, splitter=random;, score=0.588 total time=   1.5s\n",
            "[CV 5/5] END class_weight={0: 0.3, 1: 1}, criterion=gini, max_depth=3, splitter=random;, score=0.508 total time=   1.5s\n",
            "[CV 1/5] END class_weight={0: 0.3, 1: 1}, criterion=entropy, max_depth=1, splitter=best;, score=0.464 total time=   1.3s\n",
            "[CV 2/5] END class_weight={0: 0.3, 1: 1}, criterion=entropy, max_depth=1, splitter=best;, score=0.464 total time=   1.2s\n",
            "[CV 3/5] END class_weight={0: 0.3, 1: 1}, criterion=entropy, max_depth=1, splitter=best;, score=0.464 total time=   1.3s\n",
            "[CV 4/5] END class_weight={0: 0.3, 1: 1}, criterion=entropy, max_depth=1, splitter=best;, score=0.464 total time=   1.3s\n",
            "[CV 5/5] END class_weight={0: 0.3, 1: 1}, criterion=entropy, max_depth=1, splitter=best;, score=0.464 total time=   1.3s\n",
            "[CV 1/5] END class_weight={0: 0.3, 1: 1}, criterion=entropy, max_depth=1, splitter=random;, score=0.464 total time=   1.2s\n",
            "[CV 2/5] END class_weight={0: 0.3, 1: 1}, criterion=entropy, max_depth=1, splitter=random;, score=0.464 total time=   1.2s\n",
            "[CV 3/5] END class_weight={0: 0.3, 1: 1}, criterion=entropy, max_depth=1, splitter=random;, score=0.464 total time=   1.1s\n",
            "[CV 4/5] END class_weight={0: 0.3, 1: 1}, criterion=entropy, max_depth=1, splitter=random;, score=0.464 total time=   1.2s\n",
            "[CV 5/5] END class_weight={0: 0.3, 1: 1}, criterion=entropy, max_depth=1, splitter=random;, score=0.464 total time=   1.2s\n",
            "[CV 1/5] END class_weight={0: 0.3, 1: 1}, criterion=entropy, max_depth=2, splitter=best;, score=0.459 total time=   1.5s\n",
            "[CV 2/5] END class_weight={0: 0.3, 1: 1}, criterion=entropy, max_depth=2, splitter=best;, score=0.510 total time=   1.5s\n",
            "[CV 3/5] END class_weight={0: 0.3, 1: 1}, criterion=entropy, max_depth=2, splitter=best;, score=0.464 total time=   1.5s\n",
            "[CV 4/5] END class_weight={0: 0.3, 1: 1}, criterion=entropy, max_depth=2, splitter=best;, score=0.464 total time=   1.5s\n",
            "[CV 5/5] END class_weight={0: 0.3, 1: 1}, criterion=entropy, max_depth=2, splitter=best;, score=0.464 total time=   1.6s\n",
            "[CV 1/5] END class_weight={0: 0.3, 1: 1}, criterion=entropy, max_depth=2, splitter=random;, score=0.522 total time=   1.4s\n",
            "[CV 2/5] END class_weight={0: 0.3, 1: 1}, criterion=entropy, max_depth=2, splitter=random;, score=0.472 total time=   1.4s\n",
            "[CV 3/5] END class_weight={0: 0.3, 1: 1}, criterion=entropy, max_depth=2, splitter=random;, score=0.515 total time=   1.3s\n",
            "[CV 4/5] END class_weight={0: 0.3, 1: 1}, criterion=entropy, max_depth=2, splitter=random;, score=0.464 total time=   1.4s\n",
            "[CV 5/5] END class_weight={0: 0.3, 1: 1}, criterion=entropy, max_depth=2, splitter=random;, score=0.464 total time=   1.4s\n",
            "[CV 1/5] END class_weight={0: 0.3, 1: 1}, criterion=entropy, max_depth=3, splitter=best;, score=0.521 total time=   1.7s\n",
            "[CV 2/5] END class_weight={0: 0.3, 1: 1}, criterion=entropy, max_depth=3, splitter=best;, score=0.501 total time=   1.8s\n",
            "[CV 3/5] END class_weight={0: 0.3, 1: 1}, criterion=entropy, max_depth=3, splitter=best;, score=0.499 total time=   1.8s\n",
            "[CV 4/5] END class_weight={0: 0.3, 1: 1}, criterion=entropy, max_depth=3, splitter=best;, score=0.462 total time=   1.8s\n",
            "[CV 5/5] END class_weight={0: 0.3, 1: 1}, criterion=entropy, max_depth=3, splitter=best;, score=0.490 total time=   1.8s\n",
            "[CV 1/5] END class_weight={0: 0.3, 1: 1}, criterion=entropy, max_depth=3, splitter=random;, score=0.476 total time=   1.6s\n",
            "[CV 2/5] END class_weight={0: 0.3, 1: 1}, criterion=entropy, max_depth=3, splitter=random;, score=0.530 total time=   1.5s\n",
            "[CV 3/5] END class_weight={0: 0.3, 1: 1}, criterion=entropy, max_depth=3, splitter=random;, score=0.461 total time=   1.5s\n",
            "[CV 4/5] END class_weight={0: 0.3, 1: 1}, criterion=entropy, max_depth=3, splitter=random;, score=0.494 total time=   1.5s\n",
            "[CV 5/5] END class_weight={0: 0.3, 1: 1}, criterion=entropy, max_depth=3, splitter=random;, score=0.498 total time=   1.6s\n",
            "[CV 1/5] END class_weight={0: 0.2, 1: 3}, criterion=gini, max_depth=1, splitter=best;, score=0.236 total time=   1.2s\n",
            "[CV 2/5] END class_weight={0: 0.2, 1: 3}, criterion=gini, max_depth=1, splitter=best;, score=0.289 total time=   1.2s\n",
            "[CV 3/5] END class_weight={0: 0.2, 1: 3}, criterion=gini, max_depth=1, splitter=best;, score=0.325 total time=   1.2s\n",
            "[CV 4/5] END class_weight={0: 0.2, 1: 3}, criterion=gini, max_depth=1, splitter=best;, score=0.172 total time=   1.2s\n",
            "[CV 5/5] END class_weight={0: 0.2, 1: 3}, criterion=gini, max_depth=1, splitter=best;, score=0.241 total time=   1.2s\n",
            "[CV 1/5] END class_weight={0: 0.2, 1: 3}, criterion=gini, max_depth=1, splitter=random;, score=0.174 total time=   1.2s\n",
            "[CV 2/5] END class_weight={0: 0.2, 1: 3}, criterion=gini, max_depth=1, splitter=random;, score=0.167 total time=   1.1s\n",
            "[CV 3/5] END class_weight={0: 0.2, 1: 3}, criterion=gini, max_depth=1, splitter=random;, score=0.264 total time=   1.1s\n",
            "[CV 4/5] END class_weight={0: 0.2, 1: 3}, criterion=gini, max_depth=1, splitter=random;, score=0.156 total time=   1.2s\n",
            "[CV 5/5] END class_weight={0: 0.2, 1: 3}, criterion=gini, max_depth=1, splitter=random;, score=0.185 total time=   1.2s\n",
            "[CV 1/5] END class_weight={0: 0.2, 1: 3}, criterion=gini, max_depth=2, splitter=best;, score=0.311 total time=   1.4s\n",
            "[CV 2/5] END class_weight={0: 0.2, 1: 3}, criterion=gini, max_depth=2, splitter=best;, score=0.315 total time=   1.4s\n",
            "[CV 3/5] END class_weight={0: 0.2, 1: 3}, criterion=gini, max_depth=2, splitter=best;, score=0.374 total time=   1.3s\n",
            "[CV 4/5] END class_weight={0: 0.2, 1: 3}, criterion=gini, max_depth=2, splitter=best;, score=0.224 total time=   1.3s\n",
            "[CV 5/5] END class_weight={0: 0.2, 1: 3}, criterion=gini, max_depth=2, splitter=best;, score=0.290 total time=   1.4s\n",
            "[CV 1/5] END class_weight={0: 0.2, 1: 3}, criterion=gini, max_depth=2, splitter=random;, score=0.266 total time=   1.3s\n",
            "[CV 2/5] END class_weight={0: 0.2, 1: 3}, criterion=gini, max_depth=2, splitter=random;, score=0.275 total time=   1.3s\n",
            "[CV 3/5] END class_weight={0: 0.2, 1: 3}, criterion=gini, max_depth=2, splitter=random;, score=0.197 total time=   1.3s\n",
            "[CV 4/5] END class_weight={0: 0.2, 1: 3}, criterion=gini, max_depth=2, splitter=random;, score=0.218 total time=   1.3s\n",
            "[CV 5/5] END class_weight={0: 0.2, 1: 3}, criterion=gini, max_depth=2, splitter=random;, score=0.211 total time=   1.4s\n",
            "[CV 1/5] END class_weight={0: 0.2, 1: 3}, criterion=gini, max_depth=3, splitter=best;, score=0.318 total time=   1.6s\n",
            "[CV 2/5] END class_weight={0: 0.2, 1: 3}, criterion=gini, max_depth=3, splitter=best;, score=0.379 total time=   1.6s\n",
            "[CV 3/5] END class_weight={0: 0.2, 1: 3}, criterion=gini, max_depth=3, splitter=best;, score=0.376 total time=   1.6s\n",
            "[CV 4/5] END class_weight={0: 0.2, 1: 3}, criterion=gini, max_depth=3, splitter=best;, score=0.310 total time=   1.6s\n",
            "[CV 5/5] END class_weight={0: 0.2, 1: 3}, criterion=gini, max_depth=3, splitter=best;, score=0.290 total time=   1.7s\n",
            "[CV 1/5] END class_weight={0: 0.2, 1: 3}, criterion=gini, max_depth=3, splitter=random;, score=0.249 total time=   1.5s\n",
            "[CV 2/5] END class_weight={0: 0.2, 1: 3}, criterion=gini, max_depth=3, splitter=random;, score=0.249 total time=   1.5s\n",
            "[CV 3/5] END class_weight={0: 0.2, 1: 3}, criterion=gini, max_depth=3, splitter=random;, score=0.271 total time=   1.4s\n",
            "[CV 4/5] END class_weight={0: 0.2, 1: 3}, criterion=gini, max_depth=3, splitter=random;, score=0.227 total time=   1.5s\n",
            "[CV 5/5] END class_weight={0: 0.2, 1: 3}, criterion=gini, max_depth=3, splitter=random;, score=0.234 total time=   1.5s\n",
            "[CV 1/5] END class_weight={0: 0.2, 1: 3}, criterion=entropy, max_depth=1, splitter=best;, score=0.236 total time=   1.3s\n",
            "[CV 2/5] END class_weight={0: 0.2, 1: 3}, criterion=entropy, max_depth=1, splitter=best;, score=0.185 total time=   1.3s\n",
            "[CV 3/5] END class_weight={0: 0.2, 1: 3}, criterion=entropy, max_depth=1, splitter=best;, score=0.325 total time=   1.2s\n",
            "[CV 4/5] END class_weight={0: 0.2, 1: 3}, criterion=entropy, max_depth=1, splitter=best;, score=0.172 total time=   1.3s\n",
            "[CV 5/5] END class_weight={0: 0.2, 1: 3}, criterion=entropy, max_depth=1, splitter=best;, score=0.241 total time=   1.3s\n",
            "[CV 1/5] END class_weight={0: 0.2, 1: 3}, criterion=entropy, max_depth=1, splitter=random;, score=0.228 total time=   1.3s\n",
            "[CV 2/5] END class_weight={0: 0.2, 1: 3}, criterion=entropy, max_depth=1, splitter=random;, score=0.148 total time=   1.2s\n",
            "[CV 3/5] END class_weight={0: 0.2, 1: 3}, criterion=entropy, max_depth=1, splitter=random;, score=0.203 total time=   1.2s\n",
            "[CV 4/5] END class_weight={0: 0.2, 1: 3}, criterion=entropy, max_depth=1, splitter=random;, score=0.169 total time=   1.2s\n",
            "[CV 5/5] END class_weight={0: 0.2, 1: 3}, criterion=entropy, max_depth=1, splitter=random;, score=0.218 total time=   1.2s\n",
            "[CV 1/5] END class_weight={0: 0.2, 1: 3}, criterion=entropy, max_depth=2, splitter=best;, score=0.311 total time=   1.5s\n",
            "[CV 2/5] END class_weight={0: 0.2, 1: 3}, criterion=entropy, max_depth=2, splitter=best;, score=0.317 total time=   1.5s\n",
            "[CV 3/5] END class_weight={0: 0.2, 1: 3}, criterion=entropy, max_depth=2, splitter=best;, score=0.374 total time=   1.5s\n",
            "[CV 4/5] END class_weight={0: 0.2, 1: 3}, criterion=entropy, max_depth=2, splitter=best;, score=0.224 total time=   1.5s\n",
            "[CV 5/5] END class_weight={0: 0.2, 1: 3}, criterion=entropy, max_depth=2, splitter=best;, score=0.290 total time=   1.6s\n",
            "[CV 1/5] END class_weight={0: 0.2, 1: 3}, criterion=entropy, max_depth=2, splitter=random;, score=0.234 total time=   1.4s\n",
            "[CV 2/5] END class_weight={0: 0.2, 1: 3}, criterion=entropy, max_depth=2, splitter=random;, score=0.222 total time=   1.3s\n",
            "[CV 3/5] END class_weight={0: 0.2, 1: 3}, criterion=entropy, max_depth=2, splitter=random;, score=0.256 total time=   1.3s\n",
            "[CV 4/5] END class_weight={0: 0.2, 1: 3}, criterion=entropy, max_depth=2, splitter=random;, score=0.159 total time=   1.4s\n",
            "[CV 5/5] END class_weight={0: 0.2, 1: 3}, criterion=entropy, max_depth=2, splitter=random;, score=0.225 total time=   1.4s\n",
            "[CV 1/5] END class_weight={0: 0.2, 1: 3}, criterion=entropy, max_depth=3, splitter=best;, score=0.318 total time=   1.8s\n",
            "[CV 2/5] END class_weight={0: 0.2, 1: 3}, criterion=entropy, max_depth=3, splitter=best;, score=0.338 total time=   1.8s\n",
            "[CV 3/5] END class_weight={0: 0.2, 1: 3}, criterion=entropy, max_depth=3, splitter=best;, score=0.376 total time=   1.8s\n",
            "[CV 4/5] END class_weight={0: 0.2, 1: 3}, criterion=entropy, max_depth=3, splitter=best;, score=0.244 total time=   1.8s\n",
            "[CV 5/5] END class_weight={0: 0.2, 1: 3}, criterion=entropy, max_depth=3, splitter=best;, score=0.290 total time=   1.8s\n",
            "[CV 1/5] END class_weight={0: 0.2, 1: 3}, criterion=entropy, max_depth=3, splitter=random;, score=0.353 total time=   1.6s\n",
            "[CV 2/5] END class_weight={0: 0.2, 1: 3}, criterion=entropy, max_depth=3, splitter=random;, score=0.228 total time=   1.5s\n",
            "[CV 3/5] END class_weight={0: 0.2, 1: 3}, criterion=entropy, max_depth=3, splitter=random;, score=0.353 total time=   1.5s\n",
            "[CV 4/5] END class_weight={0: 0.2, 1: 3}, criterion=entropy, max_depth=3, splitter=random;, score=0.264 total time=   1.5s\n",
            "[CV 5/5] END class_weight={0: 0.2, 1: 3}, criterion=entropy, max_depth=3, splitter=random;, score=0.244 total time=   1.6s\n",
            "[CV 1/5] END class_weight={0: 0.15, 1: 5}, criterion=gini, max_depth=1, splitter=best;, score=0.236 total time=   1.2s\n",
            "[CV 2/5] END class_weight={0: 0.15, 1: 5}, criterion=gini, max_depth=1, splitter=best;, score=0.185 total time=   1.2s\n",
            "[CV 3/5] END class_weight={0: 0.15, 1: 5}, criterion=gini, max_depth=1, splitter=best;, score=0.235 total time=   1.2s\n",
            "[CV 4/5] END class_weight={0: 0.15, 1: 5}, criterion=gini, max_depth=1, splitter=best;, score=0.172 total time=   1.2s\n",
            "[CV 5/5] END class_weight={0: 0.15, 1: 5}, criterion=gini, max_depth=1, splitter=best;, score=0.241 total time=   1.2s\n",
            "[CV 1/5] END class_weight={0: 0.15, 1: 5}, criterion=gini, max_depth=1, splitter=random;, score=0.179 total time=   1.1s\n",
            "[CV 2/5] END class_weight={0: 0.15, 1: 5}, criterion=gini, max_depth=1, splitter=random;, score=0.146 total time=   1.2s\n",
            "[CV 3/5] END class_weight={0: 0.15, 1: 5}, criterion=gini, max_depth=1, splitter=random;, score=0.171 total time=   1.1s\n",
            "[CV 4/5] END class_weight={0: 0.15, 1: 5}, criterion=gini, max_depth=1, splitter=random;, score=0.187 total time=   1.2s\n",
            "[CV 5/5] END class_weight={0: 0.15, 1: 5}, criterion=gini, max_depth=1, splitter=random;, score=0.241 total time=   1.2s\n",
            "[CV 1/5] END class_weight={0: 0.15, 1: 5}, criterion=gini, max_depth=2, splitter=best;, score=0.257 total time=   1.4s\n",
            "[CV 2/5] END class_weight={0: 0.15, 1: 5}, criterion=gini, max_depth=2, splitter=best;, score=0.249 total time=   1.4s\n",
            "[CV 3/5] END class_weight={0: 0.15, 1: 5}, criterion=gini, max_depth=2, splitter=best;, score=0.308 total time=   1.3s\n",
            "[CV 4/5] END class_weight={0: 0.15, 1: 5}, criterion=gini, max_depth=2, splitter=best;, score=0.224 total time=   1.4s\n",
            "[CV 5/5] END class_weight={0: 0.15, 1: 5}, criterion=gini, max_depth=2, splitter=best;, score=0.290 total time=   1.4s\n",
            "[CV 1/5] END class_weight={0: 0.15, 1: 5}, criterion=gini, max_depth=2, splitter=random;, score=0.239 total time=   1.3s\n",
            "[CV 2/5] END class_weight={0: 0.15, 1: 5}, criterion=gini, max_depth=2, splitter=random;, score=0.166 total time=   1.3s\n",
            "[CV 3/5] END class_weight={0: 0.15, 1: 5}, criterion=gini, max_depth=2, splitter=random;, score=0.197 total time=   1.2s\n",
            "[CV 4/5] END class_weight={0: 0.15, 1: 5}, criterion=gini, max_depth=2, splitter=random;, score=0.209 total time=   1.4s\n",
            "[CV 5/5] END class_weight={0: 0.15, 1: 5}, criterion=gini, max_depth=2, splitter=random;, score=0.187 total time=   1.3s\n",
            "[CV 1/5] END class_weight={0: 0.15, 1: 5}, criterion=gini, max_depth=3, splitter=best;, score=0.285 total time=   1.6s\n",
            "[CV 2/5] END class_weight={0: 0.15, 1: 5}, criterion=gini, max_depth=3, splitter=best;, score=0.274 total time=   1.6s\n",
            "[CV 3/5] END class_weight={0: 0.15, 1: 5}, criterion=gini, max_depth=3, splitter=best;, score=0.319 total time=   1.5s\n",
            "[CV 4/5] END class_weight={0: 0.15, 1: 5}, criterion=gini, max_depth=3, splitter=best;, score=0.243 total time=   1.6s\n",
            "[CV 5/5] END class_weight={0: 0.15, 1: 5}, criterion=gini, max_depth=3, splitter=best;, score=0.314 total time=   1.6s\n",
            "[CV 1/5] END class_weight={0: 0.15, 1: 5}, criterion=gini, max_depth=3, splitter=random;, score=0.302 total time=   1.4s\n",
            "[CV 2/5] END class_weight={0: 0.15, 1: 5}, criterion=gini, max_depth=3, splitter=random;, score=0.247 total time=   1.4s\n",
            "[CV 3/5] END class_weight={0: 0.15, 1: 5}, criterion=gini, max_depth=3, splitter=random;, score=0.316 total time=   1.4s\n",
            "[CV 4/5] END class_weight={0: 0.15, 1: 5}, criterion=gini, max_depth=3, splitter=random;, score=0.241 total time=   1.4s\n",
            "[CV 5/5] END class_weight={0: 0.15, 1: 5}, criterion=gini, max_depth=3, splitter=random;, score=0.263 total time=   1.5s\n",
            "[CV 1/5] END class_weight={0: 0.15, 1: 5}, criterion=entropy, max_depth=1, splitter=best;, score=0.236 total time=   1.3s\n",
            "[CV 2/5] END class_weight={0: 0.15, 1: 5}, criterion=entropy, max_depth=1, splitter=best;, score=0.185 total time=   1.3s\n",
            "[CV 3/5] END class_weight={0: 0.15, 1: 5}, criterion=entropy, max_depth=1, splitter=best;, score=0.241 total time=   1.2s\n",
            "[CV 4/5] END class_weight={0: 0.15, 1: 5}, criterion=entropy, max_depth=1, splitter=best;, score=0.180 total time=   1.3s\n",
            "[CV 5/5] END class_weight={0: 0.15, 1: 5}, criterion=entropy, max_depth=1, splitter=best;, score=0.241 total time=   1.3s\n",
            "[CV 1/5] END class_weight={0: 0.15, 1: 5}, criterion=entropy, max_depth=1, splitter=random;, score=0.179 total time=   1.2s\n",
            "[CV 2/5] END class_weight={0: 0.15, 1: 5}, criterion=entropy, max_depth=1, splitter=random;, score=0.119 total time=   1.2s\n",
            "[CV 3/5] END class_weight={0: 0.15, 1: 5}, criterion=entropy, max_depth=1, splitter=random;, score=0.119 total time=   1.1s\n",
            "[CV 4/5] END class_weight={0: 0.15, 1: 5}, criterion=entropy, max_depth=1, splitter=random;, score=0.147 total time=   1.2s\n",
            "[CV 5/5] END class_weight={0: 0.15, 1: 5}, criterion=entropy, max_depth=1, splitter=random;, score=0.151 total time=   1.2s\n",
            "[CV 1/5] END class_weight={0: 0.15, 1: 5}, criterion=entropy, max_depth=2, splitter=best;, score=0.257 total time=   1.5s\n",
            "[CV 2/5] END class_weight={0: 0.15, 1: 5}, criterion=entropy, max_depth=2, splitter=best;, score=0.185 total time=   1.5s\n",
            "[CV 3/5] END class_weight={0: 0.15, 1: 5}, criterion=entropy, max_depth=2, splitter=best;, score=0.274 total time=   1.5s\n",
            "[CV 4/5] END class_weight={0: 0.15, 1: 5}, criterion=entropy, max_depth=2, splitter=best;, score=0.224 total time=   1.5s\n",
            "[CV 5/5] END class_weight={0: 0.15, 1: 5}, criterion=entropy, max_depth=2, splitter=best;, score=0.290 total time=   1.6s\n",
            "[CV 1/5] END class_weight={0: 0.15, 1: 5}, criterion=entropy, max_depth=2, splitter=random;, score=0.259 total time=   1.4s\n",
            "[CV 2/5] END class_weight={0: 0.15, 1: 5}, criterion=entropy, max_depth=2, splitter=random;, score=0.239 total time=   1.3s\n",
            "[CV 3/5] END class_weight={0: 0.15, 1: 5}, criterion=entropy, max_depth=2, splitter=random;, score=0.288 total time=   1.3s\n",
            "[CV 4/5] END class_weight={0: 0.15, 1: 5}, criterion=entropy, max_depth=2, splitter=random;, score=0.177 total time=   1.4s\n",
            "[CV 5/5] END class_weight={0: 0.15, 1: 5}, criterion=entropy, max_depth=2, splitter=random;, score=0.211 total time=   1.4s\n",
            "[CV 1/5] END class_weight={0: 0.15, 1: 5}, criterion=entropy, max_depth=3, splitter=best;, score=0.285 total time=   1.8s\n",
            "[CV 2/5] END class_weight={0: 0.15, 1: 5}, criterion=entropy, max_depth=3, splitter=best;, score=0.338 total time=   1.7s\n",
            "[CV 3/5] END class_weight={0: 0.15, 1: 5}, criterion=entropy, max_depth=3, splitter=best;, score=0.296 total time=   1.7s\n",
            "[CV 4/5] END class_weight={0: 0.15, 1: 5}, criterion=entropy, max_depth=3, splitter=best;, score=0.244 total time=   1.8s\n",
            "[CV 5/5] END class_weight={0: 0.15, 1: 5}, criterion=entropy, max_depth=3, splitter=best;, score=0.314 total time=   1.9s\n",
            "[CV 1/5] END class_weight={0: 0.15, 1: 5}, criterion=entropy, max_depth=3, splitter=random;, score=0.205 total time=   1.5s\n",
            "[CV 2/5] END class_weight={0: 0.15, 1: 5}, criterion=entropy, max_depth=3, splitter=random;, score=0.181 total time=   1.6s\n",
            "[CV 3/5] END class_weight={0: 0.15, 1: 5}, criterion=entropy, max_depth=3, splitter=random;, score=0.197 total time=   1.5s\n",
            "[CV 4/5] END class_weight={0: 0.15, 1: 5}, criterion=entropy, max_depth=3, splitter=random;, score=0.184 total time=   1.5s\n",
            "[CV 5/5] END class_weight={0: 0.15, 1: 5}, criterion=entropy, max_depth=3, splitter=random;, score=0.233 total time=   1.6s\n"
          ]
        },
        {
          "data": {
            "text/plain": [
              "GridSearchCV(estimator=DecisionTreeClassifier(),\n",
              "             param_grid={'class_weight': [{0: 0.15, 1: 1}, {0: 0.3, 1: 1},\n",
              "                                          {0: 0.2, 1: 3}, {0: 0.15, 1: 5}],\n",
              "                         'criterion': ['gini', 'entropy'],\n",
              "                         'max_depth': [1, 2, 3],\n",
              "                         'splitter': ['best', 'random']},\n",
              "             scoring='f1_macro', verbose=3)"
            ]
          },
          "execution_count": 36,
          "metadata": {},
          "output_type": "execute_result"
        }
      ],
      "source": [
        "lrm_grid.fit(X_train_tfidf,y_train_tfidf)"
      ]
    },
    {
      "cell_type": "code",
      "execution_count": null,
      "metadata": {
        "colab": {
          "base_uri": "https://localhost:8080/"
        },
        "id": "LLP-MJw81NI5",
        "outputId": "9cb111b6-d422-4dbc-d293-9424272a2da7"
      },
      "outputs": [
        {
          "data": {
            "text/plain": [
              "{'class_weight': {0: 0.3, 1: 1},\n",
              " 'criterion': 'gini',\n",
              " 'max_depth': 3,\n",
              " 'splitter': 'random'}"
            ]
          },
          "execution_count": 37,
          "metadata": {},
          "output_type": "execute_result"
        }
      ],
      "source": [
        "lrm_grid.best_params_"
      ]
    },
    {
      "cell_type": "code",
      "execution_count": null,
      "metadata": {
        "colab": {
          "base_uri": "https://localhost:8080/",
          "height": 399
        },
        "id": "AYQD-ji2_4xB",
        "outputId": "38d46d53-14c2-4b44-e9a1-f962faf131d2"
      },
      "outputs": [
        {
          "name": "stdout",
          "output_type": "stream",
          "text": [
            "f1-score macro: 0.49038160817178994\n",
            "f1-score micro: 0.8322324966974901\n",
            "accuracy score: 0.8322324966974901\n",
            "recall score: 0.5102318240895467\n",
            "precision score: 0.5550206817857652\n",
            "ROCAUC score: 0.5102318240895467\n"
          ]
        },
        {
          "data": {
            "image/png": "[encoded data removed]",
            "text/plain": [
              "<Figure size 432x288 with 2 Axes>"
            ]
          },
          "metadata": {
            "needs_background": "light"
          },
          "output_type": "display_data"
        }
      ],
      "source": [
        "dt_tfidf = tree.DecisionTreeClassifier(class_weight={0:0.3, 1:1}, criterion='gini', max_depth=3, splitter='random')\n",
        "dt_tfidf.fit(X_train_tfidf, y_train_tfidf)\n",
        "predictions_dt_tfidf = dt_tfidf.predict(X_test_tfidf)\n",
        "print_evaluation(y_test_tfidf, predictions_dt_tfidf)"
      ]
    },
    {
      "cell_type": "code",
      "execution_count": null,
      "metadata": {
        "id": "5JewV0tN-OZl"
      },
      "outputs": [],
      "source": [
        "import pickle\n",
        "# save\n",
        "with open(\"DT_model.pkl\", \"wb\") as f:\n",
        "    pickle.dump(dt_tfidf, f)"
      ]
    },
    {
      "cell_type": "code",
      "execution_count": null,
      "metadata": {
        "colab": {
          "base_uri": "https://localhost:8080/"
        },
        "id": "AuGerwWW-OVw",
        "outputId": "ad08d414-f9ca-49c5-8c1b-411a485060b9"
      },
      "outputs": [
        {
          "name": "stdout",
          "output_type": "stream",
          "text": [
            "Downloading...\n",
            "From: https://drive.google.com/uc?id=1-CZuYh3pUp-NvQq7lRQJrvZrDY5msm0v\n",
            "To: /content/DT_model.pkl\n",
            "\r  0% 0.00/2.23k [00:00<?, ?B/s]\r100% 2.23k/2.23k [00:00<00:00, 2.58MB/s]\n"
          ]
        }
      ],
      "source": [
        "# link to saved nodel \n"
      ]
    },
    {
      "cell_type": "code",
      "execution_count": null,
      "metadata": {
        "id": "3IFZkCPN-OSx"
      },
      "outputs": [],
      "source": [
        "# load\n",
        "with open(\"DT_model.pkl\", \"rb\") as f:\n",
        "    dt_tfidf = pickle.load(f)"
      ]
    },
    {
      "cell_type": "markdown",
      "metadata": {
        "id": "Tp6ma-ynDBAj"
      },
      "source": [
        "## BoW"
      ]
    },
    {
      "cell_type": "code",
      "execution_count": null,
      "metadata": {
        "colab": {
          "base_uri": "https://localhost:8080/"
        },
        "id": "3SrNL45J1SpA",
        "outputId": "426bcd4d-1afa-4f2b-c036-98c7f0ed42d3"
      },
      "outputs": [
        {
          "name": "stdout",
          "output_type": "stream",
          "text": [
            "Fitting 5 folds for each of 48 candidates, totalling 240 fits\n",
            "[CV 1/5] END class_weight={0: 0.15, 1: 1}, criterion=gini, max_depth=1, splitter=best;, score=0.331 total time=   1.2s\n",
            "[CV 2/5] END class_weight={0: 0.15, 1: 1}, criterion=gini, max_depth=1, splitter=best;, score=0.337 total time=   1.2s\n",
            "[CV 3/5] END class_weight={0: 0.15, 1: 1}, criterion=gini, max_depth=1, splitter=best;, score=0.327 total time=   1.1s\n",
            "[CV 4/5] END class_weight={0: 0.15, 1: 1}, criterion=gini, max_depth=1, splitter=best;, score=0.329 total time=   1.2s\n",
            "[CV 5/5] END class_weight={0: 0.15, 1: 1}, criterion=gini, max_depth=1, splitter=best;, score=0.241 total time=   1.2s\n",
            "[CV 1/5] END class_weight={0: 0.15, 1: 1}, criterion=gini, max_depth=1, splitter=random;, score=0.552 total time=   1.2s\n",
            "[CV 2/5] END class_weight={0: 0.15, 1: 1}, criterion=gini, max_depth=1, splitter=random;, score=0.528 total time=   1.1s\n",
            "[CV 3/5] END class_weight={0: 0.15, 1: 1}, criterion=gini, max_depth=1, splitter=random;, score=0.197 total time=   1.1s\n",
            "[CV 4/5] END class_weight={0: 0.15, 1: 1}, criterion=gini, max_depth=1, splitter=random;, score=0.211 total time=   1.2s\n",
            "[CV 5/5] END class_weight={0: 0.15, 1: 1}, criterion=gini, max_depth=1, splitter=random;, score=0.162 total time=   1.2s\n",
            "[CV 1/5] END class_weight={0: 0.15, 1: 1}, criterion=gini, max_depth=2, splitter=best;, score=0.383 total time=   1.4s\n",
            "[CV 2/5] END class_weight={0: 0.15, 1: 1}, criterion=gini, max_depth=2, splitter=best;, score=0.373 total time=   1.3s\n",
            "[CV 3/5] END class_weight={0: 0.15, 1: 1}, criterion=gini, max_depth=2, splitter=best;, score=0.375 total time=   1.3s\n",
            "[CV 4/5] END class_weight={0: 0.15, 1: 1}, criterion=gini, max_depth=2, splitter=best;, score=0.396 total time=   1.3s\n",
            "[CV 5/5] END class_weight={0: 0.15, 1: 1}, criterion=gini, max_depth=2, splitter=best;, score=0.365 total time=   1.4s\n",
            "[CV 1/5] END class_weight={0: 0.15, 1: 1}, criterion=gini, max_depth=2, splitter=random;, score=0.550 total time=   1.3s\n",
            "[CV 2/5] END class_weight={0: 0.15, 1: 1}, criterion=gini, max_depth=2, splitter=random;, score=0.509 total time=   1.3s\n",
            "[CV 3/5] END class_weight={0: 0.15, 1: 1}, criterion=gini, max_depth=2, splitter=random;, score=0.547 total time=   1.3s\n",
            "[CV 4/5] END class_weight={0: 0.15, 1: 1}, criterion=gini, max_depth=2, splitter=random;, score=0.580 total time=   1.3s\n",
            "[CV 5/5] END class_weight={0: 0.15, 1: 1}, criterion=gini, max_depth=2, splitter=random;, score=0.158 total time=   1.4s\n",
            "[CV 1/5] END class_weight={0: 0.15, 1: 1}, criterion=gini, max_depth=3, splitter=best;, score=0.402 total time=   1.5s\n",
            "[CV 2/5] END class_weight={0: 0.15, 1: 1}, criterion=gini, max_depth=3, splitter=best;, score=0.372 total time=   1.5s\n",
            "[CV 3/5] END class_weight={0: 0.15, 1: 1}, criterion=gini, max_depth=3, splitter=best;, score=0.382 total time=   1.5s\n",
            "[CV 4/5] END class_weight={0: 0.15, 1: 1}, criterion=gini, max_depth=3, splitter=best;, score=0.390 total time=   1.5s\n",
            "[CV 5/5] END class_weight={0: 0.15, 1: 1}, criterion=gini, max_depth=3, splitter=best;, score=0.357 total time=   1.6s\n",
            "[CV 1/5] END class_weight={0: 0.15, 1: 1}, criterion=gini, max_depth=3, splitter=random;, score=0.506 total time=   1.5s\n",
            "[CV 2/5] END class_weight={0: 0.15, 1: 1}, criterion=gini, max_depth=3, splitter=random;, score=0.582 total time=   1.5s\n",
            "[CV 3/5] END class_weight={0: 0.15, 1: 1}, criterion=gini, max_depth=3, splitter=random;, score=0.280 total time=   1.4s\n",
            "[CV 4/5] END class_weight={0: 0.15, 1: 1}, criterion=gini, max_depth=3, splitter=random;, score=0.590 total time=   1.4s\n",
            "[CV 5/5] END class_weight={0: 0.15, 1: 1}, criterion=gini, max_depth=3, splitter=random;, score=0.542 total time=   1.5s\n",
            "[CV 1/5] END class_weight={0: 0.15, 1: 1}, criterion=entropy, max_depth=1, splitter=best;, score=0.237 total time=   1.2s\n",
            "[CV 2/5] END class_weight={0: 0.15, 1: 1}, criterion=entropy, max_depth=1, splitter=best;, score=0.337 total time=   1.2s\n",
            "[CV 3/5] END class_weight={0: 0.15, 1: 1}, criterion=entropy, max_depth=1, splitter=best;, score=0.327 total time=   1.2s\n",
            "[CV 4/5] END class_weight={0: 0.15, 1: 1}, criterion=entropy, max_depth=1, splitter=best;, score=0.249 total time=   1.2s\n",
            "[CV 5/5] END class_weight={0: 0.15, 1: 1}, criterion=entropy, max_depth=1, splitter=best;, score=0.241 total time=   1.2s\n",
            "[CV 1/5] END class_weight={0: 0.15, 1: 1}, criterion=entropy, max_depth=1, splitter=random;, score=0.179 total time=   1.2s\n",
            "[CV 2/5] END class_weight={0: 0.15, 1: 1}, criterion=entropy, max_depth=1, splitter=random;, score=0.485 total time=   1.2s\n",
            "[CV 3/5] END class_weight={0: 0.15, 1: 1}, criterion=entropy, max_depth=1, splitter=random;, score=0.201 total time=   1.2s\n",
            "[CV 4/5] END class_weight={0: 0.15, 1: 1}, criterion=entropy, max_depth=1, splitter=random;, score=0.176 total time=   1.2s\n",
            "[CV 5/5] END class_weight={0: 0.15, 1: 1}, criterion=entropy, max_depth=1, splitter=random;, score=0.193 total time=   1.3s\n",
            "[CV 1/5] END class_weight={0: 0.15, 1: 1}, criterion=entropy, max_depth=2, splitter=best;, score=0.312 total time=   1.4s\n",
            "[CV 2/5] END class_weight={0: 0.15, 1: 1}, criterion=entropy, max_depth=2, splitter=best;, score=0.373 total time=   1.4s\n",
            "[CV 3/5] END class_weight={0: 0.15, 1: 1}, criterion=entropy, max_depth=2, splitter=best;, score=0.375 total time=   1.3s\n",
            "[CV 4/5] END class_weight={0: 0.15, 1: 1}, criterion=entropy, max_depth=2, splitter=best;, score=0.391 total time=   1.4s\n",
            "[CV 5/5] END class_weight={0: 0.15, 1: 1}, criterion=entropy, max_depth=2, splitter=best;, score=0.360 total time=   1.4s\n",
            "[CV 1/5] END class_weight={0: 0.15, 1: 1}, criterion=entropy, max_depth=2, splitter=random;, score=0.522 total time=   1.4s\n",
            "[CV 2/5] END class_weight={0: 0.15, 1: 1}, criterion=entropy, max_depth=2, splitter=random;, score=0.543 total time=   1.4s\n",
            "[CV 3/5] END class_weight={0: 0.15, 1: 1}, criterion=entropy, max_depth=2, splitter=random;, score=0.201 total time=   1.3s\n",
            "[CV 4/5] END class_weight={0: 0.15, 1: 1}, criterion=entropy, max_depth=2, splitter=random;, score=0.139 total time=   1.3s\n",
            "[CV 5/5] END class_weight={0: 0.15, 1: 1}, criterion=entropy, max_depth=2, splitter=random;, score=0.229 total time=   1.4s\n",
            "[CV 1/5] END class_weight={0: 0.15, 1: 1}, criterion=entropy, max_depth=3, splitter=best;, score=0.308 total time=   1.7s\n",
            "[CV 2/5] END class_weight={0: 0.15, 1: 1}, criterion=entropy, max_depth=3, splitter=best;, score=0.379 total time=   1.7s\n",
            "[CV 3/5] END class_weight={0: 0.15, 1: 1}, criterion=entropy, max_depth=3, splitter=best;, score=0.386 total time=   1.6s\n",
            "[CV 4/5] END class_weight={0: 0.15, 1: 1}, criterion=entropy, max_depth=3, splitter=best;, score=0.377 total time=   1.6s\n",
            "[CV 5/5] END class_weight={0: 0.15, 1: 1}, criterion=entropy, max_depth=3, splitter=best;, score=0.357 total time=   1.6s\n",
            "[CV 1/5] END class_weight={0: 0.15, 1: 1}, criterion=entropy, max_depth=3, splitter=random;, score=0.509 total time=   1.5s\n",
            "[CV 2/5] END class_weight={0: 0.15, 1: 1}, criterion=entropy, max_depth=3, splitter=random;, score=0.225 total time=   1.5s\n",
            "[CV 3/5] END class_weight={0: 0.15, 1: 1}, criterion=entropy, max_depth=3, splitter=random;, score=0.246 total time=   1.5s\n",
            "[CV 4/5] END class_weight={0: 0.15, 1: 1}, criterion=entropy, max_depth=3, splitter=random;, score=0.329 total time=   1.6s\n",
            "[CV 5/5] END class_weight={0: 0.15, 1: 1}, criterion=entropy, max_depth=3, splitter=random;, score=0.226 total time=   1.6s\n",
            "[CV 1/5] END class_weight={0: 0.3, 1: 1}, criterion=gini, max_depth=1, splitter=best;, score=0.464 total time=   1.2s\n",
            "[CV 2/5] END class_weight={0: 0.3, 1: 1}, criterion=gini, max_depth=1, splitter=best;, score=0.464 total time=   1.2s\n",
            "[CV 3/5] END class_weight={0: 0.3, 1: 1}, criterion=gini, max_depth=1, splitter=best;, score=0.514 total time=   1.1s\n",
            "[CV 4/5] END class_weight={0: 0.3, 1: 1}, criterion=gini, max_depth=1, splitter=best;, score=0.464 total time=   1.2s\n",
            "[CV 5/5] END class_weight={0: 0.3, 1: 1}, criterion=gini, max_depth=1, splitter=best;, score=0.464 total time=   1.2s\n",
            "[CV 1/5] END class_weight={0: 0.3, 1: 1}, criterion=gini, max_depth=1, splitter=random;, score=0.477 total time=   1.1s\n",
            "[CV 2/5] END class_weight={0: 0.3, 1: 1}, criterion=gini, max_depth=1, splitter=random;, score=0.500 total time=   1.1s\n",
            "[CV 3/5] END class_weight={0: 0.3, 1: 1}, criterion=gini, max_depth=1, splitter=random;, score=0.514 total time=   1.1s\n",
            "[CV 4/5] END class_weight={0: 0.3, 1: 1}, criterion=gini, max_depth=1, splitter=random;, score=0.494 total time=   1.1s\n",
            "[CV 5/5] END class_weight={0: 0.3, 1: 1}, criterion=gini, max_depth=1, splitter=random;, score=0.464 total time=   1.2s\n",
            "[CV 1/5] END class_weight={0: 0.3, 1: 1}, criterion=gini, max_depth=2, splitter=best;, score=0.482 total time=   1.3s\n",
            "[CV 2/5] END class_weight={0: 0.3, 1: 1}, criterion=gini, max_depth=2, splitter=best;, score=0.514 total time=   1.3s\n",
            "[CV 3/5] END class_weight={0: 0.3, 1: 1}, criterion=gini, max_depth=2, splitter=best;, score=0.508 total time=   1.3s\n",
            "[CV 4/5] END class_weight={0: 0.3, 1: 1}, criterion=gini, max_depth=2, splitter=best;, score=0.464 total time=   1.3s\n",
            "[CV 5/5] END class_weight={0: 0.3, 1: 1}, criterion=gini, max_depth=2, splitter=best;, score=0.490 total time=   1.3s\n",
            "[CV 1/5] END class_weight={0: 0.3, 1: 1}, criterion=gini, max_depth=2, splitter=random;, score=0.516 total time=   1.3s\n",
            "[CV 2/5] END class_weight={0: 0.3, 1: 1}, criterion=gini, max_depth=2, splitter=random;, score=0.484 total time=   1.3s\n",
            "[CV 3/5] END class_weight={0: 0.3, 1: 1}, criterion=gini, max_depth=2, splitter=random;, score=0.530 total time=   1.2s\n",
            "[CV 4/5] END class_weight={0: 0.3, 1: 1}, criterion=gini, max_depth=2, splitter=random;, score=0.559 total time=   1.3s\n",
            "[CV 5/5] END class_weight={0: 0.3, 1: 1}, criterion=gini, max_depth=2, splitter=random;, score=0.550 total time=   1.3s\n",
            "[CV 1/5] END class_weight={0: 0.3, 1: 1}, criterion=gini, max_depth=3, splitter=best;, score=0.480 total time=   1.5s\n",
            "[CV 2/5] END class_weight={0: 0.3, 1: 1}, criterion=gini, max_depth=3, splitter=best;, score=0.522 total time=   1.5s\n",
            "[CV 3/5] END class_weight={0: 0.3, 1: 1}, criterion=gini, max_depth=3, splitter=best;, score=0.510 total time=   1.4s\n",
            "[CV 4/5] END class_weight={0: 0.3, 1: 1}, criterion=gini, max_depth=3, splitter=best;, score=0.508 total time=   1.5s\n",
            "[CV 5/5] END class_weight={0: 0.3, 1: 1}, criterion=gini, max_depth=3, splitter=best;, score=0.490 total time=   1.5s\n",
            "[CV 1/5] END class_weight={0: 0.3, 1: 1}, criterion=gini, max_depth=3, splitter=random;, score=0.510 total time=   1.4s\n",
            "[CV 2/5] END class_weight={0: 0.3, 1: 1}, criterion=gini, max_depth=3, splitter=random;, score=0.553 total time=   1.4s\n",
            "[CV 3/5] END class_weight={0: 0.3, 1: 1}, criterion=gini, max_depth=3, splitter=random;, score=0.545 total time=   1.4s\n",
            "[CV 4/5] END class_weight={0: 0.3, 1: 1}, criterion=gini, max_depth=3, splitter=random;, score=0.529 total time=   1.5s\n",
            "[CV 5/5] END class_weight={0: 0.3, 1: 1}, criterion=gini, max_depth=3, splitter=random;, score=0.555 total time=   1.5s\n",
            "[CV 1/5] END class_weight={0: 0.3, 1: 1}, criterion=entropy, max_depth=1, splitter=best;, score=0.464 total time=   1.2s\n",
            "[CV 2/5] END class_weight={0: 0.3, 1: 1}, criterion=entropy, max_depth=1, splitter=best;, score=0.464 total time=   1.2s\n",
            "[CV 3/5] END class_weight={0: 0.3, 1: 1}, criterion=entropy, max_depth=1, splitter=best;, score=0.464 total time=   1.2s\n",
            "[CV 4/5] END class_weight={0: 0.3, 1: 1}, criterion=entropy, max_depth=1, splitter=best;, score=0.464 total time=   1.2s\n",
            "[CV 5/5] END class_weight={0: 0.3, 1: 1}, criterion=entropy, max_depth=1, splitter=best;, score=0.464 total time=   1.3s\n",
            "[CV 1/5] END class_weight={0: 0.3, 1: 1}, criterion=entropy, max_depth=1, splitter=random;, score=0.464 total time=   1.2s\n",
            "[CV 2/5] END class_weight={0: 0.3, 1: 1}, criterion=entropy, max_depth=1, splitter=random;, score=0.507 total time=   1.2s\n",
            "[CV 3/5] END class_weight={0: 0.3, 1: 1}, criterion=entropy, max_depth=1, splitter=random;, score=0.514 total time=   1.1s\n",
            "[CV 4/5] END class_weight={0: 0.3, 1: 1}, criterion=entropy, max_depth=1, splitter=random;, score=0.464 total time=   1.2s\n",
            "[CV 5/5] END class_weight={0: 0.3, 1: 1}, criterion=entropy, max_depth=1, splitter=random;, score=0.464 total time=   1.2s\n",
            "[CV 1/5] END class_weight={0: 0.3, 1: 1}, criterion=entropy, max_depth=2, splitter=best;, score=0.462 total time=   1.4s\n",
            "[CV 2/5] END class_weight={0: 0.3, 1: 1}, criterion=entropy, max_depth=2, splitter=best;, score=0.476 total time=   1.4s\n",
            "[CV 3/5] END class_weight={0: 0.3, 1: 1}, criterion=entropy, max_depth=2, splitter=best;, score=0.464 total time=   1.3s\n",
            "[CV 4/5] END class_weight={0: 0.3, 1: 1}, criterion=entropy, max_depth=2, splitter=best;, score=0.464 total time=   1.4s\n",
            "[CV 5/5] END class_weight={0: 0.3, 1: 1}, criterion=entropy, max_depth=2, splitter=best;, score=0.464 total time=   1.4s\n",
            "[CV 1/5] END class_weight={0: 0.3, 1: 1}, criterion=entropy, max_depth=2, splitter=random;, score=0.534 total time=   1.3s\n",
            "[CV 2/5] END class_weight={0: 0.3, 1: 1}, criterion=entropy, max_depth=2, splitter=random;, score=0.520 total time=   1.4s\n",
            "[CV 3/5] END class_weight={0: 0.3, 1: 1}, criterion=entropy, max_depth=2, splitter=random;, score=0.516 total time=   1.3s\n",
            "[CV 4/5] END class_weight={0: 0.3, 1: 1}, criterion=entropy, max_depth=2, splitter=random;, score=0.464 total time=   1.4s\n",
            "[CV 5/5] END class_weight={0: 0.3, 1: 1}, criterion=entropy, max_depth=2, splitter=random;, score=0.508 total time=   1.4s\n",
            "[CV 1/5] END class_weight={0: 0.3, 1: 1}, criterion=entropy, max_depth=3, splitter=best;, score=0.482 total time=   1.6s\n",
            "[CV 2/5] END class_weight={0: 0.3, 1: 1}, criterion=entropy, max_depth=3, splitter=best;, score=0.512 total time=   1.6s\n",
            "[CV 3/5] END class_weight={0: 0.3, 1: 1}, criterion=entropy, max_depth=3, splitter=best;, score=0.508 total time=   1.6s\n",
            "[CV 4/5] END class_weight={0: 0.3, 1: 1}, criterion=entropy, max_depth=3, splitter=best;, score=0.505 total time=   1.7s\n",
            "[CV 5/5] END class_weight={0: 0.3, 1: 1}, criterion=entropy, max_depth=3, splitter=best;, score=0.486 total time=   1.7s\n",
            "[CV 1/5] END class_weight={0: 0.3, 1: 1}, criterion=entropy, max_depth=3, splitter=random;, score=0.506 total time=   1.5s\n",
            "[CV 2/5] END class_weight={0: 0.3, 1: 1}, criterion=entropy, max_depth=3, splitter=random;, score=0.522 total time=   1.5s\n",
            "[CV 3/5] END class_weight={0: 0.3, 1: 1}, criterion=entropy, max_depth=3, splitter=random;, score=0.531 total time=   1.5s\n",
            "[CV 4/5] END class_weight={0: 0.3, 1: 1}, criterion=entropy, max_depth=3, splitter=random;, score=0.464 total time=   1.5s\n",
            "[CV 5/5] END class_weight={0: 0.3, 1: 1}, criterion=entropy, max_depth=3, splitter=random;, score=0.569 total time=   1.5s\n",
            "[CV 1/5] END class_weight={0: 0.2, 1: 3}, criterion=gini, max_depth=1, splitter=best;, score=0.237 total time=   1.2s\n",
            "[CV 2/5] END class_weight={0: 0.2, 1: 3}, criterion=gini, max_depth=1, splitter=best;, score=0.337 total time=   1.1s\n",
            "[CV 3/5] END class_weight={0: 0.2, 1: 3}, criterion=gini, max_depth=1, splitter=best;, score=0.264 total time=   1.1s\n",
            "[CV 4/5] END class_weight={0: 0.2, 1: 3}, criterion=gini, max_depth=1, splitter=best;, score=0.249 total time=   1.2s\n",
            "[CV 5/5] END class_weight={0: 0.2, 1: 3}, criterion=gini, max_depth=1, splitter=best;, score=0.241 total time=   1.2s\n",
            "[CV 1/5] END class_weight={0: 0.2, 1: 3}, criterion=gini, max_depth=1, splitter=random;, score=0.175 total time=   1.1s\n",
            "[CV 2/5] END class_weight={0: 0.2, 1: 3}, criterion=gini, max_depth=1, splitter=random;, score=0.119 total time=   1.1s\n",
            "[CV 3/5] END class_weight={0: 0.2, 1: 3}, criterion=gini, max_depth=1, splitter=random;, score=0.201 total time=   1.1s\n",
            "[CV 4/5] END class_weight={0: 0.2, 1: 3}, criterion=gini, max_depth=1, splitter=random;, score=0.168 total time=   1.1s\n",
            "[CV 5/5] END class_weight={0: 0.2, 1: 3}, criterion=gini, max_depth=1, splitter=random;, score=0.193 total time=   1.2s\n",
            "[CV 1/5] END class_weight={0: 0.2, 1: 3}, criterion=gini, max_depth=2, splitter=best;, score=0.312 total time=   1.3s\n",
            "[CV 2/5] END class_weight={0: 0.2, 1: 3}, criterion=gini, max_depth=2, splitter=best;, score=0.373 total time=   1.3s\n",
            "[CV 3/5] END class_weight={0: 0.2, 1: 3}, criterion=gini, max_depth=2, splitter=best;, score=0.373 total time=   1.3s\n",
            "[CV 4/5] END class_weight={0: 0.2, 1: 3}, criterion=gini, max_depth=2, splitter=best;, score=0.391 total time=   1.3s\n",
            "[CV 5/5] END class_weight={0: 0.2, 1: 3}, criterion=gini, max_depth=2, splitter=best;, score=0.233 total time=   1.4s\n",
            "[CV 1/5] END class_weight={0: 0.2, 1: 3}, criterion=gini, max_depth=2, splitter=random;, score=0.223 total time=   1.3s\n",
            "[CV 2/5] END class_weight={0: 0.2, 1: 3}, criterion=gini, max_depth=2, splitter=random;, score=0.183 total time=   1.3s\n",
            "[CV 3/5] END class_weight={0: 0.2, 1: 3}, criterion=gini, max_depth=2, splitter=random;, score=0.183 total time=   1.3s\n",
            "[CV 4/5] END class_weight={0: 0.2, 1: 3}, criterion=gini, max_depth=2, splitter=random;, score=0.229 total time=   1.3s\n",
            "[CV 5/5] END class_weight={0: 0.2, 1: 3}, criterion=gini, max_depth=2, splitter=random;, score=0.142 total time=   1.3s\n",
            "[CV 1/5] END class_weight={0: 0.2, 1: 3}, criterion=gini, max_depth=3, splitter=best;, score=0.292 total time=   1.5s\n",
            "[CV 2/5] END class_weight={0: 0.2, 1: 3}, criterion=gini, max_depth=3, splitter=best;, score=0.373 total time=   1.5s\n",
            "[CV 3/5] END class_weight={0: 0.2, 1: 3}, criterion=gini, max_depth=3, splitter=best;, score=0.395 total time=   1.5s\n",
            "[CV 4/5] END class_weight={0: 0.2, 1: 3}, criterion=gini, max_depth=3, splitter=best;, score=0.377 total time=   1.5s\n",
            "[CV 5/5] END class_weight={0: 0.2, 1: 3}, criterion=gini, max_depth=3, splitter=best;, score=0.364 total time=   1.5s\n",
            "[CV 1/5] END class_weight={0: 0.2, 1: 3}, criterion=gini, max_depth=3, splitter=random;, score=0.293 total time=   1.5s\n",
            "[CV 2/5] END class_weight={0: 0.2, 1: 3}, criterion=gini, max_depth=3, splitter=random;, score=0.218 total time=   1.4s\n",
            "[CV 3/5] END class_weight={0: 0.2, 1: 3}, criterion=gini, max_depth=3, splitter=random;, score=0.225 total time=   1.5s\n",
            "[CV 4/5] END class_weight={0: 0.2, 1: 3}, criterion=gini, max_depth=3, splitter=random;, score=0.211 total time=   1.4s\n",
            "[CV 5/5] END class_weight={0: 0.2, 1: 3}, criterion=gini, max_depth=3, splitter=random;, score=0.225 total time=   1.4s\n",
            "[CV 1/5] END class_weight={0: 0.2, 1: 3}, criterion=entropy, max_depth=1, splitter=best;, score=0.237 total time=   1.2s\n",
            "[CV 2/5] END class_weight={0: 0.2, 1: 3}, criterion=entropy, max_depth=1, splitter=best;, score=0.337 total time=   1.2s\n",
            "[CV 3/5] END class_weight={0: 0.2, 1: 3}, criterion=entropy, max_depth=1, splitter=best;, score=0.264 total time=   1.2s\n",
            "[CV 4/5] END class_weight={0: 0.2, 1: 3}, criterion=entropy, max_depth=1, splitter=best;, score=0.249 total time=   1.2s\n",
            "[CV 5/5] END class_weight={0: 0.2, 1: 3}, criterion=entropy, max_depth=1, splitter=best;, score=0.241 total time=   1.2s\n",
            "[CV 1/5] END class_weight={0: 0.2, 1: 3}, criterion=entropy, max_depth=1, splitter=random;, score=0.175 total time=   1.2s\n",
            "[CV 2/5] END class_weight={0: 0.2, 1: 3}, criterion=entropy, max_depth=1, splitter=random;, score=0.185 total time=   1.2s\n",
            "[CV 3/5] END class_weight={0: 0.2, 1: 3}, criterion=entropy, max_depth=1, splitter=random;, score=0.119 total time=   1.1s\n",
            "[CV 4/5] END class_weight={0: 0.2, 1: 3}, criterion=entropy, max_depth=1, splitter=random;, score=0.156 total time=   1.2s\n",
            "[CV 5/5] END class_weight={0: 0.2, 1: 3}, criterion=entropy, max_depth=1, splitter=random;, score=0.230 total time=   1.2s\n",
            "[CV 1/5] END class_weight={0: 0.2, 1: 3}, criterion=entropy, max_depth=2, splitter=best;, score=0.311 total time=   1.4s\n",
            "[CV 2/5] END class_weight={0: 0.2, 1: 3}, criterion=entropy, max_depth=2, splitter=best;, score=0.373 total time=   1.4s\n",
            "[CV 3/5] END class_weight={0: 0.2, 1: 3}, criterion=entropy, max_depth=2, splitter=best;, score=0.373 total time=   1.3s\n",
            "[CV 4/5] END class_weight={0: 0.2, 1: 3}, criterion=entropy, max_depth=2, splitter=best;, score=0.391 total time=   1.4s\n",
            "[CV 5/5] END class_weight={0: 0.2, 1: 3}, criterion=entropy, max_depth=2, splitter=best;, score=0.233 total time=   1.4s\n",
            "[CV 1/5] END class_weight={0: 0.2, 1: 3}, criterion=entropy, max_depth=2, splitter=random;, score=0.221 total time=   1.4s\n",
            "[CV 2/5] END class_weight={0: 0.2, 1: 3}, criterion=entropy, max_depth=2, splitter=random;, score=0.200 total time=   1.4s\n",
            "[CV 3/5] END class_weight={0: 0.2, 1: 3}, criterion=entropy, max_depth=2, splitter=random;, score=0.182 total time=   1.3s\n",
            "[CV 4/5] END class_weight={0: 0.2, 1: 3}, criterion=entropy, max_depth=2, splitter=random;, score=0.174 total time=   1.4s\n",
            "[CV 5/5] END class_weight={0: 0.2, 1: 3}, criterion=entropy, max_depth=2, splitter=random;, score=0.187 total time=   1.4s\n",
            "[CV 1/5] END class_weight={0: 0.2, 1: 3}, criterion=entropy, max_depth=3, splitter=best;, score=0.292 total time=   1.6s\n",
            "[CV 2/5] END class_weight={0: 0.2, 1: 3}, criterion=entropy, max_depth=3, splitter=best;, score=0.352 total time=   1.6s\n",
            "[CV 3/5] END class_weight={0: 0.2, 1: 3}, criterion=entropy, max_depth=3, splitter=best;, score=0.374 total time=   1.5s\n",
            "[CV 4/5] END class_weight={0: 0.2, 1: 3}, criterion=entropy, max_depth=3, splitter=best;, score=0.377 total time=   1.6s\n",
            "[CV 5/5] END class_weight={0: 0.2, 1: 3}, criterion=entropy, max_depth=3, splitter=best;, score=0.364 total time=   1.7s\n",
            "[CV 1/5] END class_weight={0: 0.2, 1: 3}, criterion=entropy, max_depth=3, splitter=random;, score=0.192 total time=   1.6s\n",
            "[CV 2/5] END class_weight={0: 0.2, 1: 3}, criterion=entropy, max_depth=3, splitter=random;, score=0.266 total time=   1.5s\n",
            "[CV 3/5] END class_weight={0: 0.2, 1: 3}, criterion=entropy, max_depth=3, splitter=random;, score=0.208 total time=   1.5s\n",
            "[CV 4/5] END class_weight={0: 0.2, 1: 3}, criterion=entropy, max_depth=3, splitter=random;, score=0.191 total time=   1.5s\n",
            "[CV 5/5] END class_weight={0: 0.2, 1: 3}, criterion=entropy, max_depth=3, splitter=random;, score=0.283 total time=   1.6s\n",
            "[CV 1/5] END class_weight={0: 0.15, 1: 5}, criterion=gini, max_depth=1, splitter=best;, score=0.237 total time=   1.2s\n",
            "[CV 2/5] END class_weight={0: 0.15, 1: 5}, criterion=gini, max_depth=1, splitter=best;, score=0.179 total time=   1.2s\n",
            "[CV 3/5] END class_weight={0: 0.15, 1: 5}, criterion=gini, max_depth=1, splitter=best;, score=0.264 total time=   1.1s\n",
            "[CV 4/5] END class_weight={0: 0.15, 1: 5}, criterion=gini, max_depth=1, splitter=best;, score=0.118 total time=   1.2s\n",
            "[CV 5/5] END class_weight={0: 0.15, 1: 5}, criterion=gini, max_depth=1, splitter=best;, score=0.241 total time=   1.2s\n",
            "[CV 1/5] END class_weight={0: 0.15, 1: 5}, criterion=gini, max_depth=1, splitter=random;, score=0.175 total time=   1.1s\n",
            "[CV 2/5] END class_weight={0: 0.15, 1: 5}, criterion=gini, max_depth=1, splitter=random;, score=0.148 total time=   1.1s\n",
            "[CV 3/5] END class_weight={0: 0.15, 1: 5}, criterion=gini, max_depth=1, splitter=random;, score=0.148 total time=   1.1s\n",
            "[CV 4/5] END class_weight={0: 0.15, 1: 5}, criterion=gini, max_depth=1, splitter=random;, score=0.156 total time=   1.1s\n",
            "[CV 5/5] END class_weight={0: 0.15, 1: 5}, criterion=gini, max_depth=1, splitter=random;, score=0.149 total time=   1.2s\n",
            "[CV 1/5] END class_weight={0: 0.15, 1: 5}, criterion=gini, max_depth=2, splitter=best;, score=0.232 total time=   1.3s\n",
            "[CV 2/5] END class_weight={0: 0.15, 1: 5}, criterion=gini, max_depth=2, splitter=best;, score=0.247 total time=   1.3s\n",
            "[CV 3/5] END class_weight={0: 0.15, 1: 5}, criterion=gini, max_depth=2, splitter=best;, score=0.242 total time=   1.3s\n",
            "[CV 4/5] END class_weight={0: 0.15, 1: 5}, criterion=gini, max_depth=2, splitter=best;, score=0.261 total time=   1.3s\n",
            "[CV 5/5] END class_weight={0: 0.15, 1: 5}, criterion=gini, max_depth=2, splitter=best;, score=0.269 total time=   1.3s\n",
            "[CV 1/5] END class_weight={0: 0.15, 1: 5}, criterion=gini, max_depth=2, splitter=random;, score=0.202 total time=   1.3s\n",
            "[CV 2/5] END class_weight={0: 0.15, 1: 5}, criterion=gini, max_depth=2, splitter=random;, score=0.181 total time=   1.3s\n",
            "[CV 3/5] END class_weight={0: 0.15, 1: 5}, criterion=gini, max_depth=2, splitter=random;, score=0.160 total time=   1.3s\n",
            "[CV 4/5] END class_weight={0: 0.15, 1: 5}, criterion=gini, max_depth=2, splitter=random;, score=0.188 total time=   1.3s\n",
            "[CV 5/5] END class_weight={0: 0.15, 1: 5}, criterion=gini, max_depth=2, splitter=random;, score=0.206 total time=   1.3s\n",
            "[CV 1/5] END class_weight={0: 0.15, 1: 5}, criterion=gini, max_depth=3, splitter=best;, score=0.314 total time=   1.5s\n",
            "[CV 2/5] END class_weight={0: 0.15, 1: 5}, criterion=gini, max_depth=3, splitter=best;, score=0.259 total time=   1.4s\n",
            "[CV 3/5] END class_weight={0: 0.15, 1: 5}, criterion=gini, max_depth=3, splitter=best;, score=0.280 total time=   1.5s\n",
            "[CV 4/5] END class_weight={0: 0.15, 1: 5}, criterion=gini, max_depth=3, splitter=best;, score=0.264 total time=   1.5s\n",
            "[CV 5/5] END class_weight={0: 0.15, 1: 5}, criterion=gini, max_depth=3, splitter=best;, score=0.293 total time=   1.5s\n",
            "[CV 1/5] END class_weight={0: 0.15, 1: 5}, criterion=gini, max_depth=3, splitter=random;, score=0.223 total time=   1.4s\n",
            "[CV 2/5] END class_weight={0: 0.15, 1: 5}, criterion=gini, max_depth=3, splitter=random;, score=0.223 total time=   1.4s\n",
            "[CV 3/5] END class_weight={0: 0.15, 1: 5}, criterion=gini, max_depth=3, splitter=random;, score=0.225 total time=   1.4s\n",
            "[CV 4/5] END class_weight={0: 0.15, 1: 5}, criterion=gini, max_depth=3, splitter=random;, score=0.254 total time=   1.4s\n",
            "[CV 5/5] END class_weight={0: 0.15, 1: 5}, criterion=gini, max_depth=3, splitter=random;, score=0.206 total time=   1.5s\n",
            "[CV 1/5] END class_weight={0: 0.15, 1: 5}, criterion=entropy, max_depth=1, splitter=best;, score=0.237 total time=   1.2s\n",
            "[CV 2/5] END class_weight={0: 0.15, 1: 5}, criterion=entropy, max_depth=1, splitter=best;, score=0.119 total time=   1.2s\n",
            "[CV 3/5] END class_weight={0: 0.15, 1: 5}, criterion=entropy, max_depth=1, splitter=best;, score=0.264 total time=   1.1s\n",
            "[CV 4/5] END class_weight={0: 0.15, 1: 5}, criterion=entropy, max_depth=1, splitter=best;, score=0.118 total time=   1.2s\n",
            "[CV 5/5] END class_weight={0: 0.15, 1: 5}, criterion=entropy, max_depth=1, splitter=best;, score=0.241 total time=   1.2s\n",
            "[CV 1/5] END class_weight={0: 0.15, 1: 5}, criterion=entropy, max_depth=1, splitter=random;, score=0.179 total time=   1.2s\n",
            "[CV 2/5] END class_weight={0: 0.15, 1: 5}, criterion=entropy, max_depth=1, splitter=random;, score=0.132 total time=   1.2s\n",
            "[CV 3/5] END class_weight={0: 0.15, 1: 5}, criterion=entropy, max_depth=1, splitter=random;, score=0.162 total time=   1.1s\n",
            "[CV 4/5] END class_weight={0: 0.15, 1: 5}, criterion=entropy, max_depth=1, splitter=random;, score=0.147 total time=   1.2s\n",
            "[CV 5/5] END class_weight={0: 0.15, 1: 5}, criterion=entropy, max_depth=1, splitter=random;, score=0.193 total time=   1.2s\n",
            "[CV 1/5] END class_weight={0: 0.15, 1: 5}, criterion=entropy, max_depth=2, splitter=best;, score=0.231 total time=   1.4s\n",
            "[CV 2/5] END class_weight={0: 0.15, 1: 5}, criterion=entropy, max_depth=2, splitter=best;, score=0.323 total time=   1.4s\n",
            "[CV 3/5] END class_weight={0: 0.15, 1: 5}, criterion=entropy, max_depth=2, splitter=best;, score=0.171 total time=   1.3s\n",
            "[CV 4/5] END class_weight={0: 0.15, 1: 5}, criterion=entropy, max_depth=2, splitter=best;, score=0.241 total time=   1.4s\n",
            "[CV 5/5] END class_weight={0: 0.15, 1: 5}, criterion=entropy, max_depth=2, splitter=best;, score=0.233 total time=   1.4s\n",
            "[CV 1/5] END class_weight={0: 0.15, 1: 5}, criterion=entropy, max_depth=2, splitter=random;, score=0.192 total time=   1.3s\n",
            "[CV 2/5] END class_weight={0: 0.15, 1: 5}, criterion=entropy, max_depth=2, splitter=random;, score=0.229 total time=   1.4s\n",
            "[CV 3/5] END class_weight={0: 0.15, 1: 5}, criterion=entropy, max_depth=2, splitter=random;, score=0.119 total time=   1.3s\n",
            "[CV 4/5] END class_weight={0: 0.15, 1: 5}, criterion=entropy, max_depth=2, splitter=random;, score=0.249 total time=   1.4s\n",
            "[CV 5/5] END class_weight={0: 0.15, 1: 5}, criterion=entropy, max_depth=2, splitter=random;, score=0.193 total time=   1.4s\n",
            "[CV 1/5] END class_weight={0: 0.15, 1: 5}, criterion=entropy, max_depth=3, splitter=best;, score=0.292 total time=   1.6s\n",
            "[CV 2/5] END class_weight={0: 0.15, 1: 5}, criterion=entropy, max_depth=3, splitter=best;, score=0.348 total time=   1.6s\n",
            "[CV 3/5] END class_weight={0: 0.15, 1: 5}, criterion=entropy, max_depth=3, splitter=best;, score=0.272 total time=   1.6s\n",
            "[CV 4/5] END class_weight={0: 0.15, 1: 5}, criterion=entropy, max_depth=3, splitter=best;, score=0.258 total time=   1.7s\n",
            "[CV 5/5] END class_weight={0: 0.15, 1: 5}, criterion=entropy, max_depth=3, splitter=best;, score=0.246 total time=   1.6s\n",
            "[CV 1/5] END class_weight={0: 0.15, 1: 5}, criterion=entropy, max_depth=3, splitter=random;, score=0.228 total time=   1.5s\n",
            "[CV 2/5] END class_weight={0: 0.15, 1: 5}, criterion=entropy, max_depth=3, splitter=random;, score=0.237 total time=   1.5s\n",
            "[CV 3/5] END class_weight={0: 0.15, 1: 5}, criterion=entropy, max_depth=3, splitter=random;, score=0.230 total time=   1.5s\n",
            "[CV 4/5] END class_weight={0: 0.15, 1: 5}, criterion=entropy, max_depth=3, splitter=random;, score=0.271 total time=   3.0s\n",
            "[CV 5/5] END class_weight={0: 0.15, 1: 5}, criterion=entropy, max_depth=3, splitter=random;, score=0.202 total time=   2.8s\n"
          ]
        },
        {
          "data": {
            "text/plain": [
              "GridSearchCV(estimator=DecisionTreeClassifier(),\n",
              "             param_grid={'class_weight': [{0: 0.15, 1: 1}, {0: 0.3, 1: 1},\n",
              "                                          {0: 0.2, 1: 3}, {0: 0.15, 1: 5}],\n",
              "                         'criterion': ['gini', 'entropy'],\n",
              "                         'max_depth': [1, 2, 3],\n",
              "                         'splitter': ['best', 'random']},\n",
              "             scoring='f1_macro', verbose=3)"
            ]
          },
          "execution_count": 38,
          "metadata": {},
          "output_type": "execute_result"
        }
      ],
      "source": [
        "lrm_grid.fit(X_train_bow,y_train_bow)"
      ]
    },
    {
      "cell_type": "code",
      "execution_count": null,
      "metadata": {
        "colab": {
          "base_uri": "https://localhost:8080/"
        },
        "id": "-3gItkOY1Sih",
        "outputId": "ae5f21ec-c02a-4566-c4c1-08603131de88"
      },
      "outputs": [
        {
          "data": {
            "text/plain": [
              "{'class_weight': {0: 0.3, 1: 1},\n",
              " 'criterion': 'gini',\n",
              " 'max_depth': 3,\n",
              " 'splitter': 'random'}"
            ]
          },
          "execution_count": 39,
          "metadata": {},
          "output_type": "execute_result"
        }
      ],
      "source": [
        "lrm_grid.best_params_"
      ]
    },
    {
      "cell_type": "code",
      "execution_count": null,
      "metadata": {
        "colab": {
          "base_uri": "https://localhost:8080/",
          "height": 399
        },
        "id": "T0HFcCj4CpZT",
        "outputId": "408789ff-e76a-4d7e-a9a4-822bce487abe"
      },
      "outputs": [
        {
          "name": "stdout",
          "output_type": "stream",
          "text": [
            "f1-score macro: 0.5537654621829237\n",
            "f1-score micro: 0.8322324966974901\n",
            "accuracy score: 0.8322324966974901\n",
            "recall score: 0.5473975636766334\n",
            "precision score: 0.6026071321546299\n",
            "ROCAUC score: 0.5473975636766334\n"
          ]
        },
        {
          "data": {
            "image/png": "[encoded data removed]",
            "text/plain": [
              "<Figure size 432x288 with 2 Axes>"
            ]
          },
          "metadata": {
            "needs_background": "light"
          },
          "output_type": "display_data"
        }
      ],
      "source": [
        "dt_bow = tree.DecisionTreeClassifier(class_weight={0:0.3, 1:1}, criterion='gini', max_depth=3, splitter='random')\n",
        "dt_bow.fit(X_train_bow, y_train_bow)\n",
        "predictions_dt_bow = dt_bow.predict(X_test_bow)\n",
        "print_evaluation(y_test_bow, predictions_dt_bow)"
      ]
    },
    {
      "cell_type": "markdown",
      "metadata": {
        "id": "_pNi70e9_5OB"
      },
      "source": [
        "# RF"
      ]
    },
    {
      "cell_type": "code",
      "execution_count": null,
      "metadata": {
        "id": "08U5TwfF_Pff"
      },
      "outputs": [],
      "source": [
        "from sklearn.ensemble import RandomForestClassifier\n",
        "lrm_param_grid = {'criterion': ['gini', 'entropy'],\n",
        "                  'max_depth': [1,2,3],\n",
        "                  'class_weight':[{0:0.15, 1:1},{0:0.3, 1:1},{0:0.2, 1:3},{0:0.15, 1:5}]} \n",
        "lrm_grid = GridSearchCV(RandomForestClassifier(),\n",
        "                        lrm_param_grid,\n",
        "                        refit=True,\n",
        "                        verbose=3,\n",
        "                        scoring='f1_macro')"
      ]
    },
    {
      "cell_type": "markdown",
      "metadata": {
        "id": "i3Xry_oqLgRR"
      },
      "source": [
        "## tfidf\n"
      ]
    },
    {
      "cell_type": "code",
      "execution_count": null,
      "metadata": {
        "colab": {
          "base_uri": "https://localhost:8080/"
        },
        "id": "O3P5WEOpAEh0",
        "outputId": "e7058802-f92d-4b0f-c1ad-62d92ac44671"
      },
      "outputs": [
        {
          "name": "stdout",
          "output_type": "stream",
          "text": [
            "Fitting 5 folds for each of 24 candidates, totalling 120 fits\n",
            "[CV 1/5] END class_weight={0: 0.15, 1: 1}, criterion=gini, max_depth=1;, score=0.296 total time=   1.4s\n",
            "[CV 2/5] END class_weight={0: 0.15, 1: 1}, criterion=gini, max_depth=1;, score=0.323 total time=   0.9s\n",
            "[CV 3/5] END class_weight={0: 0.15, 1: 1}, criterion=gini, max_depth=1;, score=0.328 total time=   2.2s\n",
            "[CV 4/5] END class_weight={0: 0.15, 1: 1}, criterion=gini, max_depth=1;, score=0.241 total time=   1.7s\n",
            "[CV 5/5] END class_weight={0: 0.15, 1: 1}, criterion=gini, max_depth=1;, score=0.258 total time=   2.0s\n",
            "[CV 1/5] END class_weight={0: 0.15, 1: 1}, criterion=gini, max_depth=2;, score=0.475 total time=   2.3s\n",
            "[CV 2/5] END class_weight={0: 0.15, 1: 1}, criterion=gini, max_depth=2;, score=0.461 total time=   2.1s\n",
            "[CV 3/5] END class_weight={0: 0.15, 1: 1}, criterion=gini, max_depth=2;, score=0.435 total time=   1.4s\n",
            "[CV 4/5] END class_weight={0: 0.15, 1: 1}, criterion=gini, max_depth=2;, score=0.506 total time=   1.3s\n",
            "[CV 5/5] END class_weight={0: 0.15, 1: 1}, criterion=gini, max_depth=2;, score=0.470 total time=   1.4s\n",
            "[CV 1/5] END class_weight={0: 0.15, 1: 1}, criterion=gini, max_depth=3;, score=0.545 total time=   1.3s\n",
            "[CV 2/5] END class_weight={0: 0.15, 1: 1}, criterion=gini, max_depth=3;, score=0.532 total time=   1.4s\n",
            "[CV 3/5] END class_weight={0: 0.15, 1: 1}, criterion=gini, max_depth=3;, score=0.524 total time=   1.3s\n",
            "[CV 4/5] END class_weight={0: 0.15, 1: 1}, criterion=gini, max_depth=3;, score=0.531 total time=   1.2s\n",
            "[CV 5/5] END class_weight={0: 0.15, 1: 1}, criterion=gini, max_depth=3;, score=0.628 total time=   1.2s\n",
            "[CV 1/5] END class_weight={0: 0.15, 1: 1}, criterion=entropy, max_depth=1;, score=0.348 total time=   0.8s\n",
            "[CV 2/5] END class_weight={0: 0.15, 1: 1}, criterion=entropy, max_depth=1;, score=0.334 total time=   0.9s\n",
            "[CV 3/5] END class_weight={0: 0.15, 1: 1}, criterion=entropy, max_depth=1;, score=0.225 total time=   0.8s\n",
            "[CV 4/5] END class_weight={0: 0.15, 1: 1}, criterion=entropy, max_depth=1;, score=0.210 total time=   0.9s\n",
            "[CV 5/5] END class_weight={0: 0.15, 1: 1}, criterion=entropy, max_depth=1;, score=0.340 total time=   0.7s\n",
            "[CV 1/5] END class_weight={0: 0.15, 1: 1}, criterion=entropy, max_depth=2;, score=0.446 total time=   1.2s\n",
            "[CV 2/5] END class_weight={0: 0.15, 1: 1}, criterion=entropy, max_depth=2;, score=0.451 total time=   1.2s\n",
            "[CV 3/5] END class_weight={0: 0.15, 1: 1}, criterion=entropy, max_depth=2;, score=0.408 total time=   1.0s\n",
            "[CV 4/5] END class_weight={0: 0.15, 1: 1}, criterion=entropy, max_depth=2;, score=0.450 total time=   1.1s\n",
            "[CV 5/5] END class_weight={0: 0.15, 1: 1}, criterion=entropy, max_depth=2;, score=0.455 total time=   1.0s\n",
            "[CV 1/5] END class_weight={0: 0.15, 1: 1}, criterion=entropy, max_depth=3;, score=0.517 total time=   1.9s\n",
            "[CV 2/5] END class_weight={0: 0.15, 1: 1}, criterion=entropy, max_depth=3;, score=0.526 total time=   1.4s\n",
            "[CV 3/5] END class_weight={0: 0.15, 1: 1}, criterion=entropy, max_depth=3;, score=0.554 total time=   1.3s\n",
            "[CV 4/5] END class_weight={0: 0.15, 1: 1}, criterion=entropy, max_depth=3;, score=0.512 total time=   1.4s\n",
            "[CV 5/5] END class_weight={0: 0.15, 1: 1}, criterion=entropy, max_depth=3;, score=0.494 total time=   1.1s\n",
            "[CV 1/5] END class_weight={0: 0.3, 1: 1}, criterion=gini, max_depth=1;, score=0.464 total time=   0.8s\n",
            "[CV 2/5] END class_weight={0: 0.3, 1: 1}, criterion=gini, max_depth=1;, score=0.464 total time=   0.9s\n",
            "[CV 3/5] END class_weight={0: 0.3, 1: 1}, criterion=gini, max_depth=1;, score=0.464 total time=   0.9s\n",
            "[CV 4/5] END class_weight={0: 0.3, 1: 1}, criterion=gini, max_depth=1;, score=0.464 total time=   0.9s\n",
            "[CV 5/5] END class_weight={0: 0.3, 1: 1}, criterion=gini, max_depth=1;, score=0.464 total time=   0.9s\n",
            "[CV 1/5] END class_weight={0: 0.3, 1: 1}, criterion=gini, max_depth=2;, score=0.464 total time=   1.1s\n",
            "[CV 2/5] END class_weight={0: 0.3, 1: 1}, criterion=gini, max_depth=2;, score=0.464 total time=   0.7s\n",
            "[CV 3/5] END class_weight={0: 0.3, 1: 1}, criterion=gini, max_depth=2;, score=0.464 total time=   0.7s\n",
            "[CV 4/5] END class_weight={0: 0.3, 1: 1}, criterion=gini, max_depth=2;, score=0.464 total time=   0.8s\n",
            "[CV 5/5] END class_weight={0: 0.3, 1: 1}, criterion=gini, max_depth=2;, score=0.464 total time=   1.1s\n",
            "[CV 1/5] END class_weight={0: 0.3, 1: 1}, criterion=gini, max_depth=3;, score=0.464 total time=   1.2s\n",
            "[CV 2/5] END class_weight={0: 0.3, 1: 1}, criterion=gini, max_depth=3;, score=0.464 total time=   1.4s\n",
            "[CV 3/5] END class_weight={0: 0.3, 1: 1}, criterion=gini, max_depth=3;, score=0.464 total time=   1.4s\n",
            "[CV 4/5] END class_weight={0: 0.3, 1: 1}, criterion=gini, max_depth=3;, score=0.464 total time=   1.3s\n",
            "[CV 5/5] END class_weight={0: 0.3, 1: 1}, criterion=gini, max_depth=3;, score=0.464 total time=   0.8s\n",
            "[CV 1/5] END class_weight={0: 0.3, 1: 1}, criterion=entropy, max_depth=1;, score=0.464 total time=   0.6s\n",
            "[CV 2/5] END class_weight={0: 0.3, 1: 1}, criterion=entropy, max_depth=1;, score=0.464 total time=   0.6s\n",
            "[CV 3/5] END class_weight={0: 0.3, 1: 1}, criterion=entropy, max_depth=1;, score=0.464 total time=   0.6s\n",
            "[CV 4/5] END class_weight={0: 0.3, 1: 1}, criterion=entropy, max_depth=1;, score=0.464 total time=   0.6s\n",
            "[CV 5/5] END class_weight={0: 0.3, 1: 1}, criterion=entropy, max_depth=1;, score=0.464 total time=   0.6s\n",
            "[CV 1/5] END class_weight={0: 0.3, 1: 1}, criterion=entropy, max_depth=2;, score=0.464 total time=   0.7s\n",
            "[CV 2/5] END class_weight={0: 0.3, 1: 1}, criterion=entropy, max_depth=2;, score=0.464 total time=   0.7s\n",
            "[CV 3/5] END class_weight={0: 0.3, 1: 1}, criterion=entropy, max_depth=2;, score=0.464 total time=   0.8s\n",
            "[CV 4/5] END class_weight={0: 0.3, 1: 1}, criterion=entropy, max_depth=2;, score=0.464 total time=   0.8s\n",
            "[CV 5/5] END class_weight={0: 0.3, 1: 1}, criterion=entropy, max_depth=2;, score=0.464 total time=   0.7s\n",
            "[CV 1/5] END class_weight={0: 0.3, 1: 1}, criterion=entropy, max_depth=3;, score=0.464 total time=   0.9s\n",
            "[CV 2/5] END class_weight={0: 0.3, 1: 1}, criterion=entropy, max_depth=3;, score=0.464 total time=   0.8s\n",
            "[CV 3/5] END class_weight={0: 0.3, 1: 1}, criterion=entropy, max_depth=3;, score=0.464 total time=   0.9s\n",
            "[CV 4/5] END class_weight={0: 0.3, 1: 1}, criterion=entropy, max_depth=3;, score=0.464 total time=   0.9s\n",
            "[CV 5/5] END class_weight={0: 0.3, 1: 1}, criterion=entropy, max_depth=3;, score=0.464 total time=   1.3s\n",
            "[CV 1/5] END class_weight={0: 0.2, 1: 3}, criterion=gini, max_depth=1;, score=0.119 total time=   0.9s\n",
            "[CV 2/5] END class_weight={0: 0.2, 1: 3}, criterion=gini, max_depth=1;, score=0.119 total time=   0.7s\n",
            "[CV 3/5] END class_weight={0: 0.2, 1: 3}, criterion=gini, max_depth=1;, score=0.119 total time=   1.2s\n",
            "[CV 4/5] END class_weight={0: 0.2, 1: 3}, criterion=gini, max_depth=1;, score=0.118 total time=   0.6s\n",
            "[CV 5/5] END class_weight={0: 0.2, 1: 3}, criterion=gini, max_depth=1;, score=0.119 total time=   0.6s\n",
            "[CV 1/5] END class_weight={0: 0.2, 1: 3}, criterion=gini, max_depth=2;, score=0.119 total time=   1.1s\n",
            "[CV 2/5] END class_weight={0: 0.2, 1: 3}, criterion=gini, max_depth=2;, score=0.119 total time=   0.9s\n",
            "[CV 3/5] END class_weight={0: 0.2, 1: 3}, criterion=gini, max_depth=2;, score=0.119 total time=   1.4s\n",
            "[CV 4/5] END class_weight={0: 0.2, 1: 3}, criterion=gini, max_depth=2;, score=0.118 total time=   1.1s\n",
            "[CV 5/5] END class_weight={0: 0.2, 1: 3}, criterion=gini, max_depth=2;, score=0.119 total time=   1.1s\n",
            "[CV 1/5] END class_weight={0: 0.2, 1: 3}, criterion=gini, max_depth=3;, score=0.119 total time=   1.1s\n",
            "[CV 2/5] END class_weight={0: 0.2, 1: 3}, criterion=gini, max_depth=3;, score=0.119 total time=   0.8s\n",
            "[CV 3/5] END class_weight={0: 0.2, 1: 3}, criterion=gini, max_depth=3;, score=0.119 total time=   0.8s\n",
            "[CV 4/5] END class_weight={0: 0.2, 1: 3}, criterion=gini, max_depth=3;, score=0.118 total time=   0.9s\n",
            "[CV 5/5] END class_weight={0: 0.2, 1: 3}, criterion=gini, max_depth=3;, score=0.119 total time=   0.8s\n",
            "[CV 1/5] END class_weight={0: 0.2, 1: 3}, criterion=entropy, max_depth=1;, score=0.119 total time=   0.6s\n",
            "[CV 2/5] END class_weight={0: 0.2, 1: 3}, criterion=entropy, max_depth=1;, score=0.119 total time=   0.6s\n",
            "[CV 3/5] END class_weight={0: 0.2, 1: 3}, criterion=entropy, max_depth=1;, score=0.119 total time=   0.6s\n",
            "[CV 4/5] END class_weight={0: 0.2, 1: 3}, criterion=entropy, max_depth=1;, score=0.118 total time=   0.6s\n",
            "[CV 5/5] END class_weight={0: 0.2, 1: 3}, criterion=entropy, max_depth=1;, score=0.119 total time=   0.6s\n",
            "[CV 1/5] END class_weight={0: 0.2, 1: 3}, criterion=entropy, max_depth=2;, score=0.119 total time=   0.7s\n",
            "[CV 2/5] END class_weight={0: 0.2, 1: 3}, criterion=entropy, max_depth=2;, score=0.119 total time=   0.7s\n",
            "[CV 3/5] END class_weight={0: 0.2, 1: 3}, criterion=entropy, max_depth=2;, score=0.119 total time=   0.7s\n",
            "[CV 4/5] END class_weight={0: 0.2, 1: 3}, criterion=entropy, max_depth=2;, score=0.118 total time=   0.7s\n",
            "[CV 5/5] END class_weight={0: 0.2, 1: 3}, criterion=entropy, max_depth=2;, score=0.119 total time=   0.7s\n",
            "[CV 1/5] END class_weight={0: 0.2, 1: 3}, criterion=entropy, max_depth=3;, score=0.119 total time=   0.9s\n",
            "[CV 2/5] END class_weight={0: 0.2, 1: 3}, criterion=entropy, max_depth=3;, score=0.119 total time=   0.8s\n",
            "[CV 3/5] END class_weight={0: 0.2, 1: 3}, criterion=entropy, max_depth=3;, score=0.119 total time=   0.9s\n",
            "[CV 4/5] END class_weight={0: 0.2, 1: 3}, criterion=entropy, max_depth=3;, score=0.118 total time=   0.9s\n",
            "[CV 5/5] END class_weight={0: 0.2, 1: 3}, criterion=entropy, max_depth=3;, score=0.119 total time=   0.9s\n",
            "[CV 1/5] END class_weight={0: 0.15, 1: 5}, criterion=gini, max_depth=1;, score=0.119 total time=   0.6s\n",
            "[CV 2/5] END class_weight={0: 0.15, 1: 5}, criterion=gini, max_depth=1;, score=0.119 total time=   0.6s\n",
            "[CV 3/5] END class_weight={0: 0.15, 1: 5}, criterion=gini, max_depth=1;, score=0.119 total time=   0.6s\n",
            "[CV 4/5] END class_weight={0: 0.15, 1: 5}, criterion=gini, max_depth=1;, score=0.118 total time=   0.6s\n",
            "[CV 5/5] END class_weight={0: 0.15, 1: 5}, criterion=gini, max_depth=1;, score=0.119 total time=   0.6s\n",
            "[CV 1/5] END class_weight={0: 0.15, 1: 5}, criterion=gini, max_depth=2;, score=0.119 total time=   0.8s\n",
            "[CV 2/5] END class_weight={0: 0.15, 1: 5}, criterion=gini, max_depth=2;, score=0.119 total time=   0.7s\n",
            "[CV 3/5] END class_weight={0: 0.15, 1: 5}, criterion=gini, max_depth=2;, score=0.119 total time=   0.7s\n",
            "[CV 4/5] END class_weight={0: 0.15, 1: 5}, criterion=gini, max_depth=2;, score=0.118 total time=   0.7s\n",
            "[CV 5/5] END class_weight={0: 0.15, 1: 5}, criterion=gini, max_depth=2;, score=0.119 total time=   0.7s\n",
            "[CV 1/5] END class_weight={0: 0.15, 1: 5}, criterion=gini, max_depth=3;, score=0.119 total time=   0.9s\n",
            "[CV 2/5] END class_weight={0: 0.15, 1: 5}, criterion=gini, max_depth=3;, score=0.119 total time=   0.8s\n",
            "[CV 3/5] END class_weight={0: 0.15, 1: 5}, criterion=gini, max_depth=3;, score=0.119 total time=   0.9s\n",
            "[CV 4/5] END class_weight={0: 0.15, 1: 5}, criterion=gini, max_depth=3;, score=0.118 total time=   0.8s\n",
            "[CV 5/5] END class_weight={0: 0.15, 1: 5}, criterion=gini, max_depth=3;, score=0.119 total time=   0.8s\n",
            "[CV 1/5] END class_weight={0: 0.15, 1: 5}, criterion=entropy, max_depth=1;, score=0.119 total time=   0.6s\n",
            "[CV 2/5] END class_weight={0: 0.15, 1: 5}, criterion=entropy, max_depth=1;, score=0.119 total time=   0.6s\n",
            "[CV 3/5] END class_weight={0: 0.15, 1: 5}, criterion=entropy, max_depth=1;, score=0.119 total time=   0.6s\n",
            "[CV 4/5] END class_weight={0: 0.15, 1: 5}, criterion=entropy, max_depth=1;, score=0.118 total time=   0.6s\n",
            "[CV 5/5] END class_weight={0: 0.15, 1: 5}, criterion=entropy, max_depth=1;, score=0.119 total time=   0.6s\n",
            "[CV 1/5] END class_weight={0: 0.15, 1: 5}, criterion=entropy, max_depth=2;, score=0.119 total time=   0.7s\n",
            "[CV 2/5] END class_weight={0: 0.15, 1: 5}, criterion=entropy, max_depth=2;, score=0.119 total time=   0.7s\n",
            "[CV 3/5] END class_weight={0: 0.15, 1: 5}, criterion=entropy, max_depth=2;, score=0.119 total time=   0.7s\n",
            "[CV 4/5] END class_weight={0: 0.15, 1: 5}, criterion=entropy, max_depth=2;, score=0.118 total time=   0.7s\n",
            "[CV 5/5] END class_weight={0: 0.15, 1: 5}, criterion=entropy, max_depth=2;, score=0.119 total time=   0.7s\n",
            "[CV 1/5] END class_weight={0: 0.15, 1: 5}, criterion=entropy, max_depth=3;, score=0.119 total time=   0.9s\n",
            "[CV 2/5] END class_weight={0: 0.15, 1: 5}, criterion=entropy, max_depth=3;, score=0.119 total time=   0.8s\n",
            "[CV 3/5] END class_weight={0: 0.15, 1: 5}, criterion=entropy, max_depth=3;, score=0.119 total time=   0.9s\n",
            "[CV 4/5] END class_weight={0: 0.15, 1: 5}, criterion=entropy, max_depth=3;, score=0.118 total time=   0.9s\n",
            "[CV 5/5] END class_weight={0: 0.15, 1: 5}, criterion=entropy, max_depth=3;, score=0.119 total time=   0.9s\n"
          ]
        },
        {
          "data": {
            "text/plain": [
              "GridSearchCV(estimator=RandomForestClassifier(),\n",
              "             param_grid={'class_weight': [{0: 0.15, 1: 1}, {0: 0.3, 1: 1},\n",
              "                                          {0: 0.2, 1: 3}, {0: 0.15, 1: 5}],\n",
              "                         'criterion': ['gini', 'entropy'],\n",
              "                         'max_depth': [1, 2, 3]},\n",
              "             scoring='f1_macro', verbose=3)"
            ]
          },
          "execution_count": 41,
          "metadata": {},
          "output_type": "execute_result"
        }
      ],
      "source": [
        "lrm_grid.fit(X_train_tfidf,y_train_tfidf)"
      ]
    },
    {
      "cell_type": "code",
      "execution_count": null,
      "metadata": {
        "colab": {
          "base_uri": "https://localhost:8080/"
        },
        "id": "JWEP5kHRAEZ-",
        "outputId": "f070af8e-6c04-4f91-f441-838e6bebf33e"
      },
      "outputs": [
        {
          "data": {
            "text/plain": [
              "{'class_weight': {0: 0.15, 1: 1}, 'criterion': 'gini', 'max_depth': 3}"
            ]
          },
          "execution_count": 42,
          "metadata": {},
          "output_type": "execute_result"
        }
      ],
      "source": [
        "lrm_grid.best_params_"
      ]
    },
    {
      "cell_type": "code",
      "execution_count": null,
      "metadata": {
        "colab": {
          "base_uri": "https://localhost:8080/",
          "height": 399
        },
        "id": "UmnwSA0S_6xB",
        "outputId": "12a3e8b1-ff20-4bfb-9273-dbf2373ed934"
      },
      "outputs": [
        {
          "name": "stdout",
          "output_type": "stream",
          "text": [
            "f1-score macro: 0.5871784162824909\n",
            "f1-score micro: 0.7291941875825627\n",
            "accuracy score: 0.7291941875825627\n",
            "recall score: 0.6184849208243813\n",
            "precision score: 0.581522036682179\n",
            "ROCAUC score: 0.6184849208243814\n"
          ]
        },
        {
          "data": {
            "image/png": "[encoded data removed]",
            "text/plain": [
              "<Figure size 432x288 with 2 Axes>"
            ]
          },
          "metadata": {
            "needs_background": "light"
          },
          "output_type": "display_data"
        }
      ],
      "source": [
        "rf_tfidf = RandomForestClassifier(class_weight={0:0.15, 1:1}, criterion='gini', max_depth=3) #\n",
        "rf_tfidf.fit(X_train_tfidf, y_train_tfidf)\n",
        "predictions_rf_tfidf = rf_tfidf.predict(X_test_tfidf)\n",
        "print_evaluation(y_test_tfidf, predictions_rf_tfidf)"
      ]
    },
    {
      "cell_type": "code",
      "execution_count": null,
      "metadata": {
        "id": "06J5Nzja-XWZ"
      },
      "outputs": [],
      "source": [
        "import pickle\n",
        "# save\n",
        "with open(\"RF_model.pkl\", \"wb\") as f:\n",
        "    pickle.dump(rf_tfidf, f)"
      ]
    },
    {
      "cell_type": "code",
      "execution_count": null,
      "metadata": {
        "colab": {
          "base_uri": "https://localhost:8080/"
        },
        "id": "tRCwdsI1-bz0",
        "outputId": "27186682-0229-43b9-8c1e-db19842d21a7"
      },
      "outputs": [
        {
          "name": "stdout",
          "output_type": "stream",
          "text": [
            "Downloading...\n",
            "From: https://drive.google.com/uc?id=1-IZWsID3jaL3TTVZ7y_CEQxgC_v1cavH\n",
            "To: /content/RF_model.pkl\n",
            "\r  0% 0.00/124k [00:00<?, ?B/s]\r100% 124k/124k [00:00<00:00, 18.0MB/s]\n"
          ]
        }
      ],
      "source": [
        "# link to saved nodel \n"
      ]
    },
    {
      "cell_type": "code",
      "execution_count": null,
      "metadata": {
        "id": "ixaMKP7l-bxV"
      },
      "outputs": [],
      "source": [
        "# load\n",
        "with open(\"RF_model.pkl\", \"rb\") as f:\n",
        "    rf_tfidf = pickle.load(f)"
      ]
    },
    {
      "cell_type": "markdown",
      "metadata": {
        "id": "Wj9iSj4uLi3J"
      },
      "source": [
        "## bow"
      ]
    },
    {
      "cell_type": "code",
      "execution_count": null,
      "metadata": {
        "colab": {
          "base_uri": "https://localhost:8080/"
        },
        "id": "iDY5vC3WAE9a",
        "outputId": "185029a9-aa77-4761-d136-64c2ca57189b"
      },
      "outputs": [
        {
          "name": "stdout",
          "output_type": "stream",
          "text": [
            "Fitting 5 folds for each of 24 candidates, totalling 120 fits\n",
            "[CV 1/5] END class_weight={0: 0.15, 1: 1}, criterion=gini, max_depth=1;, score=0.247 total time=   0.6s\n",
            "[CV 2/5] END class_weight={0: 0.15, 1: 1}, criterion=gini, max_depth=1;, score=0.374 total time=   0.6s\n",
            "[CV 3/5] END class_weight={0: 0.15, 1: 1}, criterion=gini, max_depth=1;, score=0.241 total time=   0.6s\n",
            "[CV 4/5] END class_weight={0: 0.15, 1: 1}, criterion=gini, max_depth=1;, score=0.180 total time=   0.6s\n",
            "[CV 5/5] END class_weight={0: 0.15, 1: 1}, criterion=gini, max_depth=1;, score=0.331 total time=   0.6s\n",
            "[CV 1/5] END class_weight={0: 0.15, 1: 1}, criterion=gini, max_depth=2;, score=0.494 total time=   0.7s\n",
            "[CV 2/5] END class_weight={0: 0.15, 1: 1}, criterion=gini, max_depth=2;, score=0.416 total time=   0.7s\n",
            "[CV 3/5] END class_weight={0: 0.15, 1: 1}, criterion=gini, max_depth=2;, score=0.449 total time=   0.7s\n",
            "[CV 4/5] END class_weight={0: 0.15, 1: 1}, criterion=gini, max_depth=2;, score=0.514 total time=   0.7s\n",
            "[CV 5/5] END class_weight={0: 0.15, 1: 1}, criterion=gini, max_depth=2;, score=0.391 total time=   0.7s\n",
            "[CV 1/5] END class_weight={0: 0.15, 1: 1}, criterion=gini, max_depth=3;, score=0.551 total time=   0.9s\n",
            "[CV 2/5] END class_weight={0: 0.15, 1: 1}, criterion=gini, max_depth=3;, score=0.546 total time=   0.8s\n",
            "[CV 3/5] END class_weight={0: 0.15, 1: 1}, criterion=gini, max_depth=3;, score=0.552 total time=   0.9s\n",
            "[CV 4/5] END class_weight={0: 0.15, 1: 1}, criterion=gini, max_depth=3;, score=0.579 total time=   0.8s\n",
            "[CV 5/5] END class_weight={0: 0.15, 1: 1}, criterion=gini, max_depth=3;, score=0.535 total time=   0.8s\n",
            "[CV 1/5] END class_weight={0: 0.15, 1: 1}, criterion=entropy, max_depth=1;, score=0.158 total time=   0.6s\n",
            "[CV 2/5] END class_weight={0: 0.15, 1: 1}, criterion=entropy, max_depth=1;, score=0.237 total time=   0.6s\n",
            "[CV 3/5] END class_weight={0: 0.15, 1: 1}, criterion=entropy, max_depth=1;, score=0.225 total time=   0.6s\n",
            "[CV 4/5] END class_weight={0: 0.15, 1: 1}, criterion=entropy, max_depth=1;, score=0.170 total time=   0.6s\n",
            "[CV 5/5] END class_weight={0: 0.15, 1: 1}, criterion=entropy, max_depth=1;, score=0.209 total time=   0.6s\n",
            "[CV 1/5] END class_weight={0: 0.15, 1: 1}, criterion=entropy, max_depth=2;, score=0.531 total time=   0.7s\n",
            "[CV 2/5] END class_weight={0: 0.15, 1: 1}, criterion=entropy, max_depth=2;, score=0.365 total time=   0.7s\n",
            "[CV 3/5] END class_weight={0: 0.15, 1: 1}, criterion=entropy, max_depth=2;, score=0.428 total time=   0.7s\n",
            "[CV 4/5] END class_weight={0: 0.15, 1: 1}, criterion=entropy, max_depth=2;, score=0.400 total time=   0.7s\n",
            "[CV 5/5] END class_weight={0: 0.15, 1: 1}, criterion=entropy, max_depth=2;, score=0.359 total time=   0.7s\n",
            "[CV 1/5] END class_weight={0: 0.15, 1: 1}, criterion=entropy, max_depth=3;, score=0.586 total time=   0.9s\n",
            "[CV 2/5] END class_weight={0: 0.15, 1: 1}, criterion=entropy, max_depth=3;, score=0.564 total time=   0.8s\n",
            "[CV 3/5] END class_weight={0: 0.15, 1: 1}, criterion=entropy, max_depth=3;, score=0.578 total time=   0.8s\n",
            "[CV 4/5] END class_weight={0: 0.15, 1: 1}, criterion=entropy, max_depth=3;, score=0.510 total time=   0.9s\n",
            "[CV 5/5] END class_weight={0: 0.15, 1: 1}, criterion=entropy, max_depth=3;, score=0.480 total time=   1.4s\n",
            "[CV 1/5] END class_weight={0: 0.3, 1: 1}, criterion=gini, max_depth=1;, score=0.464 total time=   0.6s\n",
            "[CV 2/5] END class_weight={0: 0.3, 1: 1}, criterion=gini, max_depth=1;, score=0.464 total time=   0.6s\n",
            "[CV 3/5] END class_weight={0: 0.3, 1: 1}, criterion=gini, max_depth=1;, score=0.464 total time=   0.6s\n",
            "[CV 4/5] END class_weight={0: 0.3, 1: 1}, criterion=gini, max_depth=1;, score=0.464 total time=   0.6s\n",
            "[CV 5/5] END class_weight={0: 0.3, 1: 1}, criterion=gini, max_depth=1;, score=0.464 total time=   0.6s\n",
            "[CV 1/5] END class_weight={0: 0.3, 1: 1}, criterion=gini, max_depth=2;, score=0.464 total time=   0.7s\n",
            "[CV 2/5] END class_weight={0: 0.3, 1: 1}, criterion=gini, max_depth=2;, score=0.464 total time=   0.7s\n",
            "[CV 3/5] END class_weight={0: 0.3, 1: 1}, criterion=gini, max_depth=2;, score=0.464 total time=   0.7s\n",
            "[CV 4/5] END class_weight={0: 0.3, 1: 1}, criterion=gini, max_depth=2;, score=0.464 total time=   0.7s\n",
            "[CV 5/5] END class_weight={0: 0.3, 1: 1}, criterion=gini, max_depth=2;, score=0.464 total time=   0.7s\n",
            "[CV 1/5] END class_weight={0: 0.3, 1: 1}, criterion=gini, max_depth=3;, score=0.464 total time=   0.9s\n",
            "[CV 2/5] END class_weight={0: 0.3, 1: 1}, criterion=gini, max_depth=3;, score=0.464 total time=   0.8s\n",
            "[CV 3/5] END class_weight={0: 0.3, 1: 1}, criterion=gini, max_depth=3;, score=0.464 total time=   0.9s\n",
            "[CV 4/5] END class_weight={0: 0.3, 1: 1}, criterion=gini, max_depth=3;, score=0.464 total time=   0.8s\n",
            "[CV 5/5] END class_weight={0: 0.3, 1: 1}, criterion=gini, max_depth=3;, score=0.464 total time=   0.8s\n",
            "[CV 1/5] END class_weight={0: 0.3, 1: 1}, criterion=entropy, max_depth=1;, score=0.464 total time=   0.6s\n",
            "[CV 2/5] END class_weight={0: 0.3, 1: 1}, criterion=entropy, max_depth=1;, score=0.464 total time=   0.6s\n",
            "[CV 3/5] END class_weight={0: 0.3, 1: 1}, criterion=entropy, max_depth=1;, score=0.464 total time=   0.6s\n",
            "[CV 4/5] END class_weight={0: 0.3, 1: 1}, criterion=entropy, max_depth=1;, score=0.464 total time=   0.6s\n",
            "[CV 5/5] END class_weight={0: 0.3, 1: 1}, criterion=entropy, max_depth=1;, score=0.464 total time=   0.6s\n",
            "[CV 1/5] END class_weight={0: 0.3, 1: 1}, criterion=entropy, max_depth=2;, score=0.464 total time=   0.7s\n",
            "[CV 2/5] END class_weight={0: 0.3, 1: 1}, criterion=entropy, max_depth=2;, score=0.464 total time=   0.7s\n",
            "[CV 3/5] END class_weight={0: 0.3, 1: 1}, criterion=entropy, max_depth=2;, score=0.464 total time=   0.7s\n",
            "[CV 4/5] END class_weight={0: 0.3, 1: 1}, criterion=entropy, max_depth=2;, score=0.464 total time=   0.7s\n",
            "[CV 5/5] END class_weight={0: 0.3, 1: 1}, criterion=entropy, max_depth=2;, score=0.464 total time=   0.7s\n",
            "[CV 1/5] END class_weight={0: 0.3, 1: 1}, criterion=entropy, max_depth=3;, score=0.464 total time=   0.9s\n",
            "[CV 2/5] END class_weight={0: 0.3, 1: 1}, criterion=entropy, max_depth=3;, score=0.464 total time=   0.8s\n",
            "[CV 3/5] END class_weight={0: 0.3, 1: 1}, criterion=entropy, max_depth=3;, score=0.464 total time=   0.9s\n",
            "[CV 4/5] END class_weight={0: 0.3, 1: 1}, criterion=entropy, max_depth=3;, score=0.464 total time=   0.8s\n",
            "[CV 5/5] END class_weight={0: 0.3, 1: 1}, criterion=entropy, max_depth=3;, score=0.464 total time=   0.9s\n",
            "[CV 1/5] END class_weight={0: 0.2, 1: 3}, criterion=gini, max_depth=1;, score=0.119 total time=   0.6s\n",
            "[CV 2/5] END class_weight={0: 0.2, 1: 3}, criterion=gini, max_depth=1;, score=0.119 total time=   0.6s\n",
            "[CV 3/5] END class_weight={0: 0.2, 1: 3}, criterion=gini, max_depth=1;, score=0.119 total time=   0.6s\n",
            "[CV 4/5] END class_weight={0: 0.2, 1: 3}, criterion=gini, max_depth=1;, score=0.118 total time=   0.6s\n",
            "[CV 5/5] END class_weight={0: 0.2, 1: 3}, criterion=gini, max_depth=1;, score=0.119 total time=   0.6s\n",
            "[CV 1/5] END class_weight={0: 0.2, 1: 3}, criterion=gini, max_depth=2;, score=0.119 total time=   0.7s\n",
            "[CV 2/5] END class_weight={0: 0.2, 1: 3}, criterion=gini, max_depth=2;, score=0.119 total time=   0.7s\n",
            "[CV 3/5] END class_weight={0: 0.2, 1: 3}, criterion=gini, max_depth=2;, score=0.119 total time=   0.8s\n",
            "[CV 4/5] END class_weight={0: 0.2, 1: 3}, criterion=gini, max_depth=2;, score=0.118 total time=   0.7s\n",
            "[CV 5/5] END class_weight={0: 0.2, 1: 3}, criterion=gini, max_depth=2;, score=0.119 total time=   0.7s\n",
            "[CV 1/5] END class_weight={0: 0.2, 1: 3}, criterion=gini, max_depth=3;, score=0.119 total time=   0.9s\n",
            "[CV 2/5] END class_weight={0: 0.2, 1: 3}, criterion=gini, max_depth=3;, score=0.119 total time=   0.9s\n",
            "[CV 3/5] END class_weight={0: 0.2, 1: 3}, criterion=gini, max_depth=3;, score=0.119 total time=   0.9s\n",
            "[CV 4/5] END class_weight={0: 0.2, 1: 3}, criterion=gini, max_depth=3;, score=0.118 total time=   0.9s\n",
            "[CV 5/5] END class_weight={0: 0.2, 1: 3}, criterion=gini, max_depth=3;, score=0.119 total time=   0.8s\n",
            "[CV 1/5] END class_weight={0: 0.2, 1: 3}, criterion=entropy, max_depth=1;, score=0.119 total time=   0.6s\n",
            "[CV 2/5] END class_weight={0: 0.2, 1: 3}, criterion=entropy, max_depth=1;, score=0.119 total time=   0.6s\n",
            "[CV 3/5] END class_weight={0: 0.2, 1: 3}, criterion=entropy, max_depth=1;, score=0.119 total time=   0.6s\n",
            "[CV 4/5] END class_weight={0: 0.2, 1: 3}, criterion=entropy, max_depth=1;, score=0.118 total time=   0.6s\n",
            "[CV 5/5] END class_weight={0: 0.2, 1: 3}, criterion=entropy, max_depth=1;, score=0.119 total time=   0.6s\n",
            "[CV 1/5] END class_weight={0: 0.2, 1: 3}, criterion=entropy, max_depth=2;, score=0.119 total time=   0.7s\n",
            "[CV 2/5] END class_weight={0: 0.2, 1: 3}, criterion=entropy, max_depth=2;, score=0.119 total time=   0.7s\n",
            "[CV 3/5] END class_weight={0: 0.2, 1: 3}, criterion=entropy, max_depth=2;, score=0.119 total time=   0.7s\n",
            "[CV 4/5] END class_weight={0: 0.2, 1: 3}, criterion=entropy, max_depth=2;, score=0.118 total time=   0.7s\n",
            "[CV 5/5] END class_weight={0: 0.2, 1: 3}, criterion=entropy, max_depth=2;, score=0.119 total time=   0.7s\n",
            "[CV 1/5] END class_weight={0: 0.2, 1: 3}, criterion=entropy, max_depth=3;, score=0.119 total time=   0.9s\n",
            "[CV 2/5] END class_weight={0: 0.2, 1: 3}, criterion=entropy, max_depth=3;, score=0.119 total time=   0.8s\n",
            "[CV 3/5] END class_weight={0: 0.2, 1: 3}, criterion=entropy, max_depth=3;, score=0.119 total time=   0.9s\n",
            "[CV 4/5] END class_weight={0: 0.2, 1: 3}, criterion=entropy, max_depth=3;, score=0.118 total time=   0.8s\n",
            "[CV 5/5] END class_weight={0: 0.2, 1: 3}, criterion=entropy, max_depth=3;, score=0.119 total time=   0.8s\n",
            "[CV 1/5] END class_weight={0: 0.15, 1: 5}, criterion=gini, max_depth=1;, score=0.119 total time=   0.6s\n",
            "[CV 2/5] END class_weight={0: 0.15, 1: 5}, criterion=gini, max_depth=1;, score=0.119 total time=   0.6s\n",
            "[CV 3/5] END class_weight={0: 0.15, 1: 5}, criterion=gini, max_depth=1;, score=0.119 total time=   0.6s\n",
            "[CV 4/5] END class_weight={0: 0.15, 1: 5}, criterion=gini, max_depth=1;, score=0.118 total time=   0.6s\n",
            "[CV 5/5] END class_weight={0: 0.15, 1: 5}, criterion=gini, max_depth=1;, score=0.119 total time=   0.6s\n",
            "[CV 1/5] END class_weight={0: 0.15, 1: 5}, criterion=gini, max_depth=2;, score=0.119 total time=   0.7s\n",
            "[CV 2/5] END class_weight={0: 0.15, 1: 5}, criterion=gini, max_depth=2;, score=0.119 total time=   0.7s\n",
            "[CV 3/5] END class_weight={0: 0.15, 1: 5}, criterion=gini, max_depth=2;, score=0.119 total time=   0.8s\n",
            "[CV 4/5] END class_weight={0: 0.15, 1: 5}, criterion=gini, max_depth=2;, score=0.118 total time=   0.7s\n",
            "[CV 5/5] END class_weight={0: 0.15, 1: 5}, criterion=gini, max_depth=2;, score=0.119 total time=   0.7s\n",
            "[CV 1/5] END class_weight={0: 0.15, 1: 5}, criterion=gini, max_depth=3;, score=0.119 total time=   0.8s\n",
            "[CV 2/5] END class_weight={0: 0.15, 1: 5}, criterion=gini, max_depth=3;, score=0.119 total time=   0.8s\n",
            "[CV 3/5] END class_weight={0: 0.15, 1: 5}, criterion=gini, max_depth=3;, score=0.119 total time=   0.9s\n",
            "[CV 4/5] END class_weight={0: 0.15, 1: 5}, criterion=gini, max_depth=3;, score=0.118 total time=   0.9s\n",
            "[CV 5/5] END class_weight={0: 0.15, 1: 5}, criterion=gini, max_depth=3;, score=0.119 total time=   0.8s\n",
            "[CV 1/5] END class_weight={0: 0.15, 1: 5}, criterion=entropy, max_depth=1;, score=0.119 total time=   0.6s\n",
            "[CV 2/5] END class_weight={0: 0.15, 1: 5}, criterion=entropy, max_depth=1;, score=0.119 total time=   0.6s\n",
            "[CV 3/5] END class_weight={0: 0.15, 1: 5}, criterion=entropy, max_depth=1;, score=0.119 total time=   0.6s\n",
            "[CV 4/5] END class_weight={0: 0.15, 1: 5}, criterion=entropy, max_depth=1;, score=0.118 total time=   0.6s\n",
            "[CV 5/5] END class_weight={0: 0.15, 1: 5}, criterion=entropy, max_depth=1;, score=0.119 total time=   0.6s\n",
            "[CV 1/5] END class_weight={0: 0.15, 1: 5}, criterion=entropy, max_depth=2;, score=0.119 total time=   1.3s\n",
            "[CV 2/5] END class_weight={0: 0.15, 1: 5}, criterion=entropy, max_depth=2;, score=0.119 total time=   1.2s\n",
            "[CV 3/5] END class_weight={0: 0.15, 1: 5}, criterion=entropy, max_depth=2;, score=0.119 total time=   1.0s\n",
            "[CV 4/5] END class_weight={0: 0.15, 1: 5}, criterion=entropy, max_depth=2;, score=0.118 total time=   1.0s\n",
            "[CV 5/5] END class_weight={0: 0.15, 1: 5}, criterion=entropy, max_depth=2;, score=0.119 total time=   1.7s\n",
            "[CV 1/5] END class_weight={0: 0.15, 1: 5}, criterion=entropy, max_depth=3;, score=0.119 total time=   1.5s\n",
            "[CV 2/5] END class_weight={0: 0.15, 1: 5}, criterion=entropy, max_depth=3;, score=0.119 total time=   1.2s\n",
            "[CV 3/5] END class_weight={0: 0.15, 1: 5}, criterion=entropy, max_depth=3;, score=0.119 total time=   1.4s\n",
            "[CV 4/5] END class_weight={0: 0.15, 1: 5}, criterion=entropy, max_depth=3;, score=0.118 total time=   1.2s\n",
            "[CV 5/5] END class_weight={0: 0.15, 1: 5}, criterion=entropy, max_depth=3;, score=0.119 total time=   1.3s\n"
          ]
        },
        {
          "data": {
            "text/plain": [
              "GridSearchCV(estimator=RandomForestClassifier(),\n",
              "             param_grid={'class_weight': [{0: 0.15, 1: 1}, {0: 0.3, 1: 1},\n",
              "                                          {0: 0.2, 1: 3}, {0: 0.15, 1: 5}],\n",
              "                         'criterion': ['gini', 'entropy'],\n",
              "                         'max_depth': [1, 2, 3]},\n",
              "             scoring='f1_macro', verbose=3)"
            ]
          },
          "execution_count": 43,
          "metadata": {},
          "output_type": "execute_result"
        }
      ],
      "source": [
        "lrm_grid.fit(X_train_bow,y_train_bow)"
      ]
    },
    {
      "cell_type": "code",
      "execution_count": null,
      "metadata": {
        "colab": {
          "base_uri": "https://localhost:8080/"
        },
        "id": "81BUlTSGAE6c",
        "outputId": "57ee0498-f55e-48ba-d255-541c39feb2aa"
      },
      "outputs": [
        {
          "data": {
            "text/plain": [
              "{'class_weight': {0: 0.15, 1: 1}, 'criterion': 'gini', 'max_depth': 3}"
            ]
          },
          "execution_count": 44,
          "metadata": {},
          "output_type": "execute_result"
        }
      ],
      "source": [
        "lrm_grid.best_params_"
      ]
    },
    {
      "cell_type": "code",
      "execution_count": null,
      "metadata": {
        "colab": {
          "base_uri": "https://localhost:8080/",
          "height": 399
        },
        "id": "8GxAVYAgDLH0",
        "outputId": "b5018455-50e4-4f50-8756-09d6eb1c084c"
      },
      "outputs": [
        {
          "name": "stdout",
          "output_type": "stream",
          "text": [
            "f1-score macro: 0.5424323017408124\n",
            "f1-score micro: 0.6036988110964333\n",
            "accuracy score: 0.6036988110964333\n",
            "recall score: 0.6862818383167221\n",
            "precision score: 0.5940049737342126\n",
            "ROCAUC score: 0.6862818383167221\n"
          ]
        },
        {
          "data": {
            "image/png": "[encoded data removed]",
            "text/plain": [
              "<Figure size 432x288 with 2 Axes>"
            ]
          },
          "metadata": {
            "needs_background": "light"
          },
          "output_type": "display_data"
        }
      ],
      "source": [
        "rf_bow = RandomForestClassifier(class_weight={0:0.15, 1:1}, criterion='gini', max_depth=3)#\n",
        "rf_bow.fit(X_train_bow, y_train_bow)\n",
        "predictions_rf_bow = rf_bow.predict(X_test_bow)\n",
        "print_evaluation(y_test_bow, predictions_rf_bow)"
      ]
    },
    {
      "cell_type": "markdown",
      "metadata": {
        "id": "9OcRtlGfCGqY"
      },
      "source": [
        "# 3 work on data"
      ]
    },
    {
      "cell_type": "code",
      "execution_count": null,
      "metadata": {
        "colab": {
          "base_uri": "https://localhost:8080/",
          "height": 344
        },
        "id": "ZuW-_oAPEpwo",
        "outputId": "f5adeda7-adb9-449d-fabc-275b252544ef"
      },
      "outputs": [
        {
          "data": {
            "text/html": [
              "\n",
              "  <div id=\"df-c4e9a3f4-73e0-4fa4-af32-b3a7745980e1\">\n",
              "    <div class=\"colab-df-container\">\n",
              "      <div>\n",
              "<style scoped>\n",
              "    .dataframe tbody tr th:only-of-type {\n",
              "        vertical-align: middle;\n",
              "    }\n",
              "\n",
              "    .dataframe tbody tr th {\n",
              "        vertical-align: top;\n",
              "    }\n",
              "\n",
              "    .dataframe thead th {\n",
              "        text-align: right;\n",
              "    }\n",
              "</style>\n",
              "<table border=\"1\" class=\"dataframe\">\n",
              "  <thead>\n",
              "    <tr style=\"text-align: right;\">\n",
              "      <th></th>\n",
              "      <th>title</th>\n",
              "      <th>text</th>\n",
              "      <th>category</th>\n",
              "      <th>keywords</th>\n",
              "      <th>source_name</th>\n",
              "      <th>label</th>\n",
              "      <th>titletext</th>\n",
              "      <th>cattext</th>\n",
              "      <th>keytext</th>\n",
              "    </tr>\n",
              "  </thead>\n",
              "  <tbody>\n",
              "    <tr>\n",
              "      <th>0</th>\n",
              "      <td>روسیه از احتمال طولانی تر شدن این دور مذاکرات ...</td>\n",
              "      <td>گزارش مشرق میخائیل اولیانوف نماینده روسیه سازم...</td>\n",
              "      <td>سیاسی</td>\n",
              "      <td>میخائیل اولیانوف,توافق هسته ای,کمیسیون مشترک,ب...</td>\n",
              "      <td>مشرق نیوز</td>\n",
              "      <td>0</td>\n",
              "      <td>روسیه از احتمال طولانی تر شدن این دور مذاکرات ...</td>\n",
              "      <td>سیاسی گزارش مشرق میخائیل اولیانوف نماینده روسی...</td>\n",
              "      <td>میخائیل اولیانوف,توافق هسته ای,کمیسیون مشترک,ب...</td>\n",
              "    </tr>\n",
              "    <tr>\n",
              "      <th>1</th>\n",
              "      <td>میراث شاهِ شهید</td>\n",
              "      <td>محمدعلی بهمنی پژوهشگر تاریخ سرویس تاریخ انتخاب...</td>\n",
              "      <td>فرهنگ و هنر</td>\n",
              "      <td></td>\n",
              "      <td>انتخاب</td>\n",
              "      <td>0</td>\n",
              "      <td>میراث شاهِ شهید محمدعلی بهمنی پژوهشگر تاریخ سر...</td>\n",
              "      <td>فرهنگ و هنر محمدعلی بهمنی پژوهشگر تاریخ سرویس ...</td>\n",
              "      <td>محمدعلی بهمنی پژوهشگر تاریخ سرویس تاریخ انتخا...</td>\n",
              "    </tr>\n",
              "    <tr>\n",
              "      <th>2</th>\n",
              "      <td>صنعت نفت آبادان و مس رفسنجان به تساوی یک بر یک...</td>\n",
              "      <td>گزارش ایرنا دیدار شنبه شب ورزشگاه تختی آبادان ...</td>\n",
              "      <td>ورزشی</td>\n",
              "      <td>فوتبال,خوزستان,لیگ برتر فوتبال,</td>\n",
              "      <td>ایرنا</td>\n",
              "      <td>0</td>\n",
              "      <td>صنعت نفت آبادان و مس رفسنجان به تساوی یک بر یک...</td>\n",
              "      <td>ورزشی گزارش ایرنا دیدار شنبه شب ورزشگاه تختی آ...</td>\n",
              "      <td>فوتبال,خوزستان,لیگ برتر فوتبال, گزارش ایرنا دی...</td>\n",
              "    </tr>\n",
              "  </tbody>\n",
              "</table>\n",
              "</div>\n",
              "      <button class=\"colab-df-convert\" onclick=\"convertToInteractive('df-c4e9a3f4-73e0-4fa4-af32-b3a7745980e1')\"\n",
              "              title=\"Convert this dataframe to an interactive table.\"\n",
              "              style=\"display:none;\">\n",
              "        \n",
              "  <svg xmlns=\"http://www.w3.org/2000/svg\" height=\"24px\"viewBox=\"0 0 24 24\"\n",
              "       width=\"24px\">\n",
              "    <path d=\"M0 0h24v24H0V0z\" fill=\"none\"/>\n",
              "    <path d=\"M18.56 5.44l.94 2.06.94-2.06 2.06-.94-2.06-.94-.94-2.06-.94 2.06-2.06.94zm-11 1L8.5 8.5l.94-2.06 2.06-.94-2.06-.94L8.5 2.5l-.94 2.06-2.06.94zm10 10l.94 2.06.94-2.06 2.06-.94-2.06-.94-.94-2.06-.94 2.06-2.06.94z\"/><path d=\"M17.41 7.96l-1.37-1.37c-.4-.4-.92-.59-1.43-.59-.52 0-1.04.2-1.43.59L10.3 9.45l-7.72 7.72c-.78.78-.78 2.05 0 2.83L4 21.41c.39.39.9.59 1.41.59.51 0 1.02-.2 1.41-.59l7.78-7.78 2.81-2.81c.8-.78.8-2.07 0-2.86zM5.41 20L4 18.59l7.72-7.72 1.47 1.35L5.41 20z\"/>\n",
              "  </svg>\n",
              "      </button>\n",
              "      \n",
              "  <style>\n",
              "    .colab-df-container {\n",
              "      display:flex;\n",
              "      flex-wrap:wrap;\n",
              "      gap: 12px;\n",
              "    }\n",
              "\n",
              "    .colab-df-convert {\n",
              "      background-color: #E8F0FE;\n",
              "      border: none;\n",
              "      border-radius: 50%;\n",
              "      cursor: pointer;\n",
              "      display: none;\n",
              "      fill: #1967D2;\n",
              "      height: 32px;\n",
              "      padding: 0 0 0 0;\n",
              "      width: 32px;\n",
              "    }\n",
              "\n",
              "    .colab-df-convert:hover {\n",
              "      background-color: #E2EBFA;\n",
              "      box-shadow: 0px 1px 2px rgba(60, 64, 67, 0.3), 0px 1px 3px 1px rgba(60, 64, 67, 0.15);\n",
              "      fill: #174EA6;\n",
              "    }\n",
              "\n",
              "    [theme=dark] .colab-df-convert {\n",
              "      background-color: #3B4455;\n",
              "      fill: #D2E3FC;\n",
              "    }\n",
              "\n",
              "    [theme=dark] .colab-df-convert:hover {\n",
              "      background-color: #434B5C;\n",
              "      box-shadow: 0px 1px 3px 1px rgba(0, 0, 0, 0.15);\n",
              "      filter: drop-shadow(0px 1px 2px rgba(0, 0, 0, 0.3));\n",
              "      fill: #FFFFFF;\n",
              "    }\n",
              "  </style>\n",
              "\n",
              "      <script>\n",
              "        const buttonEl =\n",
              "          document.querySelector('#df-c4e9a3f4-73e0-4fa4-af32-b3a7745980e1 button.colab-df-convert');\n",
              "        buttonEl.style.display =\n",
              "          google.colab.kernel.accessAllowed ? 'block' : 'none';\n",
              "\n",
              "        async function convertToInteractive(key) {\n",
              "          const element = document.querySelector('#df-c4e9a3f4-73e0-4fa4-af32-b3a7745980e1');\n",
              "          const dataTable =\n",
              "            await google.colab.kernel.invokeFunction('convertToInteractive',\n",
              "                                                     [key], {});\n",
              "          if (!dataTable) return;\n",
              "\n",
              "          const docLinkHtml = 'Like what you see? Visit the ' +\n",
              "            '<a target=\"_blank\" href=https://colab.research.google.com/notebooks/data_table.ipynb>data table notebook</a>'\n",
              "            + ' to learn more about interactive tables.';\n",
              "          element.innerHTML = '';\n",
              "          dataTable['output_type'] = 'display_data';\n",
              "          await google.colab.output.renderOutput(dataTable, element);\n",
              "          const docLink = document.createElement('div');\n",
              "          docLink.innerHTML = docLinkHtml;\n",
              "          element.appendChild(docLink);\n",
              "        }\n",
              "      </script>\n",
              "    </div>\n",
              "  </div>\n",
              "  "
            ],
            "text/plain": [
              "                                               title  ...                                            keytext\n",
              "0  روسیه از احتمال طولانی تر شدن این دور مذاکرات ...  ...  میخائیل اولیانوف,توافق هسته ای,کمیسیون مشترک,ب...\n",
              "1                                    میراث شاهِ شهید  ...   محمدعلی بهمنی پژوهشگر تاریخ سرویس تاریخ انتخا...\n",
              "2  صنعت نفت آبادان و مس رفسنجان به تساوی یک بر یک...  ...  فوتبال,خوزستان,لیگ برتر فوتبال, گزارش ایرنا دی...\n",
              "\n",
              "[3 rows x 9 columns]"
            ]
          },
          "execution_count": 176,
          "metadata": {},
          "output_type": "execute_result"
        }
      ],
      "source": [
        "train = train.fillna('')\n",
        "train[\"titletext\"] = train['title'] +' '+ train[\"text\"]\n",
        "train[\"cattext\"] = train['category'] +' '+ train[\"text\"]\n",
        "train[\"keytext\"] = train['keywords'] +' '+ train[\"text\"]\n",
        "train.head(3)"
      ]
    },
    {
      "cell_type": "code",
      "execution_count": null,
      "metadata": {
        "colab": {
          "base_uri": "https://localhost:8080/",
          "height": 396
        },
        "id": "mW3H5dhvF8LN",
        "outputId": "73523014-1ee5-4d93-c334-38bced7f5275"
      },
      "outputs": [
        {
          "data": {
            "text/html": [
              "\n",
              "  <div id=\"df-c338ad7d-7341-4fc9-b1a4-e1505f6fb4fc\">\n",
              "    <div class=\"colab-df-container\">\n",
              "      <div>\n",
              "<style scoped>\n",
              "    .dataframe tbody tr th:only-of-type {\n",
              "        vertical-align: middle;\n",
              "    }\n",
              "\n",
              "    .dataframe tbody tr th {\n",
              "        vertical-align: top;\n",
              "    }\n",
              "\n",
              "    .dataframe thead th {\n",
              "        text-align: right;\n",
              "    }\n",
              "</style>\n",
              "<table border=\"1\" class=\"dataframe\">\n",
              "  <thead>\n",
              "    <tr style=\"text-align: right;\">\n",
              "      <th></th>\n",
              "      <th>title</th>\n",
              "      <th>text</th>\n",
              "      <th>category</th>\n",
              "      <th>keywords</th>\n",
              "      <th>source_name</th>\n",
              "      <th>label</th>\n",
              "      <th>titletext</th>\n",
              "      <th>cattext</th>\n",
              "      <th>keytext</th>\n",
              "    </tr>\n",
              "  </thead>\n",
              "  <tbody>\n",
              "    <tr>\n",
              "      <th>0</th>\n",
              "      <td>بازداشت خانگی یکی از رهبران جنبش النهضه تونس</td>\n",
              "      <td>گزارش گروه ترجمه خبرگزاری حوزه رسانه های تونسی...</td>\n",
              "      <td>بین الملل</td>\n",
              "      <td></td>\n",
              "      <td>حوزه</td>\n",
              "      <td>0</td>\n",
              "      <td>بازداشت خانگی یکی از رهبران جنبش النهضه تونس گ...</td>\n",
              "      <td>بین الملل گزارش گروه ترجمه خبرگزاری حوزه رسانه...</td>\n",
              "      <td>گزارش گروه ترجمه خبرگزاری حوزه رسانه های تونس...</td>\n",
              "    </tr>\n",
              "    <tr>\n",
              "      <th>1</th>\n",
              "      <td>سجادی: قیمت نان در گلستان نسبت به استان های هم...</td>\n",
              "      <td>سیدخالق سجادی امروز خبرنگار فارس گرگان اشاره پ...</td>\n",
              "      <td>اقتصادی</td>\n",
              "      <td>قیمت نان,استان گلستان,ارزانتر,مطالبات,پرداخت,گ...</td>\n",
              "      <td>خبرگزاری فارس</td>\n",
              "      <td>0</td>\n",
              "      <td>سجادی: قیمت نان در گلستان نسبت به استان های هم...</td>\n",
              "      <td>اقتصادی سیدخالق سجادی امروز خبرنگار فارس گرگان...</td>\n",
              "      <td>قیمت نان,استان گلستان,ارزانتر,مطالبات,پرداخت,گ...</td>\n",
              "    </tr>\n",
              "    <tr>\n",
              "      <th>2</th>\n",
              "      <td>۴ نفر در سانحه تصادف جنوب کرمان جان باختند</td>\n",
              "      <td>برخورد سواری پراید کامیون سرنشین پراید دم جان ...</td>\n",
              "      <td>حوادث</td>\n",
              "      <td>سانحه,تصادف,جنوب کرمان,</td>\n",
              "      <td>خبرگزاری تابناک</td>\n",
              "      <td>0</td>\n",
              "      <td>۴ نفر در سانحه تصادف جنوب کرمان جان باختند برخ...</td>\n",
              "      <td>حوادث برخورد سواری پراید کامیون سرنشین پراید د...</td>\n",
              "      <td>سانحه,تصادف,جنوب کرمان, برخورد سواری پراید کام...</td>\n",
              "    </tr>\n",
              "  </tbody>\n",
              "</table>\n",
              "</div>\n",
              "      <button class=\"colab-df-convert\" onclick=\"convertToInteractive('df-c338ad7d-7341-4fc9-b1a4-e1505f6fb4fc')\"\n",
              "              title=\"Convert this dataframe to an interactive table.\"\n",
              "              style=\"display:none;\">\n",
              "        \n",
              "  <svg xmlns=\"http://www.w3.org/2000/svg\" height=\"24px\"viewBox=\"0 0 24 24\"\n",
              "       width=\"24px\">\n",
              "    <path d=\"M0 0h24v24H0V0z\" fill=\"none\"/>\n",
              "    <path d=\"M18.56 5.44l.94 2.06.94-2.06 2.06-.94-2.06-.94-.94-2.06-.94 2.06-2.06.94zm-11 1L8.5 8.5l.94-2.06 2.06-.94-2.06-.94L8.5 2.5l-.94 2.06-2.06.94zm10 10l.94 2.06.94-2.06 2.06-.94-2.06-.94-.94-2.06-.94 2.06-2.06.94z\"/><path d=\"M17.41 7.96l-1.37-1.37c-.4-.4-.92-.59-1.43-.59-.52 0-1.04.2-1.43.59L10.3 9.45l-7.72 7.72c-.78.78-.78 2.05 0 2.83L4 21.41c.39.39.9.59 1.41.59.51 0 1.02-.2 1.41-.59l7.78-7.78 2.81-2.81c.8-.78.8-2.07 0-2.86zM5.41 20L4 18.59l7.72-7.72 1.47 1.35L5.41 20z\"/>\n",
              "  </svg>\n",
              "      </button>\n",
              "      \n",
              "  <style>\n",
              "    .colab-df-container {\n",
              "      display:flex;\n",
              "      flex-wrap:wrap;\n",
              "      gap: 12px;\n",
              "    }\n",
              "\n",
              "    .colab-df-convert {\n",
              "      background-color: #E8F0FE;\n",
              "      border: none;\n",
              "      border-radius: 50%;\n",
              "      cursor: pointer;\n",
              "      display: none;\n",
              "      fill: #1967D2;\n",
              "      height: 32px;\n",
              "      padding: 0 0 0 0;\n",
              "      width: 32px;\n",
              "    }\n",
              "\n",
              "    .colab-df-convert:hover {\n",
              "      background-color: #E2EBFA;\n",
              "      box-shadow: 0px 1px 2px rgba(60, 64, 67, 0.3), 0px 1px 3px 1px rgba(60, 64, 67, 0.15);\n",
              "      fill: #174EA6;\n",
              "    }\n",
              "\n",
              "    [theme=dark] .colab-df-convert {\n",
              "      background-color: #3B4455;\n",
              "      fill: #D2E3FC;\n",
              "    }\n",
              "\n",
              "    [theme=dark] .colab-df-convert:hover {\n",
              "      background-color: #434B5C;\n",
              "      box-shadow: 0px 1px 3px 1px rgba(0, 0, 0, 0.15);\n",
              "      filter: drop-shadow(0px 1px 2px rgba(0, 0, 0, 0.3));\n",
              "      fill: #FFFFFF;\n",
              "    }\n",
              "  </style>\n",
              "\n",
              "      <script>\n",
              "        const buttonEl =\n",
              "          document.querySelector('#df-c338ad7d-7341-4fc9-b1a4-e1505f6fb4fc button.colab-df-convert');\n",
              "        buttonEl.style.display =\n",
              "          google.colab.kernel.accessAllowed ? 'block' : 'none';\n",
              "\n",
              "        async function convertToInteractive(key) {\n",
              "          const element = document.querySelector('#df-c338ad7d-7341-4fc9-b1a4-e1505f6fb4fc');\n",
              "          const dataTable =\n",
              "            await google.colab.kernel.invokeFunction('convertToInteractive',\n",
              "                                                     [key], {});\n",
              "          if (!dataTable) return;\n",
              "\n",
              "          const docLinkHtml = 'Like what you see? Visit the ' +\n",
              "            '<a target=\"_blank\" href=https://colab.research.google.com/notebooks/data_table.ipynb>data table notebook</a>'\n",
              "            + ' to learn more about interactive tables.';\n",
              "          element.innerHTML = '';\n",
              "          dataTable['output_type'] = 'display_data';\n",
              "          await google.colab.output.renderOutput(dataTable, element);\n",
              "          const docLink = document.createElement('div');\n",
              "          docLink.innerHTML = docLinkHtml;\n",
              "          element.appendChild(docLink);\n",
              "        }\n",
              "      </script>\n",
              "    </div>\n",
              "  </div>\n",
              "  "
            ],
            "text/plain": [
              "                                               title  ...                                            keytext\n",
              "0       بازداشت خانگی یکی از رهبران جنبش النهضه تونس  ...   گزارش گروه ترجمه خبرگزاری حوزه رسانه های تونس...\n",
              "1  سجادی: قیمت نان در گلستان نسبت به استان های هم...  ...  قیمت نان,استان گلستان,ارزانتر,مطالبات,پرداخت,گ...\n",
              "2         ۴ نفر در سانحه تصادف جنوب کرمان جان باختند  ...  سانحه,تصادف,جنوب کرمان, برخورد سواری پراید کام...\n",
              "\n",
              "[3 rows x 9 columns]"
            ]
          },
          "execution_count": 177,
          "metadata": {},
          "output_type": "execute_result"
        }
      ],
      "source": [
        "test = test.fillna('')\n",
        "test[\"titletext\"] = test['title'] +' '+ test[\"text\"]\n",
        "test[\"cattext\"] = test['category'] +' '+ test[\"text\"]\n",
        "test[\"keytext\"] = test['keywords'] +' '+ test[\"text\"]\n",
        "test.head(3)"
      ]
    },
    {
      "cell_type": "code",
      "execution_count": null,
      "metadata": {
        "id": "n084Hm2LNPi5"
      },
      "outputs": [],
      "source": [
        "import pandas as pd\n",
        "def dist(category, lable):\n",
        "    d = {'category': ['بین الملل' ,'اقتصادی', 'حوادث', 'اجتماعی', 'مذهبی' ,'علمی و پزشکی', 'ورزشی',\n",
        "        'فرهنگ و هنر', 'فناوری و ارتباطات', 'سیاسی'], 'all': [0,0,0,0,0,0,0,0,0,0], 'important':[0,0,0,0,0,0,0,0,0,0]}\n",
        "    darsad = pd.DataFrame(data=d)\n",
        "    label = pd.Series(lable)\n",
        "    for i in range(len(category)):\n",
        "        if category[i] == 'بین الملل':\n",
        "            darsad['all'].iloc[0] += 1\n",
        "            if label[i] == 1:\n",
        "                darsad['important'].iloc[0] += 1\n",
        "        elif category[i] == 'اقتصادی':\n",
        "            darsad['all'].iloc[1] += 1\n",
        "            if label[i] == 1:\n",
        "                darsad['important'].iloc[1] += 1\n",
        "        elif category[i] == 'حوادث':\n",
        "            darsad['all'].iloc[2] += 1\n",
        "            if label[i] == 1:\n",
        "                darsad['important'].iloc[2] += 1\n",
        "        elif category[i] == 'اجتماعی':\n",
        "            darsad['all'].iloc[3] += 1\n",
        "            if label[i] == 1:\n",
        "                darsad['important'].iloc[3] += 1\n",
        "        elif category[i] == 'مذهبی':\n",
        "            darsad['all'].iloc[4] += 1\n",
        "            if label[i] == 1:\n",
        "                darsad['important'].iloc[4] += 1\n",
        "        elif category[i] == 'علمی و پزشکی':\n",
        "            darsad['all'].iloc[5] += 1\n",
        "            if label[i] == 1:\n",
        "                darsad['important'].iloc[5] += 1\n",
        "        elif category[i] == 'ورزشی':\n",
        "            darsad['all'].iloc[6] += 1\n",
        "            if label[i] == 1:\n",
        "                darsad['important'].iloc[6] += 1\n",
        "        elif category[i] == 'فرهنگ و هنر':\n",
        "            darsad['all'].iloc[7] += 1\n",
        "            if label[i] == 1:\n",
        "                darsad['important'].iloc[7] += 1\n",
        "        elif category[i] == 'فناوری و ارتباطات':\n",
        "            darsad['all'].iloc[8] += 1\n",
        "            if label[i] == 1:\n",
        "                darsad['important'].iloc[8] += 1\n",
        "        elif category[i] == 'سیاسی':\n",
        "            darsad['all'].iloc[9] += 1\n",
        "            if label[i] == 1:\n",
        "                darsad['important'].iloc[9] += 1\n",
        "    darsad['percentage'] = 100*(darsad['important']/ darsad['important'].sum())\n",
        "    return darsad"
      ]
    },
    {
      "cell_type": "code",
      "execution_count": null,
      "metadata": {
        "colab": {
          "base_uri": "https://localhost:8080/",
          "height": 470
        },
        "id": "JIy6oRgXXCtl",
        "outputId": "35a52c8b-b4f1-45a8-dd0a-50b1123a5fbf"
      },
      "outputs": [
        {
          "name": "stderr",
          "output_type": "stream",
          "text": [
            "/usr/local/lib/python3.7/dist-packages/pandas/core/indexing.py:1732: SettingWithCopyWarning: \n",
            "A value is trying to be set on a copy of a slice from a DataFrame\n",
            "\n",
            "See the caveats in the documentation: https://pandas.pydata.org/pandas-docs/stable/user_guide/indexing.html#returning-a-view-versus-a-copy\n",
            "  self._setitem_single_block(indexer, value, name)\n"
          ]
        },
        {
          "data": {
            "text/html": [
              "\n",
              "  <div id=\"df-121cb493-e73c-4213-81b8-54ffb0a3f7a0\">\n",
              "    <div class=\"colab-df-container\">\n",
              "      <div>\n",
              "<style scoped>\n",
              "    .dataframe tbody tr th:only-of-type {\n",
              "        vertical-align: middle;\n",
              "    }\n",
              "\n",
              "    .dataframe tbody tr th {\n",
              "        vertical-align: top;\n",
              "    }\n",
              "\n",
              "    .dataframe thead th {\n",
              "        text-align: right;\n",
              "    }\n",
              "</style>\n",
              "<table border=\"1\" class=\"dataframe\">\n",
              "  <thead>\n",
              "    <tr style=\"text-align: right;\">\n",
              "      <th></th>\n",
              "      <th>category</th>\n",
              "      <th>all</th>\n",
              "      <th>important</th>\n",
              "      <th>percentage</th>\n",
              "    </tr>\n",
              "  </thead>\n",
              "  <tbody>\n",
              "    <tr>\n",
              "      <th>0</th>\n",
              "      <td>بین الملل</td>\n",
              "      <td>100</td>\n",
              "      <td>14</td>\n",
              "      <td>12.500000</td>\n",
              "    </tr>\n",
              "    <tr>\n",
              "      <th>1</th>\n",
              "      <td>اقتصادی</td>\n",
              "      <td>88</td>\n",
              "      <td>22</td>\n",
              "      <td>19.642857</td>\n",
              "    </tr>\n",
              "    <tr>\n",
              "      <th>2</th>\n",
              "      <td>حوادث</td>\n",
              "      <td>58</td>\n",
              "      <td>8</td>\n",
              "      <td>7.142857</td>\n",
              "    </tr>\n",
              "    <tr>\n",
              "      <th>3</th>\n",
              "      <td>اجتماعی</td>\n",
              "      <td>52</td>\n",
              "      <td>5</td>\n",
              "      <td>4.464286</td>\n",
              "    </tr>\n",
              "    <tr>\n",
              "      <th>4</th>\n",
              "      <td>مذهبی</td>\n",
              "      <td>56</td>\n",
              "      <td>0</td>\n",
              "      <td>0.000000</td>\n",
              "    </tr>\n",
              "    <tr>\n",
              "      <th>5</th>\n",
              "      <td>علمی و پزشکی</td>\n",
              "      <td>67</td>\n",
              "      <td>23</td>\n",
              "      <td>20.535714</td>\n",
              "    </tr>\n",
              "    <tr>\n",
              "      <th>6</th>\n",
              "      <td>ورزشی</td>\n",
              "      <td>121</td>\n",
              "      <td>18</td>\n",
              "      <td>16.071429</td>\n",
              "    </tr>\n",
              "    <tr>\n",
              "      <th>7</th>\n",
              "      <td>فرهنگ و هنر</td>\n",
              "      <td>82</td>\n",
              "      <td>2</td>\n",
              "      <td>1.785714</td>\n",
              "    </tr>\n",
              "    <tr>\n",
              "      <th>8</th>\n",
              "      <td>فناوری و ارتباطات</td>\n",
              "      <td>52</td>\n",
              "      <td>8</td>\n",
              "      <td>7.142857</td>\n",
              "    </tr>\n",
              "    <tr>\n",
              "      <th>9</th>\n",
              "      <td>سیاسی</td>\n",
              "      <td>81</td>\n",
              "      <td>12</td>\n",
              "      <td>10.714286</td>\n",
              "    </tr>\n",
              "  </tbody>\n",
              "</table>\n",
              "</div>\n",
              "      <button class=\"colab-df-convert\" onclick=\"convertToInteractive('df-121cb493-e73c-4213-81b8-54ffb0a3f7a0')\"\n",
              "              title=\"Convert this dataframe to an interactive table.\"\n",
              "              style=\"display:none;\">\n",
              "        \n",
              "  <svg xmlns=\"http://www.w3.org/2000/svg\" height=\"24px\"viewBox=\"0 0 24 24\"\n",
              "       width=\"24px\">\n",
              "    <path d=\"M0 0h24v24H0V0z\" fill=\"none\"/>\n",
              "    <path d=\"M18.56 5.44l.94 2.06.94-2.06 2.06-.94-2.06-.94-.94-2.06-.94 2.06-2.06.94zm-11 1L8.5 8.5l.94-2.06 2.06-.94-2.06-.94L8.5 2.5l-.94 2.06-2.06.94zm10 10l.94 2.06.94-2.06 2.06-.94-2.06-.94-.94-2.06-.94 2.06-2.06.94z\"/><path d=\"M17.41 7.96l-1.37-1.37c-.4-.4-.92-.59-1.43-.59-.52 0-1.04.2-1.43.59L10.3 9.45l-7.72 7.72c-.78.78-.78 2.05 0 2.83L4 21.41c.39.39.9.59 1.41.59.51 0 1.02-.2 1.41-.59l7.78-7.78 2.81-2.81c.8-.78.8-2.07 0-2.86zM5.41 20L4 18.59l7.72-7.72 1.47 1.35L5.41 20z\"/>\n",
              "  </svg>\n",
              "      </button>\n",
              "      \n",
              "  <style>\n",
              "    .colab-df-container {\n",
              "      display:flex;\n",
              "      flex-wrap:wrap;\n",
              "      gap: 12px;\n",
              "    }\n",
              "\n",
              "    .colab-df-convert {\n",
              "      background-color: #E8F0FE;\n",
              "      border: none;\n",
              "      border-radius: 50%;\n",
              "      cursor: pointer;\n",
              "      display: none;\n",
              "      fill: #1967D2;\n",
              "      height: 32px;\n",
              "      padding: 0 0 0 0;\n",
              "      width: 32px;\n",
              "    }\n",
              "\n",
              "    .colab-df-convert:hover {\n",
              "      background-color: #E2EBFA;\n",
              "      box-shadow: 0px 1px 2px rgba(60, 64, 67, 0.3), 0px 1px 3px 1px rgba(60, 64, 67, 0.15);\n",
              "      fill: #174EA6;\n",
              "    }\n",
              "\n",
              "    [theme=dark] .colab-df-convert {\n",
              "      background-color: #3B4455;\n",
              "      fill: #D2E3FC;\n",
              "    }\n",
              "\n",
              "    [theme=dark] .colab-df-convert:hover {\n",
              "      background-color: #434B5C;\n",
              "      box-shadow: 0px 1px 3px 1px rgba(0, 0, 0, 0.15);\n",
              "      filter: drop-shadow(0px 1px 2px rgba(0, 0, 0, 0.3));\n",
              "      fill: #FFFFFF;\n",
              "    }\n",
              "  </style>\n",
              "\n",
              "      <script>\n",
              "        const buttonEl =\n",
              "          document.querySelector('#df-121cb493-e73c-4213-81b8-54ffb0a3f7a0 button.colab-df-convert');\n",
              "        buttonEl.style.display =\n",
              "          google.colab.kernel.accessAllowed ? 'block' : 'none';\n",
              "\n",
              "        async function convertToInteractive(key) {\n",
              "          const element = document.querySelector('#df-121cb493-e73c-4213-81b8-54ffb0a3f7a0');\n",
              "          const dataTable =\n",
              "            await google.colab.kernel.invokeFunction('convertToInteractive',\n",
              "                                                     [key], {});\n",
              "          if (!dataTable) return;\n",
              "\n",
              "          const docLinkHtml = 'Like what you see? Visit the ' +\n",
              "            '<a target=\"_blank\" href=https://colab.research.google.com/notebooks/data_table.ipynb>data table notebook</a>'\n",
              "            + ' to learn more about interactive tables.';\n",
              "          element.innerHTML = '';\n",
              "          dataTable['output_type'] = 'display_data';\n",
              "          await google.colab.output.renderOutput(dataTable, element);\n",
              "          const docLink = document.createElement('div');\n",
              "          docLink.innerHTML = docLinkHtml;\n",
              "          element.appendChild(docLink);\n",
              "        }\n",
              "      </script>\n",
              "    </div>\n",
              "  </div>\n",
              "  "
            ],
            "text/plain": [
              "            category  all  important  percentage\n",
              "0          بین الملل  100         14   12.500000\n",
              "1            اقتصادی   88         22   19.642857\n",
              "2              حوادث   58          8    7.142857\n",
              "3            اجتماعی   52          5    4.464286\n",
              "4              مذهبی   56          0    0.000000\n",
              "5       علمی و پزشکی   67         23   20.535714\n",
              "6              ورزشی  121         18   16.071429\n",
              "7        فرهنگ و هنر   82          2    1.785714\n",
              "8  فناوری و ارتباطات   52          8    7.142857\n",
              "9              سیاسی   81         12   10.714286"
            ]
          },
          "execution_count": 38,
          "metadata": {},
          "output_type": "execute_result"
        }
      ],
      "source": [
        "data = dist(test['category'],test['label'])\n",
        "data"
      ]
    },
    {
      "cell_type": "code",
      "execution_count": null,
      "metadata": {
        "id": "v7R4LSk3I6c0"
      },
      "outputs": [],
      "source": [
        "from sklearn.linear_model import LogisticRegression\n",
        "from sklearn import svm"
      ]
    },
    {
      "cell_type": "markdown",
      "metadata": {
        "id": "LTrnLl20D-CB"
      },
      "source": [
        "## text + title"
      ]
    },
    {
      "cell_type": "code",
      "execution_count": null,
      "metadata": {
        "id": "m9cHm6qbCKFH"
      },
      "outputs": [],
      "source": [
        "train_tfidf, tfidf_vectorizer = tfidf(train[\"titletext\"])\n",
        "test_tfidf = tfidf_vectorizer.transform(test[\"titletext\"])"
      ]
    },
    {
      "cell_type": "code",
      "execution_count": null,
      "metadata": {
        "id": "UqlUW6IvDbqM"
      },
      "outputs": [],
      "source": [
        "X_train_tfidf = train_tfidf\n",
        "y_train_tfidf = train[\"label\"].values\n",
        "\n",
        "X_test_tfidf = test_tfidf\n",
        "y_test_tfidf = test[\"label\"].values"
      ]
    },
    {
      "cell_type": "code",
      "execution_count": null,
      "metadata": {
        "colab": {
          "base_uri": "https://localhost:8080/",
          "height": 399
        },
        "id": "UTIjsUHfDlDV",
        "outputId": "de7cf0e4-61f3-4654-d882-da71721a668b"
      },
      "outputs": [
        {
          "name": "stdout",
          "output_type": "stream",
          "text": [
            "f1-score macro: 0.6308600318364236\n",
            "f1-score micro: 0.7701453104359313\n",
            "accuracy score: 0.7701453104359313\n",
            "recall score: 0.6662369376006112\n",
            "precision score: 0.6182346548679436\n",
            "ROCAUC score: 0.6662369376006112\n"
          ]
        },
        {
          "data": {
            "image/png": "[encoded data removed]",
            "text/plain": [
              "<Figure size 432x288 with 2 Axes>"
            ]
          },
          "metadata": {
            "needs_background": "light"
          },
          "output_type": "display_data"
        }
      ],
      "source": [
        "model_tfidf = LogisticRegression(C=1, class_weight={0: 0.15, 1: 1}, solver='newton-cg')\n",
        "model_tfidf.fit(X_train_tfidf, y_train_tfidf)\n",
        "y_pred_tfidf = model_tfidf.predict(X_test_tfidf)\n",
        "print_evaluation(y_test_tfidf, y_pred_tfidf)"
      ]
    },
    {
      "cell_type": "code",
      "execution_count": null,
      "metadata": {
        "colab": {
          "base_uri": "https://localhost:8080/",
          "height": 470
        },
        "id": "ZsiaW-J1Z51u",
        "outputId": "91660740-5362-4c9e-b15d-96efe6bc1ccf"
      },
      "outputs": [
        {
          "name": "stderr",
          "output_type": "stream",
          "text": [
            "/usr/local/lib/python3.7/dist-packages/pandas/core/indexing.py:1732: SettingWithCopyWarning: \n",
            "A value is trying to be set on a copy of a slice from a DataFrame\n",
            "\n",
            "See the caveats in the documentation: https://pandas.pydata.org/pandas-docs/stable/user_guide/indexing.html#returning-a-view-versus-a-copy\n",
            "  self._setitem_single_block(indexer, value, name)\n"
          ]
        },
        {
          "data": {
            "text/html": [
              "\n",
              "  <div id=\"df-03071e14-388d-43ee-840c-45ae08bf6796\">\n",
              "    <div class=\"colab-df-container\">\n",
              "      <div>\n",
              "<style scoped>\n",
              "    .dataframe tbody tr th:only-of-type {\n",
              "        vertical-align: middle;\n",
              "    }\n",
              "\n",
              "    .dataframe tbody tr th {\n",
              "        vertical-align: top;\n",
              "    }\n",
              "\n",
              "    .dataframe thead th {\n",
              "        text-align: right;\n",
              "    }\n",
              "</style>\n",
              "<table border=\"1\" class=\"dataframe\">\n",
              "  <thead>\n",
              "    <tr style=\"text-align: right;\">\n",
              "      <th></th>\n",
              "      <th>category</th>\n",
              "      <th>all</th>\n",
              "      <th>important</th>\n",
              "      <th>percentage</th>\n",
              "    </tr>\n",
              "  </thead>\n",
              "  <tbody>\n",
              "    <tr>\n",
              "      <th>0</th>\n",
              "      <td>بین الملل</td>\n",
              "      <td>117</td>\n",
              "      <td>38</td>\n",
              "      <td>21.348315</td>\n",
              "    </tr>\n",
              "    <tr>\n",
              "      <th>1</th>\n",
              "      <td>اقتصادی</td>\n",
              "      <td>81</td>\n",
              "      <td>38</td>\n",
              "      <td>21.348315</td>\n",
              "    </tr>\n",
              "    <tr>\n",
              "      <th>2</th>\n",
              "      <td>حوادث</td>\n",
              "      <td>51</td>\n",
              "      <td>0</td>\n",
              "      <td>0.000000</td>\n",
              "    </tr>\n",
              "    <tr>\n",
              "      <th>3</th>\n",
              "      <td>اجتماعی</td>\n",
              "      <td>68</td>\n",
              "      <td>11</td>\n",
              "      <td>6.179775</td>\n",
              "    </tr>\n",
              "    <tr>\n",
              "      <th>4</th>\n",
              "      <td>مذهبی</td>\n",
              "      <td>58</td>\n",
              "      <td>1</td>\n",
              "      <td>0.561798</td>\n",
              "    </tr>\n",
              "    <tr>\n",
              "      <th>5</th>\n",
              "      <td>علمی و پزشکی</td>\n",
              "      <td>68</td>\n",
              "      <td>35</td>\n",
              "      <td>19.662921</td>\n",
              "    </tr>\n",
              "    <tr>\n",
              "      <th>6</th>\n",
              "      <td>ورزشی</td>\n",
              "      <td>118</td>\n",
              "      <td>27</td>\n",
              "      <td>15.168539</td>\n",
              "    </tr>\n",
              "    <tr>\n",
              "      <th>7</th>\n",
              "      <td>فرهنگ و هنر</td>\n",
              "      <td>68</td>\n",
              "      <td>0</td>\n",
              "      <td>0.000000</td>\n",
              "    </tr>\n",
              "    <tr>\n",
              "      <th>8</th>\n",
              "      <td>فناوری و ارتباطات</td>\n",
              "      <td>54</td>\n",
              "      <td>11</td>\n",
              "      <td>6.179775</td>\n",
              "    </tr>\n",
              "    <tr>\n",
              "      <th>9</th>\n",
              "      <td>سیاسی</td>\n",
              "      <td>74</td>\n",
              "      <td>17</td>\n",
              "      <td>9.550562</td>\n",
              "    </tr>\n",
              "  </tbody>\n",
              "</table>\n",
              "</div>\n",
              "      <button class=\"colab-df-convert\" onclick=\"convertToInteractive('df-03071e14-388d-43ee-840c-45ae08bf6796')\"\n",
              "              title=\"Convert this dataframe to an interactive table.\"\n",
              "              style=\"display:none;\">\n",
              "        \n",
              "  <svg xmlns=\"http://www.w3.org/2000/svg\" height=\"24px\"viewBox=\"0 0 24 24\"\n",
              "       width=\"24px\">\n",
              "    <path d=\"M0 0h24v24H0V0z\" fill=\"none\"/>\n",
              "    <path d=\"M18.56 5.44l.94 2.06.94-2.06 2.06-.94-2.06-.94-.94-2.06-.94 2.06-2.06.94zm-11 1L8.5 8.5l.94-2.06 2.06-.94-2.06-.94L8.5 2.5l-.94 2.06-2.06.94zm10 10l.94 2.06.94-2.06 2.06-.94-2.06-.94-.94-2.06-.94 2.06-2.06.94z\"/><path d=\"M17.41 7.96l-1.37-1.37c-.4-.4-.92-.59-1.43-.59-.52 0-1.04.2-1.43.59L10.3 9.45l-7.72 7.72c-.78.78-.78 2.05 0 2.83L4 21.41c.39.39.9.59 1.41.59.51 0 1.02-.2 1.41-.59l7.78-7.78 2.81-2.81c.8-.78.8-2.07 0-2.86zM5.41 20L4 18.59l7.72-7.72 1.47 1.35L5.41 20z\"/>\n",
              "  </svg>\n",
              "      </button>\n",
              "      \n",
              "  <style>\n",
              "    .colab-df-container {\n",
              "      display:flex;\n",
              "      flex-wrap:wrap;\n",
              "      gap: 12px;\n",
              "    }\n",
              "\n",
              "    .colab-df-convert {\n",
              "      background-color: #E8F0FE;\n",
              "      border: none;\n",
              "      border-radius: 50%;\n",
              "      cursor: pointer;\n",
              "      display: none;\n",
              "      fill: #1967D2;\n",
              "      height: 32px;\n",
              "      padding: 0 0 0 0;\n",
              "      width: 32px;\n",
              "    }\n",
              "\n",
              "    .colab-df-convert:hover {\n",
              "      background-color: #E2EBFA;\n",
              "      box-shadow: 0px 1px 2px rgba(60, 64, 67, 0.3), 0px 1px 3px 1px rgba(60, 64, 67, 0.15);\n",
              "      fill: #174EA6;\n",
              "    }\n",
              "\n",
              "    [theme=dark] .colab-df-convert {\n",
              "      background-color: #3B4455;\n",
              "      fill: #D2E3FC;\n",
              "    }\n",
              "\n",
              "    [theme=dark] .colab-df-convert:hover {\n",
              "      background-color: #434B5C;\n",
              "      box-shadow: 0px 1px 3px 1px rgba(0, 0, 0, 0.15);\n",
              "      filter: drop-shadow(0px 1px 2px rgba(0, 0, 0, 0.3));\n",
              "      fill: #FFFFFF;\n",
              "    }\n",
              "  </style>\n",
              "\n",
              "      <script>\n",
              "        const buttonEl =\n",
              "          document.querySelector('#df-03071e14-388d-43ee-840c-45ae08bf6796 button.colab-df-convert');\n",
              "        buttonEl.style.display =\n",
              "          google.colab.kernel.accessAllowed ? 'block' : 'none';\n",
              "\n",
              "        async function convertToInteractive(key) {\n",
              "          const element = document.querySelector('#df-03071e14-388d-43ee-840c-45ae08bf6796');\n",
              "          const dataTable =\n",
              "            await google.colab.kernel.invokeFunction('convertToInteractive',\n",
              "                                                     [key], {});\n",
              "          if (!dataTable) return;\n",
              "\n",
              "          const docLinkHtml = 'Like what you see? Visit the ' +\n",
              "            '<a target=\"_blank\" href=https://colab.research.google.com/notebooks/data_table.ipynb>data table notebook</a>'\n",
              "            + ' to learn more about interactive tables.';\n",
              "          element.innerHTML = '';\n",
              "          dataTable['output_type'] = 'display_data';\n",
              "          await google.colab.output.renderOutput(dataTable, element);\n",
              "          const docLink = document.createElement('div');\n",
              "          docLink.innerHTML = docLinkHtml;\n",
              "          element.appendChild(docLink);\n",
              "        }\n",
              "      </script>\n",
              "    </div>\n",
              "  </div>\n",
              "  "
            ],
            "text/plain": [
              "            category  all  important  percentage\n",
              "0          بین الملل  117         38   21.348315\n",
              "1            اقتصادی   81         38   21.348315\n",
              "2              حوادث   51          0    0.000000\n",
              "3            اجتماعی   68         11    6.179775\n",
              "4              مذهبی   58          1    0.561798\n",
              "5       علمی و پزشکی   68         35   19.662921\n",
              "6              ورزشی  118         27   15.168539\n",
              "7        فرهنگ و هنر   68          0    0.000000\n",
              "8  فناوری و ارتباطات   54         11    6.179775\n",
              "9              سیاسی   74         17    9.550562"
            ]
          },
          "execution_count": 184,
          "metadata": {},
          "output_type": "execute_result"
        }
      ],
      "source": [
        "dist(test['category'],y_pred_tfidf)"
      ]
    },
    {
      "cell_type": "code",
      "execution_count": null,
      "metadata": {
        "colab": {
          "base_uri": "https://localhost:8080/",
          "height": 399
        },
        "id": "-_kEJaLCDzN1",
        "outputId": "d9c5a6b7-8169-48ad-84bb-c47bf2f0be29"
      },
      "outputs": [
        {
          "name": "stdout",
          "output_type": "stream",
          "text": [
            "f1-score macro: 0.6295672031317965\n",
            "f1-score micro: 0.76221928665786\n",
            "accuracy score: 0.76221928665786\n",
            "recall score: 0.6723963875474066\n",
            "precision score: 0.6173025155481295\n",
            "ROCAUC score: 0.6723963875474067\n"
          ]
        },
        {
          "data": {
            "image/png": "[encoded data removed]",
            "text/plain": [
              "<Figure size 432x288 with 2 Axes>"
            ]
          },
          "metadata": {
            "needs_background": "light"
          },
          "output_type": "display_data"
        }
      ],
      "source": [
        "svm_tfidf = svm.SVC(C=1, class_weight={0:0.2, 1:3}, degree=2, kernel='linear')\n",
        "svm_tfidf.fit(X_train_tfidf, y_train_tfidf)\n",
        "predictions_svm_tfidf = svm_tfidf.predict(X_test_tfidf)\n",
        "print_evaluation(y_test_tfidf, predictions_svm_tfidf)"
      ]
    },
    {
      "cell_type": "code",
      "execution_count": null,
      "metadata": {
        "colab": {
          "base_uri": "https://localhost:8080/",
          "height": 470
        },
        "id": "UtgYTMISaqS0",
        "outputId": "a0a33580-70f6-450b-9733-45adea214bc9"
      },
      "outputs": [
        {
          "name": "stderr",
          "output_type": "stream",
          "text": [
            "/usr/local/lib/python3.7/dist-packages/pandas/core/indexing.py:1732: SettingWithCopyWarning: \n",
            "A value is trying to be set on a copy of a slice from a DataFrame\n",
            "\n",
            "See the caveats in the documentation: https://pandas.pydata.org/pandas-docs/stable/user_guide/indexing.html#returning-a-view-versus-a-copy\n",
            "  self._setitem_single_block(indexer, value, name)\n"
          ]
        },
        {
          "data": {
            "text/html": [
              "\n",
              "  <div id=\"df-f400d611-b2a6-4c2f-81ff-4a9231a39888\">\n",
              "    <div class=\"colab-df-container\">\n",
              "      <div>\n",
              "<style scoped>\n",
              "    .dataframe tbody tr th:only-of-type {\n",
              "        vertical-align: middle;\n",
              "    }\n",
              "\n",
              "    .dataframe tbody tr th {\n",
              "        vertical-align: top;\n",
              "    }\n",
              "\n",
              "    .dataframe thead th {\n",
              "        text-align: right;\n",
              "    }\n",
              "</style>\n",
              "<table border=\"1\" class=\"dataframe\">\n",
              "  <thead>\n",
              "    <tr style=\"text-align: right;\">\n",
              "      <th></th>\n",
              "      <th>category</th>\n",
              "      <th>all</th>\n",
              "      <th>important</th>\n",
              "      <th>percentage</th>\n",
              "    </tr>\n",
              "  </thead>\n",
              "  <tbody>\n",
              "    <tr>\n",
              "      <th>0</th>\n",
              "      <td>بین الملل</td>\n",
              "      <td>117</td>\n",
              "      <td>37</td>\n",
              "      <td>19.473684</td>\n",
              "    </tr>\n",
              "    <tr>\n",
              "      <th>1</th>\n",
              "      <td>اقتصادی</td>\n",
              "      <td>81</td>\n",
              "      <td>36</td>\n",
              "      <td>18.947368</td>\n",
              "    </tr>\n",
              "    <tr>\n",
              "      <th>2</th>\n",
              "      <td>حوادث</td>\n",
              "      <td>51</td>\n",
              "      <td>3</td>\n",
              "      <td>1.578947</td>\n",
              "    </tr>\n",
              "    <tr>\n",
              "      <th>3</th>\n",
              "      <td>اجتماعی</td>\n",
              "      <td>68</td>\n",
              "      <td>12</td>\n",
              "      <td>6.315789</td>\n",
              "    </tr>\n",
              "    <tr>\n",
              "      <th>4</th>\n",
              "      <td>مذهبی</td>\n",
              "      <td>58</td>\n",
              "      <td>1</td>\n",
              "      <td>0.526316</td>\n",
              "    </tr>\n",
              "    <tr>\n",
              "      <th>5</th>\n",
              "      <td>علمی و پزشکی</td>\n",
              "      <td>68</td>\n",
              "      <td>36</td>\n",
              "      <td>18.947368</td>\n",
              "    </tr>\n",
              "    <tr>\n",
              "      <th>6</th>\n",
              "      <td>ورزشی</td>\n",
              "      <td>118</td>\n",
              "      <td>28</td>\n",
              "      <td>14.736842</td>\n",
              "    </tr>\n",
              "    <tr>\n",
              "      <th>7</th>\n",
              "      <td>فرهنگ و هنر</td>\n",
              "      <td>68</td>\n",
              "      <td>0</td>\n",
              "      <td>0.000000</td>\n",
              "    </tr>\n",
              "    <tr>\n",
              "      <th>8</th>\n",
              "      <td>فناوری و ارتباطات</td>\n",
              "      <td>54</td>\n",
              "      <td>19</td>\n",
              "      <td>10.000000</td>\n",
              "    </tr>\n",
              "    <tr>\n",
              "      <th>9</th>\n",
              "      <td>سیاسی</td>\n",
              "      <td>74</td>\n",
              "      <td>18</td>\n",
              "      <td>9.473684</td>\n",
              "    </tr>\n",
              "  </tbody>\n",
              "</table>\n",
              "</div>\n",
              "      <button class=\"colab-df-convert\" onclick=\"convertToInteractive('df-f400d611-b2a6-4c2f-81ff-4a9231a39888')\"\n",
              "              title=\"Convert this dataframe to an interactive table.\"\n",
              "              style=\"display:none;\">\n",
              "        \n",
              "  <svg xmlns=\"http://www.w3.org/2000/svg\" height=\"24px\"viewBox=\"0 0 24 24\"\n",
              "       width=\"24px\">\n",
              "    <path d=\"M0 0h24v24H0V0z\" fill=\"none\"/>\n",
              "    <path d=\"M18.56 5.44l.94 2.06.94-2.06 2.06-.94-2.06-.94-.94-2.06-.94 2.06-2.06.94zm-11 1L8.5 8.5l.94-2.06 2.06-.94-2.06-.94L8.5 2.5l-.94 2.06-2.06.94zm10 10l.94 2.06.94-2.06 2.06-.94-2.06-.94-.94-2.06-.94 2.06-2.06.94z\"/><path d=\"M17.41 7.96l-1.37-1.37c-.4-.4-.92-.59-1.43-.59-.52 0-1.04.2-1.43.59L10.3 9.45l-7.72 7.72c-.78.78-.78 2.05 0 2.83L4 21.41c.39.39.9.59 1.41.59.51 0 1.02-.2 1.41-.59l7.78-7.78 2.81-2.81c.8-.78.8-2.07 0-2.86zM5.41 20L4 18.59l7.72-7.72 1.47 1.35L5.41 20z\"/>\n",
              "  </svg>\n",
              "      </button>\n",
              "      \n",
              "  <style>\n",
              "    .colab-df-container {\n",
              "      display:flex;\n",
              "      flex-wrap:wrap;\n",
              "      gap: 12px;\n",
              "    }\n",
              "\n",
              "    .colab-df-convert {\n",
              "      background-color: #E8F0FE;\n",
              "      border: none;\n",
              "      border-radius: 50%;\n",
              "      cursor: pointer;\n",
              "      display: none;\n",
              "      fill: #1967D2;\n",
              "      height: 32px;\n",
              "      padding: 0 0 0 0;\n",
              "      width: 32px;\n",
              "    }\n",
              "\n",
              "    .colab-df-convert:hover {\n",
              "      background-color: #E2EBFA;\n",
              "      box-shadow: 0px 1px 2px rgba(60, 64, 67, 0.3), 0px 1px 3px 1px rgba(60, 64, 67, 0.15);\n",
              "      fill: #174EA6;\n",
              "    }\n",
              "\n",
              "    [theme=dark] .colab-df-convert {\n",
              "      background-color: #3B4455;\n",
              "      fill: #D2E3FC;\n",
              "    }\n",
              "\n",
              "    [theme=dark] .colab-df-convert:hover {\n",
              "      background-color: #434B5C;\n",
              "      box-shadow: 0px 1px 3px 1px rgba(0, 0, 0, 0.15);\n",
              "      filter: drop-shadow(0px 1px 2px rgba(0, 0, 0, 0.3));\n",
              "      fill: #FFFFFF;\n",
              "    }\n",
              "  </style>\n",
              "\n",
              "      <script>\n",
              "        const buttonEl =\n",
              "          document.querySelector('#df-f400d611-b2a6-4c2f-81ff-4a9231a39888 button.colab-df-convert');\n",
              "        buttonEl.style.display =\n",
              "          google.colab.kernel.accessAllowed ? 'block' : 'none';\n",
              "\n",
              "        async function convertToInteractive(key) {\n",
              "          const element = document.querySelector('#df-f400d611-b2a6-4c2f-81ff-4a9231a39888');\n",
              "          const dataTable =\n",
              "            await google.colab.kernel.invokeFunction('convertToInteractive',\n",
              "                                                     [key], {});\n",
              "          if (!dataTable) return;\n",
              "\n",
              "          const docLinkHtml = 'Like what you see? Visit the ' +\n",
              "            '<a target=\"_blank\" href=https://colab.research.google.com/notebooks/data_table.ipynb>data table notebook</a>'\n",
              "            + ' to learn more about interactive tables.';\n",
              "          element.innerHTML = '';\n",
              "          dataTable['output_type'] = 'display_data';\n",
              "          await google.colab.output.renderOutput(dataTable, element);\n",
              "          const docLink = document.createElement('div');\n",
              "          docLink.innerHTML = docLinkHtml;\n",
              "          element.appendChild(docLink);\n",
              "        }\n",
              "      </script>\n",
              "    </div>\n",
              "  </div>\n",
              "  "
            ],
            "text/plain": [
              "            category  all  important  percentage\n",
              "0          بین الملل  117         37   19.473684\n",
              "1            اقتصادی   81         36   18.947368\n",
              "2              حوادث   51          3    1.578947\n",
              "3            اجتماعی   68         12    6.315789\n",
              "4              مذهبی   58          1    0.526316\n",
              "5       علمی و پزشکی   68         36   18.947368\n",
              "6              ورزشی  118         28   14.736842\n",
              "7        فرهنگ و هنر   68          0    0.000000\n",
              "8  فناوری و ارتباطات   54         19   10.000000\n",
              "9              سیاسی   74         18    9.473684"
            ]
          },
          "execution_count": 186,
          "metadata": {},
          "output_type": "execute_result"
        }
      ],
      "source": [
        "dist(test['category'],predictions_svm_tfidf)"
      ]
    },
    {
      "cell_type": "markdown",
      "metadata": {
        "id": "s-i5zYo1EDsh"
      },
      "source": [
        "## text + category"
      ]
    },
    {
      "cell_type": "code",
      "execution_count": null,
      "metadata": {
        "id": "kkh35ur4EGqZ"
      },
      "outputs": [],
      "source": [
        "train_tfidf, tfidf_vectorizer = tfidf(train[\"cattext\"])\n",
        "test_tfidf = tfidf_vectorizer.transform(test[\"cattext\"])"
      ]
    },
    {
      "cell_type": "code",
      "execution_count": null,
      "metadata": {
        "id": "2Y-rA1OsGiwr"
      },
      "outputs": [],
      "source": [
        "X_train_tfidf = train_tfidf\n",
        "y_train_tfidf = train[\"label\"].values\n",
        "\n",
        "X_test_tfidf = test_tfidf\n",
        "y_test_tfidf = test[\"label\"].values"
      ]
    },
    {
      "cell_type": "code",
      "execution_count": null,
      "metadata": {
        "colab": {
          "base_uri": "https://localhost:8080/",
          "height": 399
        },
        "id": "98Lh0hSjGnBC",
        "outputId": "29dcc6b8-5fa2-4c73-a9e0-ac7eb8940797"
      },
      "outputs": [
        {
          "name": "stdout",
          "output_type": "stream",
          "text": [
            "f1-score macro: 0.6212386758461843\n",
            "f1-score micro: 0.7635402906208718\n",
            "accuracy score: 0.7635402906208718\n",
            "recall score: 0.6551321928460342\n",
            "precision score: 0.6099099186174635\n",
            "ROCAUC score: 0.6551321928460341\n"
          ]
        },
        {
          "data": {
            "image/png": "[encoded data removed]",
            "text/plain": [
              "<Figure size 432x288 with 2 Axes>"
            ]
          },
          "metadata": {
            "needs_background": "light"
          },
          "output_type": "display_data"
        }
      ],
      "source": [
        "model_tfidf = LogisticRegression(C=1, class_weight={0: 0.15, 1: 1}, solver='newton-cg')\n",
        "model_tfidf.fit(X_train_tfidf, y_train_tfidf)\n",
        "y_pred_tfidf = model_tfidf.predict(X_test_tfidf)\n",
        "print_evaluation(y_test_tfidf, y_pred_tfidf)"
      ]
    },
    {
      "cell_type": "code",
      "execution_count": null,
      "metadata": {
        "colab": {
          "base_uri": "https://localhost:8080/",
          "height": 470
        },
        "id": "PLJlciAcjaQ0",
        "outputId": "c3f27856-c6ad-4d5b-b48b-fead60122a76"
      },
      "outputs": [
        {
          "name": "stderr",
          "output_type": "stream",
          "text": [
            "/usr/local/lib/python3.7/dist-packages/pandas/core/indexing.py:1732: SettingWithCopyWarning: \n",
            "A value is trying to be set on a copy of a slice from a DataFrame\n",
            "\n",
            "See the caveats in the documentation: https://pandas.pydata.org/pandas-docs/stable/user_guide/indexing.html#returning-a-view-versus-a-copy\n",
            "  self._setitem_single_block(indexer, value, name)\n"
          ]
        },
        {
          "data": {
            "text/html": [
              "\n",
              "  <div id=\"df-dbcb3071-99be-4820-9957-6cd1d23d94c5\">\n",
              "    <div class=\"colab-df-container\">\n",
              "      <div>\n",
              "<style scoped>\n",
              "    .dataframe tbody tr th:only-of-type {\n",
              "        vertical-align: middle;\n",
              "    }\n",
              "\n",
              "    .dataframe tbody tr th {\n",
              "        vertical-align: top;\n",
              "    }\n",
              "\n",
              "    .dataframe thead th {\n",
              "        text-align: right;\n",
              "    }\n",
              "</style>\n",
              "<table border=\"1\" class=\"dataframe\">\n",
              "  <thead>\n",
              "    <tr style=\"text-align: right;\">\n",
              "      <th></th>\n",
              "      <th>category</th>\n",
              "      <th>all</th>\n",
              "      <th>important</th>\n",
              "      <th>percentage</th>\n",
              "    </tr>\n",
              "  </thead>\n",
              "  <tbody>\n",
              "    <tr>\n",
              "      <th>0</th>\n",
              "      <td>بین الملل</td>\n",
              "      <td>117</td>\n",
              "      <td>40</td>\n",
              "      <td>22.346369</td>\n",
              "    </tr>\n",
              "    <tr>\n",
              "      <th>1</th>\n",
              "      <td>اقتصادی</td>\n",
              "      <td>81</td>\n",
              "      <td>39</td>\n",
              "      <td>21.787709</td>\n",
              "    </tr>\n",
              "    <tr>\n",
              "      <th>2</th>\n",
              "      <td>حوادث</td>\n",
              "      <td>51</td>\n",
              "      <td>0</td>\n",
              "      <td>0.000000</td>\n",
              "    </tr>\n",
              "    <tr>\n",
              "      <th>3</th>\n",
              "      <td>اجتماعی</td>\n",
              "      <td>68</td>\n",
              "      <td>13</td>\n",
              "      <td>7.262570</td>\n",
              "    </tr>\n",
              "    <tr>\n",
              "      <th>4</th>\n",
              "      <td>مذهبی</td>\n",
              "      <td>58</td>\n",
              "      <td>1</td>\n",
              "      <td>0.558659</td>\n",
              "    </tr>\n",
              "    <tr>\n",
              "      <th>5</th>\n",
              "      <td>علمی و پزشکی</td>\n",
              "      <td>68</td>\n",
              "      <td>36</td>\n",
              "      <td>20.111732</td>\n",
              "    </tr>\n",
              "    <tr>\n",
              "      <th>6</th>\n",
              "      <td>ورزشی</td>\n",
              "      <td>118</td>\n",
              "      <td>25</td>\n",
              "      <td>13.966480</td>\n",
              "    </tr>\n",
              "    <tr>\n",
              "      <th>7</th>\n",
              "      <td>فرهنگ و هنر</td>\n",
              "      <td>68</td>\n",
              "      <td>0</td>\n",
              "      <td>0.000000</td>\n",
              "    </tr>\n",
              "    <tr>\n",
              "      <th>8</th>\n",
              "      <td>فناوری و ارتباطات</td>\n",
              "      <td>54</td>\n",
              "      <td>10</td>\n",
              "      <td>5.586592</td>\n",
              "    </tr>\n",
              "    <tr>\n",
              "      <th>9</th>\n",
              "      <td>سیاسی</td>\n",
              "      <td>74</td>\n",
              "      <td>15</td>\n",
              "      <td>8.379888</td>\n",
              "    </tr>\n",
              "  </tbody>\n",
              "</table>\n",
              "</div>\n",
              "      <button class=\"colab-df-convert\" onclick=\"convertToInteractive('df-dbcb3071-99be-4820-9957-6cd1d23d94c5')\"\n",
              "              title=\"Convert this dataframe to an interactive table.\"\n",
              "              style=\"display:none;\">\n",
              "        \n",
              "  <svg xmlns=\"http://www.w3.org/2000/svg\" height=\"24px\"viewBox=\"0 0 24 24\"\n",
              "       width=\"24px\">\n",
              "    <path d=\"M0 0h24v24H0V0z\" fill=\"none\"/>\n",
              "    <path d=\"M18.56 5.44l.94 2.06.94-2.06 2.06-.94-2.06-.94-.94-2.06-.94 2.06-2.06.94zm-11 1L8.5 8.5l.94-2.06 2.06-.94-2.06-.94L8.5 2.5l-.94 2.06-2.06.94zm10 10l.94 2.06.94-2.06 2.06-.94-2.06-.94-.94-2.06-.94 2.06-2.06.94z\"/><path d=\"M17.41 7.96l-1.37-1.37c-.4-.4-.92-.59-1.43-.59-.52 0-1.04.2-1.43.59L10.3 9.45l-7.72 7.72c-.78.78-.78 2.05 0 2.83L4 21.41c.39.39.9.59 1.41.59.51 0 1.02-.2 1.41-.59l7.78-7.78 2.81-2.81c.8-.78.8-2.07 0-2.86zM5.41 20L4 18.59l7.72-7.72 1.47 1.35L5.41 20z\"/>\n",
              "  </svg>\n",
              "      </button>\n",
              "      \n",
              "  <style>\n",
              "    .colab-df-container {\n",
              "      display:flex;\n",
              "      flex-wrap:wrap;\n",
              "      gap: 12px;\n",
              "    }\n",
              "\n",
              "    .colab-df-convert {\n",
              "      background-color: #E8F0FE;\n",
              "      border: none;\n",
              "      border-radius: 50%;\n",
              "      cursor: pointer;\n",
              "      display: none;\n",
              "      fill: #1967D2;\n",
              "      height: 32px;\n",
              "      padding: 0 0 0 0;\n",
              "      width: 32px;\n",
              "    }\n",
              "\n",
              "    .colab-df-convert:hover {\n",
              "      background-color: #E2EBFA;\n",
              "      box-shadow: 0px 1px 2px rgba(60, 64, 67, 0.3), 0px 1px 3px 1px rgba(60, 64, 67, 0.15);\n",
              "      fill: #174EA6;\n",
              "    }\n",
              "\n",
              "    [theme=dark] .colab-df-convert {\n",
              "      background-color: #3B4455;\n",
              "      fill: #D2E3FC;\n",
              "    }\n",
              "\n",
              "    [theme=dark] .colab-df-convert:hover {\n",
              "      background-color: #434B5C;\n",
              "      box-shadow: 0px 1px 3px 1px rgba(0, 0, 0, 0.15);\n",
              "      filter: drop-shadow(0px 1px 2px rgba(0, 0, 0, 0.3));\n",
              "      fill: #FFFFFF;\n",
              "    }\n",
              "  </style>\n",
              "\n",
              "      <script>\n",
              "        const buttonEl =\n",
              "          document.querySelector('#df-dbcb3071-99be-4820-9957-6cd1d23d94c5 button.colab-df-convert');\n",
              "        buttonEl.style.display =\n",
              "          google.colab.kernel.accessAllowed ? 'block' : 'none';\n",
              "\n",
              "        async function convertToInteractive(key) {\n",
              "          const element = document.querySelector('#df-dbcb3071-99be-4820-9957-6cd1d23d94c5');\n",
              "          const dataTable =\n",
              "            await google.colab.kernel.invokeFunction('convertToInteractive',\n",
              "                                                     [key], {});\n",
              "          if (!dataTable) return;\n",
              "\n",
              "          const docLinkHtml = 'Like what you see? Visit the ' +\n",
              "            '<a target=\"_blank\" href=https://colab.research.google.com/notebooks/data_table.ipynb>data table notebook</a>'\n",
              "            + ' to learn more about interactive tables.';\n",
              "          element.innerHTML = '';\n",
              "          dataTable['output_type'] = 'display_data';\n",
              "          await google.colab.output.renderOutput(dataTable, element);\n",
              "          const docLink = document.createElement('div');\n",
              "          docLink.innerHTML = docLinkHtml;\n",
              "          element.appendChild(docLink);\n",
              "        }\n",
              "      </script>\n",
              "    </div>\n",
              "  </div>\n",
              "  "
            ],
            "text/plain": [
              "            category  all  important  percentage\n",
              "0          بین الملل  117         40   22.346369\n",
              "1            اقتصادی   81         39   21.787709\n",
              "2              حوادث   51          0    0.000000\n",
              "3            اجتماعی   68         13    7.262570\n",
              "4              مذهبی   58          1    0.558659\n",
              "5       علمی و پزشکی   68         36   20.111732\n",
              "6              ورزشی  118         25   13.966480\n",
              "7        فرهنگ و هنر   68          0    0.000000\n",
              "8  فناوری و ارتباطات   54         10    5.586592\n",
              "9              سیاسی   74         15    8.379888"
            ]
          },
          "execution_count": 190,
          "metadata": {},
          "output_type": "execute_result"
        }
      ],
      "source": [
        "dist(test['category'],y_pred_tfidf)"
      ]
    },
    {
      "cell_type": "code",
      "execution_count": null,
      "metadata": {
        "colab": {
          "base_uri": "https://localhost:8080/",
          "height": 399
        },
        "id": "qlO1QcNbGq1S",
        "outputId": "f43c8926-bd6d-4e0c-a500-1d3c232c69c4"
      },
      "outputs": [
        {
          "name": "stdout",
          "output_type": "stream",
          "text": [
            "f1-score macro: 0.627006344880741\n",
            "f1-score micro: 0.7635402906208718\n",
            "accuracy score: 0.7635402906208718\n",
            "recall score: 0.6659572726528608\n",
            "precision score: 0.614959364959365\n",
            "ROCAUC score: 0.6659572726528608\n"
          ]
        },
        {
          "data": {
            "image/png": "[encoded data removed]",
            "text/plain": [
              "<Figure size 432x288 with 2 Axes>"
            ]
          },
          "metadata": {
            "needs_background": "light"
          },
          "output_type": "display_data"
        }
      ],
      "source": [
        "svm_tfidf = svm.SVC(C=1, class_weight={0:0.2, 1:3}, degree=2, kernel='linear')\n",
        "svm_tfidf.fit(X_train_tfidf, y_train_tfidf)\n",
        "predictions_svm_tfidf = svm_tfidf.predict(X_test_tfidf)\n",
        "print_evaluation(y_test_tfidf, predictions_svm_tfidf)"
      ]
    },
    {
      "cell_type": "code",
      "execution_count": null,
      "metadata": {
        "colab": {
          "base_uri": "https://localhost:8080/",
          "height": 470
        },
        "id": "x1lO8-BQjfbM",
        "outputId": "2f717f63-b1e2-4659-b5fb-38b0d675f5c5"
      },
      "outputs": [
        {
          "name": "stderr",
          "output_type": "stream",
          "text": [
            "/usr/local/lib/python3.7/dist-packages/pandas/core/indexing.py:1732: SettingWithCopyWarning: \n",
            "A value is trying to be set on a copy of a slice from a DataFrame\n",
            "\n",
            "See the caveats in the documentation: https://pandas.pydata.org/pandas-docs/stable/user_guide/indexing.html#returning-a-view-versus-a-copy\n",
            "  self._setitem_single_block(indexer, value, name)\n"
          ]
        },
        {
          "data": {
            "text/html": [
              "\n",
              "  <div id=\"df-300c5e7b-3102-4e66-917f-2b84025db7e8\">\n",
              "    <div class=\"colab-df-container\">\n",
              "      <div>\n",
              "<style scoped>\n",
              "    .dataframe tbody tr th:only-of-type {\n",
              "        vertical-align: middle;\n",
              "    }\n",
              "\n",
              "    .dataframe tbody tr th {\n",
              "        vertical-align: top;\n",
              "    }\n",
              "\n",
              "    .dataframe thead th {\n",
              "        text-align: right;\n",
              "    }\n",
              "</style>\n",
              "<table border=\"1\" class=\"dataframe\">\n",
              "  <thead>\n",
              "    <tr style=\"text-align: right;\">\n",
              "      <th></th>\n",
              "      <th>category</th>\n",
              "      <th>all</th>\n",
              "      <th>important</th>\n",
              "      <th>percentage</th>\n",
              "    </tr>\n",
              "  </thead>\n",
              "  <tbody>\n",
              "    <tr>\n",
              "      <th>0</th>\n",
              "      <td>بین الملل</td>\n",
              "      <td>117</td>\n",
              "      <td>37</td>\n",
              "      <td>20.000000</td>\n",
              "    </tr>\n",
              "    <tr>\n",
              "      <th>1</th>\n",
              "      <td>اقتصادی</td>\n",
              "      <td>81</td>\n",
              "      <td>36</td>\n",
              "      <td>19.459459</td>\n",
              "    </tr>\n",
              "    <tr>\n",
              "      <th>2</th>\n",
              "      <td>حوادث</td>\n",
              "      <td>51</td>\n",
              "      <td>2</td>\n",
              "      <td>1.081081</td>\n",
              "    </tr>\n",
              "    <tr>\n",
              "      <th>3</th>\n",
              "      <td>اجتماعی</td>\n",
              "      <td>68</td>\n",
              "      <td>10</td>\n",
              "      <td>5.405405</td>\n",
              "    </tr>\n",
              "    <tr>\n",
              "      <th>4</th>\n",
              "      <td>مذهبی</td>\n",
              "      <td>58</td>\n",
              "      <td>1</td>\n",
              "      <td>0.540541</td>\n",
              "    </tr>\n",
              "    <tr>\n",
              "      <th>5</th>\n",
              "      <td>علمی و پزشکی</td>\n",
              "      <td>68</td>\n",
              "      <td>37</td>\n",
              "      <td>20.000000</td>\n",
              "    </tr>\n",
              "    <tr>\n",
              "      <th>6</th>\n",
              "      <td>ورزشی</td>\n",
              "      <td>118</td>\n",
              "      <td>28</td>\n",
              "      <td>15.135135</td>\n",
              "    </tr>\n",
              "    <tr>\n",
              "      <th>7</th>\n",
              "      <td>فرهنگ و هنر</td>\n",
              "      <td>68</td>\n",
              "      <td>0</td>\n",
              "      <td>0.000000</td>\n",
              "    </tr>\n",
              "    <tr>\n",
              "      <th>8</th>\n",
              "      <td>فناوری و ارتباطات</td>\n",
              "      <td>54</td>\n",
              "      <td>19</td>\n",
              "      <td>10.270270</td>\n",
              "    </tr>\n",
              "    <tr>\n",
              "      <th>9</th>\n",
              "      <td>سیاسی</td>\n",
              "      <td>74</td>\n",
              "      <td>15</td>\n",
              "      <td>8.108108</td>\n",
              "    </tr>\n",
              "  </tbody>\n",
              "</table>\n",
              "</div>\n",
              "      <button class=\"colab-df-convert\" onclick=\"convertToInteractive('df-300c5e7b-3102-4e66-917f-2b84025db7e8')\"\n",
              "              title=\"Convert this dataframe to an interactive table.\"\n",
              "              style=\"display:none;\">\n",
              "        \n",
              "  <svg xmlns=\"http://www.w3.org/2000/svg\" height=\"24px\"viewBox=\"0 0 24 24\"\n",
              "       width=\"24px\">\n",
              "    <path d=\"M0 0h24v24H0V0z\" fill=\"none\"/>\n",
              "    <path d=\"M18.56 5.44l.94 2.06.94-2.06 2.06-.94-2.06-.94-.94-2.06-.94 2.06-2.06.94zm-11 1L8.5 8.5l.94-2.06 2.06-.94-2.06-.94L8.5 2.5l-.94 2.06-2.06.94zm10 10l.94 2.06.94-2.06 2.06-.94-2.06-.94-.94-2.06-.94 2.06-2.06.94z\"/><path d=\"M17.41 7.96l-1.37-1.37c-.4-.4-.92-.59-1.43-.59-.52 0-1.04.2-1.43.59L10.3 9.45l-7.72 7.72c-.78.78-.78 2.05 0 2.83L4 21.41c.39.39.9.59 1.41.59.51 0 1.02-.2 1.41-.59l7.78-7.78 2.81-2.81c.8-.78.8-2.07 0-2.86zM5.41 20L4 18.59l7.72-7.72 1.47 1.35L5.41 20z\"/>\n",
              "  </svg>\n",
              "      </button>\n",
              "      \n",
              "  <style>\n",
              "    .colab-df-container {\n",
              "      display:flex;\n",
              "      flex-wrap:wrap;\n",
              "      gap: 12px;\n",
              "    }\n",
              "\n",
              "    .colab-df-convert {\n",
              "      background-color: #E8F0FE;\n",
              "      border: none;\n",
              "      border-radius: 50%;\n",
              "      cursor: pointer;\n",
              "      display: none;\n",
              "      fill: #1967D2;\n",
              "      height: 32px;\n",
              "      padding: 0 0 0 0;\n",
              "      width: 32px;\n",
              "    }\n",
              "\n",
              "    .colab-df-convert:hover {\n",
              "      background-color: #E2EBFA;\n",
              "      box-shadow: 0px 1px 2px rgba(60, 64, 67, 0.3), 0px 1px 3px 1px rgba(60, 64, 67, 0.15);\n",
              "      fill: #174EA6;\n",
              "    }\n",
              "\n",
              "    [theme=dark] .colab-df-convert {\n",
              "      background-color: #3B4455;\n",
              "      fill: #D2E3FC;\n",
              "    }\n",
              "\n",
              "    [theme=dark] .colab-df-convert:hover {\n",
              "      background-color: #434B5C;\n",
              "      box-shadow: 0px 1px 3px 1px rgba(0, 0, 0, 0.15);\n",
              "      filter: drop-shadow(0px 1px 2px rgba(0, 0, 0, 0.3));\n",
              "      fill: #FFFFFF;\n",
              "    }\n",
              "  </style>\n",
              "\n",
              "      <script>\n",
              "        const buttonEl =\n",
              "          document.querySelector('#df-300c5e7b-3102-4e66-917f-2b84025db7e8 button.colab-df-convert');\n",
              "        buttonEl.style.display =\n",
              "          google.colab.kernel.accessAllowed ? 'block' : 'none';\n",
              "\n",
              "        async function convertToInteractive(key) {\n",
              "          const element = document.querySelector('#df-300c5e7b-3102-4e66-917f-2b84025db7e8');\n",
              "          const dataTable =\n",
              "            await google.colab.kernel.invokeFunction('convertToInteractive',\n",
              "                                                     [key], {});\n",
              "          if (!dataTable) return;\n",
              "\n",
              "          const docLinkHtml = 'Like what you see? Visit the ' +\n",
              "            '<a target=\"_blank\" href=https://colab.research.google.com/notebooks/data_table.ipynb>data table notebook</a>'\n",
              "            + ' to learn more about interactive tables.';\n",
              "          element.innerHTML = '';\n",
              "          dataTable['output_type'] = 'display_data';\n",
              "          await google.colab.output.renderOutput(dataTable, element);\n",
              "          const docLink = document.createElement('div');\n",
              "          docLink.innerHTML = docLinkHtml;\n",
              "          element.appendChild(docLink);\n",
              "        }\n",
              "      </script>\n",
              "    </div>\n",
              "  </div>\n",
              "  "
            ],
            "text/plain": [
              "            category  all  important  percentage\n",
              "0          بین الملل  117         37   20.000000\n",
              "1            اقتصادی   81         36   19.459459\n",
              "2              حوادث   51          2    1.081081\n",
              "3            اجتماعی   68         10    5.405405\n",
              "4              مذهبی   58          1    0.540541\n",
              "5       علمی و پزشکی   68         37   20.000000\n",
              "6              ورزشی  118         28   15.135135\n",
              "7        فرهنگ و هنر   68          0    0.000000\n",
              "8  فناوری و ارتباطات   54         19   10.270270\n",
              "9              سیاسی   74         15    8.108108"
            ]
          },
          "execution_count": 192,
          "metadata": {},
          "output_type": "execute_result"
        }
      ],
      "source": [
        "dist(test['category'], predictions_svm_tfidf)"
      ]
    },
    {
      "cell_type": "markdown",
      "metadata": {
        "id": "rjJajk5CEG3k"
      },
      "source": [
        "## text + keywords"
      ]
    },
    {
      "cell_type": "code",
      "execution_count": null,
      "metadata": {
        "id": "Xm1R4MW9EKAB"
      },
      "outputs": [],
      "source": [
        "train_tfidf, tfidf_vectorizer = tfidf(train[\"keytext\"])\n",
        "test_tfidf = tfidf_vectorizer.transform(test[\"keytext\"])"
      ]
    },
    {
      "cell_type": "code",
      "execution_count": null,
      "metadata": {
        "id": "1Ds_CLVRGjnb"
      },
      "outputs": [],
      "source": [
        "X_train_tfidf = train_tfidf\n",
        "y_train_tfidf = train[\"label\"].values\n",
        "\n",
        "X_test_tfidf = test_tfidf\n",
        "y_test_tfidf = test[\"label\"].values"
      ]
    },
    {
      "cell_type": "code",
      "execution_count": null,
      "metadata": {
        "colab": {
          "base_uri": "https://localhost:8080/",
          "height": 399
        },
        "id": "6ez1h5-MGn6U",
        "outputId": "f106c7d2-c1fd-411c-8e86-304197cb57cd"
      },
      "outputs": [
        {
          "name": "stdout",
          "output_type": "stream",
          "text": [
            "f1-score macro: 0.6277673345640403\n",
            "f1-score micro: 0.7688243064729194\n",
            "accuracy score: 0.7688243064729194\n",
            "recall score: 0.6618509726883305\n",
            "precision score: 0.6155659458406391\n",
            "ROCAUC score: 0.6618509726883305\n"
          ]
        },
        {
          "data": {
            "image/png": "[encoded data removed]",
            "text/plain": [
              "<Figure size 432x288 with 2 Axes>"
            ]
          },
          "metadata": {
            "needs_background": "light"
          },
          "output_type": "display_data"
        }
      ],
      "source": [
        "model_tfidf = LogisticRegression(C=1, class_weight={0: 0.15, 1: 1}, solver='newton-cg')\n",
        "model_tfidf.fit(X_train_tfidf, y_train_tfidf)\n",
        "y_pred_tfidf = model_tfidf.predict(X_test_tfidf)\n",
        "print_evaluation(y_test_tfidf, y_pred_tfidf)"
      ]
    },
    {
      "cell_type": "code",
      "execution_count": null,
      "metadata": {
        "colab": {
          "base_uri": "https://localhost:8080/",
          "height": 470
        },
        "id": "u-xErRD2jyAC",
        "outputId": "659147f7-63a4-4b5e-b88b-705f29759af4"
      },
      "outputs": [
        {
          "name": "stderr",
          "output_type": "stream",
          "text": [
            "/usr/local/lib/python3.7/dist-packages/pandas/core/indexing.py:1732: SettingWithCopyWarning: \n",
            "A value is trying to be set on a copy of a slice from a DataFrame\n",
            "\n",
            "See the caveats in the documentation: https://pandas.pydata.org/pandas-docs/stable/user_guide/indexing.html#returning-a-view-versus-a-copy\n",
            "  self._setitem_single_block(indexer, value, name)\n"
          ]
        },
        {
          "data": {
            "text/html": [
              "\n",
              "  <div id=\"df-7aeb5dca-5480-430a-9e00-c9bb3458407b\">\n",
              "    <div class=\"colab-df-container\">\n",
              "      <div>\n",
              "<style scoped>\n",
              "    .dataframe tbody tr th:only-of-type {\n",
              "        vertical-align: middle;\n",
              "    }\n",
              "\n",
              "    .dataframe tbody tr th {\n",
              "        vertical-align: top;\n",
              "    }\n",
              "\n",
              "    .dataframe thead th {\n",
              "        text-align: right;\n",
              "    }\n",
              "</style>\n",
              "<table border=\"1\" class=\"dataframe\">\n",
              "  <thead>\n",
              "    <tr style=\"text-align: right;\">\n",
              "      <th></th>\n",
              "      <th>category</th>\n",
              "      <th>all</th>\n",
              "      <th>important</th>\n",
              "      <th>percentage</th>\n",
              "    </tr>\n",
              "  </thead>\n",
              "  <tbody>\n",
              "    <tr>\n",
              "      <th>0</th>\n",
              "      <td>بین الملل</td>\n",
              "      <td>117</td>\n",
              "      <td>35</td>\n",
              "      <td>19.774011</td>\n",
              "    </tr>\n",
              "    <tr>\n",
              "      <th>1</th>\n",
              "      <td>اقتصادی</td>\n",
              "      <td>81</td>\n",
              "      <td>38</td>\n",
              "      <td>21.468927</td>\n",
              "    </tr>\n",
              "    <tr>\n",
              "      <th>2</th>\n",
              "      <td>حوادث</td>\n",
              "      <td>51</td>\n",
              "      <td>1</td>\n",
              "      <td>0.564972</td>\n",
              "    </tr>\n",
              "    <tr>\n",
              "      <th>3</th>\n",
              "      <td>اجتماعی</td>\n",
              "      <td>68</td>\n",
              "      <td>13</td>\n",
              "      <td>7.344633</td>\n",
              "    </tr>\n",
              "    <tr>\n",
              "      <th>4</th>\n",
              "      <td>مذهبی</td>\n",
              "      <td>58</td>\n",
              "      <td>1</td>\n",
              "      <td>0.564972</td>\n",
              "    </tr>\n",
              "    <tr>\n",
              "      <th>5</th>\n",
              "      <td>علمی و پزشکی</td>\n",
              "      <td>68</td>\n",
              "      <td>36</td>\n",
              "      <td>20.338983</td>\n",
              "    </tr>\n",
              "    <tr>\n",
              "      <th>6</th>\n",
              "      <td>ورزشی</td>\n",
              "      <td>118</td>\n",
              "      <td>26</td>\n",
              "      <td>14.689266</td>\n",
              "    </tr>\n",
              "    <tr>\n",
              "      <th>7</th>\n",
              "      <td>فرهنگ و هنر</td>\n",
              "      <td>68</td>\n",
              "      <td>0</td>\n",
              "      <td>0.000000</td>\n",
              "    </tr>\n",
              "    <tr>\n",
              "      <th>8</th>\n",
              "      <td>فناوری و ارتباطات</td>\n",
              "      <td>54</td>\n",
              "      <td>10</td>\n",
              "      <td>5.649718</td>\n",
              "    </tr>\n",
              "    <tr>\n",
              "      <th>9</th>\n",
              "      <td>سیاسی</td>\n",
              "      <td>74</td>\n",
              "      <td>17</td>\n",
              "      <td>9.604520</td>\n",
              "    </tr>\n",
              "  </tbody>\n",
              "</table>\n",
              "</div>\n",
              "      <button class=\"colab-df-convert\" onclick=\"convertToInteractive('df-7aeb5dca-5480-430a-9e00-c9bb3458407b')\"\n",
              "              title=\"Convert this dataframe to an interactive table.\"\n",
              "              style=\"display:none;\">\n",
              "        \n",
              "  <svg xmlns=\"http://www.w3.org/2000/svg\" height=\"24px\"viewBox=\"0 0 24 24\"\n",
              "       width=\"24px\">\n",
              "    <path d=\"M0 0h24v24H0V0z\" fill=\"none\"/>\n",
              "    <path d=\"M18.56 5.44l.94 2.06.94-2.06 2.06-.94-2.06-.94-.94-2.06-.94 2.06-2.06.94zm-11 1L8.5 8.5l.94-2.06 2.06-.94-2.06-.94L8.5 2.5l-.94 2.06-2.06.94zm10 10l.94 2.06.94-2.06 2.06-.94-2.06-.94-.94-2.06-.94 2.06-2.06.94z\"/><path d=\"M17.41 7.96l-1.37-1.37c-.4-.4-.92-.59-1.43-.59-.52 0-1.04.2-1.43.59L10.3 9.45l-7.72 7.72c-.78.78-.78 2.05 0 2.83L4 21.41c.39.39.9.59 1.41.59.51 0 1.02-.2 1.41-.59l7.78-7.78 2.81-2.81c.8-.78.8-2.07 0-2.86zM5.41 20L4 18.59l7.72-7.72 1.47 1.35L5.41 20z\"/>\n",
              "  </svg>\n",
              "      </button>\n",
              "      \n",
              "  <style>\n",
              "    .colab-df-container {\n",
              "      display:flex;\n",
              "      flex-wrap:wrap;\n",
              "      gap: 12px;\n",
              "    }\n",
              "\n",
              "    .colab-df-convert {\n",
              "      background-color: #E8F0FE;\n",
              "      border: none;\n",
              "      border-radius: 50%;\n",
              "      cursor: pointer;\n",
              "      display: none;\n",
              "      fill: #1967D2;\n",
              "      height: 32px;\n",
              "      padding: 0 0 0 0;\n",
              "      width: 32px;\n",
              "    }\n",
              "\n",
              "    .colab-df-convert:hover {\n",
              "      background-color: #E2EBFA;\n",
              "      box-shadow: 0px 1px 2px rgba(60, 64, 67, 0.3), 0px 1px 3px 1px rgba(60, 64, 67, 0.15);\n",
              "      fill: #174EA6;\n",
              "    }\n",
              "\n",
              "    [theme=dark] .colab-df-convert {\n",
              "      background-color: #3B4455;\n",
              "      fill: #D2E3FC;\n",
              "    }\n",
              "\n",
              "    [theme=dark] .colab-df-convert:hover {\n",
              "      background-color: #434B5C;\n",
              "      box-shadow: 0px 1px 3px 1px rgba(0, 0, 0, 0.15);\n",
              "      filter: drop-shadow(0px 1px 2px rgba(0, 0, 0, 0.3));\n",
              "      fill: #FFFFFF;\n",
              "    }\n",
              "  </style>\n",
              "\n",
              "      <script>\n",
              "        const buttonEl =\n",
              "          document.querySelector('#df-7aeb5dca-5480-430a-9e00-c9bb3458407b button.colab-df-convert');\n",
              "        buttonEl.style.display =\n",
              "          google.colab.kernel.accessAllowed ? 'block' : 'none';\n",
              "\n",
              "        async function convertToInteractive(key) {\n",
              "          const element = document.querySelector('#df-7aeb5dca-5480-430a-9e00-c9bb3458407b');\n",
              "          const dataTable =\n",
              "            await google.colab.kernel.invokeFunction('convertToInteractive',\n",
              "                                                     [key], {});\n",
              "          if (!dataTable) return;\n",
              "\n",
              "          const docLinkHtml = 'Like what you see? Visit the ' +\n",
              "            '<a target=\"_blank\" href=https://colab.research.google.com/notebooks/data_table.ipynb>data table notebook</a>'\n",
              "            + ' to learn more about interactive tables.';\n",
              "          element.innerHTML = '';\n",
              "          dataTable['output_type'] = 'display_data';\n",
              "          await google.colab.output.renderOutput(dataTable, element);\n",
              "          const docLink = document.createElement('div');\n",
              "          docLink.innerHTML = docLinkHtml;\n",
              "          element.appendChild(docLink);\n",
              "        }\n",
              "      </script>\n",
              "    </div>\n",
              "  </div>\n",
              "  "
            ],
            "text/plain": [
              "            category  all  important  percentage\n",
              "0          بین الملل  117         35   19.774011\n",
              "1            اقتصادی   81         38   21.468927\n",
              "2              حوادث   51          1    0.564972\n",
              "3            اجتماعی   68         13    7.344633\n",
              "4              مذهبی   58          1    0.564972\n",
              "5       علمی و پزشکی   68         36   20.338983\n",
              "6              ورزشی  118         26   14.689266\n",
              "7        فرهنگ و هنر   68          0    0.000000\n",
              "8  فناوری و ارتباطات   54         10    5.649718\n",
              "9              سیاسی   74         17    9.604520"
            ]
          },
          "execution_count": 196,
          "metadata": {},
          "output_type": "execute_result"
        }
      ],
      "source": [
        "dist(test['category'], y_pred_tfidf)"
      ]
    },
    {
      "cell_type": "code",
      "execution_count": null,
      "metadata": {
        "colab": {
          "base_uri": "https://localhost:8080/",
          "height": 399
        },
        "id": "ymAgDPdJGr7-",
        "outputId": "83e3e0b5-118c-46f7-c69a-13cfb31e741f"
      },
      "outputs": [
        {
          "name": "stdout",
          "output_type": "stream",
          "text": [
            "f1-score macro: 0.6288738007137517\n",
            "f1-score micro: 0.7635402906208718\n",
            "accuracy score: 0.7635402906208718\n",
            "recall score: 0.6695656325884696\n",
            "precision score: 0.6166103762078995\n",
            "ROCAUC score: 0.6695656325884697\n"
          ]
        },
        {
          "data": {
            "image/png": "[encoded data removed]",
            "text/plain": [
              "<Figure size 432x288 with 2 Axes>"
            ]
          },
          "metadata": {
            "needs_background": "light"
          },
          "output_type": "display_data"
        }
      ],
      "source": [
        "svm_tfidf = svm.SVC(C=1, class_weight={0:0.2, 1:3}, degree=2, kernel='linear')\n",
        "svm_tfidf.fit(X_train_tfidf, y_train_tfidf)\n",
        "predictions_svm_tfidf = svm_tfidf.predict(X_test_tfidf)\n",
        "print_evaluation(y_test_tfidf, predictions_svm_tfidf)"
      ]
    },
    {
      "cell_type": "code",
      "execution_count": null,
      "metadata": {
        "colab": {
          "base_uri": "https://localhost:8080/",
          "height": 470
        },
        "id": "K9Tkm15Cj2H6",
        "outputId": "81c25b0a-3a5d-42a3-d23e-6c80168b173a"
      },
      "outputs": [
        {
          "name": "stderr",
          "output_type": "stream",
          "text": [
            "/usr/local/lib/python3.7/dist-packages/pandas/core/indexing.py:1732: SettingWithCopyWarning: \n",
            "A value is trying to be set on a copy of a slice from a DataFrame\n",
            "\n",
            "See the caveats in the documentation: https://pandas.pydata.org/pandas-docs/stable/user_guide/indexing.html#returning-a-view-versus-a-copy\n",
            "  self._setitem_single_block(indexer, value, name)\n"
          ]
        },
        {
          "data": {
            "text/html": [
              "\n",
              "  <div id=\"df-15de5bfd-ff6c-48fd-be2c-94f2b6cacc5e\">\n",
              "    <div class=\"colab-df-container\">\n",
              "      <div>\n",
              "<style scoped>\n",
              "    .dataframe tbody tr th:only-of-type {\n",
              "        vertical-align: middle;\n",
              "    }\n",
              "\n",
              "    .dataframe tbody tr th {\n",
              "        vertical-align: top;\n",
              "    }\n",
              "\n",
              "    .dataframe thead th {\n",
              "        text-align: right;\n",
              "    }\n",
              "</style>\n",
              "<table border=\"1\" class=\"dataframe\">\n",
              "  <thead>\n",
              "    <tr style=\"text-align: right;\">\n",
              "      <th></th>\n",
              "      <th>category</th>\n",
              "      <th>all</th>\n",
              "      <th>important</th>\n",
              "      <th>percentage</th>\n",
              "    </tr>\n",
              "  </thead>\n",
              "  <tbody>\n",
              "    <tr>\n",
              "      <th>0</th>\n",
              "      <td>بین الملل</td>\n",
              "      <td>117</td>\n",
              "      <td>37</td>\n",
              "      <td>19.786096</td>\n",
              "    </tr>\n",
              "    <tr>\n",
              "      <th>1</th>\n",
              "      <td>اقتصادی</td>\n",
              "      <td>81</td>\n",
              "      <td>35</td>\n",
              "      <td>18.716578</td>\n",
              "    </tr>\n",
              "    <tr>\n",
              "      <th>2</th>\n",
              "      <td>حوادث</td>\n",
              "      <td>51</td>\n",
              "      <td>2</td>\n",
              "      <td>1.069519</td>\n",
              "    </tr>\n",
              "    <tr>\n",
              "      <th>3</th>\n",
              "      <td>اجتماعی</td>\n",
              "      <td>68</td>\n",
              "      <td>11</td>\n",
              "      <td>5.882353</td>\n",
              "    </tr>\n",
              "    <tr>\n",
              "      <th>4</th>\n",
              "      <td>مذهبی</td>\n",
              "      <td>58</td>\n",
              "      <td>2</td>\n",
              "      <td>1.069519</td>\n",
              "    </tr>\n",
              "    <tr>\n",
              "      <th>5</th>\n",
              "      <td>علمی و پزشکی</td>\n",
              "      <td>68</td>\n",
              "      <td>35</td>\n",
              "      <td>18.716578</td>\n",
              "    </tr>\n",
              "    <tr>\n",
              "      <th>6</th>\n",
              "      <td>ورزشی</td>\n",
              "      <td>118</td>\n",
              "      <td>29</td>\n",
              "      <td>15.508021</td>\n",
              "    </tr>\n",
              "    <tr>\n",
              "      <th>7</th>\n",
              "      <td>فرهنگ و هنر</td>\n",
              "      <td>68</td>\n",
              "      <td>0</td>\n",
              "      <td>0.000000</td>\n",
              "    </tr>\n",
              "    <tr>\n",
              "      <th>8</th>\n",
              "      <td>فناوری و ارتباطات</td>\n",
              "      <td>54</td>\n",
              "      <td>19</td>\n",
              "      <td>10.160428</td>\n",
              "    </tr>\n",
              "    <tr>\n",
              "      <th>9</th>\n",
              "      <td>سیاسی</td>\n",
              "      <td>74</td>\n",
              "      <td>17</td>\n",
              "      <td>9.090909</td>\n",
              "    </tr>\n",
              "  </tbody>\n",
              "</table>\n",
              "</div>\n",
              "      <button class=\"colab-df-convert\" onclick=\"convertToInteractive('df-15de5bfd-ff6c-48fd-be2c-94f2b6cacc5e')\"\n",
              "              title=\"Convert this dataframe to an interactive table.\"\n",
              "              style=\"display:none;\">\n",
              "        \n",
              "  <svg xmlns=\"http://www.w3.org/2000/svg\" height=\"24px\"viewBox=\"0 0 24 24\"\n",
              "       width=\"24px\">\n",
              "    <path d=\"M0 0h24v24H0V0z\" fill=\"none\"/>\n",
              "    <path d=\"M18.56 5.44l.94 2.06.94-2.06 2.06-.94-2.06-.94-.94-2.06-.94 2.06-2.06.94zm-11 1L8.5 8.5l.94-2.06 2.06-.94-2.06-.94L8.5 2.5l-.94 2.06-2.06.94zm10 10l.94 2.06.94-2.06 2.06-.94-2.06-.94-.94-2.06-.94 2.06-2.06.94z\"/><path d=\"M17.41 7.96l-1.37-1.37c-.4-.4-.92-.59-1.43-.59-.52 0-1.04.2-1.43.59L10.3 9.45l-7.72 7.72c-.78.78-.78 2.05 0 2.83L4 21.41c.39.39.9.59 1.41.59.51 0 1.02-.2 1.41-.59l7.78-7.78 2.81-2.81c.8-.78.8-2.07 0-2.86zM5.41 20L4 18.59l7.72-7.72 1.47 1.35L5.41 20z\"/>\n",
              "  </svg>\n",
              "      </button>\n",
              "      \n",
              "  <style>\n",
              "    .colab-df-container {\n",
              "      display:flex;\n",
              "      flex-wrap:wrap;\n",
              "      gap: 12px;\n",
              "    }\n",
              "\n",
              "    .colab-df-convert {\n",
              "      background-color: #E8F0FE;\n",
              "      border: none;\n",
              "      border-radius: 50%;\n",
              "      cursor: pointer;\n",
              "      display: none;\n",
              "      fill: #1967D2;\n",
              "      height: 32px;\n",
              "      padding: 0 0 0 0;\n",
              "      width: 32px;\n",
              "    }\n",
              "\n",
              "    .colab-df-convert:hover {\n",
              "      background-color: #E2EBFA;\n",
              "      box-shadow: 0px 1px 2px rgba(60, 64, 67, 0.3), 0px 1px 3px 1px rgba(60, 64, 67, 0.15);\n",
              "      fill: #174EA6;\n",
              "    }\n",
              "\n",
              "    [theme=dark] .colab-df-convert {\n",
              "      background-color: #3B4455;\n",
              "      fill: #D2E3FC;\n",
              "    }\n",
              "\n",
              "    [theme=dark] .colab-df-convert:hover {\n",
              "      background-color: #434B5C;\n",
              "      box-shadow: 0px 1px 3px 1px rgba(0, 0, 0, 0.15);\n",
              "      filter: drop-shadow(0px 1px 2px rgba(0, 0, 0, 0.3));\n",
              "      fill: #FFFFFF;\n",
              "    }\n",
              "  </style>\n",
              "\n",
              "      <script>\n",
              "        const buttonEl =\n",
              "          document.querySelector('#df-15de5bfd-ff6c-48fd-be2c-94f2b6cacc5e button.colab-df-convert');\n",
              "        buttonEl.style.display =\n",
              "          google.colab.kernel.accessAllowed ? 'block' : 'none';\n",
              "\n",
              "        async function convertToInteractive(key) {\n",
              "          const element = document.querySelector('#df-15de5bfd-ff6c-48fd-be2c-94f2b6cacc5e');\n",
              "          const dataTable =\n",
              "            await google.colab.kernel.invokeFunction('convertToInteractive',\n",
              "                                                     [key], {});\n",
              "          if (!dataTable) return;\n",
              "\n",
              "          const docLinkHtml = 'Like what you see? Visit the ' +\n",
              "            '<a target=\"_blank\" href=https://colab.research.google.com/notebooks/data_table.ipynb>data table notebook</a>'\n",
              "            + ' to learn more about interactive tables.';\n",
              "          element.innerHTML = '';\n",
              "          dataTable['output_type'] = 'display_data';\n",
              "          await google.colab.output.renderOutput(dataTable, element);\n",
              "          const docLink = document.createElement('div');\n",
              "          docLink.innerHTML = docLinkHtml;\n",
              "          element.appendChild(docLink);\n",
              "        }\n",
              "      </script>\n",
              "    </div>\n",
              "  </div>\n",
              "  "
            ],
            "text/plain": [
              "            category  all  important  percentage\n",
              "0          بین الملل  117         37   19.786096\n",
              "1            اقتصادی   81         35   18.716578\n",
              "2              حوادث   51          2    1.069519\n",
              "3            اجتماعی   68         11    5.882353\n",
              "4              مذهبی   58          2    1.069519\n",
              "5       علمی و پزشکی   68         35   18.716578\n",
              "6              ورزشی  118         29   15.508021\n",
              "7        فرهنگ و هنر   68          0    0.000000\n",
              "8  فناوری و ارتباطات   54         19   10.160428\n",
              "9              سیاسی   74         17    9.090909"
            ]
          },
          "execution_count": 198,
          "metadata": {},
          "output_type": "execute_result"
        }
      ],
      "source": [
        "dist(test['category'], predictions_svm_tfidf)"
      ]
    },
    {
      "cell_type": "markdown",
      "metadata": {
        "id": "z6aUEqK09VQa"
      },
      "source": [
        "# bias against journal name"
      ]
    },
    {
      "cell_type": "code",
      "execution_count": null,
      "metadata": {
        "id": "o82bJRhwa2an"
      },
      "outputs": [],
      "source": [
        "# a class to hold our data structure\n",
        "class Data:\n",
        "  def __init__(self, data, preprocessing=False):\n",
        "    self.title = data['title']\n",
        "    self.text = re.sub(data['source_name'], '', str(data['text']))\n",
        "    self.category = data['category']\n",
        "    self.label = label_encoder.transform([data['tag']])[0]\n",
        "    self.source_name = data['source_name']\n",
        "    self.keywords = data['keywords']\n",
        "# label encoder\n",
        "all_labels = ['مهم','غیر مهم']\n",
        "label_encoder.fit(all_labels)\n",
        "classes = label_encoder.classes_\n",
        "\n",
        "# convert raw data into Data objects\n",
        "news_data = []\n",
        "for index, data in news.iterrows():\n",
        "  news_data.append(Data(data, True))"
      ]
    },
    {
      "cell_type": "code",
      "execution_count": null,
      "metadata": {
        "id": "Jhp2kgX-a4DA"
      },
      "outputs": [],
      "source": [
        "train_data, eval_data, test_data = get_data(news_data, preprocess={\n",
        "    'remove_stopwords': True,\n",
        "    'remove_punctuations': True,\n",
        "    'remove_numbers': True})"
      ]
    },
    {
      "cell_type": "code",
      "execution_count": null,
      "metadata": {
        "id": "YIur5-zvbAFP"
      },
      "outputs": [],
      "source": [
        "# train data\n",
        "title = []\n",
        "text = []\n",
        "category = []\n",
        "label = []\n",
        "source_name = []\n",
        "keywords = []\n",
        "\n",
        "for i in range(len(train_data)):\n",
        "    title.append(train_data[i].title)\n",
        "    text.append(train_data[i].text)\n",
        "    category.append(train_data[i].category)\n",
        "    label.append(train_data[i].label)\n",
        "    source_name.append(train_data[i].source_name)\n",
        "    keywords.append(train_data[i].keywords)\n",
        "zippedList =  list(zip(title, text, category, keywords, source_name, label))\n",
        "# Create a dataframe from zipped list\n",
        "train = pd.DataFrame(zippedList, columns = ['title' , 'text', 'category', 'keywords', 'source_name','label'])\n",
        "print(train.shape)\n",
        "train.head(5)"
      ]
    },
    {
      "cell_type": "code",
      "execution_count": null,
      "metadata": {
        "id": "uh-E_QD9bBKn"
      },
      "outputs": [],
      "source": [
        "# test data\n",
        "title = []\n",
        "text = []\n",
        "category = []\n",
        "label = []\n",
        "source_name = []\n",
        "keywords = []\n",
        "\n",
        "for i in range(len(test_data)):\n",
        "    title.append(test_data[i].title)\n",
        "    text.append(test_data[i].text)\n",
        "    category.append(test_data[i].category)\n",
        "    label.append(test_data[i].label)\n",
        "    source_name.append(test_data[i].source_name)\n",
        "    keywords.append(test_data[i].keywords)\n",
        "zippedList =  list(zip(title, text, category, keywords, source_name, label))\n",
        "# Create a dataframe from zipped list\n",
        "test = pd.DataFrame(zippedList, columns = ['title' , 'text', 'category', 'keywords', 'source_name','label'])\n",
        "print(test.shape)\n",
        "test.head(5)"
      ]
    },
    {
      "cell_type": "code",
      "execution_count": null,
      "metadata": {
        "id": "RvvtpdjhbG_d"
      },
      "outputs": [],
      "source": [
        "train_tfidf, tfidf_vectorizer = tfidf(train[\"text\"])\n",
        "# val_tfidf = tfidf_vectorizer.transform(val[\"text\"])\n",
        "test_tfidf = tfidf_vectorizer.transform(test[\"text\"])"
      ]
    },
    {
      "cell_type": "code",
      "execution_count": null,
      "metadata": {
        "id": "qL7XRst7bWud"
      },
      "outputs": [],
      "source": [
        "train_bow, bow_vectorizer = bow(train[\"text\"])\n",
        "# val_bow = bow_vectorizer.transform(val[\"text\"])\n",
        "test_bow = bow_vectorizer.transform(test[\"text\"])"
      ]
    },
    {
      "cell_type": "code",
      "execution_count": null,
      "metadata": {
        "id": "T7d-vD-ubWkt"
      },
      "outputs": [],
      "source": [
        "X_train_tfidf = train_tfidf\n",
        "y_train_tfidf = train[\"label\"].values\n",
        "\n",
        "# X_val_tfidf = val_tfidf\n",
        "# y_val_tfidf = val[\"label\"].values\n",
        "\n",
        "X_test_tfidf = test_tfidf\n",
        "y_test_tfidf = test[\"label\"].values"
      ]
    },
    {
      "cell_type": "code",
      "execution_count": null,
      "metadata": {
        "id": "n-se3rpzbWh2"
      },
      "outputs": [],
      "source": [
        "X_train_bow = train_bow\n",
        "y_train_bow = train[\"label\"].values\n",
        "\n",
        "# X_val_bow = val_bow\n",
        "# y_val_bow = val[\"label\"].values\n",
        "\n",
        "X_test_bow = test_bow\n",
        "y_test_bow = test[\"label\"].values"
      ]
    },
    {
      "cell_type": "markdown",
      "metadata": {
        "id": "dy2GFTQ1-Rwk"
      },
      "source": [
        "## LR model"
      ]
    },
    {
      "cell_type": "code",
      "execution_count": 18,
      "metadata": {
        "colab": {
          "base_uri": "https://localhost:8080/",
          "height": 399
        },
        "id": "g8Xm_weL9b0j",
        "outputId": "aeb99d84-bf75-4c73-8dcc-a9645a88f5cf"
      },
      "outputs": [
        {
          "name": "stdout",
          "output_type": "stream",
          "text": [
            "f1-score macro: 0.646575756512634\n",
            "f1-score micro: 0.7714663143989433\n",
            "accuracy score: 0.7714663143989432\n",
            "recall score: 0.6998823366555924\n",
            "precision score: 0.6317592846062596\n",
            "ROCAUC score: 0.6998823366555924\n"
          ]
        },
        {
          "data": {
            "image/png": "[encoded data removed]",
            "text/plain": [
              "<Figure size 432x288 with 2 Axes>"
            ]
          },
          "metadata": {
            "needs_background": "light"
          },
          "output_type": "display_data"
        }
      ],
      "source": [
        "from sklearn.linear_model import LogisticRegression\n",
        "model_tfidf = LogisticRegression(C=1, class_weight={0: 0.15, 1: 1}, solver='newton-cg')\n",
        "model_tfidf.fit(X_train_tfidf, y_train_tfidf)\n",
        "y_pred_tfidf = model_tfidf.predict(X_test_tfidf)\n",
        "print_evaluation(y_test_tfidf, y_pred_tfidf)"
      ]
    },
    {
      "cell_type": "markdown",
      "metadata": {
        "id": "JOUklJhC-Zj_"
      },
      "source": [
        "## svm model"
      ]
    },
    {
      "cell_type": "code",
      "execution_count": 19,
      "metadata": {
        "colab": {
          "base_uri": "https://localhost:8080/",
          "height": 399
        },
        "id": "0HpydtoG-bf3",
        "outputId": "9cd2f101-7745-4431-be8b-b205c6be2ec3"
      },
      "outputs": [
        {
          "name": "stdout",
          "output_type": "stream",
          "text": [
            "f1-score macro: 0.647591330972858\n",
            "f1-score micro: 0.7688243064729194\n",
            "accuracy score: 0.7688243064729194\n",
            "recall score: 0.7057101328903654\n",
            "precision score: 0.6329727262965748\n",
            "ROCAUC score: 0.7057101328903654\n"
          ]
        },
        {
          "data": {
            "image/png": "[encoded data removed]",
            "text/plain": [
              "<Figure size 432x288 with 2 Axes>"
            ]
          },
          "metadata": {
            "needs_background": "light"
          },
          "output_type": "display_data"
        }
      ],
      "source": [
        "from sklearn import svm\n",
        "svm_tfidf = svm.SVC(C=1, class_weight={0:0.2, 1:3}, degree=2, kernel='linear')\n",
        "svm_tfidf.fit(X_train_tfidf, y_train_tfidf)\n",
        "predictions_svm_tfidf = svm_tfidf.predict(X_test_tfidf)\n",
        "print_evaluation(y_test_tfidf, predictions_svm_tfidf)"
      ]
    }
  ],
  "metadata": {
    "colab": {
      "collapsed_sections": [
        "LrnHH5Kamya2",
        "lCARkqrp3Xbw",
        "duMfmDw2n7-i",
        "k46J1_RH_2oq",
        "_pNi70e9_5OB"
      ],
      "name": "template.ipynb",
      "provenance": [],
      "toc_visible": true
    },
    "kernelspec": {
      "display_name": "Python 3",
      "name": "python3"
    },
    "language_info": {
      "name": "python"
    }
  },
  "nbformat": 4,
  "nbformat_minor": 0
}
